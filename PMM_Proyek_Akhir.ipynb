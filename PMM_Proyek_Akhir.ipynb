{
  "cells": [
    {
      "cell_type": "markdown",
      "metadata": {
        "id": "xFItWzC0GWas"
      },
      "source": [
        "#Import Library"
      ]
    },
    {
      "cell_type": "code",
      "execution_count": null,
      "metadata": {
        "id": "ugFoqJ3wD_9A"
      },
      "outputs": [],
      "source": [
        "import pandas as pd\n",
        "import numpy as np\n",
        "from sklearn.preprocessing import LabelEncoder\n",
        "from sklearn.preprocessing import StandardScaler\n",
        "import seaborn as sns\n",
        "import matplotlib.pyplot as plt\n",
        "import sklearn.linear_model as lm\n",
        "import sklearn\n",
        "import sklearn.model_selection as ms\n",
        "import sklearn.metrics as met\n",
        "import statsmodels.api as sm\n",
        "import pydotplus as pp\n",
        "import graphviz\n",
        "from sklearn import datasets\n",
        "from statsmodels.stats.outliers_influence import variance_inflation_factor\n",
        "from sklearn.ensemble import RandomForestClassifier\n",
        "from sklearn.tree import DecisionTreeClassifier\n",
        "from xgboost import XGBClassifier\n",
        "from sklearn.metrics import confusion_matrix\n",
        "from sklearn.metrics import classification_report\n",
        "from sklearn.discriminant_analysis import LinearDiscriminantAnalysis, QuadraticDiscriminantAnalysis"
      ]
    },
    {
      "cell_type": "markdown",
      "metadata": {
        "id": "NQhhfRyoGaf_"
      },
      "source": [
        "#Import CSV"
      ]
    },
    {
      "cell_type": "code",
      "execution_count": null,
      "metadata": {
        "colab": {
          "base_uri": "https://localhost:8080/"
        },
        "id": "BKhzWQ_MBYFB",
        "outputId": "842e792c-22f4-4237-a66b-fdfab90e4a0d"
      },
      "outputs": [
        {
          "output_type": "stream",
          "name": "stdout",
          "text": [
            "Drive already mounted at /content/drive/; to attempt to forcibly remount, call drive.mount(\"/content/drive/\", force_remount=True).\n"
          ]
        }
      ],
      "source": [
        "from google.colab import drive\n",
        "drive.mount('/content/drive/')"
      ]
    },
    {
      "cell_type": "code",
      "execution_count": null,
      "metadata": {
        "id": "N4DQbdkJBbsE"
      },
      "outputs": [],
      "source": [
        "#link_file = \"/content/drive/My Drive/PMM Projek Akhir/Dataset.csv\" #Ojan\n",
        "link_file = \"/content/drive/My Drive/Data PMM/Dataset.csv\" #Yofan\n",
        "\n",
        "df = pd.read_csv(link_file)"
      ]
    },
    {
      "cell_type": "markdown",
      "metadata": {
        "id": "gb_lSB0eGfZM"
      },
      "source": [
        "#EDA Dataset"
      ]
    },
    {
      "cell_type": "code",
      "execution_count": null,
      "metadata": {
        "colab": {
          "base_uri": "https://localhost:8080/"
        },
        "id": "Z39Wg-A2Gk_m",
        "outputId": "b14c5664-2065-4f57-e90d-3d693c3fd0a6"
      },
      "outputs": [
        {
          "output_type": "execute_result",
          "data": {
            "text/plain": [
              "          Unnamed: 0            id     member_id      loan_amnt  \\\n",
              "count  373028.000000  3.730280e+05  3.730280e+05  373028.000000   \n",
              "mean   186513.500000  1.308019e+07  1.459837e+07   14317.583667   \n",
              "std    107684.052445  1.089400e+07  1.168287e+07    8291.196247   \n",
              "min         0.000000  5.473400e+04  7.047300e+04     500.000000   \n",
              "25%     93256.750000  3.640449e+06  4.379994e+06    8000.000000   \n",
              "50%    186513.500000  1.010738e+07  1.194096e+07   12000.000000   \n",
              "75%    279770.250000  2.073158e+07  2.300207e+07   20000.000000   \n",
              "max    373027.000000  3.785444e+07  4.061720e+07   35000.000000   \n",
              "\n",
              "         funded_amnt       int_rate    installment    annual_inc  \\\n",
              "count  373028.000000  373028.000000  373028.000000  3.730240e+05   \n",
              "mean    14292.268945      13.833770     431.986953  7.334189e+04   \n",
              "std      8279.296230       4.354663     243.518563  5.613241e+04   \n",
              "min       500.000000       5.420000      15.670000  1.896000e+03   \n",
              "25%      8000.000000      10.990000     256.670000  4.500000e+04   \n",
              "50%     12000.000000      13.660000     379.760000  6.300000e+04   \n",
              "75%     20000.000000      16.490000     566.440000  8.900000e+04   \n",
              "max     35000.000000      26.060000    1409.990000  7.500000e+06   \n",
              "\n",
              "                 dti      total_acc    total_pymnt  total_rec_prncp  \\\n",
              "count  373028.000000  373003.000000  373028.000000    373028.000000   \n",
              "mean       17.222219      25.069463   11540.311620      8863.673804   \n",
              "std         7.850161      11.591832    8272.661827      7036.196421   \n",
              "min         0.000000       1.000000       0.000000         0.000000   \n",
              "25%        11.370000      17.000000    5550.586971      3705.630000   \n",
              "50%        16.870000      23.000000    9419.576549      6803.485000   \n",
              "75%        22.790000      32.000000   15306.968130     12000.000000   \n",
              "max        39.990000     156.000000   57777.579870     35000.030000   \n",
              "\n",
              "          recoveries  last_pymnt_amnt  loan_status_class  \n",
              "count  373028.000000    373028.000000      373028.000000  \n",
              "mean       86.233437      3124.798466           0.890695  \n",
              "std       557.007436      5559.815170           0.312023  \n",
              "min         0.000000         0.000000           0.000000  \n",
              "25%         0.000000       312.387500           1.000000  \n",
              "50%         0.000000       545.960000           1.000000  \n",
              "75%         0.000000      3179.735000           1.000000  \n",
              "max     33520.270000     36170.140000           1.000000  "
            ],
            "text/html": [
              "\n",
              "  <div id=\"df-332a3471-a010-4b74-ba6f-2921cdc872aa\">\n",
              "    <div class=\"colab-df-container\">\n",
              "      <div>\n",
              "<style scoped>\n",
              "    .dataframe tbody tr th:only-of-type {\n",
              "        vertical-align: middle;\n",
              "    }\n",
              "\n",
              "    .dataframe tbody tr th {\n",
              "        vertical-align: top;\n",
              "    }\n",
              "\n",
              "    .dataframe thead th {\n",
              "        text-align: right;\n",
              "    }\n",
              "</style>\n",
              "<table border=\"1\" class=\"dataframe\">\n",
              "  <thead>\n",
              "    <tr style=\"text-align: right;\">\n",
              "      <th></th>\n",
              "      <th>Unnamed: 0</th>\n",
              "      <th>id</th>\n",
              "      <th>member_id</th>\n",
              "      <th>loan_amnt</th>\n",
              "      <th>funded_amnt</th>\n",
              "      <th>int_rate</th>\n",
              "      <th>installment</th>\n",
              "      <th>annual_inc</th>\n",
              "      <th>dti</th>\n",
              "      <th>total_acc</th>\n",
              "      <th>total_pymnt</th>\n",
              "      <th>total_rec_prncp</th>\n",
              "      <th>recoveries</th>\n",
              "      <th>last_pymnt_amnt</th>\n",
              "      <th>loan_status_class</th>\n",
              "    </tr>\n",
              "  </thead>\n",
              "  <tbody>\n",
              "    <tr>\n",
              "      <th>count</th>\n",
              "      <td>373028.000000</td>\n",
              "      <td>3.730280e+05</td>\n",
              "      <td>3.730280e+05</td>\n",
              "      <td>373028.000000</td>\n",
              "      <td>373028.000000</td>\n",
              "      <td>373028.000000</td>\n",
              "      <td>373028.000000</td>\n",
              "      <td>3.730240e+05</td>\n",
              "      <td>373028.000000</td>\n",
              "      <td>373003.000000</td>\n",
              "      <td>373028.000000</td>\n",
              "      <td>373028.000000</td>\n",
              "      <td>373028.000000</td>\n",
              "      <td>373028.000000</td>\n",
              "      <td>373028.000000</td>\n",
              "    </tr>\n",
              "    <tr>\n",
              "      <th>mean</th>\n",
              "      <td>186513.500000</td>\n",
              "      <td>1.308019e+07</td>\n",
              "      <td>1.459837e+07</td>\n",
              "      <td>14317.583667</td>\n",
              "      <td>14292.268945</td>\n",
              "      <td>13.833770</td>\n",
              "      <td>431.986953</td>\n",
              "      <td>7.334189e+04</td>\n",
              "      <td>17.222219</td>\n",
              "      <td>25.069463</td>\n",
              "      <td>11540.311620</td>\n",
              "      <td>8863.673804</td>\n",
              "      <td>86.233437</td>\n",
              "      <td>3124.798466</td>\n",
              "      <td>0.890695</td>\n",
              "    </tr>\n",
              "    <tr>\n",
              "      <th>std</th>\n",
              "      <td>107684.052445</td>\n",
              "      <td>1.089400e+07</td>\n",
              "      <td>1.168287e+07</td>\n",
              "      <td>8291.196247</td>\n",
              "      <td>8279.296230</td>\n",
              "      <td>4.354663</td>\n",
              "      <td>243.518563</td>\n",
              "      <td>5.613241e+04</td>\n",
              "      <td>7.850161</td>\n",
              "      <td>11.591832</td>\n",
              "      <td>8272.661827</td>\n",
              "      <td>7036.196421</td>\n",
              "      <td>557.007436</td>\n",
              "      <td>5559.815170</td>\n",
              "      <td>0.312023</td>\n",
              "    </tr>\n",
              "    <tr>\n",
              "      <th>min</th>\n",
              "      <td>0.000000</td>\n",
              "      <td>5.473400e+04</td>\n",
              "      <td>7.047300e+04</td>\n",
              "      <td>500.000000</td>\n",
              "      <td>500.000000</td>\n",
              "      <td>5.420000</td>\n",
              "      <td>15.670000</td>\n",
              "      <td>1.896000e+03</td>\n",
              "      <td>0.000000</td>\n",
              "      <td>1.000000</td>\n",
              "      <td>0.000000</td>\n",
              "      <td>0.000000</td>\n",
              "      <td>0.000000</td>\n",
              "      <td>0.000000</td>\n",
              "      <td>0.000000</td>\n",
              "    </tr>\n",
              "    <tr>\n",
              "      <th>25%</th>\n",
              "      <td>93256.750000</td>\n",
              "      <td>3.640449e+06</td>\n",
              "      <td>4.379994e+06</td>\n",
              "      <td>8000.000000</td>\n",
              "      <td>8000.000000</td>\n",
              "      <td>10.990000</td>\n",
              "      <td>256.670000</td>\n",
              "      <td>4.500000e+04</td>\n",
              "      <td>11.370000</td>\n",
              "      <td>17.000000</td>\n",
              "      <td>5550.586971</td>\n",
              "      <td>3705.630000</td>\n",
              "      <td>0.000000</td>\n",
              "      <td>312.387500</td>\n",
              "      <td>1.000000</td>\n",
              "    </tr>\n",
              "    <tr>\n",
              "      <th>50%</th>\n",
              "      <td>186513.500000</td>\n",
              "      <td>1.010738e+07</td>\n",
              "      <td>1.194096e+07</td>\n",
              "      <td>12000.000000</td>\n",
              "      <td>12000.000000</td>\n",
              "      <td>13.660000</td>\n",
              "      <td>379.760000</td>\n",
              "      <td>6.300000e+04</td>\n",
              "      <td>16.870000</td>\n",
              "      <td>23.000000</td>\n",
              "      <td>9419.576549</td>\n",
              "      <td>6803.485000</td>\n",
              "      <td>0.000000</td>\n",
              "      <td>545.960000</td>\n",
              "      <td>1.000000</td>\n",
              "    </tr>\n",
              "    <tr>\n",
              "      <th>75%</th>\n",
              "      <td>279770.250000</td>\n",
              "      <td>2.073158e+07</td>\n",
              "      <td>2.300207e+07</td>\n",
              "      <td>20000.000000</td>\n",
              "      <td>20000.000000</td>\n",
              "      <td>16.490000</td>\n",
              "      <td>566.440000</td>\n",
              "      <td>8.900000e+04</td>\n",
              "      <td>22.790000</td>\n",
              "      <td>32.000000</td>\n",
              "      <td>15306.968130</td>\n",
              "      <td>12000.000000</td>\n",
              "      <td>0.000000</td>\n",
              "      <td>3179.735000</td>\n",
              "      <td>1.000000</td>\n",
              "    </tr>\n",
              "    <tr>\n",
              "      <th>max</th>\n",
              "      <td>373027.000000</td>\n",
              "      <td>3.785444e+07</td>\n",
              "      <td>4.061720e+07</td>\n",
              "      <td>35000.000000</td>\n",
              "      <td>35000.000000</td>\n",
              "      <td>26.060000</td>\n",
              "      <td>1409.990000</td>\n",
              "      <td>7.500000e+06</td>\n",
              "      <td>39.990000</td>\n",
              "      <td>156.000000</td>\n",
              "      <td>57777.579870</td>\n",
              "      <td>35000.030000</td>\n",
              "      <td>33520.270000</td>\n",
              "      <td>36170.140000</td>\n",
              "      <td>1.000000</td>\n",
              "    </tr>\n",
              "  </tbody>\n",
              "</table>\n",
              "</div>\n",
              "      <button class=\"colab-df-convert\" onclick=\"convertToInteractive('df-332a3471-a010-4b74-ba6f-2921cdc872aa')\"\n",
              "              title=\"Convert this dataframe to an interactive table.\"\n",
              "              style=\"display:none;\">\n",
              "        \n",
              "  <svg xmlns=\"http://www.w3.org/2000/svg\" height=\"24px\"viewBox=\"0 0 24 24\"\n",
              "       width=\"24px\">\n",
              "    <path d=\"M0 0h24v24H0V0z\" fill=\"none\"/>\n",
              "    <path d=\"M18.56 5.44l.94 2.06.94-2.06 2.06-.94-2.06-.94-.94-2.06-.94 2.06-2.06.94zm-11 1L8.5 8.5l.94-2.06 2.06-.94-2.06-.94L8.5 2.5l-.94 2.06-2.06.94zm10 10l.94 2.06.94-2.06 2.06-.94-2.06-.94-.94-2.06-.94 2.06-2.06.94z\"/><path d=\"M17.41 7.96l-1.37-1.37c-.4-.4-.92-.59-1.43-.59-.52 0-1.04.2-1.43.59L10.3 9.45l-7.72 7.72c-.78.78-.78 2.05 0 2.83L4 21.41c.39.39.9.59 1.41.59.51 0 1.02-.2 1.41-.59l7.78-7.78 2.81-2.81c.8-.78.8-2.07 0-2.86zM5.41 20L4 18.59l7.72-7.72 1.47 1.35L5.41 20z\"/>\n",
              "  </svg>\n",
              "      </button>\n",
              "      \n",
              "  <style>\n",
              "    .colab-df-container {\n",
              "      display:flex;\n",
              "      flex-wrap:wrap;\n",
              "      gap: 12px;\n",
              "    }\n",
              "\n",
              "    .colab-df-convert {\n",
              "      background-color: #E8F0FE;\n",
              "      border: none;\n",
              "      border-radius: 50%;\n",
              "      cursor: pointer;\n",
              "      display: none;\n",
              "      fill: #1967D2;\n",
              "      height: 32px;\n",
              "      padding: 0 0 0 0;\n",
              "      width: 32px;\n",
              "    }\n",
              "\n",
              "    .colab-df-convert:hover {\n",
              "      background-color: #E2EBFA;\n",
              "      box-shadow: 0px 1px 2px rgba(60, 64, 67, 0.3), 0px 1px 3px 1px rgba(60, 64, 67, 0.15);\n",
              "      fill: #174EA6;\n",
              "    }\n",
              "\n",
              "    [theme=dark] .colab-df-convert {\n",
              "      background-color: #3B4455;\n",
              "      fill: #D2E3FC;\n",
              "    }\n",
              "\n",
              "    [theme=dark] .colab-df-convert:hover {\n",
              "      background-color: #434B5C;\n",
              "      box-shadow: 0px 1px 3px 1px rgba(0, 0, 0, 0.15);\n",
              "      filter: drop-shadow(0px 1px 2px rgba(0, 0, 0, 0.3));\n",
              "      fill: #FFFFFF;\n",
              "    }\n",
              "  </style>\n",
              "\n",
              "      <script>\n",
              "        const buttonEl =\n",
              "          document.querySelector('#df-332a3471-a010-4b74-ba6f-2921cdc872aa button.colab-df-convert');\n",
              "        buttonEl.style.display =\n",
              "          google.colab.kernel.accessAllowed ? 'block' : 'none';\n",
              "\n",
              "        async function convertToInteractive(key) {\n",
              "          const element = document.querySelector('#df-332a3471-a010-4b74-ba6f-2921cdc872aa');\n",
              "          const dataTable =\n",
              "            await google.colab.kernel.invokeFunction('convertToInteractive',\n",
              "                                                     [key], {});\n",
              "          if (!dataTable) return;\n",
              "\n",
              "          const docLinkHtml = 'Like what you see? Visit the ' +\n",
              "            '<a target=\"_blank\" href=https://colab.research.google.com/notebooks/data_table.ipynb>data table notebook</a>'\n",
              "            + ' to learn more about interactive tables.';\n",
              "          element.innerHTML = '';\n",
              "          dataTable['output_type'] = 'display_data';\n",
              "          await google.colab.output.renderOutput(dataTable, element);\n",
              "          const docLink = document.createElement('div');\n",
              "          docLink.innerHTML = docLinkHtml;\n",
              "          element.appendChild(docLink);\n",
              "        }\n",
              "      </script>\n",
              "    </div>\n",
              "  </div>\n",
              "  "
            ]
          },
          "metadata": {},
          "execution_count": 4
        }
      ],
      "source": [
        "df.describe()"
      ]
    },
    {
      "cell_type": "code",
      "execution_count": null,
      "metadata": {
        "colab": {
          "base_uri": "https://localhost:8080/"
        },
        "id": "cszZNoxhfNpf",
        "outputId": "88923f79-1bc0-4452-eb70-930cf701fc8e"
      },
      "outputs": [
        {
          "output_type": "execute_result",
          "data": {
            "text/plain": [
              "   Unnamed: 0        id  member_id  loan_amnt  funded_amnt        term  \\\n",
              "0           0  10588532   12470492      15000        15000   36 months   \n",
              "1           1  11215587   13127755       8000         8000   60 months   \n",
              "2           2  14218271   16270650      12150        12150   60 months   \n",
              "3           3   6504869    8057011      10000        10000   36 months   \n",
              "4           4   3929378    5022980      15825        15825   36 months   \n",
              "\n",
              "   int_rate  installment grade sub_grade  ... zip_code addr_state    dti  \\\n",
              "0      8.90       476.30     A        A5  ...    541xx         WI  17.01   \n",
              "1     18.25       204.24     D        D3  ...    370xx         TN  23.46   \n",
              "2     18.92       314.65     D        D4  ...    376xx         TN  31.07   \n",
              "3      6.03       304.36     A        A1  ...    376xx         TN   9.16   \n",
              "4     12.12       526.53     B        B3  ...    986xx         WA  17.94   \n",
              "\n",
              "   total_acc total_pymnt total_rec_prncp recoveries last_pymnt_amnt  \\\n",
              "0       32.0    16561.02        15000.00        0.0         8940.22   \n",
              "1       25.0     4697.52         2253.46        0.0          204.24   \n",
              "2       22.0     6293.00         2867.76        0.0          314.65   \n",
              "3       17.0    10858.01        10000.00        0.0         3553.37   \n",
              "4       31.0     4736.52         3435.17        0.0          526.53   \n",
              "\n",
              "  application_type  loan_status_class  \n",
              "0       INDIVIDUAL                  1  \n",
              "1       INDIVIDUAL                  1  \n",
              "2       INDIVIDUAL                  1  \n",
              "3       INDIVIDUAL                  1  \n",
              "4       INDIVIDUAL                  0  \n",
              "\n",
              "[5 rows x 27 columns]"
            ],
            "text/html": [
              "\n",
              "  <div id=\"df-a0de1a05-d872-4fe1-8f6d-315d1eefdd71\">\n",
              "    <div class=\"colab-df-container\">\n",
              "      <div>\n",
              "<style scoped>\n",
              "    .dataframe tbody tr th:only-of-type {\n",
              "        vertical-align: middle;\n",
              "    }\n",
              "\n",
              "    .dataframe tbody tr th {\n",
              "        vertical-align: top;\n",
              "    }\n",
              "\n",
              "    .dataframe thead th {\n",
              "        text-align: right;\n",
              "    }\n",
              "</style>\n",
              "<table border=\"1\" class=\"dataframe\">\n",
              "  <thead>\n",
              "    <tr style=\"text-align: right;\">\n",
              "      <th></th>\n",
              "      <th>Unnamed: 0</th>\n",
              "      <th>id</th>\n",
              "      <th>member_id</th>\n",
              "      <th>loan_amnt</th>\n",
              "      <th>funded_amnt</th>\n",
              "      <th>term</th>\n",
              "      <th>int_rate</th>\n",
              "      <th>installment</th>\n",
              "      <th>grade</th>\n",
              "      <th>sub_grade</th>\n",
              "      <th>...</th>\n",
              "      <th>zip_code</th>\n",
              "      <th>addr_state</th>\n",
              "      <th>dti</th>\n",
              "      <th>total_acc</th>\n",
              "      <th>total_pymnt</th>\n",
              "      <th>total_rec_prncp</th>\n",
              "      <th>recoveries</th>\n",
              "      <th>last_pymnt_amnt</th>\n",
              "      <th>application_type</th>\n",
              "      <th>loan_status_class</th>\n",
              "    </tr>\n",
              "  </thead>\n",
              "  <tbody>\n",
              "    <tr>\n",
              "      <th>0</th>\n",
              "      <td>0</td>\n",
              "      <td>10588532</td>\n",
              "      <td>12470492</td>\n",
              "      <td>15000</td>\n",
              "      <td>15000</td>\n",
              "      <td>36 months</td>\n",
              "      <td>8.90</td>\n",
              "      <td>476.30</td>\n",
              "      <td>A</td>\n",
              "      <td>A5</td>\n",
              "      <td>...</td>\n",
              "      <td>541xx</td>\n",
              "      <td>WI</td>\n",
              "      <td>17.01</td>\n",
              "      <td>32.0</td>\n",
              "      <td>16561.02</td>\n",
              "      <td>15000.00</td>\n",
              "      <td>0.0</td>\n",
              "      <td>8940.22</td>\n",
              "      <td>INDIVIDUAL</td>\n",
              "      <td>1</td>\n",
              "    </tr>\n",
              "    <tr>\n",
              "      <th>1</th>\n",
              "      <td>1</td>\n",
              "      <td>11215587</td>\n",
              "      <td>13127755</td>\n",
              "      <td>8000</td>\n",
              "      <td>8000</td>\n",
              "      <td>60 months</td>\n",
              "      <td>18.25</td>\n",
              "      <td>204.24</td>\n",
              "      <td>D</td>\n",
              "      <td>D3</td>\n",
              "      <td>...</td>\n",
              "      <td>370xx</td>\n",
              "      <td>TN</td>\n",
              "      <td>23.46</td>\n",
              "      <td>25.0</td>\n",
              "      <td>4697.52</td>\n",
              "      <td>2253.46</td>\n",
              "      <td>0.0</td>\n",
              "      <td>204.24</td>\n",
              "      <td>INDIVIDUAL</td>\n",
              "      <td>1</td>\n",
              "    </tr>\n",
              "    <tr>\n",
              "      <th>2</th>\n",
              "      <td>2</td>\n",
              "      <td>14218271</td>\n",
              "      <td>16270650</td>\n",
              "      <td>12150</td>\n",
              "      <td>12150</td>\n",
              "      <td>60 months</td>\n",
              "      <td>18.92</td>\n",
              "      <td>314.65</td>\n",
              "      <td>D</td>\n",
              "      <td>D4</td>\n",
              "      <td>...</td>\n",
              "      <td>376xx</td>\n",
              "      <td>TN</td>\n",
              "      <td>31.07</td>\n",
              "      <td>22.0</td>\n",
              "      <td>6293.00</td>\n",
              "      <td>2867.76</td>\n",
              "      <td>0.0</td>\n",
              "      <td>314.65</td>\n",
              "      <td>INDIVIDUAL</td>\n",
              "      <td>1</td>\n",
              "    </tr>\n",
              "    <tr>\n",
              "      <th>3</th>\n",
              "      <td>3</td>\n",
              "      <td>6504869</td>\n",
              "      <td>8057011</td>\n",
              "      <td>10000</td>\n",
              "      <td>10000</td>\n",
              "      <td>36 months</td>\n",
              "      <td>6.03</td>\n",
              "      <td>304.36</td>\n",
              "      <td>A</td>\n",
              "      <td>A1</td>\n",
              "      <td>...</td>\n",
              "      <td>376xx</td>\n",
              "      <td>TN</td>\n",
              "      <td>9.16</td>\n",
              "      <td>17.0</td>\n",
              "      <td>10858.01</td>\n",
              "      <td>10000.00</td>\n",
              "      <td>0.0</td>\n",
              "      <td>3553.37</td>\n",
              "      <td>INDIVIDUAL</td>\n",
              "      <td>1</td>\n",
              "    </tr>\n",
              "    <tr>\n",
              "      <th>4</th>\n",
              "      <td>4</td>\n",
              "      <td>3929378</td>\n",
              "      <td>5022980</td>\n",
              "      <td>15825</td>\n",
              "      <td>15825</td>\n",
              "      <td>36 months</td>\n",
              "      <td>12.12</td>\n",
              "      <td>526.53</td>\n",
              "      <td>B</td>\n",
              "      <td>B3</td>\n",
              "      <td>...</td>\n",
              "      <td>986xx</td>\n",
              "      <td>WA</td>\n",
              "      <td>17.94</td>\n",
              "      <td>31.0</td>\n",
              "      <td>4736.52</td>\n",
              "      <td>3435.17</td>\n",
              "      <td>0.0</td>\n",
              "      <td>526.53</td>\n",
              "      <td>INDIVIDUAL</td>\n",
              "      <td>0</td>\n",
              "    </tr>\n",
              "  </tbody>\n",
              "</table>\n",
              "<p>5 rows × 27 columns</p>\n",
              "</div>\n",
              "      <button class=\"colab-df-convert\" onclick=\"convertToInteractive('df-a0de1a05-d872-4fe1-8f6d-315d1eefdd71')\"\n",
              "              title=\"Convert this dataframe to an interactive table.\"\n",
              "              style=\"display:none;\">\n",
              "        \n",
              "  <svg xmlns=\"http://www.w3.org/2000/svg\" height=\"24px\"viewBox=\"0 0 24 24\"\n",
              "       width=\"24px\">\n",
              "    <path d=\"M0 0h24v24H0V0z\" fill=\"none\"/>\n",
              "    <path d=\"M18.56 5.44l.94 2.06.94-2.06 2.06-.94-2.06-.94-.94-2.06-.94 2.06-2.06.94zm-11 1L8.5 8.5l.94-2.06 2.06-.94-2.06-.94L8.5 2.5l-.94 2.06-2.06.94zm10 10l.94 2.06.94-2.06 2.06-.94-2.06-.94-.94-2.06-.94 2.06-2.06.94z\"/><path d=\"M17.41 7.96l-1.37-1.37c-.4-.4-.92-.59-1.43-.59-.52 0-1.04.2-1.43.59L10.3 9.45l-7.72 7.72c-.78.78-.78 2.05 0 2.83L4 21.41c.39.39.9.59 1.41.59.51 0 1.02-.2 1.41-.59l7.78-7.78 2.81-2.81c.8-.78.8-2.07 0-2.86zM5.41 20L4 18.59l7.72-7.72 1.47 1.35L5.41 20z\"/>\n",
              "  </svg>\n",
              "      </button>\n",
              "      \n",
              "  <style>\n",
              "    .colab-df-container {\n",
              "      display:flex;\n",
              "      flex-wrap:wrap;\n",
              "      gap: 12px;\n",
              "    }\n",
              "\n",
              "    .colab-df-convert {\n",
              "      background-color: #E8F0FE;\n",
              "      border: none;\n",
              "      border-radius: 50%;\n",
              "      cursor: pointer;\n",
              "      display: none;\n",
              "      fill: #1967D2;\n",
              "      height: 32px;\n",
              "      padding: 0 0 0 0;\n",
              "      width: 32px;\n",
              "    }\n",
              "\n",
              "    .colab-df-convert:hover {\n",
              "      background-color: #E2EBFA;\n",
              "      box-shadow: 0px 1px 2px rgba(60, 64, 67, 0.3), 0px 1px 3px 1px rgba(60, 64, 67, 0.15);\n",
              "      fill: #174EA6;\n",
              "    }\n",
              "\n",
              "    [theme=dark] .colab-df-convert {\n",
              "      background-color: #3B4455;\n",
              "      fill: #D2E3FC;\n",
              "    }\n",
              "\n",
              "    [theme=dark] .colab-df-convert:hover {\n",
              "      background-color: #434B5C;\n",
              "      box-shadow: 0px 1px 3px 1px rgba(0, 0, 0, 0.15);\n",
              "      filter: drop-shadow(0px 1px 2px rgba(0, 0, 0, 0.3));\n",
              "      fill: #FFFFFF;\n",
              "    }\n",
              "  </style>\n",
              "\n",
              "      <script>\n",
              "        const buttonEl =\n",
              "          document.querySelector('#df-a0de1a05-d872-4fe1-8f6d-315d1eefdd71 button.colab-df-convert');\n",
              "        buttonEl.style.display =\n",
              "          google.colab.kernel.accessAllowed ? 'block' : 'none';\n",
              "\n",
              "        async function convertToInteractive(key) {\n",
              "          const element = document.querySelector('#df-a0de1a05-d872-4fe1-8f6d-315d1eefdd71');\n",
              "          const dataTable =\n",
              "            await google.colab.kernel.invokeFunction('convertToInteractive',\n",
              "                                                     [key], {});\n",
              "          if (!dataTable) return;\n",
              "\n",
              "          const docLinkHtml = 'Like what you see? Visit the ' +\n",
              "            '<a target=\"_blank\" href=https://colab.research.google.com/notebooks/data_table.ipynb>data table notebook</a>'\n",
              "            + ' to learn more about interactive tables.';\n",
              "          element.innerHTML = '';\n",
              "          dataTable['output_type'] = 'display_data';\n",
              "          await google.colab.output.renderOutput(dataTable, element);\n",
              "          const docLink = document.createElement('div');\n",
              "          docLink.innerHTML = docLinkHtml;\n",
              "          element.appendChild(docLink);\n",
              "        }\n",
              "      </script>\n",
              "    </div>\n",
              "  </div>\n",
              "  "
            ]
          },
          "metadata": {},
          "execution_count": 5
        }
      ],
      "source": [
        "df.head()"
      ]
    },
    {
      "cell_type": "code",
      "execution_count": null,
      "metadata": {
        "colab": {
          "base_uri": "https://localhost:8080/"
        },
        "id": "dhVdQiM6fEFy",
        "outputId": "ccd4c188-b723-44bb-d7f4-7a37384d82e8"
      },
      "outputs": [
        {
          "output_type": "stream",
          "name": "stdout",
          "text": [
            "<class 'pandas.core.frame.DataFrame'>\n",
            "RangeIndex: 373028 entries, 0 to 373027\n",
            "Data columns (total 27 columns):\n",
            " #   Column               Non-Null Count   Dtype  \n",
            "---  ------               --------------   -----  \n",
            " 0   Unnamed: 0           373028 non-null  int64  \n",
            " 1   id                   373028 non-null  int64  \n",
            " 2   member_id            373028 non-null  int64  \n",
            " 3   loan_amnt            373028 non-null  int64  \n",
            " 4   funded_amnt          373028 non-null  int64  \n",
            " 5   term                 373028 non-null  object \n",
            " 6   int_rate             373028 non-null  float64\n",
            " 7   installment          373028 non-null  float64\n",
            " 8   grade                373028 non-null  object \n",
            " 9   sub_grade            373028 non-null  object \n",
            " 10  emp_title            350981 non-null  object \n",
            " 11  emp_length           356235 non-null  object \n",
            " 12  home_ownership       373028 non-null  object \n",
            " 13  annual_inc           373024 non-null  float64\n",
            " 14  verification_status  373028 non-null  object \n",
            " 15  purpose              373028 non-null  object \n",
            " 16  title                373012 non-null  object \n",
            " 17  zip_code             373028 non-null  object \n",
            " 18  addr_state           373028 non-null  object \n",
            " 19  dti                  373028 non-null  float64\n",
            " 20  total_acc            373003 non-null  float64\n",
            " 21  total_pymnt          373028 non-null  float64\n",
            " 22  total_rec_prncp      373028 non-null  float64\n",
            " 23  recoveries           373028 non-null  float64\n",
            " 24  last_pymnt_amnt      373028 non-null  float64\n",
            " 25  application_type     373028 non-null  object \n",
            " 26  loan_status_class    373028 non-null  int64  \n",
            "dtypes: float64(9), int64(6), object(12)\n",
            "memory usage: 76.8+ MB\n"
          ]
        }
      ],
      "source": [
        "df.info()"
      ]
    },
    {
      "cell_type": "code",
      "execution_count": null,
      "metadata": {
        "colab": {
          "base_uri": "https://localhost:8080/"
        },
        "id": "Qae9_BKN3EsU",
        "outputId": "8247681d-bfa0-481a-80ef-a8f9edc69cfa"
      },
      "outputs": [
        {
          "output_type": "execute_result",
          "data": {
            "text/plain": [
              "Unnamed: 0                 0\n",
              "id                         0\n",
              "member_id                  0\n",
              "loan_amnt                  0\n",
              "funded_amnt                0\n",
              "term                       0\n",
              "int_rate                   0\n",
              "installment                0\n",
              "grade                      0\n",
              "sub_grade                  0\n",
              "emp_title              22047\n",
              "emp_length             16793\n",
              "home_ownership             0\n",
              "annual_inc                 4\n",
              "verification_status        0\n",
              "purpose                    0\n",
              "title                     16\n",
              "zip_code                   0\n",
              "addr_state                 0\n",
              "dti                        0\n",
              "total_acc                 25\n",
              "total_pymnt                0\n",
              "total_rec_prncp            0\n",
              "recoveries                 0\n",
              "last_pymnt_amnt            0\n",
              "application_type           0\n",
              "loan_status_class          0\n",
              "dtype: int64"
            ]
          },
          "metadata": {},
          "execution_count": 7
        }
      ],
      "source": [
        "df.isnull().sum()"
      ]
    },
    {
      "cell_type": "markdown",
      "metadata": {
        "id": "Tk6jYR4IH9ZD"
      },
      "source": [
        "##Deskripsi Fitur"
      ]
    },
    {
      "cell_type": "code",
      "execution_count": null,
      "metadata": {
        "colab": {
          "base_uri": "https://localhost:8080/"
        },
        "id": "WdX1u6EY1UN7",
        "outputId": "d649019a-8d44-45b7-c666-0a2b37968482"
      },
      "outputs": [
        {
          "output_type": "execute_result",
          "data": {
            "text/plain": [
              "MORTGAGE    188739\n",
              "RENT        150776\n",
              "OWN          33313\n",
              "OTHER          159\n",
              "NONE            41\n",
              "Name: home_ownership, dtype: int64"
            ]
          },
          "metadata": {},
          "execution_count": 8
        }
      ],
      "source": [
        "df['home_ownership'].value_counts()"
      ]
    },
    {
      "cell_type": "code",
      "execution_count": null,
      "metadata": {
        "colab": {
          "base_uri": "https://localhost:8080/"
        },
        "id": "nmK1jmIkgish",
        "outputId": "dbbd84f8-be1c-4aee-aa97-c7630422cd2e"
      },
      "outputs": [
        {
          "output_type": "execute_result",
          "data": {
            "text/plain": [
              "1    332254\n",
              "0     40774\n",
              "Name: loan_status_class, dtype: int64"
            ]
          },
          "metadata": {},
          "execution_count": 9
        }
      ],
      "source": [
        "df['loan_status_class'].value_counts()"
      ]
    },
    {
      "cell_type": "code",
      "execution_count": null,
      "metadata": {
        "colab": {
          "base_uri": "https://localhost:8080/"
        },
        "id": "BIrYsISIg4z0",
        "outputId": "e77c26e6-032c-49ed-c84c-10d055550d1c"
      },
      "outputs": [
        {
          "output_type": "execute_result",
          "data": {
            "text/plain": [
              "debt_consolidation    219196\n",
              "credit_card            83329\n",
              "home_improvement       21253\n",
              "other                  19006\n",
              "major_purchase          7873\n",
              "small_business          5605\n",
              "car                     4246\n",
              "medical                 3750\n",
              "moving                  2397\n",
              "vacation                2003\n",
              "wedding                 1900\n",
              "house                   1824\n",
              "educational              351\n",
              "renewable_energy         295\n",
              "Name: purpose, dtype: int64"
            ]
          },
          "metadata": {},
          "execution_count": 10
        }
      ],
      "source": [
        "df['purpose'].value_counts()"
      ]
    },
    {
      "cell_type": "code",
      "execution_count": null,
      "metadata": {
        "colab": {
          "base_uri": "https://localhost:8080/"
        },
        "id": "0pwCClMXzMwO",
        "outputId": "c0059242-a105-4d6d-db2f-18369ac47a17"
      },
      "outputs": [
        {
          "output_type": "execute_result",
          "data": {
            "text/plain": [
              "60000.0    14421\n",
              "50000.0    12694\n",
              "65000.0    10671\n",
              "40000.0    10264\n",
              "70000.0     9912\n",
              "           ...  \n",
              "47088.0        1\n",
              "36775.0        1\n",
              "62908.0        1\n",
              "89986.0        1\n",
              "65530.0        1\n",
              "Name: annual_inc, Length: 26981, dtype: int64"
            ]
          },
          "metadata": {},
          "execution_count": 11
        }
      ],
      "source": [
        "df['annual_inc'].value_counts()"
      ]
    },
    {
      "cell_type": "markdown",
      "metadata": {
        "id": "fKqP5WMlX3cd"
      },
      "source": [
        "#Manipulasi Data"
      ]
    },
    {
      "cell_type": "markdown",
      "metadata": {
        "id": "svALrpf5Gv63"
      },
      "source": [
        "## Encode Data Bertipe Non-Numerik"
      ]
    },
    {
      "cell_type": "code",
      "execution_count": null,
      "metadata": {
        "id": "EJqTc9HbG-dV"
      },
      "outputs": [],
      "source": [
        "encoder = LabelEncoder()"
      ]
    },
    {
      "cell_type": "markdown",
      "metadata": {
        "id": "v9EKF-7kG5T6"
      },
      "source": [
        "### Term"
      ]
    },
    {
      "cell_type": "code",
      "execution_count": null,
      "metadata": {
        "colab": {
          "base_uri": "https://localhost:8080/"
        },
        "id": "R4fImRG4mIFI",
        "outputId": "7d6237c6-dbb5-4680-eabe-35cfdbf7ca15"
      },
      "outputs": [
        {
          "output_type": "execute_result",
          "data": {
            "text/plain": [
              " 36 months    270199\n",
              " 60 months    102829\n",
              "Name: term, dtype: int64"
            ]
          },
          "metadata": {},
          "execution_count": 13
        }
      ],
      "source": [
        "df['term'].value_counts()"
      ]
    },
    {
      "cell_type": "code",
      "execution_count": null,
      "metadata": {
        "id": "FMF7i9khLHUj"
      },
      "outputs": [],
      "source": [
        "encoder.fit(df['term'])\n",
        "df['term'] = encoder.transform(df['term'])"
      ]
    },
    {
      "cell_type": "code",
      "execution_count": null,
      "metadata": {
        "colab": {
          "base_uri": "https://localhost:8080/"
        },
        "id": "6RbEuTXPKspq",
        "outputId": "7c13b8ee-fca7-4e88-b603-45ac40150495"
      },
      "outputs": [
        {
          "output_type": "execute_result",
          "data": {
            "text/plain": [
              "0    270199\n",
              "1    102829\n",
              "Name: term, dtype: int64"
            ]
          },
          "metadata": {},
          "execution_count": 15
        }
      ],
      "source": [
        "df['term'].value_counts()"
      ]
    },
    {
      "cell_type": "markdown",
      "metadata": {
        "id": "rTtoFmucHB6x"
      },
      "source": [
        "###Grade"
      ]
    },
    {
      "cell_type": "code",
      "execution_count": null,
      "metadata": {
        "colab": {
          "base_uri": "https://localhost:8080/"
        },
        "id": "K-WkGHT0jasI",
        "outputId": "2ca4d9e4-bc49-4dab-92d9-2095e77238df"
      },
      "outputs": [
        {
          "output_type": "execute_result",
          "data": {
            "text/plain": [
              "B    109344\n",
              "C    100342\n",
              "D     61713\n",
              "A     59810\n",
              "E     28590\n",
              "F     10606\n",
              "G      2623\n",
              "Name: grade, dtype: int64"
            ]
          },
          "metadata": {},
          "execution_count": 16
        }
      ],
      "source": [
        "df['grade'].value_counts()"
      ]
    },
    {
      "cell_type": "code",
      "execution_count": null,
      "metadata": {
        "id": "tWjPqsDkL6IZ"
      },
      "outputs": [],
      "source": [
        "#encoder.fit(df['grade'])\n",
        "#df['grade'] = encoder.transform(df['grade'])\n",
        "#df['grade'].value_counts()\n",
        "\n",
        "#One Hot Encoding\n",
        "df = pd.get_dummies(df, columns=['grade'])\n",
        "\n",
        "#df['grade'] = df['grade'].replace(['G','F','E','D','C','B','A'],[0,1,2,3,4,5,6])"
      ]
    },
    {
      "cell_type": "markdown",
      "metadata": {
        "id": "CiKp_sqyHJOF"
      },
      "source": [
        "###Verification Status"
      ]
    },
    {
      "cell_type": "code",
      "execution_count": null,
      "metadata": {
        "colab": {
          "base_uri": "https://localhost:8080/"
        },
        "id": "KFv-aldWOn94",
        "outputId": "53dd61dc-f8c3-4bd8-a668-95d6ec8da318"
      },
      "outputs": [
        {
          "output_type": "execute_result",
          "data": {
            "text/plain": [
              "Verified           134571\n",
              "Source Verified    119969\n",
              "Not Verified       118488\n",
              "Name: verification_status, dtype: int64"
            ]
          },
          "metadata": {},
          "execution_count": 18
        }
      ],
      "source": [
        "df['verification_status'].value_counts()"
      ]
    },
    {
      "cell_type": "code",
      "execution_count": null,
      "metadata": {
        "colab": {
          "base_uri": "https://localhost:8080/"
        },
        "id": "3iahQk3jOvbA",
        "outputId": "b4012ab8-8b3f-4147-f1ac-374170d7004a"
      },
      "outputs": [
        {
          "output_type": "execute_result",
          "data": {
            "text/plain": [
              "2    134571\n",
              "1    119969\n",
              "0    118488\n",
              "Name: verification_status, dtype: int64"
            ]
          },
          "metadata": {},
          "execution_count": 19
        }
      ],
      "source": [
        "encoder.fit(df['verification_status'])\n",
        "df['verification_status'] = encoder.transform(df['verification_status'])\n",
        "df['verification_status'].value_counts()\n",
        "#df = pd.get_dummies(df, columns=['verification_status'])"
      ]
    },
    {
      "cell_type": "markdown",
      "metadata": {
        "id": "nzG9S_-8Y0av"
      },
      "source": [
        "###Purpose"
      ]
    },
    {
      "cell_type": "code",
      "execution_count": null,
      "metadata": {
        "colab": {
          "base_uri": "https://localhost:8080/"
        },
        "id": "jvm2r49mZFu6",
        "outputId": "55c235b4-5638-4f0a-d4c7-9dce2ddf7d05"
      },
      "outputs": [
        {
          "output_type": "execute_result",
          "data": {
            "text/plain": [
              "debt_consolidation    219196\n",
              "credit_card            83329\n",
              "home_improvement       21253\n",
              "other                  19006\n",
              "major_purchase          7873\n",
              "small_business          5605\n",
              "car                     4246\n",
              "medical                 3750\n",
              "moving                  2397\n",
              "vacation                2003\n",
              "wedding                 1900\n",
              "house                   1824\n",
              "educational              351\n",
              "renewable_energy         295\n",
              "Name: purpose, dtype: int64"
            ]
          },
          "metadata": {},
          "execution_count": 20
        }
      ],
      "source": [
        "df['purpose'].value_counts()"
      ]
    },
    {
      "cell_type": "code",
      "execution_count": null,
      "metadata": {
        "colab": {
          "base_uri": "https://localhost:8080/"
        },
        "id": "RoS7i94HDRny",
        "outputId": "47473f62-1bab-4c75-e751-a781423903e6"
      },
      "outputs": [
        {
          "output_type": "execute_result",
          "data": {
            "text/plain": [
              "1     219196\n",
              "7      83329\n",
              "6      21253\n",
              "0      19006\n",
              "11      7873\n",
              "4       5605\n",
              "9       4246\n",
              "2       3750\n",
              "5       2397\n",
              "13      2003\n",
              "8       1900\n",
              "12      1824\n",
              "3        351\n",
              "10       295\n",
              "Name: purpose, dtype: int64"
            ]
          },
          "metadata": {},
          "execution_count": 21
        }
      ],
      "source": [
        "#df['purpose'] = df['purpose'].replace(['vacation','educational','moving','car','medical','other','renewable_energy','major_purchase','wedding','home_improvement','credit_card','house','debt_consolidation','small_business'],[0,1,2,3,4,5,6,7,8,9,10,11,12,13])\n",
        "\n",
        "df['purpose'] = df['purpose'].replace(['other','debt_consolidation','medical','educational','small_business','moving','home_improvement','credit_card','wedding','car','renewable_energy','major_purchase','house','vacation'],[0,1,2,3,4,5,6,7,8,9,10,11,12,13])\n",
        "df['purpose'].value_counts()"
      ]
    },
    {
      "cell_type": "markdown",
      "metadata": {
        "id": "2YKNKwPNj325"
      },
      "source": [
        "###Home Ownership"
      ]
    },
    {
      "cell_type": "code",
      "execution_count": null,
      "metadata": {
        "colab": {
          "base_uri": "https://localhost:8080/"
        },
        "id": "5GffoXUKZo5h",
        "outputId": "87dc1562-0eaa-4f64-99ba-6768e41f3eae"
      },
      "outputs": [
        {
          "output_type": "execute_result",
          "data": {
            "text/plain": [
              "MORTGAGE    188739\n",
              "RENT        150776\n",
              "OWN          33313\n",
              "OTHER          159\n",
              "NONE            41\n",
              "Name: home_ownership, dtype: int64"
            ]
          },
          "metadata": {},
          "execution_count": 22
        }
      ],
      "source": [
        "df['home_ownership'].value_counts()"
      ]
    },
    {
      "cell_type": "code",
      "execution_count": null,
      "metadata": {
        "colab": {
          "base_uri": "https://localhost:8080/"
        },
        "id": "1QKp6JKjZ8Jq",
        "outputId": "f3b622f5-ef3c-4a26-982f-2c1d165ba0e9"
      },
      "outputs": [
        {
          "output_type": "execute_result",
          "data": {
            "text/plain": [
              "3    188739\n",
              "2    150776\n",
              "4     33313\n",
              "1       159\n",
              "0        41\n",
              "Name: home_ownership, dtype: int64"
            ]
          },
          "metadata": {},
          "execution_count": 23
        }
      ],
      "source": [
        "df['home_ownership'] = df['home_ownership'].replace(['NONE','OTHER','RENT','MORTGAGE','OWN'],[0,1,2,3,4])\n",
        "df['home_ownership'].value_counts()"
      ]
    },
    {
      "cell_type": "markdown",
      "metadata": {
        "id": "-NHpZqlFAq1k"
      },
      "source": [
        "### Employees Length"
      ]
    },
    {
      "cell_type": "code",
      "execution_count": null,
      "metadata": {
        "id": "O6OGAh2VBL-U"
      },
      "outputs": [],
      "source": [
        "dict_map_empl = {'10+ years':10,'9 years':9,'8 years':8,'7 years':7,'6 years':6,'5 years':5,'4 years':4,'3 years':3,'2 years':2,'1 year':1,'< 1 year':0}\n",
        "df[\"emp_length\"] = df[\"emp_length\"].map(dict_map_empl)"
      ]
    },
    {
      "cell_type": "code",
      "execution_count": null,
      "metadata": {
        "colab": {
          "base_uri": "https://localhost:8080/"
        },
        "id": "A99hs9hMBS24",
        "outputId": "674c5725-f4b6-4923-bd11-fb0b770216c6"
      },
      "outputs": [
        {
          "output_type": "execute_result",
          "data": {
            "text/plain": [
              "<bound method IndexOpsMixin.value_counts of 0          7.0\n",
              "1         10.0\n",
              "2          3.0\n",
              "3          3.0\n",
              "4         10.0\n",
              "          ... \n",
              "373023    10.0\n",
              "373024     7.0\n",
              "373025     NaN\n",
              "373026     4.0\n",
              "373027     7.0\n",
              "Name: emp_length, Length: 373028, dtype: float64>"
            ]
          },
          "metadata": {},
          "execution_count": 25
        }
      ],
      "source": [
        "df[\"emp_length\"].value_counts"
      ]
    },
    {
      "cell_type": "code",
      "execution_count": null,
      "metadata": {
        "colab": {
          "base_uri": "https://localhost:8080/"
        },
        "id": "DYvgor8uaQLL",
        "outputId": "5757fa4d-821f-42cb-ac8d-929eee8e76d4"
      },
      "outputs": [
        {
          "output_type": "stream",
          "name": "stdout",
          "text": [
            "<class 'pandas.core.frame.DataFrame'>\n",
            "RangeIndex: 373028 entries, 0 to 373027\n",
            "Data columns (total 33 columns):\n",
            " #   Column               Non-Null Count   Dtype  \n",
            "---  ------               --------------   -----  \n",
            " 0   Unnamed: 0           373028 non-null  int64  \n",
            " 1   id                   373028 non-null  int64  \n",
            " 2   member_id            373028 non-null  int64  \n",
            " 3   loan_amnt            373028 non-null  int64  \n",
            " 4   funded_amnt          373028 non-null  int64  \n",
            " 5   term                 373028 non-null  int64  \n",
            " 6   int_rate             373028 non-null  float64\n",
            " 7   installment          373028 non-null  float64\n",
            " 8   sub_grade            373028 non-null  object \n",
            " 9   emp_title            350981 non-null  object \n",
            " 10  emp_length           356235 non-null  float64\n",
            " 11  home_ownership       373028 non-null  int64  \n",
            " 12  annual_inc           373024 non-null  float64\n",
            " 13  verification_status  373028 non-null  int64  \n",
            " 14  purpose              373028 non-null  int64  \n",
            " 15  title                373012 non-null  object \n",
            " 16  zip_code             373028 non-null  object \n",
            " 17  addr_state           373028 non-null  object \n",
            " 18  dti                  373028 non-null  float64\n",
            " 19  total_acc            373003 non-null  float64\n",
            " 20  total_pymnt          373028 non-null  float64\n",
            " 21  total_rec_prncp      373028 non-null  float64\n",
            " 22  recoveries           373028 non-null  float64\n",
            " 23  last_pymnt_amnt      373028 non-null  float64\n",
            " 24  application_type     373028 non-null  object \n",
            " 25  loan_status_class    373028 non-null  int64  \n",
            " 26  grade_A              373028 non-null  uint8  \n",
            " 27  grade_B              373028 non-null  uint8  \n",
            " 28  grade_C              373028 non-null  uint8  \n",
            " 29  grade_D              373028 non-null  uint8  \n",
            " 30  grade_E              373028 non-null  uint8  \n",
            " 31  grade_F              373028 non-null  uint8  \n",
            " 32  grade_G              373028 non-null  uint8  \n",
            "dtypes: float64(10), int64(10), object(6), uint8(7)\n",
            "memory usage: 76.5+ MB\n"
          ]
        }
      ],
      "source": [
        "df.info()"
      ]
    },
    {
      "cell_type": "markdown",
      "metadata": {
        "id": "ILXssnWVNlWt"
      },
      "source": [
        "## Pengisian Example Kosong"
      ]
    },
    {
      "cell_type": "code",
      "source": [
        "df1 = df.copy()"
      ],
      "metadata": {
        "id": "IwlB9r3i8TVO"
      },
      "execution_count": null,
      "outputs": []
    },
    {
      "cell_type": "markdown",
      "metadata": {
        "id": "nKwRNfMoNtH_"
      },
      "source": [
        "###Annual Income"
      ]
    },
    {
      "cell_type": "code",
      "execution_count": null,
      "metadata": {
        "colab": {
          "base_uri": "https://localhost:8080/"
        },
        "id": "CZmjdlmtePgL",
        "outputId": "d2c621de-5803-4b73-9cde-00dc6bf647e0"
      },
      "outputs": [
        {
          "output_type": "execute_result",
          "data": {
            "text/plain": [
              "0"
            ]
          },
          "metadata": {},
          "execution_count": 28
        }
      ],
      "source": [
        "#Pengisian Example yang kosong menggunakan modus\n",
        "\n",
        "modus_inc = df1['annual_inc'].mode()[0]\n",
        "df1['annual_inc'] = df1['annual_inc'].fillna(modus_inc)\n",
        "df1['annual_inc'].isna().sum()"
      ]
    },
    {
      "cell_type": "markdown",
      "metadata": {
        "id": "ynuSNI1pJckh"
      },
      "source": [
        "###Total Accepted"
      ]
    },
    {
      "cell_type": "code",
      "execution_count": null,
      "metadata": {
        "colab": {
          "base_uri": "https://localhost:8080/"
        },
        "id": "fvb2dmsRJbhg",
        "outputId": "5e2e8c0b-78ed-4162-f1d9-08a4a6378685"
      },
      "outputs": [
        {
          "output_type": "execute_result",
          "data": {
            "text/plain": [
              "21.0     13692\n",
              "20.0     13628\n",
              "22.0     13591\n",
              "23.0     13418\n",
              "19.0     13411\n",
              "         ...  \n",
              "121.0        1\n",
              "102.0        1\n",
              "156.0        1\n",
              "124.0        1\n",
              "150.0        1\n",
              "Name: total_acc, Length: 112, dtype: int64"
            ]
          },
          "metadata": {},
          "execution_count": 29
        }
      ],
      "source": [
        "df1['total_acc'].value_counts()"
      ]
    },
    {
      "cell_type": "code",
      "execution_count": null,
      "metadata": {
        "colab": {
          "base_uri": "https://localhost:8080/"
        },
        "id": "1LHgUhYjMQ9f",
        "outputId": "ffd686ca-0db4-4f68-fe7d-1e297e89b504"
      },
      "outputs": [
        {
          "output_type": "execute_result",
          "data": {
            "text/plain": [
              "0"
            ]
          },
          "metadata": {},
          "execution_count": 30
        }
      ],
      "source": [
        "#Pengisian Example yang kosong menggunakan asumsi jumlah transaksi pinjaman 0\n",
        "\n",
        "df1['total_acc'] = df1['total_acc'].fillna(0)\n",
        "df1['total_acc'].isna().sum()"
      ]
    },
    {
      "cell_type": "markdown",
      "metadata": {
        "id": "r_HZKWBiBfEf"
      },
      "source": [
        "###Employees Length"
      ]
    },
    {
      "cell_type": "code",
      "execution_count": null,
      "metadata": {
        "colab": {
          "base_uri": "https://localhost:8080/"
        },
        "id": "lNW1hKQIBhpo",
        "outputId": "1f012148-9a22-4ec7-b792-ec5f11f1f57d"
      },
      "outputs": [
        {
          "output_type": "execute_result",
          "data": {
            "text/plain": [
              "0"
            ]
          },
          "metadata": {},
          "execution_count": 31
        }
      ],
      "source": [
        "#Pengisian Example yang kosong menggunakan modus\n",
        "\n",
        "modus_emp = df1['emp_length'].mode()[0]\n",
        "df1['emp_length'] = df1['emp_length'].fillna(modus_emp)\n",
        "df1['emp_length'].isna().sum()"
      ]
    },
    {
      "cell_type": "code",
      "execution_count": null,
      "metadata": {
        "colab": {
          "base_uri": "https://localhost:8080/"
        },
        "id": "-GUrJiLrLzFD",
        "outputId": "5912a935-9139-4aa5-d060-9f614d2e9e62"
      },
      "outputs": [
        {
          "output_type": "execute_result",
          "data": {
            "text/plain": [
              "10.0    136793\n",
              "2.0      33123\n",
              "3.0      29301\n",
              "0.0      28971\n",
              "5.0      24654\n",
              "1.0      23582\n",
              "4.0      22482\n",
              "6.0      21057\n",
              "7.0      20834\n",
              "8.0      17859\n",
              "9.0      14372\n",
              "Name: emp_length, dtype: int64"
            ]
          },
          "metadata": {},
          "execution_count": 32
        }
      ],
      "source": [
        "df1['emp_length'].value_counts()"
      ]
    },
    {
      "cell_type": "code",
      "execution_count": null,
      "metadata": {
        "colab": {
          "base_uri": "https://localhost:8080/"
        },
        "id": "aln_gKzFURmm",
        "outputId": "bf6a3cf4-fd9c-4579-a539-1361ae9d851f"
      },
      "outputs": [
        {
          "output_type": "execute_result",
          "data": {
            "text/plain": [
              "Unnamed: 0                 0\n",
              "id                         0\n",
              "member_id                  0\n",
              "loan_amnt                  0\n",
              "funded_amnt                0\n",
              "term                       0\n",
              "int_rate                   0\n",
              "installment                0\n",
              "sub_grade                  0\n",
              "emp_title              22047\n",
              "emp_length                 0\n",
              "home_ownership             0\n",
              "annual_inc                 0\n",
              "verification_status        0\n",
              "purpose                    0\n",
              "title                     16\n",
              "zip_code                   0\n",
              "addr_state                 0\n",
              "dti                        0\n",
              "total_acc                  0\n",
              "total_pymnt                0\n",
              "total_rec_prncp            0\n",
              "recoveries                 0\n",
              "last_pymnt_amnt            0\n",
              "application_type           0\n",
              "loan_status_class          0\n",
              "grade_A                    0\n",
              "grade_B                    0\n",
              "grade_C                    0\n",
              "grade_D                    0\n",
              "grade_E                    0\n",
              "grade_F                    0\n",
              "grade_G                    0\n",
              "dtype: int64"
            ]
          },
          "metadata": {},
          "execution_count": 33
        }
      ],
      "source": [
        "df1.isnull().sum()"
      ]
    },
    {
      "cell_type": "markdown",
      "metadata": {
        "id": "B7CsTjrVXDL6"
      },
      "source": [
        "##Checkpoint"
      ]
    },
    {
      "cell_type": "code",
      "execution_count": null,
      "metadata": {
        "colab": {
          "base_uri": "https://localhost:8080/"
        },
        "id": "GT14bBCxXHqn",
        "outputId": "950db38b-a0d5-4d02-9a03-899accb52a6e"
      },
      "outputs": [
        {
          "output_type": "stream",
          "name": "stdout",
          "text": [
            "<class 'pandas.core.frame.DataFrame'>\n",
            "RangeIndex: 373028 entries, 0 to 373027\n",
            "Data columns (total 33 columns):\n",
            " #   Column               Non-Null Count   Dtype  \n",
            "---  ------               --------------   -----  \n",
            " 0   Unnamed: 0           373028 non-null  int64  \n",
            " 1   id                   373028 non-null  int64  \n",
            " 2   member_id            373028 non-null  int64  \n",
            " 3   loan_amnt            373028 non-null  int64  \n",
            " 4   funded_amnt          373028 non-null  int64  \n",
            " 5   term                 373028 non-null  int64  \n",
            " 6   int_rate             373028 non-null  float64\n",
            " 7   installment          373028 non-null  float64\n",
            " 8   sub_grade            373028 non-null  object \n",
            " 9   emp_title            350981 non-null  object \n",
            " 10  emp_length           373028 non-null  float64\n",
            " 11  home_ownership       373028 non-null  int64  \n",
            " 12  annual_inc           373028 non-null  float64\n",
            " 13  verification_status  373028 non-null  int64  \n",
            " 14  purpose              373028 non-null  int64  \n",
            " 15  title                373012 non-null  object \n",
            " 16  zip_code             373028 non-null  object \n",
            " 17  addr_state           373028 non-null  object \n",
            " 18  dti                  373028 non-null  float64\n",
            " 19  total_acc            373028 non-null  float64\n",
            " 20  total_pymnt          373028 non-null  float64\n",
            " 21  total_rec_prncp      373028 non-null  float64\n",
            " 22  recoveries           373028 non-null  float64\n",
            " 23  last_pymnt_amnt      373028 non-null  float64\n",
            " 24  application_type     373028 non-null  object \n",
            " 25  loan_status_class    373028 non-null  int64  \n",
            " 26  grade_A              373028 non-null  uint8  \n",
            " 27  grade_B              373028 non-null  uint8  \n",
            " 28  grade_C              373028 non-null  uint8  \n",
            " 29  grade_D              373028 non-null  uint8  \n",
            " 30  grade_E              373028 non-null  uint8  \n",
            " 31  grade_F              373028 non-null  uint8  \n",
            " 32  grade_G              373028 non-null  uint8  \n",
            "dtypes: float64(10), int64(10), object(6), uint8(7)\n",
            "memory usage: 76.5+ MB\n"
          ]
        }
      ],
      "source": [
        "df1.info()"
      ]
    },
    {
      "cell_type": "markdown",
      "metadata": {
        "id": "t_xPu_hKIGWx"
      },
      "source": [
        "#Seleksi Fitur"
      ]
    },
    {
      "cell_type": "markdown",
      "metadata": {
        "id": "b4GfpziWHRi_"
      },
      "source": [
        "##Drop Fitur Berdasarkan Common Sense"
      ]
    },
    {
      "cell_type": "code",
      "execution_count": null,
      "metadata": {
        "id": "psD7CwmuLpTL"
      },
      "outputs": [],
      "source": [
        "df2 = df1.copy()\n",
        "\n",
        "#Drop Fitur Berdasarkan Common Sense\n",
        "df2.drop(['Unnamed: 0','id', 'member_id','emp_title', 'sub_grade','title','zip_code','addr_state','application_type'], axis=1, inplace=True)"
      ]
    },
    {
      "cell_type": "markdown",
      "metadata": {
        "id": "RD_JvBzZHWd-"
      },
      "source": [
        "##Korelasi"
      ]
    },
    {
      "cell_type": "code",
      "execution_count": null,
      "metadata": {
        "colab": {
          "base_uri": "https://localhost:8080/"
        },
        "id": "8CGYnBywU4Jv",
        "outputId": "f2640b96-7db7-47d3-b0c7-2bb8c8e55e55"
      },
      "outputs": [
        {
          "output_type": "execute_result",
          "data": {
            "text/plain": [
              "<matplotlib.axes._subplots.AxesSubplot at 0x7fec3ee75430>"
            ]
          },
          "metadata": {},
          "execution_count": 36
        },
        {
          "output_type": "display_data",
          "data": {
            "text/plain": [
              "<Figure size 792x648 with 2 Axes>"
            ],
            "image/png": "[encoded data removed]"
          },
          "metadata": {
            "needs_background": "light"
          }
        }
      ],
      "source": [
        "corr = df2.corr()\n",
        "\n",
        "mask = np.triu(np.ones_like(corr, dtype=bool))\n",
        "f, ax = plt.subplots(figsize=(11, 9))\n",
        "cmap = sns.diverging_palette(230, 20, as_cmap=True)\n",
        "\n",
        "sns.heatmap(corr, mask=mask, cmap=cmap, vmax=.3, center=0,\n",
        "            square=True, linewidths=.5, cbar_kws={\"shrink\": .5})"
      ]
    },
    {
      "cell_type": "code",
      "execution_count": null,
      "metadata": {
        "colab": {
          "base_uri": "https://localhost:8080/"
        },
        "id": "dr9mGWR9Ze5z",
        "outputId": "8b7dcf53-fa0e-4a92-d927-2283131846a2"
      },
      "outputs": [
        {
          "output_type": "execute_result",
          "data": {
            "text/plain": [
              "                     loan_amnt  funded_amnt      term  int_rate  installment  \\\n",
              "loan_amnt             1.000000     0.998552  0.413546  0.166809     0.949676   \n",
              "funded_amnt           0.998552     1.000000  0.411541  0.167528     0.951788   \n",
              "term                  0.413546     0.411541  1.000000  0.443676     0.160356   \n",
              "int_rate              0.166809     0.167528  0.443676  1.000000     0.148166   \n",
              "installment           0.949676     0.951788  0.160356  0.148166     1.000000   \n",
              "emp_length            0.098557     0.099101  0.067188  0.031741     0.085776   \n",
              "home_ownership        0.135575     0.135654  0.080561 -0.041330     0.112867   \n",
              "annual_inc            0.364168     0.363599  0.068676 -0.045007     0.361456   \n",
              "verification_status   0.364158     0.363445  0.261437  0.236284     0.332865   \n",
              "purpose              -0.059153    -0.059294 -0.058838 -0.138204    -0.060767   \n",
              "dti                   0.058162     0.059537  0.092150  0.159938     0.050858   \n",
              "total_acc             0.235869     0.235819  0.102069 -0.033145     0.216423   \n",
              "total_pymnt           0.743750     0.743273  0.175192  0.126426     0.764295   \n",
              "total_rec_prncp       0.612657     0.612211  0.009842 -0.032752     0.663420   \n",
              "recoveries            0.110606     0.110296  0.090823  0.128385     0.105453   \n",
              "last_pymnt_amnt       0.304977     0.304949  0.111586  0.075368     0.300785   \n",
              "loan_status_class    -0.012414    -0.011587 -0.065165 -0.172665    -0.014173   \n",
              "grade_A              -0.047952    -0.048269 -0.243970 -0.631452    -0.036011   \n",
              "grade_B              -0.093467    -0.093483 -0.221441 -0.344435    -0.068131   \n",
              "grade_C              -0.008204    -0.007514  0.064178  0.111480    -0.023897   \n",
              "grade_D               0.039714     0.040228  0.152078  0.378994     0.030234   \n",
              "grade_E               0.111479     0.110699  0.243871  0.440088     0.092421   \n",
              "grade_F               0.084524     0.083696  0.187278  0.381371     0.081325   \n",
              "grade_G               0.063630     0.063288  0.111855  0.212515     0.065646   \n",
              "\n",
              "                     emp_length  home_ownership  annual_inc  \\\n",
              "loan_amnt              0.098557        0.135575    0.364168   \n",
              "funded_amnt            0.099101        0.135654    0.363599   \n",
              "term                   0.067188        0.080561    0.068676   \n",
              "int_rate               0.031741       -0.041330   -0.045007   \n",
              "installment            0.085776        0.112867    0.361456   \n",
              "emp_length             1.000000        0.176506    0.049019   \n",
              "home_ownership         0.176506        1.000000    0.107909   \n",
              "annual_inc             0.049019        0.107909    1.000000   \n",
              "verification_status    0.117922        0.064315    0.106342   \n",
              "purpose               -0.024786        0.025940    0.017406   \n",
              "dti                    0.055326        0.020040   -0.184743   \n",
              "total_acc              0.103341        0.164411    0.221028   \n",
              "total_pymnt            0.060470        0.092703    0.294487   \n",
              "total_rec_prncp        0.041471        0.082731    0.270839   \n",
              "recoveries             0.004922        0.001475    0.016305   \n",
              "last_pymnt_amnt        0.026744        0.059124    0.140051   \n",
              "loan_status_class      0.011091        0.034576    0.047995   \n",
              "grade_A               -0.019910        0.046439    0.073569   \n",
              "grade_B               -0.005857        0.002251   -0.011409   \n",
              "grade_C                0.011124       -0.012097   -0.032345   \n",
              "grade_D                0.004386       -0.024241   -0.027671   \n",
              "grade_E                0.008801       -0.008236    0.000298   \n",
              "grade_F                0.005817       -0.010037    0.006285   \n",
              "grade_G                0.001202        0.001991    0.020353   \n",
              "\n",
              "                     verification_status   purpose  ...  recoveries  \\\n",
              "loan_amnt                       0.364158 -0.059153  ...    0.110606   \n",
              "funded_amnt                     0.363445 -0.059294  ...    0.110296   \n",
              "term                            0.261437 -0.058838  ...    0.090823   \n",
              "int_rate                        0.236284 -0.138204  ...    0.128385   \n",
              "installment                     0.332865 -0.060767  ...    0.105453   \n",
              "emp_length                      0.117922 -0.024786  ...    0.004922   \n",
              "home_ownership                  0.064315  0.025940  ...    0.001475   \n",
              "annual_inc                      0.106342  0.017406  ...    0.016305   \n",
              "verification_status             1.000000 -0.043669  ...    0.066616   \n",
              "purpose                        -0.043669  1.000000  ...   -0.018185   \n",
              "dti                             0.115480 -0.085193  ...    0.021840   \n",
              "total_acc                       0.102996 -0.034067  ...    0.016107   \n",
              "total_pymnt                     0.303800 -0.042820  ...   -0.022725   \n",
              "total_rec_prncp                 0.229914 -0.020772  ...   -0.116454   \n",
              "recoveries                      0.066616 -0.018185  ...    1.000000   \n",
              "last_pymnt_amnt                 0.127822 -0.032111  ...   -0.070885   \n",
              "loan_status_class              -0.046128  0.031806  ...   -0.441935   \n",
              "grade_A                        -0.124337  0.105965  ...   -0.053649   \n",
              "grade_B                        -0.094909  0.046227  ...   -0.047619   \n",
              "grade_C                         0.039431 -0.034744  ...   -0.009570   \n",
              "grade_D                         0.065428 -0.060593  ...    0.028918   \n",
              "grade_E                         0.105883 -0.055234  ...    0.067712   \n",
              "grade_F                         0.088650 -0.036696  ...    0.077385   \n",
              "grade_G                         0.049377 -0.014465  ...    0.047682   \n",
              "\n",
              "                     last_pymnt_amnt  loan_status_class   grade_A   grade_B  \\\n",
              "loan_amnt                   0.304977          -0.012414 -0.047952 -0.093467   \n",
              "funded_amnt                 0.304949          -0.011587 -0.048269 -0.093483   \n",
              "term                        0.111586          -0.065165 -0.243970 -0.221441   \n",
              "int_rate                    0.075368          -0.172665 -0.631452 -0.344435   \n",
              "installment                 0.300785          -0.014173 -0.036011 -0.068131   \n",
              "emp_length                  0.026744           0.011091 -0.019910 -0.005857   \n",
              "home_ownership              0.059124           0.034576  0.046439  0.002251   \n",
              "annual_inc                  0.140051           0.047995  0.073569 -0.011409   \n",
              "verification_status         0.127822          -0.046128 -0.124337 -0.094909   \n",
              "purpose                    -0.032111           0.031806  0.105965  0.046227   \n",
              "dti                        -0.041313          -0.048066 -0.129938 -0.045801   \n",
              "total_acc                   0.114452           0.023651  0.048139 -0.006177   \n",
              "total_pymnt                 0.614893           0.194629 -0.026818 -0.032728   \n",
              "total_rec_prncp             0.710255           0.254352  0.058865  0.030765   \n",
              "recoveries                 -0.070885          -0.441935 -0.053649 -0.047619   \n",
              "last_pymnt_amnt             1.000000           0.167946 -0.024982 -0.024180   \n",
              "loan_status_class           0.167946           1.000000  0.098967  0.063416   \n",
              "grade_A                    -0.024982           0.098967  1.000000 -0.281397   \n",
              "grade_B                    -0.024180           0.063416 -0.281397  1.000000   \n",
              "grade_C                    -0.000930          -0.009379 -0.265078 -0.390630   \n",
              "grade_D                     0.004989          -0.064451 -0.194559 -0.286711   \n",
              "grade_E                     0.037769          -0.079609 -0.125897 -0.185527   \n",
              "grade_F                     0.040486          -0.072717 -0.074754 -0.110160   \n",
              "grade_G                     0.023399          -0.045579 -0.036773 -0.054190   \n",
              "\n",
              "                      grade_C   grade_D   grade_E   grade_F   grade_G  \n",
              "loan_amnt           -0.008204  0.039714  0.111479  0.084524  0.063630  \n",
              "funded_amnt         -0.007514  0.040228  0.110699  0.083696  0.063288  \n",
              "term                 0.064178  0.152078  0.243871  0.187278  0.111855  \n",
              "int_rate             0.111480  0.378994  0.440088  0.381371  0.212515  \n",
              "installment         -0.023897  0.030234  0.092421  0.081325  0.065646  \n",
              "emp_length           0.011124  0.004386  0.008801  0.005817  0.001202  \n",
              "home_ownership      -0.012097 -0.024241 -0.008236 -0.010037  0.001991  \n",
              "annual_inc          -0.032345 -0.027671  0.000298  0.006285  0.020353  \n",
              "verification_status  0.039431  0.065428  0.105883  0.088650  0.049377  \n",
              "purpose             -0.034744 -0.060593 -0.055234 -0.036696 -0.014465  \n",
              "dti                  0.046184  0.069103  0.061564  0.029089  0.013834  \n",
              "total_acc           -0.015204 -0.022535 -0.001216 -0.001911  0.010835  \n",
              "total_pymnt         -0.023235  0.000597  0.069323  0.073298  0.050202  \n",
              "total_rec_prncp     -0.033366 -0.048914 -0.012542  0.001152  0.006144  \n",
              "recoveries          -0.009570  0.028918  0.067712  0.077385  0.047682  \n",
              "last_pymnt_amnt     -0.000930  0.004989  0.037769  0.040486  0.023399  \n",
              "loan_status_class   -0.009379 -0.064451 -0.079609 -0.072717 -0.045579  \n",
              "grade_A             -0.265078 -0.194559 -0.125897 -0.074754 -0.036773  \n",
              "grade_B             -0.390630 -0.286711 -0.185527 -0.110160 -0.054190  \n",
              "grade_C              1.000000 -0.270084 -0.174768 -0.103772 -0.051047  \n",
              "grade_D             -0.270084  1.000000 -0.128274 -0.076165 -0.037467  \n",
              "grade_E             -0.174768 -0.128274  1.000000 -0.049286 -0.024244  \n",
              "grade_F             -0.103772 -0.076165 -0.049286  1.000000 -0.014396  \n",
              "grade_G             -0.051047 -0.037467 -0.024244 -0.014396  1.000000  \n",
              "\n",
              "[24 rows x 24 columns]"
            ],
            "text/html": [
              "\n",
              "  <div id=\"df-791e6ce9-82d9-4916-bd65-507e3fdd6248\">\n",
              "    <div class=\"colab-df-container\">\n",
              "      <div>\n",
              "<style scoped>\n",
              "    .dataframe tbody tr th:only-of-type {\n",
              "        vertical-align: middle;\n",
              "    }\n",
              "\n",
              "    .dataframe tbody tr th {\n",
              "        vertical-align: top;\n",
              "    }\n",
              "\n",
              "    .dataframe thead th {\n",
              "        text-align: right;\n",
              "    }\n",
              "</style>\n",
              "<table border=\"1\" class=\"dataframe\">\n",
              "  <thead>\n",
              "    <tr style=\"text-align: right;\">\n",
              "      <th></th>\n",
              "      <th>loan_amnt</th>\n",
              "      <th>funded_amnt</th>\n",
              "      <th>term</th>\n",
              "      <th>int_rate</th>\n",
              "      <th>installment</th>\n",
              "      <th>emp_length</th>\n",
              "      <th>home_ownership</th>\n",
              "      <th>annual_inc</th>\n",
              "      <th>verification_status</th>\n",
              "      <th>purpose</th>\n",
              "      <th>...</th>\n",
              "      <th>recoveries</th>\n",
              "      <th>last_pymnt_amnt</th>\n",
              "      <th>loan_status_class</th>\n",
              "      <th>grade_A</th>\n",
              "      <th>grade_B</th>\n",
              "      <th>grade_C</th>\n",
              "      <th>grade_D</th>\n",
              "      <th>grade_E</th>\n",
              "      <th>grade_F</th>\n",
              "      <th>grade_G</th>\n",
              "    </tr>\n",
              "  </thead>\n",
              "  <tbody>\n",
              "    <tr>\n",
              "      <th>loan_amnt</th>\n",
              "      <td>1.000000</td>\n",
              "      <td>0.998552</td>\n",
              "      <td>0.413546</td>\n",
              "      <td>0.166809</td>\n",
              "      <td>0.949676</td>\n",
              "      <td>0.098557</td>\n",
              "      <td>0.135575</td>\n",
              "      <td>0.364168</td>\n",
              "      <td>0.364158</td>\n",
              "      <td>-0.059153</td>\n",
              "      <td>...</td>\n",
              "      <td>0.110606</td>\n",
              "      <td>0.304977</td>\n",
              "      <td>-0.012414</td>\n",
              "      <td>-0.047952</td>\n",
              "      <td>-0.093467</td>\n",
              "      <td>-0.008204</td>\n",
              "      <td>0.039714</td>\n",
              "      <td>0.111479</td>\n",
              "      <td>0.084524</td>\n",
              "      <td>0.063630</td>\n",
              "    </tr>\n",
              "    <tr>\n",
              "      <th>funded_amnt</th>\n",
              "      <td>0.998552</td>\n",
              "      <td>1.000000</td>\n",
              "      <td>0.411541</td>\n",
              "      <td>0.167528</td>\n",
              "      <td>0.951788</td>\n",
              "      <td>0.099101</td>\n",
              "      <td>0.135654</td>\n",
              "      <td>0.363599</td>\n",
              "      <td>0.363445</td>\n",
              "      <td>-0.059294</td>\n",
              "      <td>...</td>\n",
              "      <td>0.110296</td>\n",
              "      <td>0.304949</td>\n",
              "      <td>-0.011587</td>\n",
              "      <td>-0.048269</td>\n",
              "      <td>-0.093483</td>\n",
              "      <td>-0.007514</td>\n",
              "      <td>0.040228</td>\n",
              "      <td>0.110699</td>\n",
              "      <td>0.083696</td>\n",
              "      <td>0.063288</td>\n",
              "    </tr>\n",
              "    <tr>\n",
              "      <th>term</th>\n",
              "      <td>0.413546</td>\n",
              "      <td>0.411541</td>\n",
              "      <td>1.000000</td>\n",
              "      <td>0.443676</td>\n",
              "      <td>0.160356</td>\n",
              "      <td>0.067188</td>\n",
              "      <td>0.080561</td>\n",
              "      <td>0.068676</td>\n",
              "      <td>0.261437</td>\n",
              "      <td>-0.058838</td>\n",
              "      <td>...</td>\n",
              "      <td>0.090823</td>\n",
              "      <td>0.111586</td>\n",
              "      <td>-0.065165</td>\n",
              "      <td>-0.243970</td>\n",
              "      <td>-0.221441</td>\n",
              "      <td>0.064178</td>\n",
              "      <td>0.152078</td>\n",
              "      <td>0.243871</td>\n",
              "      <td>0.187278</td>\n",
              "      <td>0.111855</td>\n",
              "    </tr>\n",
              "    <tr>\n",
              "      <th>int_rate</th>\n",
              "      <td>0.166809</td>\n",
              "      <td>0.167528</td>\n",
              "      <td>0.443676</td>\n",
              "      <td>1.000000</td>\n",
              "      <td>0.148166</td>\n",
              "      <td>0.031741</td>\n",
              "      <td>-0.041330</td>\n",
              "      <td>-0.045007</td>\n",
              "      <td>0.236284</td>\n",
              "      <td>-0.138204</td>\n",
              "      <td>...</td>\n",
              "      <td>0.128385</td>\n",
              "      <td>0.075368</td>\n",
              "      <td>-0.172665</td>\n",
              "      <td>-0.631452</td>\n",
              "      <td>-0.344435</td>\n",
              "      <td>0.111480</td>\n",
              "      <td>0.378994</td>\n",
              "      <td>0.440088</td>\n",
              "      <td>0.381371</td>\n",
              "      <td>0.212515</td>\n",
              "    </tr>\n",
              "    <tr>\n",
              "      <th>installment</th>\n",
              "      <td>0.949676</td>\n",
              "      <td>0.951788</td>\n",
              "      <td>0.160356</td>\n",
              "      <td>0.148166</td>\n",
              "      <td>1.000000</td>\n",
              "      <td>0.085776</td>\n",
              "      <td>0.112867</td>\n",
              "      <td>0.361456</td>\n",
              "      <td>0.332865</td>\n",
              "      <td>-0.060767</td>\n",
              "      <td>...</td>\n",
              "      <td>0.105453</td>\n",
              "      <td>0.300785</td>\n",
              "      <td>-0.014173</td>\n",
              "      <td>-0.036011</td>\n",
              "      <td>-0.068131</td>\n",
              "      <td>-0.023897</td>\n",
              "      <td>0.030234</td>\n",
              "      <td>0.092421</td>\n",
              "      <td>0.081325</td>\n",
              "      <td>0.065646</td>\n",
              "    </tr>\n",
              "    <tr>\n",
              "      <th>emp_length</th>\n",
              "      <td>0.098557</td>\n",
              "      <td>0.099101</td>\n",
              "      <td>0.067188</td>\n",
              "      <td>0.031741</td>\n",
              "      <td>0.085776</td>\n",
              "      <td>1.000000</td>\n",
              "      <td>0.176506</td>\n",
              "      <td>0.049019</td>\n",
              "      <td>0.117922</td>\n",
              "      <td>-0.024786</td>\n",
              "      <td>...</td>\n",
              "      <td>0.004922</td>\n",
              "      <td>0.026744</td>\n",
              "      <td>0.011091</td>\n",
              "      <td>-0.019910</td>\n",
              "      <td>-0.005857</td>\n",
              "      <td>0.011124</td>\n",
              "      <td>0.004386</td>\n",
              "      <td>0.008801</td>\n",
              "      <td>0.005817</td>\n",
              "      <td>0.001202</td>\n",
              "    </tr>\n",
              "    <tr>\n",
              "      <th>home_ownership</th>\n",
              "      <td>0.135575</td>\n",
              "      <td>0.135654</td>\n",
              "      <td>0.080561</td>\n",
              "      <td>-0.041330</td>\n",
              "      <td>0.112867</td>\n",
              "      <td>0.176506</td>\n",
              "      <td>1.000000</td>\n",
              "      <td>0.107909</td>\n",
              "      <td>0.064315</td>\n",
              "      <td>0.025940</td>\n",
              "      <td>...</td>\n",
              "      <td>0.001475</td>\n",
              "      <td>0.059124</td>\n",
              "      <td>0.034576</td>\n",
              "      <td>0.046439</td>\n",
              "      <td>0.002251</td>\n",
              "      <td>-0.012097</td>\n",
              "      <td>-0.024241</td>\n",
              "      <td>-0.008236</td>\n",
              "      <td>-0.010037</td>\n",
              "      <td>0.001991</td>\n",
              "    </tr>\n",
              "    <tr>\n",
              "      <th>annual_inc</th>\n",
              "      <td>0.364168</td>\n",
              "      <td>0.363599</td>\n",
              "      <td>0.068676</td>\n",
              "      <td>-0.045007</td>\n",
              "      <td>0.361456</td>\n",
              "      <td>0.049019</td>\n",
              "      <td>0.107909</td>\n",
              "      <td>1.000000</td>\n",
              "      <td>0.106342</td>\n",
              "      <td>0.017406</td>\n",
              "      <td>...</td>\n",
              "      <td>0.016305</td>\n",
              "      <td>0.140051</td>\n",
              "      <td>0.047995</td>\n",
              "      <td>0.073569</td>\n",
              "      <td>-0.011409</td>\n",
              "      <td>-0.032345</td>\n",
              "      <td>-0.027671</td>\n",
              "      <td>0.000298</td>\n",
              "      <td>0.006285</td>\n",
              "      <td>0.020353</td>\n",
              "    </tr>\n",
              "    <tr>\n",
              "      <th>verification_status</th>\n",
              "      <td>0.364158</td>\n",
              "      <td>0.363445</td>\n",
              "      <td>0.261437</td>\n",
              "      <td>0.236284</td>\n",
              "      <td>0.332865</td>\n",
              "      <td>0.117922</td>\n",
              "      <td>0.064315</td>\n",
              "      <td>0.106342</td>\n",
              "      <td>1.000000</td>\n",
              "      <td>-0.043669</td>\n",
              "      <td>...</td>\n",
              "      <td>0.066616</td>\n",
              "      <td>0.127822</td>\n",
              "      <td>-0.046128</td>\n",
              "      <td>-0.124337</td>\n",
              "      <td>-0.094909</td>\n",
              "      <td>0.039431</td>\n",
              "      <td>0.065428</td>\n",
              "      <td>0.105883</td>\n",
              "      <td>0.088650</td>\n",
              "      <td>0.049377</td>\n",
              "    </tr>\n",
              "    <tr>\n",
              "      <th>purpose</th>\n",
              "      <td>-0.059153</td>\n",
              "      <td>-0.059294</td>\n",
              "      <td>-0.058838</td>\n",
              "      <td>-0.138204</td>\n",
              "      <td>-0.060767</td>\n",
              "      <td>-0.024786</td>\n",
              "      <td>0.025940</td>\n",
              "      <td>0.017406</td>\n",
              "      <td>-0.043669</td>\n",
              "      <td>1.000000</td>\n",
              "      <td>...</td>\n",
              "      <td>-0.018185</td>\n",
              "      <td>-0.032111</td>\n",
              "      <td>0.031806</td>\n",
              "      <td>0.105965</td>\n",
              "      <td>0.046227</td>\n",
              "      <td>-0.034744</td>\n",
              "      <td>-0.060593</td>\n",
              "      <td>-0.055234</td>\n",
              "      <td>-0.036696</td>\n",
              "      <td>-0.014465</td>\n",
              "    </tr>\n",
              "    <tr>\n",
              "      <th>dti</th>\n",
              "      <td>0.058162</td>\n",
              "      <td>0.059537</td>\n",
              "      <td>0.092150</td>\n",
              "      <td>0.159938</td>\n",
              "      <td>0.050858</td>\n",
              "      <td>0.055326</td>\n",
              "      <td>0.020040</td>\n",
              "      <td>-0.184743</td>\n",
              "      <td>0.115480</td>\n",
              "      <td>-0.085193</td>\n",
              "      <td>...</td>\n",
              "      <td>0.021840</td>\n",
              "      <td>-0.041313</td>\n",
              "      <td>-0.048066</td>\n",
              "      <td>-0.129938</td>\n",
              "      <td>-0.045801</td>\n",
              "      <td>0.046184</td>\n",
              "      <td>0.069103</td>\n",
              "      <td>0.061564</td>\n",
              "      <td>0.029089</td>\n",
              "      <td>0.013834</td>\n",
              "    </tr>\n",
              "    <tr>\n",
              "      <th>total_acc</th>\n",
              "      <td>0.235869</td>\n",
              "      <td>0.235819</td>\n",
              "      <td>0.102069</td>\n",
              "      <td>-0.033145</td>\n",
              "      <td>0.216423</td>\n",
              "      <td>0.103341</td>\n",
              "      <td>0.164411</td>\n",
              "      <td>0.221028</td>\n",
              "      <td>0.102996</td>\n",
              "      <td>-0.034067</td>\n",
              "      <td>...</td>\n",
              "      <td>0.016107</td>\n",
              "      <td>0.114452</td>\n",
              "      <td>0.023651</td>\n",
              "      <td>0.048139</td>\n",
              "      <td>-0.006177</td>\n",
              "      <td>-0.015204</td>\n",
              "      <td>-0.022535</td>\n",
              "      <td>-0.001216</td>\n",
              "      <td>-0.001911</td>\n",
              "      <td>0.010835</td>\n",
              "    </tr>\n",
              "    <tr>\n",
              "      <th>total_pymnt</th>\n",
              "      <td>0.743750</td>\n",
              "      <td>0.743273</td>\n",
              "      <td>0.175192</td>\n",
              "      <td>0.126426</td>\n",
              "      <td>0.764295</td>\n",
              "      <td>0.060470</td>\n",
              "      <td>0.092703</td>\n",
              "      <td>0.294487</td>\n",
              "      <td>0.303800</td>\n",
              "      <td>-0.042820</td>\n",
              "      <td>...</td>\n",
              "      <td>-0.022725</td>\n",
              "      <td>0.614893</td>\n",
              "      <td>0.194629</td>\n",
              "      <td>-0.026818</td>\n",
              "      <td>-0.032728</td>\n",
              "      <td>-0.023235</td>\n",
              "      <td>0.000597</td>\n",
              "      <td>0.069323</td>\n",
              "      <td>0.073298</td>\n",
              "      <td>0.050202</td>\n",
              "    </tr>\n",
              "    <tr>\n",
              "      <th>total_rec_prncp</th>\n",
              "      <td>0.612657</td>\n",
              "      <td>0.612211</td>\n",
              "      <td>0.009842</td>\n",
              "      <td>-0.032752</td>\n",
              "      <td>0.663420</td>\n",
              "      <td>0.041471</td>\n",
              "      <td>0.082731</td>\n",
              "      <td>0.270839</td>\n",
              "      <td>0.229914</td>\n",
              "      <td>-0.020772</td>\n",
              "      <td>...</td>\n",
              "      <td>-0.116454</td>\n",
              "      <td>0.710255</td>\n",
              "      <td>0.254352</td>\n",
              "      <td>0.058865</td>\n",
              "      <td>0.030765</td>\n",
              "      <td>-0.033366</td>\n",
              "      <td>-0.048914</td>\n",
              "      <td>-0.012542</td>\n",
              "      <td>0.001152</td>\n",
              "      <td>0.006144</td>\n",
              "    </tr>\n",
              "    <tr>\n",
              "      <th>recoveries</th>\n",
              "      <td>0.110606</td>\n",
              "      <td>0.110296</td>\n",
              "      <td>0.090823</td>\n",
              "      <td>0.128385</td>\n",
              "      <td>0.105453</td>\n",
              "      <td>0.004922</td>\n",
              "      <td>0.001475</td>\n",
              "      <td>0.016305</td>\n",
              "      <td>0.066616</td>\n",
              "      <td>-0.018185</td>\n",
              "      <td>...</td>\n",
              "      <td>1.000000</td>\n",
              "      <td>-0.070885</td>\n",
              "      <td>-0.441935</td>\n",
              "      <td>-0.053649</td>\n",
              "      <td>-0.047619</td>\n",
              "      <td>-0.009570</td>\n",
              "      <td>0.028918</td>\n",
              "      <td>0.067712</td>\n",
              "      <td>0.077385</td>\n",
              "      <td>0.047682</td>\n",
              "    </tr>\n",
              "    <tr>\n",
              "      <th>last_pymnt_amnt</th>\n",
              "      <td>0.304977</td>\n",
              "      <td>0.304949</td>\n",
              "      <td>0.111586</td>\n",
              "      <td>0.075368</td>\n",
              "      <td>0.300785</td>\n",
              "      <td>0.026744</td>\n",
              "      <td>0.059124</td>\n",
              "      <td>0.140051</td>\n",
              "      <td>0.127822</td>\n",
              "      <td>-0.032111</td>\n",
              "      <td>...</td>\n",
              "      <td>-0.070885</td>\n",
              "      <td>1.000000</td>\n",
              "      <td>0.167946</td>\n",
              "      <td>-0.024982</td>\n",
              "      <td>-0.024180</td>\n",
              "      <td>-0.000930</td>\n",
              "      <td>0.004989</td>\n",
              "      <td>0.037769</td>\n",
              "      <td>0.040486</td>\n",
              "      <td>0.023399</td>\n",
              "    </tr>\n",
              "    <tr>\n",
              "      <th>loan_status_class</th>\n",
              "      <td>-0.012414</td>\n",
              "      <td>-0.011587</td>\n",
              "      <td>-0.065165</td>\n",
              "      <td>-0.172665</td>\n",
              "      <td>-0.014173</td>\n",
              "      <td>0.011091</td>\n",
              "      <td>0.034576</td>\n",
              "      <td>0.047995</td>\n",
              "      <td>-0.046128</td>\n",
              "      <td>0.031806</td>\n",
              "      <td>...</td>\n",
              "      <td>-0.441935</td>\n",
              "      <td>0.167946</td>\n",
              "      <td>1.000000</td>\n",
              "      <td>0.098967</td>\n",
              "      <td>0.063416</td>\n",
              "      <td>-0.009379</td>\n",
              "      <td>-0.064451</td>\n",
              "      <td>-0.079609</td>\n",
              "      <td>-0.072717</td>\n",
              "      <td>-0.045579</td>\n",
              "    </tr>\n",
              "    <tr>\n",
              "      <th>grade_A</th>\n",
              "      <td>-0.047952</td>\n",
              "      <td>-0.048269</td>\n",
              "      <td>-0.243970</td>\n",
              "      <td>-0.631452</td>\n",
              "      <td>-0.036011</td>\n",
              "      <td>-0.019910</td>\n",
              "      <td>0.046439</td>\n",
              "      <td>0.073569</td>\n",
              "      <td>-0.124337</td>\n",
              "      <td>0.105965</td>\n",
              "      <td>...</td>\n",
              "      <td>-0.053649</td>\n",
              "      <td>-0.024982</td>\n",
              "      <td>0.098967</td>\n",
              "      <td>1.000000</td>\n",
              "      <td>-0.281397</td>\n",
              "      <td>-0.265078</td>\n",
              "      <td>-0.194559</td>\n",
              "      <td>-0.125897</td>\n",
              "      <td>-0.074754</td>\n",
              "      <td>-0.036773</td>\n",
              "    </tr>\n",
              "    <tr>\n",
              "      <th>grade_B</th>\n",
              "      <td>-0.093467</td>\n",
              "      <td>-0.093483</td>\n",
              "      <td>-0.221441</td>\n",
              "      <td>-0.344435</td>\n",
              "      <td>-0.068131</td>\n",
              "      <td>-0.005857</td>\n",
              "      <td>0.002251</td>\n",
              "      <td>-0.011409</td>\n",
              "      <td>-0.094909</td>\n",
              "      <td>0.046227</td>\n",
              "      <td>...</td>\n",
              "      <td>-0.047619</td>\n",
              "      <td>-0.024180</td>\n",
              "      <td>0.063416</td>\n",
              "      <td>-0.281397</td>\n",
              "      <td>1.000000</td>\n",
              "      <td>-0.390630</td>\n",
              "      <td>-0.286711</td>\n",
              "      <td>-0.185527</td>\n",
              "      <td>-0.110160</td>\n",
              "      <td>-0.054190</td>\n",
              "    </tr>\n",
              "    <tr>\n",
              "      <th>grade_C</th>\n",
              "      <td>-0.008204</td>\n",
              "      <td>-0.007514</td>\n",
              "      <td>0.064178</td>\n",
              "      <td>0.111480</td>\n",
              "      <td>-0.023897</td>\n",
              "      <td>0.011124</td>\n",
              "      <td>-0.012097</td>\n",
              "      <td>-0.032345</td>\n",
              "      <td>0.039431</td>\n",
              "      <td>-0.034744</td>\n",
              "      <td>...</td>\n",
              "      <td>-0.009570</td>\n",
              "      <td>-0.000930</td>\n",
              "      <td>-0.009379</td>\n",
              "      <td>-0.265078</td>\n",
              "      <td>-0.390630</td>\n",
              "      <td>1.000000</td>\n",
              "      <td>-0.270084</td>\n",
              "      <td>-0.174768</td>\n",
              "      <td>-0.103772</td>\n",
              "      <td>-0.051047</td>\n",
              "    </tr>\n",
              "    <tr>\n",
              "      <th>grade_D</th>\n",
              "      <td>0.039714</td>\n",
              "      <td>0.040228</td>\n",
              "      <td>0.152078</td>\n",
              "      <td>0.378994</td>\n",
              "      <td>0.030234</td>\n",
              "      <td>0.004386</td>\n",
              "      <td>-0.024241</td>\n",
              "      <td>-0.027671</td>\n",
              "      <td>0.065428</td>\n",
              "      <td>-0.060593</td>\n",
              "      <td>...</td>\n",
              "      <td>0.028918</td>\n",
              "      <td>0.004989</td>\n",
              "      <td>-0.064451</td>\n",
              "      <td>-0.194559</td>\n",
              "      <td>-0.286711</td>\n",
              "      <td>-0.270084</td>\n",
              "      <td>1.000000</td>\n",
              "      <td>-0.128274</td>\n",
              "      <td>-0.076165</td>\n",
              "      <td>-0.037467</td>\n",
              "    </tr>\n",
              "    <tr>\n",
              "      <th>grade_E</th>\n",
              "      <td>0.111479</td>\n",
              "      <td>0.110699</td>\n",
              "      <td>0.243871</td>\n",
              "      <td>0.440088</td>\n",
              "      <td>0.092421</td>\n",
              "      <td>0.008801</td>\n",
              "      <td>-0.008236</td>\n",
              "      <td>0.000298</td>\n",
              "      <td>0.105883</td>\n",
              "      <td>-0.055234</td>\n",
              "      <td>...</td>\n",
              "      <td>0.067712</td>\n",
              "      <td>0.037769</td>\n",
              "      <td>-0.079609</td>\n",
              "      <td>-0.125897</td>\n",
              "      <td>-0.185527</td>\n",
              "      <td>-0.174768</td>\n",
              "      <td>-0.128274</td>\n",
              "      <td>1.000000</td>\n",
              "      <td>-0.049286</td>\n",
              "      <td>-0.024244</td>\n",
              "    </tr>\n",
              "    <tr>\n",
              "      <th>grade_F</th>\n",
              "      <td>0.084524</td>\n",
              "      <td>0.083696</td>\n",
              "      <td>0.187278</td>\n",
              "      <td>0.381371</td>\n",
              "      <td>0.081325</td>\n",
              "      <td>0.005817</td>\n",
              "      <td>-0.010037</td>\n",
              "      <td>0.006285</td>\n",
              "      <td>0.088650</td>\n",
              "      <td>-0.036696</td>\n",
              "      <td>...</td>\n",
              "      <td>0.077385</td>\n",
              "      <td>0.040486</td>\n",
              "      <td>-0.072717</td>\n",
              "      <td>-0.074754</td>\n",
              "      <td>-0.110160</td>\n",
              "      <td>-0.103772</td>\n",
              "      <td>-0.076165</td>\n",
              "      <td>-0.049286</td>\n",
              "      <td>1.000000</td>\n",
              "      <td>-0.014396</td>\n",
              "    </tr>\n",
              "    <tr>\n",
              "      <th>grade_G</th>\n",
              "      <td>0.063630</td>\n",
              "      <td>0.063288</td>\n",
              "      <td>0.111855</td>\n",
              "      <td>0.212515</td>\n",
              "      <td>0.065646</td>\n",
              "      <td>0.001202</td>\n",
              "      <td>0.001991</td>\n",
              "      <td>0.020353</td>\n",
              "      <td>0.049377</td>\n",
              "      <td>-0.014465</td>\n",
              "      <td>...</td>\n",
              "      <td>0.047682</td>\n",
              "      <td>0.023399</td>\n",
              "      <td>-0.045579</td>\n",
              "      <td>-0.036773</td>\n",
              "      <td>-0.054190</td>\n",
              "      <td>-0.051047</td>\n",
              "      <td>-0.037467</td>\n",
              "      <td>-0.024244</td>\n",
              "      <td>-0.014396</td>\n",
              "      <td>1.000000</td>\n",
              "    </tr>\n",
              "  </tbody>\n",
              "</table>\n",
              "<p>24 rows × 24 columns</p>\n",
              "</div>\n",
              "      <button class=\"colab-df-convert\" onclick=\"convertToInteractive('df-791e6ce9-82d9-4916-bd65-507e3fdd6248')\"\n",
              "              title=\"Convert this dataframe to an interactive table.\"\n",
              "              style=\"display:none;\">\n",
              "        \n",
              "  <svg xmlns=\"http://www.w3.org/2000/svg\" height=\"24px\"viewBox=\"0 0 24 24\"\n",
              "       width=\"24px\">\n",
              "    <path d=\"M0 0h24v24H0V0z\" fill=\"none\"/>\n",
              "    <path d=\"M18.56 5.44l.94 2.06.94-2.06 2.06-.94-2.06-.94-.94-2.06-.94 2.06-2.06.94zm-11 1L8.5 8.5l.94-2.06 2.06-.94-2.06-.94L8.5 2.5l-.94 2.06-2.06.94zm10 10l.94 2.06.94-2.06 2.06-.94-2.06-.94-.94-2.06-.94 2.06-2.06.94z\"/><path d=\"M17.41 7.96l-1.37-1.37c-.4-.4-.92-.59-1.43-.59-.52 0-1.04.2-1.43.59L10.3 9.45l-7.72 7.72c-.78.78-.78 2.05 0 2.83L4 21.41c.39.39.9.59 1.41.59.51 0 1.02-.2 1.41-.59l7.78-7.78 2.81-2.81c.8-.78.8-2.07 0-2.86zM5.41 20L4 18.59l7.72-7.72 1.47 1.35L5.41 20z\"/>\n",
              "  </svg>\n",
              "      </button>\n",
              "      \n",
              "  <style>\n",
              "    .colab-df-container {\n",
              "      display:flex;\n",
              "      flex-wrap:wrap;\n",
              "      gap: 12px;\n",
              "    }\n",
              "\n",
              "    .colab-df-convert {\n",
              "      background-color: #E8F0FE;\n",
              "      border: none;\n",
              "      border-radius: 50%;\n",
              "      cursor: pointer;\n",
              "      display: none;\n",
              "      fill: #1967D2;\n",
              "      height: 32px;\n",
              "      padding: 0 0 0 0;\n",
              "      width: 32px;\n",
              "    }\n",
              "\n",
              "    .colab-df-convert:hover {\n",
              "      background-color: #E2EBFA;\n",
              "      box-shadow: 0px 1px 2px rgba(60, 64, 67, 0.3), 0px 1px 3px 1px rgba(60, 64, 67, 0.15);\n",
              "      fill: #174EA6;\n",
              "    }\n",
              "\n",
              "    [theme=dark] .colab-df-convert {\n",
              "      background-color: #3B4455;\n",
              "      fill: #D2E3FC;\n",
              "    }\n",
              "\n",
              "    [theme=dark] .colab-df-convert:hover {\n",
              "      background-color: #434B5C;\n",
              "      box-shadow: 0px 1px 3px 1px rgba(0, 0, 0, 0.15);\n",
              "      filter: drop-shadow(0px 1px 2px rgba(0, 0, 0, 0.3));\n",
              "      fill: #FFFFFF;\n",
              "    }\n",
              "  </style>\n",
              "\n",
              "      <script>\n",
              "        const buttonEl =\n",
              "          document.querySelector('#df-791e6ce9-82d9-4916-bd65-507e3fdd6248 button.colab-df-convert');\n",
              "        buttonEl.style.display =\n",
              "          google.colab.kernel.accessAllowed ? 'block' : 'none';\n",
              "\n",
              "        async function convertToInteractive(key) {\n",
              "          const element = document.querySelector('#df-791e6ce9-82d9-4916-bd65-507e3fdd6248');\n",
              "          const dataTable =\n",
              "            await google.colab.kernel.invokeFunction('convertToInteractive',\n",
              "                                                     [key], {});\n",
              "          if (!dataTable) return;\n",
              "\n",
              "          const docLinkHtml = 'Like what you see? Visit the ' +\n",
              "            '<a target=\"_blank\" href=https://colab.research.google.com/notebooks/data_table.ipynb>data table notebook</a>'\n",
              "            + ' to learn more about interactive tables.';\n",
              "          element.innerHTML = '';\n",
              "          dataTable['output_type'] = 'display_data';\n",
              "          await google.colab.output.renderOutput(dataTable, element);\n",
              "          const docLink = document.createElement('div');\n",
              "          docLink.innerHTML = docLinkHtml;\n",
              "          element.appendChild(docLink);\n",
              "        }\n",
              "      </script>\n",
              "    </div>\n",
              "  </div>\n",
              "  "
            ]
          },
          "metadata": {},
          "execution_count": 37
        }
      ],
      "source": [
        "corr"
      ]
    },
    {
      "cell_type": "markdown",
      "metadata": {
        "id": "Ln5tM4t3PakS"
      },
      "source": [
        "Korelasi \n",
        "\n",
        "loan_amnt - **funded_amnt**\n",
        "\n",
        "int_rate - **grade**\n",
        "\n",
        "installment - **funded_amnt** - loan_amnt\n",
        "\n",
        "**total_pymnt**\t- total_rec_prncp"
      ]
    },
    {
      "cell_type": "markdown",
      "metadata": {
        "id": "RwZjN6f9WH0R"
      },
      "source": [
        "## Drop Fitur Berdasarkan Korelasi"
      ]
    },
    {
      "cell_type": "code",
      "execution_count": null,
      "metadata": {
        "id": "y1MGd7FWWg3c"
      },
      "outputs": [],
      "source": [
        "df2.drop(['loan_amnt'], axis=1, inplace=True)"
      ]
    },
    {
      "cell_type": "markdown",
      "source": [
        "##OLS Regression"
      ],
      "metadata": {
        "id": "MoJJFDhZ5glU"
      }
    },
    {
      "cell_type": "code",
      "source": [
        "df3 = df2.copy()"
      ],
      "metadata": {
        "id": "L2EZv6F15kUD"
      },
      "execution_count": null,
      "outputs": []
    },
    {
      "cell_type": "code",
      "source": [
        "df_target = df['loan_status_class']\n",
        "df3.drop(['loan_status_class'],axis=1, inplace=True)"
      ],
      "metadata": {
        "id": "XYdmDHxR6cm5"
      },
      "execution_count": null,
      "outputs": []
    },
    {
      "cell_type": "code",
      "execution_count": null,
      "metadata": {
        "id": "k1a_GjD5jBLg"
      },
      "outputs": [],
      "source": [
        "ss = StandardScaler()\n",
        "cols = df3.columns\n",
        "df3[cols] = ss.fit_transform(df3[cols])"
      ]
    },
    {
      "cell_type": "code",
      "execution_count": null,
      "metadata": {
        "colab": {
          "base_uri": "https://localhost:8080/"
        },
        "id": "ajwCTVdTcMWH",
        "outputId": "3579b0b9-3931-4b7b-c5a6-e0d5a189566e"
      },
      "outputs": [
        {
          "output_type": "stream",
          "name": "stderr",
          "text": [
            "/usr/local/lib/python3.8/dist-packages/statsmodels/tsa/tsatools.py:142: FutureWarning: In a future version of pandas all arguments of concat except for the argument 'objs' will be keyword-only\n",
            "  x = pd.concat(x[::order], 1)\n"
          ]
        },
        {
          "output_type": "stream",
          "name": "stdout",
          "text": [
            "                            OLS Regression Results                            \n",
            "==============================================================================\n",
            "Dep. Variable:      loan_status_class   R-squared:                       0.223\n",
            "Model:                            OLS   Adj. R-squared:                  0.223\n",
            "Method:                 Least Squares   F-statistic:                     5104.\n",
            "Date:                Fri, 16 Dec 2022   Prob (F-statistic):               0.00\n",
            "Time:                        10:21:46   Log-Likelihood:                -47734.\n",
            "No. Observations:              373028   AIC:                         9.551e+04\n",
            "Df Residuals:                  373006   BIC:                         9.575e+04\n",
            "Df Model:                          21                                         \n",
            "Covariance Type:            nonrobust                                         \n",
            "=======================================================================================\n",
            "                          coef    std err          t      P>|t|      [0.025      0.975]\n",
            "---------------------------------------------------------------------------------------\n",
            "const                   0.6481      0.000   1297.314      0.000       0.647       0.649\n",
            "funded_amnt            -0.0159      0.001    -11.271      0.000      -0.019      -0.013\n",
            "term                    0.0156      0.001     11.895      0.000       0.013       0.018\n",
            "int_rate               -0.0216      0.002    -12.645      0.000      -0.025      -0.018\n",
            "installment            -0.0438      0.001    -31.854      0.000      -0.046      -0.041\n",
            "emp_length              0.0057      0.001      9.493      0.000       0.005       0.007\n",
            "home_ownership          0.0061      0.001     11.230      0.000       0.005       0.007\n",
            "annual_inc              0.0028      0.001      4.860      0.000       0.002       0.004\n",
            "verification_status    -0.0137      0.001    -22.883      0.000      -0.015      -0.013\n",
            "purpose                 0.0071      0.001      8.483      0.000       0.005       0.009\n",
            "dti                    -0.0002      0.001     -0.328      0.743      -0.002       0.001\n",
            "total_acc               0.0044      0.001      6.462      0.000       0.003       0.006\n",
            "total_pymnt             0.0445      0.001     30.319      0.000       0.042       0.047\n",
            "total_rec_prncp         0.1078      0.002     69.163      0.000       0.105       0.111\n",
            "recoveries             -0.1173      0.001   -229.879      0.000      -0.118      -0.116\n",
            "last_pymnt_amnt        -0.0294      0.001    -33.680      0.000      -0.031      -0.028\n",
            "grade_A                 0.1338      0.001    131.073      0.000       0.132       0.136\n",
            "grade_B                 0.2586      0.001    378.115      0.000       0.257       0.260\n",
            "grade_C                 0.2364      0.001    331.766      0.000       0.235       0.238\n",
            "grade_D                 0.1080      0.001    164.800      0.000       0.107       0.109\n",
            "grade_E                 0.0680      0.001     84.919      0.000       0.066       0.070\n",
            "grade_F                 0.0401      0.001     47.661      0.000       0.038       0.042\n",
            "grade_G                 0.0159      0.001     27.774      0.000       0.015       0.017\n",
            "==============================================================================\n",
            "Omnibus:                   169153.536   Durbin-Watson:                   1.996\n",
            "Prob(Omnibus):                  0.000   Jarque-Bera (JB):          1285819.847\n",
            "Skew:                          -2.032   Prob(JB):                         0.00\n",
            "Kurtosis:                      11.137   Cond. No.                     4.64e+15\n",
            "==============================================================================\n",
            "\n",
            "Notes:\n",
            "[1] Standard Errors assume that the covariance matrix of the errors is correctly specified.\n",
            "[2] The smallest eigenvalue is 4.01e-26. This might indicate that there are\n",
            "strong multicollinearity problems or that the design matrix is singular.\n"
          ]
        }
      ],
      "source": [
        "df3_sm = sm.add_constant(df3)\n",
        "sm_model = sm.OLS(df_target,df3_sm.astype(int)).fit()\n",
        "print(sm_model.summary())"
      ]
    },
    {
      "cell_type": "markdown",
      "source": [
        "##Drop Fitur Berdasarkan Uji OLS Regression"
      ],
      "metadata": {
        "id": "BMKRv0nV84M5"
      }
    },
    {
      "cell_type": "code",
      "execution_count": null,
      "metadata": {
        "id": "pYouTlV0L3MX"
      },
      "outputs": [],
      "source": [
        "df3.drop(['dti'],axis=1, inplace=True)"
      ]
    },
    {
      "cell_type": "code",
      "execution_count": null,
      "metadata": {
        "colab": {
          "base_uri": "https://localhost:8080/"
        },
        "id": "ahec4oKAdC9-",
        "outputId": "444dedc1-c64e-40d5-fe55-5733fe052c86"
      },
      "outputs": [
        {
          "output_type": "stream",
          "name": "stderr",
          "text": [
            "/usr/local/lib/python3.8/dist-packages/statsmodels/tsa/tsatools.py:142: FutureWarning: In a future version of pandas all arguments of concat except for the argument 'objs' will be keyword-only\n",
            "  x = pd.concat(x[::order], 1)\n"
          ]
        },
        {
          "output_type": "stream",
          "name": "stdout",
          "text": [
            "                            OLS Regression Results                            \n",
            "==============================================================================\n",
            "Dep. Variable:      loan_status_class   R-squared:                       0.223\n",
            "Model:                            OLS   Adj. R-squared:                  0.223\n",
            "Method:                 Least Squares   F-statistic:                     5359.\n",
            "Date:                Fri, 16 Dec 2022   Prob (F-statistic):               0.00\n",
            "Time:                        10:21:48   Log-Likelihood:                -47734.\n",
            "No. Observations:              373028   AIC:                         9.551e+04\n",
            "Df Residuals:                  373007   BIC:                         9.574e+04\n",
            "Df Model:                          20                                         \n",
            "Covariance Type:            nonrobust                                         \n",
            "=======================================================================================\n",
            "                          coef    std err          t      P>|t|      [0.025      0.975]\n",
            "---------------------------------------------------------------------------------------\n",
            "const                   0.6481      0.000   1298.395      0.000       0.647       0.649\n",
            "funded_amnt            -0.0159      0.001    -11.278      0.000      -0.019      -0.013\n",
            "term                    0.0156      0.001     11.898      0.000       0.013       0.018\n",
            "int_rate               -0.0216      0.002    -12.651      0.000      -0.025      -0.018\n",
            "installment            -0.0438      0.001    -31.858      0.000      -0.046      -0.041\n",
            "emp_length              0.0057      0.001      9.488      0.000       0.005       0.007\n",
            "home_ownership          0.0061      0.001     11.228      0.000       0.005       0.007\n",
            "annual_inc              0.0028      0.001      4.941      0.000       0.002       0.004\n",
            "verification_status    -0.0137      0.001    -22.961      0.000      -0.015      -0.013\n",
            "purpose                 0.0071      0.001      8.491      0.000       0.005       0.009\n",
            "total_acc               0.0043      0.001      6.515      0.000       0.003       0.006\n",
            "total_pymnt             0.0445      0.001     30.329      0.000       0.042       0.047\n",
            "total_rec_prncp         0.1078      0.002     69.186      0.000       0.105       0.111\n",
            "recoveries             -0.1173      0.001   -229.893      0.000      -0.118      -0.116\n",
            "last_pymnt_amnt        -0.0294      0.001    -33.678      0.000      -0.031      -0.028\n",
            "grade_A                 0.1338      0.001    131.206      0.000       0.132       0.136\n",
            "grade_B                 0.2586      0.001    378.245      0.000       0.257       0.260\n",
            "grade_C                 0.2364      0.001    332.191      0.000       0.235       0.238\n",
            "grade_D                 0.1080      0.001    164.959      0.000       0.107       0.109\n",
            "grade_E                 0.0680      0.001     84.939      0.000       0.066       0.070\n",
            "grade_F                 0.0401      0.001     47.660      0.000       0.038       0.042\n",
            "grade_G                 0.0159      0.001     27.774      0.000       0.015       0.017\n",
            "==============================================================================\n",
            "Omnibus:                   169153.737   Durbin-Watson:                   1.996\n",
            "Prob(Omnibus):                  0.000   Jarque-Bera (JB):          1285788.692\n",
            "Skew:                          -2.032   Prob(JB):                         0.00\n",
            "Kurtosis:                      11.137   Cond. No.                     5.90e+15\n",
            "==============================================================================\n",
            "\n",
            "Notes:\n",
            "[1] Standard Errors assume that the covariance matrix of the errors is correctly specified.\n",
            "[2] The smallest eigenvalue is 2.48e-26. This might indicate that there are\n",
            "strong multicollinearity problems or that the design matrix is singular.\n"
          ]
        }
      ],
      "source": [
        "df3_sm = sm.add_constant(df3)\n",
        "sm_model = sm.OLS(df_target,df3_sm.astype(int)).fit()\n",
        "print(sm_model.summary())"
      ]
    },
    {
      "cell_type": "markdown",
      "metadata": {
        "id": "xgBs3DAIvhnO"
      },
      "source": [
        "##Checkpoint"
      ]
    },
    {
      "cell_type": "code",
      "execution_count": null,
      "metadata": {
        "colab": {
          "base_uri": "https://localhost:8080/"
        },
        "id": "QIfr1yXqvn7K",
        "outputId": "783e9fbb-9a7a-4595-bc39-39a1ddea431e"
      },
      "outputs": [
        {
          "output_type": "stream",
          "name": "stdout",
          "text": [
            "<class 'pandas.core.frame.DataFrame'>\n",
            "RangeIndex: 373028 entries, 0 to 373027\n",
            "Data columns (total 21 columns):\n",
            " #   Column               Non-Null Count   Dtype  \n",
            "---  ------               --------------   -----  \n",
            " 0   funded_amnt          373028 non-null  float64\n",
            " 1   term                 373028 non-null  float64\n",
            " 2   int_rate             373028 non-null  float64\n",
            " 3   installment          373028 non-null  float64\n",
            " 4   emp_length           373028 non-null  float64\n",
            " 5   home_ownership       373028 non-null  float64\n",
            " 6   annual_inc           373028 non-null  float64\n",
            " 7   verification_status  373028 non-null  float64\n",
            " 8   purpose              373028 non-null  float64\n",
            " 9   total_acc            373028 non-null  float64\n",
            " 10  total_pymnt          373028 non-null  float64\n",
            " 11  total_rec_prncp      373028 non-null  float64\n",
            " 12  recoveries           373028 non-null  float64\n",
            " 13  last_pymnt_amnt      373028 non-null  float64\n",
            " 14  grade_A              373028 non-null  float64\n",
            " 15  grade_B              373028 non-null  float64\n",
            " 16  grade_C              373028 non-null  float64\n",
            " 17  grade_D              373028 non-null  float64\n",
            " 18  grade_E              373028 non-null  float64\n",
            " 19  grade_F              373028 non-null  float64\n",
            " 20  grade_G              373028 non-null  float64\n",
            "dtypes: float64(21)\n",
            "memory usage: 59.8 MB\n"
          ]
        }
      ],
      "source": [
        "df3.info()"
      ]
    },
    {
      "cell_type": "code",
      "source": [
        "df_target"
      ],
      "metadata": {
        "colab": {
          "base_uri": "https://localhost:8080/"
        },
        "id": "fz7o4OIY63wA",
        "outputId": "ea58e218-173a-4323-9581-ea3f544546ed"
      },
      "execution_count": null,
      "outputs": [
        {
          "output_type": "execute_result",
          "data": {
            "text/plain": [
              "0         1\n",
              "1         1\n",
              "2         1\n",
              "3         1\n",
              "4         0\n",
              "         ..\n",
              "373023    1\n",
              "373024    1\n",
              "373025    1\n",
              "373026    1\n",
              "373027    0\n",
              "Name: loan_status_class, Length: 373028, dtype: int64"
            ]
          },
          "metadata": {},
          "execution_count": 46
        }
      ]
    },
    {
      "cell_type": "markdown",
      "metadata": {
        "id": "xnvcBwTKVITa"
      },
      "source": [
        "#Modelling"
      ]
    },
    {
      "cell_type": "markdown",
      "metadata": {
        "id": "T79F1rYfbhRq"
      },
      "source": [
        "##Split Data"
      ]
    },
    {
      "cell_type": "code",
      "execution_count": null,
      "metadata": {
        "id": "Ejt2NlQKvo-Y"
      },
      "outputs": [],
      "source": [
        "y = df_target.copy()\n",
        "X = df3.copy()"
      ]
    },
    {
      "cell_type": "code",
      "execution_count": null,
      "metadata": {
        "colab": {
          "base_uri": "https://localhost:8080/"
        },
        "id": "5lkXPZafcG8q",
        "outputId": "e7ebfda3-5d0b-4179-a201-3c939becf98f"
      },
      "outputs": [
        {
          "output_type": "execute_result",
          "data": {
            "text/plain": [
              "1    332254\n",
              "0     40774\n",
              "Name: loan_status_class, dtype: int64"
            ]
          },
          "metadata": {},
          "execution_count": 48
        }
      ],
      "source": [
        "y.value_counts()"
      ]
    },
    {
      "cell_type": "code",
      "execution_count": null,
      "metadata": {
        "id": "yOoTQu_EcTSN"
      },
      "outputs": [],
      "source": [
        "X_train,X_test,y_train,y_test = ms.train_test_split(X,y,test_size=0.2,random_state=42)"
      ]
    },
    {
      "cell_type": "code",
      "execution_count": null,
      "metadata": {
        "colab": {
          "base_uri": "https://localhost:8080/"
        },
        "id": "390Y45hncjjO",
        "outputId": "17b82e40-f8c3-4c1c-8e81-7c29771506bd"
      },
      "outputs": [
        {
          "output_type": "stream",
          "name": "stdout",
          "text": [
            "        funded_amnt      term  int_rate  installment  emp_length  \\\n",
            "33656     -0.156085 -0.616902 -1.410850    -0.108686   -1.147159   \n",
            "12045     -0.231574 -0.616902 -0.166206    -0.058997    1.051257   \n",
            "294874     0.456891 -0.616902  0.407892     0.821306    1.051257   \n",
            "234958    -0.518435 -0.616902  0.033580    -0.370843    1.051257   \n",
            "27835     -0.648277 -0.616902  0.265516    -0.503605    1.051257   \n",
            "...             ...       ...       ...          ...         ...   \n",
            "259178     1.293316  1.621004 -1.250103     0.326887    1.051257   \n",
            "365838    -0.276868 -0.616902 -1.656564    -0.260913    1.051257   \n",
            "131932     0.689399 -0.616902 -0.618595     0.920354    1.051257   \n",
            "146867     0.327049 -0.616902 -1.792052     0.350787    1.051257   \n",
            "121958     0.689399  1.621004 -0.069757     0.117129    1.051257   \n",
            "\n",
            "        home_ownership  annual_inc  verification_status   purpose  total_acc  \\\n",
            "33656        -1.086432   -0.504912            -1.268200 -0.677506  -0.264618   \n",
            "12045        -1.086432    0.387626            -1.268200 -0.677506   1.374267   \n",
            "294874        0.502088    0.296769            -0.052418 -0.677506   2.495610   \n",
            "234958        0.502088   -0.629618            -0.052418  0.920342  -0.868418   \n",
            "27835        -1.086432    0.350214             1.163364  1.239911   0.942982   \n",
            "...                ...         ...                  ...       ...        ...   \n",
            "259178        0.502088    0.759962             1.163364 -0.677506  -0.178361   \n",
            "365838        0.502088    0.261139            -1.268200  1.239911   0.856725   \n",
            "131932        0.502088    0.118618             1.163364  1.239911   0.856725   \n",
            "146867        0.502088    0.831223            -1.268200  1.239911   0.339182   \n",
            "121958        0.502088    0.154248            -0.052418 -0.677506  -0.350875   \n",
            "\n",
            "        ...  total_rec_prncp  recoveries  last_pymnt_amnt   grade_A   grade_B  \\\n",
            "33656   ...        -0.490741   -0.154816        -0.489096  2.288424 -0.643955   \n",
            "12045   ...         0.499038   -0.154816         0.857652 -0.436982  1.552903   \n",
            "294874  ...         0.166286   -0.154816        -0.448362 -0.436982 -0.643955   \n",
            "234958  ...         0.161497   -0.154816         1.216571 -0.436982 -0.643955   \n",
            "27835   ...         0.008716   -0.154816         0.845839 -0.436982 -0.643955   \n",
            "...     ...              ...         ...              ...       ...       ...   \n",
            "259178  ...        -0.505500   -0.154816        -0.470018  2.288424 -0.643955   \n",
            "365838  ...        -0.160833   -0.154816        -0.495763  2.288424 -0.643955   \n",
            "131932  ...         1.582722   -0.154816        -0.444092 -0.436982  1.552903   \n",
            "146867  ...        -0.305696   -0.154816        -0.468971  2.288424 -0.643955   \n",
            "121958  ...         1.582722   -0.154816         2.642444 -0.436982  1.552903   \n",
            "\n",
            "         grade_C   grade_D   grade_E   grade_F   grade_G  \n",
            "33656  -0.606611 -0.445234 -0.288105 -0.171068 -0.084151  \n",
            "12045  -0.606611 -0.445234 -0.288105 -0.171068 -0.084151  \n",
            "294874  1.648504 -0.445234 -0.288105 -0.171068 -0.084151  \n",
            "234958  1.648504 -0.445234 -0.288105 -0.171068 -0.084151  \n",
            "27835   1.648504 -0.445234 -0.288105 -0.171068 -0.084151  \n",
            "...          ...       ...       ...       ...       ...  \n",
            "259178 -0.606611 -0.445234 -0.288105 -0.171068 -0.084151  \n",
            "365838 -0.606611 -0.445234 -0.288105 -0.171068 -0.084151  \n",
            "131932 -0.606611 -0.445234 -0.288105 -0.171068 -0.084151  \n",
            "146867 -0.606611 -0.445234 -0.288105 -0.171068 -0.084151  \n",
            "121958 -0.606611 -0.445234 -0.288105 -0.171068 -0.084151  \n",
            "\n",
            "[298422 rows x 21 columns]\n",
            "33656     1\n",
            "12045     1\n",
            "294874    1\n",
            "234958    1\n",
            "27835     1\n",
            "         ..\n",
            "259178    1\n",
            "365838    1\n",
            "131932    1\n",
            "146867    1\n",
            "121958    1\n",
            "Name: loan_status_class, Length: 298422, dtype: int64\n"
          ]
        }
      ],
      "source": [
        "print(X_train)\n",
        "print(y_train)"
      ]
    },
    {
      "cell_type": "code",
      "execution_count": null,
      "metadata": {
        "colab": {
          "base_uri": "https://localhost:8080/"
        },
        "id": "4xHYUlEhcnuV",
        "outputId": "5c3be31f-8716-40ad-9c3e-be39d230d859"
      },
      "outputs": [
        {
          "output_type": "stream",
          "name": "stdout",
          "text": [
            "<class 'pandas.core.frame.DataFrame'>\n",
            "RangeIndex: 373028 entries, 0 to 373027\n",
            "Data columns (total 21 columns):\n",
            " #   Column               Non-Null Count   Dtype  \n",
            "---  ------               --------------   -----  \n",
            " 0   funded_amnt          373028 non-null  float64\n",
            " 1   term                 373028 non-null  float64\n",
            " 2   int_rate             373028 non-null  float64\n",
            " 3   installment          373028 non-null  float64\n",
            " 4   emp_length           373028 non-null  float64\n",
            " 5   home_ownership       373028 non-null  float64\n",
            " 6   annual_inc           373028 non-null  float64\n",
            " 7   verification_status  373028 non-null  float64\n",
            " 8   purpose              373028 non-null  float64\n",
            " 9   total_acc            373028 non-null  float64\n",
            " 10  total_pymnt          373028 non-null  float64\n",
            " 11  total_rec_prncp      373028 non-null  float64\n",
            " 12  recoveries           373028 non-null  float64\n",
            " 13  last_pymnt_amnt      373028 non-null  float64\n",
            " 14  grade_A              373028 non-null  float64\n",
            " 15  grade_B              373028 non-null  float64\n",
            " 16  grade_C              373028 non-null  float64\n",
            " 17  grade_D              373028 non-null  float64\n",
            " 18  grade_E              373028 non-null  float64\n",
            " 19  grade_F              373028 non-null  float64\n",
            " 20  grade_G              373028 non-null  float64\n",
            "dtypes: float64(21)\n",
            "memory usage: 59.8 MB\n"
          ]
        }
      ],
      "source": [
        "X.info()"
      ]
    },
    {
      "cell_type": "markdown",
      "metadata": {
        "id": "pSWDsC2oc4Le"
      },
      "source": [
        "##Training Data"
      ]
    },
    {
      "cell_type": "markdown",
      "metadata": {
        "id": "Pubgdpd9dCUw"
      },
      "source": [
        "### Logistic Regression"
      ]
    },
    {
      "cell_type": "code",
      "execution_count": null,
      "metadata": {
        "colab": {
          "base_uri": "https://localhost:8080/"
        },
        "id": "1cbfZ7arcx1H",
        "outputId": "aa8ee601-4afa-4f56-f4d0-12716ec32c2f"
      },
      "outputs": [
        {
          "output_type": "execute_result",
          "data": {
            "text/plain": [
              "LogisticRegression(max_iter=100000000)"
            ]
          },
          "metadata": {},
          "execution_count": 52
        }
      ],
      "source": [
        "model = lm.LogisticRegression(max_iter=100000000) #MLE\n",
        "model.fit(X_train,y_train)"
      ]
    },
    {
      "cell_type": "code",
      "execution_count": null,
      "metadata": {
        "colab": {
          "base_uri": "https://localhost:8080/"
        },
        "id": "7Mvyq_wRdKqL",
        "outputId": "ee201704-f3ce-41d4-ede0-bd190e9509dc"
      },
      "outputs": [
        {
          "output_type": "stream",
          "name": "stdout",
          "text": [
            "[-0.28678241]\n",
            "[[ 1.26747205e+00 -1.43398554e-01 -1.42621590e+00 -2.91222828e+00\n",
            "   2.60418348e-02  6.74114775e-02  2.18271642e-01 -1.11715002e-01\n",
            "   2.64732537e-02 -4.73853809e-02  1.95692664e+00  1.67726921e+00\n",
            "  -3.59697208e+01  2.58190495e+00 -5.64025286e-01 -3.89012066e-01\n",
            "  -3.25845934e-03  3.47668528e-01  5.31468131e-01  5.32095802e-01\n",
            "   3.16749460e-01]]\n"
          ]
        }
      ],
      "source": [
        "print(model.intercept_)\n",
        "print(model.coef_)"
      ]
    },
    {
      "cell_type": "code",
      "execution_count": null,
      "metadata": {
        "colab": {
          "base_uri": "https://localhost:8080/"
        },
        "id": "synU_3a3dOJS",
        "outputId": "3cab8e11-d262-4c3d-93b1-eadf996f7cad"
      },
      "outputs": [
        {
          "output_type": "stream",
          "name": "stdout",
          "text": [
            "[1 1 1 ... 1 1 1]\n"
          ]
        }
      ],
      "source": [
        "y_prediksi=model.predict(X_test)\n",
        "print(y_prediksi)"
      ]
    },
    {
      "cell_type": "code",
      "execution_count": null,
      "metadata": {
        "colab": {
          "base_uri": "https://localhost:8080/"
        },
        "id": "zGu7_40RdYfx",
        "outputId": "45480c1a-d497-4e9d-d596-7165a53d4d3c"
      },
      "outputs": [
        {
          "output_type": "execute_result",
          "data": {
            "text/plain": [
              "171763    1\n",
              "85740     1\n",
              "100676    1\n",
              "213659    1\n",
              "35195     1\n",
              "         ..\n",
              "227580    1\n",
              "195066    1\n",
              "269840    1\n",
              "167897    1\n",
              "233525    1\n",
              "Name: loan_status_class, Length: 74606, dtype: int64"
            ]
          },
          "metadata": {},
          "execution_count": 55
        }
      ],
      "source": [
        "y_test"
      ]
    },
    {
      "cell_type": "code",
      "execution_count": null,
      "metadata": {
        "colab": {
          "base_uri": "https://localhost:8080/"
        },
        "id": "HNEcoNoldc_l",
        "outputId": "ba2a8cd5-7e4f-412a-a98e-8ab7f63a0275"
      },
      "outputs": [
        {
          "output_type": "execute_result",
          "data": {
            "text/plain": [
              "array([[ 4255,  3818],\n",
              "       [  120, 66413]])"
            ]
          },
          "metadata": {},
          "execution_count": 56
        }
      ],
      "source": [
        "confmatrix_log = met.confusion_matrix(y_test,y_prediksi)\n",
        "confmatrix_log"
      ]
    },
    {
      "cell_type": "code",
      "execution_count": null,
      "metadata": {
        "colab": {
          "base_uri": "https://localhost:8080/"
        },
        "id": "H5gXJ_tidkLZ",
        "outputId": "7bf3569a-512b-4fae-d68a-1f3b44b60c55"
      },
      "outputs": [
        {
          "output_type": "stream",
          "name": "stdout",
          "text": [
            "True Negative: 4255\n",
            "False Positive: 3818\n",
            "False Negative: 120\n",
            "True Positive: 66413\n"
          ]
        }
      ],
      "source": [
        "tn, fp, fn, tp = confmatrix_log.ravel()\n",
        "\n",
        "print(f'True Negative: {tn}')\n",
        "print(f'False Positive: {fp}')\n",
        "print(f'False Negative: {fn}')\n",
        "print(f'True Positive: {tp}')"
      ]
    },
    {
      "cell_type": "code",
      "execution_count": null,
      "metadata": {
        "colab": {
          "base_uri": "https://localhost:8080/",
          "height": 295
        },
        "id": "zk0Eosc8d4DQ",
        "outputId": "48599c7a-8014-4748-8186-ac07f4e89f31"
      },
      "outputs": [
        {
          "output_type": "display_data",
          "data": {
            "text/plain": [
              "<Figure size 432x288 with 2 Axes>"
            ],
            "image/png": "[encoded data removed]"
          },
          "metadata": {
            "needs_background": "light"
          }
        }
      ],
      "source": [
        "cm_display_log = met.ConfusionMatrixDisplay(confusion_matrix = confmatrix_log, display_labels = [False, True])\n",
        "\n",
        "cm_display_log.plot()\n",
        "plt.title('Confusion Matrix of Logistic Regression Model')\n",
        "plt.show()"
      ]
    },
    {
      "cell_type": "code",
      "execution_count": null,
      "metadata": {
        "colab": {
          "base_uri": "https://localhost:8080/"
        },
        "id": "FYdhtj-LeAPG",
        "outputId": "a71c6649-86d9-4769-80de-db32194a0bc8"
      },
      "outputs": [
        {
          "output_type": "stream",
          "name": "stdout",
          "text": [
            "              precision    recall  f1-score   support\n",
            "\n",
            "           0       0.97      0.53      0.68      8073\n",
            "           1       0.95      1.00      0.97     66533\n",
            "\n",
            "    accuracy                           0.95     74606\n",
            "   macro avg       0.96      0.76      0.83     74606\n",
            "weighted avg       0.95      0.95      0.94     74606\n",
            "\n"
          ]
        }
      ],
      "source": [
        "print(met.classification_report(y_test,y_prediksi))"
      ]
    },
    {
      "cell_type": "code",
      "execution_count": null,
      "metadata": {
        "colab": {
          "base_uri": "https://localhost:8080/"
        },
        "id": "equphS1IeGpc",
        "outputId": "e46b3419-73c5-47fa-ea82-bd29f8e7023c"
      },
      "outputs": [
        {
          "output_type": "stream",
          "name": "stdout",
          "text": [
            "[ True False  True  True False False False False False False  True  True\n",
            "  True  True False  True False False  True  True False]\n",
            "[ 1  6  1  1 11  8  5  7 10  9  1  1  1  1  2  1 12  3  1  1  4]\n"
          ]
        }
      ],
      "source": [
        "import sklearn.feature_selection as fs\n",
        "rfe = fs.RFE(model)\n",
        "rfe = rfe.fit(X_train,y_train)\n",
        "print(rfe.support_)\n",
        "print(rfe.ranking_)"
      ]
    },
    {
      "cell_type": "code",
      "execution_count": null,
      "metadata": {
        "colab": {
          "base_uri": "https://localhost:8080/",
          "height": 265
        },
        "id": "aTITvdD2re2H",
        "outputId": "0c3b9016-305c-499d-8d39-5ebfe3e899fd"
      },
      "outputs": [
        {
          "output_type": "display_data",
          "data": {
            "text/plain": [
              "<Figure size 432x288 with 1 Axes>"
            ],
            "image/png": "[encoded data removed]"
          },
          "metadata": {
            "needs_background": "light"
          }
        }
      ],
      "source": [
        "y_pred_proba_log = model.predict_proba(X_test)[::,1]\n",
        "fp, tp, _ = met.roc_curve(y_test, y_pred_proba_log)\n",
        "auc = met.roc_auc_score(y_test,y_pred_proba_log)\n",
        "plt.plot(fp,tp,label='kurva ROC LR, auc='+str(auc))\n",
        "plt.legend()\n",
        "plt.show()"
      ]
    },
    {
      "cell_type": "code",
      "execution_count": null,
      "metadata": {
        "colab": {
          "base_uri": "https://localhost:8080/"
        },
        "id": "6oqTj8Hkd120",
        "outputId": "2078cb24-a666-4c4c-9879-d08d41ea0ebc"
      },
      "outputs": [
        {
          "output_type": "stream",
          "name": "stdout",
          "text": [
            "Accuracy : 0.9472160416052329\n",
            "Precision : 0.9456365422676596\n",
            "Sensitivity : 0.9981963837494175\n"
          ]
        }
      ],
      "source": [
        "print('Accuracy :',met.accuracy_score(y_test,y_prediksi))\n",
        "print('Precision :',met.precision_score(y_test,y_prediksi))\n",
        "print('Sensitivity :',met.recall_score(y_test,y_prediksi))\n",
        "#print('AUC Score :',met.roc_auc_score(y_test,y_prediksi))"
      ]
    },
    {
      "cell_type": "code",
      "execution_count": null,
      "metadata": {
        "colab": {
          "base_uri": "https://localhost:8080/"
        },
        "id": "8M3l7ZW9q3St",
        "outputId": "75ae8df0-b484-405a-8f7f-1617e58abf9e"
      },
      "outputs": [
        {
          "output_type": "stream",
          "name": "stdout",
          "text": [
            "Jumlah error tipe 1 adalah 3818\n",
            "Jumlah error tipe 2 adalah 120\n",
            "Error rate : 0.05278395839476713\n"
          ]
        }
      ],
      "source": [
        "print('Jumlah error tipe 1 adalah',confmatrix_log[0][1] )\n",
        "print('Jumlah error tipe 2 adalah',confmatrix_log[1][0] )\n",
        "print('Error rate :', 1-met.accuracy_score(y_test,y_prediksi))"
      ]
    },
    {
      "cell_type": "markdown",
      "metadata": {
        "id": "x4uP3-AwuyBC"
      },
      "source": [
        "###Linear Discriminant Analysis (LDA)"
      ]
    },
    {
      "cell_type": "code",
      "execution_count": null,
      "metadata": {
        "id": "BueBI8DNu2FU"
      },
      "outputs": [],
      "source": [
        "lda = LinearDiscriminantAnalysis()\n",
        "model_lda = lda.fit(X_train,y_train)"
      ]
    },
    {
      "cell_type": "code",
      "execution_count": null,
      "metadata": {
        "colab": {
          "base_uri": "https://localhost:8080/"
        },
        "id": "imX5CmhevKEk",
        "outputId": "6a2b730e-bc9b-4688-f2dd-694b5d9ffd2d"
      },
      "outputs": [
        {
          "output_type": "stream",
          "name": "stdout",
          "text": [
            "b_0 = [3.6618908]\n",
            "b = [[ 0.46865724 -0.23409668 -0.98189046 -1.75034822  0.06454607  0.08439814\n",
            "   0.11677425 -0.13661356  0.03486404  0.04492174  2.59506227 -0.64956332\n",
            "  -1.74905769 -0.06147845 -0.25959698 -0.13071258  0.04662823  0.14895641\n",
            "   0.17455557  0.14799506  0.08747647]]\n"
          ]
        }
      ],
      "source": [
        "print(\"b_0 =\", model_lda.intercept_)\n",
        "print(\"b =\", model_lda.coef_)"
      ]
    },
    {
      "cell_type": "code",
      "execution_count": null,
      "metadata": {
        "colab": {
          "base_uri": "https://localhost:8080/"
        },
        "id": "vqvC69P_vO-K",
        "outputId": "31acd08f-a57d-427a-a2c2-0e13feb87eb7"
      },
      "outputs": [
        {
          "output_type": "stream",
          "name": "stdout",
          "text": [
            "[1 1 1 ... 1 1 1]\n"
          ]
        }
      ],
      "source": [
        "y_pred_LDA = model_lda.predict(X_test)\n",
        "print(y_pred_LDA)"
      ]
    },
    {
      "cell_type": "code",
      "execution_count": null,
      "metadata": {
        "colab": {
          "base_uri": "https://localhost:8080/"
        },
        "id": "2aaWRJPEvUGz",
        "outputId": "b2949c24-7ccb-40ef-a735-d685a175e3f5"
      },
      "outputs": [
        {
          "output_type": "execute_result",
          "data": {
            "text/plain": [
              "array([[ 2439,  5634],\n",
              "       [   21, 66512]])"
            ]
          },
          "metadata": {},
          "execution_count": 67
        }
      ],
      "source": [
        "confmatrix_LDA = met.confusion_matrix(y_test,y_pred_LDA)\n",
        "confmatrix_LDA"
      ]
    },
    {
      "cell_type": "code",
      "source": [
        "cm_display_lda = met.ConfusionMatrixDisplay(confusion_matrix = confmatrix_LDA, display_labels = [False, True])\n",
        "\n",
        "cm_display_lda.plot()\n",
        "plt.title('Confusion Matrix of LDA Model')\n",
        "plt.show()"
      ],
      "metadata": {
        "colab": {
          "base_uri": "https://localhost:8080/",
          "height": 295
        },
        "id": "lMl21bPqNQft",
        "outputId": "e02f1569-5411-4ea5-87e6-201bdbbae8f4"
      },
      "execution_count": null,
      "outputs": [
        {
          "output_type": "display_data",
          "data": {
            "text/plain": [
              "<Figure size 432x288 with 2 Axes>"
            ],
            "image/png": "[encoded data removed]"
          },
          "metadata": {
            "needs_background": "light"
          }
        }
      ]
    },
    {
      "cell_type": "code",
      "execution_count": null,
      "metadata": {
        "colab": {
          "base_uri": "https://localhost:8080/"
        },
        "id": "gwmH7-klvZMz",
        "outputId": "f061bcff-8c98-4f90-a95d-d210f6a1ad4f"
      },
      "outputs": [
        {
          "output_type": "stream",
          "name": "stdout",
          "text": [
            "              precision    recall  f1-score   support\n",
            "\n",
            "           0       0.99      0.30      0.46      8073\n",
            "           1       0.92      1.00      0.96     66533\n",
            "\n",
            "    accuracy                           0.92     74606\n",
            "   macro avg       0.96      0.65      0.71     74606\n",
            "weighted avg       0.93      0.92      0.91     74606\n",
            "\n"
          ]
        }
      ],
      "source": [
        "print(met.classification_report(y_test,y_pred_LDA))"
      ]
    },
    {
      "cell_type": "code",
      "source": [
        "y_pred_proba_lda = model_lda.predict_proba(X_test)[::,1]\n",
        "fp, tp, _ = met.roc_curve(y_test, y_pred_proba_lda)\n",
        "auc_lda = met.roc_auc_score(y_test,y_pred_proba_lda)\n",
        "plt.plot(fp,tp,label='kurva ROC LDA, auc='+str(auc_lda))\n",
        "plt.legend()\n",
        "plt.show()"
      ],
      "metadata": {
        "colab": {
          "base_uri": "https://localhost:8080/",
          "height": 265
        },
        "id": "HSJz1rE8NtDT",
        "outputId": "7dfa2e51-f717-45a1-b765-318bc9ebddfa"
      },
      "execution_count": null,
      "outputs": [
        {
          "output_type": "display_data",
          "data": {
            "text/plain": [
              "<Figure size 432x288 with 1 Axes>"
            ],
            "image/png": "[encoded data removed]"
          },
          "metadata": {
            "needs_background": "light"
          }
        }
      ]
    },
    {
      "cell_type": "code",
      "execution_count": null,
      "metadata": {
        "colab": {
          "base_uri": "https://localhost:8080/"
        },
        "id": "JCeU5lBtAYUt",
        "outputId": "a33be52b-c293-401a-f391-39cf416b80b5"
      },
      "outputs": [
        {
          "output_type": "stream",
          "name": "stdout",
          "text": [
            "Accuracy : 0.9242018068251884\n",
            "Precision : 0.9219083525074155\n",
            "Sensitivity : 0.9996843671561481\n"
          ]
        }
      ],
      "source": [
        "print('Accuracy :',met.accuracy_score(y_test,y_pred_LDA))\n",
        "print('Precision :',met.precision_score(y_test,y_pred_LDA))\n",
        "print('Sensitivity :',met.recall_score(y_test,y_pred_LDA))\n",
        "#print(met.roc_auc_score(y_test,y_pred_LDA))"
      ]
    },
    {
      "cell_type": "code",
      "source": [
        "print('Jumlah error tipe 1 adalah',confmatrix_LDA[0][1] )\n",
        "print('Jumlah error tipe 2 adalah',confmatrix_LDA[1][0] )\n",
        "print('Error rate :', 1-met.accuracy_score(y_test,y_pred_LDA))"
      ],
      "metadata": {
        "colab": {
          "base_uri": "https://localhost:8080/"
        },
        "id": "jFg-YxkBOsCH",
        "outputId": "d195fe79-f8b9-4d24-b781-459ff36a1476"
      },
      "execution_count": null,
      "outputs": [
        {
          "output_type": "stream",
          "name": "stdout",
          "text": [
            "Jumlah error tipe 1 adalah 5634\n",
            "Jumlah error tipe 2 adalah 21\n",
            "Error rate : 0.07579819317481162\n"
          ]
        }
      ]
    },
    {
      "cell_type": "markdown",
      "metadata": {
        "id": "MIhFXHfxudwv"
      },
      "source": [
        "###Decision Tree"
      ]
    },
    {
      "cell_type": "code",
      "execution_count": null,
      "metadata": {
        "colab": {
          "base_uri": "https://localhost:8080/"
        },
        "id": "QGgqIjKkuc2l",
        "outputId": "35b4d76e-f6b3-4da3-b93d-29e8f35de93c"
      },
      "outputs": [
        {
          "output_type": "execute_result",
          "data": {
            "text/plain": [
              "DecisionTreeClassifier(criterion='entropy', max_depth=10)"
            ]
          },
          "metadata": {},
          "execution_count": 73
        }
      ],
      "source": [
        "dt_model=DecisionTreeClassifier(criterion='entropy', max_depth=10)\n",
        "dt_model.fit(X_train,y_train)"
      ]
    },
    {
      "cell_type": "code",
      "execution_count": null,
      "metadata": {
        "id": "bYmyotoDw_Wi"
      },
      "outputs": [],
      "source": [
        "dt_pred = dt_model.predict(X_test)"
      ]
    },
    {
      "cell_type": "code",
      "execution_count": null,
      "metadata": {
        "colab": {
          "base_uri": "https://localhost:8080/"
        },
        "id": "sxj4x_jUxYKL",
        "outputId": "5132d973-24a3-4d83-be56-6e052f66ecd5"
      },
      "outputs": [
        {
          "output_type": "stream",
          "name": "stdout",
          "text": [
            "[[ 5494  2579]\n",
            " [  148 66385]]\n"
          ]
        }
      ],
      "source": [
        "confmatrix_dt = met.confusion_matrix(y_test,dt_pred)\n",
        "print(confmatrix_dt)"
      ]
    },
    {
      "cell_type": "code",
      "source": [
        "cm_display_dt = met.ConfusionMatrixDisplay(confusion_matrix = confmatrix_dt, display_labels = [False, True])\n",
        "\n",
        "cm_display_dt.plot()\n",
        "plt.title('Confusion Matrix of Decision Tree Model')\n",
        "plt.show()"
      ],
      "metadata": {
        "colab": {
          "base_uri": "https://localhost:8080/",
          "height": 295
        },
        "outputId": "b39b6041-5f67-4810-996d-eb1a6265b9cf",
        "id": "jrvXprzNOlZv"
      },
      "execution_count": null,
      "outputs": [
        {
          "output_type": "display_data",
          "data": {
            "text/plain": [
              "<Figure size 432x288 with 2 Axes>"
            ],
            "image/png": "[encoded data removed]"
          },
          "metadata": {
            "needs_background": "light"
          }
        }
      ]
    },
    {
      "cell_type": "code",
      "execution_count": null,
      "metadata": {
        "colab": {
          "base_uri": "https://localhost:8080/"
        },
        "id": "umNla21dxiyL",
        "outputId": "4627d1ce-e0a7-47f1-d0d2-d1f113e62fdd"
      },
      "outputs": [
        {
          "output_type": "stream",
          "name": "stdout",
          "text": [
            "              precision    recall  f1-score   support\n",
            "\n",
            "           0       0.97      0.68      0.80      8073\n",
            "           1       0.96      1.00      0.98     66533\n",
            "\n",
            "    accuracy                           0.96     74606\n",
            "   macro avg       0.97      0.84      0.89     74606\n",
            "weighted avg       0.96      0.96      0.96     74606\n",
            "\n"
          ]
        }
      ],
      "source": [
        "print(classification_report(y_test,dt_pred))"
      ]
    },
    {
      "cell_type": "code",
      "source": [
        "y_pred_proba_dt = dt_model.predict_proba(X_test)[::,1]\n",
        "fp, tp, _ = met.roc_curve(y_test, y_pred_proba_dt)\n",
        "auc_dt = met.roc_auc_score(y_test,y_pred_proba_dt)\n",
        "plt.plot(fp,tp,label='kurva ROC Decision Tree, auc='+str(auc_dt))\n",
        "plt.legend()\n",
        "plt.show()"
      ],
      "metadata": {
        "colab": {
          "base_uri": "https://localhost:8080/",
          "height": 265
        },
        "outputId": "83a0d472-c0e5-499d-d90f-ca9fca9934eb",
        "id": "S2c1i0ypOlZx"
      },
      "execution_count": null,
      "outputs": [
        {
          "output_type": "display_data",
          "data": {
            "text/plain": [
              "<Figure size 432x288 with 1 Axes>"
            ],
            "image/png": "[encoded data removed]"
          },
          "metadata": {
            "needs_background": "light"
          }
        }
      ]
    },
    {
      "cell_type": "code",
      "execution_count": null,
      "metadata": {
        "colab": {
          "base_uri": "https://localhost:8080/"
        },
        "outputId": "e171a733-7aa8-4a62-8340-702cf9178fbd",
        "id": "k7l7XQGEOlZy"
      },
      "outputs": [
        {
          "output_type": "stream",
          "name": "stdout",
          "text": [
            "Accuracy : 0.9634479800552235\n",
            "Precision : 0.9626036772809001\n",
            "Sensitivity : 0.997775539957615\n"
          ]
        }
      ],
      "source": [
        "print('Accuracy :',met.accuracy_score(y_test,dt_pred))\n",
        "print('Precision :',met.precision_score(y_test,dt_pred))\n",
        "print('Sensitivity :',met.recall_score(y_test,dt_pred))\n",
        "#print(met.roc_auc_score(y_test,y_pred_LDA))"
      ]
    },
    {
      "cell_type": "code",
      "source": [
        "print('Jumlah error tipe 1 adalah',confmatrix_dt[0][1] )\n",
        "print('Jumlah error tipe 2 adalah',confmatrix_dt[1][0] )\n",
        "print('Error rate :', 1-met.accuracy_score(y_test,dt_pred))"
      ],
      "metadata": {
        "colab": {
          "base_uri": "https://localhost:8080/"
        },
        "id": "VnbwMB8lQ6EA",
        "outputId": "dea990e7-1807-47e6-92fc-30f59c400cb2"
      },
      "execution_count": null,
      "outputs": [
        {
          "output_type": "stream",
          "name": "stdout",
          "text": [
            "Jumlah error tipe 1 adalah 2579\n",
            "Jumlah error tipe 2 adalah 148\n",
            "Error rate : 0.036552019944776526\n"
          ]
        }
      ]
    },
    {
      "cell_type": "code",
      "execution_count": null,
      "metadata": {
        "colab": {
          "base_uri": "https://localhost:8080/",
          "height": 1000
        },
        "id": "8-MKHWyOZTuP",
        "outputId": "686fa9f0-e0f2-43d7-b13e-41bb2d93c8d0"
      },
      "outputs": [
        {
          "output_type": "execute_result",
          "data": {
            "text/plain": [
              "<graphviz.files.Source at 0x7fec39d6c310>"
            ],
            "image/svg+xml": "<?xml version=\"1.0\" encoding=\"UTF-8\" standalone=\"no\"?>\n<!DOCTYPE svg PUBLIC \"-//W3C//DTD SVG 1.1//EN\"\n \"http://www.w3.org/Graphics/SVG/1.1/DTD/svg11.dtd\">\n<!-- Generated by graphviz version 2.40.1 (20161225.0304)\n -->\n<!-- Title: Tree Pages: 1 -->\n<svg width=\"27117pt\" height=\"1101pt\"\n viewBox=\"0.00 0.00 27117.00 1101.00\" xmlns=\"http://www.w3.org/2000/svg\" xmlns:xlink=\"http://www.w3.org/1999/xlink\">\n<g id=\"graph0\" class=\"graph\" transform=\"scale(1 1) rotate(0) translate(4 1097)\">\n<title>Tree</title>\n<polygon fill=\"#ffffff\" stroke=\"transparent\" points=\"-4,4 -4,-1097 27113,-1097 27113,4 -4,4\"/>\n<!-- 0 -->\n<g id=\"node1\" class=\"node\">\n<title>0</title>\n<polygon fill=\"#51a9e8\" stroke=\"#000000\" points=\"13081.5,-1093 12908.5,-1093 12908.5,-1025 13081.5,-1025 13081.5,-1093\"/>\n<text text-anchor=\"middle\" x=\"12995\" y=\"-1077.8\" font-family=\"Helvetica,sans-Serif\" font-size=\"14.00\" fill=\"#000000\">X[12] &lt;= &#45;0.155</text>\n<text text-anchor=\"middle\" x=\"12995\" y=\"-1062.8\" font-family=\"Helvetica,sans-Serif\" font-size=\"14.00\" fill=\"#000000\">entropy = 0.499</text>\n<text text-anchor=\"middle\" x=\"12995\" y=\"-1047.8\" font-family=\"Helvetica,sans-Serif\" font-size=\"14.00\" fill=\"#000000\">samples = 298422</text>\n<text text-anchor=\"middle\" x=\"12995\" y=\"-1032.8\" font-family=\"Helvetica,sans-Serif\" font-size=\"14.00\" fill=\"#000000\">value = [32701, 265721]</text>\n</g>\n<!-- 1 -->\n<g id=\"node2\" class=\"node\">\n<title>1</title>\n<polygon fill=\"#46a3e7\" stroke=\"#000000\" points=\"12996.5,-989 12823.5,-989 12823.5,-921 12996.5,-921 12996.5,-989\"/>\n<text text-anchor=\"middle\" x=\"12910\" y=\"-973.8\" font-family=\"Helvetica,sans-Serif\" font-size=\"14.00\" fill=\"#000000\">X[11] &lt;= &#45;0.834</text>\n<text text-anchor=\"middle\" x=\"12910\" y=\"-958.8\" font-family=\"Helvetica,sans-Serif\" font-size=\"14.00\" fill=\"#000000\">entropy = 0.328</text>\n<text text-anchor=\"middle\" x=\"12910\" y=\"-943.8\" font-family=\"Helvetica,sans-Serif\" font-size=\"14.00\" fill=\"#000000\">samples = 282754</text>\n<text text-anchor=\"middle\" x=\"12910\" y=\"-928.8\" font-family=\"Helvetica,sans-Serif\" font-size=\"14.00\" fill=\"#000000\">value = [17033, 265721]</text>\n</g>\n<!-- 0&#45;&gt;1 -->\n<g id=\"edge1\" class=\"edge\">\n<title>0&#45;&gt;1</title>\n<path fill=\"none\" stroke=\"#000000\" d=\"M12967.1678,-1024.9465C12959.903,-1016.0578 12951.9864,-1006.3716 12944.424,-997.1188\"/>\n<polygon fill=\"#000000\" stroke=\"#000000\" points=\"12946.9331,-994.658 12937.8947,-989.13 12941.513,-999.0878 12946.9331,-994.658\"/>\n<text text-anchor=\"middle\" x=\"12935.3941\" y=\"-1010.3046\" font-family=\"Helvetica,sans-Serif\" font-size=\"14.00\" fill=\"#000000\">True</text>\n</g>\n<!-- 516 -->\n<g id=\"node517\" class=\"node\">\n<title>516</title>\n<polygon fill=\"#e58139\" stroke=\"#000000\" points=\"13147,-981.5 13015,-981.5 13015,-928.5 13147,-928.5 13147,-981.5\"/>\n<text text-anchor=\"middle\" x=\"13081\" y=\"-966.3\" font-family=\"Helvetica,sans-Serif\" font-size=\"14.00\" fill=\"#000000\">entropy = 0.0</text>\n<text text-anchor=\"middle\" x=\"13081\" y=\"-951.3\" font-family=\"Helvetica,sans-Serif\" font-size=\"14.00\" fill=\"#000000\">samples = 15668</text>\n<text text-anchor=\"middle\" x=\"13081\" y=\"-936.3\" font-family=\"Helvetica,sans-Serif\" font-size=\"14.00\" fill=\"#000000\">value = [15668, 0]</text>\n</g>\n<!-- 0&#45;&gt;516 -->\n<g id=\"edge516\" class=\"edge\">\n<title>0&#45;&gt;516</title>\n<path fill=\"none\" stroke=\"#000000\" d=\"M13023.1596,-1024.9465C13032.5413,-1013.6012 13042.9973,-1000.9567 13052.4113,-989.5724\"/>\n<polygon fill=\"#000000\" stroke=\"#000000\" points=\"13055.3763,-991.4791 13059.0517,-981.5422 13049.9817,-987.0182 13055.3763,-991.4791\"/>\n<text text-anchor=\"middle\" x=\"13061.4095\" y=\"-1002.7307\" font-family=\"Helvetica,sans-Serif\" font-size=\"14.00\" fill=\"#000000\">False</text>\n</g>\n<!-- 2 -->\n<g id=\"node3\" class=\"node\">\n<title>2</title>\n<polygon fill=\"#69b5eb\" stroke=\"#000000\" points=\"9711.5,-885 9554.5,-885 9554.5,-817 9711.5,-817 9711.5,-885\"/>\n<text text-anchor=\"middle\" x=\"9633\" y=\"-869.8\" font-family=\"Helvetica,sans-Serif\" font-size=\"14.00\" fill=\"#000000\">X[3] &lt;= &#45;0.503</text>\n<text text-anchor=\"middle\" x=\"9633\" y=\"-854.8\" font-family=\"Helvetica,sans-Serif\" font-size=\"14.00\" fill=\"#000000\">entropy = 0.713</text>\n<text text-anchor=\"middle\" x=\"9633\" y=\"-839.8\" font-family=\"Helvetica,sans-Serif\" font-size=\"14.00\" fill=\"#000000\">samples = 43900</text>\n<text text-anchor=\"middle\" x=\"9633\" y=\"-824.8\" font-family=\"Helvetica,sans-Serif\" font-size=\"14.00\" fill=\"#000000\">value = [8583, 35317]</text>\n</g>\n<!-- 1&#45;&gt;2 -->\n<g id=\"edge2\" class=\"edge\">\n<title>1&#45;&gt;2</title>\n<path fill=\"none\" stroke=\"#000000\" d=\"M12823.1923,-952.245C12360.6147,-937.5645 10189.0981,-868.6485 9721.7552,-853.8168\"/>\n<polygon fill=\"#000000\" stroke=\"#000000\" points=\"9721.7964,-850.3164 9711.6904,-853.4973 9721.5743,-857.3129 9721.7964,-850.3164\"/>\n</g>\n<!-- 253 -->\n<g id=\"node254\" class=\"node\">\n<title>253</title>\n<polygon fill=\"#40a1e6\" stroke=\"#000000\" points=\"18559.5,-885 18394.5,-885 18394.5,-817 18559.5,-817 18559.5,-885\"/>\n<text text-anchor=\"middle\" x=\"18477\" y=\"-869.8\" font-family=\"Helvetica,sans-Serif\" font-size=\"14.00\" fill=\"#000000\">X[13] &lt;= &#45;0.179</text>\n<text text-anchor=\"middle\" x=\"18477\" y=\"-854.8\" font-family=\"Helvetica,sans-Serif\" font-size=\"14.00\" fill=\"#000000\">entropy = 0.221</text>\n<text text-anchor=\"middle\" x=\"18477\" y=\"-839.8\" font-family=\"Helvetica,sans-Serif\" font-size=\"14.00\" fill=\"#000000\">samples = 238854</text>\n<text text-anchor=\"middle\" x=\"18477\" y=\"-824.8\" font-family=\"Helvetica,sans-Serif\" font-size=\"14.00\" fill=\"#000000\">value = [8450, 230404]</text>\n</g>\n<!-- 1&#45;&gt;253 -->\n<g id=\"edge253\" class=\"edge\">\n<title>1&#45;&gt;253</title>\n<path fill=\"none\" stroke=\"#000000\" d=\"M12996.5189,-922.9303C12999.6998,-922.2077 13002.8669,-921.5591 13006,-921 13281.4646,-871.8442 17685.8738,-853.8706 18384.0787,-851.3246\"/>\n<polygon fill=\"#000000\" stroke=\"#000000\" points=\"18384.3452,-854.8237 18394.3324,-851.2873 18384.3197,-847.8238 18384.3452,-854.8237\"/>\n</g>\n<!-- 3 -->\n<g id=\"node4\" class=\"node\">\n<title>3</title>\n<polygon fill=\"#55abe9\" stroke=\"#000000\" points=\"5985.5,-781 5828.5,-781 5828.5,-713 5985.5,-713 5985.5,-781\"/>\n<text text-anchor=\"middle\" x=\"5907\" y=\"-765.8\" font-family=\"Helvetica,sans-Serif\" font-size=\"14.00\" fill=\"#000000\">X[11] &lt;= &#45;1.047</text>\n<text text-anchor=\"middle\" x=\"5907\" y=\"-750.8\" font-family=\"Helvetica,sans-Serif\" font-size=\"14.00\" fill=\"#000000\">entropy = 0.546</text>\n<text text-anchor=\"middle\" x=\"5907\" y=\"-735.8\" font-family=\"Helvetica,sans-Serif\" font-size=\"14.00\" fill=\"#000000\">samples = 35530</text>\n<text text-anchor=\"middle\" x=\"5907\" y=\"-720.8\" font-family=\"Helvetica,sans-Serif\" font-size=\"14.00\" fill=\"#000000\">value = [4467, 31063]</text>\n</g>\n<!-- 2&#45;&gt;3 -->\n<g id=\"edge3\" class=\"edge\">\n<title>2&#45;&gt;3</title>\n<path fill=\"none\" stroke=\"#000000\" d=\"M9554.3175,-848.8038C9071.0311,-835.3143 6508.4525,-763.7877 5996.1691,-749.4889\"/>\n<polygon fill=\"#000000\" stroke=\"#000000\" points=\"5995.9776,-745.9823 5985.8838,-749.2018 5995.7822,-752.9795 5995.9776,-745.9823\"/>\n</g>\n<!-- 154 -->\n<g id=\"node155\" class=\"node\">\n<title>154</title>\n<polygon fill=\"#f9fcfe\" stroke=\"#000000\" points=\"9707.5,-781 9558.5,-781 9558.5,-713 9707.5,-713 9707.5,-781\"/>\n<text text-anchor=\"middle\" x=\"9633\" y=\"-765.8\" font-family=\"Helvetica,sans-Serif\" font-size=\"14.00\" fill=\"#000000\">X[10] &lt;= &#45;0.909</text>\n<text text-anchor=\"middle\" x=\"9633\" y=\"-750.8\" font-family=\"Helvetica,sans-Serif\" font-size=\"14.00\" fill=\"#000000\">entropy = 1.0</text>\n<text text-anchor=\"middle\" x=\"9633\" y=\"-735.8\" font-family=\"Helvetica,sans-Serif\" font-size=\"14.00\" fill=\"#000000\">samples = 8370</text>\n<text text-anchor=\"middle\" x=\"9633\" y=\"-720.8\" font-family=\"Helvetica,sans-Serif\" font-size=\"14.00\" fill=\"#000000\">value = [4116, 4254]</text>\n</g>\n<!-- 2&#45;&gt;154 -->\n<g id=\"edge154\" class=\"edge\">\n<title>2&#45;&gt;154</title>\n<path fill=\"none\" stroke=\"#000000\" d=\"M9633,-816.9465C9633,-808.776 9633,-799.9318 9633,-791.3697\"/>\n<polygon fill=\"#000000\" stroke=\"#000000\" points=\"9636.5001,-791.13 9633,-781.13 9629.5001,-791.13 9636.5001,-791.13\"/>\n</g>\n<!-- 4 -->\n<g id=\"node5\" class=\"node\">\n<title>4</title>\n<polygon fill=\"#85c3ef\" stroke=\"#000000\" points=\"2682.5,-677 2533.5,-677 2533.5,-609 2682.5,-609 2682.5,-677\"/>\n<text text-anchor=\"middle\" x=\"2608\" y=\"-661.8\" font-family=\"Helvetica,sans-Serif\" font-size=\"14.00\" fill=\"#000000\">X[3] &lt;= &#45;1.153</text>\n<text text-anchor=\"middle\" x=\"2608\" y=\"-646.8\" font-family=\"Helvetica,sans-Serif\" font-size=\"14.00\" fill=\"#000000\">entropy = 0.853</text>\n<text text-anchor=\"middle\" x=\"2608\" y=\"-631.8\" font-family=\"Helvetica,sans-Serif\" font-size=\"14.00\" fill=\"#000000\">samples = 8634</text>\n<text text-anchor=\"middle\" x=\"2608\" y=\"-616.8\" font-family=\"Helvetica,sans-Serif\" font-size=\"14.00\" fill=\"#000000\">value = [2401, 6233]</text>\n</g>\n<!-- 3&#45;&gt;4 -->\n<g id=\"edge4\" class=\"edge\">\n<title>3&#45;&gt;4</title>\n<path fill=\"none\" stroke=\"#000000\" d=\"M5828.3017,-744.5191C5380.4559,-730.4009 3156.9249,-660.3047 2692.9418,-645.6778\"/>\n<polygon fill=\"#000000\" stroke=\"#000000\" points=\"2692.7406,-642.1698 2682.6352,-645.3529 2692.52,-649.1663 2692.7406,-642.1698\"/>\n</g>\n<!-- 79 -->\n<g id=\"node80\" class=\"node\">\n<title>79</title>\n<polygon fill=\"#49a5e7\" stroke=\"#000000\" points=\"5985.5,-677 5828.5,-677 5828.5,-609 5985.5,-609 5985.5,-677\"/>\n<text text-anchor=\"middle\" x=\"5907\" y=\"-661.8\" font-family=\"Helvetica,sans-Serif\" font-size=\"14.00\" fill=\"#000000\">X[0] &lt;= &#45;1.365</text>\n<text text-anchor=\"middle\" x=\"5907\" y=\"-646.8\" font-family=\"Helvetica,sans-Serif\" font-size=\"14.00\" fill=\"#000000\">entropy = 0.391</text>\n<text text-anchor=\"middle\" x=\"5907\" y=\"-631.8\" font-family=\"Helvetica,sans-Serif\" font-size=\"14.00\" fill=\"#000000\">samples = 26896</text>\n<text text-anchor=\"middle\" x=\"5907\" y=\"-616.8\" font-family=\"Helvetica,sans-Serif\" font-size=\"14.00\" fill=\"#000000\">value = [2066, 24830]</text>\n</g>\n<!-- 3&#45;&gt;79 -->\n<g id=\"edge79\" class=\"edge\">\n<title>3&#45;&gt;79</title>\n<path fill=\"none\" stroke=\"#000000\" d=\"M5907,-712.9465C5907,-704.776 5907,-695.9318 5907,-687.3697\"/>\n<polygon fill=\"#000000\" stroke=\"#000000\" points=\"5910.5001,-687.13 5907,-677.13 5903.5001,-687.13 5910.5001,-687.13\"/>\n</g>\n<!-- 5 -->\n<g id=\"node6\" class=\"node\">\n<title>5</title>\n<polygon fill=\"#56ace9\" stroke=\"#000000\" points=\"1087,-573 947,-573 947,-505 1087,-505 1087,-573\"/>\n<text text-anchor=\"middle\" x=\"1017\" y=\"-557.8\" font-family=\"Helvetica,sans-Serif\" font-size=\"14.00\" fill=\"#000000\">X[11] &lt;= &#45;1.218</text>\n<text text-anchor=\"middle\" x=\"1017\" y=\"-542.8\" font-family=\"Helvetica,sans-Serif\" font-size=\"14.00\" fill=\"#000000\">entropy = 0.556</text>\n<text text-anchor=\"middle\" x=\"1017\" y=\"-527.8\" font-family=\"Helvetica,sans-Serif\" font-size=\"14.00\" fill=\"#000000\">samples = 6917</text>\n<text text-anchor=\"middle\" x=\"1017\" y=\"-512.8\" font-family=\"Helvetica,sans-Serif\" font-size=\"14.00\" fill=\"#000000\">value = [895, 6022]</text>\n</g>\n<!-- 4&#45;&gt;5 -->\n<g id=\"edge5\" class=\"edge\">\n<title>4&#45;&gt;5</title>\n<path fill=\"none\" stroke=\"#000000\" d=\"M2533.3967,-638.1234C2268.1829,-620.7869 1372.1654,-562.2163 1097.63,-544.2706\"/>\n<polygon fill=\"#000000\" stroke=\"#000000\" points=\"1097.5576,-540.7585 1087.3506,-543.5987 1097.101,-547.7436 1097.5576,-540.7585\"/>\n</g>\n<!-- 40 -->\n<g id=\"node41\" class=\"node\">\n<title>40</title>\n<polygon fill=\"#e99355\" stroke=\"#000000\" points=\"2678,-573 2538,-573 2538,-505 2678,-505 2678,-573\"/>\n<text text-anchor=\"middle\" x=\"2608\" y=\"-557.8\" font-family=\"Helvetica,sans-Serif\" font-size=\"14.00\" fill=\"#000000\">X[11] &lt;= &#45;1.073</text>\n<text text-anchor=\"middle\" x=\"2608\" y=\"-542.8\" font-family=\"Helvetica,sans-Serif\" font-size=\"14.00\" fill=\"#000000\">entropy = 0.538</text>\n<text text-anchor=\"middle\" x=\"2608\" y=\"-527.8\" font-family=\"Helvetica,sans-Serif\" font-size=\"14.00\" fill=\"#000000\">samples = 1717</text>\n<text text-anchor=\"middle\" x=\"2608\" y=\"-512.8\" font-family=\"Helvetica,sans-Serif\" font-size=\"14.00\" fill=\"#000000\">value = [1506, 211]</text>\n</g>\n<!-- 4&#45;&gt;40 -->\n<g id=\"edge40\" class=\"edge\">\n<title>4&#45;&gt;40</title>\n<path fill=\"none\" stroke=\"#000000\" d=\"M2608,-608.9465C2608,-600.776 2608,-591.9318 2608,-583.3697\"/>\n<polygon fill=\"#000000\" stroke=\"#000000\" points=\"2611.5001,-583.13 2608,-573.13 2604.5001,-583.13 2611.5001,-583.13\"/>\n</g>\n<!-- 6 -->\n<g id=\"node7\" class=\"node\">\n<title>6</title>\n<polygon fill=\"#e6853f\" stroke=\"#000000\" points=\"486,-469 370,-469 370,-401 486,-401 486,-469\"/>\n<text text-anchor=\"middle\" x=\"428\" y=\"-453.8\" font-family=\"Helvetica,sans-Serif\" font-size=\"14.00\" fill=\"#000000\">X[11] &lt;= &#45;1.221</text>\n<text text-anchor=\"middle\" x=\"428\" y=\"-438.8\" font-family=\"Helvetica,sans-Serif\" font-size=\"14.00\" fill=\"#000000\">entropy = 0.19</text>\n<text text-anchor=\"middle\" x=\"428\" y=\"-423.8\" font-family=\"Helvetica,sans-Serif\" font-size=\"14.00\" fill=\"#000000\">samples = 172</text>\n<text text-anchor=\"middle\" x=\"428\" y=\"-408.8\" font-family=\"Helvetica,sans-Serif\" font-size=\"14.00\" fill=\"#000000\">value = [167, 5]</text>\n</g>\n<!-- 5&#45;&gt;6 -->\n<g id=\"edge6\" class=\"edge\">\n<title>5&#45;&gt;6</title>\n<path fill=\"none\" stroke=\"#000000\" d=\"M946.8297,-526.61C832.8302,-506.481 608.8262,-466.9286 496.145,-447.0324\"/>\n<polygon fill=\"#000000\" stroke=\"#000000\" points=\"496.7091,-443.5779 486.2528,-445.2857 495.4919,-450.4713 496.7091,-443.5779\"/>\n</g>\n<!-- 11 -->\n<g id=\"node12\" class=\"node\">\n<title>11</title>\n<polygon fill=\"#51a9e8\" stroke=\"#000000\" points=\"1087,-469 947,-469 947,-401 1087,-401 1087,-469\"/>\n<text text-anchor=\"middle\" x=\"1017\" y=\"-453.8\" font-family=\"Helvetica,sans-Serif\" font-size=\"14.00\" fill=\"#000000\">X[11] &lt;= &#45;1.12</text>\n<text text-anchor=\"middle\" x=\"1017\" y=\"-438.8\" font-family=\"Helvetica,sans-Serif\" font-size=\"14.00\" fill=\"#000000\">entropy = 0.494</text>\n<text text-anchor=\"middle\" x=\"1017\" y=\"-423.8\" font-family=\"Helvetica,sans-Serif\" font-size=\"14.00\" fill=\"#000000\">samples = 6745</text>\n<text text-anchor=\"middle\" x=\"1017\" y=\"-408.8\" font-family=\"Helvetica,sans-Serif\" font-size=\"14.00\" fill=\"#000000\">value = [728, 6017]</text>\n</g>\n<!-- 5&#45;&gt;11 -->\n<g id=\"edge11\" class=\"edge\">\n<title>5&#45;&gt;11</title>\n<path fill=\"none\" stroke=\"#000000\" d=\"M1017,-504.9465C1017,-496.776 1017,-487.9318 1017,-479.3697\"/>\n<polygon fill=\"#000000\" stroke=\"#000000\" points=\"1020.5001,-479.13 1017,-469.13 1013.5001,-479.13 1020.5001,-479.13\"/>\n</g>\n<!-- 7 -->\n<g id=\"node8\" class=\"node\">\n<title>7</title>\n<polygon fill=\"#e58139\" stroke=\"#000000\" points=\"351,-357.5 235,-357.5 235,-304.5 351,-304.5 351,-357.5\"/>\n<text text-anchor=\"middle\" x=\"293\" y=\"-342.3\" font-family=\"Helvetica,sans-Serif\" font-size=\"14.00\" fill=\"#000000\">entropy = 0.0</text>\n<text text-anchor=\"middle\" x=\"293\" y=\"-327.3\" font-family=\"Helvetica,sans-Serif\" font-size=\"14.00\" fill=\"#000000\">samples = 153</text>\n<text text-anchor=\"middle\" x=\"293\" y=\"-312.3\" font-family=\"Helvetica,sans-Serif\" font-size=\"14.00\" fill=\"#000000\">value = [153, 0]</text>\n</g>\n<!-- 6&#45;&gt;7 -->\n<g id=\"edge7\" class=\"edge\">\n<title>6&#45;&gt;7</title>\n<path fill=\"none\" stroke=\"#000000\" d=\"M383.796,-400.9465C368.3539,-389.0504 351.0578,-375.726 335.7375,-363.9237\"/>\n<polygon fill=\"#000000\" stroke=\"#000000\" points=\"337.5117,-360.8723 327.4538,-357.5422 333.2397,-366.4176 337.5117,-360.8723\"/>\n</g>\n<!-- 8 -->\n<g id=\"node9\" class=\"node\">\n<title>8</title>\n<polygon fill=\"#eeae80\" stroke=\"#000000\" points=\"487,-365 369,-365 369,-297 487,-297 487,-365\"/>\n<text text-anchor=\"middle\" x=\"428\" y=\"-349.8\" font-family=\"Helvetica,sans-Serif\" font-size=\"14.00\" fill=\"#000000\">X[3] &lt;= &#45;1.628</text>\n<text text-anchor=\"middle\" x=\"428\" y=\"-334.8\" font-family=\"Helvetica,sans-Serif\" font-size=\"14.00\" fill=\"#000000\">entropy = 0.831</text>\n<text text-anchor=\"middle\" x=\"428\" y=\"-319.8\" font-family=\"Helvetica,sans-Serif\" font-size=\"14.00\" fill=\"#000000\">samples = 19</text>\n<text text-anchor=\"middle\" x=\"428\" y=\"-304.8\" font-family=\"Helvetica,sans-Serif\" font-size=\"14.00\" fill=\"#000000\">value = [14, 5]</text>\n</g>\n<!-- 6&#45;&gt;8 -->\n<g id=\"edge8\" class=\"edge\">\n<title>6&#45;&gt;8</title>\n<path fill=\"none\" stroke=\"#000000\" d=\"M428,-400.9465C428,-392.776 428,-383.9318 428,-375.3697\"/>\n<polygon fill=\"#000000\" stroke=\"#000000\" points=\"431.5001,-375.13 428,-365.13 424.5001,-375.13 431.5001,-375.13\"/>\n</g>\n<!-- 9 -->\n<g id=\"node10\" class=\"node\">\n<title>9</title>\n<polygon fill=\"#399de5\" stroke=\"#000000\" points=\"356.5,-253.5 255.5,-253.5 255.5,-200.5 356.5,-200.5 356.5,-253.5\"/>\n<text text-anchor=\"middle\" x=\"306\" y=\"-238.3\" font-family=\"Helvetica,sans-Serif\" font-size=\"14.00\" fill=\"#000000\">entropy = 0.0</text>\n<text text-anchor=\"middle\" x=\"306\" y=\"-223.3\" font-family=\"Helvetica,sans-Serif\" font-size=\"14.00\" fill=\"#000000\">samples = 5</text>\n<text text-anchor=\"middle\" x=\"306\" y=\"-208.3\" font-family=\"Helvetica,sans-Serif\" font-size=\"14.00\" fill=\"#000000\">value = [0, 5]</text>\n</g>\n<!-- 8&#45;&gt;9 -->\n<g id=\"edge9\" class=\"edge\">\n<title>8&#45;&gt;9</title>\n<path fill=\"none\" stroke=\"#000000\" d=\"M388.0526,-296.9465C374.2268,-285.1606 358.7564,-271.9726 345.0071,-260.2519\"/>\n<polygon fill=\"#000000\" stroke=\"#000000\" points=\"347.0168,-257.366 337.136,-253.5422 342.4756,-262.6931 347.0168,-257.366\"/>\n</g>\n<!-- 10 -->\n<g id=\"node11\" class=\"node\">\n<title>10</title>\n<polygon fill=\"#e58139\" stroke=\"#000000\" points=\"481.5,-253.5 374.5,-253.5 374.5,-200.5 481.5,-200.5 481.5,-253.5\"/>\n<text text-anchor=\"middle\" x=\"428\" y=\"-238.3\" font-family=\"Helvetica,sans-Serif\" font-size=\"14.00\" fill=\"#000000\">entropy = 0.0</text>\n<text text-anchor=\"middle\" x=\"428\" y=\"-223.3\" font-family=\"Helvetica,sans-Serif\" font-size=\"14.00\" fill=\"#000000\">samples = 14</text>\n<text text-anchor=\"middle\" x=\"428\" y=\"-208.3\" font-family=\"Helvetica,sans-Serif\" font-size=\"14.00\" fill=\"#000000\">value = [14, 0]</text>\n</g>\n<!-- 8&#45;&gt;10 -->\n<g id=\"edge10\" class=\"edge\">\n<title>8&#45;&gt;10</title>\n<path fill=\"none\" stroke=\"#000000\" d=\"M428,-296.9465C428,-286.2621 428,-274.4254 428,-263.5742\"/>\n<polygon fill=\"#000000\" stroke=\"#000000\" points=\"431.5001,-263.5421 428,-253.5422 424.5001,-263.5422 431.5001,-263.5421\"/>\n</g>\n<!-- 12 -->\n<g id=\"node13\" class=\"node\">\n<title>12</title>\n<polygon fill=\"#69b5eb\" stroke=\"#000000\" points=\"886,-365 746,-365 746,-297 886,-297 886,-365\"/>\n<text text-anchor=\"middle\" x=\"816\" y=\"-349.8\" font-family=\"Helvetica,sans-Serif\" font-size=\"14.00\" fill=\"#000000\">X[13] &lt;= &#45;0.544</text>\n<text text-anchor=\"middle\" x=\"816\" y=\"-334.8\" font-family=\"Helvetica,sans-Serif\" font-size=\"14.00\" fill=\"#000000\">entropy = 0.709</text>\n<text text-anchor=\"middle\" x=\"816\" y=\"-319.8\" font-family=\"Helvetica,sans-Serif\" font-size=\"14.00\" fill=\"#000000\">samples = 2612</text>\n<text text-anchor=\"middle\" x=\"816\" y=\"-304.8\" font-family=\"Helvetica,sans-Serif\" font-size=\"14.00\" fill=\"#000000\">value = [506, 2106]</text>\n</g>\n<!-- 11&#45;&gt;12 -->\n<g id=\"edge12\" class=\"edge\">\n<title>11&#45;&gt;12</title>\n<path fill=\"none\" stroke=\"#000000\" d=\"M951.1851,-400.9465C931.9235,-390.9803 910.7245,-380.0117 890.9409,-369.7754\"/>\n<polygon fill=\"#000000\" stroke=\"#000000\" points=\"892.4528,-366.6169 881.9628,-365.13 889.2359,-372.834 892.4528,-366.6169\"/>\n</g>\n<!-- 27 -->\n<g id=\"node28\" class=\"node\">\n<title>27</title>\n<polygon fill=\"#44a3e6\" stroke=\"#000000\" points=\"1220,-365 1080,-365 1080,-297 1220,-297 1220,-365\"/>\n<text text-anchor=\"middle\" x=\"1150\" y=\"-349.8\" font-family=\"Helvetica,sans-Serif\" font-size=\"14.00\" fill=\"#000000\">X[3] &lt;= &#45;1.579</text>\n<text text-anchor=\"middle\" x=\"1150\" y=\"-334.8\" font-family=\"Helvetica,sans-Serif\" font-size=\"14.00\" fill=\"#000000\">entropy = 0.302</text>\n<text text-anchor=\"middle\" x=\"1150\" y=\"-319.8\" font-family=\"Helvetica,sans-Serif\" font-size=\"14.00\" fill=\"#000000\">samples = 4133</text>\n<text text-anchor=\"middle\" x=\"1150\" y=\"-304.8\" font-family=\"Helvetica,sans-Serif\" font-size=\"14.00\" fill=\"#000000\">value = [222, 3911]</text>\n</g>\n<!-- 11&#45;&gt;27 -->\n<g id=\"edge27\" class=\"edge\">\n<title>11&#45;&gt;27</title>\n<path fill=\"none\" stroke=\"#000000\" d=\"M1060.5492,-400.9465C1072.6054,-391.519 1085.8089,-381.1946 1098.2816,-371.4415\"/>\n<polygon fill=\"#000000\" stroke=\"#000000\" points=\"1100.6314,-374.0471 1106.353,-365.13 1096.3194,-368.5328 1100.6314,-374.0471\"/>\n</g>\n<!-- 13 -->\n<g id=\"node14\" class=\"node\">\n<title>13</title>\n<polygon fill=\"#51a9e8\" stroke=\"#000000\" points=\"640,-261 500,-261 500,-193 640,-193 640,-261\"/>\n<text text-anchor=\"middle\" x=\"570\" y=\"-245.8\" font-family=\"Helvetica,sans-Serif\" font-size=\"14.00\" fill=\"#000000\">X[3] &lt;= &#45;1.493</text>\n<text text-anchor=\"middle\" x=\"570\" y=\"-230.8\" font-family=\"Helvetica,sans-Serif\" font-size=\"14.00\" fill=\"#000000\">entropy = 0.497</text>\n<text text-anchor=\"middle\" x=\"570\" y=\"-215.8\" font-family=\"Helvetica,sans-Serif\" font-size=\"14.00\" fill=\"#000000\">samples = 2259</text>\n<text text-anchor=\"middle\" x=\"570\" y=\"-200.8\" font-family=\"Helvetica,sans-Serif\" font-size=\"14.00\" fill=\"#000000\">value = [246, 2013]</text>\n</g>\n<!-- 12&#45;&gt;13 -->\n<g id=\"edge13\" class=\"edge\">\n<title>12&#45;&gt;13</title>\n<path fill=\"none\" stroke=\"#000000\" d=\"M745.8355,-301.337C715.8485,-288.6595 680.6885,-273.7951 649.7227,-260.7039\"/>\n<polygon fill=\"#000000\" stroke=\"#000000\" points=\"650.8313,-257.3727 640.2577,-256.7024 648.1055,-263.8202 650.8313,-257.3727\"/>\n</g>\n<!-- 20 -->\n<g id=\"node21\" class=\"node\">\n<title>20</title>\n<polygon fill=\"#eeae80\" stroke=\"#000000\" points=\"878,-261 754,-261 754,-193 878,-193 878,-261\"/>\n<text text-anchor=\"middle\" x=\"816\" y=\"-245.8\" font-family=\"Helvetica,sans-Serif\" font-size=\"14.00\" fill=\"#000000\">X[0] &lt;= &#45;1.337</text>\n<text text-anchor=\"middle\" x=\"816\" y=\"-230.8\" font-family=\"Helvetica,sans-Serif\" font-size=\"14.00\" fill=\"#000000\">entropy = 0.832</text>\n<text text-anchor=\"middle\" x=\"816\" y=\"-215.8\" font-family=\"Helvetica,sans-Serif\" font-size=\"14.00\" fill=\"#000000\">samples = 353</text>\n<text text-anchor=\"middle\" x=\"816\" y=\"-200.8\" font-family=\"Helvetica,sans-Serif\" font-size=\"14.00\" fill=\"#000000\">value = [260, 93]</text>\n</g>\n<!-- 12&#45;&gt;20 -->\n<g id=\"edge20\" class=\"edge\">\n<title>12&#45;&gt;20</title>\n<path fill=\"none\" stroke=\"#000000\" d=\"M816,-296.9465C816,-288.776 816,-279.9318 816,-271.3697\"/>\n<polygon fill=\"#000000\" stroke=\"#000000\" points=\"819.5001,-271.13 816,-261.13 812.5001,-271.13 819.5001,-271.13\"/>\n</g>\n<!-- 14 -->\n<g id=\"node15\" class=\"node\">\n<title>14</title>\n<polygon fill=\"#46a4e7\" stroke=\"#000000\" points=\"268,-157 136,-157 136,-89 268,-89 268,-157\"/>\n<text text-anchor=\"middle\" x=\"202\" y=\"-141.8\" font-family=\"Helvetica,sans-Serif\" font-size=\"14.00\" fill=\"#000000\">X[11] &lt;= &#45;1.212</text>\n<text text-anchor=\"middle\" x=\"202\" y=\"-126.8\" font-family=\"Helvetica,sans-Serif\" font-size=\"14.00\" fill=\"#000000\">entropy = 0.34</text>\n<text text-anchor=\"middle\" x=\"202\" y=\"-111.8\" font-family=\"Helvetica,sans-Serif\" font-size=\"14.00\" fill=\"#000000\">samples = 1424</text>\n<text text-anchor=\"middle\" x=\"202\" y=\"-96.8\" font-family=\"Helvetica,sans-Serif\" font-size=\"14.00\" fill=\"#000000\">value = [90, 1334]</text>\n</g>\n<!-- 13&#45;&gt;14 -->\n<g id=\"edge14\" class=\"edge\">\n<title>13&#45;&gt;14</title>\n<path fill=\"none\" stroke=\"#000000\" d=\"M499.5699,-196.3291C496.3519,-195.1612 493.1514,-194.0449 490,-193 419.3597,-169.5787 336.6113,-150.2786 277.9842,-137.9189\"/>\n<polygon fill=\"#000000\" stroke=\"#000000\" points=\"278.563,-134.4644 268.0584,-135.8441 277.1307,-141.3163 278.563,-134.4644\"/>\n</g>\n<!-- 17 -->\n<g id=\"node18\" class=\"node\">\n<title>17</title>\n<polygon fill=\"#66b4eb\" stroke=\"#000000\" points=\"540,-157 408,-157 408,-89 540,-89 540,-157\"/>\n<text text-anchor=\"middle\" x=\"474\" y=\"-141.8\" font-family=\"Helvetica,sans-Serif\" font-size=\"14.00\" fill=\"#000000\">X[11] &lt;= &#45;1.18</text>\n<text text-anchor=\"middle\" x=\"474\" y=\"-126.8\" font-family=\"Helvetica,sans-Serif\" font-size=\"14.00\" fill=\"#000000\">entropy = 0.695</text>\n<text text-anchor=\"middle\" x=\"474\" y=\"-111.8\" font-family=\"Helvetica,sans-Serif\" font-size=\"14.00\" fill=\"#000000\">samples = 835</text>\n<text text-anchor=\"middle\" x=\"474\" y=\"-96.8\" font-family=\"Helvetica,sans-Serif\" font-size=\"14.00\" fill=\"#000000\">value = [156, 679]</text>\n</g>\n<!-- 13&#45;&gt;17 -->\n<g id=\"edge17\" class=\"edge\">\n<title>13&#45;&gt;17</title>\n<path fill=\"none\" stroke=\"#000000\" d=\"M538.566,-192.9465C530.1953,-183.8782 521.0584,-173.9799 512.3617,-164.5585\"/>\n<polygon fill=\"#000000\" stroke=\"#000000\" points=\"514.8593,-162.1041 505.5046,-157.13 509.7156,-166.852 514.8593,-162.1041\"/>\n</g>\n<!-- 15 -->\n<g id=\"node16\" class=\"node\">\n<title>15</title>\n<polygon fill=\"#7fbfee\" stroke=\"#000000\" points=\"118,-53 0,-53 0,0 118,0 118,-53\"/>\n<text text-anchor=\"middle\" x=\"59\" y=\"-37.8\" font-family=\"Helvetica,sans-Serif\" font-size=\"14.00\" fill=\"#000000\">entropy = 0.827</text>\n<text text-anchor=\"middle\" x=\"59\" y=\"-22.8\" font-family=\"Helvetica,sans-Serif\" font-size=\"14.00\" fill=\"#000000\">samples = 50</text>\n<text text-anchor=\"middle\" x=\"59\" y=\"-7.8\" font-family=\"Helvetica,sans-Serif\" font-size=\"14.00\" fill=\"#000000\">value = [13, 37]</text>\n</g>\n<!-- 14&#45;&gt;15 -->\n<g id=\"edge15\" class=\"edge\">\n<title>14&#45;&gt;15</title>\n<path fill=\"none\" stroke=\"#000000\" d=\"M151.5835,-88.9777C137.2,-79.2713 121.5663,-68.7213 107.3115,-59.1018\"/>\n<polygon fill=\"#000000\" stroke=\"#000000\" points=\"108.8846,-55.941 98.6376,-53.2485 104.969,-61.7435 108.8846,-55.941\"/>\n</g>\n<!-- 16 -->\n<g id=\"node17\" class=\"node\">\n<title>16</title>\n<polygon fill=\"#45a3e7\" stroke=\"#000000\" points=\"268,-53 136,-53 136,0 268,0 268,-53\"/>\n<text text-anchor=\"middle\" x=\"202\" y=\"-37.8\" font-family=\"Helvetica,sans-Serif\" font-size=\"14.00\" fill=\"#000000\">entropy = 0.312</text>\n<text text-anchor=\"middle\" x=\"202\" y=\"-22.8\" font-family=\"Helvetica,sans-Serif\" font-size=\"14.00\" fill=\"#000000\">samples = 1374</text>\n<text text-anchor=\"middle\" x=\"202\" y=\"-7.8\" font-family=\"Helvetica,sans-Serif\" font-size=\"14.00\" fill=\"#000000\">value = [77, 1297]</text>\n</g>\n<!-- 14&#45;&gt;16 -->\n<g id=\"edge16\" class=\"edge\">\n<title>14&#45;&gt;16</title>\n<path fill=\"none\" stroke=\"#000000\" d=\"M202,-88.9777C202,-80.7364 202,-71.887 202,-63.5153\"/>\n<polygon fill=\"#000000\" stroke=\"#000000\" points=\"205.5001,-63.2484 202,-53.2485 198.5001,-63.2485 205.5001,-63.2484\"/>\n</g>\n<!-- 18 -->\n<g id=\"node19\" class=\"node\">\n<title>18</title>\n<polygon fill=\"#e58139\" stroke=\"#000000\" points=\"393.5,-53 286.5,-53 286.5,0 393.5,0 393.5,-53\"/>\n<text text-anchor=\"middle\" x=\"340\" y=\"-37.8\" font-family=\"Helvetica,sans-Serif\" font-size=\"14.00\" fill=\"#000000\">entropy = 0.0</text>\n<text text-anchor=\"middle\" x=\"340\" y=\"-22.8\" font-family=\"Helvetica,sans-Serif\" font-size=\"14.00\" fill=\"#000000\">samples = 64</text>\n<text text-anchor=\"middle\" x=\"340\" y=\"-7.8\" font-family=\"Helvetica,sans-Serif\" font-size=\"14.00\" fill=\"#000000\">value = [64, 0]</text>\n</g>\n<!-- 17&#45;&gt;18 -->\n<g id=\"edge18\" class=\"edge\">\n<title>17&#45;&gt;18</title>\n<path fill=\"none\" stroke=\"#000000\" d=\"M426.7566,-88.9777C413.2783,-79.2713 398.6285,-68.7213 385.2709,-59.1018\"/>\n<polygon fill=\"#000000\" stroke=\"#000000\" points=\"387.3031,-56.2522 377.143,-53.2485 383.2124,-61.9325 387.3031,-56.2522\"/>\n</g>\n<!-- 19 -->\n<g id=\"node20\" class=\"node\">\n<title>19</title>\n<polygon fill=\"#54aae9\" stroke=\"#000000\" points=\"536,-53 412,-53 412,0 536,0 536,-53\"/>\n<text text-anchor=\"middle\" x=\"474\" y=\"-37.8\" font-family=\"Helvetica,sans-Serif\" font-size=\"14.00\" fill=\"#000000\">entropy = 0.527</text>\n<text text-anchor=\"middle\" x=\"474\" y=\"-22.8\" font-family=\"Helvetica,sans-Serif\" font-size=\"14.00\" fill=\"#000000\">samples = 771</text>\n<text text-anchor=\"middle\" x=\"474\" y=\"-7.8\" font-family=\"Helvetica,sans-Serif\" font-size=\"14.00\" fill=\"#000000\">value = [92, 679]</text>\n</g>\n<!-- 17&#45;&gt;19 -->\n<g id=\"edge19\" class=\"edge\">\n<title>17&#45;&gt;19</title>\n<path fill=\"none\" stroke=\"#000000\" d=\"M474,-88.9777C474,-80.7364 474,-71.887 474,-63.5153\"/>\n<polygon fill=\"#000000\" stroke=\"#000000\" points=\"477.5001,-63.2484 474,-53.2485 470.5001,-63.2485 477.5001,-63.2484\"/>\n</g>\n<!-- 21 -->\n<g id=\"node22\" class=\"node\">\n<title>21</title>\n<polygon fill=\"#fdf7f2\" stroke=\"#000000\" points=\"807,-157 689,-157 689,-89 807,-89 807,-157\"/>\n<text text-anchor=\"middle\" x=\"748\" y=\"-141.8\" font-family=\"Helvetica,sans-Serif\" font-size=\"14.00\" fill=\"#000000\">X[11] &lt;= &#45;1.146</text>\n<text text-anchor=\"middle\" x=\"748\" y=\"-126.8\" font-family=\"Helvetica,sans-Serif\" font-size=\"14.00\" fill=\"#000000\">entropy = 0.999</text>\n<text text-anchor=\"middle\" x=\"748\" y=\"-111.8\" font-family=\"Helvetica,sans-Serif\" font-size=\"14.00\" fill=\"#000000\">samples = 176</text>\n<text text-anchor=\"middle\" x=\"748\" y=\"-96.8\" font-family=\"Helvetica,sans-Serif\" font-size=\"14.00\" fill=\"#000000\">value = [91, 85]</text>\n</g>\n<!-- 20&#45;&gt;21 -->\n<g id=\"edge21\" class=\"edge\">\n<title>20&#45;&gt;21</title>\n<path fill=\"none\" stroke=\"#000000\" d=\"M793.7343,-192.9465C788.0398,-184.2373 781.8448,-174.7626 775.9062,-165.6801\"/>\n<polygon fill=\"#000000\" stroke=\"#000000\" points=\"778.7177,-163.5843 770.3158,-157.13 772.8589,-167.4151 778.7177,-163.5843\"/>\n</g>\n<!-- 24 -->\n<g id=\"node25\" class=\"node\">\n<title>24</title>\n<polygon fill=\"#e68742\" stroke=\"#000000\" points=\"943,-157 825,-157 825,-89 943,-89 943,-157\"/>\n<text text-anchor=\"middle\" x=\"884\" y=\"-141.8\" font-family=\"Helvetica,sans-Serif\" font-size=\"14.00\" fill=\"#000000\">X[10] &lt;= &#45;1.226</text>\n<text text-anchor=\"middle\" x=\"884\" y=\"-126.8\" font-family=\"Helvetica,sans-Serif\" font-size=\"14.00\" fill=\"#000000\">entropy = 0.266</text>\n<text text-anchor=\"middle\" x=\"884\" y=\"-111.8\" font-family=\"Helvetica,sans-Serif\" font-size=\"14.00\" fill=\"#000000\">samples = 177</text>\n<text text-anchor=\"middle\" x=\"884\" y=\"-96.8\" font-family=\"Helvetica,sans-Serif\" font-size=\"14.00\" fill=\"#000000\">value = [169, 8]</text>\n</g>\n<!-- 20&#45;&gt;24 -->\n<g id=\"edge24\" class=\"edge\">\n<title>20&#45;&gt;24</title>\n<path fill=\"none\" stroke=\"#000000\" d=\"M838.2657,-192.9465C843.9602,-184.2373 850.1552,-174.7626 856.0938,-165.6801\"/>\n<polygon fill=\"#000000\" stroke=\"#000000\" points=\"859.1411,-167.4151 861.6842,-157.13 853.2823,-163.5843 859.1411,-167.4151\"/>\n</g>\n<!-- 22 -->\n<g id=\"node23\" class=\"node\">\n<title>22</title>\n<polygon fill=\"#e9965a\" stroke=\"#000000\" points=\"672,-53 554,-53 554,0 672,0 672,-53\"/>\n<text text-anchor=\"middle\" x=\"613\" y=\"-37.8\" font-family=\"Helvetica,sans-Serif\" font-size=\"14.00\" fill=\"#000000\">entropy = 0.587</text>\n<text text-anchor=\"middle\" x=\"613\" y=\"-22.8\" font-family=\"Helvetica,sans-Serif\" font-size=\"14.00\" fill=\"#000000\">samples = 78</text>\n<text text-anchor=\"middle\" x=\"613\" y=\"-7.8\" font-family=\"Helvetica,sans-Serif\" font-size=\"14.00\" fill=\"#000000\">value = [67, 11]</text>\n</g>\n<!-- 21&#45;&gt;22 -->\n<g id=\"edge22\" class=\"edge\">\n<title>21&#45;&gt;22</title>\n<path fill=\"none\" stroke=\"#000000\" d=\"M700.4041,-88.9777C686.8252,-79.2713 672.0661,-68.7213 658.6088,-59.1018\"/>\n<polygon fill=\"#000000\" stroke=\"#000000\" points=\"660.5908,-56.2164 650.4202,-53.2485 656.5201,-61.9111 660.5908,-56.2164\"/>\n</g>\n<!-- 23 -->\n<g id=\"node24\" class=\"node\">\n<title>23</title>\n<polygon fill=\"#79bded\" stroke=\"#000000\" points=\"808,-53 690,-53 690,0 808,0 808,-53\"/>\n<text text-anchor=\"middle\" x=\"749\" y=\"-37.8\" font-family=\"Helvetica,sans-Serif\" font-size=\"14.00\" fill=\"#000000\">entropy = 0.803</text>\n<text text-anchor=\"middle\" x=\"749\" y=\"-22.8\" font-family=\"Helvetica,sans-Serif\" font-size=\"14.00\" fill=\"#000000\">samples = 98</text>\n<text text-anchor=\"middle\" x=\"749\" y=\"-7.8\" font-family=\"Helvetica,sans-Serif\" font-size=\"14.00\" fill=\"#000000\">value = [24, 74]</text>\n</g>\n<!-- 21&#45;&gt;23 -->\n<g id=\"edge23\" class=\"edge\">\n<title>21&#45;&gt;23</title>\n<path fill=\"none\" stroke=\"#000000\" d=\"M748.3526,-88.9777C748.438,-80.7364 748.5297,-71.887 748.6164,-63.5153\"/>\n<polygon fill=\"#000000\" stroke=\"#000000\" points=\"752.1189,-63.2842 748.7228,-53.2485 745.1193,-63.2116 752.1189,-63.2842\"/>\n</g>\n<!-- 25 -->\n<g id=\"node26\" class=\"node\">\n<title>25</title>\n<polygon fill=\"#e58139\" stroke=\"#000000\" points=\"942,-53 826,-53 826,0 942,0 942,-53\"/>\n<text text-anchor=\"middle\" x=\"884\" y=\"-37.8\" font-family=\"Helvetica,sans-Serif\" font-size=\"14.00\" fill=\"#000000\">entropy = 0.0</text>\n<text text-anchor=\"middle\" x=\"884\" y=\"-22.8\" font-family=\"Helvetica,sans-Serif\" font-size=\"14.00\" fill=\"#000000\">samples = 150</text>\n<text text-anchor=\"middle\" x=\"884\" y=\"-7.8\" font-family=\"Helvetica,sans-Serif\" font-size=\"14.00\" fill=\"#000000\">value = [150, 0]</text>\n</g>\n<!-- 24&#45;&gt;25 -->\n<g id=\"edge25\" class=\"edge\">\n<title>24&#45;&gt;25</title>\n<path fill=\"none\" stroke=\"#000000\" d=\"M884,-88.9777C884,-80.7364 884,-71.887 884,-63.5153\"/>\n<polygon fill=\"#000000\" stroke=\"#000000\" points=\"887.5001,-63.2484 884,-53.2485 880.5001,-63.2485 887.5001,-63.2484\"/>\n</g>\n<!-- 26 -->\n<g id=\"node27\" class=\"node\">\n<title>26</title>\n<polygon fill=\"#f0b68c\" stroke=\"#000000\" points=\"1078,-53 960,-53 960,0 1078,0 1078,-53\"/>\n<text text-anchor=\"middle\" x=\"1019\" y=\"-37.8\" font-family=\"Helvetica,sans-Serif\" font-size=\"14.00\" fill=\"#000000\">entropy = 0.877</text>\n<text text-anchor=\"middle\" x=\"1019\" y=\"-22.8\" font-family=\"Helvetica,sans-Serif\" font-size=\"14.00\" fill=\"#000000\">samples = 27</text>\n<text text-anchor=\"middle\" x=\"1019\" y=\"-7.8\" font-family=\"Helvetica,sans-Serif\" font-size=\"14.00\" fill=\"#000000\">value = [19, 8]</text>\n</g>\n<!-- 24&#45;&gt;26 -->\n<g id=\"edge26\" class=\"edge\">\n<title>24&#45;&gt;26</title>\n<path fill=\"none\" stroke=\"#000000\" d=\"M931.5959,-88.9777C945.1748,-79.2713 959.9339,-68.7213 973.3912,-59.1018\"/>\n<polygon fill=\"#000000\" stroke=\"#000000\" points=\"975.4799,-61.9111 981.5798,-53.2485 971.4092,-56.2164 975.4799,-61.9111\"/>\n</g>\n<!-- 28 -->\n<g id=\"node29\" class=\"node\">\n<title>28</title>\n<polygon fill=\"#3a9de5\" stroke=\"#000000\" points=\"1209,-261 1091,-261 1091,-193 1209,-193 1209,-261\"/>\n<text text-anchor=\"middle\" x=\"1150\" y=\"-245.8\" font-family=\"Helvetica,sans-Serif\" font-size=\"14.00\" fill=\"#000000\">X[6] &lt;= &#45;0.247</text>\n<text text-anchor=\"middle\" x=\"1150\" y=\"-230.8\" font-family=\"Helvetica,sans-Serif\" font-size=\"14.00\" fill=\"#000000\">entropy = 0.031</text>\n<text text-anchor=\"middle\" x=\"1150\" y=\"-215.8\" font-family=\"Helvetica,sans-Serif\" font-size=\"14.00\" fill=\"#000000\">samples = 937</text>\n<text text-anchor=\"middle\" x=\"1150\" y=\"-200.8\" font-family=\"Helvetica,sans-Serif\" font-size=\"14.00\" fill=\"#000000\">value = [3, 934]</text>\n</g>\n<!-- 27&#45;&gt;28 -->\n<g id=\"edge28\" class=\"edge\">\n<title>27&#45;&gt;28</title>\n<path fill=\"none\" stroke=\"#000000\" d=\"M1150,-296.9465C1150,-288.776 1150,-279.9318 1150,-271.3697\"/>\n<polygon fill=\"#000000\" stroke=\"#000000\" points=\"1153.5001,-271.13 1150,-261.13 1146.5001,-271.13 1153.5001,-271.13\"/>\n</g>\n<!-- 33 -->\n<g id=\"node34\" class=\"node\">\n<title>33</title>\n<polygon fill=\"#48a4e7\" stroke=\"#000000\" points=\"1549,-261 1409,-261 1409,-193 1549,-193 1549,-261\"/>\n<text text-anchor=\"middle\" x=\"1479\" y=\"-245.8\" font-family=\"Helvetica,sans-Serif\" font-size=\"14.00\" fill=\"#000000\">X[0] &lt;= &#45;1.29</text>\n<text text-anchor=\"middle\" x=\"1479\" y=\"-230.8\" font-family=\"Helvetica,sans-Serif\" font-size=\"14.00\" fill=\"#000000\">entropy = 0.36</text>\n<text text-anchor=\"middle\" x=\"1479\" y=\"-215.8\" font-family=\"Helvetica,sans-Serif\" font-size=\"14.00\" fill=\"#000000\">samples = 3196</text>\n<text text-anchor=\"middle\" x=\"1479\" y=\"-200.8\" font-family=\"Helvetica,sans-Serif\" font-size=\"14.00\" fill=\"#000000\">value = [219, 2977]</text>\n</g>\n<!-- 27&#45;&gt;33 -->\n<g id=\"edge33\" class=\"edge\">\n<title>27&#45;&gt;33</title>\n<path fill=\"none\" stroke=\"#000000\" d=\"M1220.1752,-308.817C1272.6938,-292.2153 1344.5861,-269.4895 1399.2757,-252.2016\"/>\n<polygon fill=\"#000000\" stroke=\"#000000\" points=\"1400.4526,-255.5003 1408.9326,-249.149 1398.3427,-248.8259 1400.4526,-255.5003\"/>\n</g>\n<!-- 29 -->\n<g id=\"node30\" class=\"node\">\n<title>29</title>\n<polygon fill=\"#399de5\" stroke=\"#000000\" points=\"1141,-149.5 1025,-149.5 1025,-96.5 1141,-96.5 1141,-149.5\"/>\n<text text-anchor=\"middle\" x=\"1083\" y=\"-134.3\" font-family=\"Helvetica,sans-Serif\" font-size=\"14.00\" fill=\"#000000\">entropy = 0.0</text>\n<text text-anchor=\"middle\" x=\"1083\" y=\"-119.3\" font-family=\"Helvetica,sans-Serif\" font-size=\"14.00\" fill=\"#000000\">samples = 695</text>\n<text text-anchor=\"middle\" x=\"1083\" y=\"-104.3\" font-family=\"Helvetica,sans-Serif\" font-size=\"14.00\" fill=\"#000000\">value = [0, 695]</text>\n</g>\n<!-- 28&#45;&gt;29 -->\n<g id=\"edge29\" class=\"edge\">\n<title>28&#45;&gt;29</title>\n<path fill=\"none\" stroke=\"#000000\" d=\"M1128.0617,-192.9465C1120.8946,-181.8215 1112.9227,-169.4473 1105.7007,-158.237\"/>\n<polygon fill=\"#000000\" stroke=\"#000000\" points=\"1108.4574,-156.0532 1100.0993,-149.5422 1102.5728,-159.8442 1108.4574,-156.0532\"/>\n</g>\n<!-- 30 -->\n<g id=\"node31\" class=\"node\">\n<title>30</title>\n<polygon fill=\"#3b9ee5\" stroke=\"#000000\" points=\"1277,-157 1159,-157 1159,-89 1277,-89 1277,-157\"/>\n<text text-anchor=\"middle\" x=\"1218\" y=\"-141.8\" font-family=\"Helvetica,sans-Serif\" font-size=\"14.00\" fill=\"#000000\">X[9] &lt;= &#45;0.825</text>\n<text text-anchor=\"middle\" x=\"1218\" y=\"-126.8\" font-family=\"Helvetica,sans-Serif\" font-size=\"14.00\" fill=\"#000000\">entropy = 0.096</text>\n<text text-anchor=\"middle\" x=\"1218\" y=\"-111.8\" font-family=\"Helvetica,sans-Serif\" font-size=\"14.00\" fill=\"#000000\">samples = 242</text>\n<text text-anchor=\"middle\" x=\"1218\" y=\"-96.8\" font-family=\"Helvetica,sans-Serif\" font-size=\"14.00\" fill=\"#000000\">value = [3, 239]</text>\n</g>\n<!-- 28&#45;&gt;30 -->\n<g id=\"edge30\" class=\"edge\">\n<title>28&#45;&gt;30</title>\n<path fill=\"none\" stroke=\"#000000\" d=\"M1172.2657,-192.9465C1177.9602,-184.2373 1184.1552,-174.7626 1190.0938,-165.6801\"/>\n<polygon fill=\"#000000\" stroke=\"#000000\" points=\"1193.1411,-167.4151 1195.6842,-157.13 1187.2823,-163.5843 1193.1411,-167.4151\"/>\n</g>\n<!-- 31 -->\n<g id=\"node32\" class=\"node\">\n<title>31</title>\n<polygon fill=\"#45a3e7\" stroke=\"#000000\" points=\"1206,-53 1096,-53 1096,0 1206,0 1206,-53\"/>\n<text text-anchor=\"middle\" x=\"1151\" y=\"-37.8\" font-family=\"Helvetica,sans-Serif\" font-size=\"14.00\" fill=\"#000000\">entropy = 0.31</text>\n<text text-anchor=\"middle\" x=\"1151\" y=\"-22.8\" font-family=\"Helvetica,sans-Serif\" font-size=\"14.00\" fill=\"#000000\">samples = 54</text>\n<text text-anchor=\"middle\" x=\"1151\" y=\"-7.8\" font-family=\"Helvetica,sans-Serif\" font-size=\"14.00\" fill=\"#000000\">value = [3, 51]</text>\n</g>\n<!-- 30&#45;&gt;31 -->\n<g id=\"edge31\" class=\"edge\">\n<title>30&#45;&gt;31</title>\n<path fill=\"none\" stroke=\"#000000\" d=\"M1194.3783,-88.9777C1188.2113,-80.0954 1181.5539,-70.5067 1175.3499,-61.5711\"/>\n<polygon fill=\"#000000\" stroke=\"#000000\" points=\"1178.1497,-59.4666 1169.5715,-53.2485 1172.3997,-63.4589 1178.1497,-59.4666\"/>\n</g>\n<!-- 32 -->\n<g id=\"node33\" class=\"node\">\n<title>32</title>\n<polygon fill=\"#399de5\" stroke=\"#000000\" points=\"1340,-53 1224,-53 1224,0 1340,0 1340,-53\"/>\n<text text-anchor=\"middle\" x=\"1282\" y=\"-37.8\" font-family=\"Helvetica,sans-Serif\" font-size=\"14.00\" fill=\"#000000\">entropy = 0.0</text>\n<text text-anchor=\"middle\" x=\"1282\" y=\"-22.8\" font-family=\"Helvetica,sans-Serif\" font-size=\"14.00\" fill=\"#000000\">samples = 188</text>\n<text text-anchor=\"middle\" x=\"1282\" y=\"-7.8\" font-family=\"Helvetica,sans-Serif\" font-size=\"14.00\" fill=\"#000000\">value = [0, 188]</text>\n</g>\n<!-- 30&#45;&gt;32 -->\n<g id=\"edge32\" class=\"edge\">\n<title>30&#45;&gt;32</title>\n<path fill=\"none\" stroke=\"#000000\" d=\"M1240.564,-88.9777C1246.3941,-80.187 1252.6831,-70.7044 1258.557,-61.8477\"/>\n<polygon fill=\"#000000\" stroke=\"#000000\" points=\"1261.6498,-63.5167 1264.2601,-53.2485 1255.8162,-59.6478 1261.6498,-63.5167\"/>\n</g>\n<!-- 34 -->\n<g id=\"node35\" class=\"node\">\n<title>34</title>\n<polygon fill=\"#44a3e6\" stroke=\"#000000\" points=\"1549,-157 1409,-157 1409,-89 1549,-89 1549,-157\"/>\n<text text-anchor=\"middle\" x=\"1479\" y=\"-141.8\" font-family=\"Helvetica,sans-Serif\" font-size=\"14.00\" fill=\"#000000\">X[13] &lt;= &#45;0.553</text>\n<text text-anchor=\"middle\" x=\"1479\" y=\"-126.8\" font-family=\"Helvetica,sans-Serif\" font-size=\"14.00\" fill=\"#000000\">entropy = 0.3</text>\n<text text-anchor=\"middle\" x=\"1479\" y=\"-111.8\" font-family=\"Helvetica,sans-Serif\" font-size=\"14.00\" fill=\"#000000\">samples = 2501</text>\n<text text-anchor=\"middle\" x=\"1479\" y=\"-96.8\" font-family=\"Helvetica,sans-Serif\" font-size=\"14.00\" fill=\"#000000\">value = [133, 2368]</text>\n</g>\n<!-- 33&#45;&gt;34 -->\n<g id=\"edge34\" class=\"edge\">\n<title>33&#45;&gt;34</title>\n<path fill=\"none\" stroke=\"#000000\" d=\"M1479,-192.9465C1479,-184.776 1479,-175.9318 1479,-167.3697\"/>\n<polygon fill=\"#000000\" stroke=\"#000000\" points=\"1482.5001,-167.13 1479,-157.13 1475.5001,-167.13 1482.5001,-167.13\"/>\n</g>\n<!-- 37 -->\n<g id=\"node38\" class=\"node\">\n<title>37</title>\n<polygon fill=\"#55abe9\" stroke=\"#000000\" points=\"1759,-157 1635,-157 1635,-89 1759,-89 1759,-157\"/>\n<text text-anchor=\"middle\" x=\"1697\" y=\"-141.8\" font-family=\"Helvetica,sans-Serif\" font-size=\"14.00\" fill=\"#000000\">X[11] &lt;= &#45;1.099</text>\n<text text-anchor=\"middle\" x=\"1697\" y=\"-126.8\" font-family=\"Helvetica,sans-Serif\" font-size=\"14.00\" fill=\"#000000\">entropy = 0.54</text>\n<text text-anchor=\"middle\" x=\"1697\" y=\"-111.8\" font-family=\"Helvetica,sans-Serif\" font-size=\"14.00\" fill=\"#000000\">samples = 695</text>\n<text text-anchor=\"middle\" x=\"1697\" y=\"-96.8\" font-family=\"Helvetica,sans-Serif\" font-size=\"14.00\" fill=\"#000000\">value = [86, 609]</text>\n</g>\n<!-- 33&#45;&gt;37 -->\n<g id=\"edge37\" class=\"edge\">\n<title>33&#45;&gt;37</title>\n<path fill=\"none\" stroke=\"#000000\" d=\"M1549.1765,-193.5213C1573.5682,-181.8849 1600.9434,-168.8252 1625.4451,-157.1363\"/>\n<polygon fill=\"#000000\" stroke=\"#000000\" points=\"1627.1642,-160.1941 1634.6827,-152.7294 1624.1501,-153.8762 1627.1642,-160.1941\"/>\n</g>\n<!-- 35 -->\n<g id=\"node36\" class=\"node\">\n<title>35</title>\n<polygon fill=\"#ffffff\" stroke=\"#000000\" points=\"1462,-53 1358,-53 1358,0 1462,0 1462,-53\"/>\n<text text-anchor=\"middle\" x=\"1410\" y=\"-37.8\" font-family=\"Helvetica,sans-Serif\" font-size=\"14.00\" fill=\"#000000\">entropy = 1.0</text>\n<text text-anchor=\"middle\" x=\"1410\" y=\"-22.8\" font-family=\"Helvetica,sans-Serif\" font-size=\"14.00\" fill=\"#000000\">samples = 16</text>\n<text text-anchor=\"middle\" x=\"1410\" y=\"-7.8\" font-family=\"Helvetica,sans-Serif\" font-size=\"14.00\" fill=\"#000000\">value = [8, 8]</text>\n</g>\n<!-- 34&#45;&gt;35 -->\n<g id=\"edge35\" class=\"edge\">\n<title>34&#45;&gt;35</title>\n<path fill=\"none\" stroke=\"#000000\" d=\"M1454.6732,-88.9777C1448.3221,-80.0954 1441.466,-70.5067 1435.0768,-61.5711\"/>\n<polygon fill=\"#000000\" stroke=\"#000000\" points=\"1437.7893,-59.3472 1429.1259,-53.2485 1432.0952,-63.4187 1437.7893,-59.3472\"/>\n</g>\n<!-- 36 -->\n<g id=\"node37\" class=\"node\">\n<title>36</title>\n<polygon fill=\"#43a2e6\" stroke=\"#000000\" points=\"1620,-53 1480,-53 1480,0 1620,0 1620,-53\"/>\n<text text-anchor=\"middle\" x=\"1550\" y=\"-37.8\" font-family=\"Helvetica,sans-Serif\" font-size=\"14.00\" fill=\"#000000\">entropy = 0.288</text>\n<text text-anchor=\"middle\" x=\"1550\" y=\"-22.8\" font-family=\"Helvetica,sans-Serif\" font-size=\"14.00\" fill=\"#000000\">samples = 2485</text>\n<text text-anchor=\"middle\" x=\"1550\" y=\"-7.8\" font-family=\"Helvetica,sans-Serif\" font-size=\"14.00\" fill=\"#000000\">value = [125, 2360]</text>\n</g>\n<!-- 34&#45;&gt;36 -->\n<g id=\"edge36\" class=\"edge\">\n<title>34&#45;&gt;36</title>\n<path fill=\"none\" stroke=\"#000000\" d=\"M1504.0319,-88.9777C1510.5671,-80.0954 1517.622,-70.5067 1524.1964,-61.5711\"/>\n<polygon fill=\"#000000\" stroke=\"#000000\" points=\"1527.2126,-63.3775 1530.3198,-53.2485 1521.5743,-59.229 1527.2126,-63.3775\"/>\n</g>\n<!-- 38 -->\n<g id=\"node39\" class=\"node\">\n<title>38</title>\n<polygon fill=\"#f3c4a3\" stroke=\"#000000\" points=\"1756,-53 1638,-53 1638,0 1756,0 1756,-53\"/>\n<text text-anchor=\"middle\" x=\"1697\" y=\"-37.8\" font-family=\"Helvetica,sans-Serif\" font-size=\"14.00\" fill=\"#000000\">entropy = 0.933</text>\n<text text-anchor=\"middle\" x=\"1697\" y=\"-22.8\" font-family=\"Helvetica,sans-Serif\" font-size=\"14.00\" fill=\"#000000\">samples = 43</text>\n<text text-anchor=\"middle\" x=\"1697\" y=\"-7.8\" font-family=\"Helvetica,sans-Serif\" font-size=\"14.00\" fill=\"#000000\">value = [28, 15]</text>\n</g>\n<!-- 37&#45;&gt;38 -->\n<g id=\"edge38\" class=\"edge\">\n<title>37&#45;&gt;38</title>\n<path fill=\"none\" stroke=\"#000000\" d=\"M1697,-88.9777C1697,-80.7364 1697,-71.887 1697,-63.5153\"/>\n<polygon fill=\"#000000\" stroke=\"#000000\" points=\"1700.5001,-63.2484 1697,-53.2485 1693.5001,-63.2485 1700.5001,-63.2484\"/>\n</g>\n<!-- 39 -->\n<g id=\"node40\" class=\"node\">\n<title>39</title>\n<polygon fill=\"#4ca7e8\" stroke=\"#000000\" points=\"1898,-53 1774,-53 1774,0 1898,0 1898,-53\"/>\n<text text-anchor=\"middle\" x=\"1836\" y=\"-37.8\" font-family=\"Helvetica,sans-Serif\" font-size=\"14.00\" fill=\"#000000\">entropy = 0.433</text>\n<text text-anchor=\"middle\" x=\"1836\" y=\"-22.8\" font-family=\"Helvetica,sans-Serif\" font-size=\"14.00\" fill=\"#000000\">samples = 652</text>\n<text text-anchor=\"middle\" x=\"1836\" y=\"-7.8\" font-family=\"Helvetica,sans-Serif\" font-size=\"14.00\" fill=\"#000000\">value = [58, 594]</text>\n</g>\n<!-- 37&#45;&gt;39 -->\n<g id=\"edge39\" class=\"edge\">\n<title>37&#45;&gt;39</title>\n<path fill=\"none\" stroke=\"#000000\" d=\"M1746.0062,-88.9777C1759.9874,-79.2713 1775.1838,-68.7213 1789.0398,-59.1018\"/>\n<polygon fill=\"#000000\" stroke=\"#000000\" points=\"1791.2526,-61.8264 1797.4711,-53.2485 1787.2606,-56.0763 1791.2526,-61.8264\"/>\n</g>\n<!-- 41 -->\n<g id=\"node42\" class=\"node\">\n<title>41</title>\n<polygon fill=\"#e5833c\" stroke=\"#000000\" points=\"2499,-469 2367,-469 2367,-401 2499,-401 2499,-469\"/>\n<text text-anchor=\"middle\" x=\"2433\" y=\"-453.8\" font-family=\"Helvetica,sans-Serif\" font-size=\"14.00\" fill=\"#000000\">X[10] &lt;= &#45;1.176</text>\n<text text-anchor=\"middle\" x=\"2433\" y=\"-438.8\" font-family=\"Helvetica,sans-Serif\" font-size=\"14.00\" fill=\"#000000\">entropy = 0.104</text>\n<text text-anchor=\"middle\" x=\"2433\" y=\"-423.8\" font-family=\"Helvetica,sans-Serif\" font-size=\"14.00\" fill=\"#000000\">samples = 1242</text>\n<text text-anchor=\"middle\" x=\"2433\" y=\"-408.8\" font-family=\"Helvetica,sans-Serif\" font-size=\"14.00\" fill=\"#000000\">value = [1225, 17]</text>\n</g>\n<!-- 40&#45;&gt;41 -->\n<g id=\"edge41\" class=\"edge\">\n<title>40&#45;&gt;41</title>\n<path fill=\"none\" stroke=\"#000000\" d=\"M2550.6985,-504.9465C2534.2306,-495.1599 2516.1362,-484.4066 2499.1793,-474.3294\"/>\n<polygon fill=\"#000000\" stroke=\"#000000\" points=\"2500.8149,-471.23 2490.4303,-469.13 2497.2387,-477.2476 2500.8149,-471.23\"/>\n</g>\n<!-- 56 -->\n<g id=\"node57\" class=\"node\">\n<title>56</title>\n<polygon fill=\"#f7d8c2\" stroke=\"#000000\" points=\"2914,-469 2782,-469 2782,-401 2914,-401 2914,-469\"/>\n<text text-anchor=\"middle\" x=\"2848\" y=\"-453.8\" font-family=\"Helvetica,sans-Serif\" font-size=\"14.00\" fill=\"#000000\">X[0] &lt;= &#45;1.145</text>\n<text text-anchor=\"middle\" x=\"2848\" y=\"-438.8\" font-family=\"Helvetica,sans-Serif\" font-size=\"14.00\" fill=\"#000000\">entropy = 0.976</text>\n<text text-anchor=\"middle\" x=\"2848\" y=\"-423.8\" font-family=\"Helvetica,sans-Serif\" font-size=\"14.00\" fill=\"#000000\">samples = 475</text>\n<text text-anchor=\"middle\" x=\"2848\" y=\"-408.8\" font-family=\"Helvetica,sans-Serif\" font-size=\"14.00\" fill=\"#000000\">value = [281, 194]</text>\n</g>\n<!-- 40&#45;&gt;56 -->\n<g id=\"edge56\" class=\"edge\">\n<title>40&#45;&gt;56</title>\n<path fill=\"none\" stroke=\"#000000\" d=\"M2678.0631,-508.6393C2707.7798,-495.7621 2742.4693,-480.73 2772.73,-467.617\"/>\n<polygon fill=\"#000000\" stroke=\"#000000\" points=\"2774.1848,-470.8011 2781.9687,-463.6136 2771.4015,-464.3783 2774.1848,-470.8011\"/>\n</g>\n<!-- 42 -->\n<g id=\"node43\" class=\"node\">\n<title>42</title>\n<polygon fill=\"#e58139\" stroke=\"#000000\" points=\"2353,-357.5 2237,-357.5 2237,-304.5 2353,-304.5 2353,-357.5\"/>\n<text text-anchor=\"middle\" x=\"2295\" y=\"-342.3\" font-family=\"Helvetica,sans-Serif\" font-size=\"14.00\" fill=\"#000000\">entropy = 0.0</text>\n<text text-anchor=\"middle\" x=\"2295\" y=\"-327.3\" font-family=\"Helvetica,sans-Serif\" font-size=\"14.00\" fill=\"#000000\">samples = 898</text>\n<text text-anchor=\"middle\" x=\"2295\" y=\"-312.3\" font-family=\"Helvetica,sans-Serif\" font-size=\"14.00\" fill=\"#000000\">value = [898, 0]</text>\n</g>\n<!-- 41&#45;&gt;42 -->\n<g id=\"edge42\" class=\"edge\">\n<title>41&#45;&gt;42</title>\n<path fill=\"none\" stroke=\"#000000\" d=\"M2387.8136,-400.9465C2371.8823,-388.9403 2354.0204,-375.4791 2338.2527,-363.5962\"/>\n<polygon fill=\"#000000\" stroke=\"#000000\" points=\"2340.312,-360.7656 2330.2194,-357.5422 2336.099,-366.3558 2340.312,-360.7656\"/>\n</g>\n<!-- 43 -->\n<g id=\"node44\" class=\"node\">\n<title>43</title>\n<polygon fill=\"#e68843\" stroke=\"#000000\" points=\"2495,-365 2371,-365 2371,-297 2495,-297 2495,-365\"/>\n<text text-anchor=\"middle\" x=\"2433\" y=\"-349.8\" font-family=\"Helvetica,sans-Serif\" font-size=\"14.00\" fill=\"#000000\">X[0] &lt;= &#45;1.139</text>\n<text text-anchor=\"middle\" x=\"2433\" y=\"-334.8\" font-family=\"Helvetica,sans-Serif\" font-size=\"14.00\" fill=\"#000000\">entropy = 0.284</text>\n<text text-anchor=\"middle\" x=\"2433\" y=\"-319.8\" font-family=\"Helvetica,sans-Serif\" font-size=\"14.00\" fill=\"#000000\">samples = 344</text>\n<text text-anchor=\"middle\" x=\"2433\" y=\"-304.8\" font-family=\"Helvetica,sans-Serif\" font-size=\"14.00\" fill=\"#000000\">value = [327, 17]</text>\n</g>\n<!-- 41&#45;&gt;43 -->\n<g id=\"edge43\" class=\"edge\">\n<title>41&#45;&gt;43</title>\n<path fill=\"none\" stroke=\"#000000\" d=\"M2433,-400.9465C2433,-392.776 2433,-383.9318 2433,-375.3697\"/>\n<polygon fill=\"#000000\" stroke=\"#000000\" points=\"2436.5001,-375.13 2433,-365.13 2429.5001,-375.13 2436.5001,-375.13\"/>\n</g>\n<!-- 44 -->\n<g id=\"node45\" class=\"node\">\n<title>44</title>\n<polygon fill=\"#efaf82\" stroke=\"#000000\" points=\"2293,-261 2175,-261 2175,-193 2293,-193 2293,-261\"/>\n<text text-anchor=\"middle\" x=\"2234\" y=\"-245.8\" font-family=\"Helvetica,sans-Serif\" font-size=\"14.00\" fill=\"#000000\">X[10] &lt;= &#45;1.112</text>\n<text text-anchor=\"middle\" x=\"2234\" y=\"-230.8\" font-family=\"Helvetica,sans-Serif\" font-size=\"14.00\" fill=\"#000000\">entropy = 0.839</text>\n<text text-anchor=\"middle\" x=\"2234\" y=\"-215.8\" font-family=\"Helvetica,sans-Serif\" font-size=\"14.00\" fill=\"#000000\">samples = 41</text>\n<text text-anchor=\"middle\" x=\"2234\" y=\"-200.8\" font-family=\"Helvetica,sans-Serif\" font-size=\"14.00\" fill=\"#000000\">value = [30, 11]</text>\n</g>\n<!-- 43&#45;&gt;44 -->\n<g id=\"edge44\" class=\"edge\">\n<title>43&#45;&gt;44</title>\n<path fill=\"none\" stroke=\"#000000\" d=\"M2370.8537,-298.5215C2349.1036,-287.1546 2324.5677,-274.3318 2302.3395,-262.7151\"/>\n<polygon fill=\"#000000\" stroke=\"#000000\" points=\"2303.7804,-259.519 2293.2966,-257.9892 2300.5381,-265.7229 2303.7804,-259.519\"/>\n</g>\n<!-- 49 -->\n<g id=\"node50\" class=\"node\">\n<title>49</title>\n<polygon fill=\"#e6843d\" stroke=\"#000000\" points=\"2491,-261 2375,-261 2375,-193 2491,-193 2491,-261\"/>\n<text text-anchor=\"middle\" x=\"2433\" y=\"-245.8\" font-family=\"Helvetica,sans-Serif\" font-size=\"14.00\" fill=\"#000000\">X[10] &lt;= &#45;0.979</text>\n<text text-anchor=\"middle\" x=\"2433\" y=\"-230.8\" font-family=\"Helvetica,sans-Serif\" font-size=\"14.00\" fill=\"#000000\">entropy = 0.14</text>\n<text text-anchor=\"middle\" x=\"2433\" y=\"-215.8\" font-family=\"Helvetica,sans-Serif\" font-size=\"14.00\" fill=\"#000000\">samples = 303</text>\n<text text-anchor=\"middle\" x=\"2433\" y=\"-200.8\" font-family=\"Helvetica,sans-Serif\" font-size=\"14.00\" fill=\"#000000\">value = [297, 6]</text>\n</g>\n<!-- 43&#45;&gt;49 -->\n<g id=\"edge49\" class=\"edge\">\n<title>43&#45;&gt;49</title>\n<path fill=\"none\" stroke=\"#000000\" d=\"M2433,-296.9465C2433,-288.776 2433,-279.9318 2433,-271.3697\"/>\n<polygon fill=\"#000000\" stroke=\"#000000\" points=\"2436.5001,-271.13 2433,-261.13 2429.5001,-271.13 2436.5001,-271.13\"/>\n</g>\n<!-- 45 -->\n<g id=\"node46\" class=\"node\">\n<title>45</title>\n<polygon fill=\"#eda774\" stroke=\"#000000\" points=\"2162,-157 2044,-157 2044,-89 2162,-89 2162,-157\"/>\n<text text-anchor=\"middle\" x=\"2103\" y=\"-141.8\" font-family=\"Helvetica,sans-Serif\" font-size=\"14.00\" fill=\"#000000\">X[18] &lt;= 1.591</text>\n<text text-anchor=\"middle\" x=\"2103\" y=\"-126.8\" font-family=\"Helvetica,sans-Serif\" font-size=\"14.00\" fill=\"#000000\">entropy = 0.779</text>\n<text text-anchor=\"middle\" x=\"2103\" y=\"-111.8\" font-family=\"Helvetica,sans-Serif\" font-size=\"14.00\" fill=\"#000000\">samples = 39</text>\n<text text-anchor=\"middle\" x=\"2103\" y=\"-96.8\" font-family=\"Helvetica,sans-Serif\" font-size=\"14.00\" fill=\"#000000\">value = [30, 9]</text>\n</g>\n<!-- 44&#45;&gt;45 -->\n<g id=\"edge45\" class=\"edge\">\n<title>44&#45;&gt;45</title>\n<path fill=\"none\" stroke=\"#000000\" d=\"M2191.1057,-192.9465C2179.2307,-183.519 2166.2259,-173.1946 2153.9407,-163.4415\"/>\n<polygon fill=\"#000000\" stroke=\"#000000\" points=\"2155.9989,-160.6066 2145.9907,-157.13 2151.6464,-166.089 2155.9989,-160.6066\"/>\n</g>\n<!-- 48 -->\n<g id=\"node49\" class=\"node\">\n<title>48</title>\n<polygon fill=\"#399de5\" stroke=\"#000000\" points=\"2284.5,-149.5 2183.5,-149.5 2183.5,-96.5 2284.5,-96.5 2284.5,-149.5\"/>\n<text text-anchor=\"middle\" x=\"2234\" y=\"-134.3\" font-family=\"Helvetica,sans-Serif\" font-size=\"14.00\" fill=\"#000000\">entropy = 0.0</text>\n<text text-anchor=\"middle\" x=\"2234\" y=\"-119.3\" font-family=\"Helvetica,sans-Serif\" font-size=\"14.00\" fill=\"#000000\">samples = 2</text>\n<text text-anchor=\"middle\" x=\"2234\" y=\"-104.3\" font-family=\"Helvetica,sans-Serif\" font-size=\"14.00\" fill=\"#000000\">value = [0, 2]</text>\n</g>\n<!-- 44&#45;&gt;48 -->\n<g id=\"edge48\" class=\"edge\">\n<title>44&#45;&gt;48</title>\n<path fill=\"none\" stroke=\"#000000\" d=\"M2234,-192.9465C2234,-182.2621 2234,-170.4254 2234,-159.5742\"/>\n<polygon fill=\"#000000\" stroke=\"#000000\" points=\"2237.5001,-159.5421 2234,-149.5422 2230.5001,-159.5422 2237.5001,-159.5421\"/>\n</g>\n<!-- 46 -->\n<g id=\"node47\" class=\"node\">\n<title>46</title>\n<polygon fill=\"#ea995f\" stroke=\"#000000\" points=\"2034,-53 1916,-53 1916,0 2034,0 2034,-53\"/>\n<text text-anchor=\"middle\" x=\"1975\" y=\"-37.8\" font-family=\"Helvetica,sans-Serif\" font-size=\"14.00\" fill=\"#000000\">entropy = 0.637</text>\n<text text-anchor=\"middle\" x=\"1975\" y=\"-22.8\" font-family=\"Helvetica,sans-Serif\" font-size=\"14.00\" fill=\"#000000\">samples = 31</text>\n<text text-anchor=\"middle\" x=\"1975\" y=\"-7.8\" font-family=\"Helvetica,sans-Serif\" font-size=\"14.00\" fill=\"#000000\">value = [26, 5]</text>\n</g>\n<!-- 45&#45;&gt;46 -->\n<g id=\"edge46\" class=\"edge\">\n<title>45&#45;&gt;46</title>\n<path fill=\"none\" stroke=\"#000000\" d=\"M2057.872,-88.9777C2045.1187,-79.3629 2031.2673,-68.9203 2018.6053,-59.3743\"/>\n<polygon fill=\"#000000\" stroke=\"#000000\" points=\"2020.5719,-56.4737 2010.4798,-53.2485 2016.3579,-62.0632 2020.5719,-56.4737\"/>\n</g>\n<!-- 47 -->\n<g id=\"node48\" class=\"node\">\n<title>47</title>\n<polygon fill=\"#ffffff\" stroke=\"#000000\" points=\"2153.5,-53 2052.5,-53 2052.5,0 2153.5,0 2153.5,-53\"/>\n<text text-anchor=\"middle\" x=\"2103\" y=\"-37.8\" font-family=\"Helvetica,sans-Serif\" font-size=\"14.00\" fill=\"#000000\">entropy = 1.0</text>\n<text text-anchor=\"middle\" x=\"2103\" y=\"-22.8\" font-family=\"Helvetica,sans-Serif\" font-size=\"14.00\" fill=\"#000000\">samples = 8</text>\n<text text-anchor=\"middle\" x=\"2103\" y=\"-7.8\" font-family=\"Helvetica,sans-Serif\" font-size=\"14.00\" fill=\"#000000\">value = [4, 4]</text>\n</g>\n<!-- 45&#45;&gt;47 -->\n<g id=\"edge47\" class=\"edge\">\n<title>45&#45;&gt;47</title>\n<path fill=\"none\" stroke=\"#000000\" d=\"M2103,-88.9777C2103,-80.7364 2103,-71.887 2103,-63.5153\"/>\n<polygon fill=\"#000000\" stroke=\"#000000\" points=\"2106.5001,-63.2484 2103,-53.2485 2099.5001,-63.2485 2106.5001,-63.2484\"/>\n</g>\n<!-- 50 -->\n<g id=\"node51\" class=\"node\">\n<title>50</title>\n<polygon fill=\"#e5813a\" stroke=\"#000000\" points=\"2422,-157 2304,-157 2304,-89 2422,-89 2422,-157\"/>\n<text text-anchor=\"middle\" x=\"2363\" y=\"-141.8\" font-family=\"Helvetica,sans-Serif\" font-size=\"14.00\" fill=\"#000000\">X[10] &lt;= &#45;1.015</text>\n<text text-anchor=\"middle\" x=\"2363\" y=\"-126.8\" font-family=\"Helvetica,sans-Serif\" font-size=\"14.00\" fill=\"#000000\">entropy = 0.033</text>\n<text text-anchor=\"middle\" x=\"2363\" y=\"-111.8\" font-family=\"Helvetica,sans-Serif\" font-size=\"14.00\" fill=\"#000000\">samples = 295</text>\n<text text-anchor=\"middle\" x=\"2363\" y=\"-96.8\" font-family=\"Helvetica,sans-Serif\" font-size=\"14.00\" fill=\"#000000\">value = [294, 1]</text>\n</g>\n<!-- 49&#45;&gt;50 -->\n<g id=\"edge50\" class=\"edge\">\n<title>49&#45;&gt;50</title>\n<path fill=\"none\" stroke=\"#000000\" d=\"M2410.0794,-192.9465C2404.2174,-184.2373 2397.8402,-174.7626 2391.727,-165.6801\"/>\n<polygon fill=\"#000000\" stroke=\"#000000\" points=\"2394.4595,-163.4716 2385.9721,-157.13 2388.6524,-167.3802 2394.4595,-163.4716\"/>\n</g>\n<!-- 53 -->\n<g id=\"node54\" class=\"node\">\n<title>53</title>\n<polygon fill=\"#b0d8f5\" stroke=\"#000000\" points=\"2558,-157 2440,-157 2440,-89 2558,-89 2558,-157\"/>\n<text text-anchor=\"middle\" x=\"2499\" y=\"-141.8\" font-family=\"Helvetica,sans-Serif\" font-size=\"14.00\" fill=\"#000000\">X[5] &lt;= &#45;0.292</text>\n<text text-anchor=\"middle\" x=\"2499\" y=\"-126.8\" font-family=\"Helvetica,sans-Serif\" font-size=\"14.00\" fill=\"#000000\">entropy = 0.954</text>\n<text text-anchor=\"middle\" x=\"2499\" y=\"-111.8\" font-family=\"Helvetica,sans-Serif\" font-size=\"14.00\" fill=\"#000000\">samples = 8</text>\n<text text-anchor=\"middle\" x=\"2499\" y=\"-96.8\" font-family=\"Helvetica,sans-Serif\" font-size=\"14.00\" fill=\"#000000\">value = [3, 5]</text>\n</g>\n<!-- 49&#45;&gt;53 -->\n<g id=\"edge53\" class=\"edge\">\n<title>49&#45;&gt;53</title>\n<path fill=\"none\" stroke=\"#000000\" d=\"M2454.6109,-192.9465C2460.1378,-184.2373 2466.1506,-174.7626 2471.9146,-165.6801\"/>\n<polygon fill=\"#000000\" stroke=\"#000000\" points=\"2474.9374,-167.4487 2477.3406,-157.13 2469.0271,-163.6979 2474.9374,-167.4487\"/>\n</g>\n<!-- 51 -->\n<g id=\"node52\" class=\"node\">\n<title>51</title>\n<polygon fill=\"#e58139\" stroke=\"#000000\" points=\"2288,-53 2172,-53 2172,0 2288,0 2288,-53\"/>\n<text text-anchor=\"middle\" x=\"2230\" y=\"-37.8\" font-family=\"Helvetica,sans-Serif\" font-size=\"14.00\" fill=\"#000000\">entropy = 0.0</text>\n<text text-anchor=\"middle\" x=\"2230\" y=\"-22.8\" font-family=\"Helvetica,sans-Serif\" font-size=\"14.00\" fill=\"#000000\">samples = 280</text>\n<text text-anchor=\"middle\" x=\"2230\" y=\"-7.8\" font-family=\"Helvetica,sans-Serif\" font-size=\"14.00\" fill=\"#000000\">value = [280, 0]</text>\n</g>\n<!-- 50&#45;&gt;51 -->\n<g id=\"edge51\" class=\"edge\">\n<title>50&#45;&gt;51</title>\n<path fill=\"none\" stroke=\"#000000\" d=\"M2316.1092,-88.9777C2302.8577,-79.3629 2288.4653,-68.9203 2275.3087,-59.3743\"/>\n<polygon fill=\"#000000\" stroke=\"#000000\" points=\"2277.0152,-56.2883 2266.8658,-53.2485 2272.9043,-61.9541 2277.0152,-56.2883\"/>\n</g>\n<!-- 52 -->\n<g id=\"node53\" class=\"node\">\n<title>52</title>\n<polygon fill=\"#e78a47\" stroke=\"#000000\" points=\"2424,-53 2306,-53 2306,0 2424,0 2424,-53\"/>\n<text text-anchor=\"middle\" x=\"2365\" y=\"-37.8\" font-family=\"Helvetica,sans-Serif\" font-size=\"14.00\" fill=\"#000000\">entropy = 0.353</text>\n<text text-anchor=\"middle\" x=\"2365\" y=\"-22.8\" font-family=\"Helvetica,sans-Serif\" font-size=\"14.00\" fill=\"#000000\">samples = 15</text>\n<text text-anchor=\"middle\" x=\"2365\" y=\"-7.8\" font-family=\"Helvetica,sans-Serif\" font-size=\"14.00\" fill=\"#000000\">value = [14, 1]</text>\n</g>\n<!-- 50&#45;&gt;52 -->\n<g id=\"edge52\" class=\"edge\">\n<title>50&#45;&gt;52</title>\n<path fill=\"none\" stroke=\"#000000\" d=\"M2363.7051,-88.9777C2363.8759,-80.7364 2364.0593,-71.887 2364.2328,-63.5153\"/>\n<polygon fill=\"#000000\" stroke=\"#000000\" points=\"2367.7376,-63.3189 2364.4456,-53.2485 2360.7391,-63.1738 2367.7376,-63.3189\"/>\n</g>\n<!-- 54 -->\n<g id=\"node55\" class=\"node\">\n<title>54</title>\n<polygon fill=\"#e58139\" stroke=\"#000000\" points=\"2543.5,-53 2442.5,-53 2442.5,0 2543.5,0 2543.5,-53\"/>\n<text text-anchor=\"middle\" x=\"2493\" y=\"-37.8\" font-family=\"Helvetica,sans-Serif\" font-size=\"14.00\" fill=\"#000000\">entropy = 0.0</text>\n<text text-anchor=\"middle\" x=\"2493\" y=\"-22.8\" font-family=\"Helvetica,sans-Serif\" font-size=\"14.00\" fill=\"#000000\">samples = 3</text>\n<text text-anchor=\"middle\" x=\"2493\" y=\"-7.8\" font-family=\"Helvetica,sans-Serif\" font-size=\"14.00\" fill=\"#000000\">value = [3, 0]</text>\n</g>\n<!-- 53&#45;&gt;54 -->\n<g id=\"edge54\" class=\"edge\">\n<title>53&#45;&gt;54</title>\n<path fill=\"none\" stroke=\"#000000\" d=\"M2496.8846,-88.9777C2496.3665,-80.6449 2495.8098,-71.6903 2495.2841,-63.2364\"/>\n<polygon fill=\"#000000\" stroke=\"#000000\" points=\"2498.777,-63.012 2494.6631,-53.2485 2491.7905,-63.4464 2498.777,-63.012\"/>\n</g>\n<!-- 55 -->\n<g id=\"node56\" class=\"node\">\n<title>55</title>\n<polygon fill=\"#399de5\" stroke=\"#000000\" points=\"2662.5,-53 2561.5,-53 2561.5,0 2662.5,0 2662.5,-53\"/>\n<text text-anchor=\"middle\" x=\"2612\" y=\"-37.8\" font-family=\"Helvetica,sans-Serif\" font-size=\"14.00\" fill=\"#000000\">entropy = 0.0</text>\n<text text-anchor=\"middle\" x=\"2612\" y=\"-22.8\" font-family=\"Helvetica,sans-Serif\" font-size=\"14.00\" fill=\"#000000\">samples = 5</text>\n<text text-anchor=\"middle\" x=\"2612\" y=\"-7.8\" font-family=\"Helvetica,sans-Serif\" font-size=\"14.00\" fill=\"#000000\">value = [0, 5]</text>\n</g>\n<!-- 53&#45;&gt;55 -->\n<g id=\"edge55\" class=\"edge\">\n<title>53&#45;&gt;55</title>\n<path fill=\"none\" stroke=\"#000000\" d=\"M2538.8396,-88.9777C2549.8839,-79.546 2561.861,-69.3178 2572.8648,-59.9208\"/>\n<polygon fill=\"#000000\" stroke=\"#000000\" points=\"2575.3464,-62.4041 2580.6779,-53.2485 2570.8006,-57.081 2575.3464,-62.4041\"/>\n</g>\n<!-- 57 -->\n<g id=\"node58\" class=\"node\">\n<title>57</title>\n<polygon fill=\"#62b2ea\" stroke=\"#000000\" points=\"2907,-365 2789,-365 2789,-297 2907,-297 2907,-365\"/>\n<text text-anchor=\"middle\" x=\"2848\" y=\"-349.8\" font-family=\"Helvetica,sans-Serif\" font-size=\"14.00\" fill=\"#000000\">X[6] &lt;= &#45;0.844</text>\n<text text-anchor=\"middle\" x=\"2848\" y=\"-334.8\" font-family=\"Helvetica,sans-Serif\" font-size=\"14.00\" fill=\"#000000\">entropy = 0.665</text>\n<text text-anchor=\"middle\" x=\"2848\" y=\"-319.8\" font-family=\"Helvetica,sans-Serif\" font-size=\"14.00\" fill=\"#000000\">samples = 104</text>\n<text text-anchor=\"middle\" x=\"2848\" y=\"-304.8\" font-family=\"Helvetica,sans-Serif\" font-size=\"14.00\" fill=\"#000000\">value = [18, 86]</text>\n</g>\n<!-- 56&#45;&gt;57 -->\n<g id=\"edge57\" class=\"edge\">\n<title>56&#45;&gt;57</title>\n<path fill=\"none\" stroke=\"#000000\" d=\"M2848,-400.9465C2848,-392.776 2848,-383.9318 2848,-375.3697\"/>\n<polygon fill=\"#000000\" stroke=\"#000000\" points=\"2851.5001,-375.13 2848,-365.13 2844.5001,-375.13 2851.5001,-375.13\"/>\n</g>\n<!-- 66 -->\n<g id=\"node67\" class=\"node\">\n<title>66</title>\n<polygon fill=\"#f0b58a\" stroke=\"#000000\" points=\"3519,-365 3387,-365 3387,-297 3519,-297 3519,-365\"/>\n<text text-anchor=\"middle\" x=\"3453\" y=\"-349.8\" font-family=\"Helvetica,sans-Serif\" font-size=\"14.00\" fill=\"#000000\">X[10] &lt;= &#45;1.0</text>\n<text text-anchor=\"middle\" x=\"3453\" y=\"-334.8\" font-family=\"Helvetica,sans-Serif\" font-size=\"14.00\" fill=\"#000000\">entropy = 0.87</text>\n<text text-anchor=\"middle\" x=\"3453\" y=\"-319.8\" font-family=\"Helvetica,sans-Serif\" font-size=\"14.00\" fill=\"#000000\">samples = 371</text>\n<text text-anchor=\"middle\" x=\"3453\" y=\"-304.8\" font-family=\"Helvetica,sans-Serif\" font-size=\"14.00\" fill=\"#000000\">value = [263, 108]</text>\n</g>\n<!-- 56&#45;&gt;66 -->\n<g id=\"edge66\" class=\"edge\">\n<title>56&#45;&gt;66</title>\n<path fill=\"none\" stroke=\"#000000\" d=\"M2914.1865,-423.6225C3027.2488,-404.187 3256.943,-364.7024 3376.6208,-344.1297\"/>\n<polygon fill=\"#000000\" stroke=\"#000000\" points=\"3377.5366,-347.5236 3386.7991,-342.38 3376.3506,-340.6248 3377.5366,-347.5236\"/>\n</g>\n<!-- 58 -->\n<g id=\"node59\" class=\"node\">\n<title>58</title>\n<polygon fill=\"#399de5\" stroke=\"#000000\" points=\"2836.5,-253.5 2729.5,-253.5 2729.5,-200.5 2836.5,-200.5 2836.5,-253.5\"/>\n<text text-anchor=\"middle\" x=\"2783\" y=\"-238.3\" font-family=\"Helvetica,sans-Serif\" font-size=\"14.00\" fill=\"#000000\">entropy = 0.0</text>\n<text text-anchor=\"middle\" x=\"2783\" y=\"-223.3\" font-family=\"Helvetica,sans-Serif\" font-size=\"14.00\" fill=\"#000000\">samples = 24</text>\n<text text-anchor=\"middle\" x=\"2783\" y=\"-208.3\" font-family=\"Helvetica,sans-Serif\" font-size=\"14.00\" fill=\"#000000\">value = [0, 24]</text>\n</g>\n<!-- 57&#45;&gt;58 -->\n<g id=\"edge58\" class=\"edge\">\n<title>57&#45;&gt;58</title>\n<path fill=\"none\" stroke=\"#000000\" d=\"M2826.7166,-296.9465C2819.7634,-285.8215 2812.0295,-273.4473 2805.0231,-262.237\"/>\n<polygon fill=\"#000000\" stroke=\"#000000\" points=\"2807.8569,-260.1671 2799.5889,-253.5422 2801.9209,-263.8772 2807.8569,-260.1671\"/>\n</g>\n<!-- 59 -->\n<g id=\"node60\" class=\"node\">\n<title>59</title>\n<polygon fill=\"#72b9ed\" stroke=\"#000000\" points=\"2973,-261 2855,-261 2855,-193 2973,-193 2973,-261\"/>\n<text text-anchor=\"middle\" x=\"2914\" y=\"-245.8\" font-family=\"Helvetica,sans-Serif\" font-size=\"14.00\" fill=\"#000000\">X[8] &lt;= &#45;0.837</text>\n<text text-anchor=\"middle\" x=\"2914\" y=\"-230.8\" font-family=\"Helvetica,sans-Serif\" font-size=\"14.00\" fill=\"#000000\">entropy = 0.769</text>\n<text text-anchor=\"middle\" x=\"2914\" y=\"-215.8\" font-family=\"Helvetica,sans-Serif\" font-size=\"14.00\" fill=\"#000000\">samples = 80</text>\n<text text-anchor=\"middle\" x=\"2914\" y=\"-200.8\" font-family=\"Helvetica,sans-Serif\" font-size=\"14.00\" fill=\"#000000\">value = [18, 62]</text>\n</g>\n<!-- 57&#45;&gt;59 -->\n<g id=\"edge59\" class=\"edge\">\n<title>57&#45;&gt;59</title>\n<path fill=\"none\" stroke=\"#000000\" d=\"M2869.6109,-296.9465C2875.1378,-288.2373 2881.1506,-278.7626 2886.9146,-269.6801\"/>\n<polygon fill=\"#000000\" stroke=\"#000000\" points=\"2889.9374,-271.4487 2892.3406,-261.13 2884.0271,-267.6979 2889.9374,-271.4487\"/>\n</g>\n<!-- 60 -->\n<g id=\"node61\" class=\"node\">\n<title>60</title>\n<polygon fill=\"#f5cdb0\" stroke=\"#000000\" points=\"2905,-157 2787,-157 2787,-89 2905,-89 2905,-157\"/>\n<text text-anchor=\"middle\" x=\"2846\" y=\"-141.8\" font-family=\"Helvetica,sans-Serif\" font-size=\"14.00\" fill=\"#000000\">X[3] &lt;= &#45;1.076</text>\n<text text-anchor=\"middle\" x=\"2846\" y=\"-126.8\" font-family=\"Helvetica,sans-Serif\" font-size=\"14.00\" fill=\"#000000\">entropy = 0.954</text>\n<text text-anchor=\"middle\" x=\"2846\" y=\"-111.8\" font-family=\"Helvetica,sans-Serif\" font-size=\"14.00\" fill=\"#000000\">samples = 8</text>\n<text text-anchor=\"middle\" x=\"2846\" y=\"-96.8\" font-family=\"Helvetica,sans-Serif\" font-size=\"14.00\" fill=\"#000000\">value = [5, 3]</text>\n</g>\n<!-- 59&#45;&gt;60 -->\n<g id=\"edge60\" class=\"edge\">\n<title>59&#45;&gt;60</title>\n<path fill=\"none\" stroke=\"#000000\" d=\"M2891.7343,-192.9465C2886.0398,-184.2373 2879.8448,-174.7626 2873.9062,-165.6801\"/>\n<polygon fill=\"#000000\" stroke=\"#000000\" points=\"2876.7177,-163.5843 2868.3158,-157.13 2870.8589,-167.4151 2876.7177,-163.5843\"/>\n</g>\n<!-- 63 -->\n<g id=\"node64\" class=\"node\">\n<title>63</title>\n<polygon fill=\"#65b3eb\" stroke=\"#000000\" points=\"3041,-157 2923,-157 2923,-89 3041,-89 3041,-157\"/>\n<text text-anchor=\"middle\" x=\"2982\" y=\"-141.8\" font-family=\"Helvetica,sans-Serif\" font-size=\"14.00\" fill=\"#000000\">X[10] &lt;= &#45;1.15</text>\n<text text-anchor=\"middle\" x=\"2982\" y=\"-126.8\" font-family=\"Helvetica,sans-Serif\" font-size=\"14.00\" fill=\"#000000\">entropy = 0.681</text>\n<text text-anchor=\"middle\" x=\"2982\" y=\"-111.8\" font-family=\"Helvetica,sans-Serif\" font-size=\"14.00\" fill=\"#000000\">samples = 72</text>\n<text text-anchor=\"middle\" x=\"2982\" y=\"-96.8\" font-family=\"Helvetica,sans-Serif\" font-size=\"14.00\" fill=\"#000000\">value = [13, 59]</text>\n</g>\n<!-- 59&#45;&gt;63 -->\n<g id=\"edge63\" class=\"edge\">\n<title>59&#45;&gt;63</title>\n<path fill=\"none\" stroke=\"#000000\" d=\"M2936.2657,-192.9465C2941.9602,-184.2373 2948.1552,-174.7626 2954.0938,-165.6801\"/>\n<polygon fill=\"#000000\" stroke=\"#000000\" points=\"2957.1411,-167.4151 2959.6842,-157.13 2951.2823,-163.5843 2957.1411,-167.4151\"/>\n</g>\n<!-- 61 -->\n<g id=\"node62\" class=\"node\">\n<title>61</title>\n<polygon fill=\"#e58139\" stroke=\"#000000\" points=\"2781.5,-53 2680.5,-53 2680.5,0 2781.5,0 2781.5,-53\"/>\n<text text-anchor=\"middle\" x=\"2731\" y=\"-37.8\" font-family=\"Helvetica,sans-Serif\" font-size=\"14.00\" fill=\"#000000\">entropy = 0.0</text>\n<text text-anchor=\"middle\" x=\"2731\" y=\"-22.8\" font-family=\"Helvetica,sans-Serif\" font-size=\"14.00\" fill=\"#000000\">samples = 5</text>\n<text text-anchor=\"middle\" x=\"2731\" y=\"-7.8\" font-family=\"Helvetica,sans-Serif\" font-size=\"14.00\" fill=\"#000000\">value = [5, 0]</text>\n</g>\n<!-- 60&#45;&gt;61 -->\n<g id=\"edge61\" class=\"edge\">\n<title>60&#45;&gt;61</title>\n<path fill=\"none\" stroke=\"#000000\" d=\"M2805.4553,-88.9777C2794.2155,-79.546 2782.0264,-69.3178 2770.8279,-59.9208\"/>\n<polygon fill=\"#000000\" stroke=\"#000000\" points=\"2772.7866,-56.9954 2762.8764,-53.2485 2768.287,-62.3576 2772.7866,-56.9954\"/>\n</g>\n<!-- 62 -->\n<g id=\"node63\" class=\"node\">\n<title>62</title>\n<polygon fill=\"#399de5\" stroke=\"#000000\" points=\"2900.5,-53 2799.5,-53 2799.5,0 2900.5,0 2900.5,-53\"/>\n<text text-anchor=\"middle\" x=\"2850\" y=\"-37.8\" font-family=\"Helvetica,sans-Serif\" font-size=\"14.00\" fill=\"#000000\">entropy = 0.0</text>\n<text text-anchor=\"middle\" x=\"2850\" y=\"-22.8\" font-family=\"Helvetica,sans-Serif\" font-size=\"14.00\" fill=\"#000000\">samples = 3</text>\n<text text-anchor=\"middle\" x=\"2850\" y=\"-7.8\" font-family=\"Helvetica,sans-Serif\" font-size=\"14.00\" fill=\"#000000\">value = [0, 3]</text>\n</g>\n<!-- 60&#45;&gt;62 -->\n<g id=\"edge62\" class=\"edge\">\n<title>60&#45;&gt;62</title>\n<path fill=\"none\" stroke=\"#000000\" d=\"M2847.4103,-88.9777C2847.7519,-80.7364 2848.1187,-71.887 2848.4657,-63.5153\"/>\n<polygon fill=\"#000000\" stroke=\"#000000\" points=\"2851.974,-63.3849 2848.8913,-53.2485 2844.98,-63.0949 2851.974,-63.3849\"/>\n</g>\n<!-- 64 -->\n<g id=\"node65\" class=\"node\">\n<title>64</title>\n<polygon fill=\"#c9e4f8\" stroke=\"#000000\" points=\"3037,-53 2919,-53 2919,0 3037,0 3037,-53\"/>\n<text text-anchor=\"middle\" x=\"2978\" y=\"-37.8\" font-family=\"Helvetica,sans-Serif\" font-size=\"14.00\" fill=\"#000000\">entropy = 0.982</text>\n<text text-anchor=\"middle\" x=\"2978\" y=\"-22.8\" font-family=\"Helvetica,sans-Serif\" font-size=\"14.00\" fill=\"#000000\">samples = 19</text>\n<text text-anchor=\"middle\" x=\"2978\" y=\"-7.8\" font-family=\"Helvetica,sans-Serif\" font-size=\"14.00\" fill=\"#000000\">value = [8, 11]</text>\n</g>\n<!-- 63&#45;&gt;64 -->\n<g id=\"edge64\" class=\"edge\">\n<title>63&#45;&gt;64</title>\n<path fill=\"none\" stroke=\"#000000\" d=\"M2980.5897,-88.9777C2980.2481,-80.7364 2979.8813,-71.887 2979.5343,-63.5153\"/>\n<polygon fill=\"#000000\" stroke=\"#000000\" points=\"2983.02,-63.0949 2979.1087,-53.2485 2976.026,-63.3849 2983.02,-63.0949\"/>\n</g>\n<!-- 65 -->\n<g id=\"node66\" class=\"node\">\n<title>65</title>\n<polygon fill=\"#4ea7e8\" stroke=\"#000000\" points=\"3173,-53 3055,-53 3055,0 3173,0 3173,-53\"/>\n<text text-anchor=\"middle\" x=\"3114\" y=\"-37.8\" font-family=\"Helvetica,sans-Serif\" font-size=\"14.00\" fill=\"#000000\">entropy = 0.451</text>\n<text text-anchor=\"middle\" x=\"3114\" y=\"-22.8\" font-family=\"Helvetica,sans-Serif\" font-size=\"14.00\" fill=\"#000000\">samples = 53</text>\n<text text-anchor=\"middle\" x=\"3114\" y=\"-7.8\" font-family=\"Helvetica,sans-Serif\" font-size=\"14.00\" fill=\"#000000\">value = [5, 48]</text>\n</g>\n<!-- 63&#45;&gt;65 -->\n<g id=\"edge65\" class=\"edge\">\n<title>63&#45;&gt;65</title>\n<path fill=\"none\" stroke=\"#000000\" d=\"M3028.5383,-88.9777C3041.6901,-79.3629 3055.9743,-68.9203 3069.032,-59.3743\"/>\n<polygon fill=\"#000000\" stroke=\"#000000\" points=\"3071.4042,-61.9757 3077.4114,-53.2485 3067.273,-56.3247 3071.4042,-61.9757\"/>\n</g>\n<!-- 67 -->\n<g id=\"node68\" class=\"node\">\n<title>67</title>\n<polygon fill=\"#eb9c64\" stroke=\"#000000\" points=\"3515,-261 3391,-261 3391,-193 3515,-193 3515,-261\"/>\n<text text-anchor=\"middle\" x=\"3453\" y=\"-245.8\" font-family=\"Helvetica,sans-Serif\" font-size=\"14.00\" fill=\"#000000\">X[3] &lt;= &#45;1.026</text>\n<text text-anchor=\"middle\" x=\"3453\" y=\"-230.8\" font-family=\"Helvetica,sans-Serif\" font-size=\"14.00\" fill=\"#000000\">entropy = 0.675</text>\n<text text-anchor=\"middle\" x=\"3453\" y=\"-215.8\" font-family=\"Helvetica,sans-Serif\" font-size=\"14.00\" fill=\"#000000\">samples = 287</text>\n<text text-anchor=\"middle\" x=\"3453\" y=\"-200.8\" font-family=\"Helvetica,sans-Serif\" font-size=\"14.00\" fill=\"#000000\">value = [236, 51]</text>\n</g>\n<!-- 66&#45;&gt;67 -->\n<g id=\"edge67\" class=\"edge\">\n<title>66&#45;&gt;67</title>\n<path fill=\"none\" stroke=\"#000000\" d=\"M3453,-296.9465C3453,-288.776 3453,-279.9318 3453,-271.3697\"/>\n<polygon fill=\"#000000\" stroke=\"#000000\" points=\"3456.5001,-271.13 3453,-261.13 3449.5001,-271.13 3456.5001,-271.13\"/>\n</g>\n<!-- 74 -->\n<g id=\"node75\" class=\"node\">\n<title>74</title>\n<polygon fill=\"#97cbf1\" stroke=\"#000000\" points=\"3845,-261 3727,-261 3727,-193 3845,-193 3845,-261\"/>\n<text text-anchor=\"middle\" x=\"3786\" y=\"-245.8\" font-family=\"Helvetica,sans-Serif\" font-size=\"14.00\" fill=\"#000000\">X[0] &lt;= &#45;0.393</text>\n<text text-anchor=\"middle\" x=\"3786\" y=\"-230.8\" font-family=\"Helvetica,sans-Serif\" font-size=\"14.00\" fill=\"#000000\">entropy = 0.906</text>\n<text text-anchor=\"middle\" x=\"3786\" y=\"-215.8\" font-family=\"Helvetica,sans-Serif\" font-size=\"14.00\" fill=\"#000000\">samples = 84</text>\n<text text-anchor=\"middle\" x=\"3786\" y=\"-200.8\" font-family=\"Helvetica,sans-Serif\" font-size=\"14.00\" fill=\"#000000\">value = [27, 57]</text>\n</g>\n<!-- 66&#45;&gt;74 -->\n<g id=\"edge74\" class=\"edge\">\n<title>66&#45;&gt;74</title>\n<path fill=\"none\" stroke=\"#000000\" d=\"M3519.1882,-310.3286C3576.4748,-292.4373 3659.0198,-266.6575 3717.089,-248.5218\"/>\n<polygon fill=\"#000000\" stroke=\"#000000\" points=\"3718.4098,-251.776 3726.9117,-245.454 3716.323,-245.0943 3718.4098,-251.776\"/>\n</g>\n<!-- 68 -->\n<g id=\"node69\" class=\"node\">\n<title>68</title>\n<polygon fill=\"#f5cdb0\" stroke=\"#000000\" points=\"3443,-157 3325,-157 3325,-89 3443,-89 3443,-157\"/>\n<text text-anchor=\"middle\" x=\"3384\" y=\"-141.8\" font-family=\"Helvetica,sans-Serif\" font-size=\"14.00\" fill=\"#000000\">X[11] &lt;= &#45;1.051</text>\n<text text-anchor=\"middle\" x=\"3384\" y=\"-126.8\" font-family=\"Helvetica,sans-Serif\" font-size=\"14.00\" fill=\"#000000\">entropy = 0.954</text>\n<text text-anchor=\"middle\" x=\"3384\" y=\"-111.8\" font-family=\"Helvetica,sans-Serif\" font-size=\"14.00\" fill=\"#000000\">samples = 88</text>\n<text text-anchor=\"middle\" x=\"3384\" y=\"-96.8\" font-family=\"Helvetica,sans-Serif\" font-size=\"14.00\" fill=\"#000000\">value = [55, 33]</text>\n</g>\n<!-- 67&#45;&gt;68 -->\n<g id=\"edge68\" class=\"edge\">\n<title>67&#45;&gt;68</title>\n<path fill=\"none\" stroke=\"#000000\" d=\"M3430.4068,-192.9465C3424.6286,-184.2373 3418.3425,-174.7626 3412.3166,-165.6801\"/>\n<polygon fill=\"#000000\" stroke=\"#000000\" points=\"3415.089,-163.5278 3406.6439,-157.13 3409.256,-167.3978 3415.089,-163.5278\"/>\n</g>\n<!-- 71 -->\n<g id=\"node72\" class=\"node\">\n<title>71</title>\n<polygon fill=\"#e88e4d\" stroke=\"#000000\" points=\"3585,-157 3461,-157 3461,-89 3585,-89 3585,-157\"/>\n<text text-anchor=\"middle\" x=\"3523\" y=\"-141.8\" font-family=\"Helvetica,sans-Serif\" font-size=\"14.00\" fill=\"#000000\">X[10] &lt;= &#45;1.108</text>\n<text text-anchor=\"middle\" x=\"3523\" y=\"-126.8\" font-family=\"Helvetica,sans-Serif\" font-size=\"14.00\" fill=\"#000000\">entropy = 0.438</text>\n<text text-anchor=\"middle\" x=\"3523\" y=\"-111.8\" font-family=\"Helvetica,sans-Serif\" font-size=\"14.00\" fill=\"#000000\">samples = 199</text>\n<text text-anchor=\"middle\" x=\"3523\" y=\"-96.8\" font-family=\"Helvetica,sans-Serif\" font-size=\"14.00\" fill=\"#000000\">value = [181, 18]</text>\n</g>\n<!-- 67&#45;&gt;71 -->\n<g id=\"edge71\" class=\"edge\">\n<title>67&#45;&gt;71</title>\n<path fill=\"none\" stroke=\"#000000\" d=\"M3475.9206,-192.9465C3481.7826,-184.2373 3488.1598,-174.7626 3494.273,-165.6801\"/>\n<polygon fill=\"#000000\" stroke=\"#000000\" points=\"3497.3476,-167.3802 3500.0279,-157.13 3491.5405,-163.4716 3497.3476,-167.3802\"/>\n</g>\n<!-- 69 -->\n<g id=\"node70\" class=\"node\">\n<title>69</title>\n<polygon fill=\"#eca26d\" stroke=\"#000000\" points=\"3309,-53 3191,-53 3191,0 3309,0 3309,-53\"/>\n<text text-anchor=\"middle\" x=\"3250\" y=\"-37.8\" font-family=\"Helvetica,sans-Serif\" font-size=\"14.00\" fill=\"#000000\">entropy = 0.736</text>\n<text text-anchor=\"middle\" x=\"3250\" y=\"-22.8\" font-family=\"Helvetica,sans-Serif\" font-size=\"14.00\" fill=\"#000000\">samples = 58</text>\n<text text-anchor=\"middle\" x=\"3250\" y=\"-7.8\" font-family=\"Helvetica,sans-Serif\" font-size=\"14.00\" fill=\"#000000\">value = [46, 12]</text>\n</g>\n<!-- 68&#45;&gt;69 -->\n<g id=\"edge69\" class=\"edge\">\n<title>68&#45;&gt;69</title>\n<path fill=\"none\" stroke=\"#000000\" d=\"M3336.7566,-88.9777C3323.2783,-79.2713 3308.6285,-68.7213 3295.2709,-59.1018\"/>\n<polygon fill=\"#000000\" stroke=\"#000000\" points=\"3297.3031,-56.2522 3287.143,-53.2485 3293.2124,-61.9325 3297.3031,-56.2522\"/>\n</g>\n<!-- 70 -->\n<g id=\"node71\" class=\"node\">\n<title>70</title>\n<polygon fill=\"#8ec7f0\" stroke=\"#000000\" points=\"3445,-53 3327,-53 3327,0 3445,0 3445,-53\"/>\n<text text-anchor=\"middle\" x=\"3386\" y=\"-37.8\" font-family=\"Helvetica,sans-Serif\" font-size=\"14.00\" fill=\"#000000\">entropy = 0.881</text>\n<text text-anchor=\"middle\" x=\"3386\" y=\"-22.8\" font-family=\"Helvetica,sans-Serif\" font-size=\"14.00\" fill=\"#000000\">samples = 30</text>\n<text text-anchor=\"middle\" x=\"3386\" y=\"-7.8\" font-family=\"Helvetica,sans-Serif\" font-size=\"14.00\" fill=\"#000000\">value = [9, 21]</text>\n</g>\n<!-- 68&#45;&gt;70 -->\n<g id=\"edge70\" class=\"edge\">\n<title>68&#45;&gt;70</title>\n<path fill=\"none\" stroke=\"#000000\" d=\"M3384.7051,-88.9777C3384.8759,-80.7364 3385.0593,-71.887 3385.2328,-63.5153\"/>\n<polygon fill=\"#000000\" stroke=\"#000000\" points=\"3388.7376,-63.3189 3385.4456,-53.2485 3381.7391,-63.1738 3388.7376,-63.3189\"/>\n</g>\n<!-- 72 -->\n<g id=\"node73\" class=\"node\">\n<title>72</title>\n<polygon fill=\"#e58139\" stroke=\"#000000\" points=\"3579,-53 3463,-53 3463,0 3579,0 3579,-53\"/>\n<text text-anchor=\"middle\" x=\"3521\" y=\"-37.8\" font-family=\"Helvetica,sans-Serif\" font-size=\"14.00\" fill=\"#000000\">entropy = 0.0</text>\n<text text-anchor=\"middle\" x=\"3521\" y=\"-22.8\" font-family=\"Helvetica,sans-Serif\" font-size=\"14.00\" fill=\"#000000\">samples = 115</text>\n<text text-anchor=\"middle\" x=\"3521\" y=\"-7.8\" font-family=\"Helvetica,sans-Serif\" font-size=\"14.00\" fill=\"#000000\">value = [115, 0]</text>\n</g>\n<!-- 71&#45;&gt;72 -->\n<g id=\"edge72\" class=\"edge\">\n<title>71&#45;&gt;72</title>\n<path fill=\"none\" stroke=\"#000000\" d=\"M3522.2949,-88.9777C3522.1241,-80.7364 3521.9407,-71.887 3521.7672,-63.5153\"/>\n<polygon fill=\"#000000\" stroke=\"#000000\" points=\"3525.2609,-63.1738 3521.5544,-53.2485 3518.2624,-63.3189 3525.2609,-63.1738\"/>\n</g>\n<!-- 73 -->\n<g id=\"node74\" class=\"node\">\n<title>73</title>\n<polygon fill=\"#eca36f\" stroke=\"#000000\" points=\"3713,-53 3597,-53 3597,0 3713,0 3713,-53\"/>\n<text text-anchor=\"middle\" x=\"3655\" y=\"-37.8\" font-family=\"Helvetica,sans-Serif\" font-size=\"14.00\" fill=\"#000000\">entropy = 0.75</text>\n<text text-anchor=\"middle\" x=\"3655\" y=\"-22.8\" font-family=\"Helvetica,sans-Serif\" font-size=\"14.00\" fill=\"#000000\">samples = 84</text>\n<text text-anchor=\"middle\" x=\"3655\" y=\"-7.8\" font-family=\"Helvetica,sans-Serif\" font-size=\"14.00\" fill=\"#000000\">value = [66, 18]</text>\n</g>\n<!-- 71&#45;&gt;73 -->\n<g id=\"edge73\" class=\"edge\">\n<title>71&#45;&gt;73</title>\n<path fill=\"none\" stroke=\"#000000\" d=\"M3569.5383,-88.9777C3582.6901,-79.3629 3596.9743,-68.9203 3610.032,-59.3743\"/>\n<polygon fill=\"#000000\" stroke=\"#000000\" points=\"3612.4042,-61.9757 3618.4114,-53.2485 3608.273,-56.3247 3612.4042,-61.9757\"/>\n</g>\n<!-- 75 -->\n<g id=\"node76\" class=\"node\">\n<title>75</title>\n<polygon fill=\"#78bced\" stroke=\"#000000\" points=\"3845,-157 3727,-157 3727,-89 3845,-89 3845,-157\"/>\n<text text-anchor=\"middle\" x=\"3786\" y=\"-141.8\" font-family=\"Helvetica,sans-Serif\" font-size=\"14.00\" fill=\"#000000\">X[11] &lt;= &#45;1.068</text>\n<text text-anchor=\"middle\" x=\"3786\" y=\"-126.8\" font-family=\"Helvetica,sans-Serif\" font-size=\"14.00\" fill=\"#000000\">entropy = 0.795</text>\n<text text-anchor=\"middle\" x=\"3786\" y=\"-111.8\" font-family=\"Helvetica,sans-Serif\" font-size=\"14.00\" fill=\"#000000\">samples = 75</text>\n<text text-anchor=\"middle\" x=\"3786\" y=\"-96.8\" font-family=\"Helvetica,sans-Serif\" font-size=\"14.00\" fill=\"#000000\">value = [18, 57]</text>\n</g>\n<!-- 74&#45;&gt;75 -->\n<g id=\"edge75\" class=\"edge\">\n<title>74&#45;&gt;75</title>\n<path fill=\"none\" stroke=\"#000000\" d=\"M3786,-192.9465C3786,-184.776 3786,-175.9318 3786,-167.3697\"/>\n<polygon fill=\"#000000\" stroke=\"#000000\" points=\"3789.5001,-167.13 3786,-157.13 3782.5001,-167.13 3789.5001,-167.13\"/>\n</g>\n<!-- 78 -->\n<g id=\"node79\" class=\"node\">\n<title>78</title>\n<polygon fill=\"#e58139\" stroke=\"#000000\" points=\"3964.5,-149.5 3863.5,-149.5 3863.5,-96.5 3964.5,-96.5 3964.5,-149.5\"/>\n<text text-anchor=\"middle\" x=\"3914\" y=\"-134.3\" font-family=\"Helvetica,sans-Serif\" font-size=\"14.00\" fill=\"#000000\">entropy = 0.0</text>\n<text text-anchor=\"middle\" x=\"3914\" y=\"-119.3\" font-family=\"Helvetica,sans-Serif\" font-size=\"14.00\" fill=\"#000000\">samples = 9</text>\n<text text-anchor=\"middle\" x=\"3914\" y=\"-104.3\" font-family=\"Helvetica,sans-Serif\" font-size=\"14.00\" fill=\"#000000\">value = [9, 0]</text>\n</g>\n<!-- 74&#45;&gt;78 -->\n<g id=\"edge78\" class=\"edge\">\n<title>74&#45;&gt;78</title>\n<path fill=\"none\" stroke=\"#000000\" d=\"M3827.912,-192.9465C3842.5533,-181.0504 3858.9526,-167.726 3873.4785,-155.9237\"/>\n<polygon fill=\"#000000\" stroke=\"#000000\" points=\"3875.7786,-158.5645 3881.3327,-149.5422 3871.3645,-153.1317 3875.7786,-158.5645\"/>\n</g>\n<!-- 76 -->\n<g id=\"node77\" class=\"node\">\n<title>76</title>\n<polygon fill=\"#ea9a61\" stroke=\"#000000\" points=\"3841,-53 3731,-53 3731,0 3841,0 3841,-53\"/>\n<text text-anchor=\"middle\" x=\"3786\" y=\"-37.8\" font-family=\"Helvetica,sans-Serif\" font-size=\"14.00\" fill=\"#000000\">entropy = 0.65</text>\n<text text-anchor=\"middle\" x=\"3786\" y=\"-22.8\" font-family=\"Helvetica,sans-Serif\" font-size=\"14.00\" fill=\"#000000\">samples = 6</text>\n<text text-anchor=\"middle\" x=\"3786\" y=\"-7.8\" font-family=\"Helvetica,sans-Serif\" font-size=\"14.00\" fill=\"#000000\">value = [5, 1]</text>\n</g>\n<!-- 75&#45;&gt;76 -->\n<g id=\"edge76\" class=\"edge\">\n<title>75&#45;&gt;76</title>\n<path fill=\"none\" stroke=\"#000000\" d=\"M3786,-88.9777C3786,-80.7364 3786,-71.887 3786,-63.5153\"/>\n<polygon fill=\"#000000\" stroke=\"#000000\" points=\"3789.5001,-63.2484 3786,-53.2485 3782.5001,-63.2485 3789.5001,-63.2484\"/>\n</g>\n<!-- 77 -->\n<g id=\"node78\" class=\"node\">\n<title>77</title>\n<polygon fill=\"#67b4eb\" stroke=\"#000000\" points=\"3977,-53 3859,-53 3859,0 3977,0 3977,-53\"/>\n<text text-anchor=\"middle\" x=\"3918\" y=\"-37.8\" font-family=\"Helvetica,sans-Serif\" font-size=\"14.00\" fill=\"#000000\">entropy = 0.698</text>\n<text text-anchor=\"middle\" x=\"3918\" y=\"-22.8\" font-family=\"Helvetica,sans-Serif\" font-size=\"14.00\" fill=\"#000000\">samples = 69</text>\n<text text-anchor=\"middle\" x=\"3918\" y=\"-7.8\" font-family=\"Helvetica,sans-Serif\" font-size=\"14.00\" fill=\"#000000\">value = [13, 56]</text>\n</g>\n<!-- 75&#45;&gt;77 -->\n<g id=\"edge77\" class=\"edge\">\n<title>75&#45;&gt;77</title>\n<path fill=\"none\" stroke=\"#000000\" d=\"M3832.5383,-88.9777C3845.6901,-79.3629 3859.9743,-68.9203 3873.032,-59.3743\"/>\n<polygon fill=\"#000000\" stroke=\"#000000\" points=\"3875.4042,-61.9757 3881.4114,-53.2485 3871.273,-56.3247 3875.4042,-61.9757\"/>\n</g>\n<!-- 80 -->\n<g id=\"node81\" class=\"node\">\n<title>80</title>\n<polygon fill=\"#3a9ee5\" stroke=\"#000000\" points=\"5503,-573 5371,-573 5371,-505 5503,-505 5503,-573\"/>\n<text text-anchor=\"middle\" x=\"5437\" y=\"-557.8\" font-family=\"Helvetica,sans-Serif\" font-size=\"14.00\" fill=\"#000000\">X[13] &lt;= &#45;0.54</text>\n<text text-anchor=\"middle\" x=\"5437\" y=\"-542.8\" font-family=\"Helvetica,sans-Serif\" font-size=\"14.00\" fill=\"#000000\">entropy = 0.061</text>\n<text text-anchor=\"middle\" x=\"5437\" y=\"-527.8\" font-family=\"Helvetica,sans-Serif\" font-size=\"14.00\" fill=\"#000000\">samples = 4644</text>\n<text text-anchor=\"middle\" x=\"5437\" y=\"-512.8\" font-family=\"Helvetica,sans-Serif\" font-size=\"14.00\" fill=\"#000000\">value = [33, 4611]</text>\n</g>\n<!-- 79&#45;&gt;80 -->\n<g id=\"edge80\" class=\"edge\">\n<title>79&#45;&gt;80</title>\n<path fill=\"none\" stroke=\"#000000\" d=\"M5828.3326,-625.5927C5740.5152,-606.1608 5599.393,-574.9338 5512.7695,-555.766\"/>\n<polygon fill=\"#000000\" stroke=\"#000000\" points=\"5513.5233,-552.3482 5503.0033,-553.605 5512.0109,-559.1829 5513.5233,-552.3482\"/>\n</g>\n<!-- 105 -->\n<g id=\"node106\" class=\"node\">\n<title>105</title>\n<polygon fill=\"#4da7e8\" stroke=\"#000000\" points=\"6066.5,-573 5909.5,-573 5909.5,-505 6066.5,-505 6066.5,-573\"/>\n<text text-anchor=\"middle\" x=\"5988\" y=\"-557.8\" font-family=\"Helvetica,sans-Serif\" font-size=\"14.00\" fill=\"#000000\">X[11] &lt;= &#45;0.967</text>\n<text text-anchor=\"middle\" x=\"5988\" y=\"-542.8\" font-family=\"Helvetica,sans-Serif\" font-size=\"14.00\" fill=\"#000000\">entropy = 0.441</text>\n<text text-anchor=\"middle\" x=\"5988\" y=\"-527.8\" font-family=\"Helvetica,sans-Serif\" font-size=\"14.00\" fill=\"#000000\">samples = 22252</text>\n<text text-anchor=\"middle\" x=\"5988\" y=\"-512.8\" font-family=\"Helvetica,sans-Serif\" font-size=\"14.00\" fill=\"#000000\">value = [2033, 20219]</text>\n</g>\n<!-- 79&#45;&gt;105 -->\n<g id=\"edge105\" class=\"edge\">\n<title>79&#45;&gt;105</title>\n<path fill=\"none\" stroke=\"#000000\" d=\"M5933.5224,-608.9465C5940.4454,-600.0578 5947.9894,-590.3716 5955.196,-581.1188\"/>\n<polygon fill=\"#000000\" stroke=\"#000000\" points=\"5958.0346,-583.1701 5961.418,-573.13 5952.512,-578.8688 5958.0346,-583.1701\"/>\n</g>\n<!-- 81 -->\n<g id=\"node82\" class=\"node\">\n<title>81</title>\n<polygon fill=\"#3c9fe5\" stroke=\"#000000\" points=\"4959,-469 4827,-469 4827,-401 4959,-401 4959,-469\"/>\n<text text-anchor=\"middle\" x=\"4893\" y=\"-453.8\" font-family=\"Helvetica,sans-Serif\" font-size=\"14.00\" fill=\"#000000\">X[0] &lt;= &#45;1.474</text>\n<text text-anchor=\"middle\" x=\"4893\" y=\"-438.8\" font-family=\"Helvetica,sans-Serif\" font-size=\"14.00\" fill=\"#000000\">entropy = 0.126</text>\n<text text-anchor=\"middle\" x=\"4893\" y=\"-423.8\" font-family=\"Helvetica,sans-Serif\" font-size=\"14.00\" fill=\"#000000\">samples = 1917</text>\n<text text-anchor=\"middle\" x=\"4893\" y=\"-408.8\" font-family=\"Helvetica,sans-Serif\" font-size=\"14.00\" fill=\"#000000\">value = [33, 1884]</text>\n</g>\n<!-- 80&#45;&gt;81 -->\n<g id=\"edge81\" class=\"edge\">\n<title>80&#45;&gt;81</title>\n<path fill=\"none\" stroke=\"#000000\" d=\"M5370.8388,-526.3515C5269.4815,-506.9744 5076.29,-470.0407 4969.2132,-449.5702\"/>\n<polygon fill=\"#000000\" stroke=\"#000000\" points=\"4969.6051,-446.0818 4959.1257,-447.6417 4968.2906,-452.9573 4969.6051,-446.0818\"/>\n</g>\n<!-- 104 -->\n<g id=\"node105\" class=\"node\">\n<title>104</title>\n<polygon fill=\"#399de5\" stroke=\"#000000\" points=\"5499,-461.5 5375,-461.5 5375,-408.5 5499,-408.5 5499,-461.5\"/>\n<text text-anchor=\"middle\" x=\"5437\" y=\"-446.3\" font-family=\"Helvetica,sans-Serif\" font-size=\"14.00\" fill=\"#000000\">entropy = 0.0</text>\n<text text-anchor=\"middle\" x=\"5437\" y=\"-431.3\" font-family=\"Helvetica,sans-Serif\" font-size=\"14.00\" fill=\"#000000\">samples = 2727</text>\n<text text-anchor=\"middle\" x=\"5437\" y=\"-416.3\" font-family=\"Helvetica,sans-Serif\" font-size=\"14.00\" fill=\"#000000\">value = [0, 2727]</text>\n</g>\n<!-- 80&#45;&gt;104 -->\n<g id=\"edge104\" class=\"edge\">\n<title>80&#45;&gt;104</title>\n<path fill=\"none\" stroke=\"#000000\" d=\"M5437,-504.9465C5437,-494.2621 5437,-482.4254 5437,-471.5742\"/>\n<polygon fill=\"#000000\" stroke=\"#000000\" points=\"5440.5001,-471.5421 5437,-461.5422 5433.5001,-471.5422 5440.5001,-471.5421\"/>\n</g>\n<!-- 82 -->\n<g id=\"node83\" class=\"node\">\n<title>82</title>\n<polygon fill=\"#3a9de5\" stroke=\"#000000\" points=\"4436,-365 4318,-365 4318,-297 4436,-297 4436,-365\"/>\n<text text-anchor=\"middle\" x=\"4377\" y=\"-349.8\" font-family=\"Helvetica,sans-Serif\" font-size=\"14.00\" fill=\"#000000\">X[8] &lt;= 1.719</text>\n<text text-anchor=\"middle\" x=\"4377\" y=\"-334.8\" font-family=\"Helvetica,sans-Serif\" font-size=\"14.00\" fill=\"#000000\">entropy = 0.027</text>\n<text text-anchor=\"middle\" x=\"4377\" y=\"-319.8\" font-family=\"Helvetica,sans-Serif\" font-size=\"14.00\" fill=\"#000000\">samples = 732</text>\n<text text-anchor=\"middle\" x=\"4377\" y=\"-304.8\" font-family=\"Helvetica,sans-Serif\" font-size=\"14.00\" fill=\"#000000\">value = [2, 730]</text>\n</g>\n<!-- 81&#45;&gt;82 -->\n<g id=\"edge82\" class=\"edge\">\n<title>81&#45;&gt;82</title>\n<path fill=\"none\" stroke=\"#000000\" d=\"M4826.8615,-421.6698C4728.7941,-401.9042 4545.7042,-365.0024 4446.0079,-344.9086\"/>\n<polygon fill=\"#000000\" stroke=\"#000000\" points=\"4446.5324,-341.444 4436.038,-342.8991 4445.1493,-348.306 4446.5324,-341.444\"/>\n</g>\n<!-- 91 -->\n<g id=\"node92\" class=\"node\">\n<title>91</title>\n<polygon fill=\"#3ea0e6\" stroke=\"#000000\" points=\"4959,-365 4827,-365 4827,-297 4959,-297 4959,-365\"/>\n<text text-anchor=\"middle\" x=\"4893\" y=\"-349.8\" font-family=\"Helvetica,sans-Serif\" font-size=\"14.00\" fill=\"#000000\">X[11] &lt;= &#45;0.962</text>\n<text text-anchor=\"middle\" x=\"4893\" y=\"-334.8\" font-family=\"Helvetica,sans-Serif\" font-size=\"14.00\" fill=\"#000000\">entropy = 0.175</text>\n<text text-anchor=\"middle\" x=\"4893\" y=\"-319.8\" font-family=\"Helvetica,sans-Serif\" font-size=\"14.00\" fill=\"#000000\">samples = 1185</text>\n<text text-anchor=\"middle\" x=\"4893\" y=\"-304.8\" font-family=\"Helvetica,sans-Serif\" font-size=\"14.00\" fill=\"#000000\">value = [31, 1154]</text>\n</g>\n<!-- 81&#45;&gt;91 -->\n<g id=\"edge91\" class=\"edge\">\n<title>81&#45;&gt;91</title>\n<path fill=\"none\" stroke=\"#000000\" d=\"M4893,-400.9465C4893,-392.776 4893,-383.9318 4893,-375.3697\"/>\n<polygon fill=\"#000000\" stroke=\"#000000\" points=\"4896.5001,-375.13 4893,-365.13 4889.5001,-375.13 4896.5001,-375.13\"/>\n</g>\n<!-- 83 -->\n<g id=\"node84\" class=\"node\">\n<title>83</title>\n<polygon fill=\"#399de5\" stroke=\"#000000\" points=\"4300,-253.5 4184,-253.5 4184,-200.5 4300,-200.5 4300,-253.5\"/>\n<text text-anchor=\"middle\" x=\"4242\" y=\"-238.3\" font-family=\"Helvetica,sans-Serif\" font-size=\"14.00\" fill=\"#000000\">entropy = 0.0</text>\n<text text-anchor=\"middle\" x=\"4242\" y=\"-223.3\" font-family=\"Helvetica,sans-Serif\" font-size=\"14.00\" fill=\"#000000\">samples = 602</text>\n<text text-anchor=\"middle\" x=\"4242\" y=\"-208.3\" font-family=\"Helvetica,sans-Serif\" font-size=\"14.00\" fill=\"#000000\">value = [0, 602]</text>\n</g>\n<!-- 82&#45;&gt;83 -->\n<g id=\"edge83\" class=\"edge\">\n<title>82&#45;&gt;83</title>\n<path fill=\"none\" stroke=\"#000000\" d=\"M4332.796,-296.9465C4317.3539,-285.0504 4300.0578,-271.726 4284.7375,-259.9237\"/>\n<polygon fill=\"#000000\" stroke=\"#000000\" points=\"4286.5117,-256.8723 4276.4538,-253.5422 4282.2397,-262.4176 4286.5117,-256.8723\"/>\n</g>\n<!-- 84 -->\n<g id=\"node85\" class=\"node\">\n<title>84</title>\n<polygon fill=\"#3c9fe5\" stroke=\"#000000\" points=\"4436,-261 4318,-261 4318,-193 4436,-193 4436,-261\"/>\n<text text-anchor=\"middle\" x=\"4377\" y=\"-245.8\" font-family=\"Helvetica,sans-Serif\" font-size=\"14.00\" fill=\"#000000\">X[1] &lt;= 0.502</text>\n<text text-anchor=\"middle\" x=\"4377\" y=\"-230.8\" font-family=\"Helvetica,sans-Serif\" font-size=\"14.00\" fill=\"#000000\">entropy = 0.115</text>\n<text text-anchor=\"middle\" x=\"4377\" y=\"-215.8\" font-family=\"Helvetica,sans-Serif\" font-size=\"14.00\" fill=\"#000000\">samples = 130</text>\n<text text-anchor=\"middle\" x=\"4377\" y=\"-200.8\" font-family=\"Helvetica,sans-Serif\" font-size=\"14.00\" fill=\"#000000\">value = [2, 128]</text>\n</g>\n<!-- 82&#45;&gt;84 -->\n<g id=\"edge84\" class=\"edge\">\n<title>82&#45;&gt;84</title>\n<path fill=\"none\" stroke=\"#000000\" d=\"M4377,-296.9465C4377,-288.776 4377,-279.9318 4377,-271.3697\"/>\n<polygon fill=\"#000000\" stroke=\"#000000\" points=\"4380.5001,-271.13 4377,-261.13 4373.5001,-271.13 4380.5001,-271.13\"/>\n</g>\n<!-- 85 -->\n<g id=\"node86\" class=\"node\">\n<title>85</title>\n<polygon fill=\"#3b9ee5\" stroke=\"#000000\" points=\"4247,-157 4129,-157 4129,-89 4247,-89 4247,-157\"/>\n<text text-anchor=\"middle\" x=\"4188\" y=\"-141.8\" font-family=\"Helvetica,sans-Serif\" font-size=\"14.00\" fill=\"#000000\">X[9] &lt;= 1.202</text>\n<text text-anchor=\"middle\" x=\"4188\" y=\"-126.8\" font-family=\"Helvetica,sans-Serif\" font-size=\"14.00\" fill=\"#000000\">entropy = 0.066</text>\n<text text-anchor=\"middle\" x=\"4188\" y=\"-111.8\" font-family=\"Helvetica,sans-Serif\" font-size=\"14.00\" fill=\"#000000\">samples = 128</text>\n<text text-anchor=\"middle\" x=\"4188\" y=\"-96.8\" font-family=\"Helvetica,sans-Serif\" font-size=\"14.00\" fill=\"#000000\">value = [1, 127]</text>\n</g>\n<!-- 84&#45;&gt;85 -->\n<g id=\"edge85\" class=\"edge\">\n<title>84&#45;&gt;85</title>\n<path fill=\"none\" stroke=\"#000000\" d=\"M4317.9766,-194.5215C4298.3522,-183.7229 4276.34,-171.6103 4256.0875,-160.4661\"/>\n<polygon fill=\"#000000\" stroke=\"#000000\" points=\"4257.6741,-157.3443 4247.2256,-155.5897 4254.2994,-163.4772 4257.6741,-157.3443\"/>\n</g>\n<!-- 88 -->\n<g id=\"node89\" class=\"node\">\n<title>88</title>\n<polygon fill=\"#ffffff\" stroke=\"#000000\" points=\"4430.5,-157 4323.5,-157 4323.5,-89 4430.5,-89 4430.5,-157\"/>\n<text text-anchor=\"middle\" x=\"4377\" y=\"-141.8\" font-family=\"Helvetica,sans-Serif\" font-size=\"14.00\" fill=\"#000000\">X[9] &lt;= &#45;1.515</text>\n<text text-anchor=\"middle\" x=\"4377\" y=\"-126.8\" font-family=\"Helvetica,sans-Serif\" font-size=\"14.00\" fill=\"#000000\">entropy = 1.0</text>\n<text text-anchor=\"middle\" x=\"4377\" y=\"-111.8\" font-family=\"Helvetica,sans-Serif\" font-size=\"14.00\" fill=\"#000000\">samples = 2</text>\n<text text-anchor=\"middle\" x=\"4377\" y=\"-96.8\" font-family=\"Helvetica,sans-Serif\" font-size=\"14.00\" fill=\"#000000\">value = [1, 1]</text>\n</g>\n<!-- 84&#45;&gt;88 -->\n<g id=\"edge88\" class=\"edge\">\n<title>84&#45;&gt;88</title>\n<path fill=\"none\" stroke=\"#000000\" d=\"M4377,-192.9465C4377,-184.776 4377,-175.9318 4377,-167.3697\"/>\n<polygon fill=\"#000000\" stroke=\"#000000\" points=\"4380.5001,-167.13 4377,-157.13 4373.5001,-167.13 4380.5001,-167.13\"/>\n</g>\n<!-- 86 -->\n<g id=\"node87\" class=\"node\">\n<title>86</title>\n<polygon fill=\"#399de5\" stroke=\"#000000\" points=\"4111,-53 3995,-53 3995,0 4111,0 4111,-53\"/>\n<text text-anchor=\"middle\" x=\"4053\" y=\"-37.8\" font-family=\"Helvetica,sans-Serif\" font-size=\"14.00\" fill=\"#000000\">entropy = 0.0</text>\n<text text-anchor=\"middle\" x=\"4053\" y=\"-22.8\" font-family=\"Helvetica,sans-Serif\" font-size=\"14.00\" fill=\"#000000\">samples = 121</text>\n<text text-anchor=\"middle\" x=\"4053\" y=\"-7.8\" font-family=\"Helvetica,sans-Serif\" font-size=\"14.00\" fill=\"#000000\">value = [0, 121]</text>\n</g>\n<!-- 85&#45;&gt;86 -->\n<g id=\"edge86\" class=\"edge\">\n<title>85&#45;&gt;86</title>\n<path fill=\"none\" stroke=\"#000000\" d=\"M4140.4041,-88.9777C4126.8252,-79.2713 4112.0661,-68.7213 4098.6088,-59.1018\"/>\n<polygon fill=\"#000000\" stroke=\"#000000\" points=\"4100.5908,-56.2164 4090.4202,-53.2485 4096.5201,-61.9111 4100.5908,-56.2164\"/>\n</g>\n<!-- 87 -->\n<g id=\"node88\" class=\"node\">\n<title>87</title>\n<polygon fill=\"#5aade9\" stroke=\"#000000\" points=\"4247,-53 4129,-53 4129,0 4247,0 4247,-53\"/>\n<text text-anchor=\"middle\" x=\"4188\" y=\"-37.8\" font-family=\"Helvetica,sans-Serif\" font-size=\"14.00\" fill=\"#000000\">entropy = 0.592</text>\n<text text-anchor=\"middle\" x=\"4188\" y=\"-22.8\" font-family=\"Helvetica,sans-Serif\" font-size=\"14.00\" fill=\"#000000\">samples = 7</text>\n<text text-anchor=\"middle\" x=\"4188\" y=\"-7.8\" font-family=\"Helvetica,sans-Serif\" font-size=\"14.00\" fill=\"#000000\">value = [1, 6]</text>\n</g>\n<!-- 85&#45;&gt;87 -->\n<g id=\"edge87\" class=\"edge\">\n<title>85&#45;&gt;87</title>\n<path fill=\"none\" stroke=\"#000000\" d=\"M4188,-88.9777C4188,-80.7364 4188,-71.887 4188,-63.5153\"/>\n<polygon fill=\"#000000\" stroke=\"#000000\" points=\"4191.5001,-63.2484 4188,-53.2485 4184.5001,-63.2485 4191.5001,-63.2484\"/>\n</g>\n<!-- 89 -->\n<g id=\"node90\" class=\"node\">\n<title>89</title>\n<polygon fill=\"#e58139\" stroke=\"#000000\" points=\"4366.5,-53 4265.5,-53 4265.5,0 4366.5,0 4366.5,-53\"/>\n<text text-anchor=\"middle\" x=\"4316\" y=\"-37.8\" font-family=\"Helvetica,sans-Serif\" font-size=\"14.00\" fill=\"#000000\">entropy = 0.0</text>\n<text text-anchor=\"middle\" x=\"4316\" y=\"-22.8\" font-family=\"Helvetica,sans-Serif\" font-size=\"14.00\" fill=\"#000000\">samples = 1</text>\n<text text-anchor=\"middle\" x=\"4316\" y=\"-7.8\" font-family=\"Helvetica,sans-Serif\" font-size=\"14.00\" fill=\"#000000\">value = [1, 0]</text>\n</g>\n<!-- 88&#45;&gt;89 -->\n<g id=\"edge89\" class=\"edge\">\n<title>88&#45;&gt;89</title>\n<path fill=\"none\" stroke=\"#000000\" d=\"M4355.4937,-88.9777C4349.9369,-80.187 4343.9427,-70.7044 4338.3441,-61.8477\"/>\n<polygon fill=\"#000000\" stroke=\"#000000\" points=\"4341.2101,-59.8312 4332.9084,-53.2485 4335.2931,-63.5714 4341.2101,-59.8312\"/>\n</g>\n<!-- 90 -->\n<g id=\"node91\" class=\"node\">\n<title>90</title>\n<polygon fill=\"#399de5\" stroke=\"#000000\" points=\"4485.5,-53 4384.5,-53 4384.5,0 4485.5,0 4485.5,-53\"/>\n<text text-anchor=\"middle\" x=\"4435\" y=\"-37.8\" font-family=\"Helvetica,sans-Serif\" font-size=\"14.00\" fill=\"#000000\">entropy = 0.0</text>\n<text text-anchor=\"middle\" x=\"4435\" y=\"-22.8\" font-family=\"Helvetica,sans-Serif\" font-size=\"14.00\" fill=\"#000000\">samples = 1</text>\n<text text-anchor=\"middle\" x=\"4435\" y=\"-7.8\" font-family=\"Helvetica,sans-Serif\" font-size=\"14.00\" fill=\"#000000\">value = [0, 1]</text>\n</g>\n<!-- 88&#45;&gt;90 -->\n<g id=\"edge90\" class=\"edge\">\n<title>88&#45;&gt;90</title>\n<path fill=\"none\" stroke=\"#000000\" d=\"M4397.4486,-88.9777C4402.7322,-80.187 4408.4316,-70.7044 4413.7548,-61.8477\"/>\n<polygon fill=\"#000000\" stroke=\"#000000\" points=\"4416.7715,-63.6225 4418.9232,-53.2485 4410.7718,-60.0165 4416.7715,-63.6225\"/>\n</g>\n<!-- 92 -->\n<g id=\"node93\" class=\"node\">\n<title>92</title>\n<polygon fill=\"#47a4e7\" stroke=\"#000000\" points=\"4886,-261 4762,-261 4762,-193 4886,-193 4886,-261\"/>\n<text text-anchor=\"middle\" x=\"4824\" y=\"-245.8\" font-family=\"Helvetica,sans-Serif\" font-size=\"14.00\" fill=\"#000000\">X[6] &lt;= &#45;0.874</text>\n<text text-anchor=\"middle\" x=\"4824\" y=\"-230.8\" font-family=\"Helvetica,sans-Serif\" font-size=\"14.00\" fill=\"#000000\">entropy = 0.345</text>\n<text text-anchor=\"middle\" x=\"4824\" y=\"-215.8\" font-family=\"Helvetica,sans-Serif\" font-size=\"14.00\" fill=\"#000000\">samples = 419</text>\n<text text-anchor=\"middle\" x=\"4824\" y=\"-200.8\" font-family=\"Helvetica,sans-Serif\" font-size=\"14.00\" fill=\"#000000\">value = [27, 392]</text>\n</g>\n<!-- 91&#45;&gt;92 -->\n<g id=\"edge92\" class=\"edge\">\n<title>91&#45;&gt;92</title>\n<path fill=\"none\" stroke=\"#000000\" d=\"M4870.4068,-296.9465C4864.6286,-288.2373 4858.3425,-278.7626 4852.3166,-269.6801\"/>\n<polygon fill=\"#000000\" stroke=\"#000000\" points=\"4855.089,-267.5278 4846.6439,-261.13 4849.256,-271.3978 4855.089,-267.5278\"/>\n</g>\n<!-- 99 -->\n<g id=\"node100\" class=\"node\">\n<title>99</title>\n<polygon fill=\"#3a9ee5\" stroke=\"#000000\" points=\"5022,-261 4904,-261 4904,-193 5022,-193 5022,-261\"/>\n<text text-anchor=\"middle\" x=\"4963\" y=\"-245.8\" font-family=\"Helvetica,sans-Serif\" font-size=\"14.00\" fill=\"#000000\">X[0] &lt;= &#45;1.396</text>\n<text text-anchor=\"middle\" x=\"4963\" y=\"-230.8\" font-family=\"Helvetica,sans-Serif\" font-size=\"14.00\" fill=\"#000000\">entropy = 0.047</text>\n<text text-anchor=\"middle\" x=\"4963\" y=\"-215.8\" font-family=\"Helvetica,sans-Serif\" font-size=\"14.00\" fill=\"#000000\">samples = 766</text>\n<text text-anchor=\"middle\" x=\"4963\" y=\"-200.8\" font-family=\"Helvetica,sans-Serif\" font-size=\"14.00\" fill=\"#000000\">value = [4, 762]</text>\n</g>\n<!-- 91&#45;&gt;99 -->\n<g id=\"edge99\" class=\"edge\">\n<title>91&#45;&gt;99</title>\n<path fill=\"none\" stroke=\"#000000\" d=\"M4915.9206,-296.9465C4921.7826,-288.2373 4928.1598,-278.7626 4934.273,-269.6801\"/>\n<polygon fill=\"#000000\" stroke=\"#000000\" points=\"4937.3476,-271.3802 4940.0279,-261.13 4931.5405,-267.4716 4937.3476,-271.3802\"/>\n</g>\n<!-- 93 -->\n<g id=\"node94\" class=\"node\">\n<title>93</title>\n<polygon fill=\"#65b3eb\" stroke=\"#000000\" points=\"4744,-157 4626,-157 4626,-89 4744,-89 4744,-157\"/>\n<text text-anchor=\"middle\" x=\"4685\" y=\"-141.8\" font-family=\"Helvetica,sans-Serif\" font-size=\"14.00\" fill=\"#000000\">X[13] &lt;= &#45;0.547</text>\n<text text-anchor=\"middle\" x=\"4685\" y=\"-126.8\" font-family=\"Helvetica,sans-Serif\" font-size=\"14.00\" fill=\"#000000\">entropy = 0.687</text>\n<text text-anchor=\"middle\" x=\"4685\" y=\"-111.8\" font-family=\"Helvetica,sans-Serif\" font-size=\"14.00\" fill=\"#000000\">samples = 60</text>\n<text text-anchor=\"middle\" x=\"4685\" y=\"-96.8\" font-family=\"Helvetica,sans-Serif\" font-size=\"14.00\" fill=\"#000000\">value = [11, 49]</text>\n</g>\n<!-- 92&#45;&gt;93 -->\n<g id=\"edge93\" class=\"edge\">\n<title>92&#45;&gt;93</title>\n<path fill=\"none\" stroke=\"#000000\" d=\"M4778.4862,-192.9465C4765.766,-183.4293 4751.824,-172.9978 4738.6794,-163.163\"/>\n<polygon fill=\"#000000\" stroke=\"#000000\" points=\"4740.7198,-160.3184 4730.6161,-157.13 4736.5262,-165.9232 4740.7198,-160.3184\"/>\n</g>\n<!-- 96 -->\n<g id=\"node97\" class=\"node\">\n<title>96</title>\n<polygon fill=\"#42a2e6\" stroke=\"#000000\" points=\"4886,-157 4762,-157 4762,-89 4886,-89 4886,-157\"/>\n<text text-anchor=\"middle\" x=\"4824\" y=\"-141.8\" font-family=\"Helvetica,sans-Serif\" font-size=\"14.00\" fill=\"#000000\">X[13] &lt;= &#45;0.543</text>\n<text text-anchor=\"middle\" x=\"4824\" y=\"-126.8\" font-family=\"Helvetica,sans-Serif\" font-size=\"14.00\" fill=\"#000000\">entropy = 0.263</text>\n<text text-anchor=\"middle\" x=\"4824\" y=\"-111.8\" font-family=\"Helvetica,sans-Serif\" font-size=\"14.00\" fill=\"#000000\">samples = 359</text>\n<text text-anchor=\"middle\" x=\"4824\" y=\"-96.8\" font-family=\"Helvetica,sans-Serif\" font-size=\"14.00\" fill=\"#000000\">value = [16, 343]</text>\n</g>\n<!-- 92&#45;&gt;96 -->\n<g id=\"edge96\" class=\"edge\">\n<title>92&#45;&gt;96</title>\n<path fill=\"none\" stroke=\"#000000\" d=\"M4824,-192.9465C4824,-184.776 4824,-175.9318 4824,-167.3697\"/>\n<polygon fill=\"#000000\" stroke=\"#000000\" points=\"4827.5001,-167.13 4824,-157.13 4820.5001,-167.13 4827.5001,-167.13\"/>\n</g>\n<!-- 94 -->\n<g id=\"node95\" class=\"node\">\n<title>94</title>\n<polygon fill=\"#ffffff\" stroke=\"#000000\" points=\"4608,-53 4504,-53 4504,0 4608,0 4608,-53\"/>\n<text text-anchor=\"middle\" x=\"4556\" y=\"-37.8\" font-family=\"Helvetica,sans-Serif\" font-size=\"14.00\" fill=\"#000000\">entropy = 1.0</text>\n<text text-anchor=\"middle\" x=\"4556\" y=\"-22.8\" font-family=\"Helvetica,sans-Serif\" font-size=\"14.00\" fill=\"#000000\">samples = 10</text>\n<text text-anchor=\"middle\" x=\"4556\" y=\"-7.8\" font-family=\"Helvetica,sans-Serif\" font-size=\"14.00\" fill=\"#000000\">value = [5, 5]</text>\n</g>\n<!-- 93&#45;&gt;94 -->\n<g id=\"edge94\" class=\"edge\">\n<title>93&#45;&gt;94</title>\n<path fill=\"none\" stroke=\"#000000\" d=\"M4639.5194,-88.9777C4626.6665,-79.3629 4612.7069,-68.9203 4599.946,-59.3743\"/>\n<polygon fill=\"#000000\" stroke=\"#000000\" points=\"4601.861,-56.436 4591.757,-53.2485 4597.668,-62.0412 4601.861,-56.436\"/>\n</g>\n<!-- 95 -->\n<g id=\"node96\" class=\"node\">\n<title>95</title>\n<polygon fill=\"#54aae9\" stroke=\"#000000\" points=\"4744,-53 4626,-53 4626,0 4744,0 4744,-53\"/>\n<text text-anchor=\"middle\" x=\"4685\" y=\"-37.8\" font-family=\"Helvetica,sans-Serif\" font-size=\"14.00\" fill=\"#000000\">entropy = 0.529</text>\n<text text-anchor=\"middle\" x=\"4685\" y=\"-22.8\" font-family=\"Helvetica,sans-Serif\" font-size=\"14.00\" fill=\"#000000\">samples = 50</text>\n<text text-anchor=\"middle\" x=\"4685\" y=\"-7.8\" font-family=\"Helvetica,sans-Serif\" font-size=\"14.00\" fill=\"#000000\">value = [6, 44]</text>\n</g>\n<!-- 93&#45;&gt;95 -->\n<g id=\"edge95\" class=\"edge\">\n<title>93&#45;&gt;95</title>\n<path fill=\"none\" stroke=\"#000000\" d=\"M4685,-88.9777C4685,-80.7364 4685,-71.887 4685,-63.5153\"/>\n<polygon fill=\"#000000\" stroke=\"#000000\" points=\"4688.5001,-63.2484 4685,-53.2485 4681.5001,-63.2485 4688.5001,-63.2484\"/>\n</g>\n<!-- 97 -->\n<g id=\"node98\" class=\"node\">\n<title>97</title>\n<polygon fill=\"#41a1e6\" stroke=\"#000000\" points=\"4886,-53 4762,-53 4762,0 4886,0 4886,-53\"/>\n<text text-anchor=\"middle\" x=\"4824\" y=\"-37.8\" font-family=\"Helvetica,sans-Serif\" font-size=\"14.00\" fill=\"#000000\">entropy = 0.23</text>\n<text text-anchor=\"middle\" x=\"4824\" y=\"-22.8\" font-family=\"Helvetica,sans-Serif\" font-size=\"14.00\" fill=\"#000000\">samples = 348</text>\n<text text-anchor=\"middle\" x=\"4824\" y=\"-7.8\" font-family=\"Helvetica,sans-Serif\" font-size=\"14.00\" fill=\"#000000\">value = [13, 335]</text>\n</g>\n<!-- 96&#45;&gt;97 -->\n<g id=\"edge97\" class=\"edge\">\n<title>96&#45;&gt;97</title>\n<path fill=\"none\" stroke=\"#000000\" d=\"M4824,-88.9777C4824,-80.7364 4824,-71.887 4824,-63.5153\"/>\n<polygon fill=\"#000000\" stroke=\"#000000\" points=\"4827.5001,-63.2484 4824,-53.2485 4820.5001,-63.2485 4827.5001,-63.2484\"/>\n</g>\n<!-- 98 -->\n<g id=\"node99\" class=\"node\">\n<title>98</title>\n<polygon fill=\"#83c2ef\" stroke=\"#000000\" points=\"5022,-53 4904,-53 4904,0 5022,0 5022,-53\"/>\n<text text-anchor=\"middle\" x=\"4963\" y=\"-37.8\" font-family=\"Helvetica,sans-Serif\" font-size=\"14.00\" fill=\"#000000\">entropy = 0.845</text>\n<text text-anchor=\"middle\" x=\"4963\" y=\"-22.8\" font-family=\"Helvetica,sans-Serif\" font-size=\"14.00\" fill=\"#000000\">samples = 11</text>\n<text text-anchor=\"middle\" x=\"4963\" y=\"-7.8\" font-family=\"Helvetica,sans-Serif\" font-size=\"14.00\" fill=\"#000000\">value = [3, 8]</text>\n</g>\n<!-- 96&#45;&gt;98 -->\n<g id=\"edge98\" class=\"edge\">\n<title>96&#45;&gt;98</title>\n<path fill=\"none\" stroke=\"#000000\" d=\"M4873.0062,-88.9777C4886.9874,-79.2713 4902.1838,-68.7213 4916.0398,-59.1018\"/>\n<polygon fill=\"#000000\" stroke=\"#000000\" points=\"4918.2526,-61.8264 4924.4711,-53.2485 4914.2606,-56.0763 4918.2526,-61.8264\"/>\n</g>\n<!-- 100 -->\n<g id=\"node101\" class=\"node\">\n<title>100</title>\n<polygon fill=\"#399de5\" stroke=\"#000000\" points=\"5021,-149.5 4905,-149.5 4905,-96.5 5021,-96.5 5021,-149.5\"/>\n<text text-anchor=\"middle\" x=\"4963\" y=\"-134.3\" font-family=\"Helvetica,sans-Serif\" font-size=\"14.00\" fill=\"#000000\">entropy = 0.0</text>\n<text text-anchor=\"middle\" x=\"4963\" y=\"-119.3\" font-family=\"Helvetica,sans-Serif\" font-size=\"14.00\" fill=\"#000000\">samples = 610</text>\n<text text-anchor=\"middle\" x=\"4963\" y=\"-104.3\" font-family=\"Helvetica,sans-Serif\" font-size=\"14.00\" fill=\"#000000\">value = [0, 610]</text>\n</g>\n<!-- 99&#45;&gt;100 -->\n<g id=\"edge100\" class=\"edge\">\n<title>99&#45;&gt;100</title>\n<path fill=\"none\" stroke=\"#000000\" d=\"M4963,-192.9465C4963,-182.2621 4963,-170.4254 4963,-159.5742\"/>\n<polygon fill=\"#000000\" stroke=\"#000000\" points=\"4966.5001,-159.5421 4963,-149.5422 4959.5001,-159.5422 4966.5001,-159.5421\"/>\n</g>\n<!-- 101 -->\n<g id=\"node102\" class=\"node\">\n<title>101</title>\n<polygon fill=\"#3ea0e6\" stroke=\"#000000\" points=\"5158,-157 5040,-157 5040,-89 5158,-89 5158,-157\"/>\n<text text-anchor=\"middle\" x=\"5099\" y=\"-141.8\" font-family=\"Helvetica,sans-Serif\" font-size=\"14.00\" fill=\"#000000\">X[11] &lt;= &#45;0.901</text>\n<text text-anchor=\"middle\" x=\"5099\" y=\"-126.8\" font-family=\"Helvetica,sans-Serif\" font-size=\"14.00\" fill=\"#000000\">entropy = 0.172</text>\n<text text-anchor=\"middle\" x=\"5099\" y=\"-111.8\" font-family=\"Helvetica,sans-Serif\" font-size=\"14.00\" fill=\"#000000\">samples = 156</text>\n<text text-anchor=\"middle\" x=\"5099\" y=\"-96.8\" font-family=\"Helvetica,sans-Serif\" font-size=\"14.00\" fill=\"#000000\">value = [4, 152]</text>\n</g>\n<!-- 99&#45;&gt;101 -->\n<g id=\"edge101\" class=\"edge\">\n<title>99&#45;&gt;101</title>\n<path fill=\"none\" stroke=\"#000000\" d=\"M5007.5315,-192.9465C5019.8597,-183.519 5033.3609,-173.1946 5046.115,-163.4415\"/>\n<polygon fill=\"#000000\" stroke=\"#000000\" points=\"5048.551,-165.9848 5054.3685,-157.13 5044.2988,-160.4243 5048.551,-165.9848\"/>\n</g>\n<!-- 102 -->\n<g id=\"node103\" class=\"node\">\n<title>102</title>\n<polygon fill=\"#55abe9\" stroke=\"#000000\" points=\"5158,-53 5040,-53 5040,0 5158,0 5158,-53\"/>\n<text text-anchor=\"middle\" x=\"5099\" y=\"-37.8\" font-family=\"Helvetica,sans-Serif\" font-size=\"14.00\" fill=\"#000000\">entropy = 0.544</text>\n<text text-anchor=\"middle\" x=\"5099\" y=\"-22.8\" font-family=\"Helvetica,sans-Serif\" font-size=\"14.00\" fill=\"#000000\">samples = 32</text>\n<text text-anchor=\"middle\" x=\"5099\" y=\"-7.8\" font-family=\"Helvetica,sans-Serif\" font-size=\"14.00\" fill=\"#000000\">value = [4, 28]</text>\n</g>\n<!-- 101&#45;&gt;102 -->\n<g id=\"edge102\" class=\"edge\">\n<title>101&#45;&gt;102</title>\n<path fill=\"none\" stroke=\"#000000\" d=\"M5099,-88.9777C5099,-80.7364 5099,-71.887 5099,-63.5153\"/>\n<polygon fill=\"#000000\" stroke=\"#000000\" points=\"5102.5001,-63.2484 5099,-53.2485 5095.5001,-63.2485 5102.5001,-63.2484\"/>\n</g>\n<!-- 103 -->\n<g id=\"node104\" class=\"node\">\n<title>103</title>\n<polygon fill=\"#399de5\" stroke=\"#000000\" points=\"5292,-53 5176,-53 5176,0 5292,0 5292,-53\"/>\n<text text-anchor=\"middle\" x=\"5234\" y=\"-37.8\" font-family=\"Helvetica,sans-Serif\" font-size=\"14.00\" fill=\"#000000\">entropy = 0.0</text>\n<text text-anchor=\"middle\" x=\"5234\" y=\"-22.8\" font-family=\"Helvetica,sans-Serif\" font-size=\"14.00\" fill=\"#000000\">samples = 124</text>\n<text text-anchor=\"middle\" x=\"5234\" y=\"-7.8\" font-family=\"Helvetica,sans-Serif\" font-size=\"14.00\" fill=\"#000000\">value = [0, 124]</text>\n</g>\n<!-- 101&#45;&gt;103 -->\n<g id=\"edge103\" class=\"edge\">\n<title>101&#45;&gt;103</title>\n<path fill=\"none\" stroke=\"#000000\" d=\"M5146.5959,-88.9777C5160.1748,-79.2713 5174.9339,-68.7213 5188.3912,-59.1018\"/>\n<polygon fill=\"#000000\" stroke=\"#000000\" points=\"5190.4799,-61.9111 5196.5798,-53.2485 5186.4092,-56.2164 5190.4799,-61.9111\"/>\n</g>\n<!-- 106 -->\n<g id=\"node107\" class=\"node\">\n<title>106</title>\n<polygon fill=\"#58ade9\" stroke=\"#000000\" points=\"6058,-469 5918,-469 5918,-401 6058,-401 6058,-469\"/>\n<text text-anchor=\"middle\" x=\"5988\" y=\"-453.8\" font-family=\"Helvetica,sans-Serif\" font-size=\"14.00\" fill=\"#000000\">X[13] &lt;= &#45;0.528</text>\n<text text-anchor=\"middle\" x=\"5988\" y=\"-438.8\" font-family=\"Helvetica,sans-Serif\" font-size=\"14.00\" fill=\"#000000\">entropy = 0.576</text>\n<text text-anchor=\"middle\" x=\"5988\" y=\"-423.8\" font-family=\"Helvetica,sans-Serif\" font-size=\"14.00\" fill=\"#000000\">samples = 7249</text>\n<text text-anchor=\"middle\" x=\"5988\" y=\"-408.8\" font-family=\"Helvetica,sans-Serif\" font-size=\"14.00\" fill=\"#000000\">value = [992, 6257]</text>\n</g>\n<!-- 105&#45;&gt;106 -->\n<g id=\"edge106\" class=\"edge\">\n<title>105&#45;&gt;106</title>\n<path fill=\"none\" stroke=\"#000000\" d=\"M5988,-504.9465C5988,-496.776 5988,-487.9318 5988,-479.3697\"/>\n<polygon fill=\"#000000\" stroke=\"#000000\" points=\"5991.5001,-479.13 5988,-469.13 5984.5001,-479.13 5991.5001,-479.13\"/>\n</g>\n<!-- 129 -->\n<g id=\"node130\" class=\"node\">\n<title>129</title>\n<polygon fill=\"#48a4e7\" stroke=\"#000000\" points=\"7074.5,-469 6917.5,-469 6917.5,-401 7074.5,-401 7074.5,-469\"/>\n<text text-anchor=\"middle\" x=\"6996\" y=\"-453.8\" font-family=\"Helvetica,sans-Serif\" font-size=\"14.00\" fill=\"#000000\">X[13] &lt;= &#45;0.51</text>\n<text text-anchor=\"middle\" x=\"6996\" y=\"-438.8\" font-family=\"Helvetica,sans-Serif\" font-size=\"14.00\" fill=\"#000000\">entropy = 0.364</text>\n<text text-anchor=\"middle\" x=\"6996\" y=\"-423.8\" font-family=\"Helvetica,sans-Serif\" font-size=\"14.00\" fill=\"#000000\">samples = 15003</text>\n<text text-anchor=\"middle\" x=\"6996\" y=\"-408.8\" font-family=\"Helvetica,sans-Serif\" font-size=\"14.00\" fill=\"#000000\">value = [1041, 13962]</text>\n</g>\n<!-- 105&#45;&gt;129 -->\n<g id=\"edge129\" class=\"edge\">\n<title>105&#45;&gt;129</title>\n<path fill=\"none\" stroke=\"#000000\" d=\"M6066.6762,-530.8826C6251.4863,-511.8149 6712.3462,-464.2659 6906.9949,-444.1831\"/>\n<polygon fill=\"#000000\" stroke=\"#000000\" points=\"6907.5965,-447.6397 6917.1845,-443.1318 6906.8781,-440.6766 6907.5965,-447.6397\"/>\n</g>\n<!-- 107 -->\n<g id=\"node108\" class=\"node\">\n<title>107</title>\n<polygon fill=\"#47a4e7\" stroke=\"#000000\" points=\"5979,-365 5839,-365 5839,-297 5979,-297 5979,-365\"/>\n<text text-anchor=\"middle\" x=\"5909\" y=\"-349.8\" font-family=\"Helvetica,sans-Serif\" font-size=\"14.00\" fill=\"#000000\">X[3] &lt;= &#45;0.97</text>\n<text text-anchor=\"middle\" x=\"5909\" y=\"-334.8\" font-family=\"Helvetica,sans-Serif\" font-size=\"14.00\" fill=\"#000000\">entropy = 0.353</text>\n<text text-anchor=\"middle\" x=\"5909\" y=\"-319.8\" font-family=\"Helvetica,sans-Serif\" font-size=\"14.00\" fill=\"#000000\">samples = 4264</text>\n<text text-anchor=\"middle\" x=\"5909\" y=\"-304.8\" font-family=\"Helvetica,sans-Serif\" font-size=\"14.00\" fill=\"#000000\">value = [284, 3980]</text>\n</g>\n<!-- 106&#45;&gt;107 -->\n<g id=\"edge107\" class=\"edge\">\n<title>106&#45;&gt;107</title>\n<path fill=\"none\" stroke=\"#000000\" d=\"M5962.1324,-400.9465C5955.3804,-392.0578 5948.0226,-382.3716 5940.9941,-373.1188\"/>\n<polygon fill=\"#000000\" stroke=\"#000000\" points=\"5943.7617,-370.976 5934.9257,-365.13 5938.1875,-375.2102 5943.7617,-370.976\"/>\n</g>\n<!-- 116 -->\n<g id=\"node117\" class=\"node\">\n<title>116</title>\n<polygon fill=\"#77bbed\" stroke=\"#000000\" points=\"6151,-365 6011,-365 6011,-297 6151,-297 6151,-365\"/>\n<text text-anchor=\"middle\" x=\"6081\" y=\"-349.8\" font-family=\"Helvetica,sans-Serif\" font-size=\"14.00\" fill=\"#000000\">X[10] &lt;= &#45;1.098</text>\n<text text-anchor=\"middle\" x=\"6081\" y=\"-334.8\" font-family=\"Helvetica,sans-Serif\" font-size=\"14.00\" fill=\"#000000\">entropy = 0.79</text>\n<text text-anchor=\"middle\" x=\"6081\" y=\"-319.8\" font-family=\"Helvetica,sans-Serif\" font-size=\"14.00\" fill=\"#000000\">samples = 2985</text>\n<text text-anchor=\"middle\" x=\"6081\" y=\"-304.8\" font-family=\"Helvetica,sans-Serif\" font-size=\"14.00\" fill=\"#000000\">value = [708, 2277]</text>\n</g>\n<!-- 106&#45;&gt;116 -->\n<g id=\"edge116\" class=\"edge\">\n<title>106&#45;&gt;116</title>\n<path fill=\"none\" stroke=\"#000000\" d=\"M6018.4517,-400.9465C6026.4806,-391.968 6035.237,-382.1758 6043.5867,-372.8385\"/>\n<polygon fill=\"#000000\" stroke=\"#000000\" points=\"6046.423,-374.9174 6050.4799,-365.13 6041.205,-370.2512 6046.423,-374.9174\"/>\n</g>\n<!-- 108 -->\n<g id=\"node109\" class=\"node\">\n<title>108</title>\n<polygon fill=\"#46a4e7\" stroke=\"#000000\" points=\"5808,-261 5668,-261 5668,-193 5808,-193 5808,-261\"/>\n<text text-anchor=\"middle\" x=\"5738\" y=\"-245.8\" font-family=\"Helvetica,sans-Serif\" font-size=\"14.00\" fill=\"#000000\">X[2] &lt;= &#45;0.039</text>\n<text text-anchor=\"middle\" x=\"5738\" y=\"-230.8\" font-family=\"Helvetica,sans-Serif\" font-size=\"14.00\" fill=\"#000000\">entropy = 0.34</text>\n<text text-anchor=\"middle\" x=\"5738\" y=\"-215.8\" font-family=\"Helvetica,sans-Serif\" font-size=\"14.00\" fill=\"#000000\">samples = 4249</text>\n<text text-anchor=\"middle\" x=\"5738\" y=\"-200.8\" font-family=\"Helvetica,sans-Serif\" font-size=\"14.00\" fill=\"#000000\">value = [269, 3980]</text>\n</g>\n<!-- 107&#45;&gt;108 -->\n<g id=\"edge108\" class=\"edge\">\n<title>107&#45;&gt;108</title>\n<path fill=\"none\" stroke=\"#000000\" d=\"M5853.0082,-296.9465C5836.9168,-287.1599 5819.2359,-276.4066 5802.6666,-266.3294\"/>\n<polygon fill=\"#000000\" stroke=\"#000000\" points=\"5804.4802,-263.336 5794.1176,-261.13 5800.8428,-269.3167 5804.4802,-263.336\"/>\n</g>\n<!-- 115 -->\n<g id=\"node116\" class=\"node\">\n<title>115</title>\n<polygon fill=\"#e58139\" stroke=\"#000000\" points=\"5962.5,-253.5 5855.5,-253.5 5855.5,-200.5 5962.5,-200.5 5962.5,-253.5\"/>\n<text text-anchor=\"middle\" x=\"5909\" y=\"-238.3\" font-family=\"Helvetica,sans-Serif\" font-size=\"14.00\" fill=\"#000000\">entropy = 0.0</text>\n<text text-anchor=\"middle\" x=\"5909\" y=\"-223.3\" font-family=\"Helvetica,sans-Serif\" font-size=\"14.00\" fill=\"#000000\">samples = 15</text>\n<text text-anchor=\"middle\" x=\"5909\" y=\"-208.3\" font-family=\"Helvetica,sans-Serif\" font-size=\"14.00\" fill=\"#000000\">value = [15, 0]</text>\n</g>\n<!-- 107&#45;&gt;115 -->\n<g id=\"edge115\" class=\"edge\">\n<title>107&#45;&gt;115</title>\n<path fill=\"none\" stroke=\"#000000\" d=\"M5909,-296.9465C5909,-286.2621 5909,-274.4254 5909,-263.5742\"/>\n<polygon fill=\"#000000\" stroke=\"#000000\" points=\"5912.5001,-263.5421 5909,-253.5422 5905.5001,-263.5422 5912.5001,-263.5421\"/>\n</g>\n<!-- 109 -->\n<g id=\"node110\" class=\"node\">\n<title>109</title>\n<polygon fill=\"#41a1e6\" stroke=\"#000000\" points=\"5592,-157 5460,-157 5460,-89 5592,-89 5592,-157\"/>\n<text text-anchor=\"middle\" x=\"5526\" y=\"-141.8\" font-family=\"Helvetica,sans-Serif\" font-size=\"14.00\" fill=\"#000000\">X[6] &lt;= &#45;0.43</text>\n<text text-anchor=\"middle\" x=\"5526\" y=\"-126.8\" font-family=\"Helvetica,sans-Serif\" font-size=\"14.00\" fill=\"#000000\">entropy = 0.238</text>\n<text text-anchor=\"middle\" x=\"5526\" y=\"-111.8\" font-family=\"Helvetica,sans-Serif\" font-size=\"14.00\" fill=\"#000000\">samples = 2375</text>\n<text text-anchor=\"middle\" x=\"5526\" y=\"-96.8\" font-family=\"Helvetica,sans-Serif\" font-size=\"14.00\" fill=\"#000000\">value = [93, 2282]</text>\n</g>\n<!-- 108&#45;&gt;109 -->\n<g id=\"edge109\" class=\"edge\">\n<title>108&#45;&gt;109</title>\n<path fill=\"none\" stroke=\"#000000\" d=\"M5668.5833,-192.9465C5647.1336,-182.424 5623.406,-170.7841 5601.5625,-160.0684\"/>\n<polygon fill=\"#000000\" stroke=\"#000000\" points=\"5602.848,-156.8006 5592.3286,-155.5385 5599.7649,-163.0851 5602.848,-156.8006\"/>\n</g>\n<!-- 112 -->\n<g id=\"node113\" class=\"node\">\n<title>112</title>\n<polygon fill=\"#4ea7e8\" stroke=\"#000000\" points=\"5808,-157 5668,-157 5668,-89 5808,-89 5808,-157\"/>\n<text text-anchor=\"middle\" x=\"5738\" y=\"-141.8\" font-family=\"Helvetica,sans-Serif\" font-size=\"14.00\" fill=\"#000000\">X[15] &lt;= 0.454</text>\n<text text-anchor=\"middle\" x=\"5738\" y=\"-126.8\" font-family=\"Helvetica,sans-Serif\" font-size=\"14.00\" fill=\"#000000\">entropy = 0.449</text>\n<text text-anchor=\"middle\" x=\"5738\" y=\"-111.8\" font-family=\"Helvetica,sans-Serif\" font-size=\"14.00\" fill=\"#000000\">samples = 1874</text>\n<text text-anchor=\"middle\" x=\"5738\" y=\"-96.8\" font-family=\"Helvetica,sans-Serif\" font-size=\"14.00\" fill=\"#000000\">value = [176, 1698]</text>\n</g>\n<!-- 108&#45;&gt;112 -->\n<g id=\"edge112\" class=\"edge\">\n<title>108&#45;&gt;112</title>\n<path fill=\"none\" stroke=\"#000000\" d=\"M5738,-192.9465C5738,-184.776 5738,-175.9318 5738,-167.3697\"/>\n<polygon fill=\"#000000\" stroke=\"#000000\" points=\"5741.5001,-167.13 5738,-157.13 5734.5001,-167.13 5741.5001,-167.13\"/>\n</g>\n<!-- 110 -->\n<g id=\"node111\" class=\"node\">\n<title>110</title>\n<polygon fill=\"#45a3e7\" stroke=\"#000000\" points=\"5442,-53 5310,-53 5310,0 5442,0 5442,-53\"/>\n<text text-anchor=\"middle\" x=\"5376\" y=\"-37.8\" font-family=\"Helvetica,sans-Serif\" font-size=\"14.00\" fill=\"#000000\">entropy = 0.311</text>\n<text text-anchor=\"middle\" x=\"5376\" y=\"-22.8\" font-family=\"Helvetica,sans-Serif\" font-size=\"14.00\" fill=\"#000000\">samples = 1165</text>\n<text text-anchor=\"middle\" x=\"5376\" y=\"-7.8\" font-family=\"Helvetica,sans-Serif\" font-size=\"14.00\" fill=\"#000000\">value = [65, 1100]</text>\n</g>\n<!-- 109&#45;&gt;110 -->\n<g id=\"edge110\" class=\"edge\">\n<title>109&#45;&gt;110</title>\n<path fill=\"none\" stroke=\"#000000\" d=\"M5473.1156,-88.9777C5457.8856,-79.1798 5441.3194,-68.5222 5426.2536,-58.8298\"/>\n<polygon fill=\"#000000\" stroke=\"#000000\" points=\"5427.8816,-55.7154 5417.5779,-53.2485 5424.0943,-61.6024 5427.8816,-55.7154\"/>\n</g>\n<!-- 111 -->\n<g id=\"node112\" class=\"node\">\n<title>111</title>\n<polygon fill=\"#3e9fe6\" stroke=\"#000000\" points=\"5592,-53 5460,-53 5460,0 5592,0 5592,-53\"/>\n<text text-anchor=\"middle\" x=\"5526\" y=\"-37.8\" font-family=\"Helvetica,sans-Serif\" font-size=\"14.00\" fill=\"#000000\">entropy = 0.159</text>\n<text text-anchor=\"middle\" x=\"5526\" y=\"-22.8\" font-family=\"Helvetica,sans-Serif\" font-size=\"14.00\" fill=\"#000000\">samples = 1210</text>\n<text text-anchor=\"middle\" x=\"5526\" y=\"-7.8\" font-family=\"Helvetica,sans-Serif\" font-size=\"14.00\" fill=\"#000000\">value = [28, 1182]</text>\n</g>\n<!-- 109&#45;&gt;111 -->\n<g id=\"edge111\" class=\"edge\">\n<title>109&#45;&gt;111</title>\n<path fill=\"none\" stroke=\"#000000\" d=\"M5526,-88.9777C5526,-80.7364 5526,-71.887 5526,-63.5153\"/>\n<polygon fill=\"#000000\" stroke=\"#000000\" points=\"5529.5001,-63.2484 5526,-53.2485 5522.5001,-63.2485 5529.5001,-63.2484\"/>\n</g>\n<!-- 113 -->\n<g id=\"node114\" class=\"node\">\n<title>113</title>\n<polygon fill=\"#4da7e8\" stroke=\"#000000\" points=\"5750,-53 5610,-53 5610,0 5750,0 5750,-53\"/>\n<text text-anchor=\"middle\" x=\"5680\" y=\"-37.8\" font-family=\"Helvetica,sans-Serif\" font-size=\"14.00\" fill=\"#000000\">entropy = 0.439</text>\n<text text-anchor=\"middle\" x=\"5680\" y=\"-22.8\" font-family=\"Helvetica,sans-Serif\" font-size=\"14.00\" fill=\"#000000\">samples = 1865</text>\n<text text-anchor=\"middle\" x=\"5680\" y=\"-7.8\" font-family=\"Helvetica,sans-Serif\" font-size=\"14.00\" fill=\"#000000\">value = [169, 1696]</text>\n</g>\n<!-- 112&#45;&gt;113 -->\n<g id=\"edge113\" class=\"edge\">\n<title>112&#45;&gt;113</title>\n<path fill=\"none\" stroke=\"#000000\" d=\"M5717.5514,-88.9777C5712.2678,-80.187 5706.5684,-70.7044 5701.2452,-61.8477\"/>\n<polygon fill=\"#000000\" stroke=\"#000000\" points=\"5704.2282,-60.0165 5696.0768,-53.2485 5698.2285,-63.6225 5704.2282,-60.0165\"/>\n</g>\n<!-- 114 -->\n<g id=\"node115\" class=\"node\">\n<title>114</title>\n<polygon fill=\"#eca572\" stroke=\"#000000\" points=\"5886,-53 5768,-53 5768,0 5886,0 5886,-53\"/>\n<text text-anchor=\"middle\" x=\"5827\" y=\"-37.8\" font-family=\"Helvetica,sans-Serif\" font-size=\"14.00\" fill=\"#000000\">entropy = 0.764</text>\n<text text-anchor=\"middle\" x=\"5827\" y=\"-22.8\" font-family=\"Helvetica,sans-Serif\" font-size=\"14.00\" fill=\"#000000\">samples = 9</text>\n<text text-anchor=\"middle\" x=\"5827\" y=\"-7.8\" font-family=\"Helvetica,sans-Serif\" font-size=\"14.00\" fill=\"#000000\">value = [7, 2]</text>\n</g>\n<!-- 112&#45;&gt;114 -->\n<g id=\"edge114\" class=\"edge\">\n<title>112&#45;&gt;114</title>\n<path fill=\"none\" stroke=\"#000000\" d=\"M5769.3781,-88.9777C5777.8234,-79.8207 5786.9611,-69.9129 5795.4175,-60.744\"/>\n<polygon fill=\"#000000\" stroke=\"#000000\" points=\"5798.1236,-62.9723 5802.3304,-53.2485 5792.9779,-58.2266 5798.1236,-62.9723\"/>\n</g>\n<!-- 117 -->\n<g id=\"node118\" class=\"node\">\n<title>117</title>\n<polygon fill=\"#ea9a60\" stroke=\"#000000\" points=\"6143,-261 6019,-261 6019,-193 6143,-193 6143,-261\"/>\n<text text-anchor=\"middle\" x=\"6081\" y=\"-245.8\" font-family=\"Helvetica,sans-Serif\" font-size=\"14.00\" fill=\"#000000\">X[3] &lt;= &#45;0.931</text>\n<text text-anchor=\"middle\" x=\"6081\" y=\"-230.8\" font-family=\"Helvetica,sans-Serif\" font-size=\"14.00\" fill=\"#000000\">entropy = 0.643</text>\n<text text-anchor=\"middle\" x=\"6081\" y=\"-215.8\" font-family=\"Helvetica,sans-Serif\" font-size=\"14.00\" fill=\"#000000\">samples = 220</text>\n<text text-anchor=\"middle\" x=\"6081\" y=\"-200.8\" font-family=\"Helvetica,sans-Serif\" font-size=\"14.00\" fill=\"#000000\">value = [184, 36]</text>\n</g>\n<!-- 116&#45;&gt;117 -->\n<g id=\"edge117\" class=\"edge\">\n<title>116&#45;&gt;117</title>\n<path fill=\"none\" stroke=\"#000000\" d=\"M6081,-296.9465C6081,-288.776 6081,-279.9318 6081,-271.3697\"/>\n<polygon fill=\"#000000\" stroke=\"#000000\" points=\"6084.5001,-271.13 6081,-261.13 6077.5001,-271.13 6084.5001,-271.13\"/>\n</g>\n<!-- 122 -->\n<g id=\"node123\" class=\"node\">\n<title>122</title>\n<polygon fill=\"#67b4eb\" stroke=\"#000000\" points=\"6406,-261 6266,-261 6266,-193 6406,-193 6406,-261\"/>\n<text text-anchor=\"middle\" x=\"6336\" y=\"-245.8\" font-family=\"Helvetica,sans-Serif\" font-size=\"14.00\" fill=\"#000000\">X[0] &lt;= &#45;0.543</text>\n<text text-anchor=\"middle\" x=\"6336\" y=\"-230.8\" font-family=\"Helvetica,sans-Serif\" font-size=\"14.00\" fill=\"#000000\">entropy = 0.7</text>\n<text text-anchor=\"middle\" x=\"6336\" y=\"-215.8\" font-family=\"Helvetica,sans-Serif\" font-size=\"14.00\" fill=\"#000000\">samples = 2765</text>\n<text text-anchor=\"middle\" x=\"6336\" y=\"-200.8\" font-family=\"Helvetica,sans-Serif\" font-size=\"14.00\" fill=\"#000000\">value = [524, 2241]</text>\n</g>\n<!-- 116&#45;&gt;122 -->\n<g id=\"edge122\" class=\"edge\">\n<title>116&#45;&gt;122</title>\n<path fill=\"none\" stroke=\"#000000\" d=\"M6151.0172,-302.444C6183.6317,-289.1424 6222.5931,-273.2522 6256.3294,-259.4931\"/>\n<polygon fill=\"#000000\" stroke=\"#000000\" points=\"6257.7588,-262.6901 6265.6966,-255.6728 6255.1153,-256.2084 6257.7588,-262.6901\"/>\n</g>\n<!-- 118 -->\n<g id=\"node119\" class=\"node\">\n<title>118</title>\n<polygon fill=\"#f6d5bd\" stroke=\"#000000\" points=\"6082,-157 5964,-157 5964,-89 6082,-89 6082,-157\"/>\n<text text-anchor=\"middle\" x=\"6023\" y=\"-141.8\" font-family=\"Helvetica,sans-Serif\" font-size=\"14.00\" fill=\"#000000\">X[11] &lt;= &#45;1.023</text>\n<text text-anchor=\"middle\" x=\"6023\" y=\"-126.8\" font-family=\"Helvetica,sans-Serif\" font-size=\"14.00\" fill=\"#000000\">entropy = 0.971</text>\n<text text-anchor=\"middle\" x=\"6023\" y=\"-111.8\" font-family=\"Helvetica,sans-Serif\" font-size=\"14.00\" fill=\"#000000\">samples = 90</text>\n<text text-anchor=\"middle\" x=\"6023\" y=\"-96.8\" font-family=\"Helvetica,sans-Serif\" font-size=\"14.00\" fill=\"#000000\">value = [54, 36]</text>\n</g>\n<!-- 117&#45;&gt;118 -->\n<g id=\"edge118\" class=\"edge\">\n<title>117&#45;&gt;118</title>\n<path fill=\"none\" stroke=\"#000000\" d=\"M6062.0086,-192.9465C6057.2017,-184.3271 6051.9765,-174.9579 6046.9591,-165.9611\"/>\n<polygon fill=\"#000000\" stroke=\"#000000\" points=\"6049.9615,-164.1589 6042.034,-157.13 6043.848,-167.5684 6049.9615,-164.1589\"/>\n</g>\n<!-- 121 -->\n<g id=\"node122\" class=\"node\">\n<title>121</title>\n<polygon fill=\"#e58139\" stroke=\"#000000\" points=\"6216,-149.5 6100,-149.5 6100,-96.5 6216,-96.5 6216,-149.5\"/>\n<text text-anchor=\"middle\" x=\"6158\" y=\"-134.3\" font-family=\"Helvetica,sans-Serif\" font-size=\"14.00\" fill=\"#000000\">entropy = 0.0</text>\n<text text-anchor=\"middle\" x=\"6158\" y=\"-119.3\" font-family=\"Helvetica,sans-Serif\" font-size=\"14.00\" fill=\"#000000\">samples = 130</text>\n<text text-anchor=\"middle\" x=\"6158\" y=\"-104.3\" font-family=\"Helvetica,sans-Serif\" font-size=\"14.00\" fill=\"#000000\">value = [130, 0]</text>\n</g>\n<!-- 117&#45;&gt;121 -->\n<g id=\"edge121\" class=\"edge\">\n<title>117&#45;&gt;121</title>\n<path fill=\"none\" stroke=\"#000000\" d=\"M6106.2127,-192.9465C6114.5311,-181.7113 6123.7927,-169.2021 6132.1574,-157.9043\"/>\n<polygon fill=\"#000000\" stroke=\"#000000\" points=\"6135.2111,-159.6618 6138.3486,-149.5422 6129.5852,-155.4965 6135.2111,-159.6618\"/>\n</g>\n<!-- 119 -->\n<g id=\"node120\" class=\"node\">\n<title>119</title>\n<polygon fill=\"#eb9c63\" stroke=\"#000000\" points=\"6022,-53 5904,-53 5904,0 6022,0 6022,-53\"/>\n<text text-anchor=\"middle\" x=\"5963\" y=\"-37.8\" font-family=\"Helvetica,sans-Serif\" font-size=\"14.00\" fill=\"#000000\">entropy = 0.672</text>\n<text text-anchor=\"middle\" x=\"5963\" y=\"-22.8\" font-family=\"Helvetica,sans-Serif\" font-size=\"14.00\" fill=\"#000000\">samples = 34</text>\n<text text-anchor=\"middle\" x=\"5963\" y=\"-7.8\" font-family=\"Helvetica,sans-Serif\" font-size=\"14.00\" fill=\"#000000\">value = [28, 6]</text>\n</g>\n<!-- 118&#45;&gt;119 -->\n<g id=\"edge119\" class=\"edge\">\n<title>118&#45;&gt;119</title>\n<path fill=\"none\" stroke=\"#000000\" d=\"M6001.8462,-88.9777C5996.3805,-80.187 5990.4846,-70.7044 5984.9778,-61.8477\"/>\n<polygon fill=\"#000000\" stroke=\"#000000\" points=\"5987.8837,-59.8927 5979.6312,-53.2485 5981.9391,-63.5889 5987.8837,-59.8927\"/>\n</g>\n<!-- 120 -->\n<g id=\"node121\" class=\"node\">\n<title>120</title>\n<polygon fill=\"#e5f2fc\" stroke=\"#000000\" points=\"6158,-53 6040,-53 6040,0 6158,0 6158,-53\"/>\n<text text-anchor=\"middle\" x=\"6099\" y=\"-37.8\" font-family=\"Helvetica,sans-Serif\" font-size=\"14.00\" fill=\"#000000\">entropy = 0.996</text>\n<text text-anchor=\"middle\" x=\"6099\" y=\"-22.8\" font-family=\"Helvetica,sans-Serif\" font-size=\"14.00\" fill=\"#000000\">samples = 56</text>\n<text text-anchor=\"middle\" x=\"6099\" y=\"-7.8\" font-family=\"Helvetica,sans-Serif\" font-size=\"14.00\" fill=\"#000000\">value = [26, 30]</text>\n</g>\n<!-- 118&#45;&gt;120 -->\n<g id=\"edge120\" class=\"edge\">\n<title>118&#45;&gt;120</title>\n<path fill=\"none\" stroke=\"#000000\" d=\"M6049.7948,-88.9777C6056.8622,-80.0039 6064.4976,-70.3089 6071.5967,-61.295\"/>\n<polygon fill=\"#000000\" stroke=\"#000000\" points=\"6074.4963,-63.2701 6077.9338,-53.2485 6068.997,-58.9391 6074.4963,-63.2701\"/>\n</g>\n<!-- 123 -->\n<g id=\"node124\" class=\"node\">\n<title>123</title>\n<polygon fill=\"#98ccf1\" stroke=\"#000000\" points=\"6402,-157 6270,-157 6270,-89 6402,-89 6402,-157\"/>\n<text text-anchor=\"middle\" x=\"6336\" y=\"-141.8\" font-family=\"Helvetica,sans-Serif\" font-size=\"14.00\" fill=\"#000000\">X[13] &lt;= &#45;0.521</text>\n<text text-anchor=\"middle\" x=\"6336\" y=\"-126.8\" font-family=\"Helvetica,sans-Serif\" font-size=\"14.00\" fill=\"#000000\">entropy = 0.908</text>\n<text text-anchor=\"middle\" x=\"6336\" y=\"-111.8\" font-family=\"Helvetica,sans-Serif\" font-size=\"14.00\" fill=\"#000000\">samples = 968</text>\n<text text-anchor=\"middle\" x=\"6336\" y=\"-96.8\" font-family=\"Helvetica,sans-Serif\" font-size=\"14.00\" fill=\"#000000\">value = [313, 655]</text>\n</g>\n<!-- 122&#45;&gt;123 -->\n<g id=\"edge123\" class=\"edge\">\n<title>122&#45;&gt;123</title>\n<path fill=\"none\" stroke=\"#000000\" d=\"M6336,-192.9465C6336,-184.776 6336,-175.9318 6336,-167.3697\"/>\n<polygon fill=\"#000000\" stroke=\"#000000\" points=\"6339.5001,-167.13 6336,-157.13 6332.5001,-167.13 6339.5001,-167.13\"/>\n</g>\n<!-- 126 -->\n<g id=\"node127\" class=\"node\">\n<title>126</title>\n<polygon fill=\"#53aae8\" stroke=\"#000000\" points=\"6597,-157 6457,-157 6457,-89 6597,-89 6597,-157\"/>\n<text text-anchor=\"middle\" x=\"6527\" y=\"-141.8\" font-family=\"Helvetica,sans-Serif\" font-size=\"14.00\" fill=\"#000000\">X[3] &lt;= &#45;0.805</text>\n<text text-anchor=\"middle\" x=\"6527\" y=\"-126.8\" font-family=\"Helvetica,sans-Serif\" font-size=\"14.00\" fill=\"#000000\">entropy = 0.522</text>\n<text text-anchor=\"middle\" x=\"6527\" y=\"-111.8\" font-family=\"Helvetica,sans-Serif\" font-size=\"14.00\" fill=\"#000000\">samples = 1797</text>\n<text text-anchor=\"middle\" x=\"6527\" y=\"-96.8\" font-family=\"Helvetica,sans-Serif\" font-size=\"14.00\" fill=\"#000000\">value = [211, 1586]</text>\n</g>\n<!-- 122&#45;&gt;126 -->\n<g id=\"edge126\" class=\"edge\">\n<title>122&#45;&gt;126</title>\n<path fill=\"none\" stroke=\"#000000\" d=\"M6398.5405,-192.9465C6416.7614,-183.0252 6436.8067,-172.1105 6455.5334,-161.9138\"/>\n<polygon fill=\"#000000\" stroke=\"#000000\" points=\"6457.2102,-164.986 6464.3189,-157.13 6453.8627,-158.8383 6457.2102,-164.986\"/>\n</g>\n<!-- 124 -->\n<g id=\"node125\" class=\"node\">\n<title>124</title>\n<polygon fill=\"#5baee9\" stroke=\"#000000\" points=\"6308,-53 6176,-53 6176,0 6308,0 6308,-53\"/>\n<text text-anchor=\"middle\" x=\"6242\" y=\"-37.8\" font-family=\"Helvetica,sans-Serif\" font-size=\"14.00\" fill=\"#000000\">entropy = 0.602</text>\n<text text-anchor=\"middle\" x=\"6242\" y=\"-22.8\" font-family=\"Helvetica,sans-Serif\" font-size=\"14.00\" fill=\"#000000\">samples = 695</text>\n<text text-anchor=\"middle\" x=\"6242\" y=\"-7.8\" font-family=\"Helvetica,sans-Serif\" font-size=\"14.00\" fill=\"#000000\">value = [102, 593]</text>\n</g>\n<!-- 123&#45;&gt;124 -->\n<g id=\"edge124\" class=\"edge\">\n<title>123&#45;&gt;124</title>\n<path fill=\"none\" stroke=\"#000000\" d=\"M6302.8591,-88.9777C6293.8502,-79.7292 6284.0952,-69.7147 6275.0891,-60.4691\"/>\n<polygon fill=\"#000000\" stroke=\"#000000\" points=\"6277.5404,-57.9696 6268.0555,-53.2485 6272.5261,-62.8539 6277.5404,-57.9696\"/>\n</g>\n<!-- 125 -->\n<g id=\"node126\" class=\"node\">\n<title>125</title>\n<polygon fill=\"#eda673\" stroke=\"#000000\" points=\"6450,-53 6326,-53 6326,0 6450,0 6450,-53\"/>\n<text text-anchor=\"middle\" x=\"6388\" y=\"-37.8\" font-family=\"Helvetica,sans-Serif\" font-size=\"14.00\" fill=\"#000000\">entropy = 0.773</text>\n<text text-anchor=\"middle\" x=\"6388\" y=\"-22.8\" font-family=\"Helvetica,sans-Serif\" font-size=\"14.00\" fill=\"#000000\">samples = 273</text>\n<text text-anchor=\"middle\" x=\"6388\" y=\"-7.8\" font-family=\"Helvetica,sans-Serif\" font-size=\"14.00\" fill=\"#000000\">value = [211, 62]</text>\n</g>\n<!-- 123&#45;&gt;125 -->\n<g id=\"edge125\" class=\"edge\">\n<title>123&#45;&gt;125</title>\n<path fill=\"none\" stroke=\"#000000\" d=\"M6354.3333,-88.9777C6359.0209,-80.2786 6364.0736,-70.9018 6368.8033,-62.1247\"/>\n<polygon fill=\"#000000\" stroke=\"#000000\" points=\"6371.9237,-63.7121 6373.5863,-53.2485 6365.7614,-60.3914 6371.9237,-63.7121\"/>\n</g>\n<!-- 127 -->\n<g id=\"node128\" class=\"node\">\n<title>127</title>\n<polygon fill=\"#3ea0e6\" stroke=\"#000000\" points=\"6586,-53 6468,-53 6468,0 6586,0 6586,-53\"/>\n<text text-anchor=\"middle\" x=\"6527\" y=\"-37.8\" font-family=\"Helvetica,sans-Serif\" font-size=\"14.00\" fill=\"#000000\">entropy = 0.171</text>\n<text text-anchor=\"middle\" x=\"6527\" y=\"-22.8\" font-family=\"Helvetica,sans-Serif\" font-size=\"14.00\" fill=\"#000000\">samples = 355</text>\n<text text-anchor=\"middle\" x=\"6527\" y=\"-7.8\" font-family=\"Helvetica,sans-Serif\" font-size=\"14.00\" fill=\"#000000\">value = [9, 346]</text>\n</g>\n<!-- 126&#45;&gt;127 -->\n<g id=\"edge127\" class=\"edge\">\n<title>126&#45;&gt;127</title>\n<path fill=\"none\" stroke=\"#000000\" d=\"M6527,-88.9777C6527,-80.7364 6527,-71.887 6527,-63.5153\"/>\n<polygon fill=\"#000000\" stroke=\"#000000\" points=\"6530.5001,-63.2484 6527,-53.2485 6523.5001,-63.2485 6530.5001,-63.2484\"/>\n</g>\n<!-- 128 -->\n<g id=\"node129\" class=\"node\">\n<title>128</title>\n<polygon fill=\"#59ade9\" stroke=\"#000000\" points=\"6744,-53 6604,-53 6604,0 6744,0 6744,-53\"/>\n<text text-anchor=\"middle\" x=\"6674\" y=\"-37.8\" font-family=\"Helvetica,sans-Serif\" font-size=\"14.00\" fill=\"#000000\">entropy = 0.584</text>\n<text text-anchor=\"middle\" x=\"6674\" y=\"-22.8\" font-family=\"Helvetica,sans-Serif\" font-size=\"14.00\" fill=\"#000000\">samples = 1442</text>\n<text text-anchor=\"middle\" x=\"6674\" y=\"-7.8\" font-family=\"Helvetica,sans-Serif\" font-size=\"14.00\" fill=\"#000000\">value = [202, 1240]</text>\n</g>\n<!-- 126&#45;&gt;128 -->\n<g id=\"edge128\" class=\"edge\">\n<title>126&#45;&gt;128</title>\n<path fill=\"none\" stroke=\"#000000\" d=\"M6578.8267,-88.9777C6593.7521,-79.1798 6609.987,-68.5222 6624.7514,-58.8298\"/>\n<polygon fill=\"#000000\" stroke=\"#000000\" points=\"6626.8147,-61.6622 6633.2536,-53.2485 6622.9732,-55.8104 6626.8147,-61.6622\"/>\n</g>\n<!-- 130 -->\n<g id=\"node131\" class=\"node\">\n<title>130</title>\n<polygon fill=\"#46a3e7\" stroke=\"#000000\" points=\"7070.5,-365 6921.5,-365 6921.5,-297 7070.5,-297 7070.5,-365\"/>\n<text text-anchor=\"middle\" x=\"6996\" y=\"-349.8\" font-family=\"Helvetica,sans-Serif\" font-size=\"14.00\" fill=\"#000000\">X[13] &lt;= &#45;0.552</text>\n<text text-anchor=\"middle\" x=\"6996\" y=\"-334.8\" font-family=\"Helvetica,sans-Serif\" font-size=\"14.00\" fill=\"#000000\">entropy = 0.331</text>\n<text text-anchor=\"middle\" x=\"6996\" y=\"-319.8\" font-family=\"Helvetica,sans-Serif\" font-size=\"14.00\" fill=\"#000000\">samples = 13570</text>\n<text text-anchor=\"middle\" x=\"6996\" y=\"-304.8\" font-family=\"Helvetica,sans-Serif\" font-size=\"14.00\" fill=\"#000000\">value = [825, 12745]</text>\n</g>\n<!-- 129&#45;&gt;130 -->\n<g id=\"edge130\" class=\"edge\">\n<title>129&#45;&gt;130</title>\n<path fill=\"none\" stroke=\"#000000\" d=\"M6996,-400.9465C6996,-392.776 6996,-383.9318 6996,-375.3697\"/>\n<polygon fill=\"#000000\" stroke=\"#000000\" points=\"6999.5001,-375.13 6996,-365.13 6992.5001,-375.13 6999.5001,-375.13\"/>\n</g>\n<!-- 139 -->\n<g id=\"node140\" class=\"node\">\n<title>139</title>\n<polygon fill=\"#5caeea\" stroke=\"#000000\" points=\"7707,-365 7567,-365 7567,-297 7707,-297 7707,-365\"/>\n<text text-anchor=\"middle\" x=\"7637\" y=\"-349.8\" font-family=\"Helvetica,sans-Serif\" font-size=\"14.00\" fill=\"#000000\">X[10] &lt;= &#45;0.945</text>\n<text text-anchor=\"middle\" x=\"7637\" y=\"-334.8\" font-family=\"Helvetica,sans-Serif\" font-size=\"14.00\" fill=\"#000000\">entropy = 0.612</text>\n<text text-anchor=\"middle\" x=\"7637\" y=\"-319.8\" font-family=\"Helvetica,sans-Serif\" font-size=\"14.00\" fill=\"#000000\">samples = 1433</text>\n<text text-anchor=\"middle\" x=\"7637\" y=\"-304.8\" font-family=\"Helvetica,sans-Serif\" font-size=\"14.00\" fill=\"#000000\">value = [216, 1217]</text>\n</g>\n<!-- 129&#45;&gt;139 -->\n<g id=\"edge139\" class=\"edge\">\n<title>129&#45;&gt;139</title>\n<path fill=\"none\" stroke=\"#000000\" d=\"M7074.5992,-422.2476C7197.1869,-402.3581 7432.6559,-364.1541 7556.437,-344.0711\"/>\n<polygon fill=\"#000000\" stroke=\"#000000\" points=\"7557.2962,-347.4775 7566.6066,-342.4211 7556.1751,-340.5679 7557.2962,-347.4775\"/>\n</g>\n<!-- 131 -->\n<g id=\"node132\" class=\"node\">\n<title>131</title>\n<polygon fill=\"#e58139\" stroke=\"#000000\" points=\"6976.5,-253.5 6869.5,-253.5 6869.5,-200.5 6976.5,-200.5 6976.5,-253.5\"/>\n<text text-anchor=\"middle\" x=\"6923\" y=\"-238.3\" font-family=\"Helvetica,sans-Serif\" font-size=\"14.00\" fill=\"#000000\">entropy = 0.0</text>\n<text text-anchor=\"middle\" x=\"6923\" y=\"-223.3\" font-family=\"Helvetica,sans-Serif\" font-size=\"14.00\" fill=\"#000000\">samples = 20</text>\n<text text-anchor=\"middle\" x=\"6923\" y=\"-208.3\" font-family=\"Helvetica,sans-Serif\" font-size=\"14.00\" fill=\"#000000\">value = [20, 0]</text>\n</g>\n<!-- 130&#45;&gt;131 -->\n<g id=\"edge131\" class=\"edge\">\n<title>130&#45;&gt;131</title>\n<path fill=\"none\" stroke=\"#000000\" d=\"M6972.0971,-296.9465C6964.2108,-285.7113 6955.4303,-273.2021 6947.5002,-261.9043\"/>\n<polygon fill=\"#000000\" stroke=\"#000000\" points=\"6950.2405,-259.7163 6941.6306,-253.5422 6944.5111,-263.7379 6950.2405,-259.7163\"/>\n</g>\n<!-- 132 -->\n<g id=\"node133\" class=\"node\">\n<title>132</title>\n<polygon fill=\"#46a3e7\" stroke=\"#000000\" points=\"7143.5,-261 6994.5,-261 6994.5,-193 7143.5,-193 7143.5,-261\"/>\n<text text-anchor=\"middle\" x=\"7069\" y=\"-245.8\" font-family=\"Helvetica,sans-Serif\" font-size=\"14.00\" fill=\"#000000\">X[2] &lt;= 0.268</text>\n<text text-anchor=\"middle\" x=\"7069\" y=\"-230.8\" font-family=\"Helvetica,sans-Serif\" font-size=\"14.00\" fill=\"#000000\">entropy = 0.325</text>\n<text text-anchor=\"middle\" x=\"7069\" y=\"-215.8\" font-family=\"Helvetica,sans-Serif\" font-size=\"14.00\" fill=\"#000000\">samples = 13550</text>\n<text text-anchor=\"middle\" x=\"7069\" y=\"-200.8\" font-family=\"Helvetica,sans-Serif\" font-size=\"14.00\" fill=\"#000000\">value = [805, 12745]</text>\n</g>\n<!-- 130&#45;&gt;132 -->\n<g id=\"edge132\" class=\"edge\">\n<title>130&#45;&gt;132</title>\n<path fill=\"none\" stroke=\"#000000\" d=\"M7019.9029,-296.9465C7026.0791,-288.1475 7032.8038,-278.5672 7039.239,-269.3993\"/>\n<polygon fill=\"#000000\" stroke=\"#000000\" points=\"7042.1629,-271.3258 7045.0434,-261.13 7036.4334,-267.3041 7042.1629,-271.3258\"/>\n</g>\n<!-- 133 -->\n<g id=\"node134\" class=\"node\">\n<title>133</title>\n<polygon fill=\"#43a2e6\" stroke=\"#000000\" points=\"7060,-157 6920,-157 6920,-89 7060,-89 7060,-157\"/>\n<text text-anchor=\"middle\" x=\"6990\" y=\"-141.8\" font-family=\"Helvetica,sans-Serif\" font-size=\"14.00\" fill=\"#000000\">X[13] &lt;= &#45;0.52</text>\n<text text-anchor=\"middle\" x=\"6990\" y=\"-126.8\" font-family=\"Helvetica,sans-Serif\" font-size=\"14.00\" fill=\"#000000\">entropy = 0.282</text>\n<text text-anchor=\"middle\" x=\"6990\" y=\"-111.8\" font-family=\"Helvetica,sans-Serif\" font-size=\"14.00\" fill=\"#000000\">samples = 9676</text>\n<text text-anchor=\"middle\" x=\"6990\" y=\"-96.8\" font-family=\"Helvetica,sans-Serif\" font-size=\"14.00\" fill=\"#000000\">value = [474, 9202]</text>\n</g>\n<!-- 132&#45;&gt;133 -->\n<g id=\"edge133\" class=\"edge\">\n<title>132&#45;&gt;133</title>\n<path fill=\"none\" stroke=\"#000000\" d=\"M7043.1324,-192.9465C7036.3804,-184.0578 7029.0226,-174.3716 7021.9941,-165.1188\"/>\n<polygon fill=\"#000000\" stroke=\"#000000\" points=\"7024.7617,-162.976 7015.9257,-157.13 7019.1875,-167.2102 7024.7617,-162.976\"/>\n</g>\n<!-- 136 -->\n<g id=\"node137\" class=\"node\">\n<title>136</title>\n<polygon fill=\"#4ba6e7\" stroke=\"#000000\" points=\"7218,-157 7078,-157 7078,-89 7218,-89 7218,-157\"/>\n<text text-anchor=\"middle\" x=\"7148\" y=\"-141.8\" font-family=\"Helvetica,sans-Serif\" font-size=\"14.00\" fill=\"#000000\">X[16] &lt;= 0.521</text>\n<text text-anchor=\"middle\" x=\"7148\" y=\"-126.8\" font-family=\"Helvetica,sans-Serif\" font-size=\"14.00\" fill=\"#000000\">entropy = 0.421</text>\n<text text-anchor=\"middle\" x=\"7148\" y=\"-111.8\" font-family=\"Helvetica,sans-Serif\" font-size=\"14.00\" fill=\"#000000\">samples = 3874</text>\n<text text-anchor=\"middle\" x=\"7148\" y=\"-96.8\" font-family=\"Helvetica,sans-Serif\" font-size=\"14.00\" fill=\"#000000\">value = [331, 3543]</text>\n</g>\n<!-- 132&#45;&gt;136 -->\n<g id=\"edge136\" class=\"edge\">\n<title>132&#45;&gt;136</title>\n<path fill=\"none\" stroke=\"#000000\" d=\"M7094.8676,-192.9465C7101.6196,-184.0578 7108.9774,-174.3716 7116.0059,-165.1188\"/>\n<polygon fill=\"#000000\" stroke=\"#000000\" points=\"7118.8125,-167.2102 7122.0743,-157.13 7113.2383,-162.976 7118.8125,-167.2102\"/>\n</g>\n<!-- 134 -->\n<g id=\"node135\" class=\"node\">\n<title>134</title>\n<polygon fill=\"#41a1e6\" stroke=\"#000000\" points=\"6902,-53 6762,-53 6762,0 6902,0 6902,-53\"/>\n<text text-anchor=\"middle\" x=\"6832\" y=\"-37.8\" font-family=\"Helvetica,sans-Serif\" font-size=\"14.00\" fill=\"#000000\">entropy = 0.24</text>\n<text text-anchor=\"middle\" x=\"6832\" y=\"-22.8\" font-family=\"Helvetica,sans-Serif\" font-size=\"14.00\" fill=\"#000000\">samples = 6339</text>\n<text text-anchor=\"middle\" x=\"6832\" y=\"-7.8\" font-family=\"Helvetica,sans-Serif\" font-size=\"14.00\" fill=\"#000000\">value = [250, 6089]</text>\n</g>\n<!-- 133&#45;&gt;134 -->\n<g id=\"edge134\" class=\"edge\">\n<title>133&#45;&gt;134</title>\n<path fill=\"none\" stroke=\"#000000\" d=\"M6934.2951,-88.9777C6918.028,-79.0424 6900.3136,-68.2232 6884.2674,-58.4228\"/>\n<polygon fill=\"#000000\" stroke=\"#000000\" points=\"6885.9027,-55.3204 6875.5442,-53.095 6882.254,-61.2943 6885.9027,-55.3204\"/>\n</g>\n<!-- 135 -->\n<g id=\"node136\" class=\"node\">\n<title>135</title>\n<polygon fill=\"#47a4e7\" stroke=\"#000000\" points=\"7060,-53 6920,-53 6920,0 7060,0 7060,-53\"/>\n<text text-anchor=\"middle\" x=\"6990\" y=\"-37.8\" font-family=\"Helvetica,sans-Serif\" font-size=\"14.00\" fill=\"#000000\">entropy = 0.355</text>\n<text text-anchor=\"middle\" x=\"6990\" y=\"-22.8\" font-family=\"Helvetica,sans-Serif\" font-size=\"14.00\" fill=\"#000000\">samples = 3337</text>\n<text text-anchor=\"middle\" x=\"6990\" y=\"-7.8\" font-family=\"Helvetica,sans-Serif\" font-size=\"14.00\" fill=\"#000000\">value = [224, 3113]</text>\n</g>\n<!-- 133&#45;&gt;135 -->\n<g id=\"edge135\" class=\"edge\">\n<title>133&#45;&gt;135</title>\n<path fill=\"none\" stroke=\"#000000\" d=\"M6990,-88.9777C6990,-80.7364 6990,-71.887 6990,-63.5153\"/>\n<polygon fill=\"#000000\" stroke=\"#000000\" points=\"6993.5001,-63.2484 6990,-53.2485 6986.5001,-63.2485 6993.5001,-63.2484\"/>\n</g>\n<!-- 137 -->\n<g id=\"node138\" class=\"node\">\n<title>137</title>\n<polygon fill=\"#48a4e7\" stroke=\"#000000\" points=\"7218,-53 7078,-53 7078,0 7218,0 7218,-53\"/>\n<text text-anchor=\"middle\" x=\"7148\" y=\"-37.8\" font-family=\"Helvetica,sans-Serif\" font-size=\"14.00\" fill=\"#000000\">entropy = 0.368</text>\n<text text-anchor=\"middle\" x=\"7148\" y=\"-22.8\" font-family=\"Helvetica,sans-Serif\" font-size=\"14.00\" fill=\"#000000\">samples = 3221</text>\n<text text-anchor=\"middle\" x=\"7148\" y=\"-7.8\" font-family=\"Helvetica,sans-Serif\" font-size=\"14.00\" fill=\"#000000\">value = [227, 2994]</text>\n</g>\n<!-- 136&#45;&gt;137 -->\n<g id=\"edge137\" class=\"edge\">\n<title>136&#45;&gt;137</title>\n<path fill=\"none\" stroke=\"#000000\" d=\"M7148,-88.9777C7148,-80.7364 7148,-71.887 7148,-63.5153\"/>\n<polygon fill=\"#000000\" stroke=\"#000000\" points=\"7151.5001,-63.2484 7148,-53.2485 7144.5001,-63.2485 7151.5001,-63.2484\"/>\n</g>\n<!-- 138 -->\n<g id=\"node139\" class=\"node\">\n<title>138</title>\n<polygon fill=\"#5fb0ea\" stroke=\"#000000\" points=\"7368,-53 7236,-53 7236,0 7368,0 7368,-53\"/>\n<text text-anchor=\"middle\" x=\"7302\" y=\"-37.8\" font-family=\"Helvetica,sans-Serif\" font-size=\"14.00\" fill=\"#000000\">entropy = 0.633</text>\n<text text-anchor=\"middle\" x=\"7302\" y=\"-22.8\" font-family=\"Helvetica,sans-Serif\" font-size=\"14.00\" fill=\"#000000\">samples = 653</text>\n<text text-anchor=\"middle\" x=\"7302\" y=\"-7.8\" font-family=\"Helvetica,sans-Serif\" font-size=\"14.00\" fill=\"#000000\">value = [104, 549]</text>\n</g>\n<!-- 136&#45;&gt;138 -->\n<g id=\"edge138\" class=\"edge\">\n<title>136&#45;&gt;138</title>\n<path fill=\"none\" stroke=\"#000000\" d=\"M7202.2946,-88.9777C7217.9308,-79.1798 7234.9387,-68.5222 7250.4063,-58.8298\"/>\n<polygon fill=\"#000000\" stroke=\"#000000\" points=\"7252.698,-61.5242 7259.3133,-53.2485 7248.981,-55.5926 7252.698,-61.5242\"/>\n</g>\n<!-- 140 -->\n<g id=\"node141\" class=\"node\">\n<title>140</title>\n<polygon fill=\"#fae8db\" stroke=\"#000000\" points=\"7696,-261 7578,-261 7578,-193 7696,-193 7696,-261\"/>\n<text text-anchor=\"middle\" x=\"7637\" y=\"-245.8\" font-family=\"Helvetica,sans-Serif\" font-size=\"14.00\" fill=\"#000000\">X[3] &lt;= &#45;0.682</text>\n<text text-anchor=\"middle\" x=\"7637\" y=\"-230.8\" font-family=\"Helvetica,sans-Serif\" font-size=\"14.00\" fill=\"#000000\">entropy = 0.993</text>\n<text text-anchor=\"middle\" x=\"7637\" y=\"-215.8\" font-family=\"Helvetica,sans-Serif\" font-size=\"14.00\" fill=\"#000000\">samples = 149</text>\n<text text-anchor=\"middle\" x=\"7637\" y=\"-200.8\" font-family=\"Helvetica,sans-Serif\" font-size=\"14.00\" fill=\"#000000\">value = [82, 67]</text>\n</g>\n<!-- 139&#45;&gt;140 -->\n<g id=\"edge140\" class=\"edge\">\n<title>139&#45;&gt;140</title>\n<path fill=\"none\" stroke=\"#000000\" d=\"M7637,-296.9465C7637,-288.776 7637,-279.9318 7637,-271.3697\"/>\n<polygon fill=\"#000000\" stroke=\"#000000\" points=\"7640.5001,-271.13 7637,-261.13 7633.5001,-271.13 7640.5001,-271.13\"/>\n</g>\n<!-- 147 -->\n<g id=\"node148\" class=\"node\">\n<title>147</title>\n<polygon fill=\"#50a8e8\" stroke=\"#000000\" points=\"8114,-261 7974,-261 7974,-193 8114,-193 8114,-261\"/>\n<text text-anchor=\"middle\" x=\"8044\" y=\"-245.8\" font-family=\"Helvetica,sans-Serif\" font-size=\"14.00\" fill=\"#000000\">X[0] &lt;= &#45;0.515</text>\n<text text-anchor=\"middle\" x=\"8044\" y=\"-230.8\" font-family=\"Helvetica,sans-Serif\" font-size=\"14.00\" fill=\"#000000\">entropy = 0.483</text>\n<text text-anchor=\"middle\" x=\"8044\" y=\"-215.8\" font-family=\"Helvetica,sans-Serif\" font-size=\"14.00\" fill=\"#000000\">samples = 1284</text>\n<text text-anchor=\"middle\" x=\"8044\" y=\"-200.8\" font-family=\"Helvetica,sans-Serif\" font-size=\"14.00\" fill=\"#000000\">value = [134, 1150]</text>\n</g>\n<!-- 139&#45;&gt;147 -->\n<g id=\"edge147\" class=\"edge\">\n<title>139&#45;&gt;147</title>\n<path fill=\"none\" stroke=\"#000000\" d=\"M7707.4293,-313.0033C7778.8483,-294.7537 7889.207,-266.554 7963.9119,-247.4648\"/>\n<polygon fill=\"#000000\" stroke=\"#000000\" points=\"7964.9297,-250.8172 7973.7519,-244.9504 7963.1966,-244.0351 7964.9297,-250.8172\"/>\n</g>\n<!-- 141 -->\n<g id=\"node142\" class=\"node\">\n<title>141</title>\n<polygon fill=\"#acd6f4\" stroke=\"#000000\" points=\"7628,-157 7510,-157 7510,-89 7628,-89 7628,-157\"/>\n<text text-anchor=\"middle\" x=\"7569\" y=\"-141.8\" font-family=\"Helvetica,sans-Serif\" font-size=\"14.00\" fill=\"#000000\">X[13] &lt;= &#45;0.181</text>\n<text text-anchor=\"middle\" x=\"7569\" y=\"-126.8\" font-family=\"Helvetica,sans-Serif\" font-size=\"14.00\" fill=\"#000000\">entropy = 0.949</text>\n<text text-anchor=\"middle\" x=\"7569\" y=\"-111.8\" font-family=\"Helvetica,sans-Serif\" font-size=\"14.00\" fill=\"#000000\">samples = 68</text>\n<text text-anchor=\"middle\" x=\"7569\" y=\"-96.8\" font-family=\"Helvetica,sans-Serif\" font-size=\"14.00\" fill=\"#000000\">value = [25, 43]</text>\n</g>\n<!-- 140&#45;&gt;141 -->\n<g id=\"edge141\" class=\"edge\">\n<title>140&#45;&gt;141</title>\n<path fill=\"none\" stroke=\"#000000\" d=\"M7614.7343,-192.9465C7609.0398,-184.2373 7602.8448,-174.7626 7596.9062,-165.6801\"/>\n<polygon fill=\"#000000\" stroke=\"#000000\" points=\"7599.7177,-163.5843 7591.3158,-157.13 7593.8589,-167.4151 7599.7177,-163.5843\"/>\n</g>\n<!-- 144 -->\n<g id=\"node145\" class=\"node\">\n<title>144</title>\n<polygon fill=\"#f0b68c\" stroke=\"#000000\" points=\"7764,-157 7646,-157 7646,-89 7764,-89 7764,-157\"/>\n<text text-anchor=\"middle\" x=\"7705\" y=\"-141.8\" font-family=\"Helvetica,sans-Serif\" font-size=\"14.00\" fill=\"#000000\">X[10] &lt;= &#45;0.979</text>\n<text text-anchor=\"middle\" x=\"7705\" y=\"-126.8\" font-family=\"Helvetica,sans-Serif\" font-size=\"14.00\" fill=\"#000000\">entropy = 0.877</text>\n<text text-anchor=\"middle\" x=\"7705\" y=\"-111.8\" font-family=\"Helvetica,sans-Serif\" font-size=\"14.00\" fill=\"#000000\">samples = 81</text>\n<text text-anchor=\"middle\" x=\"7705\" y=\"-96.8\" font-family=\"Helvetica,sans-Serif\" font-size=\"14.00\" fill=\"#000000\">value = [57, 24]</text>\n</g>\n<!-- 140&#45;&gt;144 -->\n<g id=\"edge144\" class=\"edge\">\n<title>140&#45;&gt;144</title>\n<path fill=\"none\" stroke=\"#000000\" d=\"M7659.2657,-192.9465C7664.9602,-184.2373 7671.1552,-174.7626 7677.0938,-165.6801\"/>\n<polygon fill=\"#000000\" stroke=\"#000000\" points=\"7680.1411,-167.4151 7682.6842,-157.13 7674.2823,-163.5843 7680.1411,-167.4151\"/>\n</g>\n<!-- 142 -->\n<g id=\"node143\" class=\"node\">\n<title>142</title>\n<polygon fill=\"#cbe5f8\" stroke=\"#000000\" points=\"7504,-53 7386,-53 7386,0 7504,0 7504,-53\"/>\n<text text-anchor=\"middle\" x=\"7445\" y=\"-37.8\" font-family=\"Helvetica,sans-Serif\" font-size=\"14.00\" fill=\"#000000\">entropy = 0.983</text>\n<text text-anchor=\"middle\" x=\"7445\" y=\"-22.8\" font-family=\"Helvetica,sans-Serif\" font-size=\"14.00\" fill=\"#000000\">samples = 59</text>\n<text text-anchor=\"middle\" x=\"7445\" y=\"-7.8\" font-family=\"Helvetica,sans-Serif\" font-size=\"14.00\" fill=\"#000000\">value = [25, 34]</text>\n</g>\n<!-- 141&#45;&gt;142 -->\n<g id=\"edge142\" class=\"edge\">\n<title>141&#45;&gt;142</title>\n<path fill=\"none\" stroke=\"#000000\" d=\"M7525.2822,-88.9777C7513.0451,-79.4545 7499.7645,-69.1191 7487.5934,-59.6473\"/>\n<polygon fill=\"#000000\" stroke=\"#000000\" points=\"7489.4125,-56.628 7479.3711,-53.2485 7485.1134,-62.1523 7489.4125,-56.628\"/>\n</g>\n<!-- 143 -->\n<g id=\"node144\" class=\"node\">\n<title>143</title>\n<polygon fill=\"#399de5\" stroke=\"#000000\" points=\"7623.5,-53 7522.5,-53 7522.5,0 7623.5,0 7623.5,-53\"/>\n<text text-anchor=\"middle\" x=\"7573\" y=\"-37.8\" font-family=\"Helvetica,sans-Serif\" font-size=\"14.00\" fill=\"#000000\">entropy = 0.0</text>\n<text text-anchor=\"middle\" x=\"7573\" y=\"-22.8\" font-family=\"Helvetica,sans-Serif\" font-size=\"14.00\" fill=\"#000000\">samples = 9</text>\n<text text-anchor=\"middle\" x=\"7573\" y=\"-7.8\" font-family=\"Helvetica,sans-Serif\" font-size=\"14.00\" fill=\"#000000\">value = [0, 9]</text>\n</g>\n<!-- 141&#45;&gt;143 -->\n<g id=\"edge143\" class=\"edge\">\n<title>141&#45;&gt;143</title>\n<path fill=\"none\" stroke=\"#000000\" d=\"M7570.4103,-88.9777C7570.7519,-80.7364 7571.1187,-71.887 7571.4657,-63.5153\"/>\n<polygon fill=\"#000000\" stroke=\"#000000\" points=\"7574.974,-63.3849 7571.8913,-53.2485 7567.98,-63.0949 7574.974,-63.3849\"/>\n</g>\n<!-- 145 -->\n<g id=\"node146\" class=\"node\">\n<title>145</title>\n<polygon fill=\"#e6853f\" stroke=\"#000000\" points=\"7760,-53 7642,-53 7642,0 7760,0 7760,-53\"/>\n<text text-anchor=\"middle\" x=\"7701\" y=\"-37.8\" font-family=\"Helvetica,sans-Serif\" font-size=\"14.00\" fill=\"#000000\">entropy = 0.201</text>\n<text text-anchor=\"middle\" x=\"7701\" y=\"-22.8\" font-family=\"Helvetica,sans-Serif\" font-size=\"14.00\" fill=\"#000000\">samples = 32</text>\n<text text-anchor=\"middle\" x=\"7701\" y=\"-7.8\" font-family=\"Helvetica,sans-Serif\" font-size=\"14.00\" fill=\"#000000\">value = [31, 1]</text>\n</g>\n<!-- 144&#45;&gt;145 -->\n<g id=\"edge145\" class=\"edge\">\n<title>144&#45;&gt;145</title>\n<path fill=\"none\" stroke=\"#000000\" d=\"M7703.5897,-88.9777C7703.2481,-80.7364 7702.8813,-71.887 7702.5343,-63.5153\"/>\n<polygon fill=\"#000000\" stroke=\"#000000\" points=\"7706.02,-63.0949 7702.1087,-53.2485 7699.026,-63.3849 7706.02,-63.0949\"/>\n</g>\n<!-- 146 -->\n<g id=\"node147\" class=\"node\">\n<title>146</title>\n<polygon fill=\"#fcf0e8\" stroke=\"#000000\" points=\"7896,-53 7778,-53 7778,0 7896,0 7896,-53\"/>\n<text text-anchor=\"middle\" x=\"7837\" y=\"-37.8\" font-family=\"Helvetica,sans-Serif\" font-size=\"14.00\" fill=\"#000000\">entropy = 0.997</text>\n<text text-anchor=\"middle\" x=\"7837\" y=\"-22.8\" font-family=\"Helvetica,sans-Serif\" font-size=\"14.00\" fill=\"#000000\">samples = 49</text>\n<text text-anchor=\"middle\" x=\"7837\" y=\"-7.8\" font-family=\"Helvetica,sans-Serif\" font-size=\"14.00\" fill=\"#000000\">value = [26, 23]</text>\n</g>\n<!-- 144&#45;&gt;146 -->\n<g id=\"edge146\" class=\"edge\">\n<title>144&#45;&gt;146</title>\n<path fill=\"none\" stroke=\"#000000\" d=\"M7751.5383,-88.9777C7764.6901,-79.3629 7778.9743,-68.9203 7792.032,-59.3743\"/>\n<polygon fill=\"#000000\" stroke=\"#000000\" points=\"7794.4042,-61.9757 7800.4114,-53.2485 7790.273,-56.3247 7794.4042,-61.9757\"/>\n</g>\n<!-- 148 -->\n<g id=\"node149\" class=\"node\">\n<title>148</title>\n<polygon fill=\"#6db7ec\" stroke=\"#000000\" points=\"8106,-157 7982,-157 7982,-89 8106,-89 8106,-157\"/>\n<text text-anchor=\"middle\" x=\"8044\" y=\"-141.8\" font-family=\"Helvetica,sans-Serif\" font-size=\"14.00\" fill=\"#000000\">X[13] &lt;= &#45;0.491</text>\n<text text-anchor=\"middle\" x=\"8044\" y=\"-126.8\" font-family=\"Helvetica,sans-Serif\" font-size=\"14.00\" fill=\"#000000\">entropy = 0.735</text>\n<text text-anchor=\"middle\" x=\"8044\" y=\"-111.8\" font-family=\"Helvetica,sans-Serif\" font-size=\"14.00\" fill=\"#000000\">samples = 324</text>\n<text text-anchor=\"middle\" x=\"8044\" y=\"-96.8\" font-family=\"Helvetica,sans-Serif\" font-size=\"14.00\" fill=\"#000000\">value = [67, 257]</text>\n</g>\n<!-- 147&#45;&gt;148 -->\n<g id=\"edge148\" class=\"edge\">\n<title>147&#45;&gt;148</title>\n<path fill=\"none\" stroke=\"#000000\" d=\"M8044,-192.9465C8044,-184.776 8044,-175.9318 8044,-167.3697\"/>\n<polygon fill=\"#000000\" stroke=\"#000000\" points=\"8047.5001,-167.13 8044,-157.13 8040.5001,-167.13 8047.5001,-167.13\"/>\n</g>\n<!-- 151 -->\n<g id=\"node152\" class=\"node\">\n<title>151</title>\n<polygon fill=\"#48a4e7\" stroke=\"#000000\" points=\"8316,-157 8192,-157 8192,-89 8316,-89 8316,-157\"/>\n<text text-anchor=\"middle\" x=\"8254\" y=\"-141.8\" font-family=\"Helvetica,sans-Serif\" font-size=\"14.00\" fill=\"#000000\">X[0] &lt;= &#45;0.155</text>\n<text text-anchor=\"middle\" x=\"8254\" y=\"-126.8\" font-family=\"Helvetica,sans-Serif\" font-size=\"14.00\" fill=\"#000000\">entropy = 0.365</text>\n<text text-anchor=\"middle\" x=\"8254\" y=\"-111.8\" font-family=\"Helvetica,sans-Serif\" font-size=\"14.00\" fill=\"#000000\">samples = 960</text>\n<text text-anchor=\"middle\" x=\"8254\" y=\"-96.8\" font-family=\"Helvetica,sans-Serif\" font-size=\"14.00\" fill=\"#000000\">value = [67, 893]</text>\n</g>\n<!-- 147&#45;&gt;151 -->\n<g id=\"edge151\" class=\"edge\">\n<title>147&#45;&gt;151</title>\n<path fill=\"none\" stroke=\"#000000\" d=\"M8112.7619,-192.9465C8135.1553,-181.8564 8160.0553,-169.525 8182.6351,-158.3426\"/>\n<polygon fill=\"#000000\" stroke=\"#000000\" points=\"8184.4153,-161.3668 8191.8233,-153.7923 8181.3087,-155.0939 8184.4153,-161.3668\"/>\n</g>\n<!-- 149 -->\n<g id=\"node150\" class=\"node\">\n<title>149</title>\n<polygon fill=\"#66b3eb\" stroke=\"#000000\" points=\"8038,-53 7914,-53 7914,0 8038,0 8038,-53\"/>\n<text text-anchor=\"middle\" x=\"7976\" y=\"-37.8\" font-family=\"Helvetica,sans-Serif\" font-size=\"14.00\" fill=\"#000000\">entropy = 0.694</text>\n<text text-anchor=\"middle\" x=\"7976\" y=\"-22.8\" font-family=\"Helvetica,sans-Serif\" font-size=\"14.00\" fill=\"#000000\">samples = 306</text>\n<text text-anchor=\"middle\" x=\"7976\" y=\"-7.8\" font-family=\"Helvetica,sans-Serif\" font-size=\"14.00\" fill=\"#000000\">value = [57, 249]</text>\n</g>\n<!-- 148&#45;&gt;149 -->\n<g id=\"edge149\" class=\"edge\">\n<title>148&#45;&gt;149</title>\n<path fill=\"none\" stroke=\"#000000\" d=\"M8020.0257,-88.9777C8013.7667,-80.0954 8007.0099,-70.5067 8000.7133,-61.5711\"/>\n<polygon fill=\"#000000\" stroke=\"#000000\" points=\"8003.4699,-59.4068 7994.8487,-53.2485 7997.7479,-63.4389 8003.4699,-59.4068\"/>\n</g>\n<!-- 150 -->\n<g id=\"node151\" class=\"node\">\n<title>150</title>\n<polygon fill=\"#fae6d7\" stroke=\"#000000\" points=\"8174,-53 8056,-53 8056,0 8174,0 8174,-53\"/>\n<text text-anchor=\"middle\" x=\"8115\" y=\"-37.8\" font-family=\"Helvetica,sans-Serif\" font-size=\"14.00\" fill=\"#000000\">entropy = 0.991</text>\n<text text-anchor=\"middle\" x=\"8115\" y=\"-22.8\" font-family=\"Helvetica,sans-Serif\" font-size=\"14.00\" fill=\"#000000\">samples = 18</text>\n<text text-anchor=\"middle\" x=\"8115\" y=\"-7.8\" font-family=\"Helvetica,sans-Serif\" font-size=\"14.00\" fill=\"#000000\">value = [10, 8]</text>\n</g>\n<!-- 148&#45;&gt;150 -->\n<g id=\"edge150\" class=\"edge\">\n<title>148&#45;&gt;150</title>\n<path fill=\"none\" stroke=\"#000000\" d=\"M8069.0319,-88.9777C8075.5671,-80.0954 8082.622,-70.5067 8089.1964,-61.5711\"/>\n<polygon fill=\"#000000\" stroke=\"#000000\" points=\"8092.2126,-63.3775 8095.3198,-53.2485 8086.5743,-59.229 8092.2126,-63.3775\"/>\n</g>\n<!-- 152 -->\n<g id=\"node153\" class=\"node\">\n<title>152</title>\n<polygon fill=\"#4ba6e7\" stroke=\"#000000\" points=\"8316,-53 8192,-53 8192,0 8316,0 8316,-53\"/>\n<text text-anchor=\"middle\" x=\"8254\" y=\"-37.8\" font-family=\"Helvetica,sans-Serif\" font-size=\"14.00\" fill=\"#000000\">entropy = 0.412</text>\n<text text-anchor=\"middle\" x=\"8254\" y=\"-22.8\" font-family=\"Helvetica,sans-Serif\" font-size=\"14.00\" fill=\"#000000\">samples = 809</text>\n<text text-anchor=\"middle\" x=\"8254\" y=\"-7.8\" font-family=\"Helvetica,sans-Serif\" font-size=\"14.00\" fill=\"#000000\">value = [67, 742]</text>\n</g>\n<!-- 151&#45;&gt;152 -->\n<g id=\"edge152\" class=\"edge\">\n<title>151&#45;&gt;152</title>\n<path fill=\"none\" stroke=\"#000000\" d=\"M8254,-88.9777C8254,-80.7364 8254,-71.887 8254,-63.5153\"/>\n<polygon fill=\"#000000\" stroke=\"#000000\" points=\"8257.5001,-63.2484 8254,-53.2485 8250.5001,-63.2485 8257.5001,-63.2484\"/>\n</g>\n<!-- 153 -->\n<g id=\"node154\" class=\"node\">\n<title>153</title>\n<polygon fill=\"#399de5\" stroke=\"#000000\" points=\"8450,-53 8334,-53 8334,0 8450,0 8450,-53\"/>\n<text text-anchor=\"middle\" x=\"8392\" y=\"-37.8\" font-family=\"Helvetica,sans-Serif\" font-size=\"14.00\" fill=\"#000000\">entropy = 0.0</text>\n<text text-anchor=\"middle\" x=\"8392\" y=\"-22.8\" font-family=\"Helvetica,sans-Serif\" font-size=\"14.00\" fill=\"#000000\">samples = 151</text>\n<text text-anchor=\"middle\" x=\"8392\" y=\"-7.8\" font-family=\"Helvetica,sans-Serif\" font-size=\"14.00\" fill=\"#000000\">value = [0, 151]</text>\n</g>\n<!-- 151&#45;&gt;153 -->\n<g id=\"edge153\" class=\"edge\">\n<title>151&#45;&gt;153</title>\n<path fill=\"none\" stroke=\"#000000\" d=\"M8302.6536,-88.9777C8316.5343,-79.2713 8331.6214,-68.7213 8345.3777,-59.1018\"/>\n<polygon fill=\"#000000\" stroke=\"#000000\" points=\"8347.5589,-61.8475 8353.7483,-53.2485 8343.5474,-56.1109 8347.5589,-61.8475\"/>\n</g>\n<!-- 155 -->\n<g id=\"node156\" class=\"node\">\n<title>155</title>\n<polygon fill=\"#e5833c\" stroke=\"#000000\" points=\"9585,-677 9453,-677 9453,-609 9585,-609 9585,-677\"/>\n<text text-anchor=\"middle\" x=\"9519\" y=\"-661.8\" font-family=\"Helvetica,sans-Serif\" font-size=\"14.00\" fill=\"#000000\">X[10] &lt;= &#45;0.944</text>\n<text text-anchor=\"middle\" x=\"9519\" y=\"-646.8\" font-family=\"Helvetica,sans-Serif\" font-size=\"14.00\" fill=\"#000000\">entropy = 0.102</text>\n<text text-anchor=\"middle\" x=\"9519\" y=\"-631.8\" font-family=\"Helvetica,sans-Serif\" font-size=\"14.00\" fill=\"#000000\">samples = 2467</text>\n<text text-anchor=\"middle\" x=\"9519\" y=\"-616.8\" font-family=\"Helvetica,sans-Serif\" font-size=\"14.00\" fill=\"#000000\">value = [2434, 33]</text>\n</g>\n<!-- 154&#45;&gt;155 -->\n<g id=\"edge155\" class=\"edge\">\n<title>154&#45;&gt;155</title>\n<path fill=\"none\" stroke=\"#000000\" d=\"M9595.6721,-712.9465C9585.535,-703.6986 9574.4517,-693.5876 9563.9417,-683.9994\"/>\n<polygon fill=\"#000000\" stroke=\"#000000\" points=\"9566.1583,-681.284 9556.4117,-677.13 9561.4405,-686.4553 9566.1583,-681.284\"/>\n</g>\n<!-- 174 -->\n<g id=\"node175\" class=\"node\">\n<title>174</title>\n<polygon fill=\"#88c4ef\" stroke=\"#000000\" points=\"9820.5,-677 9671.5,-677 9671.5,-609 9820.5,-609 9820.5,-677\"/>\n<text text-anchor=\"middle\" x=\"9746\" y=\"-661.8\" font-family=\"Helvetica,sans-Serif\" font-size=\"14.00\" fill=\"#000000\">X[3] &lt;= 0.07</text>\n<text text-anchor=\"middle\" x=\"9746\" y=\"-646.8\" font-family=\"Helvetica,sans-Serif\" font-size=\"14.00\" fill=\"#000000\">entropy = 0.862</text>\n<text text-anchor=\"middle\" x=\"9746\" y=\"-631.8\" font-family=\"Helvetica,sans-Serif\" font-size=\"14.00\" fill=\"#000000\">samples = 5903</text>\n<text text-anchor=\"middle\" x=\"9746\" y=\"-616.8\" font-family=\"Helvetica,sans-Serif\" font-size=\"14.00\" fill=\"#000000\">value = [1682, 4221]</text>\n</g>\n<!-- 154&#45;&gt;174 -->\n<g id=\"edge174\" class=\"edge\">\n<title>154&#45;&gt;174</title>\n<path fill=\"none\" stroke=\"#000000\" d=\"M9670.0004,-712.9465C9680.0486,-703.6986 9691.0347,-693.5876 9701.4526,-683.9994\"/>\n<polygon fill=\"#000000\" stroke=\"#000000\" points=\"9703.9286,-686.4773 9708.9164,-677.13 9699.1882,-681.3267 9703.9286,-686.4773\"/>\n</g>\n<!-- 156 -->\n<g id=\"node157\" class=\"node\">\n<title>156</title>\n<polygon fill=\"#e58139\" stroke=\"#000000\" points=\"9439,-565.5 9315,-565.5 9315,-512.5 9439,-512.5 9439,-565.5\"/>\n<text text-anchor=\"middle\" x=\"9377\" y=\"-550.3\" font-family=\"Helvetica,sans-Serif\" font-size=\"14.00\" fill=\"#000000\">entropy = 0.0</text>\n<text text-anchor=\"middle\" x=\"9377\" y=\"-535.3\" font-family=\"Helvetica,sans-Serif\" font-size=\"14.00\" fill=\"#000000\">samples = 2143</text>\n<text text-anchor=\"middle\" x=\"9377\" y=\"-520.3\" font-family=\"Helvetica,sans-Serif\" font-size=\"14.00\" fill=\"#000000\">value = [2143, 0]</text>\n</g>\n<!-- 155&#45;&gt;156 -->\n<g id=\"edge156\" class=\"edge\">\n<title>155&#45;&gt;156</title>\n<path fill=\"none\" stroke=\"#000000\" d=\"M9472.5039,-608.9465C9456.1107,-596.9403 9437.7311,-583.4791 9421.5064,-571.5962\"/>\n<polygon fill=\"#000000\" stroke=\"#000000\" points=\"9423.376,-568.6272 9413.2403,-565.5422 9419.2399,-574.2746 9423.376,-568.6272\"/>\n</g>\n<!-- 157 -->\n<g id=\"node158\" class=\"node\">\n<title>157</title>\n<polygon fill=\"#e88f4f\" stroke=\"#000000\" points=\"9581,-573 9457,-573 9457,-505 9581,-505 9581,-573\"/>\n<text text-anchor=\"middle\" x=\"9519\" y=\"-557.8\" font-family=\"Helvetica,sans-Serif\" font-size=\"14.00\" fill=\"#000000\">X[3] &lt;= &#45;0.4</text>\n<text text-anchor=\"middle\" x=\"9519\" y=\"-542.8\" font-family=\"Helvetica,sans-Serif\" font-size=\"14.00\" fill=\"#000000\">entropy = 0.475</text>\n<text text-anchor=\"middle\" x=\"9519\" y=\"-527.8\" font-family=\"Helvetica,sans-Serif\" font-size=\"14.00\" fill=\"#000000\">samples = 324</text>\n<text text-anchor=\"middle\" x=\"9519\" y=\"-512.8\" font-family=\"Helvetica,sans-Serif\" font-size=\"14.00\" fill=\"#000000\">value = [291, 33]</text>\n</g>\n<!-- 155&#45;&gt;157 -->\n<g id=\"edge157\" class=\"edge\">\n<title>155&#45;&gt;157</title>\n<path fill=\"none\" stroke=\"#000000\" d=\"M9519,-608.9465C9519,-600.776 9519,-591.9318 9519,-583.3697\"/>\n<polygon fill=\"#000000\" stroke=\"#000000\" points=\"9522.5001,-583.13 9519,-573.13 9515.5001,-583.13 9522.5001,-583.13\"/>\n</g>\n<!-- 158 -->\n<g id=\"node159\" class=\"node\">\n<title>158</title>\n<polygon fill=\"#f9e2d1\" stroke=\"#000000\" points=\"8961,-469 8843,-469 8843,-401 8961,-401 8961,-469\"/>\n<text text-anchor=\"middle\" x=\"8902\" y=\"-453.8\" font-family=\"Helvetica,sans-Serif\" font-size=\"14.00\" fill=\"#000000\">X[0] &lt;= &#45;0.57</text>\n<text text-anchor=\"middle\" x=\"8902\" y=\"-438.8\" font-family=\"Helvetica,sans-Serif\" font-size=\"14.00\" fill=\"#000000\">entropy = 0.987</text>\n<text text-anchor=\"middle\" x=\"8902\" y=\"-423.8\" font-family=\"Helvetica,sans-Serif\" font-size=\"14.00\" fill=\"#000000\">samples = 76</text>\n<text text-anchor=\"middle\" x=\"8902\" y=\"-408.8\" font-family=\"Helvetica,sans-Serif\" font-size=\"14.00\" fill=\"#000000\">value = [43, 33]</text>\n</g>\n<!-- 157&#45;&gt;158 -->\n<g id=\"edge158\" class=\"edge\">\n<title>157&#45;&gt;158</title>\n<path fill=\"none\" stroke=\"#000000\" d=\"M9456.711,-507.8439C9453.7961,-506.8074 9450.8837,-505.8513 9448,-505 9281.4597,-455.8356 9076.2726,-441.1979 8971.1959,-436.8426\"/>\n<polygon fill=\"#000000\" stroke=\"#000000\" points=\"8971.1675,-433.3388 8961.037,-436.4408 8970.8908,-440.3333 8971.1675,-433.3388\"/>\n</g>\n<!-- 173 -->\n<g id=\"node174\" class=\"node\">\n<title>173</title>\n<polygon fill=\"#e58139\" stroke=\"#000000\" points=\"9577,-461.5 9461,-461.5 9461,-408.5 9577,-408.5 9577,-461.5\"/>\n<text text-anchor=\"middle\" x=\"9519\" y=\"-446.3\" font-family=\"Helvetica,sans-Serif\" font-size=\"14.00\" fill=\"#000000\">entropy = 0.0</text>\n<text text-anchor=\"middle\" x=\"9519\" y=\"-431.3\" font-family=\"Helvetica,sans-Serif\" font-size=\"14.00\" fill=\"#000000\">samples = 248</text>\n<text text-anchor=\"middle\" x=\"9519\" y=\"-416.3\" font-family=\"Helvetica,sans-Serif\" font-size=\"14.00\" fill=\"#000000\">value = [248, 0]</text>\n</g>\n<!-- 157&#45;&gt;173 -->\n<g id=\"edge173\" class=\"edge\">\n<title>157&#45;&gt;173</title>\n<path fill=\"none\" stroke=\"#000000\" d=\"M9519,-504.9465C9519,-494.2621 9519,-482.4254 9519,-471.5742\"/>\n<polygon fill=\"#000000\" stroke=\"#000000\" points=\"9522.5001,-471.5421 9519,-461.5422 9515.5001,-471.5422 9522.5001,-471.5421\"/>\n</g>\n<!-- 159 -->\n<g id=\"node160\" class=\"node\">\n<title>159</title>\n<polygon fill=\"#ea995e\" stroke=\"#000000\" points=\"8697,-365 8579,-365 8579,-297 8697,-297 8697,-365\"/>\n<text text-anchor=\"middle\" x=\"8638\" y=\"-349.8\" font-family=\"Helvetica,sans-Serif\" font-size=\"14.00\" fill=\"#000000\">X[17] &lt;= 0.9</text>\n<text text-anchor=\"middle\" x=\"8638\" y=\"-334.8\" font-family=\"Helvetica,sans-Serif\" font-size=\"14.00\" fill=\"#000000\">entropy = 0.629</text>\n<text text-anchor=\"middle\" x=\"8638\" y=\"-319.8\" font-family=\"Helvetica,sans-Serif\" font-size=\"14.00\" fill=\"#000000\">samples = 19</text>\n<text text-anchor=\"middle\" x=\"8638\" y=\"-304.8\" font-family=\"Helvetica,sans-Serif\" font-size=\"14.00\" fill=\"#000000\">value = [16, 3]</text>\n</g>\n<!-- 158&#45;&gt;159 -->\n<g id=\"edge159\" class=\"edge\">\n<title>158&#45;&gt;159</title>\n<path fill=\"none\" stroke=\"#000000\" d=\"M8842.7532,-411.6604C8802.3317,-395.7367 8748.6733,-374.5986 8706.4277,-357.9563\"/>\n<polygon fill=\"#000000\" stroke=\"#000000\" points=\"8707.636,-354.6706 8697.049,-354.2617 8705.0702,-361.1835 8707.636,-354.6706\"/>\n</g>\n<!-- 166 -->\n<g id=\"node167\" class=\"node\">\n<title>166</title>\n<polygon fill=\"#ebf5fc\" stroke=\"#000000\" points=\"8961,-365 8843,-365 8843,-297 8961,-297 8961,-365\"/>\n<text text-anchor=\"middle\" x=\"8902\" y=\"-349.8\" font-family=\"Helvetica,sans-Serif\" font-size=\"14.00\" fill=\"#000000\">X[2] &lt;= 1.352</text>\n<text text-anchor=\"middle\" x=\"8902\" y=\"-334.8\" font-family=\"Helvetica,sans-Serif\" font-size=\"14.00\" fill=\"#000000\">entropy = 0.998</text>\n<text text-anchor=\"middle\" x=\"8902\" y=\"-319.8\" font-family=\"Helvetica,sans-Serif\" font-size=\"14.00\" fill=\"#000000\">samples = 57</text>\n<text text-anchor=\"middle\" x=\"8902\" y=\"-304.8\" font-family=\"Helvetica,sans-Serif\" font-size=\"14.00\" fill=\"#000000\">value = [27, 30]</text>\n</g>\n<!-- 158&#45;&gt;166 -->\n<g id=\"edge166\" class=\"edge\">\n<title>158&#45;&gt;166</title>\n<path fill=\"none\" stroke=\"#000000\" d=\"M8902,-400.9465C8902,-392.776 8902,-383.9318 8902,-375.3697\"/>\n<polygon fill=\"#000000\" stroke=\"#000000\" points=\"8905.5001,-375.13 8902,-365.13 8898.5001,-375.13 8905.5001,-375.13\"/>\n</g>\n<!-- 160 -->\n<g id=\"node161\" class=\"node\">\n<title>160</title>\n<polygon fill=\"#e58139\" stroke=\"#000000\" points=\"8560.5,-253.5 8459.5,-253.5 8459.5,-200.5 8560.5,-200.5 8560.5,-253.5\"/>\n<text text-anchor=\"middle\" x=\"8510\" y=\"-238.3\" font-family=\"Helvetica,sans-Serif\" font-size=\"14.00\" fill=\"#000000\">entropy = 0.0</text>\n<text text-anchor=\"middle\" x=\"8510\" y=\"-223.3\" font-family=\"Helvetica,sans-Serif\" font-size=\"14.00\" fill=\"#000000\">samples = 9</text>\n<text text-anchor=\"middle\" x=\"8510\" y=\"-208.3\" font-family=\"Helvetica,sans-Serif\" font-size=\"14.00\" fill=\"#000000\">value = [9, 0]</text>\n</g>\n<!-- 159&#45;&gt;160 -->\n<g id=\"edge160\" class=\"edge\">\n<title>159&#45;&gt;160</title>\n<path fill=\"none\" stroke=\"#000000\" d=\"M8596.088,-296.9465C8581.4467,-285.0504 8565.0474,-271.726 8550.5215,-259.9237\"/>\n<polygon fill=\"#000000\" stroke=\"#000000\" points=\"8552.6355,-257.1317 8542.6673,-253.5422 8548.2214,-262.5645 8552.6355,-257.1317\"/>\n</g>\n<!-- 161 -->\n<g id=\"node162\" class=\"node\">\n<title>161</title>\n<polygon fill=\"#f0b78e\" stroke=\"#000000\" points=\"8697,-261 8579,-261 8579,-193 8697,-193 8697,-261\"/>\n<text text-anchor=\"middle\" x=\"8638\" y=\"-245.8\" font-family=\"Helvetica,sans-Serif\" font-size=\"14.00\" fill=\"#000000\">X[4] &lt;= &#45;1.285</text>\n<text text-anchor=\"middle\" x=\"8638\" y=\"-230.8\" font-family=\"Helvetica,sans-Serif\" font-size=\"14.00\" fill=\"#000000\">entropy = 0.881</text>\n<text text-anchor=\"middle\" x=\"8638\" y=\"-215.8\" font-family=\"Helvetica,sans-Serif\" font-size=\"14.00\" fill=\"#000000\">samples = 10</text>\n<text text-anchor=\"middle\" x=\"8638\" y=\"-200.8\" font-family=\"Helvetica,sans-Serif\" font-size=\"14.00\" fill=\"#000000\">value = [7, 3]</text>\n</g>\n<!-- 159&#45;&gt;161 -->\n<g id=\"edge161\" class=\"edge\">\n<title>159&#45;&gt;161</title>\n<path fill=\"none\" stroke=\"#000000\" d=\"M8638,-296.9465C8638,-288.776 8638,-279.9318 8638,-271.3697\"/>\n<polygon fill=\"#000000\" stroke=\"#000000\" points=\"8641.5001,-271.13 8638,-261.13 8634.5001,-271.13 8641.5001,-271.13\"/>\n</g>\n<!-- 162 -->\n<g id=\"node163\" class=\"node\">\n<title>162</title>\n<polygon fill=\"#399de5\" stroke=\"#000000\" points=\"8560.5,-149.5 8459.5,-149.5 8459.5,-96.5 8560.5,-96.5 8560.5,-149.5\"/>\n<text text-anchor=\"middle\" x=\"8510\" y=\"-134.3\" font-family=\"Helvetica,sans-Serif\" font-size=\"14.00\" fill=\"#000000\">entropy = 0.0</text>\n<text text-anchor=\"middle\" x=\"8510\" y=\"-119.3\" font-family=\"Helvetica,sans-Serif\" font-size=\"14.00\" fill=\"#000000\">samples = 2</text>\n<text text-anchor=\"middle\" x=\"8510\" y=\"-104.3\" font-family=\"Helvetica,sans-Serif\" font-size=\"14.00\" fill=\"#000000\">value = [0, 2]</text>\n</g>\n<!-- 161&#45;&gt;162 -->\n<g id=\"edge162\" class=\"edge\">\n<title>161&#45;&gt;162</title>\n<path fill=\"none\" stroke=\"#000000\" d=\"M8596.088,-192.9465C8581.4467,-181.0504 8565.0474,-167.726 8550.5215,-155.9237\"/>\n<polygon fill=\"#000000\" stroke=\"#000000\" points=\"8552.6355,-153.1317 8542.6673,-149.5422 8548.2214,-158.5645 8552.6355,-153.1317\"/>\n</g>\n<!-- 163 -->\n<g id=\"node164\" class=\"node\">\n<title>163</title>\n<polygon fill=\"#e99355\" stroke=\"#000000\" points=\"8697,-157 8579,-157 8579,-89 8697,-89 8697,-157\"/>\n<text text-anchor=\"middle\" x=\"8638\" y=\"-141.8\" font-family=\"Helvetica,sans-Serif\" font-size=\"14.00\" fill=\"#000000\">X[2] &lt;= 0.406</text>\n<text text-anchor=\"middle\" x=\"8638\" y=\"-126.8\" font-family=\"Helvetica,sans-Serif\" font-size=\"14.00\" fill=\"#000000\">entropy = 0.544</text>\n<text text-anchor=\"middle\" x=\"8638\" y=\"-111.8\" font-family=\"Helvetica,sans-Serif\" font-size=\"14.00\" fill=\"#000000\">samples = 8</text>\n<text text-anchor=\"middle\" x=\"8638\" y=\"-96.8\" font-family=\"Helvetica,sans-Serif\" font-size=\"14.00\" fill=\"#000000\">value = [7, 1]</text>\n</g>\n<!-- 161&#45;&gt;163 -->\n<g id=\"edge163\" class=\"edge\">\n<title>161&#45;&gt;163</title>\n<path fill=\"none\" stroke=\"#000000\" d=\"M8638,-192.9465C8638,-184.776 8638,-175.9318 8638,-167.3697\"/>\n<polygon fill=\"#000000\" stroke=\"#000000\" points=\"8641.5001,-167.13 8638,-157.13 8634.5001,-167.13 8641.5001,-167.13\"/>\n</g>\n<!-- 164 -->\n<g id=\"node165\" class=\"node\">\n<title>164</title>\n<polygon fill=\"#399de5\" stroke=\"#000000\" points=\"8569.5,-53 8468.5,-53 8468.5,0 8569.5,0 8569.5,-53\"/>\n<text text-anchor=\"middle\" x=\"8519\" y=\"-37.8\" font-family=\"Helvetica,sans-Serif\" font-size=\"14.00\" fill=\"#000000\">entropy = 0.0</text>\n<text text-anchor=\"middle\" x=\"8519\" y=\"-22.8\" font-family=\"Helvetica,sans-Serif\" font-size=\"14.00\" fill=\"#000000\">samples = 1</text>\n<text text-anchor=\"middle\" x=\"8519\" y=\"-7.8\" font-family=\"Helvetica,sans-Serif\" font-size=\"14.00\" fill=\"#000000\">value = [0, 1]</text>\n</g>\n<!-- 163&#45;&gt;164 -->\n<g id=\"edge164\" class=\"edge\">\n<title>163&#45;&gt;164</title>\n<path fill=\"none\" stroke=\"#000000\" d=\"M8596.0451,-88.9777C8584.3014,-79.4545 8571.5562,-69.1191 8559.876,-59.6473\"/>\n<polygon fill=\"#000000\" stroke=\"#000000\" points=\"8561.9568,-56.8286 8551.9852,-53.2485 8557.5478,-62.2656 8561.9568,-56.8286\"/>\n</g>\n<!-- 165 -->\n<g id=\"node166\" class=\"node\">\n<title>165</title>\n<polygon fill=\"#e58139\" stroke=\"#000000\" points=\"8688.5,-53 8587.5,-53 8587.5,0 8688.5,0 8688.5,-53\"/>\n<text text-anchor=\"middle\" x=\"8638\" y=\"-37.8\" font-family=\"Helvetica,sans-Serif\" font-size=\"14.00\" fill=\"#000000\">entropy = 0.0</text>\n<text text-anchor=\"middle\" x=\"8638\" y=\"-22.8\" font-family=\"Helvetica,sans-Serif\" font-size=\"14.00\" fill=\"#000000\">samples = 7</text>\n<text text-anchor=\"middle\" x=\"8638\" y=\"-7.8\" font-family=\"Helvetica,sans-Serif\" font-size=\"14.00\" fill=\"#000000\">value = [7, 0]</text>\n</g>\n<!-- 163&#45;&gt;165 -->\n<g id=\"edge165\" class=\"edge\">\n<title>163&#45;&gt;165</title>\n<path fill=\"none\" stroke=\"#000000\" d=\"M8638,-88.9777C8638,-80.7364 8638,-71.887 8638,-63.5153\"/>\n<polygon fill=\"#000000\" stroke=\"#000000\" points=\"8641.5001,-63.2484 8638,-53.2485 8634.5001,-63.2485 8641.5001,-63.2484\"/>\n</g>\n<!-- 167 -->\n<g id=\"node168\" class=\"node\">\n<title>167</title>\n<polygon fill=\"#cae5f8\" stroke=\"#000000\" points=\"8897,-261 8779,-261 8779,-193 8897,-193 8897,-261\"/>\n<text text-anchor=\"middle\" x=\"8838\" y=\"-245.8\" font-family=\"Helvetica,sans-Serif\" font-size=\"14.00\" fill=\"#000000\">X[8] &lt;= 2.199</text>\n<text text-anchor=\"middle\" x=\"8838\" y=\"-230.8\" font-family=\"Helvetica,sans-Serif\" font-size=\"14.00\" fill=\"#000000\">entropy = 0.983</text>\n<text text-anchor=\"middle\" x=\"8838\" y=\"-215.8\" font-family=\"Helvetica,sans-Serif\" font-size=\"14.00\" fill=\"#000000\">samples = 52</text>\n<text text-anchor=\"middle\" x=\"8838\" y=\"-200.8\" font-family=\"Helvetica,sans-Serif\" font-size=\"14.00\" fill=\"#000000\">value = [22, 30]</text>\n</g>\n<!-- 166&#45;&gt;167 -->\n<g id=\"edge167\" class=\"edge\">\n<title>166&#45;&gt;167</title>\n<path fill=\"none\" stroke=\"#000000\" d=\"M8881.044,-296.9465C8875.6845,-288.2373 8869.8539,-278.7626 8864.2647,-269.6801\"/>\n<polygon fill=\"#000000\" stroke=\"#000000\" points=\"8867.2249,-267.8122 8859.0031,-261.13 8861.2633,-271.481 8867.2249,-267.8122\"/>\n</g>\n<!-- 172 -->\n<g id=\"node173\" class=\"node\">\n<title>172</title>\n<polygon fill=\"#e58139\" stroke=\"#000000\" points=\"9016.5,-253.5 8915.5,-253.5 8915.5,-200.5 9016.5,-200.5 9016.5,-253.5\"/>\n<text text-anchor=\"middle\" x=\"8966\" y=\"-238.3\" font-family=\"Helvetica,sans-Serif\" font-size=\"14.00\" fill=\"#000000\">entropy = 0.0</text>\n<text text-anchor=\"middle\" x=\"8966\" y=\"-223.3\" font-family=\"Helvetica,sans-Serif\" font-size=\"14.00\" fill=\"#000000\">samples = 5</text>\n<text text-anchor=\"middle\" x=\"8966\" y=\"-208.3\" font-family=\"Helvetica,sans-Serif\" font-size=\"14.00\" fill=\"#000000\">value = [5, 0]</text>\n</g>\n<!-- 166&#45;&gt;172 -->\n<g id=\"edge172\" class=\"edge\">\n<title>166&#45;&gt;172</title>\n<path fill=\"none\" stroke=\"#000000\" d=\"M8922.956,-296.9465C8929.8022,-285.8215 8937.4171,-273.4473 8944.3157,-262.237\"/>\n<polygon fill=\"#000000\" stroke=\"#000000\" points=\"8947.4061,-263.8931 8949.6664,-253.5422 8941.4445,-260.2244 8947.4061,-263.8931\"/>\n</g>\n<!-- 168 -->\n<g id=\"node169\" class=\"node\">\n<title>168</title>\n<polygon fill=\"#b6dbf5\" stroke=\"#000000\" points=\"8865,-157 8747,-157 8747,-89 8865,-89 8865,-157\"/>\n<text text-anchor=\"middle\" x=\"8806\" y=\"-141.8\" font-family=\"Helvetica,sans-Serif\" font-size=\"14.00\" fill=\"#000000\">X[15] &lt;= 0.454</text>\n<text text-anchor=\"middle\" x=\"8806\" y=\"-126.8\" font-family=\"Helvetica,sans-Serif\" font-size=\"14.00\" fill=\"#000000\">entropy = 0.963</text>\n<text text-anchor=\"middle\" x=\"8806\" y=\"-111.8\" font-family=\"Helvetica,sans-Serif\" font-size=\"14.00\" fill=\"#000000\">samples = 49</text>\n<text text-anchor=\"middle\" x=\"8806\" y=\"-96.8\" font-family=\"Helvetica,sans-Serif\" font-size=\"14.00\" fill=\"#000000\">value = [19, 30]</text>\n</g>\n<!-- 167&#45;&gt;168 -->\n<g id=\"edge168\" class=\"edge\">\n<title>167&#45;&gt;168</title>\n<path fill=\"none\" stroke=\"#000000\" d=\"M8827.522,-192.9465C8824.9528,-184.5965 8822.167,-175.5427 8819.4786,-166.8056\"/>\n<polygon fill=\"#000000\" stroke=\"#000000\" points=\"8822.7877,-165.6585 8816.5015,-157.13 8816.0972,-167.7171 8822.7877,-165.6585\"/>\n</g>\n<!-- 171 -->\n<g id=\"node172\" class=\"node\">\n<title>171</title>\n<polygon fill=\"#e58139\" stroke=\"#000000\" points=\"8984.5,-149.5 8883.5,-149.5 8883.5,-96.5 8984.5,-96.5 8984.5,-149.5\"/>\n<text text-anchor=\"middle\" x=\"8934\" y=\"-134.3\" font-family=\"Helvetica,sans-Serif\" font-size=\"14.00\" fill=\"#000000\">entropy = 0.0</text>\n<text text-anchor=\"middle\" x=\"8934\" y=\"-119.3\" font-family=\"Helvetica,sans-Serif\" font-size=\"14.00\" fill=\"#000000\">samples = 3</text>\n<text text-anchor=\"middle\" x=\"8934\" y=\"-104.3\" font-family=\"Helvetica,sans-Serif\" font-size=\"14.00\" fill=\"#000000\">value = [3, 0]</text>\n</g>\n<!-- 167&#45;&gt;171 -->\n<g id=\"edge171\" class=\"edge\">\n<title>167&#45;&gt;171</title>\n<path fill=\"none\" stroke=\"#000000\" d=\"M8869.434,-192.9465C8880.11,-181.3809 8892.0322,-168.4652 8902.6978,-156.9107\"/>\n<polygon fill=\"#000000\" stroke=\"#000000\" points=\"8905.2885,-159.2642 8909.4995,-149.5422 8900.1449,-154.5162 8905.2885,-159.2642\"/>\n</g>\n<!-- 169 -->\n<g id=\"node170\" class=\"node\">\n<title>169</title>\n<polygon fill=\"#7bbeee\" stroke=\"#000000\" points=\"8825,-53 8707,-53 8707,0 8825,0 8825,-53\"/>\n<text text-anchor=\"middle\" x=\"8766\" y=\"-37.8\" font-family=\"Helvetica,sans-Serif\" font-size=\"14.00\" fill=\"#000000\">entropy = 0.811</text>\n<text text-anchor=\"middle\" x=\"8766\" y=\"-22.8\" font-family=\"Helvetica,sans-Serif\" font-size=\"14.00\" fill=\"#000000\">samples = 24</text>\n<text text-anchor=\"middle\" x=\"8766\" y=\"-7.8\" font-family=\"Helvetica,sans-Serif\" font-size=\"14.00\" fill=\"#000000\">value = [6, 18]</text>\n</g>\n<!-- 168&#45;&gt;169 -->\n<g id=\"edge169\" class=\"edge\">\n<title>168&#45;&gt;169</title>\n<path fill=\"none\" stroke=\"#000000\" d=\"M8791.8975,-88.9777C8788.3676,-80.4617 8784.5684,-71.2963 8780.9968,-62.6798\"/>\n<polygon fill=\"#000000\" stroke=\"#000000\" points=\"8784.1499,-61.1461 8777.0875,-53.2485 8777.6834,-63.8265 8784.1499,-61.1461\"/>\n</g>\n<!-- 170 -->\n<g id=\"node171\" class=\"node\">\n<title>170</title>\n<polygon fill=\"#fdf5f0\" stroke=\"#000000\" points=\"8961,-53 8843,-53 8843,0 8961,0 8961,-53\"/>\n<text text-anchor=\"middle\" x=\"8902\" y=\"-37.8\" font-family=\"Helvetica,sans-Serif\" font-size=\"14.00\" fill=\"#000000\">entropy = 0.999</text>\n<text text-anchor=\"middle\" x=\"8902\" y=\"-22.8\" font-family=\"Helvetica,sans-Serif\" font-size=\"14.00\" fill=\"#000000\">samples = 25</text>\n<text text-anchor=\"middle\" x=\"8902\" y=\"-7.8\" font-family=\"Helvetica,sans-Serif\" font-size=\"14.00\" fill=\"#000000\">value = [13, 12]</text>\n</g>\n<!-- 168&#45;&gt;170 -->\n<g id=\"edge170\" class=\"edge\">\n<title>168&#45;&gt;170</title>\n<path fill=\"none\" stroke=\"#000000\" d=\"M8839.846,-88.9777C8849.0466,-79.7292 8859.0092,-69.7147 8868.2069,-60.4691\"/>\n<polygon fill=\"#000000\" stroke=\"#000000\" points=\"8870.8187,-62.8064 8875.3901,-53.2485 8865.8561,-57.8695 8870.8187,-62.8064\"/>\n</g>\n<!-- 175 -->\n<g id=\"node176\" class=\"node\">\n<title>175</title>\n<polygon fill=\"#5fb0ea\" stroke=\"#000000\" points=\"9816,-573 9676,-573 9676,-505 9816,-505 9816,-573\"/>\n<text text-anchor=\"middle\" x=\"9746\" y=\"-557.8\" font-family=\"Helvetica,sans-Serif\" font-size=\"14.00\" fill=\"#000000\">X[10] &lt;= &#45;0.869</text>\n<text text-anchor=\"middle\" x=\"9746\" y=\"-542.8\" font-family=\"Helvetica,sans-Serif\" font-size=\"14.00\" fill=\"#000000\">entropy = 0.636</text>\n<text text-anchor=\"middle\" x=\"9746\" y=\"-527.8\" font-family=\"Helvetica,sans-Serif\" font-size=\"14.00\" fill=\"#000000\">samples = 4419</text>\n<text text-anchor=\"middle\" x=\"9746\" y=\"-512.8\" font-family=\"Helvetica,sans-Serif\" font-size=\"14.00\" fill=\"#000000\">value = [711, 3708]</text>\n</g>\n<!-- 174&#45;&gt;175 -->\n<g id=\"edge175\" class=\"edge\">\n<title>174&#45;&gt;175</title>\n<path fill=\"none\" stroke=\"#000000\" d=\"M9746,-608.9465C9746,-600.776 9746,-591.9318 9746,-583.3697\"/>\n<polygon fill=\"#000000\" stroke=\"#000000\" points=\"9749.5001,-583.13 9746,-573.13 9742.5001,-583.13 9749.5001,-583.13\"/>\n</g>\n<!-- 216 -->\n<g id=\"node217\" class=\"node\">\n<title>216</title>\n<polygon fill=\"#f3c4a2\" stroke=\"#000000\" points=\"11372,-573 11240,-573 11240,-505 11372,-505 11372,-573\"/>\n<text text-anchor=\"middle\" x=\"11306\" y=\"-557.8\" font-family=\"Helvetica,sans-Serif\" font-size=\"14.00\" fill=\"#000000\">X[10] &lt;= &#45;0.718</text>\n<text text-anchor=\"middle\" x=\"11306\" y=\"-542.8\" font-family=\"Helvetica,sans-Serif\" font-size=\"14.00\" fill=\"#000000\">entropy = 0.93</text>\n<text text-anchor=\"middle\" x=\"11306\" y=\"-527.8\" font-family=\"Helvetica,sans-Serif\" font-size=\"14.00\" fill=\"#000000\">samples = 1484</text>\n<text text-anchor=\"middle\" x=\"11306\" y=\"-512.8\" font-family=\"Helvetica,sans-Serif\" font-size=\"14.00\" fill=\"#000000\">value = [971, 513]</text>\n</g>\n<!-- 174&#45;&gt;216 -->\n<g id=\"edge216\" class=\"edge\">\n<title>174&#45;&gt;216</title>\n<path fill=\"none\" stroke=\"#000000\" d=\"M9820.7165,-638.0189C10083.5571,-620.4962 10963.9896,-561.8007 11229.5405,-544.0973\"/>\n<polygon fill=\"#000000\" stroke=\"#000000\" points=\"11230.1064,-547.5674 11239.8514,-543.4099 11229.6407,-540.5829 11230.1064,-547.5674\"/>\n</g>\n<!-- 176 -->\n<g id=\"node177\" class=\"node\">\n<title>176</title>\n<polygon fill=\"#ddeefb\" stroke=\"#000000\" points=\"9769,-469 9637,-469 9637,-401 9769,-401 9769,-469\"/>\n<text text-anchor=\"middle\" x=\"9703\" y=\"-453.8\" font-family=\"Helvetica,sans-Serif\" font-size=\"14.00\" fill=\"#000000\">X[3] &lt;= &#45;0.295</text>\n<text text-anchor=\"middle\" x=\"9703\" y=\"-438.8\" font-family=\"Helvetica,sans-Serif\" font-size=\"14.00\" fill=\"#000000\">entropy = 0.994</text>\n<text text-anchor=\"middle\" x=\"9703\" y=\"-423.8\" font-family=\"Helvetica,sans-Serif\" font-size=\"14.00\" fill=\"#000000\">samples = 466</text>\n<text text-anchor=\"middle\" x=\"9703\" y=\"-408.8\" font-family=\"Helvetica,sans-Serif\" font-size=\"14.00\" fill=\"#000000\">value = [211, 255]</text>\n</g>\n<!-- 175&#45;&gt;176 -->\n<g id=\"edge176\" class=\"edge\">\n<title>175&#45;&gt;176</title>\n<path fill=\"none\" stroke=\"#000000\" d=\"M9731.9202,-504.9465C9728.4306,-496.5067 9724.6439,-487.3479 9720.9954,-478.5239\"/>\n<polygon fill=\"#000000\" stroke=\"#000000\" points=\"9724.1668,-477.0339 9717.1114,-469.13 9717.698,-479.7086 9724.1668,-477.0339\"/>\n</g>\n<!-- 191 -->\n<g id=\"node192\" class=\"node\">\n<title>191</title>\n<polygon fill=\"#56abe9\" stroke=\"#000000\" points=\"10041,-469 9901,-469 9901,-401 10041,-401 10041,-469\"/>\n<text text-anchor=\"middle\" x=\"9971\" y=\"-453.8\" font-family=\"Helvetica,sans-Serif\" font-size=\"14.00\" fill=\"#000000\">X[13] &lt;= &#45;0.492</text>\n<text text-anchor=\"middle\" x=\"9971\" y=\"-438.8\" font-family=\"Helvetica,sans-Serif\" font-size=\"14.00\" fill=\"#000000\">entropy = 0.548</text>\n<text text-anchor=\"middle\" x=\"9971\" y=\"-423.8\" font-family=\"Helvetica,sans-Serif\" font-size=\"14.00\" fill=\"#000000\">samples = 3953</text>\n<text text-anchor=\"middle\" x=\"9971\" y=\"-408.8\" font-family=\"Helvetica,sans-Serif\" font-size=\"14.00\" fill=\"#000000\">value = [500, 3453]</text>\n</g>\n<!-- 175&#45;&gt;191 -->\n<g id=\"edge191\" class=\"edge\">\n<title>175&#45;&gt;191</title>\n<path fill=\"none\" stroke=\"#000000\" d=\"M9816.2659,-506.5215C9840.1617,-495.4764 9867.0314,-483.0566 9891.5915,-471.7044\"/>\n<polygon fill=\"#000000\" stroke=\"#000000\" points=\"9893.2715,-474.7837 9900.8803,-467.4109 9890.3345,-468.4296 9893.2715,-474.7837\"/>\n</g>\n<!-- 177 -->\n<g id=\"node178\" class=\"node\">\n<title>177</title>\n<polygon fill=\"#89c5f0\" stroke=\"#000000\" points=\"9584,-365 9452,-365 9452,-297 9584,-297 9584,-365\"/>\n<text text-anchor=\"middle\" x=\"9518\" y=\"-349.8\" font-family=\"Helvetica,sans-Serif\" font-size=\"14.00\" fill=\"#000000\">X[13] &lt;= &#45;0.501</text>\n<text text-anchor=\"middle\" x=\"9518\" y=\"-334.8\" font-family=\"Helvetica,sans-Serif\" font-size=\"14.00\" fill=\"#000000\">entropy = 0.866</text>\n<text text-anchor=\"middle\" x=\"9518\" y=\"-319.8\" font-family=\"Helvetica,sans-Serif\" font-size=\"14.00\" fill=\"#000000\">samples = 358</text>\n<text text-anchor=\"middle\" x=\"9518\" y=\"-304.8\" font-family=\"Helvetica,sans-Serif\" font-size=\"14.00\" fill=\"#000000\">value = [103, 255]</text>\n</g>\n<!-- 176&#45;&gt;177 -->\n<g id=\"edge177\" class=\"edge\">\n<title>176&#45;&gt;177</title>\n<path fill=\"none\" stroke=\"#000000\" d=\"M9642.4241,-400.9465C9624.8555,-391.0701 9605.5357,-380.2093 9587.4679,-370.0522\"/>\n<polygon fill=\"#000000\" stroke=\"#000000\" points=\"9589.1442,-366.9795 9578.712,-365.13 9585.7139,-373.0814 9589.1442,-366.9795\"/>\n</g>\n<!-- 190 -->\n<g id=\"node191\" class=\"node\">\n<title>190</title>\n<polygon fill=\"#e58139\" stroke=\"#000000\" points=\"9761,-357.5 9645,-357.5 9645,-304.5 9761,-304.5 9761,-357.5\"/>\n<text text-anchor=\"middle\" x=\"9703\" y=\"-342.3\" font-family=\"Helvetica,sans-Serif\" font-size=\"14.00\" fill=\"#000000\">entropy = 0.0</text>\n<text text-anchor=\"middle\" x=\"9703\" y=\"-327.3\" font-family=\"Helvetica,sans-Serif\" font-size=\"14.00\" fill=\"#000000\">samples = 108</text>\n<text text-anchor=\"middle\" x=\"9703\" y=\"-312.3\" font-family=\"Helvetica,sans-Serif\" font-size=\"14.00\" fill=\"#000000\">value = [108, 0]</text>\n</g>\n<!-- 176&#45;&gt;190 -->\n<g id=\"edge190\" class=\"edge\">\n<title>176&#45;&gt;190</title>\n<path fill=\"none\" stroke=\"#000000\" d=\"M9703,-400.9465C9703,-390.2621 9703,-378.4254 9703,-367.5742\"/>\n<polygon fill=\"#000000\" stroke=\"#000000\" points=\"9706.5001,-367.5421 9703,-357.5422 9699.5001,-367.5422 9706.5001,-367.5421\"/>\n</g>\n<!-- 178 -->\n<g id=\"node179\" class=\"node\">\n<title>178</title>\n<polygon fill=\"#5baee9\" stroke=\"#000000\" points=\"9411,-261 9287,-261 9287,-193 9411,-193 9411,-261\"/>\n<text text-anchor=\"middle\" x=\"9349\" y=\"-245.8\" font-family=\"Helvetica,sans-Serif\" font-size=\"14.00\" fill=\"#000000\">X[4] &lt;= &#45;0.735</text>\n<text text-anchor=\"middle\" x=\"9349\" y=\"-230.8\" font-family=\"Helvetica,sans-Serif\" font-size=\"14.00\" fill=\"#000000\">entropy = 0.602</text>\n<text text-anchor=\"middle\" x=\"9349\" y=\"-215.8\" font-family=\"Helvetica,sans-Serif\" font-size=\"14.00\" fill=\"#000000\">samples = 245</text>\n<text text-anchor=\"middle\" x=\"9349\" y=\"-200.8\" font-family=\"Helvetica,sans-Serif\" font-size=\"14.00\" fill=\"#000000\">value = [36, 209]</text>\n</g>\n<!-- 177&#45;&gt;178 -->\n<g id=\"edge178\" class=\"edge\">\n<title>177&#45;&gt;178</title>\n<path fill=\"none\" stroke=\"#000000\" d=\"M9462.6631,-296.9465C9446.9058,-287.2497 9429.6063,-276.6039 9413.3613,-266.6069\"/>\n<polygon fill=\"#000000\" stroke=\"#000000\" points=\"9414.8122,-263.3902 9404.4612,-261.13 9411.1435,-269.3518 9414.8122,-263.3902\"/>\n</g>\n<!-- 185 -->\n<g id=\"node186\" class=\"node\">\n<title>185</title>\n<polygon fill=\"#f7d8c1\" stroke=\"#000000\" points=\"9577,-261 9459,-261 9459,-193 9577,-193 9577,-261\"/>\n<text text-anchor=\"middle\" x=\"9518\" y=\"-245.8\" font-family=\"Helvetica,sans-Serif\" font-size=\"14.00\" fill=\"#000000\">X[6] &lt;= 0.624</text>\n<text text-anchor=\"middle\" x=\"9518\" y=\"-230.8\" font-family=\"Helvetica,sans-Serif\" font-size=\"14.00\" fill=\"#000000\">entropy = 0.975</text>\n<text text-anchor=\"middle\" x=\"9518\" y=\"-215.8\" font-family=\"Helvetica,sans-Serif\" font-size=\"14.00\" fill=\"#000000\">samples = 113</text>\n<text text-anchor=\"middle\" x=\"9518\" y=\"-200.8\" font-family=\"Helvetica,sans-Serif\" font-size=\"14.00\" fill=\"#000000\">value = [67, 46]</text>\n</g>\n<!-- 177&#45;&gt;185 -->\n<g id=\"edge185\" class=\"edge\">\n<title>177&#45;&gt;185</title>\n<path fill=\"none\" stroke=\"#000000\" d=\"M9518,-296.9465C9518,-288.776 9518,-279.9318 9518,-271.3697\"/>\n<polygon fill=\"#000000\" stroke=\"#000000\" points=\"9521.5001,-271.13 9518,-261.13 9514.5001,-271.13 9521.5001,-271.13\"/>\n</g>\n<!-- 179 -->\n<g id=\"node180\" class=\"node\">\n<title>179</title>\n<polygon fill=\"#40a0e6\" stroke=\"#000000\" points=\"9223,-157 9105,-157 9105,-89 9223,-89 9223,-157\"/>\n<text text-anchor=\"middle\" x=\"9164\" y=\"-141.8\" font-family=\"Helvetica,sans-Serif\" font-size=\"14.00\" fill=\"#000000\">X[16] &lt;= 0.521</text>\n<text text-anchor=\"middle\" x=\"9164\" y=\"-126.8\" font-family=\"Helvetica,sans-Serif\" font-size=\"14.00\" fill=\"#000000\">entropy = 0.207</text>\n<text text-anchor=\"middle\" x=\"9164\" y=\"-111.8\" font-family=\"Helvetica,sans-Serif\" font-size=\"14.00\" fill=\"#000000\">samples = 92</text>\n<text text-anchor=\"middle\" x=\"9164\" y=\"-96.8\" font-family=\"Helvetica,sans-Serif\" font-size=\"14.00\" fill=\"#000000\">value = [3, 89]</text>\n</g>\n<!-- 178&#45;&gt;179 -->\n<g id=\"edge179\" class=\"edge\">\n<title>178&#45;&gt;179</title>\n<path fill=\"none\" stroke=\"#000000\" d=\"M9288.4241,-192.9465C9270.4027,-182.8156 9250.5387,-171.6488 9232.0735,-161.2683\"/>\n<polygon fill=\"#000000\" stroke=\"#000000\" points=\"9233.5675,-158.0931 9223.1353,-156.2436 9230.1372,-164.195 9233.5675,-158.0931\"/>\n</g>\n<!-- 182 -->\n<g id=\"node183\" class=\"node\">\n<title>182</title>\n<polygon fill=\"#6fb8ec\" stroke=\"#000000\" points=\"9411,-157 9287,-157 9287,-89 9411,-89 9411,-157\"/>\n<text text-anchor=\"middle\" x=\"9349\" y=\"-141.8\" font-family=\"Helvetica,sans-Serif\" font-size=\"14.00\" fill=\"#000000\">X[0] &lt;= &#45;0.07</text>\n<text text-anchor=\"middle\" x=\"9349\" y=\"-126.8\" font-family=\"Helvetica,sans-Serif\" font-size=\"14.00\" fill=\"#000000\">entropy = 0.752</text>\n<text text-anchor=\"middle\" x=\"9349\" y=\"-111.8\" font-family=\"Helvetica,sans-Serif\" font-size=\"14.00\" fill=\"#000000\">samples = 153</text>\n<text text-anchor=\"middle\" x=\"9349\" y=\"-96.8\" font-family=\"Helvetica,sans-Serif\" font-size=\"14.00\" fill=\"#000000\">value = [33, 120]</text>\n</g>\n<!-- 178&#45;&gt;182 -->\n<g id=\"edge182\" class=\"edge\">\n<title>178&#45;&gt;182</title>\n<path fill=\"none\" stroke=\"#000000\" d=\"M9349,-192.9465C9349,-184.776 9349,-175.9318 9349,-167.3697\"/>\n<polygon fill=\"#000000\" stroke=\"#000000\" points=\"9352.5001,-167.13 9349,-157.13 9345.5001,-167.13 9352.5001,-167.13\"/>\n</g>\n<!-- 180 -->\n<g id=\"node181\" class=\"node\">\n<title>180</title>\n<polygon fill=\"#399de5\" stroke=\"#000000\" points=\"9086.5,-53 8979.5,-53 8979.5,0 9086.5,0 9086.5,-53\"/>\n<text text-anchor=\"middle\" x=\"9033\" y=\"-37.8\" font-family=\"Helvetica,sans-Serif\" font-size=\"14.00\" fill=\"#000000\">entropy = 0.0</text>\n<text text-anchor=\"middle\" x=\"9033\" y=\"-22.8\" font-family=\"Helvetica,sans-Serif\" font-size=\"14.00\" fill=\"#000000\">samples = 70</text>\n<text text-anchor=\"middle\" x=\"9033\" y=\"-7.8\" font-family=\"Helvetica,sans-Serif\" font-size=\"14.00\" fill=\"#000000\">value = [0, 70]</text>\n</g>\n<!-- 179&#45;&gt;180 -->\n<g id=\"edge180\" class=\"edge\">\n<title>179&#45;&gt;180</title>\n<path fill=\"none\" stroke=\"#000000\" d=\"M9117.8143,-88.9777C9104.7621,-79.3629 9090.5861,-68.9203 9077.6273,-59.3743\"/>\n<polygon fill=\"#000000\" stroke=\"#000000\" points=\"9079.4386,-56.3615 9069.3114,-53.2485 9075.2869,-61.9974 9079.4386,-56.3615\"/>\n</g>\n<!-- 181 -->\n<g id=\"node182\" class=\"node\">\n<title>181</title>\n<polygon fill=\"#58ace9\" stroke=\"#000000\" points=\"9223,-53 9105,-53 9105,0 9223,0 9223,-53\"/>\n<text text-anchor=\"middle\" x=\"9164\" y=\"-37.8\" font-family=\"Helvetica,sans-Serif\" font-size=\"14.00\" fill=\"#000000\">entropy = 0.575</text>\n<text text-anchor=\"middle\" x=\"9164\" y=\"-22.8\" font-family=\"Helvetica,sans-Serif\" font-size=\"14.00\" fill=\"#000000\">samples = 22</text>\n<text text-anchor=\"middle\" x=\"9164\" y=\"-7.8\" font-family=\"Helvetica,sans-Serif\" font-size=\"14.00\" fill=\"#000000\">value = [3, 19]</text>\n</g>\n<!-- 179&#45;&gt;181 -->\n<g id=\"edge181\" class=\"edge\">\n<title>179&#45;&gt;181</title>\n<path fill=\"none\" stroke=\"#000000\" d=\"M9164,-88.9777C9164,-80.7364 9164,-71.887 9164,-63.5153\"/>\n<polygon fill=\"#000000\" stroke=\"#000000\" points=\"9167.5001,-63.2484 9164,-53.2485 9160.5001,-63.2485 9167.5001,-63.2484\"/>\n</g>\n<!-- 183 -->\n<g id=\"node184\" class=\"node\">\n<title>183</title>\n<polygon fill=\"#8bc6f0\" stroke=\"#000000\" points=\"9359,-53 9241,-53 9241,0 9359,0 9359,-53\"/>\n<text text-anchor=\"middle\" x=\"9300\" y=\"-37.8\" font-family=\"Helvetica,sans-Serif\" font-size=\"14.00\" fill=\"#000000\">entropy = 0.872</text>\n<text text-anchor=\"middle\" x=\"9300\" y=\"-22.8\" font-family=\"Helvetica,sans-Serif\" font-size=\"14.00\" fill=\"#000000\">samples = 99</text>\n<text text-anchor=\"middle\" x=\"9300\" y=\"-7.8\" font-family=\"Helvetica,sans-Serif\" font-size=\"14.00\" fill=\"#000000\">value = [29, 70]</text>\n</g>\n<!-- 182&#45;&gt;183 -->\n<g id=\"edge183\" class=\"edge\">\n<title>182&#45;&gt;183</title>\n<path fill=\"none\" stroke=\"#000000\" d=\"M9331.7244,-88.9777C9327.3538,-80.3702 9322.6462,-71.0992 9318.23,-62.402\"/>\n<polygon fill=\"#000000\" stroke=\"#000000\" points=\"9321.2304,-60.5802 9313.5821,-53.2485 9314.9889,-63.7495 9321.2304,-60.5802\"/>\n</g>\n<!-- 184 -->\n<g id=\"node185\" class=\"node\">\n<title>184</title>\n<polygon fill=\"#49a5e7\" stroke=\"#000000\" points=\"9495,-53 9377,-53 9377,0 9495,0 9495,-53\"/>\n<text text-anchor=\"middle\" x=\"9436\" y=\"-37.8\" font-family=\"Helvetica,sans-Serif\" font-size=\"14.00\" fill=\"#000000\">entropy = 0.381</text>\n<text text-anchor=\"middle\" x=\"9436\" y=\"-22.8\" font-family=\"Helvetica,sans-Serif\" font-size=\"14.00\" fill=\"#000000\">samples = 54</text>\n<text text-anchor=\"middle\" x=\"9436\" y=\"-7.8\" font-family=\"Helvetica,sans-Serif\" font-size=\"14.00\" fill=\"#000000\">value = [4, 50]</text>\n</g>\n<!-- 182&#45;&gt;184 -->\n<g id=\"edge184\" class=\"edge\">\n<title>182&#45;&gt;184</title>\n<path fill=\"none\" stroke=\"#000000\" d=\"M9379.6729,-88.9777C9387.9285,-79.8207 9396.8609,-69.9129 9405.1272,-60.744\"/>\n<polygon fill=\"#000000\" stroke=\"#000000\" points=\"9407.7883,-63.0193 9411.8848,-53.2485 9402.5892,-58.3321 9407.7883,-63.0193\"/>\n</g>\n<!-- 186 -->\n<g id=\"node187\" class=\"node\">\n<title>186</title>\n<polygon fill=\"#f3c5a3\" stroke=\"#000000\" points=\"9562,-157 9444,-157 9444,-89 9562,-89 9562,-157\"/>\n<text text-anchor=\"middle\" x=\"9503\" y=\"-141.8\" font-family=\"Helvetica,sans-Serif\" font-size=\"14.00\" fill=\"#000000\">X[2] &lt;= &#45;0.523</text>\n<text text-anchor=\"middle\" x=\"9503\" y=\"-126.8\" font-family=\"Helvetica,sans-Serif\" font-size=\"14.00\" fill=\"#000000\">entropy = 0.934</text>\n<text text-anchor=\"middle\" x=\"9503\" y=\"-111.8\" font-family=\"Helvetica,sans-Serif\" font-size=\"14.00\" fill=\"#000000\">samples = 103</text>\n<text text-anchor=\"middle\" x=\"9503\" y=\"-96.8\" font-family=\"Helvetica,sans-Serif\" font-size=\"14.00\" fill=\"#000000\">value = [67, 36]</text>\n</g>\n<!-- 185&#45;&gt;186 -->\n<g id=\"edge186\" class=\"edge\">\n<title>185&#45;&gt;186</title>\n<path fill=\"none\" stroke=\"#000000\" d=\"M9513.0884,-192.9465C9511.8971,-184.6863 9510.6063,-175.7374 9509.3588,-167.0875\"/>\n<polygon fill=\"#000000\" stroke=\"#000000\" points=\"9512.8144,-166.5279 9507.9226,-157.13 9505.8861,-167.5272 9512.8144,-166.5279\"/>\n</g>\n<!-- 189 -->\n<g id=\"node190\" class=\"node\">\n<title>189</title>\n<polygon fill=\"#399de5\" stroke=\"#000000\" points=\"9687.5,-149.5 9580.5,-149.5 9580.5,-96.5 9687.5,-96.5 9687.5,-149.5\"/>\n<text text-anchor=\"middle\" x=\"9634\" y=\"-134.3\" font-family=\"Helvetica,sans-Serif\" font-size=\"14.00\" fill=\"#000000\">entropy = 0.0</text>\n<text text-anchor=\"middle\" x=\"9634\" y=\"-119.3\" font-family=\"Helvetica,sans-Serif\" font-size=\"14.00\" fill=\"#000000\">samples = 10</text>\n<text text-anchor=\"middle\" x=\"9634\" y=\"-104.3\" font-family=\"Helvetica,sans-Serif\" font-size=\"14.00\" fill=\"#000000\">value = [0, 10]</text>\n</g>\n<!-- 185&#45;&gt;189 -->\n<g id=\"edge189\" class=\"edge\">\n<title>185&#45;&gt;189</title>\n<path fill=\"none\" stroke=\"#000000\" d=\"M9555.9827,-192.9465C9569.1286,-181.1606 9583.8382,-167.9726 9596.9113,-156.2519\"/>\n<polygon fill=\"#000000\" stroke=\"#000000\" points=\"9599.286,-158.8236 9604.3953,-149.5422 9594.6131,-153.6116 9599.286,-158.8236\"/>\n</g>\n<!-- 187 -->\n<g id=\"node188\" class=\"node\">\n<title>187</title>\n<polygon fill=\"#399de5\" stroke=\"#000000\" points=\"9614.5,-53 9513.5,-53 9513.5,0 9614.5,0 9614.5,-53\"/>\n<text text-anchor=\"middle\" x=\"9564\" y=\"-37.8\" font-family=\"Helvetica,sans-Serif\" font-size=\"14.00\" fill=\"#000000\">entropy = 0.0</text>\n<text text-anchor=\"middle\" x=\"9564\" y=\"-22.8\" font-family=\"Helvetica,sans-Serif\" font-size=\"14.00\" fill=\"#000000\">samples = 7</text>\n<text text-anchor=\"middle\" x=\"9564\" y=\"-7.8\" font-family=\"Helvetica,sans-Serif\" font-size=\"14.00\" fill=\"#000000\">value = [0, 7]</text>\n</g>\n<!-- 186&#45;&gt;187 -->\n<g id=\"edge187\" class=\"edge\">\n<title>186&#45;&gt;187</title>\n<path fill=\"none\" stroke=\"#000000\" d=\"M9524.5063,-88.9777C9530.0631,-80.187 9536.0573,-70.7044 9541.6559,-61.8477\"/>\n<polygon fill=\"#000000\" stroke=\"#000000\" points=\"9544.7069,-63.5714 9547.0916,-53.2485 9538.7899,-59.8312 9544.7069,-63.5714\"/>\n</g>\n<!-- 188 -->\n<g id=\"node189\" class=\"node\">\n<title>188</title>\n<polygon fill=\"#f0b88f\" stroke=\"#000000\" points=\"9751,-53 9633,-53 9633,0 9751,0 9751,-53\"/>\n<text text-anchor=\"middle\" x=\"9692\" y=\"-37.8\" font-family=\"Helvetica,sans-Serif\" font-size=\"14.00\" fill=\"#000000\">entropy = 0.884</text>\n<text text-anchor=\"middle\" x=\"9692\" y=\"-22.8\" font-family=\"Helvetica,sans-Serif\" font-size=\"14.00\" fill=\"#000000\">samples = 96</text>\n<text text-anchor=\"middle\" x=\"9692\" y=\"-7.8\" font-family=\"Helvetica,sans-Serif\" font-size=\"14.00\" fill=\"#000000\">value = [67, 29]</text>\n</g>\n<!-- 186&#45;&gt;188 -->\n<g id=\"edge188\" class=\"edge\">\n<title>186&#45;&gt;188</title>\n<path fill=\"none\" stroke=\"#000000\" d=\"M9562.0234,-92.8637C9583.9181,-81.6847 9608.785,-68.9881 9630.8642,-57.7148\"/>\n<polygon fill=\"#000000\" stroke=\"#000000\" points=\"9632.5018,-60.8086 9639.8164,-53.144 9629.3186,-54.5742 9632.5018,-60.8086\"/>\n</g>\n<!-- 192 -->\n<g id=\"node193\" class=\"node\">\n<title>192</title>\n<polygon fill=\"#4ea7e8\" stroke=\"#000000\" points=\"10041,-365 9901,-365 9901,-297 10041,-297 10041,-365\"/>\n<text text-anchor=\"middle\" x=\"9971\" y=\"-349.8\" font-family=\"Helvetica,sans-Serif\" font-size=\"14.00\" fill=\"#000000\">X[13] &lt;= &#45;0.507</text>\n<text text-anchor=\"middle\" x=\"9971\" y=\"-334.8\" font-family=\"Helvetica,sans-Serif\" font-size=\"14.00\" fill=\"#000000\">entropy = 0.454</text>\n<text text-anchor=\"middle\" x=\"9971\" y=\"-319.8\" font-family=\"Helvetica,sans-Serif\" font-size=\"14.00\" fill=\"#000000\">samples = 3012</text>\n<text text-anchor=\"middle\" x=\"9971\" y=\"-304.8\" font-family=\"Helvetica,sans-Serif\" font-size=\"14.00\" fill=\"#000000\">value = [287, 2725]</text>\n</g>\n<!-- 191&#45;&gt;192 -->\n<g id=\"edge192\" class=\"edge\">\n<title>191&#45;&gt;192</title>\n<path fill=\"none\" stroke=\"#000000\" d=\"M9971,-400.9465C9971,-392.776 9971,-383.9318 9971,-375.3697\"/>\n<polygon fill=\"#000000\" stroke=\"#000000\" points=\"9974.5001,-375.13 9971,-365.13 9967.5001,-375.13 9974.5001,-375.13\"/>\n</g>\n<!-- 203 -->\n<g id=\"node204\" class=\"node\">\n<title>203</title>\n<polygon fill=\"#73baed\" stroke=\"#000000\" points=\"10572,-365 10440,-365 10440,-297 10572,-297 10572,-365\"/>\n<text text-anchor=\"middle\" x=\"10506\" y=\"-349.8\" font-family=\"Helvetica,sans-Serif\" font-size=\"14.00\" fill=\"#000000\">X[10] &lt;= &#45;0.788</text>\n<text text-anchor=\"middle\" x=\"10506\" y=\"-334.8\" font-family=\"Helvetica,sans-Serif\" font-size=\"14.00\" fill=\"#000000\">entropy = 0.772</text>\n<text text-anchor=\"middle\" x=\"10506\" y=\"-319.8\" font-family=\"Helvetica,sans-Serif\" font-size=\"14.00\" fill=\"#000000\">samples = 941</text>\n<text text-anchor=\"middle\" x=\"10506\" y=\"-304.8\" font-family=\"Helvetica,sans-Serif\" font-size=\"14.00\" fill=\"#000000\">value = [213, 728]</text>\n</g>\n<!-- 191&#45;&gt;203 -->\n<g id=\"edge203\" class=\"edge\">\n<title>191&#45;&gt;203</title>\n<path fill=\"none\" stroke=\"#000000\" d=\"M10041.2168,-421.3504C10141.7678,-401.804 10326.0569,-365.9796 10429.8097,-345.8108\"/>\n<polygon fill=\"#000000\" stroke=\"#000000\" points=\"10430.7521,-349.1932 10439.9005,-343.8493 10429.4163,-342.3218 10430.7521,-349.1932\"/>\n</g>\n<!-- 193 -->\n<g id=\"node194\" class=\"node\">\n<title>193</title>\n<polygon fill=\"#e78845\" stroke=\"#000000\" points=\"9932,-261 9816,-261 9816,-193 9932,-193 9932,-261\"/>\n<text text-anchor=\"middle\" x=\"9874\" y=\"-245.8\" font-family=\"Helvetica,sans-Serif\" font-size=\"14.00\" fill=\"#000000\">X[11] &lt;= &#45;0.843</text>\n<text text-anchor=\"middle\" x=\"9874\" y=\"-230.8\" font-family=\"Helvetica,sans-Serif\" font-size=\"14.00\" fill=\"#000000\">entropy = 0.31</text>\n<text text-anchor=\"middle\" x=\"9874\" y=\"-215.8\" font-family=\"Helvetica,sans-Serif\" font-size=\"14.00\" fill=\"#000000\">samples = 18</text>\n<text text-anchor=\"middle\" x=\"9874\" y=\"-200.8\" font-family=\"Helvetica,sans-Serif\" font-size=\"14.00\" fill=\"#000000\">value = [17, 1]</text>\n</g>\n<!-- 192&#45;&gt;193 -->\n<g id=\"edge193\" class=\"edge\">\n<title>192&#45;&gt;193</title>\n<path fill=\"none\" stroke=\"#000000\" d=\"M9939.2386,-296.9465C9930.7806,-287.8782 9921.5486,-277.9799 9912.7613,-268.5585\"/>\n<polygon fill=\"#000000\" stroke=\"#000000\" points=\"9915.213,-266.0557 9905.8328,-261.13 9910.094,-270.8302 9915.213,-266.0557\"/>\n</g>\n<!-- 196 -->\n<g id=\"node197\" class=\"node\">\n<title>196</title>\n<polygon fill=\"#4da7e8\" stroke=\"#000000\" points=\"10090,-261 9950,-261 9950,-193 10090,-193 10090,-261\"/>\n<text text-anchor=\"middle\" x=\"10020\" y=\"-245.8\" font-family=\"Helvetica,sans-Serif\" font-size=\"14.00\" fill=\"#000000\">X[2] &lt;= 0.112</text>\n<text text-anchor=\"middle\" x=\"10020\" y=\"-230.8\" font-family=\"Helvetica,sans-Serif\" font-size=\"14.00\" fill=\"#000000\">entropy = 0.437</text>\n<text text-anchor=\"middle\" x=\"10020\" y=\"-215.8\" font-family=\"Helvetica,sans-Serif\" font-size=\"14.00\" fill=\"#000000\">samples = 2994</text>\n<text text-anchor=\"middle\" x=\"10020\" y=\"-200.8\" font-family=\"Helvetica,sans-Serif\" font-size=\"14.00\" fill=\"#000000\">value = [270, 2724]</text>\n</g>\n<!-- 192&#45;&gt;196 -->\n<g id=\"edge196\" class=\"edge\">\n<title>192&#45;&gt;196</title>\n<path fill=\"none\" stroke=\"#000000\" d=\"M9987.0444,-296.9465C9991.0632,-288.4169 9995.4279,-279.153 9999.6262,-270.2424\"/>\n<polygon fill=\"#000000\" stroke=\"#000000\" points=\"10002.8235,-271.668 10003.9195,-261.13 9996.4911,-268.6844 10002.8235,-271.668\"/>\n</g>\n<!-- 194 -->\n<g id=\"node195\" class=\"node\">\n<title>194</title>\n<polygon fill=\"#e58139\" stroke=\"#000000\" points=\"9812.5,-149.5 9705.5,-149.5 9705.5,-96.5 9812.5,-96.5 9812.5,-149.5\"/>\n<text text-anchor=\"middle\" x=\"9759\" y=\"-134.3\" font-family=\"Helvetica,sans-Serif\" font-size=\"14.00\" fill=\"#000000\">entropy = 0.0</text>\n<text text-anchor=\"middle\" x=\"9759\" y=\"-119.3\" font-family=\"Helvetica,sans-Serif\" font-size=\"14.00\" fill=\"#000000\">samples = 17</text>\n<text text-anchor=\"middle\" x=\"9759\" y=\"-104.3\" font-family=\"Helvetica,sans-Serif\" font-size=\"14.00\" fill=\"#000000\">value = [17, 0]</text>\n</g>\n<!-- 193&#45;&gt;194 -->\n<g id=\"edge194\" class=\"edge\">\n<title>193&#45;&gt;194</title>\n<path fill=\"none\" stroke=\"#000000\" d=\"M9836.3447,-192.9465C9823.3122,-181.1606 9808.7294,-167.9726 9795.7689,-156.2519\"/>\n<polygon fill=\"#000000\" stroke=\"#000000\" points=\"9798.114,-153.6537 9788.3495,-149.5422 9793.4188,-158.8456 9798.114,-153.6537\"/>\n</g>\n<!-- 195 -->\n<g id=\"node196\" class=\"node\">\n<title>195</title>\n<polygon fill=\"#399de5\" stroke=\"#000000\" points=\"9931.5,-149.5 9830.5,-149.5 9830.5,-96.5 9931.5,-96.5 9931.5,-149.5\"/>\n<text text-anchor=\"middle\" x=\"9881\" y=\"-134.3\" font-family=\"Helvetica,sans-Serif\" font-size=\"14.00\" fill=\"#000000\">entropy = 0.0</text>\n<text text-anchor=\"middle\" x=\"9881\" y=\"-119.3\" font-family=\"Helvetica,sans-Serif\" font-size=\"14.00\" fill=\"#000000\">samples = 1</text>\n<text text-anchor=\"middle\" x=\"9881\" y=\"-104.3\" font-family=\"Helvetica,sans-Serif\" font-size=\"14.00\" fill=\"#000000\">value = [0, 1]</text>\n</g>\n<!-- 193&#45;&gt;195 -->\n<g id=\"edge195\" class=\"edge\">\n<title>193&#45;&gt;195</title>\n<path fill=\"none\" stroke=\"#000000\" d=\"M9876.2921,-192.9465C9877.0112,-182.2621 9877.8079,-170.4254 9878.5383,-159.5742\"/>\n<polygon fill=\"#000000\" stroke=\"#000000\" points=\"9882.034,-159.7547 9879.2135,-149.5422 9875.0498,-159.2845 9882.034,-159.7547\"/>\n</g>\n<!-- 197 -->\n<g id=\"node198\" class=\"node\">\n<title>197</title>\n<polygon fill=\"#3d9fe6\" stroke=\"#000000\" points=\"10074,-157 9950,-157 9950,-89 10074,-89 10074,-157\"/>\n<text text-anchor=\"middle\" x=\"10012\" y=\"-141.8\" font-family=\"Helvetica,sans-Serif\" font-size=\"14.00\" fill=\"#000000\">X[11] &lt;= &#45;0.944</text>\n<text text-anchor=\"middle\" x=\"10012\" y=\"-126.8\" font-family=\"Helvetica,sans-Serif\" font-size=\"14.00\" fill=\"#000000\">entropy = 0.146</text>\n<text text-anchor=\"middle\" x=\"10012\" y=\"-111.8\" font-family=\"Helvetica,sans-Serif\" font-size=\"14.00\" fill=\"#000000\">samples = 627</text>\n<text text-anchor=\"middle\" x=\"10012\" y=\"-96.8\" font-family=\"Helvetica,sans-Serif\" font-size=\"14.00\" fill=\"#000000\">value = [13, 614]</text>\n</g>\n<!-- 196&#45;&gt;197 -->\n<g id=\"edge197\" class=\"edge\">\n<title>196&#45;&gt;197</title>\n<path fill=\"none\" stroke=\"#000000\" d=\"M10017.3805,-192.9465C10016.752,-184.776 10016.0717,-175.9318 10015.4131,-167.3697\"/>\n<polygon fill=\"#000000\" stroke=\"#000000\" points=\"10018.8821,-166.8321 10014.6254,-157.13 10011.9027,-167.369 10018.8821,-166.8321\"/>\n</g>\n<!-- 200 -->\n<g id=\"node201\" class=\"node\">\n<title>200</title>\n<polygon fill=\"#51a9e8\" stroke=\"#000000\" points=\"10232,-157 10092,-157 10092,-89 10232,-89 10232,-157\"/>\n<text text-anchor=\"middle\" x=\"10162\" y=\"-141.8\" font-family=\"Helvetica,sans-Serif\" font-size=\"14.00\" fill=\"#000000\">X[1] &lt;= 0.502</text>\n<text text-anchor=\"middle\" x=\"10162\" y=\"-126.8\" font-family=\"Helvetica,sans-Serif\" font-size=\"14.00\" fill=\"#000000\">entropy = 0.496</text>\n<text text-anchor=\"middle\" x=\"10162\" y=\"-111.8\" font-family=\"Helvetica,sans-Serif\" font-size=\"14.00\" fill=\"#000000\">samples = 2367</text>\n<text text-anchor=\"middle\" x=\"10162\" y=\"-96.8\" font-family=\"Helvetica,sans-Serif\" font-size=\"14.00\" fill=\"#000000\">value = [257, 2110]</text>\n</g>\n<!-- 196&#45;&gt;200 -->\n<g id=\"edge200\" class=\"edge\">\n<title>196&#45;&gt;200</title>\n<path fill=\"none\" stroke=\"#000000\" d=\"M10066.4961,-192.9465C10079.4908,-183.4293 10093.7337,-172.9978 10107.1621,-163.163\"/>\n<polygon fill=\"#000000\" stroke=\"#000000\" points=\"10109.3998,-165.8624 10115.3994,-157.13 10105.2637,-160.2151 10109.3998,-165.8624\"/>\n</g>\n<!-- 198 -->\n<g id=\"node199\" class=\"node\">\n<title>198</title>\n<polygon fill=\"#e58139\" stroke=\"#000000\" points=\"9870.5,-53 9769.5,-53 9769.5,0 9870.5,0 9870.5,-53\"/>\n<text text-anchor=\"middle\" x=\"9820\" y=\"-37.8\" font-family=\"Helvetica,sans-Serif\" font-size=\"14.00\" fill=\"#000000\">entropy = 0.0</text>\n<text text-anchor=\"middle\" x=\"9820\" y=\"-22.8\" font-family=\"Helvetica,sans-Serif\" font-size=\"14.00\" fill=\"#000000\">samples = 2</text>\n<text text-anchor=\"middle\" x=\"9820\" y=\"-7.8\" font-family=\"Helvetica,sans-Serif\" font-size=\"14.00\" fill=\"#000000\">value = [2, 0]</text>\n</g>\n<!-- 197&#45;&gt;198 -->\n<g id=\"edge198\" class=\"edge\">\n<title>197&#45;&gt;198</title>\n<path fill=\"none\" stroke=\"#000000\" d=\"M9949.9283,-91.8025C9927.3954,-80.4774 9902.0005,-67.7138 9879.6787,-56.4948\"/>\n<polygon fill=\"#000000\" stroke=\"#000000\" points=\"9881.1496,-53.3169 9870.6429,-51.9533 9878.0061,-59.5714 9881.1496,-53.3169\"/>\n</g>\n<!-- 199 -->\n<g id=\"node200\" class=\"node\">\n<title>199</title>\n<polygon fill=\"#3d9fe5\" stroke=\"#000000\" points=\"10013,-53 9889,-53 9889,0 10013,0 10013,-53\"/>\n<text text-anchor=\"middle\" x=\"9951\" y=\"-37.8\" font-family=\"Helvetica,sans-Serif\" font-size=\"14.00\" fill=\"#000000\">entropy = 0.128</text>\n<text text-anchor=\"middle\" x=\"9951\" y=\"-22.8\" font-family=\"Helvetica,sans-Serif\" font-size=\"14.00\" fill=\"#000000\">samples = 625</text>\n<text text-anchor=\"middle\" x=\"9951\" y=\"-7.8\" font-family=\"Helvetica,sans-Serif\" font-size=\"14.00\" fill=\"#000000\">value = [11, 614]</text>\n</g>\n<!-- 197&#45;&gt;199 -->\n<g id=\"edge199\" class=\"edge\">\n<title>197&#45;&gt;199</title>\n<path fill=\"none\" stroke=\"#000000\" d=\"M9990.4937,-88.9777C9984.9369,-80.187 9978.9427,-70.7044 9973.3441,-61.8477\"/>\n<polygon fill=\"#000000\" stroke=\"#000000\" points=\"9976.2101,-59.8312 9967.9084,-53.2485 9970.2931,-63.5714 9976.2101,-59.8312\"/>\n</g>\n<!-- 201 -->\n<g id=\"node202\" class=\"node\">\n<title>201</title>\n<polygon fill=\"#8cc6f0\" stroke=\"#000000\" points=\"10149,-53 10031,-53 10031,0 10149,0 10149,-53\"/>\n<text text-anchor=\"middle\" x=\"10090\" y=\"-37.8\" font-family=\"Helvetica,sans-Serif\" font-size=\"14.00\" fill=\"#000000\">entropy = 0.876</text>\n<text text-anchor=\"middle\" x=\"10090\" y=\"-22.8\" font-family=\"Helvetica,sans-Serif\" font-size=\"14.00\" fill=\"#000000\">samples = 132</text>\n<text text-anchor=\"middle\" x=\"10090\" y=\"-7.8\" font-family=\"Helvetica,sans-Serif\" font-size=\"14.00\" fill=\"#000000\">value = [39, 93]</text>\n</g>\n<!-- 200&#45;&gt;201 -->\n<g id=\"edge201\" class=\"edge\">\n<title>200&#45;&gt;201</title>\n<path fill=\"none\" stroke=\"#000000\" d=\"M10136.6155,-88.9777C10129.92,-80.0039 10122.6865,-70.3089 10115.961,-61.295\"/>\n<polygon fill=\"#000000\" stroke=\"#000000\" points=\"10118.7427,-59.1704 10109.9574,-53.2485 10113.1323,-63.3565 10118.7427,-59.1704\"/>\n</g>\n<!-- 202 -->\n<g id=\"node203\" class=\"node\">\n<title>202</title>\n<polygon fill=\"#4ea8e8\" stroke=\"#000000\" points=\"10307,-53 10167,-53 10167,0 10307,0 10307,-53\"/>\n<text text-anchor=\"middle\" x=\"10237\" y=\"-37.8\" font-family=\"Helvetica,sans-Serif\" font-size=\"14.00\" fill=\"#000000\">entropy = 0.461</text>\n<text text-anchor=\"middle\" x=\"10237\" y=\"-22.8\" font-family=\"Helvetica,sans-Serif\" font-size=\"14.00\" fill=\"#000000\">samples = 2235</text>\n<text text-anchor=\"middle\" x=\"10237\" y=\"-7.8\" font-family=\"Helvetica,sans-Serif\" font-size=\"14.00\" fill=\"#000000\">value = [218, 2017]</text>\n</g>\n<!-- 200&#45;&gt;202 -->\n<g id=\"edge202\" class=\"edge\">\n<title>200&#45;&gt;202</title>\n<path fill=\"none\" stroke=\"#000000\" d=\"M10188.4422,-88.9777C10195.4167,-80.0039 10202.9516,-70.3089 10209.9573,-61.295\"/>\n<polygon fill=\"#000000\" stroke=\"#000000\" points=\"10212.8379,-63.292 10216.211,-53.2485 10207.3109,-58.9964 10212.8379,-63.292\"/>\n</g>\n<!-- 204 -->\n<g id=\"node205\" class=\"node\">\n<title>204</title>\n<polygon fill=\"#edaa79\" stroke=\"#000000\" points=\"10565,-261 10447,-261 10447,-193 10565,-193 10565,-261\"/>\n<text text-anchor=\"middle\" x=\"10506\" y=\"-245.8\" font-family=\"Helvetica,sans-Serif\" font-size=\"14.00\" fill=\"#000000\">X[3] &lt;= &#45;0.045</text>\n<text text-anchor=\"middle\" x=\"10506\" y=\"-230.8\" font-family=\"Helvetica,sans-Serif\" font-size=\"14.00\" fill=\"#000000\">entropy = 0.803</text>\n<text text-anchor=\"middle\" x=\"10506\" y=\"-215.8\" font-family=\"Helvetica,sans-Serif\" font-size=\"14.00\" fill=\"#000000\">samples = 102</text>\n<text text-anchor=\"middle\" x=\"10506\" y=\"-200.8\" font-family=\"Helvetica,sans-Serif\" font-size=\"14.00\" fill=\"#000000\">value = [77, 25]</text>\n</g>\n<!-- 203&#45;&gt;204 -->\n<g id=\"edge204\" class=\"edge\">\n<title>203&#45;&gt;204</title>\n<path fill=\"none\" stroke=\"#000000\" d=\"M10506,-296.9465C10506,-288.776 10506,-279.9318 10506,-271.3697\"/>\n<polygon fill=\"#000000\" stroke=\"#000000\" points=\"10509.5001,-271.13 10506,-261.13 10502.5001,-271.13 10509.5001,-271.13\"/>\n</g>\n<!-- 209 -->\n<g id=\"node210\" class=\"node\">\n<title>209</title>\n<polygon fill=\"#5fb0ea\" stroke=\"#000000\" points=\"10775,-261 10643,-261 10643,-193 10775,-193 10775,-261\"/>\n<text text-anchor=\"middle\" x=\"10709\" y=\"-245.8\" font-family=\"Helvetica,sans-Serif\" font-size=\"14.00\" fill=\"#000000\">X[11] &lt;= &#45;1.008</text>\n<text text-anchor=\"middle\" x=\"10709\" y=\"-230.8\" font-family=\"Helvetica,sans-Serif\" font-size=\"14.00\" fill=\"#000000\">entropy = 0.639</text>\n<text text-anchor=\"middle\" x=\"10709\" y=\"-215.8\" font-family=\"Helvetica,sans-Serif\" font-size=\"14.00\" fill=\"#000000\">samples = 839</text>\n<text text-anchor=\"middle\" x=\"10709\" y=\"-200.8\" font-family=\"Helvetica,sans-Serif\" font-size=\"14.00\" fill=\"#000000\">value = [136, 703]</text>\n</g>\n<!-- 203&#45;&gt;209 -->\n<g id=\"edge209\" class=\"edge\">\n<title>203&#45;&gt;209</title>\n<path fill=\"none\" stroke=\"#000000\" d=\"M10572.1889,-297.0904C10591.8546,-287.0154 10613.5406,-275.9053 10633.7383,-265.5577\"/>\n<polygon fill=\"#000000\" stroke=\"#000000\" points=\"10635.5969,-268.5382 10642.901,-260.8635 10632.4051,-262.3082 10635.5969,-268.5382\"/>\n</g>\n<!-- 205 -->\n<g id=\"node206\" class=\"node\">\n<title>205</title>\n<polygon fill=\"#f3c7a7\" stroke=\"#000000\" points=\"10503,-157 10387,-157 10387,-89 10503,-89 10503,-157\"/>\n<text text-anchor=\"middle\" x=\"10445\" y=\"-141.8\" font-family=\"Helvetica,sans-Serif\" font-size=\"14.00\" fill=\"#000000\">X[0] &lt;= &#45;0.226</text>\n<text text-anchor=\"middle\" x=\"10445\" y=\"-126.8\" font-family=\"Helvetica,sans-Serif\" font-size=\"14.00\" fill=\"#000000\">entropy = 0.94</text>\n<text text-anchor=\"middle\" x=\"10445\" y=\"-111.8\" font-family=\"Helvetica,sans-Serif\" font-size=\"14.00\" fill=\"#000000\">samples = 70</text>\n<text text-anchor=\"middle\" x=\"10445\" y=\"-96.8\" font-family=\"Helvetica,sans-Serif\" font-size=\"14.00\" fill=\"#000000\">value = [45, 25]</text>\n</g>\n<!-- 204&#45;&gt;205 -->\n<g id=\"edge205\" class=\"edge\">\n<title>204&#45;&gt;205</title>\n<path fill=\"none\" stroke=\"#000000\" d=\"M10486.0263,-192.9465C10480.9707,-184.3271 10475.4753,-174.9579 10470.1983,-165.9611\"/>\n<polygon fill=\"#000000\" stroke=\"#000000\" points=\"10473.0969,-163.985 10465.0186,-157.13 10467.0589,-167.5265 10473.0969,-163.985\"/>\n</g>\n<!-- 208 -->\n<g id=\"node209\" class=\"node\">\n<title>208</title>\n<polygon fill=\"#e58139\" stroke=\"#000000\" points=\"10628.5,-149.5 10521.5,-149.5 10521.5,-96.5 10628.5,-96.5 10628.5,-149.5\"/>\n<text text-anchor=\"middle\" x=\"10575\" y=\"-134.3\" font-family=\"Helvetica,sans-Serif\" font-size=\"14.00\" fill=\"#000000\">entropy = 0.0</text>\n<text text-anchor=\"middle\" x=\"10575\" y=\"-119.3\" font-family=\"Helvetica,sans-Serif\" font-size=\"14.00\" fill=\"#000000\">samples = 32</text>\n<text text-anchor=\"middle\" x=\"10575\" y=\"-104.3\" font-family=\"Helvetica,sans-Serif\" font-size=\"14.00\" fill=\"#000000\">value = [32, 0]</text>\n</g>\n<!-- 204&#45;&gt;208 -->\n<g id=\"edge208\" class=\"edge\">\n<title>204&#45;&gt;208</title>\n<path fill=\"none\" stroke=\"#000000\" d=\"M10528.5932,-192.9465C10536.0473,-181.7113 10544.3467,-169.2021 10551.8423,-157.9043\"/>\n<polygon fill=\"#000000\" stroke=\"#000000\" points=\"10554.7782,-159.81 10557.3903,-149.5422 10548.9453,-155.94 10554.7782,-159.81\"/>\n</g>\n<!-- 206 -->\n<g id=\"node207\" class=\"node\">\n<title>206</title>\n<polygon fill=\"#e58139\" stroke=\"#000000\" points=\"10432.5,-53 10325.5,-53 10325.5,0 10432.5,0 10432.5,-53\"/>\n<text text-anchor=\"middle\" x=\"10379\" y=\"-37.8\" font-family=\"Helvetica,sans-Serif\" font-size=\"14.00\" fill=\"#000000\">entropy = 0.0</text>\n<text text-anchor=\"middle\" x=\"10379\" y=\"-22.8\" font-family=\"Helvetica,sans-Serif\" font-size=\"14.00\" fill=\"#000000\">samples = 11</text>\n<text text-anchor=\"middle\" x=\"10379\" y=\"-7.8\" font-family=\"Helvetica,sans-Serif\" font-size=\"14.00\" fill=\"#000000\">value = [11, 0]</text>\n</g>\n<!-- 205&#45;&gt;206 -->\n<g id=\"edge206\" class=\"edge\">\n<title>205&#45;&gt;206</title>\n<path fill=\"none\" stroke=\"#000000\" d=\"M10421.7309,-88.9777C10415.656,-80.0954 10409.0979,-70.5067 10402.9865,-61.5711\"/>\n<polygon fill=\"#000000\" stroke=\"#000000\" points=\"10405.8286,-59.5267 10397.2943,-53.2485 10400.0507,-63.4785 10405.8286,-59.5267\"/>\n</g>\n<!-- 207 -->\n<g id=\"node208\" class=\"node\">\n<title>207</title>\n<polygon fill=\"#f8decb\" stroke=\"#000000\" points=\"10569,-53 10451,-53 10451,0 10569,0 10569,-53\"/>\n<text text-anchor=\"middle\" x=\"10510\" y=\"-37.8\" font-family=\"Helvetica,sans-Serif\" font-size=\"14.00\" fill=\"#000000\">entropy = 0.983</text>\n<text text-anchor=\"middle\" x=\"10510\" y=\"-22.8\" font-family=\"Helvetica,sans-Serif\" font-size=\"14.00\" fill=\"#000000\">samples = 59</text>\n<text text-anchor=\"middle\" x=\"10510\" y=\"-7.8\" font-family=\"Helvetica,sans-Serif\" font-size=\"14.00\" fill=\"#000000\">value = [34, 25]</text>\n</g>\n<!-- 205&#45;&gt;207 -->\n<g id=\"edge207\" class=\"edge\">\n<title>205&#45;&gt;207</title>\n<path fill=\"none\" stroke=\"#000000\" d=\"M10467.9166,-88.9777C10473.8994,-80.0954 10480.3582,-70.5067 10486.377,-61.5711\"/>\n<polygon fill=\"#000000\" stroke=\"#000000\" points=\"10489.2991,-63.4978 10491.9829,-53.2485 10483.4933,-59.5871 10489.2991,-63.4978\"/>\n</g>\n<!-- 210 -->\n<g id=\"node211\" class=\"node\">\n<title>210</title>\n<polygon fill=\"#eca572\" stroke=\"#000000\" points=\"10768,-157 10650,-157 10650,-89 10768,-89 10768,-157\"/>\n<text text-anchor=\"middle\" x=\"10709\" y=\"-141.8\" font-family=\"Helvetica,sans-Serif\" font-size=\"14.00\" fill=\"#000000\">X[6] &lt;= &#45;0.549</text>\n<text text-anchor=\"middle\" x=\"10709\" y=\"-126.8\" font-family=\"Helvetica,sans-Serif\" font-size=\"14.00\" fill=\"#000000\">entropy = 0.764</text>\n<text text-anchor=\"middle\" x=\"10709\" y=\"-111.8\" font-family=\"Helvetica,sans-Serif\" font-size=\"14.00\" fill=\"#000000\">samples = 18</text>\n<text text-anchor=\"middle\" x=\"10709\" y=\"-96.8\" font-family=\"Helvetica,sans-Serif\" font-size=\"14.00\" fill=\"#000000\">value = [14, 4]</text>\n</g>\n<!-- 209&#45;&gt;210 -->\n<g id=\"edge210\" class=\"edge\">\n<title>209&#45;&gt;210</title>\n<path fill=\"none\" stroke=\"#000000\" d=\"M10709,-192.9465C10709,-184.776 10709,-175.9318 10709,-167.3697\"/>\n<polygon fill=\"#000000\" stroke=\"#000000\" points=\"10712.5001,-167.13 10709,-157.13 10705.5001,-167.13 10712.5001,-167.13\"/>\n</g>\n<!-- 213 -->\n<g id=\"node214\" class=\"node\">\n<title>213</title>\n<polygon fill=\"#5caeea\" stroke=\"#000000\" points=\"10981,-157 10849,-157 10849,-89 10981,-89 10981,-157\"/>\n<text text-anchor=\"middle\" x=\"10915\" y=\"-141.8\" font-family=\"Helvetica,sans-Serif\" font-size=\"14.00\" fill=\"#000000\">X[13] &lt;= &#45;0.477</text>\n<text text-anchor=\"middle\" x=\"10915\" y=\"-126.8\" font-family=\"Helvetica,sans-Serif\" font-size=\"14.00\" fill=\"#000000\">entropy = 0.606</text>\n<text text-anchor=\"middle\" x=\"10915\" y=\"-111.8\" font-family=\"Helvetica,sans-Serif\" font-size=\"14.00\" fill=\"#000000\">samples = 821</text>\n<text text-anchor=\"middle\" x=\"10915\" y=\"-96.8\" font-family=\"Helvetica,sans-Serif\" font-size=\"14.00\" fill=\"#000000\">value = [122, 699]</text>\n</g>\n<!-- 209&#45;&gt;213 -->\n<g id=\"edge213\" class=\"edge\">\n<title>209&#45;&gt;213</title>\n<path fill=\"none\" stroke=\"#000000\" d=\"M10775.0297,-193.6646C10795.7274,-183.2153 10818.7215,-171.6066 10839.9921,-160.8681\"/>\n<polygon fill=\"#000000\" stroke=\"#000000\" points=\"10841.6413,-163.9563 10848.9908,-156.325 10838.4865,-157.7074 10841.6413,-163.9563\"/>\n</g>\n<!-- 211 -->\n<g id=\"node212\" class=\"node\">\n<title>211</title>\n<polygon fill=\"#6ab6ec\" stroke=\"#000000\" points=\"10705,-53 10587,-53 10587,0 10705,0 10705,-53\"/>\n<text text-anchor=\"middle\" x=\"10646\" y=\"-37.8\" font-family=\"Helvetica,sans-Serif\" font-size=\"14.00\" fill=\"#000000\">entropy = 0.722</text>\n<text text-anchor=\"middle\" x=\"10646\" y=\"-22.8\" font-family=\"Helvetica,sans-Serif\" font-size=\"14.00\" fill=\"#000000\">samples = 5</text>\n<text text-anchor=\"middle\" x=\"10646\" y=\"-7.8\" font-family=\"Helvetica,sans-Serif\" font-size=\"14.00\" fill=\"#000000\">value = [1, 4]</text>\n</g>\n<!-- 210&#45;&gt;211 -->\n<g id=\"edge211\" class=\"edge\">\n<title>210&#45;&gt;211</title>\n<path fill=\"none\" stroke=\"#000000\" d=\"M10686.7886,-88.9777C10681.0496,-80.187 10674.8588,-70.7044 10669.0767,-61.8477\"/>\n<polygon fill=\"#000000\" stroke=\"#000000\" points=\"10671.8602,-59.7087 10663.4627,-53.2485 10665.9987,-63.5354 10671.8602,-59.7087\"/>\n</g>\n<!-- 212 -->\n<g id=\"node213\" class=\"node\">\n<title>212</title>\n<polygon fill=\"#e58139\" stroke=\"#000000\" points=\"10830.5,-53 10723.5,-53 10723.5,0 10830.5,0 10830.5,-53\"/>\n<text text-anchor=\"middle\" x=\"10777\" y=\"-37.8\" font-family=\"Helvetica,sans-Serif\" font-size=\"14.00\" fill=\"#000000\">entropy = 0.0</text>\n<text text-anchor=\"middle\" x=\"10777\" y=\"-22.8\" font-family=\"Helvetica,sans-Serif\" font-size=\"14.00\" fill=\"#000000\">samples = 13</text>\n<text text-anchor=\"middle\" x=\"10777\" y=\"-7.8\" font-family=\"Helvetica,sans-Serif\" font-size=\"14.00\" fill=\"#000000\">value = [13, 0]</text>\n</g>\n<!-- 210&#45;&gt;212 -->\n<g id=\"edge212\" class=\"edge\">\n<title>210&#45;&gt;212</title>\n<path fill=\"none\" stroke=\"#000000\" d=\"M10732.9743,-88.9777C10739.2333,-80.0954 10745.9901,-70.5067 10752.2867,-61.5711\"/>\n<polygon fill=\"#000000\" stroke=\"#000000\" points=\"10755.2521,-63.4389 10758.1513,-53.2485 10749.5301,-59.4068 10755.2521,-63.4389\"/>\n</g>\n<!-- 214 -->\n<g id=\"node215\" class=\"node\">\n<title>214</title>\n<polygon fill=\"#57ace9\" stroke=\"#000000\" points=\"10981,-53 10849,-53 10849,0 10981,0 10981,-53\"/>\n<text text-anchor=\"middle\" x=\"10915\" y=\"-37.8\" font-family=\"Helvetica,sans-Serif\" font-size=\"14.00\" fill=\"#000000\">entropy = 0.566</text>\n<text text-anchor=\"middle\" x=\"10915\" y=\"-22.8\" font-family=\"Helvetica,sans-Serif\" font-size=\"14.00\" fill=\"#000000\">samples = 788</text>\n<text text-anchor=\"middle\" x=\"10915\" y=\"-7.8\" font-family=\"Helvetica,sans-Serif\" font-size=\"14.00\" fill=\"#000000\">value = [105, 683]</text>\n</g>\n<!-- 213&#45;&gt;214 -->\n<g id=\"edge214\" class=\"edge\">\n<title>213&#45;&gt;214</title>\n<path fill=\"none\" stroke=\"#000000\" d=\"M10915,-88.9777C10915,-80.7364 10915,-71.887 10915,-63.5153\"/>\n<polygon fill=\"#000000\" stroke=\"#000000\" points=\"10918.5001,-63.2484 10915,-53.2485 10911.5001,-63.2485 10918.5001,-63.2484\"/>\n</g>\n<!-- 215 -->\n<g id=\"node216\" class=\"node\">\n<title>215</title>\n<polygon fill=\"#fdf8f3\" stroke=\"#000000\" points=\"11117,-53 10999,-53 10999,0 11117,0 11117,-53\"/>\n<text text-anchor=\"middle\" x=\"11058\" y=\"-37.8\" font-family=\"Helvetica,sans-Serif\" font-size=\"14.00\" fill=\"#000000\">entropy = 0.999</text>\n<text text-anchor=\"middle\" x=\"11058\" y=\"-22.8\" font-family=\"Helvetica,sans-Serif\" font-size=\"14.00\" fill=\"#000000\">samples = 33</text>\n<text text-anchor=\"middle\" x=\"11058\" y=\"-7.8\" font-family=\"Helvetica,sans-Serif\" font-size=\"14.00\" fill=\"#000000\">value = [17, 16]</text>\n</g>\n<!-- 213&#45;&gt;215 -->\n<g id=\"edge215\" class=\"edge\">\n<title>213&#45;&gt;215</title>\n<path fill=\"none\" stroke=\"#000000\" d=\"M10965.4165,-88.9777C10979.8,-79.2713 10995.4337,-68.7213 11009.6885,-59.1018\"/>\n<polygon fill=\"#000000\" stroke=\"#000000\" points=\"11012.031,-61.7435 11018.3624,-53.2485 11008.1154,-55.941 11012.031,-61.7435\"/>\n</g>\n<!-- 217 -->\n<g id=\"node218\" class=\"node\">\n<title>217</title>\n<polygon fill=\"#e5823a\" stroke=\"#000000\" points=\"11365,-469 11247,-469 11247,-401 11365,-401 11365,-469\"/>\n<text text-anchor=\"middle\" x=\"11306\" y=\"-453.8\" font-family=\"Helvetica,sans-Serif\" font-size=\"14.00\" fill=\"#000000\">X[10] &lt;= &#45;0.744</text>\n<text text-anchor=\"middle\" x=\"11306\" y=\"-438.8\" font-family=\"Helvetica,sans-Serif\" font-size=\"14.00\" fill=\"#000000\">entropy = 0.063</text>\n<text text-anchor=\"middle\" x=\"11306\" y=\"-423.8\" font-family=\"Helvetica,sans-Serif\" font-size=\"14.00\" fill=\"#000000\">samples = 539</text>\n<text text-anchor=\"middle\" x=\"11306\" y=\"-408.8\" font-family=\"Helvetica,sans-Serif\" font-size=\"14.00\" fill=\"#000000\">value = [535, 4]</text>\n</g>\n<!-- 216&#45;&gt;217 -->\n<g id=\"edge217\" class=\"edge\">\n<title>216&#45;&gt;217</title>\n<path fill=\"none\" stroke=\"#000000\" d=\"M11306,-504.9465C11306,-496.776 11306,-487.9318 11306,-479.3697\"/>\n<polygon fill=\"#000000\" stroke=\"#000000\" points=\"11309.5001,-479.13 11306,-469.13 11302.5001,-479.13 11309.5001,-479.13\"/>\n</g>\n<!-- 226 -->\n<g id=\"node227\" class=\"node\">\n<title>226</title>\n<polygon fill=\"#e3f1fb\" stroke=\"#000000\" points=\"11839,-469 11707,-469 11707,-401 11839,-401 11839,-469\"/>\n<text text-anchor=\"middle\" x=\"11773\" y=\"-453.8\" font-family=\"Helvetica,sans-Serif\" font-size=\"14.00\" fill=\"#000000\">X[0] &lt;= 0.89</text>\n<text text-anchor=\"middle\" x=\"11773\" y=\"-438.8\" font-family=\"Helvetica,sans-Serif\" font-size=\"14.00\" fill=\"#000000\">entropy = 0.996</text>\n<text text-anchor=\"middle\" x=\"11773\" y=\"-423.8\" font-family=\"Helvetica,sans-Serif\" font-size=\"14.00\" fill=\"#000000\">samples = 945</text>\n<text text-anchor=\"middle\" x=\"11773\" y=\"-408.8\" font-family=\"Helvetica,sans-Serif\" font-size=\"14.00\" fill=\"#000000\">value = [436, 509]</text>\n</g>\n<!-- 216&#45;&gt;226 -->\n<g id=\"edge226\" class=\"edge\">\n<title>216&#45;&gt;226</title>\n<path fill=\"none\" stroke=\"#000000\" d=\"M11372.4138,-524.2098C11458.0933,-505.1291 11606.8026,-472.0118 11696.9325,-451.9401\"/>\n<polygon fill=\"#000000\" stroke=\"#000000\" points=\"11697.8153,-455.3293 11706.8153,-449.7392 11696.2936,-448.4967 11697.8153,-455.3293\"/>\n</g>\n<!-- 218 -->\n<g id=\"node219\" class=\"node\">\n<title>218</title>\n<polygon fill=\"#e58139\" stroke=\"#000000\" points=\"11297,-357.5 11181,-357.5 11181,-304.5 11297,-304.5 11297,-357.5\"/>\n<text text-anchor=\"middle\" x=\"11239\" y=\"-342.3\" font-family=\"Helvetica,sans-Serif\" font-size=\"14.00\" fill=\"#000000\">entropy = 0.0</text>\n<text text-anchor=\"middle\" x=\"11239\" y=\"-327.3\" font-family=\"Helvetica,sans-Serif\" font-size=\"14.00\" fill=\"#000000\">samples = 481</text>\n<text text-anchor=\"middle\" x=\"11239\" y=\"-312.3\" font-family=\"Helvetica,sans-Serif\" font-size=\"14.00\" fill=\"#000000\">value = [481, 0]</text>\n</g>\n<!-- 217&#45;&gt;218 -->\n<g id=\"edge218\" class=\"edge\">\n<title>217&#45;&gt;218</title>\n<path fill=\"none\" stroke=\"#000000\" d=\"M11284.0617,-400.9465C11276.8946,-389.8215 11268.9227,-377.4473 11261.7007,-366.237\"/>\n<polygon fill=\"#000000\" stroke=\"#000000\" points=\"11264.4574,-364.0532 11256.0993,-357.5422 11258.5728,-367.8442 11264.4574,-364.0532\"/>\n</g>\n<!-- 219 -->\n<g id=\"node220\" class=\"node\">\n<title>219</title>\n<polygon fill=\"#e78a48\" stroke=\"#000000\" points=\"11433,-365 11315,-365 11315,-297 11433,-297 11433,-365\"/>\n<text text-anchor=\"middle\" x=\"11374\" y=\"-349.8\" font-family=\"Helvetica,sans-Serif\" font-size=\"14.00\" fill=\"#000000\">X[3] &lt;= 0.134</text>\n<text text-anchor=\"middle\" x=\"11374\" y=\"-334.8\" font-family=\"Helvetica,sans-Serif\" font-size=\"14.00\" fill=\"#000000\">entropy = 0.362</text>\n<text text-anchor=\"middle\" x=\"11374\" y=\"-319.8\" font-family=\"Helvetica,sans-Serif\" font-size=\"14.00\" fill=\"#000000\">samples = 58</text>\n<text text-anchor=\"middle\" x=\"11374\" y=\"-304.8\" font-family=\"Helvetica,sans-Serif\" font-size=\"14.00\" fill=\"#000000\">value = [54, 4]</text>\n</g>\n<!-- 217&#45;&gt;219 -->\n<g id=\"edge219\" class=\"edge\">\n<title>217&#45;&gt;219</title>\n<path fill=\"none\" stroke=\"#000000\" d=\"M11328.2657,-400.9465C11333.9602,-392.2373 11340.1552,-382.7626 11346.0938,-373.6801\"/>\n<polygon fill=\"#000000\" stroke=\"#000000\" points=\"11349.1411,-375.4151 11351.6842,-365.13 11343.2823,-371.5843 11349.1411,-375.4151\"/>\n</g>\n<!-- 220 -->\n<g id=\"node221\" class=\"node\">\n<title>220</title>\n<polygon fill=\"#f6d5bd\" stroke=\"#000000\" points=\"11368,-261 11250,-261 11250,-193 11368,-193 11368,-261\"/>\n<text text-anchor=\"middle\" x=\"11309\" y=\"-245.8\" font-family=\"Helvetica,sans-Serif\" font-size=\"14.00\" fill=\"#000000\">X[3] &lt;= 0.115</text>\n<text text-anchor=\"middle\" x=\"11309\" y=\"-230.8\" font-family=\"Helvetica,sans-Serif\" font-size=\"14.00\" fill=\"#000000\">entropy = 0.971</text>\n<text text-anchor=\"middle\" x=\"11309\" y=\"-215.8\" font-family=\"Helvetica,sans-Serif\" font-size=\"14.00\" fill=\"#000000\">samples = 10</text>\n<text text-anchor=\"middle\" x=\"11309\" y=\"-200.8\" font-family=\"Helvetica,sans-Serif\" font-size=\"14.00\" fill=\"#000000\">value = [6, 4]</text>\n</g>\n<!-- 219&#45;&gt;220 -->\n<g id=\"edge220\" class=\"edge\">\n<title>219&#45;&gt;220</title>\n<path fill=\"none\" stroke=\"#000000\" d=\"M11352.7166,-296.9465C11347.2733,-288.2373 11341.3516,-278.7626 11335.675,-269.6801\"/>\n<polygon fill=\"#000000\" stroke=\"#000000\" points=\"11338.5993,-267.755 11330.3312,-261.13 11332.6633,-271.465 11338.5993,-267.755\"/>\n</g>\n<!-- 225 -->\n<g id=\"node226\" class=\"node\">\n<title>225</title>\n<polygon fill=\"#e58139\" stroke=\"#000000\" points=\"11493.5,-253.5 11386.5,-253.5 11386.5,-200.5 11493.5,-200.5 11493.5,-253.5\"/>\n<text text-anchor=\"middle\" x=\"11440\" y=\"-238.3\" font-family=\"Helvetica,sans-Serif\" font-size=\"14.00\" fill=\"#000000\">entropy = 0.0</text>\n<text text-anchor=\"middle\" x=\"11440\" y=\"-223.3\" font-family=\"Helvetica,sans-Serif\" font-size=\"14.00\" fill=\"#000000\">samples = 48</text>\n<text text-anchor=\"middle\" x=\"11440\" y=\"-208.3\" font-family=\"Helvetica,sans-Serif\" font-size=\"14.00\" fill=\"#000000\">value = [48, 0]</text>\n</g>\n<!-- 219&#45;&gt;225 -->\n<g id=\"edge225\" class=\"edge\">\n<title>219&#45;&gt;225</title>\n<path fill=\"none\" stroke=\"#000000\" d=\"M11395.6109,-296.9465C11402.671,-285.8215 11410.5239,-273.4473 11417.6381,-262.237\"/>\n<polygon fill=\"#000000\" stroke=\"#000000\" points=\"11420.7528,-263.8609 11423.1559,-253.5422 11414.8425,-260.1101 11420.7528,-263.8609\"/>\n</g>\n<!-- 221 -->\n<g id=\"node222\" class=\"node\">\n<title>221</title>\n<polygon fill=\"#e9965a\" stroke=\"#000000\" points=\"11304,-157 11186,-157 11186,-89 11304,-89 11304,-157\"/>\n<text text-anchor=\"middle\" x=\"11245\" y=\"-141.8\" font-family=\"Helvetica,sans-Serif\" font-size=\"14.00\" fill=\"#000000\">X[13] &lt;= &#45;0.481</text>\n<text text-anchor=\"middle\" x=\"11245\" y=\"-126.8\" font-family=\"Helvetica,sans-Serif\" font-size=\"14.00\" fill=\"#000000\">entropy = 0.592</text>\n<text text-anchor=\"middle\" x=\"11245\" y=\"-111.8\" font-family=\"Helvetica,sans-Serif\" font-size=\"14.00\" fill=\"#000000\">samples = 7</text>\n<text text-anchor=\"middle\" x=\"11245\" y=\"-96.8\" font-family=\"Helvetica,sans-Serif\" font-size=\"14.00\" fill=\"#000000\">value = [6, 1]</text>\n</g>\n<!-- 220&#45;&gt;221 -->\n<g id=\"edge221\" class=\"edge\">\n<title>220&#45;&gt;221</title>\n<path fill=\"none\" stroke=\"#000000\" d=\"M11288.044,-192.9465C11282.6845,-184.2373 11276.8539,-174.7626 11271.2647,-165.6801\"/>\n<polygon fill=\"#000000\" stroke=\"#000000\" points=\"11274.2249,-163.8122 11266.0031,-157.13 11268.2633,-167.481 11274.2249,-163.8122\"/>\n</g>\n<!-- 224 -->\n<g id=\"node225\" class=\"node\">\n<title>224</title>\n<polygon fill=\"#399de5\" stroke=\"#000000\" points=\"11423.5,-149.5 11322.5,-149.5 11322.5,-96.5 11423.5,-96.5 11423.5,-149.5\"/>\n<text text-anchor=\"middle\" x=\"11373\" y=\"-134.3\" font-family=\"Helvetica,sans-Serif\" font-size=\"14.00\" fill=\"#000000\">entropy = 0.0</text>\n<text text-anchor=\"middle\" x=\"11373\" y=\"-119.3\" font-family=\"Helvetica,sans-Serif\" font-size=\"14.00\" fill=\"#000000\">samples = 3</text>\n<text text-anchor=\"middle\" x=\"11373\" y=\"-104.3\" font-family=\"Helvetica,sans-Serif\" font-size=\"14.00\" fill=\"#000000\">value = [0, 3]</text>\n</g>\n<!-- 220&#45;&gt;224 -->\n<g id=\"edge224\" class=\"edge\">\n<title>220&#45;&gt;224</title>\n<path fill=\"none\" stroke=\"#000000\" d=\"M11329.956,-192.9465C11336.8022,-181.8215 11344.4171,-169.4473 11351.3157,-158.237\"/>\n<polygon fill=\"#000000\" stroke=\"#000000\" points=\"11354.4061,-159.8931 11356.6664,-149.5422 11348.4445,-156.2244 11354.4061,-159.8931\"/>\n</g>\n<!-- 222 -->\n<g id=\"node223\" class=\"node\">\n<title>222</title>\n<polygon fill=\"#399de5\" stroke=\"#000000\" points=\"11236.5,-53 11135.5,-53 11135.5,0 11236.5,0 11236.5,-53\"/>\n<text text-anchor=\"middle\" x=\"11186\" y=\"-37.8\" font-family=\"Helvetica,sans-Serif\" font-size=\"14.00\" fill=\"#000000\">entropy = 0.0</text>\n<text text-anchor=\"middle\" x=\"11186\" y=\"-22.8\" font-family=\"Helvetica,sans-Serif\" font-size=\"14.00\" fill=\"#000000\">samples = 1</text>\n<text text-anchor=\"middle\" x=\"11186\" y=\"-7.8\" font-family=\"Helvetica,sans-Serif\" font-size=\"14.00\" fill=\"#000000\">value = [0, 1]</text>\n</g>\n<!-- 221&#45;&gt;222 -->\n<g id=\"edge222\" class=\"edge\">\n<title>221&#45;&gt;222</title>\n<path fill=\"none\" stroke=\"#000000\" d=\"M11224.1988,-88.9777C11218.8242,-80.187 11213.0265,-70.7044 11207.6115,-61.8477\"/>\n<polygon fill=\"#000000\" stroke=\"#000000\" points=\"11210.5564,-59.9545 11202.354,-53.2485 11204.5842,-63.6059 11210.5564,-59.9545\"/>\n</g>\n<!-- 223 -->\n<g id=\"node224\" class=\"node\">\n<title>223</title>\n<polygon fill=\"#e58139\" stroke=\"#000000\" points=\"11355.5,-53 11254.5,-53 11254.5,0 11355.5,0 11355.5,-53\"/>\n<text text-anchor=\"middle\" x=\"11305\" y=\"-37.8\" font-family=\"Helvetica,sans-Serif\" font-size=\"14.00\" fill=\"#000000\">entropy = 0.0</text>\n<text text-anchor=\"middle\" x=\"11305\" y=\"-22.8\" font-family=\"Helvetica,sans-Serif\" font-size=\"14.00\" fill=\"#000000\">samples = 6</text>\n<text text-anchor=\"middle\" x=\"11305\" y=\"-7.8\" font-family=\"Helvetica,sans-Serif\" font-size=\"14.00\" fill=\"#000000\">value = [6, 0]</text>\n</g>\n<!-- 221&#45;&gt;223 -->\n<g id=\"edge223\" class=\"edge\">\n<title>221&#45;&gt;223</title>\n<path fill=\"none\" stroke=\"#000000\" d=\"M11266.1538,-88.9777C11271.6195,-80.187 11277.5154,-70.7044 11283.0222,-61.8477\"/>\n<polygon fill=\"#000000\" stroke=\"#000000\" points=\"11286.0609,-63.5889 11288.3688,-53.2485 11280.1163,-59.8927 11286.0609,-63.5889\"/>\n</g>\n<!-- 227 -->\n<g id=\"node228\" class=\"node\">\n<title>227</title>\n<polygon fill=\"#91c9f1\" stroke=\"#000000\" points=\"11839,-365 11707,-365 11707,-297 11839,-297 11839,-365\"/>\n<text text-anchor=\"middle\" x=\"11773\" y=\"-349.8\" font-family=\"Helvetica,sans-Serif\" font-size=\"14.00\" fill=\"#000000\">X[10] &lt;= &#45;0.634</text>\n<text text-anchor=\"middle\" x=\"11773\" y=\"-334.8\" font-family=\"Helvetica,sans-Serif\" font-size=\"14.00\" fill=\"#000000\">entropy = 0.89</text>\n<text text-anchor=\"middle\" x=\"11773\" y=\"-319.8\" font-family=\"Helvetica,sans-Serif\" font-size=\"14.00\" fill=\"#000000\">samples = 715</text>\n<text text-anchor=\"middle\" x=\"11773\" y=\"-304.8\" font-family=\"Helvetica,sans-Serif\" font-size=\"14.00\" fill=\"#000000\">value = [220, 495]</text>\n</g>\n<!-- 226&#45;&gt;227 -->\n<g id=\"edge227\" class=\"edge\">\n<title>226&#45;&gt;227</title>\n<path fill=\"none\" stroke=\"#000000\" d=\"M11773,-400.9465C11773,-392.776 11773,-383.9318 11773,-375.3697\"/>\n<polygon fill=\"#000000\" stroke=\"#000000\" points=\"11776.5001,-375.13 11773,-365.13 11769.5001,-375.13 11776.5001,-375.13\"/>\n</g>\n<!-- 240 -->\n<g id=\"node241\" class=\"node\">\n<title>240</title>\n<polygon fill=\"#e78946\" stroke=\"#000000\" points=\"12491,-365 12367,-365 12367,-297 12491,-297 12491,-365\"/>\n<text text-anchor=\"middle\" x=\"12429\" y=\"-349.8\" font-family=\"Helvetica,sans-Serif\" font-size=\"14.00\" fill=\"#000000\">X[0] &lt;= 1.099</text>\n<text text-anchor=\"middle\" x=\"12429\" y=\"-334.8\" font-family=\"Helvetica,sans-Serif\" font-size=\"14.00\" fill=\"#000000\">entropy = 0.331</text>\n<text text-anchor=\"middle\" x=\"12429\" y=\"-319.8\" font-family=\"Helvetica,sans-Serif\" font-size=\"14.00\" fill=\"#000000\">samples = 230</text>\n<text text-anchor=\"middle\" x=\"12429\" y=\"-304.8\" font-family=\"Helvetica,sans-Serif\" font-size=\"14.00\" fill=\"#000000\">value = [216, 14]</text>\n</g>\n<!-- 226&#45;&gt;240 -->\n<g id=\"edge240\" class=\"edge\">\n<title>226&#45;&gt;240</title>\n<path fill=\"none\" stroke=\"#000000\" d=\"M11839.2068,-424.5038C11962.8947,-404.8947 12228.1163,-362.8474 12356.4644,-342.4996\"/>\n<polygon fill=\"#000000\" stroke=\"#000000\" points=\"12357.2566,-345.9178 12366.5852,-340.895 12356.1604,-339.0041 12357.2566,-345.9178\"/>\n</g>\n<!-- 228 -->\n<g id=\"node229\" class=\"node\">\n<title>228</title>\n<polygon fill=\"#f9e4d4\" stroke=\"#000000\" points=\"11762,-261 11638,-261 11638,-193 11762,-193 11762,-261\"/>\n<text text-anchor=\"middle\" x=\"11700\" y=\"-245.8\" font-family=\"Helvetica,sans-Serif\" font-size=\"14.00\" fill=\"#000000\">X[3] &lt;= 0.225</text>\n<text text-anchor=\"middle\" x=\"11700\" y=\"-230.8\" font-family=\"Helvetica,sans-Serif\" font-size=\"14.00\" fill=\"#000000\">entropy = 0.989</text>\n<text text-anchor=\"middle\" x=\"11700\" y=\"-215.8\" font-family=\"Helvetica,sans-Serif\" font-size=\"14.00\" fill=\"#000000\">samples = 180</text>\n<text text-anchor=\"middle\" x=\"11700\" y=\"-200.8\" font-family=\"Helvetica,sans-Serif\" font-size=\"14.00\" fill=\"#000000\">value = [101, 79]</text>\n</g>\n<!-- 227&#45;&gt;228 -->\n<g id=\"edge228\" class=\"edge\">\n<title>227&#45;&gt;228</title>\n<path fill=\"none\" stroke=\"#000000\" d=\"M11749.0971,-296.9465C11742.9209,-288.1475 11736.1962,-278.5672 11729.761,-269.3993\"/>\n<polygon fill=\"#000000\" stroke=\"#000000\" points=\"11732.5666,-267.3041 11723.9566,-261.13 11726.8371,-271.3258 11732.5666,-267.3041\"/>\n</g>\n<!-- 235 -->\n<g id=\"node236\" class=\"node\">\n<title>235</title>\n<polygon fill=\"#72b9ec\" stroke=\"#000000\" points=\"11912,-261 11780,-261 11780,-193 11912,-193 11912,-261\"/>\n<text text-anchor=\"middle\" x=\"11846\" y=\"-245.8\" font-family=\"Helvetica,sans-Serif\" font-size=\"14.00\" fill=\"#000000\">X[13] &lt;= &#45;0.486</text>\n<text text-anchor=\"middle\" x=\"11846\" y=\"-230.8\" font-family=\"Helvetica,sans-Serif\" font-size=\"14.00\" fill=\"#000000\">entropy = 0.765</text>\n<text text-anchor=\"middle\" x=\"11846\" y=\"-215.8\" font-family=\"Helvetica,sans-Serif\" font-size=\"14.00\" fill=\"#000000\">samples = 535</text>\n<text text-anchor=\"middle\" x=\"11846\" y=\"-200.8\" font-family=\"Helvetica,sans-Serif\" font-size=\"14.00\" fill=\"#000000\">value = [119, 416]</text>\n</g>\n<!-- 227&#45;&gt;235 -->\n<g id=\"edge235\" class=\"edge\">\n<title>227&#45;&gt;235</title>\n<path fill=\"none\" stroke=\"#000000\" d=\"M11796.9029,-296.9465C11803.0791,-288.1475 11809.8038,-278.5672 11816.239,-269.3993\"/>\n<polygon fill=\"#000000\" stroke=\"#000000\" points=\"11819.1629,-271.3258 11822.0434,-261.13 11813.4334,-267.3041 11819.1629,-271.3258\"/>\n</g>\n<!-- 229 -->\n<g id=\"node230\" class=\"node\">\n<title>229</title>\n<polygon fill=\"#8dc7f0\" stroke=\"#000000\" points=\"11626,-157 11510,-157 11510,-89 11626,-89 11626,-157\"/>\n<text text-anchor=\"middle\" x=\"11568\" y=\"-141.8\" font-family=\"Helvetica,sans-Serif\" font-size=\"14.00\" fill=\"#000000\">X[3] &lt;= 0.154</text>\n<text text-anchor=\"middle\" x=\"11568\" y=\"-126.8\" font-family=\"Helvetica,sans-Serif\" font-size=\"14.00\" fill=\"#000000\">entropy = 0.88</text>\n<text text-anchor=\"middle\" x=\"11568\" y=\"-111.8\" font-family=\"Helvetica,sans-Serif\" font-size=\"14.00\" fill=\"#000000\">samples = 97</text>\n<text text-anchor=\"middle\" x=\"11568\" y=\"-96.8\" font-family=\"Helvetica,sans-Serif\" font-size=\"14.00\" fill=\"#000000\">value = [29, 68]</text>\n</g>\n<!-- 228&#45;&gt;229 -->\n<g id=\"edge229\" class=\"edge\">\n<title>228&#45;&gt;229</title>\n<path fill=\"none\" stroke=\"#000000\" d=\"M11656.7783,-192.9465C11644.8126,-183.519 11631.7085,-173.1946 11619.3296,-163.4415\"/>\n<polygon fill=\"#000000\" stroke=\"#000000\" points=\"11621.3398,-160.5695 11611.3188,-157.13 11617.0077,-166.068 11621.3398,-160.5695\"/>\n</g>\n<!-- 232 -->\n<g id=\"node233\" class=\"node\">\n<title>232</title>\n<polygon fill=\"#e99457\" stroke=\"#000000\" points=\"11762,-157 11644,-157 11644,-89 11762,-89 11762,-157\"/>\n<text text-anchor=\"middle\" x=\"11703\" y=\"-141.8\" font-family=\"Helvetica,sans-Serif\" font-size=\"14.00\" fill=\"#000000\">X[13] &lt;= &#45;0.469</text>\n<text text-anchor=\"middle\" x=\"11703\" y=\"-126.8\" font-family=\"Helvetica,sans-Serif\" font-size=\"14.00\" fill=\"#000000\">entropy = 0.564</text>\n<text text-anchor=\"middle\" x=\"11703\" y=\"-111.8\" font-family=\"Helvetica,sans-Serif\" font-size=\"14.00\" fill=\"#000000\">samples = 83</text>\n<text text-anchor=\"middle\" x=\"11703\" y=\"-96.8\" font-family=\"Helvetica,sans-Serif\" font-size=\"14.00\" fill=\"#000000\">value = [72, 11]</text>\n</g>\n<!-- 228&#45;&gt;232 -->\n<g id=\"edge232\" class=\"edge\">\n<title>228&#45;&gt;232</title>\n<path fill=\"none\" stroke=\"#000000\" d=\"M11700.9823,-192.9465C11701.218,-184.776 11701.4731,-175.9318 11701.7201,-167.3697\"/>\n<polygon fill=\"#000000\" stroke=\"#000000\" points=\"11705.2256,-167.2268 11702.0155,-157.13 11698.2285,-167.0249 11705.2256,-167.2268\"/>\n</g>\n<!-- 230 -->\n<g id=\"node231\" class=\"node\">\n<title>230</title>\n<polygon fill=\"#53aae8\" stroke=\"#000000\" points=\"11492,-53 11374,-53 11374,0 11492,0 11492,-53\"/>\n<text text-anchor=\"middle\" x=\"11433\" y=\"-37.8\" font-family=\"Helvetica,sans-Serif\" font-size=\"14.00\" fill=\"#000000\">entropy = 0.523</text>\n<text text-anchor=\"middle\" x=\"11433\" y=\"-22.8\" font-family=\"Helvetica,sans-Serif\" font-size=\"14.00\" fill=\"#000000\">samples = 51</text>\n<text text-anchor=\"middle\" x=\"11433\" y=\"-7.8\" font-family=\"Helvetica,sans-Serif\" font-size=\"14.00\" fill=\"#000000\">value = [6, 45]</text>\n</g>\n<!-- 229&#45;&gt;230 -->\n<g id=\"edge230\" class=\"edge\">\n<title>229&#45;&gt;230</title>\n<path fill=\"none\" stroke=\"#000000\" d=\"M11520.4041,-88.9777C11506.8252,-79.2713 11492.0661,-68.7213 11478.6088,-59.1018\"/>\n<polygon fill=\"#000000\" stroke=\"#000000\" points=\"11480.5908,-56.2164 11470.4202,-53.2485 11476.5201,-61.9111 11480.5908,-56.2164\"/>\n</g>\n<!-- 231 -->\n<g id=\"node232\" class=\"node\">\n<title>231</title>\n<polygon fill=\"#ffffff\" stroke=\"#000000\" points=\"11626,-53 11510,-53 11510,0 11626,0 11626,-53\"/>\n<text text-anchor=\"middle\" x=\"11568\" y=\"-37.8\" font-family=\"Helvetica,sans-Serif\" font-size=\"14.00\" fill=\"#000000\">entropy = 1.0</text>\n<text text-anchor=\"middle\" x=\"11568\" y=\"-22.8\" font-family=\"Helvetica,sans-Serif\" font-size=\"14.00\" fill=\"#000000\">samples = 46</text>\n<text text-anchor=\"middle\" x=\"11568\" y=\"-7.8\" font-family=\"Helvetica,sans-Serif\" font-size=\"14.00\" fill=\"#000000\">value = [23, 23]</text>\n</g>\n<!-- 229&#45;&gt;231 -->\n<g id=\"edge231\" class=\"edge\">\n<title>229&#45;&gt;231</title>\n<path fill=\"none\" stroke=\"#000000\" d=\"M11568,-88.9777C11568,-80.7364 11568,-71.887 11568,-63.5153\"/>\n<polygon fill=\"#000000\" stroke=\"#000000\" points=\"11571.5001,-63.2484 11568,-53.2485 11564.5001,-63.2485 11571.5001,-63.2484\"/>\n</g>\n<!-- 233 -->\n<g id=\"node234\" class=\"node\">\n<title>233</title>\n<polygon fill=\"#eeab7b\" stroke=\"#000000\" points=\"11762,-53 11644,-53 11644,0 11762,0 11762,-53\"/>\n<text text-anchor=\"middle\" x=\"11703\" y=\"-37.8\" font-family=\"Helvetica,sans-Serif\" font-size=\"14.00\" fill=\"#000000\">entropy = 0.811</text>\n<text text-anchor=\"middle\" x=\"11703\" y=\"-22.8\" font-family=\"Helvetica,sans-Serif\" font-size=\"14.00\" fill=\"#000000\">samples = 40</text>\n<text text-anchor=\"middle\" x=\"11703\" y=\"-7.8\" font-family=\"Helvetica,sans-Serif\" font-size=\"14.00\" fill=\"#000000\">value = [30, 10]</text>\n</g>\n<!-- 232&#45;&gt;233 -->\n<g id=\"edge233\" class=\"edge\">\n<title>232&#45;&gt;233</title>\n<path fill=\"none\" stroke=\"#000000\" d=\"M11703,-88.9777C11703,-80.7364 11703,-71.887 11703,-63.5153\"/>\n<polygon fill=\"#000000\" stroke=\"#000000\" points=\"11706.5001,-63.2484 11703,-53.2485 11699.5001,-63.2485 11706.5001,-63.2484\"/>\n</g>\n<!-- 234 -->\n<g id=\"node235\" class=\"node\">\n<title>234</title>\n<polygon fill=\"#e6843e\" stroke=\"#000000\" points=\"11898,-53 11780,-53 11780,0 11898,0 11898,-53\"/>\n<text text-anchor=\"middle\" x=\"11839\" y=\"-37.8\" font-family=\"Helvetica,sans-Serif\" font-size=\"14.00\" fill=\"#000000\">entropy = 0.159</text>\n<text text-anchor=\"middle\" x=\"11839\" y=\"-22.8\" font-family=\"Helvetica,sans-Serif\" font-size=\"14.00\" fill=\"#000000\">samples = 43</text>\n<text text-anchor=\"middle\" x=\"11839\" y=\"-7.8\" font-family=\"Helvetica,sans-Serif\" font-size=\"14.00\" fill=\"#000000\">value = [42, 1]</text>\n</g>\n<!-- 232&#45;&gt;234 -->\n<g id=\"edge234\" class=\"edge\">\n<title>232&#45;&gt;234</title>\n<path fill=\"none\" stroke=\"#000000\" d=\"M11750.9485,-88.9777C11764.628,-79.2713 11779.4964,-68.7213 11793.0534,-59.1018\"/>\n<polygon fill=\"#000000\" stroke=\"#000000\" points=\"11795.1725,-61.8898 11801.3027,-53.2485 11791.1217,-56.1809 11795.1725,-61.8898\"/>\n</g>\n<!-- 236 -->\n<g id=\"node237\" class=\"node\">\n<title>236</title>\n<polygon fill=\"#e58139\" stroke=\"#000000\" points=\"11892.5,-149.5 11791.5,-149.5 11791.5,-96.5 11892.5,-96.5 11892.5,-149.5\"/>\n<text text-anchor=\"middle\" x=\"11842\" y=\"-134.3\" font-family=\"Helvetica,sans-Serif\" font-size=\"14.00\" fill=\"#000000\">entropy = 0.0</text>\n<text text-anchor=\"middle\" x=\"11842\" y=\"-119.3\" font-family=\"Helvetica,sans-Serif\" font-size=\"14.00\" fill=\"#000000\">samples = 9</text>\n<text text-anchor=\"middle\" x=\"11842\" y=\"-104.3\" font-family=\"Helvetica,sans-Serif\" font-size=\"14.00\" fill=\"#000000\">value = [9, 0]</text>\n</g>\n<!-- 235&#45;&gt;236 -->\n<g id=\"edge236\" class=\"edge\">\n<title>235&#45;&gt;236</title>\n<path fill=\"none\" stroke=\"#000000\" d=\"M11844.6903,-192.9465C11844.2793,-182.2621 11843.8241,-170.4254 11843.4067,-159.5742\"/>\n<polygon fill=\"#000000\" stroke=\"#000000\" points=\"11846.9027,-159.4002 11843.0209,-149.5422 11839.9079,-159.6693 11846.9027,-159.4002\"/>\n</g>\n<!-- 237 -->\n<g id=\"node238\" class=\"node\">\n<title>237</title>\n<polygon fill=\"#6db7ec\" stroke=\"#000000\" points=\"12043,-157 11911,-157 11911,-89 12043,-89 12043,-157\"/>\n<text text-anchor=\"middle\" x=\"11977\" y=\"-141.8\" font-family=\"Helvetica,sans-Serif\" font-size=\"14.00\" fill=\"#000000\">X[11] &lt;= &#45;0.962</text>\n<text text-anchor=\"middle\" x=\"11977\" y=\"-126.8\" font-family=\"Helvetica,sans-Serif\" font-size=\"14.00\" fill=\"#000000\">entropy = 0.74</text>\n<text text-anchor=\"middle\" x=\"11977\" y=\"-111.8\" font-family=\"Helvetica,sans-Serif\" font-size=\"14.00\" fill=\"#000000\">samples = 526</text>\n<text text-anchor=\"middle\" x=\"11977\" y=\"-96.8\" font-family=\"Helvetica,sans-Serif\" font-size=\"14.00\" fill=\"#000000\">value = [110, 416]</text>\n</g>\n<!-- 235&#45;&gt;237 -->\n<g id=\"edge237\" class=\"edge\">\n<title>235&#45;&gt;237</title>\n<path fill=\"none\" stroke=\"#000000\" d=\"M11888.8943,-192.9465C11900.7693,-183.519 11913.7741,-173.1946 11926.0593,-163.4415\"/>\n<polygon fill=\"#000000\" stroke=\"#000000\" points=\"11928.3536,-166.089 11934.0093,-157.13 11924.0011,-160.6066 11928.3536,-166.089\"/>\n</g>\n<!-- 238 -->\n<g id=\"node239\" class=\"node\">\n<title>238</title>\n<polygon fill=\"#e88f4f\" stroke=\"#000000\" points=\"12034,-53 11916,-53 11916,0 12034,0 12034,-53\"/>\n<text text-anchor=\"middle\" x=\"11975\" y=\"-37.8\" font-family=\"Helvetica,sans-Serif\" font-size=\"14.00\" fill=\"#000000\">entropy = 0.469</text>\n<text text-anchor=\"middle\" x=\"11975\" y=\"-22.8\" font-family=\"Helvetica,sans-Serif\" font-size=\"14.00\" fill=\"#000000\">samples = 10</text>\n<text text-anchor=\"middle\" x=\"11975\" y=\"-7.8\" font-family=\"Helvetica,sans-Serif\" font-size=\"14.00\" fill=\"#000000\">value = [9, 1]</text>\n</g>\n<!-- 237&#45;&gt;238 -->\n<g id=\"edge238\" class=\"edge\">\n<title>237&#45;&gt;238</title>\n<path fill=\"none\" stroke=\"#000000\" d=\"M11976.2949,-88.9777C11976.1241,-80.7364 11975.9407,-71.887 11975.7672,-63.5153\"/>\n<polygon fill=\"#000000\" stroke=\"#000000\" points=\"11979.2609,-63.1738 11975.5544,-53.2485 11972.2624,-63.3189 11979.2609,-63.1738\"/>\n</g>\n<!-- 239 -->\n<g id=\"node240\" class=\"node\">\n<title>239</title>\n<polygon fill=\"#69b5eb\" stroke=\"#000000\" points=\"12184,-53 12052,-53 12052,0 12184,0 12184,-53\"/>\n<text text-anchor=\"middle\" x=\"12118\" y=\"-37.8\" font-family=\"Helvetica,sans-Serif\" font-size=\"14.00\" fill=\"#000000\">entropy = 0.713</text>\n<text text-anchor=\"middle\" x=\"12118\" y=\"-22.8\" font-family=\"Helvetica,sans-Serif\" font-size=\"14.00\" fill=\"#000000\">samples = 516</text>\n<text text-anchor=\"middle\" x=\"12118\" y=\"-7.8\" font-family=\"Helvetica,sans-Serif\" font-size=\"14.00\" fill=\"#000000\">value = [101, 415]</text>\n</g>\n<!-- 237&#45;&gt;239 -->\n<g id=\"edge239\" class=\"edge\">\n<title>237&#45;&gt;239</title>\n<path fill=\"none\" stroke=\"#000000\" d=\"M12026.7113,-88.9777C12040.8937,-79.2713 12056.3088,-68.7213 12070.3642,-59.1018\"/>\n<polygon fill=\"#000000\" stroke=\"#000000\" points=\"12072.6411,-61.7847 12078.9167,-53.2485 12068.6876,-56.0081 12072.6411,-61.7847\"/>\n</g>\n<!-- 241 -->\n<g id=\"node242\" class=\"node\">\n<title>241</title>\n<polygon fill=\"#eeab7b\" stroke=\"#000000\" points=\"12488,-261 12370,-261 12370,-193 12488,-193 12488,-261\"/>\n<text text-anchor=\"middle\" x=\"12429\" y=\"-245.8\" font-family=\"Helvetica,sans-Serif\" font-size=\"14.00\" fill=\"#000000\">X[11] &lt;= &#45;0.86</text>\n<text text-anchor=\"middle\" x=\"12429\" y=\"-230.8\" font-family=\"Helvetica,sans-Serif\" font-size=\"14.00\" fill=\"#000000\">entropy = 0.811</text>\n<text text-anchor=\"middle\" x=\"12429\" y=\"-215.8\" font-family=\"Helvetica,sans-Serif\" font-size=\"14.00\" fill=\"#000000\">samples = 48</text>\n<text text-anchor=\"middle\" x=\"12429\" y=\"-200.8\" font-family=\"Helvetica,sans-Serif\" font-size=\"14.00\" fill=\"#000000\">value = [36, 12]</text>\n</g>\n<!-- 240&#45;&gt;241 -->\n<g id=\"edge241\" class=\"edge\">\n<title>240&#45;&gt;241</title>\n<path fill=\"none\" stroke=\"#000000\" d=\"M12429,-296.9465C12429,-288.776 12429,-279.9318 12429,-271.3697\"/>\n<polygon fill=\"#000000\" stroke=\"#000000\" points=\"12432.5001,-271.13 12429,-261.13 12425.5001,-271.13 12432.5001,-271.13\"/>\n</g>\n<!-- 248 -->\n<g id=\"node249\" class=\"node\">\n<title>248</title>\n<polygon fill=\"#e5823b\" stroke=\"#000000\" points=\"12691,-261 12573,-261 12573,-193 12691,-193 12691,-261\"/>\n<text text-anchor=\"middle\" x=\"12632\" y=\"-245.8\" font-family=\"Helvetica,sans-Serif\" font-size=\"14.00\" fill=\"#000000\">X[10] &lt;= &#45;0.443</text>\n<text text-anchor=\"middle\" x=\"12632\" y=\"-230.8\" font-family=\"Helvetica,sans-Serif\" font-size=\"14.00\" fill=\"#000000\">entropy = 0.087</text>\n<text text-anchor=\"middle\" x=\"12632\" y=\"-215.8\" font-family=\"Helvetica,sans-Serif\" font-size=\"14.00\" fill=\"#000000\">samples = 182</text>\n<text text-anchor=\"middle\" x=\"12632\" y=\"-200.8\" font-family=\"Helvetica,sans-Serif\" font-size=\"14.00\" fill=\"#000000\">value = [180, 2]</text>\n</g>\n<!-- 240&#45;&gt;248 -->\n<g id=\"edge248\" class=\"edge\">\n<title>240&#45;&gt;248</title>\n<path fill=\"none\" stroke=\"#000000\" d=\"M12491.0097,-299.2315C12513.9642,-287.4715 12540.1111,-274.0761 12563.6017,-262.0415\"/>\n<polygon fill=\"#000000\" stroke=\"#000000\" points=\"12565.4982,-265.0025 12572.8023,-257.3279 12562.3064,-258.7725 12565.4982,-265.0025\"/>\n</g>\n<!-- 242 -->\n<g id=\"node243\" class=\"node\">\n<title>242</title>\n<polygon fill=\"#e6853f\" stroke=\"#000000\" points=\"12420,-157 12302,-157 12302,-89 12420,-89 12420,-157\"/>\n<text text-anchor=\"middle\" x=\"12361\" y=\"-141.8\" font-family=\"Helvetica,sans-Serif\" font-size=\"14.00\" fill=\"#000000\">X[6] &lt;= &#45;0.475</text>\n<text text-anchor=\"middle\" x=\"12361\" y=\"-126.8\" font-family=\"Helvetica,sans-Serif\" font-size=\"14.00\" fill=\"#000000\">entropy = 0.201</text>\n<text text-anchor=\"middle\" x=\"12361\" y=\"-111.8\" font-family=\"Helvetica,sans-Serif\" font-size=\"14.00\" fill=\"#000000\">samples = 32</text>\n<text text-anchor=\"middle\" x=\"12361\" y=\"-96.8\" font-family=\"Helvetica,sans-Serif\" font-size=\"14.00\" fill=\"#000000\">value = [31, 1]</text>\n</g>\n<!-- 241&#45;&gt;242 -->\n<g id=\"edge242\" class=\"edge\">\n<title>241&#45;&gt;242</title>\n<path fill=\"none\" stroke=\"#000000\" d=\"M12406.7343,-192.9465C12401.0398,-184.2373 12394.8448,-174.7626 12388.9062,-165.6801\"/>\n<polygon fill=\"#000000\" stroke=\"#000000\" points=\"12391.7177,-163.5843 12383.3158,-157.13 12385.8589,-167.4151 12391.7177,-163.5843\"/>\n</g>\n<!-- 245 -->\n<g id=\"node246\" class=\"node\">\n<title>245</title>\n<polygon fill=\"#93caf1\" stroke=\"#000000\" points=\"12556,-157 12438,-157 12438,-89 12556,-89 12556,-157\"/>\n<text text-anchor=\"middle\" x=\"12497\" y=\"-141.8\" font-family=\"Helvetica,sans-Serif\" font-size=\"14.00\" fill=\"#000000\">X[10] &lt;= &#45;0.594</text>\n<text text-anchor=\"middle\" x=\"12497\" y=\"-126.8\" font-family=\"Helvetica,sans-Serif\" font-size=\"14.00\" fill=\"#000000\">entropy = 0.896</text>\n<text text-anchor=\"middle\" x=\"12497\" y=\"-111.8\" font-family=\"Helvetica,sans-Serif\" font-size=\"14.00\" fill=\"#000000\">samples = 16</text>\n<text text-anchor=\"middle\" x=\"12497\" y=\"-96.8\" font-family=\"Helvetica,sans-Serif\" font-size=\"14.00\" fill=\"#000000\">value = [5, 11]</text>\n</g>\n<!-- 241&#45;&gt;245 -->\n<g id=\"edge245\" class=\"edge\">\n<title>241&#45;&gt;245</title>\n<path fill=\"none\" stroke=\"#000000\" d=\"M12451.2657,-192.9465C12456.9602,-184.2373 12463.1552,-174.7626 12469.0938,-165.6801\"/>\n<polygon fill=\"#000000\" stroke=\"#000000\" points=\"12472.1411,-167.4151 12474.6842,-157.13 12466.2823,-163.5843 12472.1411,-167.4151\"/>\n</g>\n<!-- 243 -->\n<g id=\"node244\" class=\"node\">\n<title>243</title>\n<polygon fill=\"#399de5\" stroke=\"#000000\" points=\"12303.5,-53 12202.5,-53 12202.5,0 12303.5,0 12303.5,-53\"/>\n<text text-anchor=\"middle\" x=\"12253\" y=\"-37.8\" font-family=\"Helvetica,sans-Serif\" font-size=\"14.00\" fill=\"#000000\">entropy = 0.0</text>\n<text text-anchor=\"middle\" x=\"12253\" y=\"-22.8\" font-family=\"Helvetica,sans-Serif\" font-size=\"14.00\" fill=\"#000000\">samples = 1</text>\n<text text-anchor=\"middle\" x=\"12253\" y=\"-7.8\" font-family=\"Helvetica,sans-Serif\" font-size=\"14.00\" fill=\"#000000\">value = [0, 1]</text>\n</g>\n<!-- 242&#45;&gt;243 -->\n<g id=\"edge243\" class=\"edge\">\n<title>242&#45;&gt;243</title>\n<path fill=\"none\" stroke=\"#000000\" d=\"M12322.9232,-88.9777C12312.3676,-79.546 12300.9204,-69.3178 12290.4036,-59.9208\"/>\n<polygon fill=\"#000000\" stroke=\"#000000\" points=\"12292.7251,-57.3015 12282.9361,-53.2485 12288.061,-62.5213 12292.7251,-57.3015\"/>\n</g>\n<!-- 244 -->\n<g id=\"node245\" class=\"node\">\n<title>244</title>\n<polygon fill=\"#e58139\" stroke=\"#000000\" points=\"12428.5,-53 12321.5,-53 12321.5,0 12428.5,0 12428.5,-53\"/>\n<text text-anchor=\"middle\" x=\"12375\" y=\"-37.8\" font-family=\"Helvetica,sans-Serif\" font-size=\"14.00\" fill=\"#000000\">entropy = 0.0</text>\n<text text-anchor=\"middle\" x=\"12375\" y=\"-22.8\" font-family=\"Helvetica,sans-Serif\" font-size=\"14.00\" fill=\"#000000\">samples = 31</text>\n<text text-anchor=\"middle\" x=\"12375\" y=\"-7.8\" font-family=\"Helvetica,sans-Serif\" font-size=\"14.00\" fill=\"#000000\">value = [31, 0]</text>\n</g>\n<!-- 242&#45;&gt;244 -->\n<g id=\"edge244\" class=\"edge\">\n<title>242&#45;&gt;244</title>\n<path fill=\"none\" stroke=\"#000000\" d=\"M12365.9359,-88.9777C12367.1448,-80.6449 12368.4439,-71.6903 12369.6704,-63.2364\"/>\n<polygon fill=\"#000000\" stroke=\"#000000\" points=\"12373.1473,-63.6474 12371.1194,-53.2485 12366.2198,-62.6423 12373.1473,-63.6474\"/>\n</g>\n<!-- 246 -->\n<g id=\"node247\" class=\"node\">\n<title>246</title>\n<polygon fill=\"#e58139\" stroke=\"#000000\" points=\"12547.5,-53 12446.5,-53 12446.5,0 12547.5,0 12547.5,-53\"/>\n<text text-anchor=\"middle\" x=\"12497\" y=\"-37.8\" font-family=\"Helvetica,sans-Serif\" font-size=\"14.00\" fill=\"#000000\">entropy = 0.0</text>\n<text text-anchor=\"middle\" x=\"12497\" y=\"-22.8\" font-family=\"Helvetica,sans-Serif\" font-size=\"14.00\" fill=\"#000000\">samples = 3</text>\n<text text-anchor=\"middle\" x=\"12497\" y=\"-7.8\" font-family=\"Helvetica,sans-Serif\" font-size=\"14.00\" fill=\"#000000\">value = [3, 0]</text>\n</g>\n<!-- 245&#45;&gt;246 -->\n<g id=\"edge246\" class=\"edge\">\n<title>245&#45;&gt;246</title>\n<path fill=\"none\" stroke=\"#000000\" d=\"M12497,-88.9777C12497,-80.7364 12497,-71.887 12497,-63.5153\"/>\n<polygon fill=\"#000000\" stroke=\"#000000\" points=\"12500.5001,-63.2484 12497,-53.2485 12493.5001,-63.2485 12500.5001,-63.2484\"/>\n</g>\n<!-- 247 -->\n<g id=\"node248\" class=\"node\">\n<title>247</title>\n<polygon fill=\"#5dafea\" stroke=\"#000000\" points=\"12684,-53 12566,-53 12566,0 12684,0 12684,-53\"/>\n<text text-anchor=\"middle\" x=\"12625\" y=\"-37.8\" font-family=\"Helvetica,sans-Serif\" font-size=\"14.00\" fill=\"#000000\">entropy = 0.619</text>\n<text text-anchor=\"middle\" x=\"12625\" y=\"-22.8\" font-family=\"Helvetica,sans-Serif\" font-size=\"14.00\" fill=\"#000000\">samples = 13</text>\n<text text-anchor=\"middle\" x=\"12625\" y=\"-7.8\" font-family=\"Helvetica,sans-Serif\" font-size=\"14.00\" fill=\"#000000\">value = [2, 11]</text>\n</g>\n<!-- 245&#45;&gt;247 -->\n<g id=\"edge247\" class=\"edge\">\n<title>245&#45;&gt;247</title>\n<path fill=\"none\" stroke=\"#000000\" d=\"M12542.128,-88.9777C12554.8813,-79.3629 12568.7327,-68.9203 12581.3947,-59.3743\"/>\n<polygon fill=\"#000000\" stroke=\"#000000\" points=\"12583.6421,-62.0632 12589.5202,-53.2485 12579.4281,-56.4737 12583.6421,-62.0632\"/>\n</g>\n<!-- 249 -->\n<g id=\"node250\" class=\"node\">\n<title>249</title>\n<polygon fill=\"#e58139\" stroke=\"#000000\" points=\"12690,-149.5 12574,-149.5 12574,-96.5 12690,-96.5 12690,-149.5\"/>\n<text text-anchor=\"middle\" x=\"12632\" y=\"-134.3\" font-family=\"Helvetica,sans-Serif\" font-size=\"14.00\" fill=\"#000000\">entropy = 0.0</text>\n<text text-anchor=\"middle\" x=\"12632\" y=\"-119.3\" font-family=\"Helvetica,sans-Serif\" font-size=\"14.00\" fill=\"#000000\">samples = 147</text>\n<text text-anchor=\"middle\" x=\"12632\" y=\"-104.3\" font-family=\"Helvetica,sans-Serif\" font-size=\"14.00\" fill=\"#000000\">value = [147, 0]</text>\n</g>\n<!-- 248&#45;&gt;249 -->\n<g id=\"edge249\" class=\"edge\">\n<title>248&#45;&gt;249</title>\n<path fill=\"none\" stroke=\"#000000\" d=\"M12632,-192.9465C12632,-182.2621 12632,-170.4254 12632,-159.5742\"/>\n<polygon fill=\"#000000\" stroke=\"#000000\" points=\"12635.5001,-159.5421 12632,-149.5422 12628.5001,-159.5422 12635.5001,-159.5421\"/>\n</g>\n<!-- 250 -->\n<g id=\"node251\" class=\"node\">\n<title>250</title>\n<polygon fill=\"#e78945\" stroke=\"#000000\" points=\"12826,-157 12708,-157 12708,-89 12826,-89 12826,-157\"/>\n<text text-anchor=\"middle\" x=\"12767\" y=\"-141.8\" font-family=\"Helvetica,sans-Serif\" font-size=\"14.00\" fill=\"#000000\">X[8] &lt;= 1.879</text>\n<text text-anchor=\"middle\" x=\"12767\" y=\"-126.8\" font-family=\"Helvetica,sans-Serif\" font-size=\"14.00\" fill=\"#000000\">entropy = 0.316</text>\n<text text-anchor=\"middle\" x=\"12767\" y=\"-111.8\" font-family=\"Helvetica,sans-Serif\" font-size=\"14.00\" fill=\"#000000\">samples = 35</text>\n<text text-anchor=\"middle\" x=\"12767\" y=\"-96.8\" font-family=\"Helvetica,sans-Serif\" font-size=\"14.00\" fill=\"#000000\">value = [33, 2]</text>\n</g>\n<!-- 248&#45;&gt;250 -->\n<g id=\"edge250\" class=\"edge\">\n<title>248&#45;&gt;250</title>\n<path fill=\"none\" stroke=\"#000000\" d=\"M12676.204,-192.9465C12688.4416,-183.519 12701.8436,-173.1946 12714.5038,-163.4415\"/>\n<polygon fill=\"#000000\" stroke=\"#000000\" points=\"12716.9107,-166.0055 12722.6966,-157.13 12712.6388,-160.4601 12716.9107,-166.0055\"/>\n</g>\n<!-- 251 -->\n<g id=\"node252\" class=\"node\">\n<title>251</title>\n<polygon fill=\"#e6853f\" stroke=\"#000000\" points=\"12820,-53 12702,-53 12702,0 12820,0 12820,-53\"/>\n<text text-anchor=\"middle\" x=\"12761\" y=\"-37.8\" font-family=\"Helvetica,sans-Serif\" font-size=\"14.00\" fill=\"#000000\">entropy = 0.191</text>\n<text text-anchor=\"middle\" x=\"12761\" y=\"-22.8\" font-family=\"Helvetica,sans-Serif\" font-size=\"14.00\" fill=\"#000000\">samples = 34</text>\n<text text-anchor=\"middle\" x=\"12761\" y=\"-7.8\" font-family=\"Helvetica,sans-Serif\" font-size=\"14.00\" fill=\"#000000\">value = [33, 1]</text>\n</g>\n<!-- 250&#45;&gt;251 -->\n<g id=\"edge251\" class=\"edge\">\n<title>250&#45;&gt;251</title>\n<path fill=\"none\" stroke=\"#000000\" d=\"M12764.8846,-88.9777C12764.3665,-80.6449 12763.8098,-71.6903 12763.2841,-63.2364\"/>\n<polygon fill=\"#000000\" stroke=\"#000000\" points=\"12766.777,-63.012 12762.6631,-53.2485 12759.7905,-63.4464 12766.777,-63.012\"/>\n</g>\n<!-- 252 -->\n<g id=\"node253\" class=\"node\">\n<title>252</title>\n<polygon fill=\"#399de5\" stroke=\"#000000\" points=\"12939.5,-53 12838.5,-53 12838.5,0 12939.5,0 12939.5,-53\"/>\n<text text-anchor=\"middle\" x=\"12889\" y=\"-37.8\" font-family=\"Helvetica,sans-Serif\" font-size=\"14.00\" fill=\"#000000\">entropy = 0.0</text>\n<text text-anchor=\"middle\" x=\"12889\" y=\"-22.8\" font-family=\"Helvetica,sans-Serif\" font-size=\"14.00\" fill=\"#000000\">samples = 1</text>\n<text text-anchor=\"middle\" x=\"12889\" y=\"-7.8\" font-family=\"Helvetica,sans-Serif\" font-size=\"14.00\" fill=\"#000000\">value = [0, 1]</text>\n</g>\n<!-- 250&#45;&gt;252 -->\n<g id=\"edge252\" class=\"edge\">\n<title>250&#45;&gt;252</title>\n<path fill=\"none\" stroke=\"#000000\" d=\"M12810.0126,-88.9777C12822.0524,-79.4545 12835.1188,-69.1191 12847.0935,-59.6473\"/>\n<polygon fill=\"#000000\" stroke=\"#000000\" points=\"12849.5115,-62.1973 12855.1833,-53.2485 12845.1689,-56.7072 12849.5115,-62.1973\"/>\n</g>\n<!-- 254 -->\n<g id=\"node255\" class=\"node\">\n<title>254</title>\n<polygon fill=\"#44a3e6\" stroke=\"#000000\" points=\"18559.5,-781 18394.5,-781 18394.5,-713 18559.5,-713 18559.5,-781\"/>\n<text text-anchor=\"middle\" x=\"18477\" y=\"-765.8\" font-family=\"Helvetica,sans-Serif\" font-size=\"14.00\" fill=\"#000000\">X[2] &lt;= &#45;0.426</text>\n<text text-anchor=\"middle\" x=\"18477\" y=\"-750.8\" font-family=\"Helvetica,sans-Serif\" font-size=\"14.00\" fill=\"#000000\">entropy = 0.301</text>\n<text text-anchor=\"middle\" x=\"18477\" y=\"-735.8\" font-family=\"Helvetica,sans-Serif\" font-size=\"14.00\" fill=\"#000000\">samples = 156817</text>\n<text text-anchor=\"middle\" x=\"18477\" y=\"-720.8\" font-family=\"Helvetica,sans-Serif\" font-size=\"14.00\" fill=\"#000000\">value = [8377, 148440]</text>\n</g>\n<!-- 253&#45;&gt;254 -->\n<g id=\"edge254\" class=\"edge\">\n<title>253&#45;&gt;254</title>\n<path fill=\"none\" stroke=\"#000000\" d=\"M18477,-816.9465C18477,-808.776 18477,-799.9318 18477,-791.3697\"/>\n<polygon fill=\"#000000\" stroke=\"#000000\" points=\"18480.5001,-791.13 18477,-781.13 18473.5001,-791.13 18480.5001,-791.13\"/>\n</g>\n<!-- 449 -->\n<g id=\"node450\" class=\"node\">\n<title>449</title>\n<polygon fill=\"#399de5\" stroke=\"#000000\" points=\"25025,-781 24885,-781 24885,-713 25025,-713 25025,-781\"/>\n<text text-anchor=\"middle\" x=\"24955\" y=\"-765.8\" font-family=\"Helvetica,sans-Serif\" font-size=\"14.00\" fill=\"#000000\">X[3] &lt;= 2.897</text>\n<text text-anchor=\"middle\" x=\"24955\" y=\"-750.8\" font-family=\"Helvetica,sans-Serif\" font-size=\"14.00\" fill=\"#000000\">entropy = 0.01</text>\n<text text-anchor=\"middle\" x=\"24955\" y=\"-735.8\" font-family=\"Helvetica,sans-Serif\" font-size=\"14.00\" fill=\"#000000\">samples = 82037</text>\n<text text-anchor=\"middle\" x=\"24955\" y=\"-720.8\" font-family=\"Helvetica,sans-Serif\" font-size=\"14.00\" fill=\"#000000\">value = [73, 81964]</text>\n</g>\n<!-- 253&#45;&gt;449 -->\n<g id=\"edge449\" class=\"edge\">\n<title>253&#45;&gt;449</title>\n<path fill=\"none\" stroke=\"#000000\" d=\"M18559.7906,-849.6709C19260.2176,-838.426 24185.3946,-759.3555 24874.9007,-748.2859\"/>\n<polygon fill=\"#000000\" stroke=\"#000000\" points=\"24875.0404,-751.7842 24884.9829,-748.1241 24874.9279,-744.7852 24875.0404,-751.7842\"/>\n</g>\n<!-- 255 -->\n<g id=\"node256\" class=\"node\">\n<title>255</title>\n<polygon fill=\"#3fa0e6\" stroke=\"#000000\" points=\"16791.5,-677 16634.5,-677 16634.5,-609 16791.5,-609 16791.5,-677\"/>\n<text text-anchor=\"middle\" x=\"16713\" y=\"-661.8\" font-family=\"Helvetica,sans-Serif\" font-size=\"14.00\" fill=\"#000000\">X[11] &lt;= &#45;0.125</text>\n<text text-anchor=\"middle\" x=\"16713\" y=\"-646.8\" font-family=\"Helvetica,sans-Serif\" font-size=\"14.00\" fill=\"#000000\">entropy = 0.184</text>\n<text text-anchor=\"middle\" x=\"16713\" y=\"-631.8\" font-family=\"Helvetica,sans-Serif\" font-size=\"14.00\" fill=\"#000000\">samples = 56646</text>\n<text text-anchor=\"middle\" x=\"16713\" y=\"-616.8\" font-family=\"Helvetica,sans-Serif\" font-size=\"14.00\" fill=\"#000000\">value = [1579, 55067]</text>\n</g>\n<!-- 254&#45;&gt;255 -->\n<g id=\"edge255\" class=\"edge\">\n<title>254&#45;&gt;255</title>\n<path fill=\"none\" stroke=\"#000000\" d=\"M18394.2846,-742.1234C18100.0486,-724.7761 17105.5432,-666.1431 16801.8278,-648.237\"/>\n<polygon fill=\"#000000\" stroke=\"#000000\" points=\"16801.937,-644.7375 16791.7483,-647.6428 16801.525,-651.7253 16801.937,-644.7375\"/>\n</g>\n<!-- 352 -->\n<g id=\"node353\" class=\"node\">\n<title>352</title>\n<polygon fill=\"#47a4e7\" stroke=\"#000000\" points=\"19858.5,-677 19701.5,-677 19701.5,-609 19858.5,-609 19858.5,-677\"/>\n<text text-anchor=\"middle\" x=\"19780\" y=\"-661.8\" font-family=\"Helvetica,sans-Serif\" font-size=\"14.00\" fill=\"#000000\">X[11] &lt;= &#45;0.123</text>\n<text text-anchor=\"middle\" x=\"19780\" y=\"-646.8\" font-family=\"Helvetica,sans-Serif\" font-size=\"14.00\" fill=\"#000000\">entropy = 0.358</text>\n<text text-anchor=\"middle\" x=\"19780\" y=\"-631.8\" font-family=\"Helvetica,sans-Serif\" font-size=\"14.00\" fill=\"#000000\">samples = 100171</text>\n<text text-anchor=\"middle\" x=\"19780\" y=\"-616.8\" font-family=\"Helvetica,sans-Serif\" font-size=\"14.00\" fill=\"#000000\">value = [6798, 93373]</text>\n</g>\n<!-- 254&#45;&gt;352 -->\n<g id=\"edge352\" class=\"edge\">\n<title>254&#45;&gt;352</title>\n<path fill=\"none\" stroke=\"#000000\" d=\"M18559.9932,-740.3758C18792.9236,-721.7843 19451.3504,-669.2314 19691.1964,-650.0879\"/>\n<polygon fill=\"#000000\" stroke=\"#000000\" points=\"19691.5801,-653.5685 19701.2699,-649.2839 19691.0231,-646.5907 19691.5801,-653.5685\"/>\n</g>\n<!-- 256 -->\n<g id=\"node257\" class=\"node\">\n<title>256</title>\n<polygon fill=\"#41a1e6\" stroke=\"#000000\" points=\"15134.5,-573 14977.5,-573 14977.5,-505 15134.5,-505 15134.5,-573\"/>\n<text text-anchor=\"middle\" x=\"15056\" y=\"-557.8\" font-family=\"Helvetica,sans-Serif\" font-size=\"14.00\" fill=\"#000000\">X[0] &lt;= &#45;0.792</text>\n<text text-anchor=\"middle\" x=\"15056\" y=\"-542.8\" font-family=\"Helvetica,sans-Serif\" font-size=\"14.00\" fill=\"#000000\">entropy = 0.228</text>\n<text text-anchor=\"middle\" x=\"15056\" y=\"-527.8\" font-family=\"Helvetica,sans-Serif\" font-size=\"14.00\" fill=\"#000000\">samples = 31370</text>\n<text text-anchor=\"middle\" x=\"15056\" y=\"-512.8\" font-family=\"Helvetica,sans-Serif\" font-size=\"14.00\" fill=\"#000000\">value = [1160, 30210]</text>\n</g>\n<!-- 255&#45;&gt;256 -->\n<g id=\"edge256\" class=\"edge\">\n<title>255&#45;&gt;256</title>\n<path fill=\"none\" stroke=\"#000000\" d=\"M16634.4718,-638.0713C16358.8081,-620.7695 15436.2543,-562.8663 15144.942,-544.5824\"/>\n<polygon fill=\"#000000\" stroke=\"#000000\" points=\"15145.0471,-541.0822 15134.8475,-543.9488 15144.6086,-548.0684 15145.0471,-541.0822\"/>\n</g>\n<!-- 305 -->\n<g id=\"node306\" class=\"node\">\n<title>305</title>\n<polygon fill=\"#3c9fe5\" stroke=\"#000000\" points=\"16787.5,-573 16638.5,-573 16638.5,-505 16787.5,-505 16787.5,-573\"/>\n<text text-anchor=\"middle\" x=\"16713\" y=\"-557.8\" font-family=\"Helvetica,sans-Serif\" font-size=\"14.00\" fill=\"#000000\">X[3] &lt;= &#45;0.134</text>\n<text text-anchor=\"middle\" x=\"16713\" y=\"-542.8\" font-family=\"Helvetica,sans-Serif\" font-size=\"14.00\" fill=\"#000000\">entropy = 0.122</text>\n<text text-anchor=\"middle\" x=\"16713\" y=\"-527.8\" font-family=\"Helvetica,sans-Serif\" font-size=\"14.00\" fill=\"#000000\">samples = 25276</text>\n<text text-anchor=\"middle\" x=\"16713\" y=\"-512.8\" font-family=\"Helvetica,sans-Serif\" font-size=\"14.00\" fill=\"#000000\">value = [419, 24857]</text>\n</g>\n<!-- 255&#45;&gt;305 -->\n<g id=\"edge305\" class=\"edge\">\n<title>255&#45;&gt;305</title>\n<path fill=\"none\" stroke=\"#000000\" d=\"M16713,-608.9465C16713,-600.776 16713,-591.9318 16713,-583.3697\"/>\n<polygon fill=\"#000000\" stroke=\"#000000\" points=\"16716.5001,-583.13 16713,-573.13 16709.5001,-583.13 16716.5001,-583.13\"/>\n</g>\n<!-- 257 -->\n<g id=\"node258\" class=\"node\">\n<title>257</title>\n<polygon fill=\"#3b9ee5\" stroke=\"#000000\" points=\"14031,-469 13891,-469 13891,-401 14031,-401 14031,-469\"/>\n<text text-anchor=\"middle\" x=\"13961\" y=\"-453.8\" font-family=\"Helvetica,sans-Serif\" font-size=\"14.00\" fill=\"#000000\">X[11] &lt;= &#45;0.408</text>\n<text text-anchor=\"middle\" x=\"13961\" y=\"-438.8\" font-family=\"Helvetica,sans-Serif\" font-size=\"14.00\" fill=\"#000000\">entropy = 0.085</text>\n<text text-anchor=\"middle\" x=\"13961\" y=\"-423.8\" font-family=\"Helvetica,sans-Serif\" font-size=\"14.00\" fill=\"#000000\">samples = 9992</text>\n<text text-anchor=\"middle\" x=\"13961\" y=\"-408.8\" font-family=\"Helvetica,sans-Serif\" font-size=\"14.00\" fill=\"#000000\">value = [106, 9886]</text>\n</g>\n<!-- 256&#45;&gt;257 -->\n<g id=\"edge257\" class=\"edge\">\n<title>256&#45;&gt;257</title>\n<path fill=\"none\" stroke=\"#000000\" d=\"M14977.2503,-531.5206C14775.9163,-512.3984 14243.998,-461.8783 14041.1454,-442.612\"/>\n<polygon fill=\"#000000\" stroke=\"#000000\" points=\"14041.4425,-439.1245 14031.1564,-441.6633 14040.7806,-446.0932 14041.4425,-439.1245\"/>\n</g>\n<!-- 280 -->\n<g id=\"node281\" class=\"node\">\n<title>280</title>\n<polygon fill=\"#43a2e6\" stroke=\"#000000\" points=\"15134.5,-469 14977.5,-469 14977.5,-401 15134.5,-401 15134.5,-469\"/>\n<text text-anchor=\"middle\" x=\"15056\" y=\"-453.8\" font-family=\"Helvetica,sans-Serif\" font-size=\"14.00\" fill=\"#000000\">X[13] &lt;= &#45;0.423</text>\n<text text-anchor=\"middle\" x=\"15056\" y=\"-438.8\" font-family=\"Helvetica,sans-Serif\" font-size=\"14.00\" fill=\"#000000\">entropy = 0.283</text>\n<text text-anchor=\"middle\" x=\"15056\" y=\"-423.8\" font-family=\"Helvetica,sans-Serif\" font-size=\"14.00\" fill=\"#000000\">samples = 21378</text>\n<text text-anchor=\"middle\" x=\"15056\" y=\"-408.8\" font-family=\"Helvetica,sans-Serif\" font-size=\"14.00\" fill=\"#000000\">value = [1054, 20324]</text>\n</g>\n<!-- 256&#45;&gt;280 -->\n<g id=\"edge280\" class=\"edge\">\n<title>256&#45;&gt;280</title>\n<path fill=\"none\" stroke=\"#000000\" d=\"M15056,-504.9465C15056,-496.776 15056,-487.9318 15056,-479.3697\"/>\n<polygon fill=\"#000000\" stroke=\"#000000\" points=\"15059.5001,-479.13 15056,-469.13 15052.5001,-479.13 15059.5001,-479.13\"/>\n</g>\n<!-- 258 -->\n<g id=\"node259\" class=\"node\">\n<title>258</title>\n<polygon fill=\"#3c9ee5\" stroke=\"#000000\" points=\"13596,-365 13456,-365 13456,-297 13596,-297 13596,-365\"/>\n<text text-anchor=\"middle\" x=\"13526\" y=\"-349.8\" font-family=\"Helvetica,sans-Serif\" font-size=\"14.00\" fill=\"#000000\">X[0] &lt;= &#45;1.021</text>\n<text text-anchor=\"middle\" x=\"13526\" y=\"-334.8\" font-family=\"Helvetica,sans-Serif\" font-size=\"14.00\" fill=\"#000000\">entropy = 0.109</text>\n<text text-anchor=\"middle\" x=\"13526\" y=\"-319.8\" font-family=\"Helvetica,sans-Serif\" font-size=\"14.00\" fill=\"#000000\">samples = 7195</text>\n<text text-anchor=\"middle\" x=\"13526\" y=\"-304.8\" font-family=\"Helvetica,sans-Serif\" font-size=\"14.00\" fill=\"#000000\">value = [104, 7091]</text>\n</g>\n<!-- 257&#45;&gt;258 -->\n<g id=\"edge258\" class=\"edge\">\n<title>257&#45;&gt;258</title>\n<path fill=\"none\" stroke=\"#000000\" d=\"M13890.6263,-418.175C13812.9156,-399.5959 13688.0329,-369.7389 13606.4904,-350.2437\"/>\n<polygon fill=\"#000000\" stroke=\"#000000\" points=\"13606.8124,-346.7221 13596.2726,-347.8008 13605.1846,-353.5302 13606.8124,-346.7221\"/>\n</g>\n<!-- 271 -->\n<g id=\"node272\" class=\"node\">\n<title>271</title>\n<polygon fill=\"#399de5\" stroke=\"#000000\" points=\"14023,-365 13899,-365 13899,-297 14023,-297 14023,-365\"/>\n<text text-anchor=\"middle\" x=\"13961\" y=\"-349.8\" font-family=\"Helvetica,sans-Serif\" font-size=\"14.00\" fill=\"#000000\">X[2] &lt;= &#45;0.621</text>\n<text text-anchor=\"middle\" x=\"13961\" y=\"-334.8\" font-family=\"Helvetica,sans-Serif\" font-size=\"14.00\" fill=\"#000000\">entropy = 0.009</text>\n<text text-anchor=\"middle\" x=\"13961\" y=\"-319.8\" font-family=\"Helvetica,sans-Serif\" font-size=\"14.00\" fill=\"#000000\">samples = 2797</text>\n<text text-anchor=\"middle\" x=\"13961\" y=\"-304.8\" font-family=\"Helvetica,sans-Serif\" font-size=\"14.00\" fill=\"#000000\">value = [2, 2795]</text>\n</g>\n<!-- 257&#45;&gt;271 -->\n<g id=\"edge271\" class=\"edge\">\n<title>257&#45;&gt;271</title>\n<path fill=\"none\" stroke=\"#000000\" d=\"M13961,-400.9465C13961,-392.776 13961,-383.9318 13961,-375.3697\"/>\n<polygon fill=\"#000000\" stroke=\"#000000\" points=\"13964.5001,-375.13 13961,-365.13 13957.5001,-375.13 13964.5001,-375.13\"/>\n</g>\n<!-- 259 -->\n<g id=\"node260\" class=\"node\">\n<title>259</title>\n<polygon fill=\"#3a9ee5\" stroke=\"#000000\" points=\"13372,-261 13240,-261 13240,-193 13372,-193 13372,-261\"/>\n<text text-anchor=\"middle\" x=\"13306\" y=\"-245.8\" font-family=\"Helvetica,sans-Serif\" font-size=\"14.00\" fill=\"#000000\">X[11] &lt;= &#45;0.577</text>\n<text text-anchor=\"middle\" x=\"13306\" y=\"-230.8\" font-family=\"Helvetica,sans-Serif\" font-size=\"14.00\" fill=\"#000000\">entropy = 0.055</text>\n<text text-anchor=\"middle\" x=\"13306\" y=\"-215.8\" font-family=\"Helvetica,sans-Serif\" font-size=\"14.00\" fill=\"#000000\">samples = 4794</text>\n<text text-anchor=\"middle\" x=\"13306\" y=\"-200.8\" font-family=\"Helvetica,sans-Serif\" font-size=\"14.00\" fill=\"#000000\">value = [30, 4764]</text>\n</g>\n<!-- 258&#45;&gt;259 -->\n<g id=\"edge259\" class=\"edge\">\n<title>258&#45;&gt;259</title>\n<path fill=\"none\" stroke=\"#000000\" d=\"M13455.7858,-297.8078C13432.035,-286.5802 13405.4244,-274.0006 13381.2957,-262.5943\"/>\n<polygon fill=\"#000000\" stroke=\"#000000\" points=\"13382.7174,-259.3951 13372.1809,-258.2855 13379.7257,-265.7236 13382.7174,-259.3951\"/>\n</g>\n<!-- 264 -->\n<g id=\"node265\" class=\"node\">\n<title>264</title>\n<polygon fill=\"#3fa0e6\" stroke=\"#000000\" points=\"13592,-261 13460,-261 13460,-193 13592,-193 13592,-261\"/>\n<text text-anchor=\"middle\" x=\"13526\" y=\"-245.8\" font-family=\"Helvetica,sans-Serif\" font-size=\"14.00\" fill=\"#000000\">X[13] &lt;= &#45;0.517</text>\n<text text-anchor=\"middle\" x=\"13526\" y=\"-230.8\" font-family=\"Helvetica,sans-Serif\" font-size=\"14.00\" fill=\"#000000\">entropy = 0.198</text>\n<text text-anchor=\"middle\" x=\"13526\" y=\"-215.8\" font-family=\"Helvetica,sans-Serif\" font-size=\"14.00\" fill=\"#000000\">samples = 2401</text>\n<text text-anchor=\"middle\" x=\"13526\" y=\"-200.8\" font-family=\"Helvetica,sans-Serif\" font-size=\"14.00\" fill=\"#000000\">value = [74, 2327]</text>\n</g>\n<!-- 258&#45;&gt;264 -->\n<g id=\"edge264\" class=\"edge\">\n<title>258&#45;&gt;264</title>\n<path fill=\"none\" stroke=\"#000000\" d=\"M13526,-296.9465C13526,-288.776 13526,-279.9318 13526,-271.3697\"/>\n<polygon fill=\"#000000\" stroke=\"#000000\" points=\"13529.5001,-271.13 13526,-261.13 13522.5001,-271.13 13529.5001,-271.13\"/>\n</g>\n<!-- 260 -->\n<g id=\"node261\" class=\"node\">\n<title>260</title>\n<polygon fill=\"#3b9ee5\" stroke=\"#000000\" points=\"13226,-157 13094,-157 13094,-89 13226,-89 13226,-157\"/>\n<text text-anchor=\"middle\" x=\"13160\" y=\"-141.8\" font-family=\"Helvetica,sans-Serif\" font-size=\"14.00\" fill=\"#000000\">X[3] &lt;= &#45;1.189</text>\n<text text-anchor=\"middle\" x=\"13160\" y=\"-126.8\" font-family=\"Helvetica,sans-Serif\" font-size=\"14.00\" fill=\"#000000\">entropy = 0.077</text>\n<text text-anchor=\"middle\" x=\"13160\" y=\"-111.8\" font-family=\"Helvetica,sans-Serif\" font-size=\"14.00\" fill=\"#000000\">samples = 3172</text>\n<text text-anchor=\"middle\" x=\"13160\" y=\"-96.8\" font-family=\"Helvetica,sans-Serif\" font-size=\"14.00\" fill=\"#000000\">value = [30, 3142]</text>\n</g>\n<!-- 259&#45;&gt;260 -->\n<g id=\"edge260\" class=\"edge\">\n<title>259&#45;&gt;260</title>\n<path fill=\"none\" stroke=\"#000000\" d=\"M13258.1941,-192.9465C13244.8334,-183.4293 13230.1893,-172.9978 13216.3826,-163.163\"/>\n<polygon fill=\"#000000\" stroke=\"#000000\" points=\"13218.0888,-160.0811 13207.9133,-157.13 13214.0275,-165.7826 13218.0888,-160.0811\"/>\n</g>\n<!-- 263 -->\n<g id=\"node264\" class=\"node\">\n<title>263</title>\n<polygon fill=\"#399de5\" stroke=\"#000000\" points=\"13368,-149.5 13244,-149.5 13244,-96.5 13368,-96.5 13368,-149.5\"/>\n<text text-anchor=\"middle\" x=\"13306\" y=\"-134.3\" font-family=\"Helvetica,sans-Serif\" font-size=\"14.00\" fill=\"#000000\">entropy = 0.0</text>\n<text text-anchor=\"middle\" x=\"13306\" y=\"-119.3\" font-family=\"Helvetica,sans-Serif\" font-size=\"14.00\" fill=\"#000000\">samples = 1622</text>\n<text text-anchor=\"middle\" x=\"13306\" y=\"-104.3\" font-family=\"Helvetica,sans-Serif\" font-size=\"14.00\" fill=\"#000000\">value = [0, 1622]</text>\n</g>\n<!-- 259&#45;&gt;263 -->\n<g id=\"edge263\" class=\"edge\">\n<title>259&#45;&gt;263</title>\n<path fill=\"none\" stroke=\"#000000\" d=\"M13306,-192.9465C13306,-182.2621 13306,-170.4254 13306,-159.5742\"/>\n<polygon fill=\"#000000\" stroke=\"#000000\" points=\"13309.5001,-159.5421 13306,-149.5422 13302.5001,-159.5422 13309.5001,-159.5421\"/>\n</g>\n<!-- 261 -->\n<g id=\"node262\" class=\"node\">\n<title>261</title>\n<polygon fill=\"#399de5\" stroke=\"#000000\" points=\"13082,-53 12958,-53 12958,0 13082,0 13082,-53\"/>\n<text text-anchor=\"middle\" x=\"13020\" y=\"-37.8\" font-family=\"Helvetica,sans-Serif\" font-size=\"14.00\" fill=\"#000000\">entropy = 0.02</text>\n<text text-anchor=\"middle\" x=\"13020\" y=\"-22.8\" font-family=\"Helvetica,sans-Serif\" font-size=\"14.00\" fill=\"#000000\">samples = 2135</text>\n<text text-anchor=\"middle\" x=\"13020\" y=\"-7.8\" font-family=\"Helvetica,sans-Serif\" font-size=\"14.00\" fill=\"#000000\">value = [4, 2131]</text>\n</g>\n<!-- 260&#45;&gt;261 -->\n<g id=\"edge261\" class=\"edge\">\n<title>260&#45;&gt;261</title>\n<path fill=\"none\" stroke=\"#000000\" d=\"M13110.6412,-88.9777C13096.5594,-79.2713 13081.2537,-68.7213 13067.298,-59.1018\"/>\n<polygon fill=\"#000000\" stroke=\"#000000\" points=\"13069.026,-56.042 13058.8061,-53.2485 13065.0533,-61.8055 13069.026,-56.042\"/>\n</g>\n<!-- 262 -->\n<g id=\"node263\" class=\"node\">\n<title>262</title>\n<polygon fill=\"#3ea0e6\" stroke=\"#000000\" points=\"13232,-53 13100,-53 13100,0 13232,0 13232,-53\"/>\n<text text-anchor=\"middle\" x=\"13166\" y=\"-37.8\" font-family=\"Helvetica,sans-Serif\" font-size=\"14.00\" fill=\"#000000\">entropy = 0.169</text>\n<text text-anchor=\"middle\" x=\"13166\" y=\"-22.8\" font-family=\"Helvetica,sans-Serif\" font-size=\"14.00\" fill=\"#000000\">samples = 1037</text>\n<text text-anchor=\"middle\" x=\"13166\" y=\"-7.8\" font-family=\"Helvetica,sans-Serif\" font-size=\"14.00\" fill=\"#000000\">value = [26, 1011]</text>\n</g>\n<!-- 260&#45;&gt;262 -->\n<g id=\"edge262\" class=\"edge\">\n<title>260&#45;&gt;262</title>\n<path fill=\"none\" stroke=\"#000000\" d=\"M13162.1154,-88.9777C13162.6335,-80.6449 13163.1902,-71.6903 13163.7159,-63.2364\"/>\n<polygon fill=\"#000000\" stroke=\"#000000\" points=\"13167.2095,-63.4464 13164.3369,-53.2485 13160.223,-63.012 13167.2095,-63.4464\"/>\n</g>\n<!-- 265 -->\n<g id=\"node266\" class=\"node\">\n<title>265</title>\n<polygon fill=\"#3fa0e6\" stroke=\"#000000\" points=\"13518,-157 13386,-157 13386,-89 13518,-89 13518,-157\"/>\n<text text-anchor=\"middle\" x=\"13452\" y=\"-141.8\" font-family=\"Helvetica,sans-Serif\" font-size=\"14.00\" fill=\"#000000\">X[6] &lt;= &#45;1.02</text>\n<text text-anchor=\"middle\" x=\"13452\" y=\"-126.8\" font-family=\"Helvetica,sans-Serif\" font-size=\"14.00\" fill=\"#000000\">entropy = 0.184</text>\n<text text-anchor=\"middle\" x=\"13452\" y=\"-111.8\" font-family=\"Helvetica,sans-Serif\" font-size=\"14.00\" fill=\"#000000\">samples = 2324</text>\n<text text-anchor=\"middle\" x=\"13452\" y=\"-96.8\" font-family=\"Helvetica,sans-Serif\" font-size=\"14.00\" fill=\"#000000\">value = [65, 2259]</text>\n</g>\n<!-- 264&#45;&gt;265 -->\n<g id=\"edge265\" class=\"edge\">\n<title>264&#45;&gt;265</title>\n<path fill=\"none\" stroke=\"#000000\" d=\"M13501.7696,-192.9465C13495.5088,-184.1475 13488.692,-174.5672 13482.1687,-165.3993\"/>\n<polygon fill=\"#000000\" stroke=\"#000000\" points=\"13484.9342,-163.2488 13476.2848,-157.13 13479.2306,-167.3071 13484.9342,-163.2488\"/>\n</g>\n<!-- 268 -->\n<g id=\"node269\" class=\"node\">\n<title>268</title>\n<polygon fill=\"#53aae8\" stroke=\"#000000\" points=\"13653,-157 13537,-157 13537,-89 13653,-89 13653,-157\"/>\n<text text-anchor=\"middle\" x=\"13595\" y=\"-141.8\" font-family=\"Helvetica,sans-Serif\" font-size=\"14.00\" fill=\"#000000\">X[11] &lt;= &#45;0.471</text>\n<text text-anchor=\"middle\" x=\"13595\" y=\"-126.8\" font-family=\"Helvetica,sans-Serif\" font-size=\"14.00\" fill=\"#000000\">entropy = 0.52</text>\n<text text-anchor=\"middle\" x=\"13595\" y=\"-111.8\" font-family=\"Helvetica,sans-Serif\" font-size=\"14.00\" fill=\"#000000\">samples = 77</text>\n<text text-anchor=\"middle\" x=\"13595\" y=\"-96.8\" font-family=\"Helvetica,sans-Serif\" font-size=\"14.00\" fill=\"#000000\">value = [9, 68]</text>\n</g>\n<!-- 264&#45;&gt;268 -->\n<g id=\"edge268\" class=\"edge\">\n<title>264&#45;&gt;268</title>\n<path fill=\"none\" stroke=\"#000000\" d=\"M13548.5932,-192.9465C13554.3714,-184.2373 13560.6575,-174.7626 13566.6834,-165.6801\"/>\n<polygon fill=\"#000000\" stroke=\"#000000\" points=\"13569.744,-167.3978 13572.3561,-157.13 13563.911,-163.5278 13569.744,-167.3978\"/>\n</g>\n<!-- 266 -->\n<g id=\"node267\" class=\"node\">\n<title>266</title>\n<polygon fill=\"#cee6f8\" stroke=\"#000000\" points=\"13368,-53 13250,-53 13250,0 13368,0 13368,-53\"/>\n<text text-anchor=\"middle\" x=\"13309\" y=\"-37.8\" font-family=\"Helvetica,sans-Serif\" font-size=\"14.00\" fill=\"#000000\">entropy = 0.985</text>\n<text text-anchor=\"middle\" x=\"13309\" y=\"-22.8\" font-family=\"Helvetica,sans-Serif\" font-size=\"14.00\" fill=\"#000000\">samples = 7</text>\n<text text-anchor=\"middle\" x=\"13309\" y=\"-7.8\" font-family=\"Helvetica,sans-Serif\" font-size=\"14.00\" fill=\"#000000\">value = [3, 4]</text>\n</g>\n<!-- 265&#45;&gt;266 -->\n<g id=\"edge266\" class=\"edge\">\n<title>265&#45;&gt;266</title>\n<path fill=\"none\" stroke=\"#000000\" d=\"M13401.5835,-88.9777C13387.2,-79.2713 13371.5663,-68.7213 13357.3115,-59.1018\"/>\n<polygon fill=\"#000000\" stroke=\"#000000\" points=\"13358.8846,-55.941 13348.6376,-53.2485 13354.969,-61.7435 13358.8846,-55.941\"/>\n</g>\n<!-- 267 -->\n<g id=\"node268\" class=\"node\">\n<title>267</title>\n<polygon fill=\"#3ea0e6\" stroke=\"#000000\" points=\"13518,-53 13386,-53 13386,0 13518,0 13518,-53\"/>\n<text text-anchor=\"middle\" x=\"13452\" y=\"-37.8\" font-family=\"Helvetica,sans-Serif\" font-size=\"14.00\" fill=\"#000000\">entropy = 0.178</text>\n<text text-anchor=\"middle\" x=\"13452\" y=\"-22.8\" font-family=\"Helvetica,sans-Serif\" font-size=\"14.00\" fill=\"#000000\">samples = 2317</text>\n<text text-anchor=\"middle\" x=\"13452\" y=\"-7.8\" font-family=\"Helvetica,sans-Serif\" font-size=\"14.00\" fill=\"#000000\">value = [62, 2255]</text>\n</g>\n<!-- 265&#45;&gt;267 -->\n<g id=\"edge267\" class=\"edge\">\n<title>265&#45;&gt;267</title>\n<path fill=\"none\" stroke=\"#000000\" d=\"M13452,-88.9777C13452,-80.7364 13452,-71.887 13452,-63.5153\"/>\n<polygon fill=\"#000000\" stroke=\"#000000\" points=\"13455.5001,-63.2484 13452,-53.2485 13448.5001,-63.2485 13455.5001,-63.2484\"/>\n</g>\n<!-- 269 -->\n<g id=\"node270\" class=\"node\">\n<title>269</title>\n<polygon fill=\"#60b0ea\" stroke=\"#000000\" points=\"13654,-53 13536,-53 13536,0 13654,0 13654,-53\"/>\n<text text-anchor=\"middle\" x=\"13595\" y=\"-37.8\" font-family=\"Helvetica,sans-Serif\" font-size=\"14.00\" fill=\"#000000\">entropy = 0.643</text>\n<text text-anchor=\"middle\" x=\"13595\" y=\"-22.8\" font-family=\"Helvetica,sans-Serif\" font-size=\"14.00\" fill=\"#000000\">samples = 55</text>\n<text text-anchor=\"middle\" x=\"13595\" y=\"-7.8\" font-family=\"Helvetica,sans-Serif\" font-size=\"14.00\" fill=\"#000000\">value = [9, 46]</text>\n</g>\n<!-- 268&#45;&gt;269 -->\n<g id=\"edge269\" class=\"edge\">\n<title>268&#45;&gt;269</title>\n<path fill=\"none\" stroke=\"#000000\" d=\"M13595,-88.9777C13595,-80.7364 13595,-71.887 13595,-63.5153\"/>\n<polygon fill=\"#000000\" stroke=\"#000000\" points=\"13598.5001,-63.2484 13595,-53.2485 13591.5001,-63.2485 13598.5001,-63.2484\"/>\n</g>\n<!-- 270 -->\n<g id=\"node271\" class=\"node\">\n<title>270</title>\n<polygon fill=\"#399de5\" stroke=\"#000000\" points=\"13779.5,-53 13672.5,-53 13672.5,0 13779.5,0 13779.5,-53\"/>\n<text text-anchor=\"middle\" x=\"13726\" y=\"-37.8\" font-family=\"Helvetica,sans-Serif\" font-size=\"14.00\" fill=\"#000000\">entropy = 0.0</text>\n<text text-anchor=\"middle\" x=\"13726\" y=\"-22.8\" font-family=\"Helvetica,sans-Serif\" font-size=\"14.00\" fill=\"#000000\">samples = 22</text>\n<text text-anchor=\"middle\" x=\"13726\" y=\"-7.8\" font-family=\"Helvetica,sans-Serif\" font-size=\"14.00\" fill=\"#000000\">value = [0, 22]</text>\n</g>\n<!-- 268&#45;&gt;270 -->\n<g id=\"edge270\" class=\"edge\">\n<title>268&#45;&gt;270</title>\n<path fill=\"none\" stroke=\"#000000\" d=\"M13641.1857,-88.9777C13654.2379,-79.3629 13668.4139,-68.9203 13681.3727,-59.3743\"/>\n<polygon fill=\"#000000\" stroke=\"#000000\" points=\"13683.7131,-61.9974 13689.6886,-53.2485 13679.5614,-56.3615 13683.7131,-61.9974\"/>\n</g>\n<!-- 272 -->\n<g id=\"node273\" class=\"node\">\n<title>272</title>\n<polygon fill=\"#399de5\" stroke=\"#000000\" points=\"13954,-253.5 13830,-253.5 13830,-200.5 13954,-200.5 13954,-253.5\"/>\n<text text-anchor=\"middle\" x=\"13892\" y=\"-238.3\" font-family=\"Helvetica,sans-Serif\" font-size=\"14.00\" fill=\"#000000\">entropy = 0.0</text>\n<text text-anchor=\"middle\" x=\"13892\" y=\"-223.3\" font-family=\"Helvetica,sans-Serif\" font-size=\"14.00\" fill=\"#000000\">samples = 2405</text>\n<text text-anchor=\"middle\" x=\"13892\" y=\"-208.3\" font-family=\"Helvetica,sans-Serif\" font-size=\"14.00\" fill=\"#000000\">value = [0, 2405]</text>\n</g>\n<!-- 271&#45;&gt;272 -->\n<g id=\"edge272\" class=\"edge\">\n<title>271&#45;&gt;272</title>\n<path fill=\"none\" stroke=\"#000000\" d=\"M13938.4068,-296.9465C13930.9527,-285.7113 13922.6533,-273.2021 13915.1577,-261.9043\"/>\n<polygon fill=\"#000000\" stroke=\"#000000\" points=\"13918.0547,-259.94 13909.6097,-253.5422 13912.2218,-263.81 13918.0547,-259.94\"/>\n</g>\n<!-- 273 -->\n<g id=\"node274\" class=\"node\">\n<title>273</title>\n<polygon fill=\"#3a9ee5\" stroke=\"#000000\" points=\"14090,-261 13972,-261 13972,-193 14090,-193 14090,-261\"/>\n<text text-anchor=\"middle\" x=\"14031\" y=\"-245.8\" font-family=\"Helvetica,sans-Serif\" font-size=\"14.00\" fill=\"#000000\">X[9] &lt;= &#45;1.688</text>\n<text text-anchor=\"middle\" x=\"14031\" y=\"-230.8\" font-family=\"Helvetica,sans-Serif\" font-size=\"14.00\" fill=\"#000000\">entropy = 0.046</text>\n<text text-anchor=\"middle\" x=\"14031\" y=\"-215.8\" font-family=\"Helvetica,sans-Serif\" font-size=\"14.00\" fill=\"#000000\">samples = 392</text>\n<text text-anchor=\"middle\" x=\"14031\" y=\"-200.8\" font-family=\"Helvetica,sans-Serif\" font-size=\"14.00\" fill=\"#000000\">value = [2, 390]</text>\n</g>\n<!-- 271&#45;&gt;273 -->\n<g id=\"edge273\" class=\"edge\">\n<title>271&#45;&gt;273</title>\n<path fill=\"none\" stroke=\"#000000\" d=\"M13983.9206,-296.9465C13989.7826,-288.2373 13996.1598,-278.7626 14002.273,-269.6801\"/>\n<polygon fill=\"#000000\" stroke=\"#000000\" points=\"14005.3476,-271.3802 14008.0279,-261.13 13999.5405,-267.4716 14005.3476,-271.3802\"/>\n</g>\n<!-- 274 -->\n<g id=\"node275\" class=\"node\">\n<title>274</title>\n<polygon fill=\"#4fa8e8\" stroke=\"#000000\" points=\"14022,-157 13904,-157 13904,-89 14022,-89 14022,-157\"/>\n<text text-anchor=\"middle\" x=\"13963\" y=\"-141.8\" font-family=\"Helvetica,sans-Serif\" font-size=\"14.00\" fill=\"#000000\">X[6] &lt;= 0.275</text>\n<text text-anchor=\"middle\" x=\"13963\" y=\"-126.8\" font-family=\"Helvetica,sans-Serif\" font-size=\"14.00\" fill=\"#000000\">entropy = 0.469</text>\n<text text-anchor=\"middle\" x=\"13963\" y=\"-111.8\" font-family=\"Helvetica,sans-Serif\" font-size=\"14.00\" fill=\"#000000\">samples = 10</text>\n<text text-anchor=\"middle\" x=\"13963\" y=\"-96.8\" font-family=\"Helvetica,sans-Serif\" font-size=\"14.00\" fill=\"#000000\">value = [1, 9]</text>\n</g>\n<!-- 273&#45;&gt;274 -->\n<g id=\"edge274\" class=\"edge\">\n<title>273&#45;&gt;274</title>\n<path fill=\"none\" stroke=\"#000000\" d=\"M14008.7343,-192.9465C14003.0398,-184.2373 13996.8448,-174.7626 13990.9062,-165.6801\"/>\n<polygon fill=\"#000000\" stroke=\"#000000\" points=\"13993.7177,-163.5843 13985.3158,-157.13 13987.8589,-167.4151 13993.7177,-163.5843\"/>\n</g>\n<!-- 277 -->\n<g id=\"node278\" class=\"node\">\n<title>277</title>\n<polygon fill=\"#3a9de5\" stroke=\"#000000\" points=\"14158,-157 14040,-157 14040,-89 14158,-89 14158,-157\"/>\n<text text-anchor=\"middle\" x=\"14099\" y=\"-141.8\" font-family=\"Helvetica,sans-Serif\" font-size=\"14.00\" fill=\"#000000\">X[5] &lt;= 1.296</text>\n<text text-anchor=\"middle\" x=\"14099\" y=\"-126.8\" font-family=\"Helvetica,sans-Serif\" font-size=\"14.00\" fill=\"#000000\">entropy = 0.026</text>\n<text text-anchor=\"middle\" x=\"14099\" y=\"-111.8\" font-family=\"Helvetica,sans-Serif\" font-size=\"14.00\" fill=\"#000000\">samples = 382</text>\n<text text-anchor=\"middle\" x=\"14099\" y=\"-96.8\" font-family=\"Helvetica,sans-Serif\" font-size=\"14.00\" fill=\"#000000\">value = [1, 381]</text>\n</g>\n<!-- 273&#45;&gt;277 -->\n<g id=\"edge277\" class=\"edge\">\n<title>273&#45;&gt;277</title>\n<path fill=\"none\" stroke=\"#000000\" d=\"M14053.2657,-192.9465C14058.9602,-184.2373 14065.1552,-174.7626 14071.0938,-165.6801\"/>\n<polygon fill=\"#000000\" stroke=\"#000000\" points=\"14074.1411,-167.4151 14076.6842,-157.13 14068.2823,-163.5843 14074.1411,-167.4151\"/>\n</g>\n<!-- 275 -->\n<g id=\"node276\" class=\"node\">\n<title>275</title>\n<polygon fill=\"#399de5\" stroke=\"#000000\" points=\"13898.5,-53 13797.5,-53 13797.5,0 13898.5,0 13898.5,-53\"/>\n<text text-anchor=\"middle\" x=\"13848\" y=\"-37.8\" font-family=\"Helvetica,sans-Serif\" font-size=\"14.00\" fill=\"#000000\">entropy = 0.0</text>\n<text text-anchor=\"middle\" x=\"13848\" y=\"-22.8\" font-family=\"Helvetica,sans-Serif\" font-size=\"14.00\" fill=\"#000000\">samples = 9</text>\n<text text-anchor=\"middle\" x=\"13848\" y=\"-7.8\" font-family=\"Helvetica,sans-Serif\" font-size=\"14.00\" fill=\"#000000\">value = [0, 9]</text>\n</g>\n<!-- 274&#45;&gt;275 -->\n<g id=\"edge275\" class=\"edge\">\n<title>274&#45;&gt;275</title>\n<path fill=\"none\" stroke=\"#000000\" d=\"M13922.4553,-88.9777C13911.2155,-79.546 13899.0264,-69.3178 13887.8279,-59.9208\"/>\n<polygon fill=\"#000000\" stroke=\"#000000\" points=\"13889.7866,-56.9954 13879.8764,-53.2485 13885.287,-62.3576 13889.7866,-56.9954\"/>\n</g>\n<!-- 276 -->\n<g id=\"node277\" class=\"node\">\n<title>276</title>\n<polygon fill=\"#e58139\" stroke=\"#000000\" points=\"14017.5,-53 13916.5,-53 13916.5,0 14017.5,0 14017.5,-53\"/>\n<text text-anchor=\"middle\" x=\"13967\" y=\"-37.8\" font-family=\"Helvetica,sans-Serif\" font-size=\"14.00\" fill=\"#000000\">entropy = 0.0</text>\n<text text-anchor=\"middle\" x=\"13967\" y=\"-22.8\" font-family=\"Helvetica,sans-Serif\" font-size=\"14.00\" fill=\"#000000\">samples = 1</text>\n<text text-anchor=\"middle\" x=\"13967\" y=\"-7.8\" font-family=\"Helvetica,sans-Serif\" font-size=\"14.00\" fill=\"#000000\">value = [1, 0]</text>\n</g>\n<!-- 274&#45;&gt;276 -->\n<g id=\"edge276\" class=\"edge\">\n<title>274&#45;&gt;276</title>\n<path fill=\"none\" stroke=\"#000000\" d=\"M13964.4103,-88.9777C13964.7519,-80.7364 13965.1187,-71.887 13965.4657,-63.5153\"/>\n<polygon fill=\"#000000\" stroke=\"#000000\" points=\"13968.974,-63.3849 13965.8913,-53.2485 13961.98,-63.0949 13968.974,-63.3849\"/>\n</g>\n<!-- 278 -->\n<g id=\"node279\" class=\"node\">\n<title>278</title>\n<polygon fill=\"#399de5\" stroke=\"#000000\" points=\"14152,-53 14036,-53 14036,0 14152,0 14152,-53\"/>\n<text text-anchor=\"middle\" x=\"14094\" y=\"-37.8\" font-family=\"Helvetica,sans-Serif\" font-size=\"14.00\" fill=\"#000000\">entropy = 0.0</text>\n<text text-anchor=\"middle\" x=\"14094\" y=\"-22.8\" font-family=\"Helvetica,sans-Serif\" font-size=\"14.00\" fill=\"#000000\">samples = 353</text>\n<text text-anchor=\"middle\" x=\"14094\" y=\"-7.8\" font-family=\"Helvetica,sans-Serif\" font-size=\"14.00\" fill=\"#000000\">value = [0, 353]</text>\n</g>\n<!-- 277&#45;&gt;278 -->\n<g id=\"edge278\" class=\"edge\">\n<title>277&#45;&gt;278</title>\n<path fill=\"none\" stroke=\"#000000\" d=\"M14097.2372,-88.9777C14096.8054,-80.6449 14096.3415,-71.6903 14095.9034,-63.2364\"/>\n<polygon fill=\"#000000\" stroke=\"#000000\" points=\"14099.3988,-63.0539 14095.3859,-53.2485 14092.4082,-63.4162 14099.3988,-63.0539\"/>\n</g>\n<!-- 279 -->\n<g id=\"node280\" class=\"node\">\n<title>279</title>\n<polygon fill=\"#40a0e6\" stroke=\"#000000\" points=\"14288,-53 14170,-53 14170,0 14288,0 14288,-53\"/>\n<text text-anchor=\"middle\" x=\"14229\" y=\"-37.8\" font-family=\"Helvetica,sans-Serif\" font-size=\"14.00\" fill=\"#000000\">entropy = 0.216</text>\n<text text-anchor=\"middle\" x=\"14229\" y=\"-22.8\" font-family=\"Helvetica,sans-Serif\" font-size=\"14.00\" fill=\"#000000\">samples = 29</text>\n<text text-anchor=\"middle\" x=\"14229\" y=\"-7.8\" font-family=\"Helvetica,sans-Serif\" font-size=\"14.00\" fill=\"#000000\">value = [1, 28]</text>\n</g>\n<!-- 277&#45;&gt;279 -->\n<g id=\"edge279\" class=\"edge\">\n<title>277&#45;&gt;279</title>\n<path fill=\"none\" stroke=\"#000000\" d=\"M14144.8331,-88.9777C14157.7857,-79.3629 14171.8535,-68.9203 14184.7133,-59.3743\"/>\n<polygon fill=\"#000000\" stroke=\"#000000\" points=\"14187.0224,-62.0193 14192.9658,-53.2485 14182.8501,-56.3986 14187.0224,-62.0193\"/>\n</g>\n<!-- 281 -->\n<g id=\"node282\" class=\"node\">\n<title>281</title>\n<polygon fill=\"#42a2e6\" stroke=\"#000000\" points=\"14941.5,-365 14792.5,-365 14792.5,-297 14941.5,-297 14941.5,-365\"/>\n<text text-anchor=\"middle\" x=\"14867\" y=\"-349.8\" font-family=\"Helvetica,sans-Serif\" font-size=\"14.00\" fill=\"#000000\">X[13] &lt;= &#45;0.532</text>\n<text text-anchor=\"middle\" x=\"14867\" y=\"-334.8\" font-family=\"Helvetica,sans-Serif\" font-size=\"14.00\" fill=\"#000000\">entropy = 0.266</text>\n<text text-anchor=\"middle\" x=\"14867\" y=\"-319.8\" font-family=\"Helvetica,sans-Serif\" font-size=\"14.00\" fill=\"#000000\">samples = 21224</text>\n<text text-anchor=\"middle\" x=\"14867\" y=\"-304.8\" font-family=\"Helvetica,sans-Serif\" font-size=\"14.00\" fill=\"#000000\">value = [962, 20262]</text>\n</g>\n<!-- 280&#45;&gt;281 -->\n<g id=\"edge281\" class=\"edge\">\n<title>280&#45;&gt;281</title>\n<path fill=\"none\" stroke=\"#000000\" d=\"M14994.1143,-400.9465C14976.1659,-391.0701 14956.4284,-380.2093 14937.9699,-370.0522\"/>\n<polygon fill=\"#000000\" stroke=\"#000000\" points=\"14939.4733,-366.8846 14929.0247,-365.13 14936.0985,-373.0174 14939.4733,-366.8846\"/>\n</g>\n<!-- 294 -->\n<g id=\"node295\" class=\"node\">\n<title>294</title>\n<polygon fill=\"#f7d6be\" stroke=\"#000000\" points=\"15367,-365 15249,-365 15249,-297 15367,-297 15367,-365\"/>\n<text text-anchor=\"middle\" x=\"15308\" y=\"-349.8\" font-family=\"Helvetica,sans-Serif\" font-size=\"14.00\" fill=\"#000000\">X[3] &lt;= 1.476</text>\n<text text-anchor=\"middle\" x=\"15308\" y=\"-334.8\" font-family=\"Helvetica,sans-Serif\" font-size=\"14.00\" fill=\"#000000\">entropy = 0.972</text>\n<text text-anchor=\"middle\" x=\"15308\" y=\"-319.8\" font-family=\"Helvetica,sans-Serif\" font-size=\"14.00\" fill=\"#000000\">samples = 154</text>\n<text text-anchor=\"middle\" x=\"15308\" y=\"-304.8\" font-family=\"Helvetica,sans-Serif\" font-size=\"14.00\" fill=\"#000000\">value = [92, 62]</text>\n</g>\n<!-- 280&#45;&gt;294 -->\n<g id=\"edge294\" class=\"edge\">\n<title>280&#45;&gt;294</title>\n<path fill=\"none\" stroke=\"#000000\" d=\"M15134.6978,-402.5215C15168.2147,-388.6892 15206.9555,-372.7009 15239.2971,-359.3536\"/>\n<polygon fill=\"#000000\" stroke=\"#000000\" points=\"15240.7679,-362.533 15248.6764,-355.4827 15238.0975,-356.0624 15240.7679,-362.533\"/>\n</g>\n<!-- 282 -->\n<g id=\"node283\" class=\"node\">\n<title>282</title>\n<polygon fill=\"#eda978\" stroke=\"#000000\" points=\"14692,-261 14574,-261 14574,-193 14692,-193 14692,-261\"/>\n<text text-anchor=\"middle\" x=\"14633\" y=\"-245.8\" font-family=\"Helvetica,sans-Serif\" font-size=\"14.00\" fill=\"#000000\">X[0] &lt;= &#45;0.716</text>\n<text text-anchor=\"middle\" x=\"14633\" y=\"-230.8\" font-family=\"Helvetica,sans-Serif\" font-size=\"14.00\" fill=\"#000000\">entropy = 0.796</text>\n<text text-anchor=\"middle\" x=\"14633\" y=\"-215.8\" font-family=\"Helvetica,sans-Serif\" font-size=\"14.00\" fill=\"#000000\">samples = 54</text>\n<text text-anchor=\"middle\" x=\"14633\" y=\"-200.8\" font-family=\"Helvetica,sans-Serif\" font-size=\"14.00\" fill=\"#000000\">value = [41, 13]</text>\n</g>\n<!-- 281&#45;&gt;282 -->\n<g id=\"edge282\" class=\"edge\">\n<title>281&#45;&gt;282</title>\n<path fill=\"none\" stroke=\"#000000\" d=\"M14792.3176,-297.8078C14763.2367,-284.883 14730.1247,-270.1665 14701.6493,-257.5108\"/>\n<polygon fill=\"#000000\" stroke=\"#000000\" points=\"14702.7424,-254.1665 14692.1827,-253.3034 14699.8993,-260.5632 14702.7424,-254.1665\"/>\n</g>\n<!-- 287 -->\n<g id=\"node288\" class=\"node\">\n<title>287</title>\n<polygon fill=\"#42a1e6\" stroke=\"#000000\" points=\"14941.5,-261 14792.5,-261 14792.5,-193 14941.5,-193 14941.5,-261\"/>\n<text text-anchor=\"middle\" x=\"14867\" y=\"-245.8\" font-family=\"Helvetica,sans-Serif\" font-size=\"14.00\" fill=\"#000000\">X[2] &lt;= &#45;1.383</text>\n<text text-anchor=\"middle\" x=\"14867\" y=\"-230.8\" font-family=\"Helvetica,sans-Serif\" font-size=\"14.00\" fill=\"#000000\">entropy = 0.258</text>\n<text text-anchor=\"middle\" x=\"14867\" y=\"-215.8\" font-family=\"Helvetica,sans-Serif\" font-size=\"14.00\" fill=\"#000000\">samples = 21170</text>\n<text text-anchor=\"middle\" x=\"14867\" y=\"-200.8\" font-family=\"Helvetica,sans-Serif\" font-size=\"14.00\" fill=\"#000000\">value = [921, 20249]</text>\n</g>\n<!-- 281&#45;&gt;287 -->\n<g id=\"edge287\" class=\"edge\">\n<title>281&#45;&gt;287</title>\n<path fill=\"none\" stroke=\"#000000\" d=\"M14867,-296.9465C14867,-288.776 14867,-279.9318 14867,-271.3697\"/>\n<polygon fill=\"#000000\" stroke=\"#000000\" points=\"14870.5001,-271.13 14867,-261.13 14863.5001,-271.13 14870.5001,-271.13\"/>\n</g>\n<!-- 283 -->\n<g id=\"node284\" class=\"node\">\n<title>283</title>\n<polygon fill=\"#85c3ef\" stroke=\"#000000\" points=\"14555,-157 14437,-157 14437,-89 14555,-89 14555,-157\"/>\n<text text-anchor=\"middle\" x=\"14496\" y=\"-141.8\" font-family=\"Helvetica,sans-Serif\" font-size=\"14.00\" fill=\"#000000\">X[11] &lt;= &#45;0.2</text>\n<text text-anchor=\"middle\" x=\"14496\" y=\"-126.8\" font-family=\"Helvetica,sans-Serif\" font-size=\"14.00\" fill=\"#000000\">entropy = 0.852</text>\n<text text-anchor=\"middle\" x=\"14496\" y=\"-111.8\" font-family=\"Helvetica,sans-Serif\" font-size=\"14.00\" fill=\"#000000\">samples = 18</text>\n<text text-anchor=\"middle\" x=\"14496\" y=\"-96.8\" font-family=\"Helvetica,sans-Serif\" font-size=\"14.00\" fill=\"#000000\">value = [5, 13]</text>\n</g>\n<!-- 282&#45;&gt;283 -->\n<g id=\"edge283\" class=\"edge\">\n<title>282&#45;&gt;283</title>\n<path fill=\"none\" stroke=\"#000000\" d=\"M14588.1411,-192.9465C14575.7222,-183.519 14562.1217,-173.1946 14549.2739,-163.4415\"/>\n<polygon fill=\"#000000\" stroke=\"#000000\" points=\"14551.041,-160.3887 14540.9597,-157.13 14546.8085,-165.9642 14551.041,-160.3887\"/>\n</g>\n<!-- 286 -->\n<g id=\"node287\" class=\"node\">\n<title>286</title>\n<polygon fill=\"#e58139\" stroke=\"#000000\" points=\"14686.5,-149.5 14579.5,-149.5 14579.5,-96.5 14686.5,-96.5 14686.5,-149.5\"/>\n<text text-anchor=\"middle\" x=\"14633\" y=\"-134.3\" font-family=\"Helvetica,sans-Serif\" font-size=\"14.00\" fill=\"#000000\">entropy = 0.0</text>\n<text text-anchor=\"middle\" x=\"14633\" y=\"-119.3\" font-family=\"Helvetica,sans-Serif\" font-size=\"14.00\" fill=\"#000000\">samples = 36</text>\n<text text-anchor=\"middle\" x=\"14633\" y=\"-104.3\" font-family=\"Helvetica,sans-Serif\" font-size=\"14.00\" fill=\"#000000\">value = [36, 0]</text>\n</g>\n<!-- 282&#45;&gt;286 -->\n<g id=\"edge286\" class=\"edge\">\n<title>282&#45;&gt;286</title>\n<path fill=\"none\" stroke=\"#000000\" d=\"M14633,-192.9465C14633,-182.2621 14633,-170.4254 14633,-159.5742\"/>\n<polygon fill=\"#000000\" stroke=\"#000000\" points=\"14636.5001,-159.5421 14633,-149.5422 14629.5001,-159.5422 14636.5001,-159.5421\"/>\n</g>\n<!-- 284 -->\n<g id=\"node285\" class=\"node\">\n<title>284</title>\n<polygon fill=\"#f5cdb0\" stroke=\"#000000\" points=\"14424,-53 14306,-53 14306,0 14424,0 14424,-53\"/>\n<text text-anchor=\"middle\" x=\"14365\" y=\"-37.8\" font-family=\"Helvetica,sans-Serif\" font-size=\"14.00\" fill=\"#000000\">entropy = 0.954</text>\n<text text-anchor=\"middle\" x=\"14365\" y=\"-22.8\" font-family=\"Helvetica,sans-Serif\" font-size=\"14.00\" fill=\"#000000\">samples = 8</text>\n<text text-anchor=\"middle\" x=\"14365\" y=\"-7.8\" font-family=\"Helvetica,sans-Serif\" font-size=\"14.00\" fill=\"#000000\">value = [5, 3]</text>\n</g>\n<!-- 283&#45;&gt;284 -->\n<g id=\"edge284\" class=\"edge\">\n<title>283&#45;&gt;284</title>\n<path fill=\"none\" stroke=\"#000000\" d=\"M14449.8143,-88.9777C14436.7621,-79.3629 14422.5861,-68.9203 14409.6273,-59.3743\"/>\n<polygon fill=\"#000000\" stroke=\"#000000\" points=\"14411.4386,-56.3615 14401.3114,-53.2485 14407.2869,-61.9974 14411.4386,-56.3615\"/>\n</g>\n<!-- 285 -->\n<g id=\"node286\" class=\"node\">\n<title>285</title>\n<polygon fill=\"#399de5\" stroke=\"#000000\" points=\"14549.5,-53 14442.5,-53 14442.5,0 14549.5,0 14549.5,-53\"/>\n<text text-anchor=\"middle\" x=\"14496\" y=\"-37.8\" font-family=\"Helvetica,sans-Serif\" font-size=\"14.00\" fill=\"#000000\">entropy = 0.0</text>\n<text text-anchor=\"middle\" x=\"14496\" y=\"-22.8\" font-family=\"Helvetica,sans-Serif\" font-size=\"14.00\" fill=\"#000000\">samples = 10</text>\n<text text-anchor=\"middle\" x=\"14496\" y=\"-7.8\" font-family=\"Helvetica,sans-Serif\" font-size=\"14.00\" fill=\"#000000\">value = [0, 10]</text>\n</g>\n<!-- 283&#45;&gt;285 -->\n<g id=\"edge285\" class=\"edge\">\n<title>283&#45;&gt;285</title>\n<path fill=\"none\" stroke=\"#000000\" d=\"M14496,-88.9777C14496,-80.7364 14496,-71.887 14496,-63.5153\"/>\n<polygon fill=\"#000000\" stroke=\"#000000\" points=\"14499.5001,-63.2484 14496,-53.2485 14492.5001,-63.2485 14499.5001,-63.2484\"/>\n</g>\n<!-- 288 -->\n<g id=\"node289\" class=\"node\">\n<title>288</title>\n<polygon fill=\"#3e9fe6\" stroke=\"#000000\" points=\"14850,-157 14710,-157 14710,-89 14850,-89 14850,-157\"/>\n<text text-anchor=\"middle\" x=\"14780\" y=\"-141.8\" font-family=\"Helvetica,sans-Serif\" font-size=\"14.00\" fill=\"#000000\">X[13] &lt;= &#45;0.439</text>\n<text text-anchor=\"middle\" x=\"14780\" y=\"-126.8\" font-family=\"Helvetica,sans-Serif\" font-size=\"14.00\" fill=\"#000000\">entropy = 0.164</text>\n<text text-anchor=\"middle\" x=\"14780\" y=\"-111.8\" font-family=\"Helvetica,sans-Serif\" font-size=\"14.00\" fill=\"#000000\">samples = 5716</text>\n<text text-anchor=\"middle\" x=\"14780\" y=\"-96.8\" font-family=\"Helvetica,sans-Serif\" font-size=\"14.00\" fill=\"#000000\">value = [138, 5578]</text>\n</g>\n<!-- 287&#45;&gt;288 -->\n<g id=\"edge288\" class=\"edge\">\n<title>287&#45;&gt;288</title>\n<path fill=\"none\" stroke=\"#000000\" d=\"M14838.5129,-192.9465C14831.0021,-183.968 14822.8105,-174.1758 14814.9995,-164.8385\"/>\n<polygon fill=\"#000000\" stroke=\"#000000\" points=\"14817.652,-162.5544 14808.5511,-157.13 14812.2829,-167.0459 14817.652,-162.5544\"/>\n</g>\n<!-- 291 -->\n<g id=\"node292\" class=\"node\">\n<title>291</title>\n<polygon fill=\"#44a2e6\" stroke=\"#000000\" points=\"15017.5,-157 14868.5,-157 14868.5,-89 15017.5,-89 15017.5,-157\"/>\n<text text-anchor=\"middle\" x=\"14943\" y=\"-141.8\" font-family=\"Helvetica,sans-Serif\" font-size=\"14.00\" fill=\"#000000\">X[1] &lt;= 0.502</text>\n<text text-anchor=\"middle\" x=\"14943\" y=\"-126.8\" font-family=\"Helvetica,sans-Serif\" font-size=\"14.00\" fill=\"#000000\">entropy = 0.289</text>\n<text text-anchor=\"middle\" x=\"14943\" y=\"-111.8\" font-family=\"Helvetica,sans-Serif\" font-size=\"14.00\" fill=\"#000000\">samples = 15454</text>\n<text text-anchor=\"middle\" x=\"14943\" y=\"-96.8\" font-family=\"Helvetica,sans-Serif\" font-size=\"14.00\" fill=\"#000000\">value = [783, 14671]</text>\n</g>\n<!-- 287&#45;&gt;291 -->\n<g id=\"edge291\" class=\"edge\">\n<title>287&#45;&gt;291</title>\n<path fill=\"none\" stroke=\"#000000\" d=\"M14891.8852,-192.9465C14898.3153,-184.1475 14905.3163,-174.5672 14912.0159,-165.3993\"/>\n<polygon fill=\"#000000\" stroke=\"#000000\" points=\"14914.9845,-167.269 14918.0588,-157.13 14909.3328,-163.1389 14914.9845,-167.269\"/>\n</g>\n<!-- 289 -->\n<g id=\"node290\" class=\"node\">\n<title>289</title>\n<polygon fill=\"#3d9fe6\" stroke=\"#000000\" points=\"14708,-53 14568,-53 14568,0 14708,0 14708,-53\"/>\n<text text-anchor=\"middle\" x=\"14638\" y=\"-37.8\" font-family=\"Helvetica,sans-Serif\" font-size=\"14.00\" fill=\"#000000\">entropy = 0.152</text>\n<text text-anchor=\"middle\" x=\"14638\" y=\"-22.8\" font-family=\"Helvetica,sans-Serif\" font-size=\"14.00\" fill=\"#000000\">samples = 5681</text>\n<text text-anchor=\"middle\" x=\"14638\" y=\"-7.8\" font-family=\"Helvetica,sans-Serif\" font-size=\"14.00\" fill=\"#000000\">value = [124, 5557]</text>\n</g>\n<!-- 288&#45;&gt;289 -->\n<g id=\"edge289\" class=\"edge\">\n<title>288&#45;&gt;289</title>\n<path fill=\"none\" stroke=\"#000000\" d=\"M14729.9361,-88.9777C14715.6531,-79.2713 14700.1287,-68.7213 14685.9737,-59.1018\"/>\n<polygon fill=\"#000000\" stroke=\"#000000\" points=\"14687.5986,-55.9744 14677.3605,-53.2485 14683.6641,-61.764 14687.5986,-55.9744\"/>\n</g>\n<!-- 290 -->\n<g id=\"node291\" class=\"node\">\n<title>290</title>\n<polygon fill=\"#bddef6\" stroke=\"#000000\" points=\"14844,-53 14726,-53 14726,0 14844,0 14844,-53\"/>\n<text text-anchor=\"middle\" x=\"14785\" y=\"-37.8\" font-family=\"Helvetica,sans-Serif\" font-size=\"14.00\" fill=\"#000000\">entropy = 0.971</text>\n<text text-anchor=\"middle\" x=\"14785\" y=\"-22.8\" font-family=\"Helvetica,sans-Serif\" font-size=\"14.00\" fill=\"#000000\">samples = 35</text>\n<text text-anchor=\"middle\" x=\"14785\" y=\"-7.8\" font-family=\"Helvetica,sans-Serif\" font-size=\"14.00\" fill=\"#000000\">value = [14, 21]</text>\n</g>\n<!-- 288&#45;&gt;290 -->\n<g id=\"edge290\" class=\"edge\">\n<title>288&#45;&gt;290</title>\n<path fill=\"none\" stroke=\"#000000\" d=\"M14781.7628,-88.9777C14782.1946,-80.6449 14782.6585,-71.6903 14783.0966,-63.2364\"/>\n<polygon fill=\"#000000\" stroke=\"#000000\" points=\"14786.5918,-63.4162 14783.6141,-53.2485 14779.6012,-63.0539 14786.5918,-63.4162\"/>\n</g>\n<!-- 292 -->\n<g id=\"node293\" class=\"node\">\n<title>292</title>\n<polygon fill=\"#45a3e7\" stroke=\"#000000\" points=\"15011.5,-53 14862.5,-53 14862.5,0 15011.5,0 15011.5,-53\"/>\n<text text-anchor=\"middle\" x=\"14937\" y=\"-37.8\" font-family=\"Helvetica,sans-Serif\" font-size=\"14.00\" fill=\"#000000\">entropy = 0.321</text>\n<text text-anchor=\"middle\" x=\"14937\" y=\"-22.8\" font-family=\"Helvetica,sans-Serif\" font-size=\"14.00\" fill=\"#000000\">samples = 12456</text>\n<text text-anchor=\"middle\" x=\"14937\" y=\"-7.8\" font-family=\"Helvetica,sans-Serif\" font-size=\"14.00\" fill=\"#000000\">value = [726, 11730]</text>\n</g>\n<!-- 291&#45;&gt;292 -->\n<g id=\"edge292\" class=\"edge\">\n<title>291&#45;&gt;292</title>\n<path fill=\"none\" stroke=\"#000000\" d=\"M14940.8846,-88.9777C14940.3665,-80.6449 14939.8098,-71.6903 14939.2841,-63.2364\"/>\n<polygon fill=\"#000000\" stroke=\"#000000\" points=\"14942.777,-63.012 14938.6631,-53.2485 14935.7905,-63.4464 14942.777,-63.012\"/>\n</g>\n<!-- 293 -->\n<g id=\"node294\" class=\"node\">\n<title>293</title>\n<polygon fill=\"#3d9fe6\" stroke=\"#000000\" points=\"15162,-53 15030,-53 15030,0 15162,0 15162,-53\"/>\n<text text-anchor=\"middle\" x=\"15096\" y=\"-37.8\" font-family=\"Helvetica,sans-Serif\" font-size=\"14.00\" fill=\"#000000\">entropy = 0.136</text>\n<text text-anchor=\"middle\" x=\"15096\" y=\"-22.8\" font-family=\"Helvetica,sans-Serif\" font-size=\"14.00\" fill=\"#000000\">samples = 2998</text>\n<text text-anchor=\"middle\" x=\"15096\" y=\"-7.8\" font-family=\"Helvetica,sans-Serif\" font-size=\"14.00\" fill=\"#000000\">value = [57, 2941]</text>\n</g>\n<!-- 291&#45;&gt;293 -->\n<g id=\"edge293\" class=\"edge\">\n<title>291&#45;&gt;293</title>\n<path fill=\"none\" stroke=\"#000000\" d=\"M14996.9421,-88.9777C15012.4767,-79.1798 15029.3742,-68.5222 15044.7413,-58.8298\"/>\n<polygon fill=\"#000000\" stroke=\"#000000\" points=\"15046.9995,-61.5436 15053.5905,-53.2485 15043.2651,-55.6229 15046.9995,-61.5436\"/>\n</g>\n<!-- 295 -->\n<g id=\"node296\" class=\"node\">\n<title>295</title>\n<polygon fill=\"#cee6f8\" stroke=\"#000000\" points=\"15367,-261 15249,-261 15249,-193 15367,-193 15367,-261\"/>\n<text text-anchor=\"middle\" x=\"15308\" y=\"-245.8\" font-family=\"Helvetica,sans-Serif\" font-size=\"14.00\" fill=\"#000000\">X[10] &lt;= &#45;0.379</text>\n<text text-anchor=\"middle\" x=\"15308\" y=\"-230.8\" font-family=\"Helvetica,sans-Serif\" font-size=\"14.00\" fill=\"#000000\">entropy = 0.985</text>\n<text text-anchor=\"middle\" x=\"15308\" y=\"-215.8\" font-family=\"Helvetica,sans-Serif\" font-size=\"14.00\" fill=\"#000000\">samples = 105</text>\n<text text-anchor=\"middle\" x=\"15308\" y=\"-200.8\" font-family=\"Helvetica,sans-Serif\" font-size=\"14.00\" fill=\"#000000\">value = [45, 60]</text>\n</g>\n<!-- 294&#45;&gt;295 -->\n<g id=\"edge295\" class=\"edge\">\n<title>294&#45;&gt;295</title>\n<path fill=\"none\" stroke=\"#000000\" d=\"M15308,-296.9465C15308,-288.776 15308,-279.9318 15308,-271.3697\"/>\n<polygon fill=\"#000000\" stroke=\"#000000\" points=\"15311.5001,-271.13 15308,-261.13 15304.5001,-271.13 15311.5001,-271.13\"/>\n</g>\n<!-- 302 -->\n<g id=\"node303\" class=\"node\">\n<title>302</title>\n<polygon fill=\"#e68641\" stroke=\"#000000\" points=\"15569,-261 15451,-261 15451,-193 15569,-193 15569,-261\"/>\n<text text-anchor=\"middle\" x=\"15510\" y=\"-245.8\" font-family=\"Helvetica,sans-Serif\" font-size=\"14.00\" fill=\"#000000\">X[11] &lt;= &#45;0.144</text>\n<text text-anchor=\"middle\" x=\"15510\" y=\"-230.8\" font-family=\"Helvetica,sans-Serif\" font-size=\"14.00\" fill=\"#000000\">entropy = 0.246</text>\n<text text-anchor=\"middle\" x=\"15510\" y=\"-215.8\" font-family=\"Helvetica,sans-Serif\" font-size=\"14.00\" fill=\"#000000\">samples = 49</text>\n<text text-anchor=\"middle\" x=\"15510\" y=\"-200.8\" font-family=\"Helvetica,sans-Serif\" font-size=\"14.00\" fill=\"#000000\">value = [47, 2]</text>\n</g>\n<!-- 294&#45;&gt;302 -->\n<g id=\"edge302\" class=\"edge\">\n<title>294&#45;&gt;302</title>\n<path fill=\"none\" stroke=\"#000000\" d=\"M15367.2418,-300.4993C15390.5711,-288.4881 15417.5082,-274.6196 15441.6548,-262.1876\"/>\n<polygon fill=\"#000000\" stroke=\"#000000\" points=\"15443.4706,-265.1895 15450.7593,-257.5002 15440.2663,-258.9659 15443.4706,-265.1895\"/>\n</g>\n<!-- 296 -->\n<g id=\"node297\" class=\"node\">\n<title>296</title>\n<polygon fill=\"#f2c09c\" stroke=\"#000000\" points=\"15302,-157 15184,-157 15184,-89 15302,-89 15302,-157\"/>\n<text text-anchor=\"middle\" x=\"15243\" y=\"-141.8\" font-family=\"Helvetica,sans-Serif\" font-size=\"14.00\" fill=\"#000000\">X[3] &lt;= &#45;0.07</text>\n<text text-anchor=\"middle\" x=\"15243\" y=\"-126.8\" font-family=\"Helvetica,sans-Serif\" font-size=\"14.00\" fill=\"#000000\">entropy = 0.918</text>\n<text text-anchor=\"middle\" x=\"15243\" y=\"-111.8\" font-family=\"Helvetica,sans-Serif\" font-size=\"14.00\" fill=\"#000000\">samples = 54</text>\n<text text-anchor=\"middle\" x=\"15243\" y=\"-96.8\" font-family=\"Helvetica,sans-Serif\" font-size=\"14.00\" fill=\"#000000\">value = [36, 18]</text>\n</g>\n<!-- 295&#45;&gt;296 -->\n<g id=\"edge296\" class=\"edge\">\n<title>295&#45;&gt;296</title>\n<path fill=\"none\" stroke=\"#000000\" d=\"M15286.7166,-192.9465C15281.2733,-184.2373 15275.3516,-174.7626 15269.675,-165.6801\"/>\n<polygon fill=\"#000000\" stroke=\"#000000\" points=\"15272.5993,-163.755 15264.3312,-157.13 15266.6633,-167.465 15272.5993,-163.755\"/>\n</g>\n<!-- 299 -->\n<g id=\"node300\" class=\"node\">\n<title>299</title>\n<polygon fill=\"#63b2eb\" stroke=\"#000000\" points=\"15438,-157 15320,-157 15320,-89 15438,-89 15438,-157\"/>\n<text text-anchor=\"middle\" x=\"15379\" y=\"-141.8\" font-family=\"Helvetica,sans-Serif\" font-size=\"14.00\" fill=\"#000000\">X[0] &lt;= 0.351</text>\n<text text-anchor=\"middle\" x=\"15379\" y=\"-126.8\" font-family=\"Helvetica,sans-Serif\" font-size=\"14.00\" fill=\"#000000\">entropy = 0.672</text>\n<text text-anchor=\"middle\" x=\"15379\" y=\"-111.8\" font-family=\"Helvetica,sans-Serif\" font-size=\"14.00\" fill=\"#000000\">samples = 51</text>\n<text text-anchor=\"middle\" x=\"15379\" y=\"-96.8\" font-family=\"Helvetica,sans-Serif\" font-size=\"14.00\" fill=\"#000000\">value = [9, 42]</text>\n</g>\n<!-- 295&#45;&gt;299 -->\n<g id=\"edge299\" class=\"edge\">\n<title>295&#45;&gt;299</title>\n<path fill=\"none\" stroke=\"#000000\" d=\"M15331.2481,-192.9465C15337.255,-184.1475 15343.7955,-174.5672 15350.0543,-165.3993\"/>\n<polygon fill=\"#000000\" stroke=\"#000000\" points=\"15352.952,-167.3623 15355.6997,-157.13 15347.1707,-163.4155 15352.952,-167.3623\"/>\n</g>\n<!-- 297 -->\n<g id=\"node298\" class=\"node\">\n<title>297</title>\n<polygon fill=\"#b0d8f5\" stroke=\"#000000\" points=\"15298,-53 15180,-53 15180,0 15298,0 15298,-53\"/>\n<text text-anchor=\"middle\" x=\"15239\" y=\"-37.8\" font-family=\"Helvetica,sans-Serif\" font-size=\"14.00\" fill=\"#000000\">entropy = 0.954</text>\n<text text-anchor=\"middle\" x=\"15239\" y=\"-22.8\" font-family=\"Helvetica,sans-Serif\" font-size=\"14.00\" fill=\"#000000\">samples = 24</text>\n<text text-anchor=\"middle\" x=\"15239\" y=\"-7.8\" font-family=\"Helvetica,sans-Serif\" font-size=\"14.00\" fill=\"#000000\">value = [9, 15]</text>\n</g>\n<!-- 296&#45;&gt;297 -->\n<g id=\"edge297\" class=\"edge\">\n<title>296&#45;&gt;297</title>\n<path fill=\"none\" stroke=\"#000000\" d=\"M15241.5897,-88.9777C15241.2481,-80.7364 15240.8813,-71.887 15240.5343,-63.5153\"/>\n<polygon fill=\"#000000\" stroke=\"#000000\" points=\"15244.02,-63.0949 15240.1087,-53.2485 15237.026,-63.3849 15244.02,-63.0949\"/>\n</g>\n<!-- 298 -->\n<g id=\"node299\" class=\"node\">\n<title>298</title>\n<polygon fill=\"#e88f4f\" stroke=\"#000000\" points=\"15434,-53 15316,-53 15316,0 15434,0 15434,-53\"/>\n<text text-anchor=\"middle\" x=\"15375\" y=\"-37.8\" font-family=\"Helvetica,sans-Serif\" font-size=\"14.00\" fill=\"#000000\">entropy = 0.469</text>\n<text text-anchor=\"middle\" x=\"15375\" y=\"-22.8\" font-family=\"Helvetica,sans-Serif\" font-size=\"14.00\" fill=\"#000000\">samples = 30</text>\n<text text-anchor=\"middle\" x=\"15375\" y=\"-7.8\" font-family=\"Helvetica,sans-Serif\" font-size=\"14.00\" fill=\"#000000\">value = [27, 3]</text>\n</g>\n<!-- 296&#45;&gt;298 -->\n<g id=\"edge298\" class=\"edge\">\n<title>296&#45;&gt;298</title>\n<path fill=\"none\" stroke=\"#000000\" d=\"M15289.5383,-88.9777C15302.6901,-79.3629 15316.9743,-68.9203 15330.032,-59.3743\"/>\n<polygon fill=\"#000000\" stroke=\"#000000\" points=\"15332.4042,-61.9757 15338.4114,-53.2485 15328.273,-56.3247 15332.4042,-61.9757\"/>\n</g>\n<!-- 300 -->\n<g id=\"node301\" class=\"node\">\n<title>300</title>\n<polygon fill=\"#399de5\" stroke=\"#000000\" points=\"15559.5,-53 15452.5,-53 15452.5,0 15559.5,0 15559.5,-53\"/>\n<text text-anchor=\"middle\" x=\"15506\" y=\"-37.8\" font-family=\"Helvetica,sans-Serif\" font-size=\"14.00\" fill=\"#000000\">entropy = 0.0</text>\n<text text-anchor=\"middle\" x=\"15506\" y=\"-22.8\" font-family=\"Helvetica,sans-Serif\" font-size=\"14.00\" fill=\"#000000\">samples = 20</text>\n<text text-anchor=\"middle\" x=\"15506\" y=\"-7.8\" font-family=\"Helvetica,sans-Serif\" font-size=\"14.00\" fill=\"#000000\">value = [0, 20]</text>\n</g>\n<!-- 299&#45;&gt;300 -->\n<g id=\"edge300\" class=\"edge\">\n<title>299&#45;&gt;300</title>\n<path fill=\"none\" stroke=\"#000000\" d=\"M15423.7754,-88.9777C15436.4292,-79.3629 15450.1723,-68.9203 15462.7353,-59.3743\"/>\n<polygon fill=\"#000000\" stroke=\"#000000\" points=\"15464.9526,-62.0853 15470.7973,-53.2485 15460.7176,-56.5118 15464.9526,-62.0853\"/>\n</g>\n<!-- 301 -->\n<g id=\"node302\" class=\"node\">\n<title>301</title>\n<polygon fill=\"#8ac5f0\" stroke=\"#000000\" points=\"15696,-53 15578,-53 15578,0 15696,0 15696,-53\"/>\n<text text-anchor=\"middle\" x=\"15637\" y=\"-37.8\" font-family=\"Helvetica,sans-Serif\" font-size=\"14.00\" fill=\"#000000\">entropy = 0.869</text>\n<text text-anchor=\"middle\" x=\"15637\" y=\"-22.8\" font-family=\"Helvetica,sans-Serif\" font-size=\"14.00\" fill=\"#000000\">samples = 31</text>\n<text text-anchor=\"middle\" x=\"15637\" y=\"-7.8\" font-family=\"Helvetica,sans-Serif\" font-size=\"14.00\" fill=\"#000000\">value = [9, 22]</text>\n</g>\n<!-- 299&#45;&gt;301 -->\n<g id=\"edge301\" class=\"edge\">\n<title>299&#45;&gt;301</title>\n<path fill=\"none\" stroke=\"#000000\" d=\"M15438.0606,-92.7095C15441.0627,-91.4094 15444.054,-90.1644 15447,-89 15499.1793,-68.3756 15514.8825,-71.0716 15568,-53 15568.0987,-52.9664 15568.1975,-52.9328 15568.2963,-52.8991\"/>\n<polygon fill=\"#000000\" stroke=\"#000000\" points=\"15569.3544,-56.237 15577.6394,-49.6332 15567.0445,-49.6291 15569.3544,-56.237\"/>\n</g>\n<!-- 303 -->\n<g id=\"node304\" class=\"node\">\n<title>303</title>\n<polygon fill=\"#e58139\" stroke=\"#000000\" points=\"15563.5,-149.5 15456.5,-149.5 15456.5,-96.5 15563.5,-96.5 15563.5,-149.5\"/>\n<text text-anchor=\"middle\" x=\"15510\" y=\"-134.3\" font-family=\"Helvetica,sans-Serif\" font-size=\"14.00\" fill=\"#000000\">entropy = 0.0</text>\n<text text-anchor=\"middle\" x=\"15510\" y=\"-119.3\" font-family=\"Helvetica,sans-Serif\" font-size=\"14.00\" fill=\"#000000\">samples = 47</text>\n<text text-anchor=\"middle\" x=\"15510\" y=\"-104.3\" font-family=\"Helvetica,sans-Serif\" font-size=\"14.00\" fill=\"#000000\">value = [47, 0]</text>\n</g>\n<!-- 302&#45;&gt;303 -->\n<g id=\"edge303\" class=\"edge\">\n<title>302&#45;&gt;303</title>\n<path fill=\"none\" stroke=\"#000000\" d=\"M15510,-192.9465C15510,-182.2621 15510,-170.4254 15510,-159.5742\"/>\n<polygon fill=\"#000000\" stroke=\"#000000\" points=\"15513.5001,-159.5421 15510,-149.5422 15506.5001,-159.5422 15513.5001,-159.5421\"/>\n</g>\n<!-- 304 -->\n<g id=\"node305\" class=\"node\">\n<title>304</title>\n<polygon fill=\"#399de5\" stroke=\"#000000\" points=\"15682.5,-149.5 15581.5,-149.5 15581.5,-96.5 15682.5,-96.5 15682.5,-149.5\"/>\n<text text-anchor=\"middle\" x=\"15632\" y=\"-134.3\" font-family=\"Helvetica,sans-Serif\" font-size=\"14.00\" fill=\"#000000\">entropy = 0.0</text>\n<text text-anchor=\"middle\" x=\"15632\" y=\"-119.3\" font-family=\"Helvetica,sans-Serif\" font-size=\"14.00\" fill=\"#000000\">samples = 2</text>\n<text text-anchor=\"middle\" x=\"15632\" y=\"-104.3\" font-family=\"Helvetica,sans-Serif\" font-size=\"14.00\" fill=\"#000000\">value = [0, 2]</text>\n</g>\n<!-- 302&#45;&gt;304 -->\n<g id=\"edge304\" class=\"edge\">\n<title>302&#45;&gt;304</title>\n<path fill=\"none\" stroke=\"#000000\" d=\"M15549.9474,-192.9465C15563.7732,-181.1606 15579.2436,-167.9726 15592.9929,-156.2519\"/>\n<polygon fill=\"#000000\" stroke=\"#000000\" points=\"15595.5244,-158.6931 15600.864,-149.5422 15590.9832,-153.366 15595.5244,-158.6931\"/>\n</g>\n<!-- 306 -->\n<g id=\"node307\" class=\"node\">\n<title>306</title>\n<polygon fill=\"#3a9ee5\" stroke=\"#000000\" points=\"16576,-469 16444,-469 16444,-401 16576,-401 16576,-469\"/>\n<text text-anchor=\"middle\" x=\"16510\" y=\"-453.8\" font-family=\"Helvetica,sans-Serif\" font-size=\"14.00\" fill=\"#000000\">X[11] &lt;= 0.161</text>\n<text text-anchor=\"middle\" x=\"16510\" y=\"-438.8\" font-family=\"Helvetica,sans-Serif\" font-size=\"14.00\" fill=\"#000000\">entropy = 0.053</text>\n<text text-anchor=\"middle\" x=\"16510\" y=\"-423.8\" font-family=\"Helvetica,sans-Serif\" font-size=\"14.00\" fill=\"#000000\">samples = 6652</text>\n<text text-anchor=\"middle\" x=\"16510\" y=\"-408.8\" font-family=\"Helvetica,sans-Serif\" font-size=\"14.00\" fill=\"#000000\">value = [40, 6612]</text>\n</g>\n<!-- 305&#45;&gt;306 -->\n<g id=\"edge306\" class=\"edge\">\n<title>305&#45;&gt;306</title>\n<path fill=\"none\" stroke=\"#000000\" d=\"M16646.5302,-504.9465C16626.9767,-494.929 16605.4463,-483.8986 16585.3777,-473.6172\"/>\n<polygon fill=\"#000000\" stroke=\"#000000\" points=\"16586.7682,-470.3969 16576.2723,-468.9523 16583.5764,-476.627 16586.7682,-470.3969\"/>\n</g>\n<!-- 329 -->\n<g id=\"node330\" class=\"node\">\n<title>329</title>\n<polygon fill=\"#3d9fe6\" stroke=\"#000000\" points=\"17079.5,-469 16930.5,-469 16930.5,-401 17079.5,-401 17079.5,-469\"/>\n<text text-anchor=\"middle\" x=\"17005\" y=\"-453.8\" font-family=\"Helvetica,sans-Serif\" font-size=\"14.00\" fill=\"#000000\">X[11] &lt;= 0.466</text>\n<text text-anchor=\"middle\" x=\"17005\" y=\"-438.8\" font-family=\"Helvetica,sans-Serif\" font-size=\"14.00\" fill=\"#000000\">entropy = 0.143</text>\n<text text-anchor=\"middle\" x=\"17005\" y=\"-423.8\" font-family=\"Helvetica,sans-Serif\" font-size=\"14.00\" fill=\"#000000\">samples = 18624</text>\n<text text-anchor=\"middle\" x=\"17005\" y=\"-408.8\" font-family=\"Helvetica,sans-Serif\" font-size=\"14.00\" fill=\"#000000\">value = [379, 18245]</text>\n</g>\n<!-- 305&#45;&gt;329 -->\n<g id=\"edge329\" class=\"edge\">\n<title>305&#45;&gt;329</title>\n<path fill=\"none\" stroke=\"#000000\" d=\"M16787.8181,-512.3525C16828.4201,-497.8915 16878.7461,-479.9671 16920.7267,-465.0151\"/>\n<polygon fill=\"#000000\" stroke=\"#000000\" points=\"16922.1305,-468.2306 16930.3765,-461.5782 16919.7818,-461.6364 16922.1305,-468.2306\"/>\n</g>\n<!-- 307 -->\n<g id=\"node308\" class=\"node\">\n<title>307</title>\n<polygon fill=\"#3b9ee5\" stroke=\"#000000\" points=\"16172,-365 16040,-365 16040,-297 16172,-297 16172,-365\"/>\n<text text-anchor=\"middle\" x=\"16106\" y=\"-349.8\" font-family=\"Helvetica,sans-Serif\" font-size=\"14.00\" fill=\"#000000\">X[0] &lt;= &#45;0.601</text>\n<text text-anchor=\"middle\" x=\"16106\" y=\"-334.8\" font-family=\"Helvetica,sans-Serif\" font-size=\"14.00\" fill=\"#000000\">entropy = 0.085</text>\n<text text-anchor=\"middle\" x=\"16106\" y=\"-319.8\" font-family=\"Helvetica,sans-Serif\" font-size=\"14.00\" fill=\"#000000\">samples = 3277</text>\n<text text-anchor=\"middle\" x=\"16106\" y=\"-304.8\" font-family=\"Helvetica,sans-Serif\" font-size=\"14.00\" fill=\"#000000\">value = [35, 3242]</text>\n</g>\n<!-- 306&#45;&gt;307 -->\n<g id=\"edge307\" class=\"edge\">\n<title>306&#45;&gt;307</title>\n<path fill=\"none\" stroke=\"#000000\" d=\"M16443.74,-417.943C16371.9709,-399.4678 16257.6535,-370.0395 16182.2148,-350.6197\"/>\n<polygon fill=\"#000000\" stroke=\"#000000\" points=\"16182.853,-347.1699 16172.2962,-348.0663 16181.1079,-353.9489 16182.853,-347.1699\"/>\n</g>\n<!-- 318 -->\n<g id=\"node319\" class=\"node\">\n<title>318</title>\n<polygon fill=\"#399de5\" stroke=\"#000000\" points=\"16572,-365 16448,-365 16448,-297 16572,-297 16572,-365\"/>\n<text text-anchor=\"middle\" x=\"16510\" y=\"-349.8\" font-family=\"Helvetica,sans-Serif\" font-size=\"14.00\" fill=\"#000000\">X[6] &lt;= &#45;0.63</text>\n<text text-anchor=\"middle\" x=\"16510\" y=\"-334.8\" font-family=\"Helvetica,sans-Serif\" font-size=\"14.00\" fill=\"#000000\">entropy = 0.016</text>\n<text text-anchor=\"middle\" x=\"16510\" y=\"-319.8\" font-family=\"Helvetica,sans-Serif\" font-size=\"14.00\" fill=\"#000000\">samples = 3375</text>\n<text text-anchor=\"middle\" x=\"16510\" y=\"-304.8\" font-family=\"Helvetica,sans-Serif\" font-size=\"14.00\" fill=\"#000000\">value = [5, 3370]</text>\n</g>\n<!-- 306&#45;&gt;318 -->\n<g id=\"edge318\" class=\"edge\">\n<title>306&#45;&gt;318</title>\n<path fill=\"none\" stroke=\"#000000\" d=\"M16510,-400.9465C16510,-392.776 16510,-383.9318 16510,-375.3697\"/>\n<polygon fill=\"#000000\" stroke=\"#000000\" points=\"16513.5001,-375.13 16510,-365.13 16506.5001,-375.13 16513.5001,-375.13\"/>\n</g>\n<!-- 308 -->\n<g id=\"node309\" class=\"node\">\n<title>308</title>\n<polygon fill=\"#399de5\" stroke=\"#000000\" points=\"15964,-261 15840,-261 15840,-193 15964,-193 15964,-261\"/>\n<text text-anchor=\"middle\" x=\"15902\" y=\"-245.8\" font-family=\"Helvetica,sans-Serif\" font-size=\"14.00\" fill=\"#000000\">X[3] &lt;= &#45;0.562</text>\n<text text-anchor=\"middle\" x=\"15902\" y=\"-230.8\" font-family=\"Helvetica,sans-Serif\" font-size=\"14.00\" fill=\"#000000\">entropy = 0.008</text>\n<text text-anchor=\"middle\" x=\"15902\" y=\"-215.8\" font-family=\"Helvetica,sans-Serif\" font-size=\"14.00\" fill=\"#000000\">samples = 1533</text>\n<text text-anchor=\"middle\" x=\"15902\" y=\"-200.8\" font-family=\"Helvetica,sans-Serif\" font-size=\"14.00\" fill=\"#000000\">value = [1, 1532]</text>\n</g>\n<!-- 307&#45;&gt;308 -->\n<g id=\"edge308\" class=\"edge\">\n<title>307&#45;&gt;308</title>\n<path fill=\"none\" stroke=\"#000000\" d=\"M16039.767,-297.2342C16018.4912,-286.3876 15994.8381,-274.3292 15973.2202,-263.3083\"/>\n<polygon fill=\"#000000\" stroke=\"#000000\" points=\"15974.5916,-260.0789 15964.0929,-258.6552 15971.4123,-266.3153 15974.5916,-260.0789\"/>\n</g>\n<!-- 313 -->\n<g id=\"node314\" class=\"node\">\n<title>313</title>\n<polygon fill=\"#3d9fe6\" stroke=\"#000000\" points=\"16172,-261 16040,-261 16040,-193 16172,-193 16172,-261\"/>\n<text text-anchor=\"middle\" x=\"16106\" y=\"-245.8\" font-family=\"Helvetica,sans-Serif\" font-size=\"14.00\" fill=\"#000000\">X[5] &lt;= &#45;1.881</text>\n<text text-anchor=\"middle\" x=\"16106\" y=\"-230.8\" font-family=\"Helvetica,sans-Serif\" font-size=\"14.00\" fill=\"#000000\">entropy = 0.139</text>\n<text text-anchor=\"middle\" x=\"16106\" y=\"-215.8\" font-family=\"Helvetica,sans-Serif\" font-size=\"14.00\" fill=\"#000000\">samples = 1744</text>\n<text text-anchor=\"middle\" x=\"16106\" y=\"-200.8\" font-family=\"Helvetica,sans-Serif\" font-size=\"14.00\" fill=\"#000000\">value = [34, 1710]</text>\n</g>\n<!-- 307&#45;&gt;313 -->\n<g id=\"edge313\" class=\"edge\">\n<title>307&#45;&gt;313</title>\n<path fill=\"none\" stroke=\"#000000\" d=\"M16106,-296.9465C16106,-288.776 16106,-279.9318 16106,-271.3697\"/>\n<polygon fill=\"#000000\" stroke=\"#000000\" points=\"16109.5001,-271.13 16106,-261.13 16102.5001,-271.13 16109.5001,-271.13\"/>\n</g>\n<!-- 309 -->\n<g id=\"node310\" class=\"node\">\n<title>309</title>\n<polygon fill=\"#399de5\" stroke=\"#000000\" points=\"15825,-149.5 15701,-149.5 15701,-96.5 15825,-96.5 15825,-149.5\"/>\n<text text-anchor=\"middle\" x=\"15763\" y=\"-134.3\" font-family=\"Helvetica,sans-Serif\" font-size=\"14.00\" fill=\"#000000\">entropy = 0.0</text>\n<text text-anchor=\"middle\" x=\"15763\" y=\"-119.3\" font-family=\"Helvetica,sans-Serif\" font-size=\"14.00\" fill=\"#000000\">samples = 1447</text>\n<text text-anchor=\"middle\" x=\"15763\" y=\"-104.3\" font-family=\"Helvetica,sans-Serif\" font-size=\"14.00\" fill=\"#000000\">value = [0, 1447]</text>\n</g>\n<!-- 308&#45;&gt;309 -->\n<g id=\"edge309\" class=\"edge\">\n<title>308&#45;&gt;309</title>\n<path fill=\"none\" stroke=\"#000000\" d=\"M15856.4862,-192.9465C15840.4394,-180.9403 15822.4481,-167.4791 15806.5661,-155.5962\"/>\n<polygon fill=\"#000000\" stroke=\"#000000\" points=\"15808.5783,-152.7306 15798.4746,-149.5422 15804.3848,-158.3354 15808.5783,-152.7306\"/>\n</g>\n<!-- 310 -->\n<g id=\"node311\" class=\"node\">\n<title>310</title>\n<polygon fill=\"#3b9ee5\" stroke=\"#000000\" points=\"15961,-157 15843,-157 15843,-89 15961,-89 15961,-157\"/>\n<text text-anchor=\"middle\" x=\"15902\" y=\"-141.8\" font-family=\"Helvetica,sans-Serif\" font-size=\"14.00\" fill=\"#000000\">X[11] &lt;= &#45;0.005</text>\n<text text-anchor=\"middle\" x=\"15902\" y=\"-126.8\" font-family=\"Helvetica,sans-Serif\" font-size=\"14.00\" fill=\"#000000\">entropy = 0.091</text>\n<text text-anchor=\"middle\" x=\"15902\" y=\"-111.8\" font-family=\"Helvetica,sans-Serif\" font-size=\"14.00\" fill=\"#000000\">samples = 86</text>\n<text text-anchor=\"middle\" x=\"15902\" y=\"-96.8\" font-family=\"Helvetica,sans-Serif\" font-size=\"14.00\" fill=\"#000000\">value = [1, 85]</text>\n</g>\n<!-- 308&#45;&gt;310 -->\n<g id=\"edge310\" class=\"edge\">\n<title>308&#45;&gt;310</title>\n<path fill=\"none\" stroke=\"#000000\" d=\"M15902,-192.9465C15902,-184.776 15902,-175.9318 15902,-167.3697\"/>\n<polygon fill=\"#000000\" stroke=\"#000000\" points=\"15905.5001,-167.13 15902,-157.13 15898.5001,-167.13 15905.5001,-167.13\"/>\n</g>\n<!-- 311 -->\n<g id=\"node312\" class=\"node\">\n<title>311</title>\n<polygon fill=\"#4da7e8\" stroke=\"#000000\" points=\"15832,-53 15714,-53 15714,0 15832,0 15832,-53\"/>\n<text text-anchor=\"middle\" x=\"15773\" y=\"-37.8\" font-family=\"Helvetica,sans-Serif\" font-size=\"14.00\" fill=\"#000000\">entropy = 0.439</text>\n<text text-anchor=\"middle\" x=\"15773\" y=\"-22.8\" font-family=\"Helvetica,sans-Serif\" font-size=\"14.00\" fill=\"#000000\">samples = 11</text>\n<text text-anchor=\"middle\" x=\"15773\" y=\"-7.8\" font-family=\"Helvetica,sans-Serif\" font-size=\"14.00\" fill=\"#000000\">value = [1, 10]</text>\n</g>\n<!-- 310&#45;&gt;311 -->\n<g id=\"edge311\" class=\"edge\">\n<title>310&#45;&gt;311</title>\n<path fill=\"none\" stroke=\"#000000\" d=\"M15856.5194,-88.9777C15843.6665,-79.3629 15829.7069,-68.9203 15816.946,-59.3743\"/>\n<polygon fill=\"#000000\" stroke=\"#000000\" points=\"15818.861,-56.436 15808.757,-53.2485 15814.668,-62.0412 15818.861,-56.436\"/>\n</g>\n<!-- 312 -->\n<g id=\"node313\" class=\"node\">\n<title>312</title>\n<polygon fill=\"#399de5\" stroke=\"#000000\" points=\"15957.5,-53 15850.5,-53 15850.5,0 15957.5,0 15957.5,-53\"/>\n<text text-anchor=\"middle\" x=\"15904\" y=\"-37.8\" font-family=\"Helvetica,sans-Serif\" font-size=\"14.00\" fill=\"#000000\">entropy = 0.0</text>\n<text text-anchor=\"middle\" x=\"15904\" y=\"-22.8\" font-family=\"Helvetica,sans-Serif\" font-size=\"14.00\" fill=\"#000000\">samples = 75</text>\n<text text-anchor=\"middle\" x=\"15904\" y=\"-7.8\" font-family=\"Helvetica,sans-Serif\" font-size=\"14.00\" fill=\"#000000\">value = [0, 75]</text>\n</g>\n<!-- 310&#45;&gt;312 -->\n<g id=\"edge312\" class=\"edge\">\n<title>310&#45;&gt;312</title>\n<path fill=\"none\" stroke=\"#000000\" d=\"M15902.7051,-88.9777C15902.8759,-80.7364 15903.0593,-71.887 15903.2328,-63.5153\"/>\n<polygon fill=\"#000000\" stroke=\"#000000\" points=\"15906.7376,-63.3189 15903.4456,-53.2485 15899.7391,-63.1738 15906.7376,-63.3189\"/>\n</g>\n<!-- 314 -->\n<g id=\"node315\" class=\"node\">\n<title>314</title>\n<polygon fill=\"#e58139\" stroke=\"#000000\" points=\"16080.5,-149.5 15979.5,-149.5 15979.5,-96.5 16080.5,-96.5 16080.5,-149.5\"/>\n<text text-anchor=\"middle\" x=\"16030\" y=\"-134.3\" font-family=\"Helvetica,sans-Serif\" font-size=\"14.00\" fill=\"#000000\">entropy = 0.0</text>\n<text text-anchor=\"middle\" x=\"16030\" y=\"-119.3\" font-family=\"Helvetica,sans-Serif\" font-size=\"14.00\" fill=\"#000000\">samples = 1</text>\n<text text-anchor=\"middle\" x=\"16030\" y=\"-104.3\" font-family=\"Helvetica,sans-Serif\" font-size=\"14.00\" fill=\"#000000\">value = [1, 0]</text>\n</g>\n<!-- 313&#45;&gt;314 -->\n<g id=\"edge314\" class=\"edge\">\n<title>313&#45;&gt;314</title>\n<path fill=\"none\" stroke=\"#000000\" d=\"M16081.1148,-192.9465C16072.9044,-181.7113 16063.7631,-169.2021 16055.507,-157.9043\"/>\n<polygon fill=\"#000000\" stroke=\"#000000\" points=\"16058.1223,-155.551 16049.3962,-149.5422 16052.4705,-159.6812 16058.1223,-155.551\"/>\n</g>\n<!-- 315 -->\n<g id=\"node316\" class=\"node\">\n<title>315</title>\n<polygon fill=\"#3d9fe6\" stroke=\"#000000\" points=\"16231,-157 16099,-157 16099,-89 16231,-89 16231,-157\"/>\n<text text-anchor=\"middle\" x=\"16165\" y=\"-141.8\" font-family=\"Helvetica,sans-Serif\" font-size=\"14.00\" fill=\"#000000\">X[11] &lt;= 0.161</text>\n<text text-anchor=\"middle\" x=\"16165\" y=\"-126.8\" font-family=\"Helvetica,sans-Serif\" font-size=\"14.00\" fill=\"#000000\">entropy = 0.135</text>\n<text text-anchor=\"middle\" x=\"16165\" y=\"-111.8\" font-family=\"Helvetica,sans-Serif\" font-size=\"14.00\" fill=\"#000000\">samples = 1743</text>\n<text text-anchor=\"middle\" x=\"16165\" y=\"-96.8\" font-family=\"Helvetica,sans-Serif\" font-size=\"14.00\" fill=\"#000000\">value = [33, 1710]</text>\n</g>\n<!-- 313&#45;&gt;315 -->\n<g id=\"edge315\" class=\"edge\">\n<title>313&#45;&gt;315</title>\n<path fill=\"none\" stroke=\"#000000\" d=\"M16125.3188,-192.9465C16130.2087,-184.3271 16135.5239,-174.9579 16140.6278,-165.9611\"/>\n<polygon fill=\"#000000\" stroke=\"#000000\" points=\"16143.7476,-167.5549 16145.6378,-157.13 16137.6592,-164.1008 16143.7476,-167.5549\"/>\n</g>\n<!-- 316 -->\n<g id=\"node317\" class=\"node\">\n<title>316</title>\n<polygon fill=\"#3d9fe5\" stroke=\"#000000\" points=\"16108,-53 15976,-53 15976,0 16108,0 16108,-53\"/>\n<text text-anchor=\"middle\" x=\"16042\" y=\"-37.8\" font-family=\"Helvetica,sans-Serif\" font-size=\"14.00\" fill=\"#000000\">entropy = 0.132</text>\n<text text-anchor=\"middle\" x=\"16042\" y=\"-22.8\" font-family=\"Helvetica,sans-Serif\" font-size=\"14.00\" fill=\"#000000\">samples = 1742</text>\n<text text-anchor=\"middle\" x=\"16042\" y=\"-7.8\" font-family=\"Helvetica,sans-Serif\" font-size=\"14.00\" fill=\"#000000\">value = [32, 1710]</text>\n</g>\n<!-- 315&#45;&gt;316 -->\n<g id=\"edge316\" class=\"edge\">\n<title>315&#45;&gt;316</title>\n<path fill=\"none\" stroke=\"#000000\" d=\"M16121.6348,-88.9777C16109.4964,-79.4545 16096.3228,-69.1191 16084.2499,-59.6473\"/>\n<polygon fill=\"#000000\" stroke=\"#000000\" points=\"16086.122,-56.6674 16076.0939,-53.2485 16081.8011,-62.1748 16086.122,-56.6674\"/>\n</g>\n<!-- 317 -->\n<g id=\"node318\" class=\"node\">\n<title>317</title>\n<polygon fill=\"#e58139\" stroke=\"#000000\" points=\"16227.5,-53 16126.5,-53 16126.5,0 16227.5,0 16227.5,-53\"/>\n<text text-anchor=\"middle\" x=\"16177\" y=\"-37.8\" font-family=\"Helvetica,sans-Serif\" font-size=\"14.00\" fill=\"#000000\">entropy = 0.0</text>\n<text text-anchor=\"middle\" x=\"16177\" y=\"-22.8\" font-family=\"Helvetica,sans-Serif\" font-size=\"14.00\" fill=\"#000000\">samples = 1</text>\n<text text-anchor=\"middle\" x=\"16177\" y=\"-7.8\" font-family=\"Helvetica,sans-Serif\" font-size=\"14.00\" fill=\"#000000\">value = [1, 0]</text>\n</g>\n<!-- 315&#45;&gt;317 -->\n<g id=\"edge317\" class=\"edge\">\n<title>315&#45;&gt;317</title>\n<path fill=\"none\" stroke=\"#000000\" d=\"M16169.2308,-88.9777C16170.267,-80.6449 16171.3805,-71.6903 16172.4317,-63.2364\"/>\n<polygon fill=\"#000000\" stroke=\"#000000\" points=\"16175.9129,-63.604 16173.6738,-53.2485 16168.9664,-62.7401 16175.9129,-63.604\"/>\n</g>\n<!-- 319 -->\n<g id=\"node320\" class=\"node\">\n<title>319</title>\n<polygon fill=\"#3b9ee5\" stroke=\"#000000\" points=\"16500,-261 16382,-261 16382,-193 16500,-193 16500,-261\"/>\n<text text-anchor=\"middle\" x=\"16441\" y=\"-245.8\" font-family=\"Helvetica,sans-Serif\" font-size=\"14.00\" fill=\"#000000\">X[3] &lt;= &#45;0.32</text>\n<text text-anchor=\"middle\" x=\"16441\" y=\"-230.8\" font-family=\"Helvetica,sans-Serif\" font-size=\"14.00\" fill=\"#000000\">entropy = 0.069</text>\n<text text-anchor=\"middle\" x=\"16441\" y=\"-215.8\" font-family=\"Helvetica,sans-Serif\" font-size=\"14.00\" fill=\"#000000\">samples = 486</text>\n<text text-anchor=\"middle\" x=\"16441\" y=\"-200.8\" font-family=\"Helvetica,sans-Serif\" font-size=\"14.00\" fill=\"#000000\">value = [4, 482]</text>\n</g>\n<!-- 318&#45;&gt;319 -->\n<g id=\"edge319\" class=\"edge\">\n<title>318&#45;&gt;319</title>\n<path fill=\"none\" stroke=\"#000000\" d=\"M16487.4068,-296.9465C16481.6286,-288.2373 16475.3425,-278.7626 16469.3166,-269.6801\"/>\n<polygon fill=\"#000000\" stroke=\"#000000\" points=\"16472.089,-267.5278 16463.6439,-261.13 16466.256,-271.3978 16472.089,-267.5278\"/>\n</g>\n<!-- 324 -->\n<g id=\"node325\" class=\"node\">\n<title>324</title>\n<polygon fill=\"#399de5\" stroke=\"#000000\" points=\"16642,-261 16518,-261 16518,-193 16642,-193 16642,-261\"/>\n<text text-anchor=\"middle\" x=\"16580\" y=\"-245.8\" font-family=\"Helvetica,sans-Serif\" font-size=\"14.00\" fill=\"#000000\">X[2] &lt;= &#45;1.776</text>\n<text text-anchor=\"middle\" x=\"16580\" y=\"-230.8\" font-family=\"Helvetica,sans-Serif\" font-size=\"14.00\" fill=\"#000000\">entropy = 0.004</text>\n<text text-anchor=\"middle\" x=\"16580\" y=\"-215.8\" font-family=\"Helvetica,sans-Serif\" font-size=\"14.00\" fill=\"#000000\">samples = 2889</text>\n<text text-anchor=\"middle\" x=\"16580\" y=\"-200.8\" font-family=\"Helvetica,sans-Serif\" font-size=\"14.00\" fill=\"#000000\">value = [1, 2888]</text>\n</g>\n<!-- 318&#45;&gt;324 -->\n<g id=\"edge324\" class=\"edge\">\n<title>318&#45;&gt;324</title>\n<path fill=\"none\" stroke=\"#000000\" d=\"M16532.9206,-296.9465C16538.7826,-288.2373 16545.1598,-278.7626 16551.273,-269.6801\"/>\n<polygon fill=\"#000000\" stroke=\"#000000\" points=\"16554.3476,-271.3802 16557.0279,-261.13 16548.5405,-267.4716 16554.3476,-271.3802\"/>\n</g>\n<!-- 320 -->\n<g id=\"node321\" class=\"node\">\n<title>320</title>\n<polygon fill=\"#399de5\" stroke=\"#000000\" points=\"16365,-149.5 16249,-149.5 16249,-96.5 16365,-96.5 16365,-149.5\"/>\n<text text-anchor=\"middle\" x=\"16307\" y=\"-134.3\" font-family=\"Helvetica,sans-Serif\" font-size=\"14.00\" fill=\"#000000\">entropy = 0.0</text>\n<text text-anchor=\"middle\" x=\"16307\" y=\"-119.3\" font-family=\"Helvetica,sans-Serif\" font-size=\"14.00\" fill=\"#000000\">samples = 294</text>\n<text text-anchor=\"middle\" x=\"16307\" y=\"-104.3\" font-family=\"Helvetica,sans-Serif\" font-size=\"14.00\" fill=\"#000000\">value = [0, 294]</text>\n</g>\n<!-- 319&#45;&gt;320 -->\n<g id=\"edge320\" class=\"edge\">\n<title>319&#45;&gt;320</title>\n<path fill=\"none\" stroke=\"#000000\" d=\"M16397.1234,-192.9465C16381.7957,-181.0504 16364.6277,-167.726 16349.4209,-155.9237\"/>\n<polygon fill=\"#000000\" stroke=\"#000000\" points=\"16351.2444,-152.9085 16341.1986,-149.5422 16346.9525,-158.4384 16351.2444,-152.9085\"/>\n</g>\n<!-- 321 -->\n<g id=\"node322\" class=\"node\">\n<title>321</title>\n<polygon fill=\"#3d9fe6\" stroke=\"#000000\" points=\"16501,-157 16383,-157 16383,-89 16501,-89 16501,-157\"/>\n<text text-anchor=\"middle\" x=\"16442\" y=\"-141.8\" font-family=\"Helvetica,sans-Serif\" font-size=\"14.00\" fill=\"#000000\">X[11] &lt;= 0.396</text>\n<text text-anchor=\"middle\" x=\"16442\" y=\"-126.8\" font-family=\"Helvetica,sans-Serif\" font-size=\"14.00\" fill=\"#000000\">entropy = 0.146</text>\n<text text-anchor=\"middle\" x=\"16442\" y=\"-111.8\" font-family=\"Helvetica,sans-Serif\" font-size=\"14.00\" fill=\"#000000\">samples = 192</text>\n<text text-anchor=\"middle\" x=\"16442\" y=\"-96.8\" font-family=\"Helvetica,sans-Serif\" font-size=\"14.00\" fill=\"#000000\">value = [4, 188]</text>\n</g>\n<!-- 319&#45;&gt;321 -->\n<g id=\"edge321\" class=\"edge\">\n<title>319&#45;&gt;321</title>\n<path fill=\"none\" stroke=\"#000000\" d=\"M16441.3274,-192.9465C16441.406,-184.776 16441.491,-175.9318 16441.5734,-167.3697\"/>\n<polygon fill=\"#000000\" stroke=\"#000000\" points=\"16445.0754,-167.1632 16441.6718,-157.13 16438.0757,-167.0958 16445.0754,-167.1632\"/>\n</g>\n<!-- 322 -->\n<g id=\"node323\" class=\"node\">\n<title>322</title>\n<polygon fill=\"#4aa5e7\" stroke=\"#000000\" points=\"16364,-53 16246,-53 16246,0 16364,0 16364,-53\"/>\n<text text-anchor=\"middle\" x=\"16305\" y=\"-37.8\" font-family=\"Helvetica,sans-Serif\" font-size=\"14.00\" fill=\"#000000\">entropy = 0.397</text>\n<text text-anchor=\"middle\" x=\"16305\" y=\"-22.8\" font-family=\"Helvetica,sans-Serif\" font-size=\"14.00\" fill=\"#000000\">samples = 51</text>\n<text text-anchor=\"middle\" x=\"16305\" y=\"-7.8\" font-family=\"Helvetica,sans-Serif\" font-size=\"14.00\" fill=\"#000000\">value = [4, 47]</text>\n</g>\n<!-- 321&#45;&gt;322 -->\n<g id=\"edge322\" class=\"edge\">\n<title>321&#45;&gt;322</title>\n<path fill=\"none\" stroke=\"#000000\" d=\"M16393.6989,-88.9777C16379.9189,-79.2713 16364.9411,-68.7213 16351.2845,-59.1018\"/>\n<polygon fill=\"#000000\" stroke=\"#000000\" points=\"16353.1655,-56.1457 16342.9745,-53.2485 16349.1345,-61.8686 16353.1655,-56.1457\"/>\n</g>\n<!-- 323 -->\n<g id=\"node324\" class=\"node\">\n<title>323</title>\n<polygon fill=\"#399de5\" stroke=\"#000000\" points=\"16498,-53 16382,-53 16382,0 16498,0 16498,-53\"/>\n<text text-anchor=\"middle\" x=\"16440\" y=\"-37.8\" font-family=\"Helvetica,sans-Serif\" font-size=\"14.00\" fill=\"#000000\">entropy = 0.0</text>\n<text text-anchor=\"middle\" x=\"16440\" y=\"-22.8\" font-family=\"Helvetica,sans-Serif\" font-size=\"14.00\" fill=\"#000000\">samples = 141</text>\n<text text-anchor=\"middle\" x=\"16440\" y=\"-7.8\" font-family=\"Helvetica,sans-Serif\" font-size=\"14.00\" fill=\"#000000\">value = [0, 141]</text>\n</g>\n<!-- 321&#45;&gt;323 -->\n<g id=\"edge323\" class=\"edge\">\n<title>321&#45;&gt;323</title>\n<path fill=\"none\" stroke=\"#000000\" d=\"M16441.2949,-88.9777C16441.1241,-80.7364 16440.9407,-71.887 16440.7672,-63.5153\"/>\n<polygon fill=\"#000000\" stroke=\"#000000\" points=\"16444.2609,-63.1738 16440.5544,-53.2485 16437.2624,-63.3189 16444.2609,-63.1738\"/>\n</g>\n<!-- 325 -->\n<g id=\"node326\" class=\"node\">\n<title>325</title>\n<polygon fill=\"#3a9de5\" stroke=\"#000000\" points=\"16638,-157 16520,-157 16520,-89 16638,-89 16638,-157\"/>\n<text text-anchor=\"middle\" x=\"16579\" y=\"-141.8\" font-family=\"Helvetica,sans-Serif\" font-size=\"14.00\" fill=\"#000000\">X[9] &lt;= 0.555</text>\n<text text-anchor=\"middle\" x=\"16579\" y=\"-126.8\" font-family=\"Helvetica,sans-Serif\" font-size=\"14.00\" fill=\"#000000\">entropy = 0.029</text>\n<text text-anchor=\"middle\" x=\"16579\" y=\"-111.8\" font-family=\"Helvetica,sans-Serif\" font-size=\"14.00\" fill=\"#000000\">samples = 336</text>\n<text text-anchor=\"middle\" x=\"16579\" y=\"-96.8\" font-family=\"Helvetica,sans-Serif\" font-size=\"14.00\" fill=\"#000000\">value = [1, 335]</text>\n</g>\n<!-- 324&#45;&gt;325 -->\n<g id=\"edge325\" class=\"edge\">\n<title>324&#45;&gt;325</title>\n<path fill=\"none\" stroke=\"#000000\" d=\"M16579.6726,-192.9465C16579.594,-184.776 16579.509,-175.9318 16579.4266,-167.3697\"/>\n<polygon fill=\"#000000\" stroke=\"#000000\" points=\"16582.9243,-167.0958 16579.3282,-157.13 16575.9246,-167.1632 16582.9243,-167.0958\"/>\n</g>\n<!-- 328 -->\n<g id=\"node329\" class=\"node\">\n<title>328</title>\n<polygon fill=\"#399de5\" stroke=\"#000000\" points=\"16780,-149.5 16656,-149.5 16656,-96.5 16780,-96.5 16780,-149.5\"/>\n<text text-anchor=\"middle\" x=\"16718\" y=\"-134.3\" font-family=\"Helvetica,sans-Serif\" font-size=\"14.00\" fill=\"#000000\">entropy = 0.0</text>\n<text text-anchor=\"middle\" x=\"16718\" y=\"-119.3\" font-family=\"Helvetica,sans-Serif\" font-size=\"14.00\" fill=\"#000000\">samples = 2553</text>\n<text text-anchor=\"middle\" x=\"16718\" y=\"-104.3\" font-family=\"Helvetica,sans-Serif\" font-size=\"14.00\" fill=\"#000000\">value = [0, 2553]</text>\n</g>\n<!-- 324&#45;&gt;328 -->\n<g id=\"edge328\" class=\"edge\">\n<title>324&#45;&gt;328</title>\n<path fill=\"none\" stroke=\"#000000\" d=\"M16625.1864,-192.9465C16641.1177,-180.9403 16658.9796,-167.4791 16674.7473,-155.5962\"/>\n<polygon fill=\"#000000\" stroke=\"#000000\" points=\"16676.901,-158.3558 16682.7806,-149.5422 16672.688,-152.7656 16676.901,-158.3558\"/>\n</g>\n<!-- 326 -->\n<g id=\"node327\" class=\"node\">\n<title>326</title>\n<polygon fill=\"#399de5\" stroke=\"#000000\" points=\"16632,-53 16516,-53 16516,0 16632,0 16632,-53\"/>\n<text text-anchor=\"middle\" x=\"16574\" y=\"-37.8\" font-family=\"Helvetica,sans-Serif\" font-size=\"14.00\" fill=\"#000000\">entropy = 0.0</text>\n<text text-anchor=\"middle\" x=\"16574\" y=\"-22.8\" font-family=\"Helvetica,sans-Serif\" font-size=\"14.00\" fill=\"#000000\">samples = 246</text>\n<text text-anchor=\"middle\" x=\"16574\" y=\"-7.8\" font-family=\"Helvetica,sans-Serif\" font-size=\"14.00\" fill=\"#000000\">value = [0, 246]</text>\n</g>\n<!-- 325&#45;&gt;326 -->\n<g id=\"edge326\" class=\"edge\">\n<title>325&#45;&gt;326</title>\n<path fill=\"none\" stroke=\"#000000\" d=\"M16577.2372,-88.9777C16576.8054,-80.6449 16576.3415,-71.6903 16575.9034,-63.2364\"/>\n<polygon fill=\"#000000\" stroke=\"#000000\" points=\"16579.3988,-63.0539 16575.3859,-53.2485 16572.4082,-63.4162 16579.3988,-63.0539\"/>\n</g>\n<!-- 327 -->\n<g id=\"node328\" class=\"node\">\n<title>327</title>\n<polygon fill=\"#3b9ee5\" stroke=\"#000000\" points=\"16768,-53 16650,-53 16650,0 16768,0 16768,-53\"/>\n<text text-anchor=\"middle\" x=\"16709\" y=\"-37.8\" font-family=\"Helvetica,sans-Serif\" font-size=\"14.00\" fill=\"#000000\">entropy = 0.088</text>\n<text text-anchor=\"middle\" x=\"16709\" y=\"-22.8\" font-family=\"Helvetica,sans-Serif\" font-size=\"14.00\" fill=\"#000000\">samples = 90</text>\n<text text-anchor=\"middle\" x=\"16709\" y=\"-7.8\" font-family=\"Helvetica,sans-Serif\" font-size=\"14.00\" fill=\"#000000\">value = [1, 89]</text>\n</g>\n<!-- 325&#45;&gt;327 -->\n<g id=\"edge327\" class=\"edge\">\n<title>325&#45;&gt;327</title>\n<path fill=\"none\" stroke=\"#000000\" d=\"M16624.8331,-88.9777C16637.7857,-79.3629 16651.8535,-68.9203 16664.7133,-59.3743\"/>\n<polygon fill=\"#000000\" stroke=\"#000000\" points=\"16667.0224,-62.0193 16672.9658,-53.2485 16662.8501,-56.3986 16667.0224,-62.0193\"/>\n</g>\n<!-- 330 -->\n<g id=\"node331\" class=\"node\">\n<title>330</title>\n<polygon fill=\"#3fa0e6\" stroke=\"#000000\" points=\"17075,-365 16935,-365 16935,-297 17075,-297 17075,-365\"/>\n<text text-anchor=\"middle\" x=\"17005\" y=\"-349.8\" font-family=\"Helvetica,sans-Serif\" font-size=\"14.00\" fill=\"#000000\">X[13] &lt;= &#45;0.494</text>\n<text text-anchor=\"middle\" x=\"17005\" y=\"-334.8\" font-family=\"Helvetica,sans-Serif\" font-size=\"14.00\" fill=\"#000000\">entropy = 0.199</text>\n<text text-anchor=\"middle\" x=\"17005\" y=\"-319.8\" font-family=\"Helvetica,sans-Serif\" font-size=\"14.00\" fill=\"#000000\">samples = 8160</text>\n<text text-anchor=\"middle\" x=\"17005\" y=\"-304.8\" font-family=\"Helvetica,sans-Serif\" font-size=\"14.00\" fill=\"#000000\">value = [253, 7907]</text>\n</g>\n<!-- 329&#45;&gt;330 -->\n<g id=\"edge330\" class=\"edge\">\n<title>329&#45;&gt;330</title>\n<path fill=\"none\" stroke=\"#000000\" d=\"M17005,-400.9465C17005,-392.776 17005,-383.9318 17005,-375.3697\"/>\n<polygon fill=\"#000000\" stroke=\"#000000\" points=\"17008.5001,-375.13 17005,-365.13 17001.5001,-375.13 17008.5001,-375.13\"/>\n</g>\n<!-- 339 -->\n<g id=\"node340\" class=\"node\">\n<title>339</title>\n<polygon fill=\"#3b9ee5\" stroke=\"#000000\" points=\"17628.5,-365 17479.5,-365 17479.5,-297 17628.5,-297 17628.5,-365\"/>\n<text text-anchor=\"middle\" x=\"17554\" y=\"-349.8\" font-family=\"Helvetica,sans-Serif\" font-size=\"14.00\" fill=\"#000000\">X[3] &lt;= 0.41</text>\n<text text-anchor=\"middle\" x=\"17554\" y=\"-334.8\" font-family=\"Helvetica,sans-Serif\" font-size=\"14.00\" fill=\"#000000\">entropy = 0.094</text>\n<text text-anchor=\"middle\" x=\"17554\" y=\"-319.8\" font-family=\"Helvetica,sans-Serif\" font-size=\"14.00\" fill=\"#000000\">samples = 10464</text>\n<text text-anchor=\"middle\" x=\"17554\" y=\"-304.8\" font-family=\"Helvetica,sans-Serif\" font-size=\"14.00\" fill=\"#000000\">value = [126, 10338]</text>\n</g>\n<!-- 329&#45;&gt;339 -->\n<g id=\"edge339\" class=\"edge\">\n<title>329&#45;&gt;339</title>\n<path fill=\"none\" stroke=\"#000000\" d=\"M17079.6119,-420.8659C17181.1475,-401.6314 17362.376,-367.3004 17469.0281,-347.0967\"/>\n<polygon fill=\"#000000\" stroke=\"#000000\" points=\"17469.9375,-350.4867 17479.1113,-345.1866 17468.6345,-343.6091 17469.9375,-350.4867\"/>\n</g>\n<!-- 331 -->\n<g id=\"node332\" class=\"node\">\n<title>331</title>\n<polygon fill=\"#e58139\" stroke=\"#000000\" points=\"16987.5,-253.5 16880.5,-253.5 16880.5,-200.5 16987.5,-200.5 16987.5,-253.5\"/>\n<text text-anchor=\"middle\" x=\"16934\" y=\"-238.3\" font-family=\"Helvetica,sans-Serif\" font-size=\"14.00\" fill=\"#000000\">entropy = 0.0</text>\n<text text-anchor=\"middle\" x=\"16934\" y=\"-223.3\" font-family=\"Helvetica,sans-Serif\" font-size=\"14.00\" fill=\"#000000\">samples = 23</text>\n<text text-anchor=\"middle\" x=\"16934\" y=\"-208.3\" font-family=\"Helvetica,sans-Serif\" font-size=\"14.00\" fill=\"#000000\">value = [23, 0]</text>\n</g>\n<!-- 330&#45;&gt;331 -->\n<g id=\"edge331\" class=\"edge\">\n<title>330&#45;&gt;331</title>\n<path fill=\"none\" stroke=\"#000000\" d=\"M16981.7519,-296.9465C16974.0818,-285.7113 16965.5418,-273.2021 16957.8289,-261.9043\"/>\n<polygon fill=\"#000000\" stroke=\"#000000\" points=\"16960.6491,-259.8277 16952.1201,-253.5422 16954.8678,-263.7745 16960.6491,-259.8277\"/>\n</g>\n<!-- 332 -->\n<g id=\"node333\" class=\"node\">\n<title>332</title>\n<polygon fill=\"#3fa0e6\" stroke=\"#000000\" points=\"17146,-261 17006,-261 17006,-193 17146,-193 17146,-261\"/>\n<text text-anchor=\"middle\" x=\"17076\" y=\"-245.8\" font-family=\"Helvetica,sans-Serif\" font-size=\"14.00\" fill=\"#000000\">X[2] &lt;= &#45;0.845</text>\n<text text-anchor=\"middle\" x=\"17076\" y=\"-230.8\" font-family=\"Helvetica,sans-Serif\" font-size=\"14.00\" fill=\"#000000\">entropy = 0.186</text>\n<text text-anchor=\"middle\" x=\"17076\" y=\"-215.8\" font-family=\"Helvetica,sans-Serif\" font-size=\"14.00\" fill=\"#000000\">samples = 8137</text>\n<text text-anchor=\"middle\" x=\"17076\" y=\"-200.8\" font-family=\"Helvetica,sans-Serif\" font-size=\"14.00\" fill=\"#000000\">value = [230, 7907]</text>\n</g>\n<!-- 330&#45;&gt;332 -->\n<g id=\"edge332\" class=\"edge\">\n<title>330&#45;&gt;332</title>\n<path fill=\"none\" stroke=\"#000000\" d=\"M17028.2481,-296.9465C17034.255,-288.1475 17040.7955,-278.5672 17047.0543,-269.3993\"/>\n<polygon fill=\"#000000\" stroke=\"#000000\" points=\"17049.952,-271.3623 17052.6997,-261.13 17044.1707,-267.4155 17049.952,-271.3623\"/>\n</g>\n<!-- 333 -->\n<g id=\"node334\" class=\"node\">\n<title>333</title>\n<polygon fill=\"#3d9fe6\" stroke=\"#000000\" points=\"17067,-157 16927,-157 16927,-89 17067,-89 17067,-157\"/>\n<text text-anchor=\"middle\" x=\"16997\" y=\"-141.8\" font-family=\"Helvetica,sans-Serif\" font-size=\"14.00\" fill=\"#000000\">X[13] &lt;= &#45;0.359</text>\n<text text-anchor=\"middle\" x=\"16997\" y=\"-126.8\" font-family=\"Helvetica,sans-Serif\" font-size=\"14.00\" fill=\"#000000\">entropy = 0.139</text>\n<text text-anchor=\"middle\" x=\"16997\" y=\"-111.8\" font-family=\"Helvetica,sans-Serif\" font-size=\"14.00\" fill=\"#000000\">samples = 6161</text>\n<text text-anchor=\"middle\" x=\"16997\" y=\"-96.8\" font-family=\"Helvetica,sans-Serif\" font-size=\"14.00\" fill=\"#000000\">value = [121, 6040]</text>\n</g>\n<!-- 332&#45;&gt;333 -->\n<g id=\"edge333\" class=\"edge\">\n<title>332&#45;&gt;333</title>\n<path fill=\"none\" stroke=\"#000000\" d=\"M17050.1324,-192.9465C17043.3804,-184.0578 17036.0226,-174.3716 17028.9941,-165.1188\"/>\n<polygon fill=\"#000000\" stroke=\"#000000\" points=\"17031.7617,-162.976 17022.9257,-157.13 17026.1875,-167.2102 17031.7617,-162.976\"/>\n</g>\n<!-- 336 -->\n<g id=\"node337\" class=\"node\">\n<title>336</title>\n<polygon fill=\"#45a3e7\" stroke=\"#000000\" points=\"17225,-157 17085,-157 17085,-89 17225,-89 17225,-157\"/>\n<text text-anchor=\"middle\" x=\"17155\" y=\"-141.8\" font-family=\"Helvetica,sans-Serif\" font-size=\"14.00\" fill=\"#000000\">X[3] &lt;= 2.969</text>\n<text text-anchor=\"middle\" x=\"17155\" y=\"-126.8\" font-family=\"Helvetica,sans-Serif\" font-size=\"14.00\" fill=\"#000000\">entropy = 0.308</text>\n<text text-anchor=\"middle\" x=\"17155\" y=\"-111.8\" font-family=\"Helvetica,sans-Serif\" font-size=\"14.00\" fill=\"#000000\">samples = 1976</text>\n<text text-anchor=\"middle\" x=\"17155\" y=\"-96.8\" font-family=\"Helvetica,sans-Serif\" font-size=\"14.00\" fill=\"#000000\">value = [109, 1867]</text>\n</g>\n<!-- 332&#45;&gt;336 -->\n<g id=\"edge336\" class=\"edge\">\n<title>332&#45;&gt;336</title>\n<path fill=\"none\" stroke=\"#000000\" d=\"M17101.8676,-192.9465C17108.6196,-184.0578 17115.9774,-174.3716 17123.0059,-165.1188\"/>\n<polygon fill=\"#000000\" stroke=\"#000000\" points=\"17125.8125,-167.2102 17129.0743,-157.13 17120.2383,-162.976 17125.8125,-167.2102\"/>\n</g>\n<!-- 334 -->\n<g id=\"node335\" class=\"node\">\n<title>334</title>\n<polygon fill=\"#3d9fe5\" stroke=\"#000000\" points=\"16926,-53 16786,-53 16786,0 16926,0 16926,-53\"/>\n<text text-anchor=\"middle\" x=\"16856\" y=\"-37.8\" font-family=\"Helvetica,sans-Serif\" font-size=\"14.00\" fill=\"#000000\">entropy = 0.131</text>\n<text text-anchor=\"middle\" x=\"16856\" y=\"-22.8\" font-family=\"Helvetica,sans-Serif\" font-size=\"14.00\" fill=\"#000000\">samples = 6140</text>\n<text text-anchor=\"middle\" x=\"16856\" y=\"-7.8\" font-family=\"Helvetica,sans-Serif\" font-size=\"14.00\" fill=\"#000000\">value = [112, 6028]</text>\n</g>\n<!-- 333&#45;&gt;334 -->\n<g id=\"edge334\" class=\"edge\">\n<title>333&#45;&gt;334</title>\n<path fill=\"none\" stroke=\"#000000\" d=\"M16947.2887,-88.9777C16933.1063,-79.2713 16917.6912,-68.7213 16903.6358,-59.1018\"/>\n<polygon fill=\"#000000\" stroke=\"#000000\" points=\"16905.3124,-56.0081 16895.0833,-53.2485 16901.3589,-61.7847 16905.3124,-56.0081\"/>\n</g>\n<!-- 335 -->\n<g id=\"node336\" class=\"node\">\n<title>335</title>\n<polygon fill=\"#cee6f8\" stroke=\"#000000\" points=\"17062,-53 16944,-53 16944,0 17062,0 17062,-53\"/>\n<text text-anchor=\"middle\" x=\"17003\" y=\"-37.8\" font-family=\"Helvetica,sans-Serif\" font-size=\"14.00\" fill=\"#000000\">entropy = 0.985</text>\n<text text-anchor=\"middle\" x=\"17003\" y=\"-22.8\" font-family=\"Helvetica,sans-Serif\" font-size=\"14.00\" fill=\"#000000\">samples = 21</text>\n<text text-anchor=\"middle\" x=\"17003\" y=\"-7.8\" font-family=\"Helvetica,sans-Serif\" font-size=\"14.00\" fill=\"#000000\">value = [9, 12]</text>\n</g>\n<!-- 333&#45;&gt;335 -->\n<g id=\"edge335\" class=\"edge\">\n<title>333&#45;&gt;335</title>\n<path fill=\"none\" stroke=\"#000000\" d=\"M16999.1154,-88.9777C16999.6335,-80.6449 17000.1902,-71.6903 17000.7159,-63.2364\"/>\n<polygon fill=\"#000000\" stroke=\"#000000\" points=\"17004.2095,-63.4464 17001.3369,-53.2485 16997.223,-63.012 17004.2095,-63.4464\"/>\n</g>\n<!-- 337 -->\n<g id=\"node338\" class=\"node\">\n<title>337</title>\n<polygon fill=\"#44a2e6\" stroke=\"#000000\" points=\"17220,-53 17080,-53 17080,0 17220,0 17220,-53\"/>\n<text text-anchor=\"middle\" x=\"17150\" y=\"-37.8\" font-family=\"Helvetica,sans-Serif\" font-size=\"14.00\" fill=\"#000000\">entropy = 0.298</text>\n<text text-anchor=\"middle\" x=\"17150\" y=\"-22.8\" font-family=\"Helvetica,sans-Serif\" font-size=\"14.00\" fill=\"#000000\">samples = 1971</text>\n<text text-anchor=\"middle\" x=\"17150\" y=\"-7.8\" font-family=\"Helvetica,sans-Serif\" font-size=\"14.00\" fill=\"#000000\">value = [104, 1867]</text>\n</g>\n<!-- 336&#45;&gt;337 -->\n<g id=\"edge337\" class=\"edge\">\n<title>336&#45;&gt;337</title>\n<path fill=\"none\" stroke=\"#000000\" d=\"M17153.2372,-88.9777C17152.8054,-80.6449 17152.3415,-71.6903 17151.9034,-63.2364\"/>\n<polygon fill=\"#000000\" stroke=\"#000000\" points=\"17155.3988,-63.0539 17151.3859,-53.2485 17148.4082,-63.4162 17155.3988,-63.0539\"/>\n</g>\n<!-- 338 -->\n<g id=\"node339\" class=\"node\">\n<title>338</title>\n<polygon fill=\"#e58139\" stroke=\"#000000\" points=\"17339.5,-53 17238.5,-53 17238.5,0 17339.5,0 17339.5,-53\"/>\n<text text-anchor=\"middle\" x=\"17289\" y=\"-37.8\" font-family=\"Helvetica,sans-Serif\" font-size=\"14.00\" fill=\"#000000\">entropy = 0.0</text>\n<text text-anchor=\"middle\" x=\"17289\" y=\"-22.8\" font-family=\"Helvetica,sans-Serif\" font-size=\"14.00\" fill=\"#000000\">samples = 5</text>\n<text text-anchor=\"middle\" x=\"17289\" y=\"-7.8\" font-family=\"Helvetica,sans-Serif\" font-size=\"14.00\" fill=\"#000000\">value = [5, 0]</text>\n</g>\n<!-- 336&#45;&gt;338 -->\n<g id=\"edge338\" class=\"edge\">\n<title>336&#45;&gt;338</title>\n<path fill=\"none\" stroke=\"#000000\" d=\"M17202.2434,-88.9777C17215.7217,-79.2713 17230.3715,-68.7213 17243.7291,-59.1018\"/>\n<polygon fill=\"#000000\" stroke=\"#000000\" points=\"17245.7876,-61.9325 17251.857,-53.2485 17241.6969,-56.2522 17245.7876,-61.9325\"/>\n</g>\n<!-- 340 -->\n<g id=\"node341\" class=\"node\">\n<title>340</title>\n<polygon fill=\"#3a9de5\" stroke=\"#000000\" points=\"17616,-261 17492,-261 17492,-193 17616,-193 17616,-261\"/>\n<text text-anchor=\"middle\" x=\"17554\" y=\"-245.8\" font-family=\"Helvetica,sans-Serif\" font-size=\"14.00\" fill=\"#000000\">X[10] &lt;= 0.607</text>\n<text text-anchor=\"middle\" x=\"17554\" y=\"-230.8\" font-family=\"Helvetica,sans-Serif\" font-size=\"14.00\" fill=\"#000000\">entropy = 0.031</text>\n<text text-anchor=\"middle\" x=\"17554\" y=\"-215.8\" font-family=\"Helvetica,sans-Serif\" font-size=\"14.00\" fill=\"#000000\">samples = 2475</text>\n<text text-anchor=\"middle\" x=\"17554\" y=\"-200.8\" font-family=\"Helvetica,sans-Serif\" font-size=\"14.00\" fill=\"#000000\">value = [8, 2467]</text>\n</g>\n<!-- 339&#45;&gt;340 -->\n<g id=\"edge340\" class=\"edge\">\n<title>339&#45;&gt;340</title>\n<path fill=\"none\" stroke=\"#000000\" d=\"M17554,-296.9465C17554,-288.776 17554,-279.9318 17554,-271.3697\"/>\n<polygon fill=\"#000000\" stroke=\"#000000\" points=\"17557.5001,-271.13 17554,-261.13 17550.5001,-271.13 17557.5001,-271.13\"/>\n</g>\n<!-- 345 -->\n<g id=\"node346\" class=\"node\">\n<title>345</title>\n<polygon fill=\"#3c9ee5\" stroke=\"#000000\" points=\"17873,-261 17733,-261 17733,-193 17873,-193 17873,-261\"/>\n<text text-anchor=\"middle\" x=\"17803\" y=\"-245.8\" font-family=\"Helvetica,sans-Serif\" font-size=\"14.00\" fill=\"#000000\">X[11] &lt;= 1.121</text>\n<text text-anchor=\"middle\" x=\"17803\" y=\"-230.8\" font-family=\"Helvetica,sans-Serif\" font-size=\"14.00\" fill=\"#000000\">entropy = 0.111</text>\n<text text-anchor=\"middle\" x=\"17803\" y=\"-215.8\" font-family=\"Helvetica,sans-Serif\" font-size=\"14.00\" fill=\"#000000\">samples = 7989</text>\n<text text-anchor=\"middle\" x=\"17803\" y=\"-200.8\" font-family=\"Helvetica,sans-Serif\" font-size=\"14.00\" fill=\"#000000\">value = [118, 7871]</text>\n</g>\n<!-- 339&#45;&gt;345 -->\n<g id=\"edge345\" class=\"edge\">\n<title>339&#45;&gt;345</title>\n<path fill=\"none\" stroke=\"#000000\" d=\"M17628.7082,-299.7966C17658.5671,-287.3254 17693.0007,-272.9435 17723.3356,-260.2735\"/>\n<polygon fill=\"#000000\" stroke=\"#000000\" points=\"17724.7301,-263.4841 17732.6087,-256.4004 17722.0323,-257.0249 17724.7301,-263.4841\"/>\n</g>\n<!-- 341 -->\n<g id=\"node342\" class=\"node\">\n<title>341</title>\n<polygon fill=\"#3a9ee5\" stroke=\"#000000\" points=\"17545,-157 17421,-157 17421,-89 17545,-89 17545,-157\"/>\n<text text-anchor=\"middle\" x=\"17483\" y=\"-141.8\" font-family=\"Helvetica,sans-Serif\" font-size=\"14.00\" fill=\"#000000\">X[10] &lt;= 0.606</text>\n<text text-anchor=\"middle\" x=\"17483\" y=\"-126.8\" font-family=\"Helvetica,sans-Serif\" font-size=\"14.00\" fill=\"#000000\">entropy = 0.052</text>\n<text text-anchor=\"middle\" x=\"17483\" y=\"-111.8\" font-family=\"Helvetica,sans-Serif\" font-size=\"14.00\" fill=\"#000000\">samples = 1353</text>\n<text text-anchor=\"middle\" x=\"17483\" y=\"-96.8\" font-family=\"Helvetica,sans-Serif\" font-size=\"14.00\" fill=\"#000000\">value = [8, 1345]</text>\n</g>\n<!-- 340&#45;&gt;341 -->\n<g id=\"edge341\" class=\"edge\">\n<title>340&#45;&gt;341</title>\n<path fill=\"none\" stroke=\"#000000\" d=\"M17530.7519,-192.9465C17524.745,-184.1475 17518.2045,-174.5672 17511.9457,-165.3993\"/>\n<polygon fill=\"#000000\" stroke=\"#000000\" points=\"17514.8293,-163.4155 17506.3003,-157.13 17509.048,-167.3623 17514.8293,-163.4155\"/>\n</g>\n<!-- 344 -->\n<g id=\"node345\" class=\"node\">\n<title>344</title>\n<polygon fill=\"#399de5\" stroke=\"#000000\" points=\"17687,-149.5 17563,-149.5 17563,-96.5 17687,-96.5 17687,-149.5\"/>\n<text text-anchor=\"middle\" x=\"17625\" y=\"-134.3\" font-family=\"Helvetica,sans-Serif\" font-size=\"14.00\" fill=\"#000000\">entropy = 0.0</text>\n<text text-anchor=\"middle\" x=\"17625\" y=\"-119.3\" font-family=\"Helvetica,sans-Serif\" font-size=\"14.00\" fill=\"#000000\">samples = 1122</text>\n<text text-anchor=\"middle\" x=\"17625\" y=\"-104.3\" font-family=\"Helvetica,sans-Serif\" font-size=\"14.00\" fill=\"#000000\">value = [0, 1122]</text>\n</g>\n<!-- 340&#45;&gt;344 -->\n<g id=\"edge344\" class=\"edge\">\n<title>340&#45;&gt;344</title>\n<path fill=\"none\" stroke=\"#000000\" d=\"M17577.2481,-192.9465C17584.9182,-181.7113 17593.4582,-169.2021 17601.1711,-157.9043\"/>\n<polygon fill=\"#000000\" stroke=\"#000000\" points=\"17604.1322,-159.7745 17606.8799,-149.5422 17598.3509,-155.8277 17604.1322,-159.7745\"/>\n</g>\n<!-- 342 -->\n<g id=\"node343\" class=\"node\">\n<title>342</title>\n<polygon fill=\"#3a9de5\" stroke=\"#000000\" points=\"17482,-53 17358,-53 17358,0 17482,0 17482,-53\"/>\n<text text-anchor=\"middle\" x=\"17420\" y=\"-37.8\" font-family=\"Helvetica,sans-Serif\" font-size=\"14.00\" fill=\"#000000\">entropy = 0.041</text>\n<text text-anchor=\"middle\" x=\"17420\" y=\"-22.8\" font-family=\"Helvetica,sans-Serif\" font-size=\"14.00\" fill=\"#000000\">samples = 1347</text>\n<text text-anchor=\"middle\" x=\"17420\" y=\"-7.8\" font-family=\"Helvetica,sans-Serif\" font-size=\"14.00\" fill=\"#000000\">value = [6, 1341]</text>\n</g>\n<!-- 341&#45;&gt;342 -->\n<g id=\"edge342\" class=\"edge\">\n<title>341&#45;&gt;342</title>\n<path fill=\"none\" stroke=\"#000000\" d=\"M17460.7886,-88.9777C17455.0496,-80.187 17448.8588,-70.7044 17443.0767,-61.8477\"/>\n<polygon fill=\"#000000\" stroke=\"#000000\" points=\"17445.8602,-59.7087 17437.4627,-53.2485 17439.9987,-63.5354 17445.8602,-59.7087\"/>\n</g>\n<!-- 343 -->\n<g id=\"node344\" class=\"node\">\n<title>343</title>\n<polygon fill=\"#9ccef2\" stroke=\"#000000\" points=\"17618,-53 17500,-53 17500,0 17618,0 17618,-53\"/>\n<text text-anchor=\"middle\" x=\"17559\" y=\"-37.8\" font-family=\"Helvetica,sans-Serif\" font-size=\"14.00\" fill=\"#000000\">entropy = 0.918</text>\n<text text-anchor=\"middle\" x=\"17559\" y=\"-22.8\" font-family=\"Helvetica,sans-Serif\" font-size=\"14.00\" fill=\"#000000\">samples = 6</text>\n<text text-anchor=\"middle\" x=\"17559\" y=\"-7.8\" font-family=\"Helvetica,sans-Serif\" font-size=\"14.00\" fill=\"#000000\">value = [2, 4]</text>\n</g>\n<!-- 341&#45;&gt;343 -->\n<g id=\"edge343\" class=\"edge\">\n<title>341&#45;&gt;343</title>\n<path fill=\"none\" stroke=\"#000000\" d=\"M17509.7948,-88.9777C17516.8622,-80.0039 17524.4976,-70.3089 17531.5967,-61.295\"/>\n<polygon fill=\"#000000\" stroke=\"#000000\" points=\"17534.4963,-63.2701 17537.9338,-53.2485 17528.997,-58.9391 17534.4963,-63.2701\"/>\n</g>\n<!-- 346 -->\n<g id=\"node347\" class=\"node\">\n<title>346</title>\n<polygon fill=\"#3e9fe6\" stroke=\"#000000\" points=\"17869,-157 17737,-157 17737,-89 17869,-89 17869,-157\"/>\n<text text-anchor=\"middle\" x=\"17803\" y=\"-141.8\" font-family=\"Helvetica,sans-Serif\" font-size=\"14.00\" fill=\"#000000\">X[13] &lt;= &#45;0.485</text>\n<text text-anchor=\"middle\" x=\"17803\" y=\"-126.8\" font-family=\"Helvetica,sans-Serif\" font-size=\"14.00\" fill=\"#000000\">entropy = 0.156</text>\n<text text-anchor=\"middle\" x=\"17803\" y=\"-111.8\" font-family=\"Helvetica,sans-Serif\" font-size=\"14.00\" fill=\"#000000\">samples = 3930</text>\n<text text-anchor=\"middle\" x=\"17803\" y=\"-96.8\" font-family=\"Helvetica,sans-Serif\" font-size=\"14.00\" fill=\"#000000\">value = [89, 3841]</text>\n</g>\n<!-- 345&#45;&gt;346 -->\n<g id=\"edge346\" class=\"edge\">\n<title>345&#45;&gt;346</title>\n<path fill=\"none\" stroke=\"#000000\" d=\"M17803,-192.9465C17803,-184.776 17803,-175.9318 17803,-167.3697\"/>\n<polygon fill=\"#000000\" stroke=\"#000000\" points=\"17806.5001,-167.13 17803,-157.13 17799.5001,-167.13 17806.5001,-167.13\"/>\n</g>\n<!-- 349 -->\n<g id=\"node350\" class=\"node\">\n<title>349</title>\n<polygon fill=\"#3a9ee5\" stroke=\"#000000\" points=\"18050,-157 17918,-157 17918,-89 18050,-89 18050,-157\"/>\n<text text-anchor=\"middle\" x=\"17984\" y=\"-141.8\" font-family=\"Helvetica,sans-Serif\" font-size=\"14.00\" fill=\"#000000\">X[0] &lt;= 1.171</text>\n<text text-anchor=\"middle\" x=\"17984\" y=\"-126.8\" font-family=\"Helvetica,sans-Serif\" font-size=\"14.00\" fill=\"#000000\">entropy = 0.061</text>\n<text text-anchor=\"middle\" x=\"17984\" y=\"-111.8\" font-family=\"Helvetica,sans-Serif\" font-size=\"14.00\" fill=\"#000000\">samples = 4059</text>\n<text text-anchor=\"middle\" x=\"17984\" y=\"-96.8\" font-family=\"Helvetica,sans-Serif\" font-size=\"14.00\" fill=\"#000000\">value = [29, 4030]</text>\n</g>\n<!-- 345&#45;&gt;349 -->\n<g id=\"edge349\" class=\"edge\">\n<title>345&#45;&gt;349</title>\n<path fill=\"none\" stroke=\"#000000\" d=\"M17862.2662,-192.9465C17879.2986,-183.1599 17898.0134,-172.4066 17915.5517,-162.3294\"/>\n<polygon fill=\"#000000\" stroke=\"#000000\" points=\"17917.6738,-165.1468 17924.6007,-157.13 17914.1863,-159.0773 17917.6738,-165.1468\"/>\n</g>\n<!-- 347 -->\n<g id=\"node348\" class=\"node\">\n<title>347</title>\n<polygon fill=\"#eeaf81\" stroke=\"#000000\" points=\"17754,-53 17636,-53 17636,0 17754,0 17754,-53\"/>\n<text text-anchor=\"middle\" x=\"17695\" y=\"-37.8\" font-family=\"Helvetica,sans-Serif\" font-size=\"14.00\" fill=\"#000000\">entropy = 0.837</text>\n<text text-anchor=\"middle\" x=\"17695\" y=\"-22.8\" font-family=\"Helvetica,sans-Serif\" font-size=\"14.00\" fill=\"#000000\">samples = 15</text>\n<text text-anchor=\"middle\" x=\"17695\" y=\"-7.8\" font-family=\"Helvetica,sans-Serif\" font-size=\"14.00\" fill=\"#000000\">value = [11, 4]</text>\n</g>\n<!-- 346&#45;&gt;347 -->\n<g id=\"edge347\" class=\"edge\">\n<title>346&#45;&gt;347</title>\n<path fill=\"none\" stroke=\"#000000\" d=\"M17764.9232,-88.9777C17754.3676,-79.546 17742.9204,-69.3178 17732.4036,-59.9208\"/>\n<polygon fill=\"#000000\" stroke=\"#000000\" points=\"17734.7251,-57.3015 17724.9361,-53.2485 17730.061,-62.5213 17734.7251,-57.3015\"/>\n</g>\n<!-- 348 -->\n<g id=\"node349\" class=\"node\">\n<title>348</title>\n<polygon fill=\"#3d9fe6\" stroke=\"#000000\" points=\"17904,-53 17772,-53 17772,0 17904,0 17904,-53\"/>\n<text text-anchor=\"middle\" x=\"17838\" y=\"-37.8\" font-family=\"Helvetica,sans-Serif\" font-size=\"14.00\" fill=\"#000000\">entropy = 0.141</text>\n<text text-anchor=\"middle\" x=\"17838\" y=\"-22.8\" font-family=\"Helvetica,sans-Serif\" font-size=\"14.00\" fill=\"#000000\">samples = 3915</text>\n<text text-anchor=\"middle\" x=\"17838\" y=\"-7.8\" font-family=\"Helvetica,sans-Serif\" font-size=\"14.00\" fill=\"#000000\">value = [78, 3837]</text>\n</g>\n<!-- 346&#45;&gt;348 -->\n<g id=\"edge348\" class=\"edge\">\n<title>346&#45;&gt;348</title>\n<path fill=\"none\" stroke=\"#000000\" d=\"M17815.3397,-88.9777C17818.4284,-80.4617 17821.7526,-71.2963 17824.8778,-62.6798\"/>\n<polygon fill=\"#000000\" stroke=\"#000000\" points=\"17828.1791,-63.8426 17828.2985,-53.2485 17821.5985,-61.4559 17828.1791,-63.8426\"/>\n</g>\n<!-- 350 -->\n<g id=\"node351\" class=\"node\">\n<title>350</title>\n<polygon fill=\"#3a9de5\" stroke=\"#000000\" points=\"18046,-53 17922,-53 17922,0 18046,0 18046,-53\"/>\n<text text-anchor=\"middle\" x=\"17984\" y=\"-37.8\" font-family=\"Helvetica,sans-Serif\" font-size=\"14.00\" fill=\"#000000\">entropy = 0.027</text>\n<text text-anchor=\"middle\" x=\"17984\" y=\"-22.8\" font-family=\"Helvetica,sans-Serif\" font-size=\"14.00\" fill=\"#000000\">samples = 1845</text>\n<text text-anchor=\"middle\" x=\"17984\" y=\"-7.8\" font-family=\"Helvetica,sans-Serif\" font-size=\"14.00\" fill=\"#000000\">value = [5, 1840]</text>\n</g>\n<!-- 349&#45;&gt;350 -->\n<g id=\"edge350\" class=\"edge\">\n<title>349&#45;&gt;350</title>\n<path fill=\"none\" stroke=\"#000000\" d=\"M17984,-88.9777C17984,-80.7364 17984,-71.887 17984,-63.5153\"/>\n<polygon fill=\"#000000\" stroke=\"#000000\" points=\"17987.5001,-63.2484 17984,-53.2485 17980.5001,-63.2485 17987.5001,-63.2484\"/>\n</g>\n<!-- 351 -->\n<g id=\"node352\" class=\"node\">\n<title>351</title>\n<polygon fill=\"#3b9ee5\" stroke=\"#000000\" points=\"18196,-53 18064,-53 18064,0 18196,0 18196,-53\"/>\n<text text-anchor=\"middle\" x=\"18130\" y=\"-37.8\" font-family=\"Helvetica,sans-Serif\" font-size=\"14.00\" fill=\"#000000\">entropy = 0.086</text>\n<text text-anchor=\"middle\" x=\"18130\" y=\"-22.8\" font-family=\"Helvetica,sans-Serif\" font-size=\"14.00\" fill=\"#000000\">samples = 2214</text>\n<text text-anchor=\"middle\" x=\"18130\" y=\"-7.8\" font-family=\"Helvetica,sans-Serif\" font-size=\"14.00\" fill=\"#000000\">value = [24, 2190]</text>\n</g>\n<!-- 349&#45;&gt;351 -->\n<g id=\"edge351\" class=\"edge\">\n<title>349&#45;&gt;351</title>\n<path fill=\"none\" stroke=\"#000000\" d=\"M18035.4741,-88.9777C18050.298,-79.1798 18066.4224,-68.5222 18081.0865,-58.8298\"/>\n<polygon fill=\"#000000\" stroke=\"#000000\" points=\"18083.1183,-61.6824 18089.5308,-53.2485 18079.2585,-55.8427 18083.1183,-61.6824\"/>\n</g>\n<!-- 353 -->\n<g id=\"node354\" class=\"node\">\n<title>353</title>\n<polygon fill=\"#4ba6e7\" stroke=\"#000000\" points=\"19858.5,-573 19701.5,-573 19701.5,-505 19858.5,-505 19858.5,-573\"/>\n<text text-anchor=\"middle\" x=\"19780\" y=\"-557.8\" font-family=\"Helvetica,sans-Serif\" font-size=\"14.00\" fill=\"#000000\">X[3] &lt;= &#45;0.665</text>\n<text text-anchor=\"middle\" x=\"19780\" y=\"-542.8\" font-family=\"Helvetica,sans-Serif\" font-size=\"14.00\" fill=\"#000000\">entropy = 0.416</text>\n<text text-anchor=\"middle\" x=\"19780\" y=\"-527.8\" font-family=\"Helvetica,sans-Serif\" font-size=\"14.00\" fill=\"#000000\">samples = 63713</text>\n<text text-anchor=\"middle\" x=\"19780\" y=\"-512.8\" font-family=\"Helvetica,sans-Serif\" font-size=\"14.00\" fill=\"#000000\">value = [5347, 58366]</text>\n</g>\n<!-- 352&#45;&gt;353 -->\n<g id=\"edge353\" class=\"edge\">\n<title>352&#45;&gt;353</title>\n<path fill=\"none\" stroke=\"#000000\" d=\"M19780,-608.9465C19780,-600.776 19780,-591.9318 19780,-583.3697\"/>\n<polygon fill=\"#000000\" stroke=\"#000000\" points=\"19783.5001,-583.13 19780,-573.13 19776.5001,-583.13 19783.5001,-583.13\"/>\n</g>\n<!-- 402 -->\n<g id=\"node403\" class=\"node\">\n<title>402</title>\n<polygon fill=\"#41a1e6\" stroke=\"#000000\" points=\"21839.5,-573 21682.5,-573 21682.5,-505 21839.5,-505 21839.5,-573\"/>\n<text text-anchor=\"middle\" x=\"21761\" y=\"-557.8\" font-family=\"Helvetica,sans-Serif\" font-size=\"14.00\" fill=\"#000000\">X[0] &lt;= &#45;0.45</text>\n<text text-anchor=\"middle\" x=\"21761\" y=\"-542.8\" font-family=\"Helvetica,sans-Serif\" font-size=\"14.00\" fill=\"#000000\">entropy = 0.241</text>\n<text text-anchor=\"middle\" x=\"21761\" y=\"-527.8\" font-family=\"Helvetica,sans-Serif\" font-size=\"14.00\" fill=\"#000000\">samples = 36458</text>\n<text text-anchor=\"middle\" x=\"21761\" y=\"-512.8\" font-family=\"Helvetica,sans-Serif\" font-size=\"14.00\" fill=\"#000000\">value = [1451, 35007]</text>\n</g>\n<!-- 352&#45;&gt;402 -->\n<g id=\"edge402\" class=\"edge\">\n<title>352&#45;&gt;402</title>\n<path fill=\"none\" stroke=\"#000000\" d=\"M19858.5736,-638.875C20173.0936,-622.3631 21340.2761,-561.0875 21672.3425,-543.6544\"/>\n<polygon fill=\"#000000\" stroke=\"#000000\" points=\"21672.5898,-547.1463 21682.3925,-543.1268 21672.2227,-540.156 21672.5898,-547.1463\"/>\n</g>\n<!-- 354 -->\n<g id=\"node355\" class=\"node\">\n<title>354</title>\n<polygon fill=\"#3fa0e6\" stroke=\"#000000\" points=\"19378.5,-469 19229.5,-469 19229.5,-401 19378.5,-401 19378.5,-469\"/>\n<text text-anchor=\"middle\" x=\"19304\" y=\"-453.8\" font-family=\"Helvetica,sans-Serif\" font-size=\"14.00\" fill=\"#000000\">X[0] &lt;= &#45;1.136</text>\n<text text-anchor=\"middle\" x=\"19304\" y=\"-438.8\" font-family=\"Helvetica,sans-Serif\" font-size=\"14.00\" fill=\"#000000\">entropy = 0.199</text>\n<text text-anchor=\"middle\" x=\"19304\" y=\"-423.8\" font-family=\"Helvetica,sans-Serif\" font-size=\"14.00\" fill=\"#000000\">samples = 14894</text>\n<text text-anchor=\"middle\" x=\"19304\" y=\"-408.8\" font-family=\"Helvetica,sans-Serif\" font-size=\"14.00\" fill=\"#000000\">value = [462, 14432]</text>\n</g>\n<!-- 353&#45;&gt;354 -->\n<g id=\"edge354\" class=\"edge\">\n<title>353&#45;&gt;354</title>\n<path fill=\"none\" stroke=\"#000000\" d=\"M19701.3983,-521.8265C19615.2047,-502.9943 19477.3898,-472.8835 19388.8086,-453.5296\"/>\n<polygon fill=\"#000000\" stroke=\"#000000\" points=\"19389.3088,-450.0564 19378.7922,-451.3411 19387.8146,-456.8951 19389.3088,-450.0564\"/>\n</g>\n<!-- 379 -->\n<g id=\"node380\" class=\"node\">\n<title>379</title>\n<polygon fill=\"#4fa8e8\" stroke=\"#000000\" points=\"20221.5,-469 20064.5,-469 20064.5,-401 20221.5,-401 20221.5,-469\"/>\n<text text-anchor=\"middle\" x=\"20143\" y=\"-453.8\" font-family=\"Helvetica,sans-Serif\" font-size=\"14.00\" fill=\"#000000\">X[13] &lt;= &#45;0.515</text>\n<text text-anchor=\"middle\" x=\"20143\" y=\"-438.8\" font-family=\"Helvetica,sans-Serif\" font-size=\"14.00\" fill=\"#000000\">entropy = 0.469</text>\n<text text-anchor=\"middle\" x=\"20143\" y=\"-423.8\" font-family=\"Helvetica,sans-Serif\" font-size=\"14.00\" fill=\"#000000\">samples = 48819</text>\n<text text-anchor=\"middle\" x=\"20143\" y=\"-408.8\" font-family=\"Helvetica,sans-Serif\" font-size=\"14.00\" fill=\"#000000\">value = [4885, 43934]</text>\n</g>\n<!-- 353&#45;&gt;379 -->\n<g id=\"edge379\" class=\"edge\">\n<title>353&#45;&gt;379</title>\n<path fill=\"none\" stroke=\"#000000\" d=\"M19858.7656,-516.4335C19916.442,-499.9092 19994.7562,-477.4721 20054.5763,-460.3335\"/>\n<polygon fill=\"#000000\" stroke=\"#000000\" points=\"20055.7389,-463.6413 20064.3881,-457.5224 20053.8109,-456.9121 20055.7389,-463.6413\"/>\n</g>\n<!-- 355 -->\n<g id=\"node356\" class=\"node\">\n<title>355</title>\n<polygon fill=\"#3a9ee5\" stroke=\"#000000\" points=\"18686,-365 18554,-365 18554,-297 18686,-297 18686,-365\"/>\n<text text-anchor=\"middle\" x=\"18620\" y=\"-349.8\" font-family=\"Helvetica,sans-Serif\" font-size=\"14.00\" fill=\"#000000\">X[0] &lt;= &#45;1.293</text>\n<text text-anchor=\"middle\" x=\"18620\" y=\"-334.8\" font-family=\"Helvetica,sans-Serif\" font-size=\"14.00\" fill=\"#000000\">entropy = 0.049</text>\n<text text-anchor=\"middle\" x=\"18620\" y=\"-319.8\" font-family=\"Helvetica,sans-Serif\" font-size=\"14.00\" fill=\"#000000\">samples = 3482</text>\n<text text-anchor=\"middle\" x=\"18620\" y=\"-304.8\" font-family=\"Helvetica,sans-Serif\" font-size=\"14.00\" fill=\"#000000\">value = [19, 3463]</text>\n</g>\n<!-- 354&#45;&gt;355 -->\n<g id=\"edge355\" class=\"edge\">\n<title>354&#45;&gt;355</title>\n<path fill=\"none\" stroke=\"#000000\" d=\"M19229.4979,-423.6722C19098.5657,-403.7644 18828.5656,-362.7117 18696.3425,-342.6076\"/>\n<polygon fill=\"#000000\" stroke=\"#000000\" points=\"18696.7064,-339.1228 18686.2939,-341.0798 18695.6541,-346.0433 18696.7064,-339.1228\"/>\n</g>\n<!-- 364 -->\n<g id=\"node365\" class=\"node\">\n<title>364</title>\n<polygon fill=\"#41a1e6\" stroke=\"#000000\" points=\"19378.5,-365 19229.5,-365 19229.5,-297 19378.5,-297 19378.5,-365\"/>\n<text text-anchor=\"middle\" x=\"19304\" y=\"-349.8\" font-family=\"Helvetica,sans-Serif\" font-size=\"14.00\" fill=\"#000000\">X[11] &lt;= &#45;0.549</text>\n<text text-anchor=\"middle\" x=\"19304\" y=\"-334.8\" font-family=\"Helvetica,sans-Serif\" font-size=\"14.00\" fill=\"#000000\">entropy = 0.237</text>\n<text text-anchor=\"middle\" x=\"19304\" y=\"-319.8\" font-family=\"Helvetica,sans-Serif\" font-size=\"14.00\" fill=\"#000000\">samples = 11412</text>\n<text text-anchor=\"middle\" x=\"19304\" y=\"-304.8\" font-family=\"Helvetica,sans-Serif\" font-size=\"14.00\" fill=\"#000000\">value = [443, 10969]</text>\n</g>\n<!-- 354&#45;&gt;364 -->\n<g id=\"edge364\" class=\"edge\">\n<title>354&#45;&gt;364</title>\n<path fill=\"none\" stroke=\"#000000\" d=\"M19304,-400.9465C19304,-392.776 19304,-383.9318 19304,-375.3697\"/>\n<polygon fill=\"#000000\" stroke=\"#000000\" points=\"19307.5001,-375.13 19304,-365.13 19300.5001,-375.13 19307.5001,-375.13\"/>\n</g>\n<!-- 356 -->\n<g id=\"node357\" class=\"node\">\n<title>356</title>\n<polygon fill=\"#399de5\" stroke=\"#000000\" points=\"18536,-253.5 18412,-253.5 18412,-200.5 18536,-200.5 18536,-253.5\"/>\n<text text-anchor=\"middle\" x=\"18474\" y=\"-238.3\" font-family=\"Helvetica,sans-Serif\" font-size=\"14.00\" fill=\"#000000\">entropy = 0.0</text>\n<text text-anchor=\"middle\" x=\"18474\" y=\"-223.3\" font-family=\"Helvetica,sans-Serif\" font-size=\"14.00\" fill=\"#000000\">samples = 1182</text>\n<text text-anchor=\"middle\" x=\"18474\" y=\"-208.3\" font-family=\"Helvetica,sans-Serif\" font-size=\"14.00\" fill=\"#000000\">value = [0, 1182]</text>\n</g>\n<!-- 355&#45;&gt;356 -->\n<g id=\"edge356\" class=\"edge\">\n<title>355&#45;&gt;356</title>\n<path fill=\"none\" stroke=\"#000000\" d=\"M18572.1941,-296.9465C18555.3392,-284.9403 18536.4419,-271.4791 18519.7601,-259.5962\"/>\n<polygon fill=\"#000000\" stroke=\"#000000\" points=\"18521.4367,-256.4933 18511.2611,-253.5422 18517.3753,-262.1947 18521.4367,-256.4933\"/>\n</g>\n<!-- 357 -->\n<g id=\"node358\" class=\"node\">\n<title>357</title>\n<polygon fill=\"#3b9ee5\" stroke=\"#000000\" points=\"18686,-261 18554,-261 18554,-193 18686,-193 18686,-261\"/>\n<text text-anchor=\"middle\" x=\"18620\" y=\"-245.8\" font-family=\"Helvetica,sans-Serif\" font-size=\"14.00\" fill=\"#000000\">X[11] &lt;= &#45;0.703</text>\n<text text-anchor=\"middle\" x=\"18620\" y=\"-230.8\" font-family=\"Helvetica,sans-Serif\" font-size=\"14.00\" fill=\"#000000\">entropy = 0.069</text>\n<text text-anchor=\"middle\" x=\"18620\" y=\"-215.8\" font-family=\"Helvetica,sans-Serif\" font-size=\"14.00\" fill=\"#000000\">samples = 2300</text>\n<text text-anchor=\"middle\" x=\"18620\" y=\"-200.8\" font-family=\"Helvetica,sans-Serif\" font-size=\"14.00\" fill=\"#000000\">value = [19, 2281]</text>\n</g>\n<!-- 355&#45;&gt;357 -->\n<g id=\"edge357\" class=\"edge\">\n<title>355&#45;&gt;357</title>\n<path fill=\"none\" stroke=\"#000000\" d=\"M18620,-296.9465C18620,-288.776 18620,-279.9318 18620,-271.3697\"/>\n<polygon fill=\"#000000\" stroke=\"#000000\" points=\"18623.5001,-271.13 18620,-261.13 18616.5001,-271.13 18623.5001,-271.13\"/>\n</g>\n<!-- 358 -->\n<g id=\"node359\" class=\"node\">\n<title>358</title>\n<polygon fill=\"#3d9fe6\" stroke=\"#000000\" points=\"18472,-157 18348,-157 18348,-89 18472,-89 18472,-157\"/>\n<text text-anchor=\"middle\" x=\"18410\" y=\"-141.8\" font-family=\"Helvetica,sans-Serif\" font-size=\"14.00\" fill=\"#000000\">X[9] &lt;= &#45;1.257</text>\n<text text-anchor=\"middle\" x=\"18410\" y=\"-126.8\" font-family=\"Helvetica,sans-Serif\" font-size=\"14.00\" fill=\"#000000\">entropy = 0.142</text>\n<text text-anchor=\"middle\" x=\"18410\" y=\"-111.8\" font-family=\"Helvetica,sans-Serif\" font-size=\"14.00\" fill=\"#000000\">samples = 894</text>\n<text text-anchor=\"middle\" x=\"18410\" y=\"-96.8\" font-family=\"Helvetica,sans-Serif\" font-size=\"14.00\" fill=\"#000000\">value = [18, 876]</text>\n</g>\n<!-- 357&#45;&gt;358 -->\n<g id=\"edge358\" class=\"edge\">\n<title>357&#45;&gt;358</title>\n<path fill=\"none\" stroke=\"#000000\" d=\"M18553.8429,-194.2365C18530.8114,-182.8304 18504.8774,-169.9869 18481.4372,-158.3784\"/>\n<polygon fill=\"#000000\" stroke=\"#000000\" points=\"18482.7617,-155.1287 18472.2471,-153.8271 18479.6551,-161.4016 18482.7617,-155.1287\"/>\n</g>\n<!-- 361 -->\n<g id=\"node362\" class=\"node\">\n<title>361</title>\n<polygon fill=\"#399de5\" stroke=\"#000000\" points=\"18682,-157 18558,-157 18558,-89 18682,-89 18682,-157\"/>\n<text text-anchor=\"middle\" x=\"18620\" y=\"-141.8\" font-family=\"Helvetica,sans-Serif\" font-size=\"14.00\" fill=\"#000000\">X[4] &lt;= &#45;1.559</text>\n<text text-anchor=\"middle\" x=\"18620\" y=\"-126.8\" font-family=\"Helvetica,sans-Serif\" font-size=\"14.00\" fill=\"#000000\">entropy = 0.008</text>\n<text text-anchor=\"middle\" x=\"18620\" y=\"-111.8\" font-family=\"Helvetica,sans-Serif\" font-size=\"14.00\" fill=\"#000000\">samples = 1406</text>\n<text text-anchor=\"middle\" x=\"18620\" y=\"-96.8\" font-family=\"Helvetica,sans-Serif\" font-size=\"14.00\" fill=\"#000000\">value = [1, 1405]</text>\n</g>\n<!-- 357&#45;&gt;361 -->\n<g id=\"edge361\" class=\"edge\">\n<title>357&#45;&gt;361</title>\n<path fill=\"none\" stroke=\"#000000\" d=\"M18620,-192.9465C18620,-184.776 18620,-175.9318 18620,-167.3697\"/>\n<polygon fill=\"#000000\" stroke=\"#000000\" points=\"18623.5001,-167.13 18620,-157.13 18616.5001,-167.13 18623.5001,-167.13\"/>\n</g>\n<!-- 359 -->\n<g id=\"node360\" class=\"node\">\n<title>359</title>\n<polygon fill=\"#399de5\" stroke=\"#000000\" points=\"18330,-53 18214,-53 18214,0 18330,0 18330,-53\"/>\n<text text-anchor=\"middle\" x=\"18272\" y=\"-37.8\" font-family=\"Helvetica,sans-Serif\" font-size=\"14.00\" fill=\"#000000\">entropy = 0.0</text>\n<text text-anchor=\"middle\" x=\"18272\" y=\"-22.8\" font-family=\"Helvetica,sans-Serif\" font-size=\"14.00\" fill=\"#000000\">samples = 205</text>\n<text text-anchor=\"middle\" x=\"18272\" y=\"-7.8\" font-family=\"Helvetica,sans-Serif\" font-size=\"14.00\" fill=\"#000000\">value = [0, 205]</text>\n</g>\n<!-- 358&#45;&gt;359 -->\n<g id=\"edge359\" class=\"edge\">\n<title>358&#45;&gt;359</title>\n<path fill=\"none\" stroke=\"#000000\" d=\"M18361.3464,-88.9777C18347.4657,-79.2713 18332.3786,-68.7213 18318.6223,-59.1018\"/>\n<polygon fill=\"#000000\" stroke=\"#000000\" points=\"18320.4526,-56.1109 18310.2517,-53.2485 18316.4411,-61.8475 18320.4526,-56.1109\"/>\n</g>\n<!-- 360 -->\n<g id=\"node361\" class=\"node\">\n<title>360</title>\n<polygon fill=\"#3ea0e6\" stroke=\"#000000\" points=\"18472,-53 18348,-53 18348,0 18472,0 18472,-53\"/>\n<text text-anchor=\"middle\" x=\"18410\" y=\"-37.8\" font-family=\"Helvetica,sans-Serif\" font-size=\"14.00\" fill=\"#000000\">entropy = 0.175</text>\n<text text-anchor=\"middle\" x=\"18410\" y=\"-22.8\" font-family=\"Helvetica,sans-Serif\" font-size=\"14.00\" fill=\"#000000\">samples = 689</text>\n<text text-anchor=\"middle\" x=\"18410\" y=\"-7.8\" font-family=\"Helvetica,sans-Serif\" font-size=\"14.00\" fill=\"#000000\">value = [18, 671]</text>\n</g>\n<!-- 358&#45;&gt;360 -->\n<g id=\"edge360\" class=\"edge\">\n<title>358&#45;&gt;360</title>\n<path fill=\"none\" stroke=\"#000000\" d=\"M18410,-88.9777C18410,-80.7364 18410,-71.887 18410,-63.5153\"/>\n<polygon fill=\"#000000\" stroke=\"#000000\" points=\"18413.5001,-63.2484 18410,-53.2485 18406.5001,-63.2485 18413.5001,-63.2484\"/>\n</g>\n<!-- 362 -->\n<g id=\"node363\" class=\"node\">\n<title>362</title>\n<polygon fill=\"#3a9ee5\" stroke=\"#000000\" points=\"18608,-53 18490,-53 18490,0 18608,0 18608,-53\"/>\n<text text-anchor=\"middle\" x=\"18549\" y=\"-37.8\" font-family=\"Helvetica,sans-Serif\" font-size=\"14.00\" fill=\"#000000\">entropy = 0.054</text>\n<text text-anchor=\"middle\" x=\"18549\" y=\"-22.8\" font-family=\"Helvetica,sans-Serif\" font-size=\"14.00\" fill=\"#000000\">samples = 161</text>\n<text text-anchor=\"middle\" x=\"18549\" y=\"-7.8\" font-family=\"Helvetica,sans-Serif\" font-size=\"14.00\" fill=\"#000000\">value = [1, 160]</text>\n</g>\n<!-- 361&#45;&gt;362 -->\n<g id=\"edge362\" class=\"edge\">\n<title>361&#45;&gt;362</title>\n<path fill=\"none\" stroke=\"#000000\" d=\"M18594.9681,-88.9777C18588.4329,-80.0954 18581.378,-70.5067 18574.8036,-61.5711\"/>\n<polygon fill=\"#000000\" stroke=\"#000000\" points=\"18577.4257,-59.229 18568.6802,-53.2485 18571.7874,-63.3775 18577.4257,-59.229\"/>\n</g>\n<!-- 363 -->\n<g id=\"node364\" class=\"node\">\n<title>363</title>\n<polygon fill=\"#399de5\" stroke=\"#000000\" points=\"18750,-53 18626,-53 18626,0 18750,0 18750,-53\"/>\n<text text-anchor=\"middle\" x=\"18688\" y=\"-37.8\" font-family=\"Helvetica,sans-Serif\" font-size=\"14.00\" fill=\"#000000\">entropy = 0.0</text>\n<text text-anchor=\"middle\" x=\"18688\" y=\"-22.8\" font-family=\"Helvetica,sans-Serif\" font-size=\"14.00\" fill=\"#000000\">samples = 1245</text>\n<text text-anchor=\"middle\" x=\"18688\" y=\"-7.8\" font-family=\"Helvetica,sans-Serif\" font-size=\"14.00\" fill=\"#000000\">value = [0, 1245]</text>\n</g>\n<!-- 361&#45;&gt;363 -->\n<g id=\"edge363\" class=\"edge\">\n<title>361&#45;&gt;363</title>\n<path fill=\"none\" stroke=\"#000000\" d=\"M18643.9743,-88.9777C18650.2333,-80.0954 18656.9901,-70.5067 18663.2867,-61.5711\"/>\n<polygon fill=\"#000000\" stroke=\"#000000\" points=\"18666.2521,-63.4389 18669.1513,-53.2485 18660.5301,-59.4068 18666.2521,-63.4389\"/>\n</g>\n<!-- 365 -->\n<g id=\"node366\" class=\"node\">\n<title>365</title>\n<polygon fill=\"#46a3e7\" stroke=\"#000000\" points=\"19297,-261 19157,-261 19157,-193 19297,-193 19297,-261\"/>\n<text text-anchor=\"middle\" x=\"19227\" y=\"-245.8\" font-family=\"Helvetica,sans-Serif\" font-size=\"14.00\" fill=\"#000000\">X[13] &lt;= &#45;0.499</text>\n<text text-anchor=\"middle\" x=\"19227\" y=\"-230.8\" font-family=\"Helvetica,sans-Serif\" font-size=\"14.00\" fill=\"#000000\">entropy = 0.333</text>\n<text text-anchor=\"middle\" x=\"19227\" y=\"-215.8\" font-family=\"Helvetica,sans-Serif\" font-size=\"14.00\" fill=\"#000000\">samples = 6122</text>\n<text text-anchor=\"middle\" x=\"19227\" y=\"-200.8\" font-family=\"Helvetica,sans-Serif\" font-size=\"14.00\" fill=\"#000000\">value = [376, 5746]</text>\n</g>\n<!-- 364&#45;&gt;365 -->\n<g id=\"edge365\" class=\"edge\">\n<title>364&#45;&gt;365</title>\n<path fill=\"none\" stroke=\"#000000\" d=\"M19278.7873,-296.9465C19272.2727,-288.1475 19265.1795,-278.5672 19258.3918,-269.3993\"/>\n<polygon fill=\"#000000\" stroke=\"#000000\" points=\"19261.0327,-267.0843 19252.2693,-261.13 19255.4069,-271.2496 19261.0327,-267.0843\"/>\n</g>\n<!-- 372 -->\n<g id=\"node373\" class=\"node\">\n<title>372</title>\n<polygon fill=\"#3c9ee5\" stroke=\"#000000\" points=\"19500,-261 19368,-261 19368,-193 19500,-193 19500,-261\"/>\n<text text-anchor=\"middle\" x=\"19434\" y=\"-245.8\" font-family=\"Helvetica,sans-Serif\" font-size=\"14.00\" fill=\"#000000\">X[0] &lt;= &#45;0.882</text>\n<text text-anchor=\"middle\" x=\"19434\" y=\"-230.8\" font-family=\"Helvetica,sans-Serif\" font-size=\"14.00\" fill=\"#000000\">entropy = 0.098</text>\n<text text-anchor=\"middle\" x=\"19434\" y=\"-215.8\" font-family=\"Helvetica,sans-Serif\" font-size=\"14.00\" fill=\"#000000\">samples = 5290</text>\n<text text-anchor=\"middle\" x=\"19434\" y=\"-200.8\" font-family=\"Helvetica,sans-Serif\" font-size=\"14.00\" fill=\"#000000\">value = [67, 5223]</text>\n</g>\n<!-- 364&#45;&gt;372 -->\n<g id=\"edge372\" class=\"edge\">\n<title>364&#45;&gt;372</title>\n<path fill=\"none\" stroke=\"#000000\" d=\"M19346.5669,-296.9465C19358.3512,-287.519 19371.2568,-277.1946 19383.4481,-267.4415\"/>\n<polygon fill=\"#000000\" stroke=\"#000000\" points=\"19385.7152,-270.11 19391.3375,-261.13 19381.3423,-264.6439 19385.7152,-270.11\"/>\n</g>\n<!-- 366 -->\n<g id=\"node367\" class=\"node\">\n<title>366</title>\n<polygon fill=\"#45a3e7\" stroke=\"#000000\" points=\"19062,-157 18922,-157 18922,-89 19062,-89 19062,-157\"/>\n<text text-anchor=\"middle\" x=\"18992\" y=\"-141.8\" font-family=\"Helvetica,sans-Serif\" font-size=\"14.00\" fill=\"#000000\">X[6] &lt;= &#45;0.337</text>\n<text text-anchor=\"middle\" x=\"18992\" y=\"-126.8\" font-family=\"Helvetica,sans-Serif\" font-size=\"14.00\" fill=\"#000000\">entropy = 0.316</text>\n<text text-anchor=\"middle\" x=\"18992\" y=\"-111.8\" font-family=\"Helvetica,sans-Serif\" font-size=\"14.00\" fill=\"#000000\">samples = 6026</text>\n<text text-anchor=\"middle\" x=\"18992\" y=\"-96.8\" font-family=\"Helvetica,sans-Serif\" font-size=\"14.00\" fill=\"#000000\">value = [345, 5681]</text>\n</g>\n<!-- 365&#45;&gt;366 -->\n<g id=\"edge366\" class=\"edge\">\n<title>365&#45;&gt;366</title>\n<path fill=\"none\" stroke=\"#000000\" d=\"M19156.8106,-195.9374C19129.9566,-184.0531 19099.1447,-170.4172 19071.4833,-158.1756\"/>\n<polygon fill=\"#000000\" stroke=\"#000000\" points=\"19072.7945,-154.9285 19062.2336,-154.0821 19069.9616,-161.3297 19072.7945,-154.9285\"/>\n</g>\n<!-- 369 -->\n<g id=\"node370\" class=\"node\">\n<title>369</title>\n<polygon fill=\"#97ccf1\" stroke=\"#000000\" points=\"19286,-157 19168,-157 19168,-89 19286,-89 19286,-157\"/>\n<text text-anchor=\"middle\" x=\"19227\" y=\"-141.8\" font-family=\"Helvetica,sans-Serif\" font-size=\"14.00\" fill=\"#000000\">X[0] &lt;= &#45;1.124</text>\n<text text-anchor=\"middle\" x=\"19227\" y=\"-126.8\" font-family=\"Helvetica,sans-Serif\" font-size=\"14.00\" fill=\"#000000\">entropy = 0.908</text>\n<text text-anchor=\"middle\" x=\"19227\" y=\"-111.8\" font-family=\"Helvetica,sans-Serif\" font-size=\"14.00\" fill=\"#000000\">samples = 96</text>\n<text text-anchor=\"middle\" x=\"19227\" y=\"-96.8\" font-family=\"Helvetica,sans-Serif\" font-size=\"14.00\" fill=\"#000000\">value = [31, 65]</text>\n</g>\n<!-- 365&#45;&gt;369 -->\n<g id=\"edge369\" class=\"edge\">\n<title>365&#45;&gt;369</title>\n<path fill=\"none\" stroke=\"#000000\" d=\"M19227,-192.9465C19227,-184.776 19227,-175.9318 19227,-167.3697\"/>\n<polygon fill=\"#000000\" stroke=\"#000000\" points=\"19230.5001,-167.13 19227,-157.13 19223.5001,-167.13 19230.5001,-167.13\"/>\n</g>\n<!-- 367 -->\n<g id=\"node368\" class=\"node\">\n<title>367</title>\n<polygon fill=\"#48a5e7\" stroke=\"#000000\" points=\"18908,-53 18768,-53 18768,0 18908,0 18908,-53\"/>\n<text text-anchor=\"middle\" x=\"18838\" y=\"-37.8\" font-family=\"Helvetica,sans-Serif\" font-size=\"14.00\" fill=\"#000000\">entropy = 0.37</text>\n<text text-anchor=\"middle\" x=\"18838\" y=\"-22.8\" font-family=\"Helvetica,sans-Serif\" font-size=\"14.00\" fill=\"#000000\">samples = 3711</text>\n<text text-anchor=\"middle\" x=\"18838\" y=\"-7.8\" font-family=\"Helvetica,sans-Serif\" font-size=\"14.00\" fill=\"#000000\">value = [264, 3447]</text>\n</g>\n<!-- 366&#45;&gt;367 -->\n<g id=\"edge367\" class=\"edge\">\n<title>366&#45;&gt;367</title>\n<path fill=\"none\" stroke=\"#000000\" d=\"M18937.7054,-88.9777C18922.0692,-79.1798 18905.0613,-68.5222 18889.5937,-58.8298\"/>\n<polygon fill=\"#000000\" stroke=\"#000000\" points=\"18891.019,-55.5926 18880.6867,-53.2485 18887.302,-61.5242 18891.019,-55.5926\"/>\n</g>\n<!-- 368 -->\n<g id=\"node369\" class=\"node\">\n<title>368</title>\n<polygon fill=\"#40a1e6\" stroke=\"#000000\" points=\"19058,-53 18926,-53 18926,0 19058,0 19058,-53\"/>\n<text text-anchor=\"middle\" x=\"18992\" y=\"-37.8\" font-family=\"Helvetica,sans-Serif\" font-size=\"14.00\" fill=\"#000000\">entropy = 0.219</text>\n<text text-anchor=\"middle\" x=\"18992\" y=\"-22.8\" font-family=\"Helvetica,sans-Serif\" font-size=\"14.00\" fill=\"#000000\">samples = 2315</text>\n<text text-anchor=\"middle\" x=\"18992\" y=\"-7.8\" font-family=\"Helvetica,sans-Serif\" font-size=\"14.00\" fill=\"#000000\">value = [81, 2234]</text>\n</g>\n<!-- 366&#45;&gt;368 -->\n<g id=\"edge368\" class=\"edge\">\n<title>366&#45;&gt;368</title>\n<path fill=\"none\" stroke=\"#000000\" d=\"M18992,-88.9777C18992,-80.7364 18992,-71.887 18992,-63.5153\"/>\n<polygon fill=\"#000000\" stroke=\"#000000\" points=\"18995.5001,-63.2484 18992,-53.2485 18988.5001,-63.2485 18995.5001,-63.2484\"/>\n</g>\n<!-- 370 -->\n<g id=\"node371\" class=\"node\">\n<title>370</title>\n<polygon fill=\"#399de5\" stroke=\"#000000\" points=\"19183.5,-53 19076.5,-53 19076.5,0 19183.5,0 19183.5,-53\"/>\n<text text-anchor=\"middle\" x=\"19130\" y=\"-37.8\" font-family=\"Helvetica,sans-Serif\" font-size=\"14.00\" fill=\"#000000\">entropy = 0.0</text>\n<text text-anchor=\"middle\" x=\"19130\" y=\"-22.8\" font-family=\"Helvetica,sans-Serif\" font-size=\"14.00\" fill=\"#000000\">samples = 26</text>\n<text text-anchor=\"middle\" x=\"19130\" y=\"-7.8\" font-family=\"Helvetica,sans-Serif\" font-size=\"14.00\" fill=\"#000000\">value = [0, 26]</text>\n</g>\n<!-- 369&#45;&gt;370 -->\n<g id=\"edge370\" class=\"edge\">\n<title>369&#45;&gt;370</title>\n<path fill=\"none\" stroke=\"#000000\" d=\"M19192.8014,-88.9777C19183.505,-79.7292 19173.4386,-69.7147 19164.1451,-60.4691\"/>\n<polygon fill=\"#000000\" stroke=\"#000000\" points=\"19166.4449,-57.82 19156.8871,-53.2485 19161.5079,-62.7825 19166.4449,-57.82\"/>\n</g>\n<!-- 371 -->\n<g id=\"node372\" class=\"node\">\n<title>371</title>\n<polygon fill=\"#d6ebfa\" stroke=\"#000000\" points=\"19320,-53 19202,-53 19202,0 19320,0 19320,-53\"/>\n<text text-anchor=\"middle\" x=\"19261\" y=\"-37.8\" font-family=\"Helvetica,sans-Serif\" font-size=\"14.00\" fill=\"#000000\">entropy = 0.991</text>\n<text text-anchor=\"middle\" x=\"19261\" y=\"-22.8\" font-family=\"Helvetica,sans-Serif\" font-size=\"14.00\" fill=\"#000000\">samples = 70</text>\n<text text-anchor=\"middle\" x=\"19261\" y=\"-7.8\" font-family=\"Helvetica,sans-Serif\" font-size=\"14.00\" fill=\"#000000\">value = [31, 39]</text>\n</g>\n<!-- 369&#45;&gt;371 -->\n<g id=\"edge371\" class=\"edge\">\n<title>369&#45;&gt;371</title>\n<path fill=\"none\" stroke=\"#000000\" d=\"M19238.9871,-88.9777C19241.9553,-80.5533 19245.1474,-71.4934 19248.1547,-62.9579\"/>\n<polygon fill=\"#000000\" stroke=\"#000000\" points=\"19251.5536,-63.8433 19251.5757,-53.2485 19244.9514,-61.5171 19251.5536,-63.8433\"/>\n</g>\n<!-- 373 -->\n<g id=\"node374\" class=\"node\">\n<title>373</title>\n<polygon fill=\"#3a9ee5\" stroke=\"#000000\" points=\"19500,-157 19368,-157 19368,-89 19500,-89 19500,-157\"/>\n<text text-anchor=\"middle\" x=\"19434\" y=\"-141.8\" font-family=\"Helvetica,sans-Serif\" font-size=\"14.00\" fill=\"#000000\">X[0] &lt;= &#45;1.063</text>\n<text text-anchor=\"middle\" x=\"19434\" y=\"-126.8\" font-family=\"Helvetica,sans-Serif\" font-size=\"14.00\" fill=\"#000000\">entropy = 0.047</text>\n<text text-anchor=\"middle\" x=\"19434\" y=\"-111.8\" font-family=\"Helvetica,sans-Serif\" font-size=\"14.00\" fill=\"#000000\">samples = 3424</text>\n<text text-anchor=\"middle\" x=\"19434\" y=\"-96.8\" font-family=\"Helvetica,sans-Serif\" font-size=\"14.00\" fill=\"#000000\">value = [18, 3406]</text>\n</g>\n<!-- 372&#45;&gt;373 -->\n<g id=\"edge373\" class=\"edge\">\n<title>372&#45;&gt;373</title>\n<path fill=\"none\" stroke=\"#000000\" d=\"M19434,-192.9465C19434,-184.776 19434,-175.9318 19434,-167.3697\"/>\n<polygon fill=\"#000000\" stroke=\"#000000\" points=\"19437.5001,-167.13 19434,-157.13 19430.5001,-167.13 19437.5001,-167.13\"/>\n</g>\n<!-- 376 -->\n<g id=\"node377\" class=\"node\">\n<title>376</title>\n<polygon fill=\"#3ea0e6\" stroke=\"#000000\" points=\"19758,-157 19626,-157 19626,-89 19758,-89 19758,-157\"/>\n<text text-anchor=\"middle\" x=\"19692\" y=\"-141.8\" font-family=\"Helvetica,sans-Serif\" font-size=\"14.00\" fill=\"#000000\">X[11] &lt;= &#45;0.293</text>\n<text text-anchor=\"middle\" x=\"19692\" y=\"-126.8\" font-family=\"Helvetica,sans-Serif\" font-size=\"14.00\" fill=\"#000000\">entropy = 0.175</text>\n<text text-anchor=\"middle\" x=\"19692\" y=\"-111.8\" font-family=\"Helvetica,sans-Serif\" font-size=\"14.00\" fill=\"#000000\">samples = 1866</text>\n<text text-anchor=\"middle\" x=\"19692\" y=\"-96.8\" font-family=\"Helvetica,sans-Serif\" font-size=\"14.00\" fill=\"#000000\">value = [49, 1817]</text>\n</g>\n<!-- 372&#45;&gt;376 -->\n<g id=\"edge376\" class=\"edge\">\n<title>372&#45;&gt;376</title>\n<path fill=\"none\" stroke=\"#000000\" d=\"M19500.1064,-200.3525C19535.4661,-186.099 19579.1728,-168.4807 19615.9384,-153.6605\"/>\n<polygon fill=\"#000000\" stroke=\"#000000\" points=\"19617.6513,-156.7438 19625.6175,-149.7588 19615.0341,-150.2514 19617.6513,-156.7438\"/>\n</g>\n<!-- 374 -->\n<g id=\"node375\" class=\"node\">\n<title>374</title>\n<polygon fill=\"#399de5\" stroke=\"#000000\" points=\"19462,-53 19338,-53 19338,0 19462,0 19462,-53\"/>\n<text text-anchor=\"middle\" x=\"19400\" y=\"-37.8\" font-family=\"Helvetica,sans-Serif\" font-size=\"14.00\" fill=\"#000000\">entropy = 0.0</text>\n<text text-anchor=\"middle\" x=\"19400\" y=\"-22.8\" font-family=\"Helvetica,sans-Serif\" font-size=\"14.00\" fill=\"#000000\">samples = 1114</text>\n<text text-anchor=\"middle\" x=\"19400\" y=\"-7.8\" font-family=\"Helvetica,sans-Serif\" font-size=\"14.00\" fill=\"#000000\">value = [0, 1114]</text>\n</g>\n<!-- 373&#45;&gt;374 -->\n<g id=\"edge374\" class=\"edge\">\n<title>373&#45;&gt;374</title>\n<path fill=\"none\" stroke=\"#000000\" d=\"M19422.0129,-88.9777C19419.0447,-80.5533 19415.8526,-71.4934 19412.8453,-62.9579\"/>\n<polygon fill=\"#000000\" stroke=\"#000000\" points=\"19416.0486,-61.5171 19409.4243,-53.2485 19409.4464,-63.8433 19416.0486,-61.5171\"/>\n</g>\n<!-- 375 -->\n<g id=\"node376\" class=\"node\">\n<title>375</title>\n<polygon fill=\"#3b9ee5\" stroke=\"#000000\" points=\"19612,-53 19480,-53 19480,0 19612,0 19612,-53\"/>\n<text text-anchor=\"middle\" x=\"19546\" y=\"-37.8\" font-family=\"Helvetica,sans-Serif\" font-size=\"14.00\" fill=\"#000000\">entropy = 0.066</text>\n<text text-anchor=\"middle\" x=\"19546\" y=\"-22.8\" font-family=\"Helvetica,sans-Serif\" font-size=\"14.00\" fill=\"#000000\">samples = 2310</text>\n<text text-anchor=\"middle\" x=\"19546\" y=\"-7.8\" font-family=\"Helvetica,sans-Serif\" font-size=\"14.00\" fill=\"#000000\">value = [18, 2292]</text>\n</g>\n<!-- 373&#45;&gt;375 -->\n<g id=\"edge375\" class=\"edge\">\n<title>373&#45;&gt;375</title>\n<path fill=\"none\" stroke=\"#000000\" d=\"M19473.487,-88.9777C19484.4336,-79.546 19496.3047,-69.3178 19507.2111,-59.9208\"/>\n<polygon fill=\"#000000\" stroke=\"#000000\" points=\"19509.6639,-62.4274 19514.9551,-53.2485 19505.0947,-57.1244 19509.6639,-62.4274\"/>\n</g>\n<!-- 377 -->\n<g id=\"node378\" class=\"node\">\n<title>377</title>\n<polygon fill=\"#45a3e7\" stroke=\"#000000\" points=\"19754,-53 19630,-53 19630,0 19754,0 19754,-53\"/>\n<text text-anchor=\"middle\" x=\"19692\" y=\"-37.8\" font-family=\"Helvetica,sans-Serif\" font-size=\"14.00\" fill=\"#000000\">entropy = 0.323</text>\n<text text-anchor=\"middle\" x=\"19692\" y=\"-22.8\" font-family=\"Helvetica,sans-Serif\" font-size=\"14.00\" fill=\"#000000\">samples = 798</text>\n<text text-anchor=\"middle\" x=\"19692\" y=\"-7.8\" font-family=\"Helvetica,sans-Serif\" font-size=\"14.00\" fill=\"#000000\">value = [47, 751]</text>\n</g>\n<!-- 376&#45;&gt;377 -->\n<g id=\"edge377\" class=\"edge\">\n<title>376&#45;&gt;377</title>\n<path fill=\"none\" stroke=\"#000000\" d=\"M19692,-88.9777C19692,-80.7364 19692,-71.887 19692,-63.5153\"/>\n<polygon fill=\"#000000\" stroke=\"#000000\" points=\"19695.5001,-63.2484 19692,-53.2485 19688.5001,-63.2485 19695.5001,-63.2484\"/>\n</g>\n<!-- 378 -->\n<g id=\"node379\" class=\"node\">\n<title>378</title>\n<polygon fill=\"#399de5\" stroke=\"#000000\" points=\"19896,-53 19772,-53 19772,0 19896,0 19896,-53\"/>\n<text text-anchor=\"middle\" x=\"19834\" y=\"-37.8\" font-family=\"Helvetica,sans-Serif\" font-size=\"14.00\" fill=\"#000000\">entropy = 0.02</text>\n<text text-anchor=\"middle\" x=\"19834\" y=\"-22.8\" font-family=\"Helvetica,sans-Serif\" font-size=\"14.00\" fill=\"#000000\">samples = 1068</text>\n<text text-anchor=\"middle\" x=\"19834\" y=\"-7.8\" font-family=\"Helvetica,sans-Serif\" font-size=\"14.00\" fill=\"#000000\">value = [2, 1066]</text>\n</g>\n<!-- 376&#45;&gt;378 -->\n<g id=\"edge378\" class=\"edge\">\n<title>376&#45;&gt;378</title>\n<path fill=\"none\" stroke=\"#000000\" d=\"M19742.0639,-88.9777C19756.3469,-79.2713 19771.8713,-68.7213 19786.0263,-59.1018\"/>\n<polygon fill=\"#000000\" stroke=\"#000000\" points=\"19788.3359,-61.764 19794.6395,-53.2485 19784.4014,-55.9744 19788.3359,-61.764\"/>\n</g>\n<!-- 380 -->\n<g id=\"node381\" class=\"node\">\n<title>380</title>\n<polygon fill=\"#e78c4b\" stroke=\"#000000\" points=\"20205,-365 20081,-365 20081,-297 20205,-297 20205,-365\"/>\n<text text-anchor=\"middle\" x=\"20143\" y=\"-349.8\" font-family=\"Helvetica,sans-Serif\" font-size=\"14.00\" fill=\"#000000\">X[3] &lt;= &#45;0.516</text>\n<text text-anchor=\"middle\" x=\"20143\" y=\"-334.8\" font-family=\"Helvetica,sans-Serif\" font-size=\"14.00\" fill=\"#000000\">entropy = 0.411</text>\n<text text-anchor=\"middle\" x=\"20143\" y=\"-319.8\" font-family=\"Helvetica,sans-Serif\" font-size=\"14.00\" fill=\"#000000\">samples = 242</text>\n<text text-anchor=\"middle\" x=\"20143\" y=\"-304.8\" font-family=\"Helvetica,sans-Serif\" font-size=\"14.00\" fill=\"#000000\">value = [222, 20]</text>\n</g>\n<!-- 379&#45;&gt;380 -->\n<g id=\"edge380\" class=\"edge\">\n<title>379&#45;&gt;380</title>\n<path fill=\"none\" stroke=\"#000000\" d=\"M20143,-400.9465C20143,-392.776 20143,-383.9318 20143,-375.3697\"/>\n<polygon fill=\"#000000\" stroke=\"#000000\" points=\"20146.5001,-375.13 20143,-365.13 20139.5001,-375.13 20146.5001,-375.13\"/>\n</g>\n<!-- 387 -->\n<g id=\"node388\" class=\"node\">\n<title>387</title>\n<polygon fill=\"#4ea7e8\" stroke=\"#000000\" points=\"20574.5,-365 20417.5,-365 20417.5,-297 20574.5,-297 20574.5,-365\"/>\n<text text-anchor=\"middle\" x=\"20496\" y=\"-349.8\" font-family=\"Helvetica,sans-Serif\" font-size=\"14.00\" fill=\"#000000\">X[13] &lt;= &#45;0.392</text>\n<text text-anchor=\"middle\" x=\"20496\" y=\"-334.8\" font-family=\"Helvetica,sans-Serif\" font-size=\"14.00\" fill=\"#000000\">entropy = 0.456</text>\n<text text-anchor=\"middle\" x=\"20496\" y=\"-319.8\" font-family=\"Helvetica,sans-Serif\" font-size=\"14.00\" fill=\"#000000\">samples = 48577</text>\n<text text-anchor=\"middle\" x=\"20496\" y=\"-304.8\" font-family=\"Helvetica,sans-Serif\" font-size=\"14.00\" fill=\"#000000\">value = [4663, 43914]</text>\n</g>\n<!-- 379&#45;&gt;387 -->\n<g id=\"edge387\" class=\"edge\">\n<title>379&#45;&gt;387</title>\n<path fill=\"none\" stroke=\"#000000\" d=\"M20221.7807,-411.7898C20276.9092,-395.548 20350.6102,-373.8344 20407.7216,-357.0084\"/>\n<polygon fill=\"#000000\" stroke=\"#000000\" points=\"20408.8569,-360.3227 20417.4601,-354.1392 20406.8786,-353.6081 20408.8569,-360.3227\"/>\n</g>\n<!-- 381 -->\n<g id=\"node382\" class=\"node\">\n<title>381</title>\n<polygon fill=\"#f5fafe\" stroke=\"#000000\" points=\"20134,-261 20018,-261 20018,-193 20134,-193 20134,-261\"/>\n<text text-anchor=\"middle\" x=\"20076\" y=\"-245.8\" font-family=\"Helvetica,sans-Serif\" font-size=\"14.00\" fill=\"#000000\">X[11] &lt;= &#45;0.196</text>\n<text text-anchor=\"middle\" x=\"20076\" y=\"-230.8\" font-family=\"Helvetica,sans-Serif\" font-size=\"14.00\" fill=\"#000000\">entropy = 1.0</text>\n<text text-anchor=\"middle\" x=\"20076\" y=\"-215.8\" font-family=\"Helvetica,sans-Serif\" font-size=\"14.00\" fill=\"#000000\">samples = 39</text>\n<text text-anchor=\"middle\" x=\"20076\" y=\"-200.8\" font-family=\"Helvetica,sans-Serif\" font-size=\"14.00\" fill=\"#000000\">value = [19, 20]</text>\n</g>\n<!-- 380&#45;&gt;381 -->\n<g id=\"edge381\" class=\"edge\">\n<title>380&#45;&gt;381</title>\n<path fill=\"none\" stroke=\"#000000\" d=\"M20121.0617,-296.9465C20115.451,-288.2373 20109.3471,-278.7626 20103.4958,-269.6801\"/>\n<polygon fill=\"#000000\" stroke=\"#000000\" points=\"20106.3457,-267.641 20097.9876,-261.13 20100.4611,-271.4321 20106.3457,-267.641\"/>\n</g>\n<!-- 386 -->\n<g id=\"node387\" class=\"node\">\n<title>386</title>\n<polygon fill=\"#e58139\" stroke=\"#000000\" points=\"20268,-253.5 20152,-253.5 20152,-200.5 20268,-200.5 20268,-253.5\"/>\n<text text-anchor=\"middle\" x=\"20210\" y=\"-238.3\" font-family=\"Helvetica,sans-Serif\" font-size=\"14.00\" fill=\"#000000\">entropy = 0.0</text>\n<text text-anchor=\"middle\" x=\"20210\" y=\"-223.3\" font-family=\"Helvetica,sans-Serif\" font-size=\"14.00\" fill=\"#000000\">samples = 203</text>\n<text text-anchor=\"middle\" x=\"20210\" y=\"-208.3\" font-family=\"Helvetica,sans-Serif\" font-size=\"14.00\" fill=\"#000000\">value = [203, 0]</text>\n</g>\n<!-- 380&#45;&gt;386 -->\n<g id=\"edge386\" class=\"edge\">\n<title>380&#45;&gt;386</title>\n<path fill=\"none\" stroke=\"#000000\" d=\"M20164.9383,-296.9465C20172.1054,-285.8215 20180.0773,-273.4473 20187.2993,-262.237\"/>\n<polygon fill=\"#000000\" stroke=\"#000000\" points=\"20190.4272,-263.8442 20192.9007,-253.5422 20184.5426,-260.0532 20190.4272,-263.8442\"/>\n</g>\n<!-- 382 -->\n<g id=\"node383\" class=\"node\">\n<title>382</title>\n<polygon fill=\"#eca26d\" stroke=\"#000000\" points=\"20070,-157 19952,-157 19952,-89 20070,-89 20070,-157\"/>\n<text text-anchor=\"middle\" x=\"20011\" y=\"-141.8\" font-family=\"Helvetica,sans-Serif\" font-size=\"14.00\" fill=\"#000000\">X[2] &lt;= 1.344</text>\n<text text-anchor=\"middle\" x=\"20011\" y=\"-126.8\" font-family=\"Helvetica,sans-Serif\" font-size=\"14.00\" fill=\"#000000\">entropy = 0.738</text>\n<text text-anchor=\"middle\" x=\"20011\" y=\"-111.8\" font-family=\"Helvetica,sans-Serif\" font-size=\"14.00\" fill=\"#000000\">samples = 24</text>\n<text text-anchor=\"middle\" x=\"20011\" y=\"-96.8\" font-family=\"Helvetica,sans-Serif\" font-size=\"14.00\" fill=\"#000000\">value = [19, 5]</text>\n</g>\n<!-- 381&#45;&gt;382 -->\n<g id=\"edge382\" class=\"edge\">\n<title>381&#45;&gt;382</title>\n<path fill=\"none\" stroke=\"#000000\" d=\"M20054.7166,-192.9465C20049.2733,-184.2373 20043.3516,-174.7626 20037.675,-165.6801\"/>\n<polygon fill=\"#000000\" stroke=\"#000000\" points=\"20040.5993,-163.755 20032.3312,-157.13 20034.6633,-167.465 20040.5993,-163.755\"/>\n</g>\n<!-- 385 -->\n<g id=\"node386\" class=\"node\">\n<title>385</title>\n<polygon fill=\"#399de5\" stroke=\"#000000\" points=\"20195.5,-149.5 20088.5,-149.5 20088.5,-96.5 20195.5,-96.5 20195.5,-149.5\"/>\n<text text-anchor=\"middle\" x=\"20142\" y=\"-134.3\" font-family=\"Helvetica,sans-Serif\" font-size=\"14.00\" fill=\"#000000\">entropy = 0.0</text>\n<text text-anchor=\"middle\" x=\"20142\" y=\"-119.3\" font-family=\"Helvetica,sans-Serif\" font-size=\"14.00\" fill=\"#000000\">samples = 15</text>\n<text text-anchor=\"middle\" x=\"20142\" y=\"-104.3\" font-family=\"Helvetica,sans-Serif\" font-size=\"14.00\" fill=\"#000000\">value = [0, 15]</text>\n</g>\n<!-- 381&#45;&gt;385 -->\n<g id=\"edge385\" class=\"edge\">\n<title>381&#45;&gt;385</title>\n<path fill=\"none\" stroke=\"#000000\" d=\"M20097.6109,-192.9465C20104.671,-181.8215 20112.5239,-169.4473 20119.6381,-158.237\"/>\n<polygon fill=\"#000000\" stroke=\"#000000\" points=\"20122.7528,-159.8609 20125.1559,-149.5422 20116.8425,-156.1101 20122.7528,-159.8609\"/>\n</g>\n<!-- 383 -->\n<g id=\"node384\" class=\"node\">\n<title>383</title>\n<polygon fill=\"#e99558\" stroke=\"#000000\" points=\"20032,-53 19914,-53 19914,0 20032,0 20032,-53\"/>\n<text text-anchor=\"middle\" x=\"19973\" y=\"-37.8\" font-family=\"Helvetica,sans-Serif\" font-size=\"14.00\" fill=\"#000000\">entropy = 0.575</text>\n<text text-anchor=\"middle\" x=\"19973\" y=\"-22.8\" font-family=\"Helvetica,sans-Serif\" font-size=\"14.00\" fill=\"#000000\">samples = 22</text>\n<text text-anchor=\"middle\" x=\"19973\" y=\"-7.8\" font-family=\"Helvetica,sans-Serif\" font-size=\"14.00\" fill=\"#000000\">value = [19, 3]</text>\n</g>\n<!-- 382&#45;&gt;383 -->\n<g id=\"edge383\" class=\"edge\">\n<title>382&#45;&gt;383</title>\n<path fill=\"none\" stroke=\"#000000\" d=\"M19997.6026,-88.9777C19994.2492,-80.4617 19990.64,-71.2963 19987.247,-62.6798\"/>\n<polygon fill=\"#000000\" stroke=\"#000000\" points=\"19990.4537,-61.2707 19983.5331,-53.2485 19983.9405,-63.8355 19990.4537,-61.2707\"/>\n</g>\n<!-- 384 -->\n<g id=\"node385\" class=\"node\">\n<title>384</title>\n<polygon fill=\"#399de5\" stroke=\"#000000\" points=\"20151.5,-53 20050.5,-53 20050.5,0 20151.5,0 20151.5,-53\"/>\n<text text-anchor=\"middle\" x=\"20101\" y=\"-37.8\" font-family=\"Helvetica,sans-Serif\" font-size=\"14.00\" fill=\"#000000\">entropy = 0.0</text>\n<text text-anchor=\"middle\" x=\"20101\" y=\"-22.8\" font-family=\"Helvetica,sans-Serif\" font-size=\"14.00\" fill=\"#000000\">samples = 2</text>\n<text text-anchor=\"middle\" x=\"20101\" y=\"-7.8\" font-family=\"Helvetica,sans-Serif\" font-size=\"14.00\" fill=\"#000000\">value = [0, 2]</text>\n</g>\n<!-- 382&#45;&gt;384 -->\n<g id=\"edge384\" class=\"edge\">\n<title>382&#45;&gt;384</title>\n<path fill=\"none\" stroke=\"#000000\" d=\"M20042.7306,-88.9777C20051.2708,-79.8207 20060.5113,-69.9129 20069.0626,-60.744\"/>\n<polygon fill=\"#000000\" stroke=\"#000000\" points=\"20071.7923,-62.9488 20076.0532,-53.2485 20066.6731,-58.1744 20071.7923,-62.9488\"/>\n</g>\n<!-- 388 -->\n<g id=\"node389\" class=\"node\">\n<title>388</title>\n<polygon fill=\"#4da7e8\" stroke=\"#000000\" points=\"20574.5,-261 20417.5,-261 20417.5,-193 20574.5,-193 20574.5,-261\"/>\n<text text-anchor=\"middle\" x=\"20496\" y=\"-245.8\" font-family=\"Helvetica,sans-Serif\" font-size=\"14.00\" fill=\"#000000\">X[1] &lt;= 0.502</text>\n<text text-anchor=\"middle\" x=\"20496\" y=\"-230.8\" font-family=\"Helvetica,sans-Serif\" font-size=\"14.00\" fill=\"#000000\">entropy = 0.439</text>\n<text text-anchor=\"middle\" x=\"20496\" y=\"-215.8\" font-family=\"Helvetica,sans-Serif\" font-size=\"14.00\" fill=\"#000000\">samples = 47835</text>\n<text text-anchor=\"middle\" x=\"20496\" y=\"-200.8\" font-family=\"Helvetica,sans-Serif\" font-size=\"14.00\" fill=\"#000000\">value = [4337, 43498]</text>\n</g>\n<!-- 387&#45;&gt;388 -->\n<g id=\"edge388\" class=\"edge\">\n<title>387&#45;&gt;388</title>\n<path fill=\"none\" stroke=\"#000000\" d=\"M20496,-296.9465C20496,-288.776 20496,-279.9318 20496,-271.3697\"/>\n<polygon fill=\"#000000\" stroke=\"#000000\" points=\"20499.5001,-271.13 20496,-261.13 20492.5001,-271.13 20499.5001,-271.13\"/>\n</g>\n<!-- 395 -->\n<g id=\"node396\" class=\"node\">\n<title>395</title>\n<polygon fill=\"#d4eaf9\" stroke=\"#000000\" points=\"21039,-261 20907,-261 20907,-193 21039,-193 21039,-261\"/>\n<text text-anchor=\"middle\" x=\"20973\" y=\"-245.8\" font-family=\"Helvetica,sans-Serif\" font-size=\"14.00\" fill=\"#000000\">X[10] &lt;= 0.022</text>\n<text text-anchor=\"middle\" x=\"20973\" y=\"-230.8\" font-family=\"Helvetica,sans-Serif\" font-size=\"14.00\" fill=\"#000000\">entropy = 0.989</text>\n<text text-anchor=\"middle\" x=\"20973\" y=\"-215.8\" font-family=\"Helvetica,sans-Serif\" font-size=\"14.00\" fill=\"#000000\">samples = 742</text>\n<text text-anchor=\"middle\" x=\"20973\" y=\"-200.8\" font-family=\"Helvetica,sans-Serif\" font-size=\"14.00\" fill=\"#000000\">value = [326, 416]</text>\n</g>\n<!-- 387&#45;&gt;395 -->\n<g id=\"edge395\" class=\"edge\">\n<title>387&#45;&gt;395</title>\n<path fill=\"none\" stroke=\"#000000\" d=\"M20574.7668,-313.8265C20664.0716,-294.3555 20808.6754,-262.8276 20896.8728,-243.598\"/>\n<polygon fill=\"#000000\" stroke=\"#000000\" points=\"20897.7874,-246.9809 20906.8123,-241.4309 20896.2962,-240.1415 20897.7874,-246.9809\"/>\n</g>\n<!-- 389 -->\n<g id=\"node390\" class=\"node\">\n<title>389</title>\n<polygon fill=\"#54aae8\" stroke=\"#000000\" points=\"20487.5,-157 20330.5,-157 20330.5,-89 20487.5,-89 20487.5,-157\"/>\n<text text-anchor=\"middle\" x=\"20409\" y=\"-141.8\" font-family=\"Helvetica,sans-Serif\" font-size=\"14.00\" fill=\"#000000\">X[13] &lt;= &#45;0.469</text>\n<text text-anchor=\"middle\" x=\"20409\" y=\"-126.8\" font-family=\"Helvetica,sans-Serif\" font-size=\"14.00\" fill=\"#000000\">entropy = 0.524</text>\n<text text-anchor=\"middle\" x=\"20409\" y=\"-111.8\" font-family=\"Helvetica,sans-Serif\" font-size=\"14.00\" fill=\"#000000\">samples = 21170</text>\n<text text-anchor=\"middle\" x=\"20409\" y=\"-96.8\" font-family=\"Helvetica,sans-Serif\" font-size=\"14.00\" fill=\"#000000\">value = [2504, 18666]</text>\n</g>\n<!-- 388&#45;&gt;389 -->\n<g id=\"edge389\" class=\"edge\">\n<title>388&#45;&gt;389</title>\n<path fill=\"none\" stroke=\"#000000\" d=\"M20467.5129,-192.9465C20460.0021,-183.968 20451.8105,-174.1758 20443.9995,-164.8385\"/>\n<polygon fill=\"#000000\" stroke=\"#000000\" points=\"20446.652,-162.5544 20437.5511,-157.13 20441.2829,-167.0459 20446.652,-162.5544\"/>\n</g>\n<!-- 392 -->\n<g id=\"node393\" class=\"node\">\n<title>392</title>\n<polygon fill=\"#48a4e7\" stroke=\"#000000\" points=\"20662.5,-157 20505.5,-157 20505.5,-89 20662.5,-89 20662.5,-157\"/>\n<text text-anchor=\"middle\" x=\"20584\" y=\"-141.8\" font-family=\"Helvetica,sans-Serif\" font-size=\"14.00\" fill=\"#000000\">X[2] &lt;= 0.43</text>\n<text text-anchor=\"middle\" x=\"20584\" y=\"-126.8\" font-family=\"Helvetica,sans-Serif\" font-size=\"14.00\" fill=\"#000000\">entropy = 0.361</text>\n<text text-anchor=\"middle\" x=\"20584\" y=\"-111.8\" font-family=\"Helvetica,sans-Serif\" font-size=\"14.00\" fill=\"#000000\">samples = 26665</text>\n<text text-anchor=\"middle\" x=\"20584\" y=\"-96.8\" font-family=\"Helvetica,sans-Serif\" font-size=\"14.00\" fill=\"#000000\">value = [1833, 24832]</text>\n</g>\n<!-- 388&#45;&gt;392 -->\n<g id=\"edge392\" class=\"edge\">\n<title>388&#45;&gt;392</title>\n<path fill=\"none\" stroke=\"#000000\" d=\"M20524.8145,-192.9465C20532.4117,-183.968 20540.6974,-174.1758 20548.5982,-164.8385\"/>\n<polygon fill=\"#000000\" stroke=\"#000000\" points=\"20551.3332,-167.0247 20555.1208,-157.13 20545.9895,-162.5031 20551.3332,-167.0247\"/>\n</g>\n<!-- 390 -->\n<g id=\"node391\" class=\"node\">\n<title>390</title>\n<polygon fill=\"#4ea7e8\" stroke=\"#000000\" points=\"20326.5,-53 20169.5,-53 20169.5,0 20326.5,0 20326.5,-53\"/>\n<text text-anchor=\"middle\" x=\"20248\" y=\"-37.8\" font-family=\"Helvetica,sans-Serif\" font-size=\"14.00\" fill=\"#000000\">entropy = 0.453</text>\n<text text-anchor=\"middle\" x=\"20248\" y=\"-22.8\" font-family=\"Helvetica,sans-Serif\" font-size=\"14.00\" fill=\"#000000\">samples = 17224</text>\n<text text-anchor=\"middle\" x=\"20248\" y=\"-7.8\" font-family=\"Helvetica,sans-Serif\" font-size=\"14.00\" fill=\"#000000\">value = [1634, 15590]</text>\n</g>\n<!-- 389&#45;&gt;390 -->\n<g id=\"edge390\" class=\"edge\">\n<title>389&#45;&gt;390</title>\n<path fill=\"none\" stroke=\"#000000\" d=\"M20352.2374,-88.9777C20335.6614,-79.0424 20317.6107,-68.2232 20301.2598,-58.4228\"/>\n<polygon fill=\"#000000\" stroke=\"#000000\" points=\"20302.7477,-55.2341 20292.371,-53.095 20299.1489,-61.2382 20302.7477,-55.2341\"/>\n</g>\n<!-- 391 -->\n<g id=\"node392\" class=\"node\">\n<title>391</title>\n<polygon fill=\"#71b9ec\" stroke=\"#000000\" points=\"20485,-53 20345,-53 20345,0 20485,0 20485,-53\"/>\n<text text-anchor=\"middle\" x=\"20415\" y=\"-37.8\" font-family=\"Helvetica,sans-Serif\" font-size=\"14.00\" fill=\"#000000\">entropy = 0.761</text>\n<text text-anchor=\"middle\" x=\"20415\" y=\"-22.8\" font-family=\"Helvetica,sans-Serif\" font-size=\"14.00\" fill=\"#000000\">samples = 3946</text>\n<text text-anchor=\"middle\" x=\"20415\" y=\"-7.8\" font-family=\"Helvetica,sans-Serif\" font-size=\"14.00\" fill=\"#000000\">value = [870, 3076]</text>\n</g>\n<!-- 389&#45;&gt;391 -->\n<g id=\"edge391\" class=\"edge\">\n<title>389&#45;&gt;391</title>\n<path fill=\"none\" stroke=\"#000000\" d=\"M20411.1154,-88.9777C20411.6335,-80.6449 20412.1902,-71.6903 20412.7159,-63.2364\"/>\n<polygon fill=\"#000000\" stroke=\"#000000\" points=\"20416.2095,-63.4464 20413.3369,-53.2485 20409.223,-63.012 20416.2095,-63.4464\"/>\n</g>\n<!-- 393 -->\n<g id=\"node394\" class=\"node\">\n<title>393</title>\n<polygon fill=\"#41a1e6\" stroke=\"#000000\" points=\"20652.5,-53 20503.5,-53 20503.5,0 20652.5,0 20652.5,-53\"/>\n<text text-anchor=\"middle\" x=\"20578\" y=\"-37.8\" font-family=\"Helvetica,sans-Serif\" font-size=\"14.00\" fill=\"#000000\">entropy = 0.239</text>\n<text text-anchor=\"middle\" x=\"20578\" y=\"-22.8\" font-family=\"Helvetica,sans-Serif\" font-size=\"14.00\" fill=\"#000000\">samples = 11418</text>\n<text text-anchor=\"middle\" x=\"20578\" y=\"-7.8\" font-family=\"Helvetica,sans-Serif\" font-size=\"14.00\" fill=\"#000000\">value = [448, 10970]</text>\n</g>\n<!-- 392&#45;&gt;393 -->\n<g id=\"edge393\" class=\"edge\">\n<title>392&#45;&gt;393</title>\n<path fill=\"none\" stroke=\"#000000\" d=\"M20581.8846,-88.9777C20581.3665,-80.6449 20580.8098,-71.6903 20580.2841,-63.2364\"/>\n<polygon fill=\"#000000\" stroke=\"#000000\" points=\"20583.777,-63.012 20579.6631,-53.2485 20576.7905,-63.4464 20583.777,-63.012\"/>\n</g>\n<!-- 394 -->\n<g id=\"node395\" class=\"node\">\n<title>394</title>\n<polygon fill=\"#4da7e8\" stroke=\"#000000\" points=\"20827.5,-53 20670.5,-53 20670.5,0 20827.5,0 20827.5,-53\"/>\n<text text-anchor=\"middle\" x=\"20749\" y=\"-37.8\" font-family=\"Helvetica,sans-Serif\" font-size=\"14.00\" fill=\"#000000\">entropy = 0.439</text>\n<text text-anchor=\"middle\" x=\"20749\" y=\"-22.8\" font-family=\"Helvetica,sans-Serif\" font-size=\"14.00\" fill=\"#000000\">samples = 15247</text>\n<text text-anchor=\"middle\" x=\"20749\" y=\"-7.8\" font-family=\"Helvetica,sans-Serif\" font-size=\"14.00\" fill=\"#000000\">value = [1385, 13862]</text>\n</g>\n<!-- 392&#45;&gt;394 -->\n<g id=\"edge394\" class=\"edge\">\n<title>392&#45;&gt;394</title>\n<path fill=\"none\" stroke=\"#000000\" d=\"M20642.1728,-88.9777C20659.318,-78.9504 20678.0025,-68.0228 20694.882,-58.1508\"/>\n<polygon fill=\"#000000\" stroke=\"#000000\" points=\"20696.6615,-61.1648 20703.5266,-53.095 20693.1276,-55.1223 20696.6615,-61.1648\"/>\n</g>\n<!-- 396 -->\n<g id=\"node397\" class=\"node\">\n<title>396</title>\n<polygon fill=\"#eeab7a\" stroke=\"#000000\" points=\"21035,-157 20911,-157 20911,-89 21035,-89 21035,-157\"/>\n<text text-anchor=\"middle\" x=\"20973\" y=\"-141.8\" font-family=\"Helvetica,sans-Serif\" font-size=\"14.00\" fill=\"#000000\">X[3] &lt;= 2.144</text>\n<text text-anchor=\"middle\" x=\"20973\" y=\"-126.8\" font-family=\"Helvetica,sans-Serif\" font-size=\"14.00\" fill=\"#000000\">entropy = 0.809</text>\n<text text-anchor=\"middle\" x=\"20973\" y=\"-111.8\" font-family=\"Helvetica,sans-Serif\" font-size=\"14.00\" fill=\"#000000\">samples = 310</text>\n<text text-anchor=\"middle\" x=\"20973\" y=\"-96.8\" font-family=\"Helvetica,sans-Serif\" font-size=\"14.00\" fill=\"#000000\">value = [233, 77]</text>\n</g>\n<!-- 395&#45;&gt;396 -->\n<g id=\"edge396\" class=\"edge\">\n<title>395&#45;&gt;396</title>\n<path fill=\"none\" stroke=\"#000000\" d=\"M20973,-192.9465C20973,-184.776 20973,-175.9318 20973,-167.3697\"/>\n<polygon fill=\"#000000\" stroke=\"#000000\" points=\"20976.5001,-167.13 20973,-157.13 20969.5001,-167.13 20976.5001,-167.13\"/>\n</g>\n<!-- 399 -->\n<g id=\"node400\" class=\"node\">\n<title>399</title>\n<polygon fill=\"#6fb8ec\" stroke=\"#000000\" points=\"21241,-157 21117,-157 21117,-89 21241,-89 21241,-157\"/>\n<text text-anchor=\"middle\" x=\"21179\" y=\"-141.8\" font-family=\"Helvetica,sans-Serif\" font-size=\"14.00\" fill=\"#000000\">X[1] &lt;= 0.502</text>\n<text text-anchor=\"middle\" x=\"21179\" y=\"-126.8\" font-family=\"Helvetica,sans-Serif\" font-size=\"14.00\" fill=\"#000000\">entropy = 0.751</text>\n<text text-anchor=\"middle\" x=\"21179\" y=\"-111.8\" font-family=\"Helvetica,sans-Serif\" font-size=\"14.00\" fill=\"#000000\">samples = 432</text>\n<text text-anchor=\"middle\" x=\"21179\" y=\"-96.8\" font-family=\"Helvetica,sans-Serif\" font-size=\"14.00\" fill=\"#000000\">value = [93, 339]</text>\n</g>\n<!-- 395&#45;&gt;399 -->\n<g id=\"edge399\" class=\"edge\">\n<title>395&#45;&gt;399</title>\n<path fill=\"none\" stroke=\"#000000\" d=\"M21039.0297,-193.6646C21060.9575,-182.5943 21085.4629,-170.2226 21107.7656,-158.963\"/>\n<polygon fill=\"#000000\" stroke=\"#000000\" points=\"21109.4967,-162.0099 21116.8461,-154.3786 21106.3419,-155.7611 21109.4967,-162.0099\"/>\n</g>\n<!-- 397 -->\n<g id=\"node398\" class=\"node\">\n<title>397</title>\n<polygon fill=\"#f9e1cf\" stroke=\"#000000\" points=\"20970,-53 20846,-53 20846,0 20970,0 20970,-53\"/>\n<text text-anchor=\"middle\" x=\"20908\" y=\"-37.8\" font-family=\"Helvetica,sans-Serif\" font-size=\"14.00\" fill=\"#000000\">entropy = 0.987</text>\n<text text-anchor=\"middle\" x=\"20908\" y=\"-22.8\" font-family=\"Helvetica,sans-Serif\" font-size=\"14.00\" fill=\"#000000\">samples = 176</text>\n<text text-anchor=\"middle\" x=\"20908\" y=\"-7.8\" font-family=\"Helvetica,sans-Serif\" font-size=\"14.00\" fill=\"#000000\">value = [100, 76]</text>\n</g>\n<!-- 396&#45;&gt;397 -->\n<g id=\"edge397\" class=\"edge\">\n<title>396&#45;&gt;397</title>\n<path fill=\"none\" stroke=\"#000000\" d=\"M20950.0834,-88.9777C20944.1006,-80.0954 20937.6418,-70.5067 20931.623,-61.5711\"/>\n<polygon fill=\"#000000\" stroke=\"#000000\" points=\"20934.5067,-59.5871 20926.0171,-53.2485 20928.7009,-63.4978 20934.5067,-59.5871\"/>\n</g>\n<!-- 398 -->\n<g id=\"node399\" class=\"node\">\n<title>398</title>\n<polygon fill=\"#e5823a\" stroke=\"#000000\" points=\"21106,-53 20988,-53 20988,0 21106,0 21106,-53\"/>\n<text text-anchor=\"middle\" x=\"21047\" y=\"-37.8\" font-family=\"Helvetica,sans-Serif\" font-size=\"14.00\" fill=\"#000000\">entropy = 0.063</text>\n<text text-anchor=\"middle\" x=\"21047\" y=\"-22.8\" font-family=\"Helvetica,sans-Serif\" font-size=\"14.00\" fill=\"#000000\">samples = 134</text>\n<text text-anchor=\"middle\" x=\"21047\" y=\"-7.8\" font-family=\"Helvetica,sans-Serif\" font-size=\"14.00\" fill=\"#000000\">value = [133, 1]</text>\n</g>\n<!-- 396&#45;&gt;398 -->\n<g id=\"edge398\" class=\"edge\">\n<title>396&#45;&gt;398</title>\n<path fill=\"none\" stroke=\"#000000\" d=\"M20999.0896,-88.9777C21005.9711,-80.0039 21013.4056,-70.3089 21020.3178,-61.295\"/>\n<polygon fill=\"#000000\" stroke=\"#000000\" points=\"21023.1804,-63.3137 21026.4882,-53.2485 21017.6256,-59.0541 21023.1804,-63.3137\"/>\n</g>\n<!-- 400 -->\n<g id=\"node401\" class=\"node\">\n<title>400</title>\n<polygon fill=\"#ea975c\" stroke=\"#000000\" points=\"21234,-53 21124,-53 21124,0 21234,0 21234,-53\"/>\n<text text-anchor=\"middle\" x=\"21179\" y=\"-37.8\" font-family=\"Helvetica,sans-Serif\" font-size=\"14.00\" fill=\"#000000\">entropy = 0.61</text>\n<text text-anchor=\"middle\" x=\"21179\" y=\"-22.8\" font-family=\"Helvetica,sans-Serif\" font-size=\"14.00\" fill=\"#000000\">samples = 20</text>\n<text text-anchor=\"middle\" x=\"21179\" y=\"-7.8\" font-family=\"Helvetica,sans-Serif\" font-size=\"14.00\" fill=\"#000000\">value = [17, 3]</text>\n</g>\n<!-- 399&#45;&gt;400 -->\n<g id=\"edge400\" class=\"edge\">\n<title>399&#45;&gt;400</title>\n<path fill=\"none\" stroke=\"#000000\" d=\"M21179,-88.9777C21179,-80.7364 21179,-71.887 21179,-63.5153\"/>\n<polygon fill=\"#000000\" stroke=\"#000000\" points=\"21182.5001,-63.2484 21179,-53.2485 21175.5001,-63.2485 21182.5001,-63.2484\"/>\n</g>\n<!-- 401 -->\n<g id=\"node402\" class=\"node\">\n<title>401</title>\n<polygon fill=\"#66b3eb\" stroke=\"#000000\" points=\"21376,-53 21252,-53 21252,0 21376,0 21376,-53\"/>\n<text text-anchor=\"middle\" x=\"21314\" y=\"-37.8\" font-family=\"Helvetica,sans-Serif\" font-size=\"14.00\" fill=\"#000000\">entropy = 0.69</text>\n<text text-anchor=\"middle\" x=\"21314\" y=\"-22.8\" font-family=\"Helvetica,sans-Serif\" font-size=\"14.00\" fill=\"#000000\">samples = 412</text>\n<text text-anchor=\"middle\" x=\"21314\" y=\"-7.8\" font-family=\"Helvetica,sans-Serif\" font-size=\"14.00\" fill=\"#000000\">value = [76, 336]</text>\n</g>\n<!-- 399&#45;&gt;401 -->\n<g id=\"edge401\" class=\"edge\">\n<title>399&#45;&gt;401</title>\n<path fill=\"none\" stroke=\"#000000\" d=\"M21226.5959,-88.9777C21240.1748,-79.2713 21254.9339,-68.7213 21268.3912,-59.1018\"/>\n<polygon fill=\"#000000\" stroke=\"#000000\" points=\"21270.4799,-61.9111 21276.5798,-53.2485 21266.4092,-56.2164 21270.4799,-61.9111\"/>\n</g>\n<!-- 403 -->\n<g id=\"node404\" class=\"node\">\n<title>403</title>\n<polygon fill=\"#3b9ee5\" stroke=\"#000000\" points=\"21827,-469 21695,-469 21695,-401 21827,-401 21827,-469\"/>\n<text text-anchor=\"middle\" x=\"21761\" y=\"-453.8\" font-family=\"Helvetica,sans-Serif\" font-size=\"14.00\" fill=\"#000000\">X[11] &lt;= 0.161</text>\n<text text-anchor=\"middle\" x=\"21761\" y=\"-438.8\" font-family=\"Helvetica,sans-Serif\" font-size=\"14.00\" fill=\"#000000\">entropy = 0.068</text>\n<text text-anchor=\"middle\" x=\"21761\" y=\"-423.8\" font-family=\"Helvetica,sans-Serif\" font-size=\"14.00\" fill=\"#000000\">samples = 4971</text>\n<text text-anchor=\"middle\" x=\"21761\" y=\"-408.8\" font-family=\"Helvetica,sans-Serif\" font-size=\"14.00\" fill=\"#000000\">value = [40, 4931]</text>\n</g>\n<!-- 402&#45;&gt;403 -->\n<g id=\"edge403\" class=\"edge\">\n<title>402&#45;&gt;403</title>\n<path fill=\"none\" stroke=\"#000000\" d=\"M21761,-504.9465C21761,-496.776 21761,-487.9318 21761,-479.3697\"/>\n<polygon fill=\"#000000\" stroke=\"#000000\" points=\"21764.5001,-479.13 21761,-469.13 21757.5001,-479.13 21764.5001,-479.13\"/>\n</g>\n<!-- 418 -->\n<g id=\"node419\" class=\"node\">\n<title>418</title>\n<polygon fill=\"#42a2e6\" stroke=\"#000000\" points=\"22829.5,-469 22672.5,-469 22672.5,-401 22829.5,-401 22829.5,-469\"/>\n<text text-anchor=\"middle\" x=\"22751\" y=\"-453.8\" font-family=\"Helvetica,sans-Serif\" font-size=\"14.00\" fill=\"#000000\">X[11] &lt;= 0.399</text>\n<text text-anchor=\"middle\" x=\"22751\" y=\"-438.8\" font-family=\"Helvetica,sans-Serif\" font-size=\"14.00\" fill=\"#000000\">entropy = 0.264</text>\n<text text-anchor=\"middle\" x=\"22751\" y=\"-423.8\" font-family=\"Helvetica,sans-Serif\" font-size=\"14.00\" fill=\"#000000\">samples = 31487</text>\n<text text-anchor=\"middle\" x=\"22751\" y=\"-408.8\" font-family=\"Helvetica,sans-Serif\" font-size=\"14.00\" fill=\"#000000\">value = [1411, 30076]</text>\n</g>\n<!-- 402&#45;&gt;418 -->\n<g id=\"edge418\" class=\"edge\">\n<title>402&#45;&gt;418</title>\n<path fill=\"none\" stroke=\"#000000\" d=\"M21839.5111,-530.7524C22021.4764,-511.6368 22471.0768,-464.4061 22662.4588,-444.3013\"/>\n<polygon fill=\"#000000\" stroke=\"#000000\" points=\"22662.9012,-447.7742 22672.4808,-443.2485 22662.1698,-440.8125 22662.9012,-447.7742\"/>\n</g>\n<!-- 404 -->\n<g id=\"node405\" class=\"node\">\n<title>404</title>\n<polygon fill=\"#3b9ee5\" stroke=\"#000000\" points=\"21754,-365 21622,-365 21622,-297 21754,-297 21754,-365\"/>\n<text text-anchor=\"middle\" x=\"21688\" y=\"-349.8\" font-family=\"Helvetica,sans-Serif\" font-size=\"14.00\" fill=\"#000000\">X[0] &lt;= &#45;0.635</text>\n<text text-anchor=\"middle\" x=\"21688\" y=\"-334.8\" font-family=\"Helvetica,sans-Serif\" font-size=\"14.00\" fill=\"#000000\">entropy = 0.096</text>\n<text text-anchor=\"middle\" x=\"21688\" y=\"-319.8\" font-family=\"Helvetica,sans-Serif\" font-size=\"14.00\" fill=\"#000000\">samples = 3246</text>\n<text text-anchor=\"middle\" x=\"21688\" y=\"-304.8\" font-family=\"Helvetica,sans-Serif\" font-size=\"14.00\" fill=\"#000000\">value = [40, 3206]</text>\n</g>\n<!-- 403&#45;&gt;404 -->\n<g id=\"edge404\" class=\"edge\">\n<title>403&#45;&gt;404</title>\n<path fill=\"none\" stroke=\"#000000\" d=\"M21737.0971,-400.9465C21730.9209,-392.1475 21724.1962,-382.5672 21717.761,-373.3993\"/>\n<polygon fill=\"#000000\" stroke=\"#000000\" points=\"21720.5666,-371.3041 21711.9566,-365.13 21714.8371,-375.3258 21720.5666,-371.3041\"/>\n</g>\n<!-- 417 -->\n<g id=\"node418\" class=\"node\">\n<title>417</title>\n<polygon fill=\"#399de5\" stroke=\"#000000\" points=\"21896,-357.5 21772,-357.5 21772,-304.5 21896,-304.5 21896,-357.5\"/>\n<text text-anchor=\"middle\" x=\"21834\" y=\"-342.3\" font-family=\"Helvetica,sans-Serif\" font-size=\"14.00\" fill=\"#000000\">entropy = 0.0</text>\n<text text-anchor=\"middle\" x=\"21834\" y=\"-327.3\" font-family=\"Helvetica,sans-Serif\" font-size=\"14.00\" fill=\"#000000\">samples = 1725</text>\n<text text-anchor=\"middle\" x=\"21834\" y=\"-312.3\" font-family=\"Helvetica,sans-Serif\" font-size=\"14.00\" fill=\"#000000\">value = [0, 1725]</text>\n</g>\n<!-- 403&#45;&gt;417 -->\n<g id=\"edge417\" class=\"edge\">\n<title>403&#45;&gt;417</title>\n<path fill=\"none\" stroke=\"#000000\" d=\"M21784.9029,-400.9465C21792.7892,-389.7113 21801.5697,-377.2021 21809.4998,-365.9043\"/>\n<polygon fill=\"#000000\" stroke=\"#000000\" points=\"21812.4889,-367.7379 21815.3694,-357.5422 21806.7595,-363.7163 21812.4889,-367.7379\"/>\n</g>\n<!-- 405 -->\n<g id=\"node406\" class=\"node\">\n<title>405</title>\n<polygon fill=\"#399de5\" stroke=\"#000000\" points=\"21646,-261 21522,-261 21522,-193 21646,-193 21646,-261\"/>\n<text text-anchor=\"middle\" x=\"21584\" y=\"-245.8\" font-family=\"Helvetica,sans-Serif\" font-size=\"14.00\" fill=\"#000000\">X[3] &lt;= &#45;0.442</text>\n<text text-anchor=\"middle\" x=\"21584\" y=\"-230.8\" font-family=\"Helvetica,sans-Serif\" font-size=\"14.00\" fill=\"#000000\">entropy = 0.007</text>\n<text text-anchor=\"middle\" x=\"21584\" y=\"-215.8\" font-family=\"Helvetica,sans-Serif\" font-size=\"14.00\" fill=\"#000000\">samples = 1734</text>\n<text text-anchor=\"middle\" x=\"21584\" y=\"-200.8\" font-family=\"Helvetica,sans-Serif\" font-size=\"14.00\" fill=\"#000000\">value = [1, 1733]</text>\n</g>\n<!-- 404&#45;&gt;405 -->\n<g id=\"edge405\" class=\"edge\">\n<title>404&#45;&gt;405</title>\n<path fill=\"none\" stroke=\"#000000\" d=\"M21653.9465,-296.9465C21644.7884,-287.7884 21634.7838,-277.7838 21625.2788,-268.2788\"/>\n<polygon fill=\"#000000\" stroke=\"#000000\" points=\"21627.676,-265.7262 21618.13,-261.13 21622.7262,-270.676 21627.676,-265.7262\"/>\n</g>\n<!-- 410 -->\n<g id=\"node411\" class=\"node\">\n<title>410</title>\n<polygon fill=\"#3ea0e6\" stroke=\"#000000\" points=\"21858,-261 21726,-261 21726,-193 21858,-193 21858,-261\"/>\n<text text-anchor=\"middle\" x=\"21792\" y=\"-245.8\" font-family=\"Helvetica,sans-Serif\" font-size=\"14.00\" fill=\"#000000\">X[11] &lt;= 0.017</text>\n<text text-anchor=\"middle\" x=\"21792\" y=\"-230.8\" font-family=\"Helvetica,sans-Serif\" font-size=\"14.00\" fill=\"#000000\">entropy = 0.173</text>\n<text text-anchor=\"middle\" x=\"21792\" y=\"-215.8\" font-family=\"Helvetica,sans-Serif\" font-size=\"14.00\" fill=\"#000000\">samples = 1512</text>\n<text text-anchor=\"middle\" x=\"21792\" y=\"-200.8\" font-family=\"Helvetica,sans-Serif\" font-size=\"14.00\" fill=\"#000000\">value = [39, 1473]</text>\n</g>\n<!-- 404&#45;&gt;410 -->\n<g id=\"edge410\" class=\"edge\">\n<title>404&#45;&gt;410</title>\n<path fill=\"none\" stroke=\"#000000\" d=\"M21722.0535,-296.9465C21731.2116,-287.7884 21741.2162,-277.7838 21750.7212,-268.2788\"/>\n<polygon fill=\"#000000\" stroke=\"#000000\" points=\"21753.2738,-270.676 21757.87,-261.13 21748.324,-265.7262 21753.2738,-270.676\"/>\n</g>\n<!-- 406 -->\n<g id=\"node407\" class=\"node\">\n<title>406</title>\n<polygon fill=\"#399de5\" stroke=\"#000000\" points=\"21507,-149.5 21383,-149.5 21383,-96.5 21507,-96.5 21507,-149.5\"/>\n<text text-anchor=\"middle\" x=\"21445\" y=\"-134.3\" font-family=\"Helvetica,sans-Serif\" font-size=\"14.00\" fill=\"#000000\">entropy = 0.0</text>\n<text text-anchor=\"middle\" x=\"21445\" y=\"-119.3\" font-family=\"Helvetica,sans-Serif\" font-size=\"14.00\" fill=\"#000000\">samples = 1684</text>\n<text text-anchor=\"middle\" x=\"21445\" y=\"-104.3\" font-family=\"Helvetica,sans-Serif\" font-size=\"14.00\" fill=\"#000000\">value = [0, 1684]</text>\n</g>\n<!-- 405&#45;&gt;406 -->\n<g id=\"edge406\" class=\"edge\">\n<title>405&#45;&gt;406</title>\n<path fill=\"none\" stroke=\"#000000\" d=\"M21538.4862,-192.9465C21522.4394,-180.9403 21504.4481,-167.4791 21488.5661,-155.5962\"/>\n<polygon fill=\"#000000\" stroke=\"#000000\" points=\"21490.5783,-152.7306 21480.4746,-149.5422 21486.3848,-158.3354 21490.5783,-152.7306\"/>\n</g>\n<!-- 407 -->\n<g id=\"node408\" class=\"node\">\n<title>407</title>\n<polygon fill=\"#3d9fe6\" stroke=\"#000000\" points=\"21643,-157 21525,-157 21525,-89 21643,-89 21643,-157\"/>\n<text text-anchor=\"middle\" x=\"21584\" y=\"-141.8\" font-family=\"Helvetica,sans-Serif\" font-size=\"14.00\" fill=\"#000000\">X[11] &lt;= &#45;0.063</text>\n<text text-anchor=\"middle\" x=\"21584\" y=\"-126.8\" font-family=\"Helvetica,sans-Serif\" font-size=\"14.00\" fill=\"#000000\">entropy = 0.141</text>\n<text text-anchor=\"middle\" x=\"21584\" y=\"-111.8\" font-family=\"Helvetica,sans-Serif\" font-size=\"14.00\" fill=\"#000000\">samples = 50</text>\n<text text-anchor=\"middle\" x=\"21584\" y=\"-96.8\" font-family=\"Helvetica,sans-Serif\" font-size=\"14.00\" fill=\"#000000\">value = [1, 49]</text>\n</g>\n<!-- 405&#45;&gt;407 -->\n<g id=\"edge407\" class=\"edge\">\n<title>405&#45;&gt;407</title>\n<path fill=\"none\" stroke=\"#000000\" d=\"M21584,-192.9465C21584,-184.776 21584,-175.9318 21584,-167.3697\"/>\n<polygon fill=\"#000000\" stroke=\"#000000\" points=\"21587.5001,-167.13 21584,-157.13 21580.5001,-167.13 21587.5001,-167.13\"/>\n</g>\n<!-- 408 -->\n<g id=\"node409\" class=\"node\">\n<title>408</title>\n<polygon fill=\"#55abe9\" stroke=\"#000000\" points=\"21512,-53 21394,-53 21394,0 21512,0 21512,-53\"/>\n<text text-anchor=\"middle\" x=\"21453\" y=\"-37.8\" font-family=\"Helvetica,sans-Serif\" font-size=\"14.00\" fill=\"#000000\">entropy = 0.544</text>\n<text text-anchor=\"middle\" x=\"21453\" y=\"-22.8\" font-family=\"Helvetica,sans-Serif\" font-size=\"14.00\" fill=\"#000000\">samples = 8</text>\n<text text-anchor=\"middle\" x=\"21453\" y=\"-7.8\" font-family=\"Helvetica,sans-Serif\" font-size=\"14.00\" fill=\"#000000\">value = [1, 7]</text>\n</g>\n<!-- 407&#45;&gt;408 -->\n<g id=\"edge408\" class=\"edge\">\n<title>407&#45;&gt;408</title>\n<path fill=\"none\" stroke=\"#000000\" d=\"M21537.8143,-88.9777C21524.7621,-79.3629 21510.5861,-68.9203 21497.6273,-59.3743\"/>\n<polygon fill=\"#000000\" stroke=\"#000000\" points=\"21499.4386,-56.3615 21489.3114,-53.2485 21495.2869,-61.9974 21499.4386,-56.3615\"/>\n</g>\n<!-- 409 -->\n<g id=\"node410\" class=\"node\">\n<title>409</title>\n<polygon fill=\"#399de5\" stroke=\"#000000\" points=\"21637.5,-53 21530.5,-53 21530.5,0 21637.5,0 21637.5,-53\"/>\n<text text-anchor=\"middle\" x=\"21584\" y=\"-37.8\" font-family=\"Helvetica,sans-Serif\" font-size=\"14.00\" fill=\"#000000\">entropy = 0.0</text>\n<text text-anchor=\"middle\" x=\"21584\" y=\"-22.8\" font-family=\"Helvetica,sans-Serif\" font-size=\"14.00\" fill=\"#000000\">samples = 42</text>\n<text text-anchor=\"middle\" x=\"21584\" y=\"-7.8\" font-family=\"Helvetica,sans-Serif\" font-size=\"14.00\" fill=\"#000000\">value = [0, 42]</text>\n</g>\n<!-- 407&#45;&gt;409 -->\n<g id=\"edge409\" class=\"edge\">\n<title>407&#45;&gt;409</title>\n<path fill=\"none\" stroke=\"#000000\" d=\"M21584,-88.9777C21584,-80.7364 21584,-71.887 21584,-63.5153\"/>\n<polygon fill=\"#000000\" stroke=\"#000000\" points=\"21587.5001,-63.2484 21584,-53.2485 21580.5001,-63.2485 21587.5001,-63.2484\"/>\n</g>\n<!-- 411 -->\n<g id=\"node412\" class=\"node\">\n<title>411</title>\n<polygon fill=\"#43a2e6\" stroke=\"#000000\" points=\"21854,-157 21730,-157 21730,-89 21854,-89 21854,-157\"/>\n<text text-anchor=\"middle\" x=\"21792\" y=\"-141.8\" font-family=\"Helvetica,sans-Serif\" font-size=\"14.00\" fill=\"#000000\">X[13] &lt;= &#45;0.46</text>\n<text text-anchor=\"middle\" x=\"21792\" y=\"-126.8\" font-family=\"Helvetica,sans-Serif\" font-size=\"14.00\" fill=\"#000000\">entropy = 0.285</text>\n<text text-anchor=\"middle\" x=\"21792\" y=\"-111.8\" font-family=\"Helvetica,sans-Serif\" font-size=\"14.00\" fill=\"#000000\">samples = 663</text>\n<text text-anchor=\"middle\" x=\"21792\" y=\"-96.8\" font-family=\"Helvetica,sans-Serif\" font-size=\"14.00\" fill=\"#000000\">value = [33, 630]</text>\n</g>\n<!-- 410&#45;&gt;411 -->\n<g id=\"edge411\" class=\"edge\">\n<title>410&#45;&gt;411</title>\n<path fill=\"none\" stroke=\"#000000\" d=\"M21792,-192.9465C21792,-184.776 21792,-175.9318 21792,-167.3697\"/>\n<polygon fill=\"#000000\" stroke=\"#000000\" points=\"21795.5001,-167.13 21792,-157.13 21788.5001,-167.13 21795.5001,-167.13\"/>\n</g>\n<!-- 414 -->\n<g id=\"node415\" class=\"node\">\n<title>414</title>\n<polygon fill=\"#3a9ee5\" stroke=\"#000000\" points=\"22051,-157 21933,-157 21933,-89 22051,-89 22051,-157\"/>\n<text text-anchor=\"middle\" x=\"21992\" y=\"-141.8\" font-family=\"Helvetica,sans-Serif\" font-size=\"14.00\" fill=\"#000000\">X[6] &lt;= &#45;0.151</text>\n<text text-anchor=\"middle\" x=\"21992\" y=\"-126.8\" font-family=\"Helvetica,sans-Serif\" font-size=\"14.00\" fill=\"#000000\">entropy = 0.061</text>\n<text text-anchor=\"middle\" x=\"21992\" y=\"-111.8\" font-family=\"Helvetica,sans-Serif\" font-size=\"14.00\" fill=\"#000000\">samples = 849</text>\n<text text-anchor=\"middle\" x=\"21992\" y=\"-96.8\" font-family=\"Helvetica,sans-Serif\" font-size=\"14.00\" fill=\"#000000\">value = [6, 843]</text>\n</g>\n<!-- 410&#45;&gt;414 -->\n<g id=\"edge414\" class=\"edge\">\n<title>410&#45;&gt;414</title>\n<path fill=\"none\" stroke=\"#000000\" d=\"M21857.4875,-192.9465C21878.7198,-181.9057 21902.3182,-169.6346 21923.7466,-158.4918\"/>\n<polygon fill=\"#000000\" stroke=\"#000000\" points=\"21925.5266,-161.5111 21932.7841,-153.7923 21922.2971,-155.3006 21925.5266,-161.5111\"/>\n</g>\n<!-- 412 -->\n<g id=\"node413\" class=\"node\">\n<title>412</title>\n<polygon fill=\"#42a2e6\" stroke=\"#000000\" points=\"21780,-53 21656,-53 21656,0 21780,0 21780,-53\"/>\n<text text-anchor=\"middle\" x=\"21718\" y=\"-37.8\" font-family=\"Helvetica,sans-Serif\" font-size=\"14.00\" fill=\"#000000\">entropy = 0.268</text>\n<text text-anchor=\"middle\" x=\"21718\" y=\"-22.8\" font-family=\"Helvetica,sans-Serif\" font-size=\"14.00\" fill=\"#000000\">samples = 656</text>\n<text text-anchor=\"middle\" x=\"21718\" y=\"-7.8\" font-family=\"Helvetica,sans-Serif\" font-size=\"14.00\" fill=\"#000000\">value = [30, 626]</text>\n</g>\n<!-- 411&#45;&gt;412 -->\n<g id=\"edge412\" class=\"edge\">\n<title>411&#45;&gt;412</title>\n<path fill=\"none\" stroke=\"#000000\" d=\"M21765.9104,-88.9777C21759.0289,-80.0039 21751.5944,-70.3089 21744.6822,-61.295\"/>\n<polygon fill=\"#000000\" stroke=\"#000000\" points=\"21747.3744,-59.0541 21738.5118,-53.2485 21741.8196,-63.3137 21747.3744,-59.0541\"/>\n</g>\n<!-- 413 -->\n<g id=\"node414\" class=\"node\">\n<title>413</title>\n<polygon fill=\"#cee6f8\" stroke=\"#000000\" points=\"21916,-53 21798,-53 21798,0 21916,0 21916,-53\"/>\n<text text-anchor=\"middle\" x=\"21857\" y=\"-37.8\" font-family=\"Helvetica,sans-Serif\" font-size=\"14.00\" fill=\"#000000\">entropy = 0.985</text>\n<text text-anchor=\"middle\" x=\"21857\" y=\"-22.8\" font-family=\"Helvetica,sans-Serif\" font-size=\"14.00\" fill=\"#000000\">samples = 7</text>\n<text text-anchor=\"middle\" x=\"21857\" y=\"-7.8\" font-family=\"Helvetica,sans-Serif\" font-size=\"14.00\" fill=\"#000000\">value = [3, 4]</text>\n</g>\n<!-- 411&#45;&gt;413 -->\n<g id=\"edge413\" class=\"edge\">\n<title>411&#45;&gt;413</title>\n<path fill=\"none\" stroke=\"#000000\" d=\"M21814.9166,-88.9777C21820.8994,-80.0954 21827.3582,-70.5067 21833.377,-61.5711\"/>\n<polygon fill=\"#000000\" stroke=\"#000000\" points=\"21836.2991,-63.4978 21838.9829,-53.2485 21830.4933,-59.5871 21836.2991,-63.4978\"/>\n</g>\n<!-- 415 -->\n<g id=\"node416\" class=\"node\">\n<title>415</title>\n<polygon fill=\"#399de5\" stroke=\"#000000\" points=\"22050,-53 21934,-53 21934,0 22050,0 22050,-53\"/>\n<text text-anchor=\"middle\" x=\"21992\" y=\"-37.8\" font-family=\"Helvetica,sans-Serif\" font-size=\"14.00\" fill=\"#000000\">entropy = 0.0</text>\n<text text-anchor=\"middle\" x=\"21992\" y=\"-22.8\" font-family=\"Helvetica,sans-Serif\" font-size=\"14.00\" fill=\"#000000\">samples = 597</text>\n<text text-anchor=\"middle\" x=\"21992\" y=\"-7.8\" font-family=\"Helvetica,sans-Serif\" font-size=\"14.00\" fill=\"#000000\">value = [0, 597]</text>\n</g>\n<!-- 414&#45;&gt;415 -->\n<g id=\"edge415\" class=\"edge\">\n<title>414&#45;&gt;415</title>\n<path fill=\"none\" stroke=\"#000000\" d=\"M21992,-88.9777C21992,-80.7364 21992,-71.887 21992,-63.5153\"/>\n<polygon fill=\"#000000\" stroke=\"#000000\" points=\"21995.5001,-63.2484 21992,-53.2485 21988.5001,-63.2485 21995.5001,-63.2484\"/>\n</g>\n<!-- 416 -->\n<g id=\"node417\" class=\"node\">\n<title>416</title>\n<polygon fill=\"#3e9fe6\" stroke=\"#000000\" points=\"22186,-53 22068,-53 22068,0 22186,0 22186,-53\"/>\n<text text-anchor=\"middle\" x=\"22127\" y=\"-37.8\" font-family=\"Helvetica,sans-Serif\" font-size=\"14.00\" fill=\"#000000\">entropy = 0.162</text>\n<text text-anchor=\"middle\" x=\"22127\" y=\"-22.8\" font-family=\"Helvetica,sans-Serif\" font-size=\"14.00\" fill=\"#000000\">samples = 252</text>\n<text text-anchor=\"middle\" x=\"22127\" y=\"-7.8\" font-family=\"Helvetica,sans-Serif\" font-size=\"14.00\" fill=\"#000000\">value = [6, 246]</text>\n</g>\n<!-- 414&#45;&gt;416 -->\n<g id=\"edge416\" class=\"edge\">\n<title>414&#45;&gt;416</title>\n<path fill=\"none\" stroke=\"#000000\" d=\"M22039.5959,-88.9777C22053.1748,-79.2713 22067.9339,-68.7213 22081.3912,-59.1018\"/>\n<polygon fill=\"#000000\" stroke=\"#000000\" points=\"22083.4799,-61.9111 22089.5798,-53.2485 22079.4092,-56.2164 22083.4799,-61.9111\"/>\n</g>\n<!-- 419 -->\n<g id=\"node420\" class=\"node\">\n<title>419</title>\n<polygon fill=\"#46a4e7\" stroke=\"#000000\" points=\"22825.5,-365 22676.5,-365 22676.5,-297 22825.5,-297 22825.5,-365\"/>\n<text text-anchor=\"middle\" x=\"22751\" y=\"-349.8\" font-family=\"Helvetica,sans-Serif\" font-size=\"14.00\" fill=\"#000000\">X[13] &lt;= &#45;0.393</text>\n<text text-anchor=\"middle\" x=\"22751\" y=\"-334.8\" font-family=\"Helvetica,sans-Serif\" font-size=\"14.00\" fill=\"#000000\">entropy = 0.339</text>\n<text text-anchor=\"middle\" x=\"22751\" y=\"-319.8\" font-family=\"Helvetica,sans-Serif\" font-size=\"14.00\" fill=\"#000000\">samples = 14034</text>\n<text text-anchor=\"middle\" x=\"22751\" y=\"-304.8\" font-family=\"Helvetica,sans-Serif\" font-size=\"14.00\" fill=\"#000000\">value = [885, 13149]</text>\n</g>\n<!-- 418&#45;&gt;419 -->\n<g id=\"edge419\" class=\"edge\">\n<title>418&#45;&gt;419</title>\n<path fill=\"none\" stroke=\"#000000\" d=\"M22751,-400.9465C22751,-392.776 22751,-383.9318 22751,-375.3697\"/>\n<polygon fill=\"#000000\" stroke=\"#000000\" points=\"22754.5001,-375.13 22751,-365.13 22747.5001,-375.13 22754.5001,-375.13\"/>\n</g>\n<!-- 434 -->\n<g id=\"node435\" class=\"node\">\n<title>434</title>\n<polygon fill=\"#3fa0e6\" stroke=\"#000000\" points=\"23668.5,-365 23519.5,-365 23519.5,-297 23668.5,-297 23668.5,-365\"/>\n<text text-anchor=\"middle\" x=\"23594\" y=\"-349.8\" font-family=\"Helvetica,sans-Serif\" font-size=\"14.00\" fill=\"#000000\">X[0] &lt;= 0.114</text>\n<text text-anchor=\"middle\" x=\"23594\" y=\"-334.8\" font-family=\"Helvetica,sans-Serif\" font-size=\"14.00\" fill=\"#000000\">entropy = 0.195</text>\n<text text-anchor=\"middle\" x=\"23594\" y=\"-319.8\" font-family=\"Helvetica,sans-Serif\" font-size=\"14.00\" fill=\"#000000\">samples = 17453</text>\n<text text-anchor=\"middle\" x=\"23594\" y=\"-304.8\" font-family=\"Helvetica,sans-Serif\" font-size=\"14.00\" fill=\"#000000\">value = [526, 16927]</text>\n</g>\n<!-- 418&#45;&gt;434 -->\n<g id=\"edge434\" class=\"edge\">\n<title>418&#45;&gt;434</title>\n<path fill=\"none\" stroke=\"#000000\" d=\"M22829.5504,-425.3093C22988.1921,-405.7379 23345.6039,-361.6444 23509.2659,-341.4536\"/>\n<polygon fill=\"#000000\" stroke=\"#000000\" points=\"23509.7911,-344.9154 23519.2873,-340.2172 23508.934,-337.9681 23509.7911,-344.9154\"/>\n</g>\n<!-- 420 -->\n<g id=\"node421\" class=\"node\">\n<title>420</title>\n<polygon fill=\"#45a3e7\" stroke=\"#000000\" points=\"22676.5,-261 22527.5,-261 22527.5,-193 22676.5,-193 22676.5,-261\"/>\n<text text-anchor=\"middle\" x=\"22602\" y=\"-245.8\" font-family=\"Helvetica,sans-Serif\" font-size=\"14.00\" fill=\"#000000\">X[13] &lt;= &#45;0.539</text>\n<text text-anchor=\"middle\" x=\"22602\" y=\"-230.8\" font-family=\"Helvetica,sans-Serif\" font-size=\"14.00\" fill=\"#000000\">entropy = 0.308</text>\n<text text-anchor=\"middle\" x=\"22602\" y=\"-215.8\" font-family=\"Helvetica,sans-Serif\" font-size=\"14.00\" fill=\"#000000\">samples = 12768</text>\n<text text-anchor=\"middle\" x=\"22602\" y=\"-200.8\" font-family=\"Helvetica,sans-Serif\" font-size=\"14.00\" fill=\"#000000\">value = [704, 12064]</text>\n</g>\n<!-- 419&#45;&gt;420 -->\n<g id=\"edge420\" class=\"edge\">\n<title>419&#45;&gt;420</title>\n<path fill=\"none\" stroke=\"#000000\" d=\"M22702.2118,-296.9465C22688.4479,-287.3395 22673.3494,-276.8009 22659.1426,-266.8848\"/>\n<polygon fill=\"#000000\" stroke=\"#000000\" points=\"22661.1011,-263.9835 22650.8978,-261.13 22657.0946,-269.7236 22661.1011,-263.9835\"/>\n</g>\n<!-- 427 -->\n<g id=\"node428\" class=\"node\">\n<title>427</title>\n<polygon fill=\"#5aade9\" stroke=\"#000000\" points=\"22969,-261 22829,-261 22829,-193 22969,-193 22969,-261\"/>\n<text text-anchor=\"middle\" x=\"22899\" y=\"-245.8\" font-family=\"Helvetica,sans-Serif\" font-size=\"14.00\" fill=\"#000000\">X[11] &lt;= 0.084</text>\n<text text-anchor=\"middle\" x=\"22899\" y=\"-230.8\" font-family=\"Helvetica,sans-Serif\" font-size=\"14.00\" fill=\"#000000\">entropy = 0.592</text>\n<text text-anchor=\"middle\" x=\"22899\" y=\"-215.8\" font-family=\"Helvetica,sans-Serif\" font-size=\"14.00\" fill=\"#000000\">samples = 1266</text>\n<text text-anchor=\"middle\" x=\"22899\" y=\"-200.8\" font-family=\"Helvetica,sans-Serif\" font-size=\"14.00\" fill=\"#000000\">value = [181, 1085]</text>\n</g>\n<!-- 419&#45;&gt;427 -->\n<g id=\"edge427\" class=\"edge\">\n<title>419&#45;&gt;427</title>\n<path fill=\"none\" stroke=\"#000000\" d=\"M22799.4607,-296.9465C22813.1323,-287.3395 22828.1294,-276.8009 22842.2409,-266.8848\"/>\n<polygon fill=\"#000000\" stroke=\"#000000\" points=\"22844.2608,-269.7432 22850.4304,-261.13 22840.2361,-264.0158 22844.2608,-269.7432\"/>\n</g>\n<!-- 421 -->\n<g id=\"node422\" class=\"node\">\n<title>421</title>\n<polygon fill=\"#8ac5f0\" stroke=\"#000000\" points=\"22442,-157 22324,-157 22324,-89 22442,-89 22442,-157\"/>\n<text text-anchor=\"middle\" x=\"22383\" y=\"-141.8\" font-family=\"Helvetica,sans-Serif\" font-size=\"14.00\" fill=\"#000000\">X[0] &lt;= &#45;0.287</text>\n<text text-anchor=\"middle\" x=\"22383\" y=\"-126.8\" font-family=\"Helvetica,sans-Serif\" font-size=\"14.00\" fill=\"#000000\">entropy = 0.869</text>\n<text text-anchor=\"middle\" x=\"22383\" y=\"-111.8\" font-family=\"Helvetica,sans-Serif\" font-size=\"14.00\" fill=\"#000000\">samples = 93</text>\n<text text-anchor=\"middle\" x=\"22383\" y=\"-96.8\" font-family=\"Helvetica,sans-Serif\" font-size=\"14.00\" fill=\"#000000\">value = [27, 66]</text>\n</g>\n<!-- 420&#45;&gt;421 -->\n<g id=\"edge421\" class=\"edge\">\n<title>420&#45;&gt;421</title>\n<path fill=\"none\" stroke=\"#000000\" d=\"M22530.2912,-192.9465C22504.849,-180.8644 22476.3043,-167.3089 22451.166,-155.3711\"/>\n<polygon fill=\"#000000\" stroke=\"#000000\" points=\"22452.6053,-152.18 22442.0707,-151.0518 22449.6024,-158.5032 22452.6053,-152.18\"/>\n</g>\n<!-- 424 -->\n<g id=\"node425\" class=\"node\">\n<title>424</title>\n<polygon fill=\"#44a3e6\" stroke=\"#000000\" points=\"22676.5,-157 22527.5,-157 22527.5,-89 22676.5,-89 22676.5,-157\"/>\n<text text-anchor=\"middle\" x=\"22602\" y=\"-141.8\" font-family=\"Helvetica,sans-Serif\" font-size=\"14.00\" fill=\"#000000\">X[1] &lt;= 0.502</text>\n<text text-anchor=\"middle\" x=\"22602\" y=\"-126.8\" font-family=\"Helvetica,sans-Serif\" font-size=\"14.00\" fill=\"#000000\">entropy = 0.301</text>\n<text text-anchor=\"middle\" x=\"22602\" y=\"-111.8\" font-family=\"Helvetica,sans-Serif\" font-size=\"14.00\" fill=\"#000000\">samples = 12675</text>\n<text text-anchor=\"middle\" x=\"22602\" y=\"-96.8\" font-family=\"Helvetica,sans-Serif\" font-size=\"14.00\" fill=\"#000000\">value = [677, 11998]</text>\n</g>\n<!-- 420&#45;&gt;424 -->\n<g id=\"edge424\" class=\"edge\">\n<title>420&#45;&gt;424</title>\n<path fill=\"none\" stroke=\"#000000\" d=\"M22602,-192.9465C22602,-184.776 22602,-175.9318 22602,-167.3697\"/>\n<polygon fill=\"#000000\" stroke=\"#000000\" points=\"22605.5001,-167.13 22602,-157.13 22598.5001,-167.13 22605.5001,-167.13\"/>\n</g>\n<!-- 422 -->\n<g id=\"node423\" class=\"node\">\n<title>422</title>\n<polygon fill=\"#399de5\" stroke=\"#000000\" points=\"22311.5,-53 22204.5,-53 22204.5,0 22311.5,0 22311.5,-53\"/>\n<text text-anchor=\"middle\" x=\"22258\" y=\"-37.8\" font-family=\"Helvetica,sans-Serif\" font-size=\"14.00\" fill=\"#000000\">entropy = 0.0</text>\n<text text-anchor=\"middle\" x=\"22258\" y=\"-22.8\" font-family=\"Helvetica,sans-Serif\" font-size=\"14.00\" fill=\"#000000\">samples = 66</text>\n<text text-anchor=\"middle\" x=\"22258\" y=\"-7.8\" font-family=\"Helvetica,sans-Serif\" font-size=\"14.00\" fill=\"#000000\">value = [0, 66]</text>\n</g>\n<!-- 421&#45;&gt;422 -->\n<g id=\"edge422\" class=\"edge\">\n<title>421&#45;&gt;422</title>\n<path fill=\"none\" stroke=\"#000000\" d=\"M22338.9297,-88.9777C22326.4752,-79.3629 22312.9485,-68.9203 22300.5833,-59.3743\"/>\n<polygon fill=\"#000000\" stroke=\"#000000\" points=\"22302.7028,-56.5889 22292.6483,-53.2485 22298.4251,-62.1299 22302.7028,-56.5889\"/>\n</g>\n<!-- 423 -->\n<g id=\"node424\" class=\"node\">\n<title>423</title>\n<polygon fill=\"#e58139\" stroke=\"#000000\" points=\"22436.5,-53 22329.5,-53 22329.5,0 22436.5,0 22436.5,-53\"/>\n<text text-anchor=\"middle\" x=\"22383\" y=\"-37.8\" font-family=\"Helvetica,sans-Serif\" font-size=\"14.00\" fill=\"#000000\">entropy = 0.0</text>\n<text text-anchor=\"middle\" x=\"22383\" y=\"-22.8\" font-family=\"Helvetica,sans-Serif\" font-size=\"14.00\" fill=\"#000000\">samples = 27</text>\n<text text-anchor=\"middle\" x=\"22383\" y=\"-7.8\" font-family=\"Helvetica,sans-Serif\" font-size=\"14.00\" fill=\"#000000\">value = [27, 0]</text>\n</g>\n<!-- 421&#45;&gt;423 -->\n<g id=\"edge423\" class=\"edge\">\n<title>421&#45;&gt;423</title>\n<path fill=\"none\" stroke=\"#000000\" d=\"M22383,-88.9777C22383,-80.7364 22383,-71.887 22383,-63.5153\"/>\n<polygon fill=\"#000000\" stroke=\"#000000\" points=\"22386.5001,-63.2484 22383,-53.2485 22379.5001,-63.2485 22386.5001,-63.2484\"/>\n</g>\n<!-- 425 -->\n<g id=\"node426\" class=\"node\">\n<title>425</title>\n<polygon fill=\"#47a4e7\" stroke=\"#000000\" points=\"22595,-53 22455,-53 22455,0 22595,0 22595,-53\"/>\n<text text-anchor=\"middle\" x=\"22525\" y=\"-37.8\" font-family=\"Helvetica,sans-Serif\" font-size=\"14.00\" fill=\"#000000\">entropy = 0.344</text>\n<text text-anchor=\"middle\" x=\"22525\" y=\"-22.8\" font-family=\"Helvetica,sans-Serif\" font-size=\"14.00\" fill=\"#000000\">samples = 6885</text>\n<text text-anchor=\"middle\" x=\"22525\" y=\"-7.8\" font-family=\"Helvetica,sans-Serif\" font-size=\"14.00\" fill=\"#000000\">value = [443, 6442]</text>\n</g>\n<!-- 424&#45;&gt;425 -->\n<g id=\"edge425\" class=\"edge\">\n<title>424&#45;&gt;425</title>\n<path fill=\"none\" stroke=\"#000000\" d=\"M22574.8527,-88.9777C22567.6922,-80.0039 22559.9564,-70.3089 22552.7639,-61.295\"/>\n<polygon fill=\"#000000\" stroke=\"#000000\" points=\"22555.3163,-58.8821 22546.3433,-53.2485 22549.8446,-63.2481 22555.3163,-58.8821\"/>\n</g>\n<!-- 426 -->\n<g id=\"node427\" class=\"node\">\n<title>426</title>\n<polygon fill=\"#41a1e6\" stroke=\"#000000\" points=\"22753,-53 22613,-53 22613,0 22753,0 22753,-53\"/>\n<text text-anchor=\"middle\" x=\"22683\" y=\"-37.8\" font-family=\"Helvetica,sans-Serif\" font-size=\"14.00\" fill=\"#000000\">entropy = 0.244</text>\n<text text-anchor=\"middle\" x=\"22683\" y=\"-22.8\" font-family=\"Helvetica,sans-Serif\" font-size=\"14.00\" fill=\"#000000\">samples = 5790</text>\n<text text-anchor=\"middle\" x=\"22683\" y=\"-7.8\" font-family=\"Helvetica,sans-Serif\" font-size=\"14.00\" fill=\"#000000\">value = [234, 5556]</text>\n</g>\n<!-- 424&#45;&gt;426 -->\n<g id=\"edge426\" class=\"edge\">\n<title>424&#45;&gt;426</title>\n<path fill=\"none\" stroke=\"#000000\" d=\"M22630.5576,-88.9777C22638.1669,-79.9123 22646.3939,-70.111 22654.0253,-61.0192\"/>\n<polygon fill=\"#000000\" stroke=\"#000000\" points=\"22656.7995,-63.1581 22660.5479,-53.2485 22651.438,-58.6577 22656.7995,-63.1581\"/>\n</g>\n<!-- 428 -->\n<g id=\"node429\" class=\"node\">\n<title>428</title>\n<polygon fill=\"#82c1ef\" stroke=\"#000000\" points=\"22961,-157 22837,-157 22837,-89 22961,-89 22961,-157\"/>\n<text text-anchor=\"middle\" x=\"22899\" y=\"-141.8\" font-family=\"Helvetica,sans-Serif\" font-size=\"14.00\" fill=\"#000000\">X[3] &lt;= 3.03</text>\n<text text-anchor=\"middle\" x=\"22899\" y=\"-126.8\" font-family=\"Helvetica,sans-Serif\" font-size=\"14.00\" fill=\"#000000\">entropy = 0.839</text>\n<text text-anchor=\"middle\" x=\"22899\" y=\"-111.8\" font-family=\"Helvetica,sans-Serif\" font-size=\"14.00\" fill=\"#000000\">samples = 339</text>\n<text text-anchor=\"middle\" x=\"22899\" y=\"-96.8\" font-family=\"Helvetica,sans-Serif\" font-size=\"14.00\" fill=\"#000000\">value = [91, 248]</text>\n</g>\n<!-- 427&#45;&gt;428 -->\n<g id=\"edge428\" class=\"edge\">\n<title>427&#45;&gt;428</title>\n<path fill=\"none\" stroke=\"#000000\" d=\"M22899,-192.9465C22899,-184.776 22899,-175.9318 22899,-167.3697\"/>\n<polygon fill=\"#000000\" stroke=\"#000000\" points=\"22902.5001,-167.13 22899,-157.13 22895.5001,-167.13 22902.5001,-167.13\"/>\n</g>\n<!-- 431 -->\n<g id=\"node432\" class=\"node\">\n<title>431</title>\n<polygon fill=\"#4ea8e8\" stroke=\"#000000\" points=\"23169,-157 23045,-157 23045,-89 23169,-89 23169,-157\"/>\n<text text-anchor=\"middle\" x=\"23107\" y=\"-141.8\" font-family=\"Helvetica,sans-Serif\" font-size=\"14.00\" fill=\"#000000\">X[0] &lt;= &#45;0.298</text>\n<text text-anchor=\"middle\" x=\"23107\" y=\"-126.8\" font-family=\"Helvetica,sans-Serif\" font-size=\"14.00\" fill=\"#000000\">entropy = 0.46</text>\n<text text-anchor=\"middle\" x=\"23107\" y=\"-111.8\" font-family=\"Helvetica,sans-Serif\" font-size=\"14.00\" fill=\"#000000\">samples = 927</text>\n<text text-anchor=\"middle\" x=\"23107\" y=\"-96.8\" font-family=\"Helvetica,sans-Serif\" font-size=\"14.00\" fill=\"#000000\">value = [90, 837]</text>\n</g>\n<!-- 427&#45;&gt;431 -->\n<g id=\"edge431\" class=\"edge\">\n<title>427&#45;&gt;431</title>\n<path fill=\"none\" stroke=\"#000000\" d=\"M22967.107,-192.9465C22989.0789,-181.9605 23013.4871,-169.7564 23035.6842,-158.6579\"/>\n<polygon fill=\"#000000\" stroke=\"#000000\" points=\"23037.3418,-161.7423 23044.7208,-154.1396 23034.2113,-155.4813 23037.3418,-161.7423\"/>\n</g>\n<!-- 429 -->\n<g id=\"node430\" class=\"node\">\n<title>429</title>\n<polygon fill=\"#6fb8ec\" stroke=\"#000000\" points=\"22895,-53 22771,-53 22771,0 22895,0 22895,-53\"/>\n<text text-anchor=\"middle\" x=\"22833\" y=\"-37.8\" font-family=\"Helvetica,sans-Serif\" font-size=\"14.00\" fill=\"#000000\">entropy = 0.749</text>\n<text text-anchor=\"middle\" x=\"22833\" y=\"-22.8\" font-family=\"Helvetica,sans-Serif\" font-size=\"14.00\" fill=\"#000000\">samples = 313</text>\n<text text-anchor=\"middle\" x=\"22833\" y=\"-7.8\" font-family=\"Helvetica,sans-Serif\" font-size=\"14.00\" fill=\"#000000\">value = [67, 246]</text>\n</g>\n<!-- 428&#45;&gt;429 -->\n<g id=\"edge429\" class=\"edge\">\n<title>428&#45;&gt;429</title>\n<path fill=\"none\" stroke=\"#000000\" d=\"M22875.7309,-88.9777C22869.656,-80.0954 22863.0979,-70.5067 22856.9865,-61.5711\"/>\n<polygon fill=\"#000000\" stroke=\"#000000\" points=\"22859.8286,-59.5267 22851.2943,-53.2485 22854.0507,-63.4785 22859.8286,-59.5267\"/>\n</g>\n<!-- 430 -->\n<g id=\"node431\" class=\"node\">\n<title>430</title>\n<polygon fill=\"#e78c49\" stroke=\"#000000\" points=\"23031,-53 22913,-53 22913,0 23031,0 23031,-53\"/>\n<text text-anchor=\"middle\" x=\"22972\" y=\"-37.8\" font-family=\"Helvetica,sans-Serif\" font-size=\"14.00\" fill=\"#000000\">entropy = 0.391</text>\n<text text-anchor=\"middle\" x=\"22972\" y=\"-22.8\" font-family=\"Helvetica,sans-Serif\" font-size=\"14.00\" fill=\"#000000\">samples = 26</text>\n<text text-anchor=\"middle\" x=\"22972\" y=\"-7.8\" font-family=\"Helvetica,sans-Serif\" font-size=\"14.00\" fill=\"#000000\">value = [24, 2]</text>\n</g>\n<!-- 428&#45;&gt;430 -->\n<g id=\"edge430\" class=\"edge\">\n<title>428&#45;&gt;430</title>\n<path fill=\"none\" stroke=\"#000000\" d=\"M22924.7371,-88.9777C22931.5256,-80.0039 22938.8596,-70.3089 22945.6784,-61.295\"/>\n<polygon fill=\"#000000\" stroke=\"#000000\" points=\"22948.5237,-63.3352 22951.7654,-53.2485 22942.941,-59.1121 22948.5237,-63.3352\"/>\n</g>\n<!-- 432 -->\n<g id=\"node433\" class=\"node\">\n<title>432</title>\n<polygon fill=\"#399de5\" stroke=\"#000000\" points=\"23165,-53 23049,-53 23049,0 23165,0 23165,-53\"/>\n<text text-anchor=\"middle\" x=\"23107\" y=\"-37.8\" font-family=\"Helvetica,sans-Serif\" font-size=\"14.00\" fill=\"#000000\">entropy = 0.0</text>\n<text text-anchor=\"middle\" x=\"23107\" y=\"-22.8\" font-family=\"Helvetica,sans-Serif\" font-size=\"14.00\" fill=\"#000000\">samples = 110</text>\n<text text-anchor=\"middle\" x=\"23107\" y=\"-7.8\" font-family=\"Helvetica,sans-Serif\" font-size=\"14.00\" fill=\"#000000\">value = [0, 110]</text>\n</g>\n<!-- 431&#45;&gt;432 -->\n<g id=\"edge432\" class=\"edge\">\n<title>431&#45;&gt;432</title>\n<path fill=\"none\" stroke=\"#000000\" d=\"M23107,-88.9777C23107,-80.7364 23107,-71.887 23107,-63.5153\"/>\n<polygon fill=\"#000000\" stroke=\"#000000\" points=\"23110.5001,-63.2484 23107,-53.2485 23103.5001,-63.2485 23110.5001,-63.2484\"/>\n</g>\n<!-- 433 -->\n<g id=\"node434\" class=\"node\">\n<title>433</title>\n<polygon fill=\"#52a9e8\" stroke=\"#000000\" points=\"23307,-53 23183,-53 23183,0 23307,0 23307,-53\"/>\n<text text-anchor=\"middle\" x=\"23245\" y=\"-37.8\" font-family=\"Helvetica,sans-Serif\" font-size=\"14.00\" fill=\"#000000\">entropy = 0.5</text>\n<text text-anchor=\"middle\" x=\"23245\" y=\"-22.8\" font-family=\"Helvetica,sans-Serif\" font-size=\"14.00\" fill=\"#000000\">samples = 817</text>\n<text text-anchor=\"middle\" x=\"23245\" y=\"-7.8\" font-family=\"Helvetica,sans-Serif\" font-size=\"14.00\" fill=\"#000000\">value = [90, 727]</text>\n</g>\n<!-- 431&#45;&gt;433 -->\n<g id=\"edge433\" class=\"edge\">\n<title>431&#45;&gt;433</title>\n<path fill=\"none\" stroke=\"#000000\" d=\"M23155.6536,-88.9777C23169.5343,-79.2713 23184.6214,-68.7213 23198.3777,-59.1018\"/>\n<polygon fill=\"#000000\" stroke=\"#000000\" points=\"23200.5589,-61.8475 23206.7483,-53.2485 23196.5474,-56.1109 23200.5589,-61.8475\"/>\n</g>\n<!-- 435 -->\n<g id=\"node436\" class=\"node\">\n<title>435</title>\n<polygon fill=\"#3b9ee5\" stroke=\"#000000\" points=\"23660,-261 23528,-261 23528,-193 23660,-193 23660,-261\"/>\n<text text-anchor=\"middle\" x=\"23594\" y=\"-245.8\" font-family=\"Helvetica,sans-Serif\" font-size=\"14.00\" fill=\"#000000\">X[0] &lt;= &#45;0.067</text>\n<text text-anchor=\"middle\" x=\"23594\" y=\"-230.8\" font-family=\"Helvetica,sans-Serif\" font-size=\"14.00\" fill=\"#000000\">entropy = 0.066</text>\n<text text-anchor=\"middle\" x=\"23594\" y=\"-215.8\" font-family=\"Helvetica,sans-Serif\" font-size=\"14.00\" fill=\"#000000\">samples = 3556</text>\n<text text-anchor=\"middle\" x=\"23594\" y=\"-200.8\" font-family=\"Helvetica,sans-Serif\" font-size=\"14.00\" fill=\"#000000\">value = [28, 3528]</text>\n</g>\n<!-- 434&#45;&gt;435 -->\n<g id=\"edge435\" class=\"edge\">\n<title>434&#45;&gt;435</title>\n<path fill=\"none\" stroke=\"#000000\" d=\"M23594,-296.9465C23594,-288.776 23594,-279.9318 23594,-271.3697\"/>\n<polygon fill=\"#000000\" stroke=\"#000000\" points=\"23597.5001,-271.13 23594,-261.13 23590.5001,-271.13 23597.5001,-271.13\"/>\n</g>\n<!-- 442 -->\n<g id=\"node443\" class=\"node\">\n<title>442</title>\n<polygon fill=\"#40a1e6\" stroke=\"#000000\" points=\"24092.5,-261 23943.5,-261 23943.5,-193 24092.5,-193 24092.5,-261\"/>\n<text text-anchor=\"middle\" x=\"24018\" y=\"-245.8\" font-family=\"Helvetica,sans-Serif\" font-size=\"14.00\" fill=\"#000000\">X[11] &lt;= 0.991</text>\n<text text-anchor=\"middle\" x=\"24018\" y=\"-230.8\" font-family=\"Helvetica,sans-Serif\" font-size=\"14.00\" fill=\"#000000\">entropy = 0.223</text>\n<text text-anchor=\"middle\" x=\"24018\" y=\"-215.8\" font-family=\"Helvetica,sans-Serif\" font-size=\"14.00\" fill=\"#000000\">samples = 13897</text>\n<text text-anchor=\"middle\" x=\"24018\" y=\"-200.8\" font-family=\"Helvetica,sans-Serif\" font-size=\"14.00\" fill=\"#000000\">value = [498, 13399]</text>\n</g>\n<!-- 434&#45;&gt;442 -->\n<g id=\"edge442\" class=\"edge\">\n<title>434&#45;&gt;442</title>\n<path fill=\"none\" stroke=\"#000000\" d=\"M23668.8267,-312.6463C23742.9225,-294.4718 23856.1967,-266.6876 23933.4947,-247.7277\"/>\n<polygon fill=\"#000000\" stroke=\"#000000\" points=\"23934.3311,-251.1264 23943.2095,-245.3449 23932.6635,-244.3279 23934.3311,-251.1264\"/>\n</g>\n<!-- 436 -->\n<g id=\"node437\" class=\"node\">\n<title>436</title>\n<polygon fill=\"#399de5\" stroke=\"#000000\" points=\"23583,-157 23459,-157 23459,-89 23583,-89 23583,-157\"/>\n<text text-anchor=\"middle\" x=\"23521\" y=\"-141.8\" font-family=\"Helvetica,sans-Serif\" font-size=\"14.00\" fill=\"#000000\">X[11] &lt;= 0.444</text>\n<text text-anchor=\"middle\" x=\"23521\" y=\"-126.8\" font-family=\"Helvetica,sans-Serif\" font-size=\"14.00\" fill=\"#000000\">entropy = 0.013</text>\n<text text-anchor=\"middle\" x=\"23521\" y=\"-111.8\" font-family=\"Helvetica,sans-Serif\" font-size=\"14.00\" fill=\"#000000\">samples = 1675</text>\n<text text-anchor=\"middle\" x=\"23521\" y=\"-96.8\" font-family=\"Helvetica,sans-Serif\" font-size=\"14.00\" fill=\"#000000\">value = [2, 1673]</text>\n</g>\n<!-- 435&#45;&gt;436 -->\n<g id=\"edge436\" class=\"edge\">\n<title>435&#45;&gt;436</title>\n<path fill=\"none\" stroke=\"#000000\" d=\"M23570.0971,-192.9465C23563.9209,-184.1475 23557.1962,-174.5672 23550.761,-165.3993\"/>\n<polygon fill=\"#000000\" stroke=\"#000000\" points=\"23553.5666,-163.3041 23544.9566,-157.13 23547.8371,-167.3258 23553.5666,-163.3041\"/>\n</g>\n<!-- 439 -->\n<g id=\"node440\" class=\"node\">\n<title>439</title>\n<polygon fill=\"#3c9ee5\" stroke=\"#000000\" points=\"23733,-157 23601,-157 23601,-89 23733,-89 23733,-157\"/>\n<text text-anchor=\"middle\" x=\"23667\" y=\"-141.8\" font-family=\"Helvetica,sans-Serif\" font-size=\"14.00\" fill=\"#000000\">X[11] &lt;= 0.706</text>\n<text text-anchor=\"middle\" x=\"23667\" y=\"-126.8\" font-family=\"Helvetica,sans-Serif\" font-size=\"14.00\" fill=\"#000000\">entropy = 0.105</text>\n<text text-anchor=\"middle\" x=\"23667\" y=\"-111.8\" font-family=\"Helvetica,sans-Serif\" font-size=\"14.00\" fill=\"#000000\">samples = 1881</text>\n<text text-anchor=\"middle\" x=\"23667\" y=\"-96.8\" font-family=\"Helvetica,sans-Serif\" font-size=\"14.00\" fill=\"#000000\">value = [26, 1855]</text>\n</g>\n<!-- 435&#45;&gt;439 -->\n<g id=\"edge439\" class=\"edge\">\n<title>435&#45;&gt;439</title>\n<path fill=\"none\" stroke=\"#000000\" d=\"M23617.9029,-192.9465C23624.0791,-184.1475 23630.8038,-174.5672 23637.239,-165.3993\"/>\n<polygon fill=\"#000000\" stroke=\"#000000\" points=\"23640.1629,-167.3258 23643.0434,-157.13 23634.4334,-163.3041 23640.1629,-167.3258\"/>\n</g>\n<!-- 437 -->\n<g id=\"node438\" class=\"node\">\n<title>437</title>\n<polygon fill=\"#3d9fe6\" stroke=\"#000000\" points=\"23443,-53 23325,-53 23325,0 23443,0 23443,-53\"/>\n<text text-anchor=\"middle\" x=\"23384\" y=\"-37.8\" font-family=\"Helvetica,sans-Serif\" font-size=\"14.00\" fill=\"#000000\">entropy = 0.151</text>\n<text text-anchor=\"middle\" x=\"23384\" y=\"-22.8\" font-family=\"Helvetica,sans-Serif\" font-size=\"14.00\" fill=\"#000000\">samples = 92</text>\n<text text-anchor=\"middle\" x=\"23384\" y=\"-7.8\" font-family=\"Helvetica,sans-Serif\" font-size=\"14.00\" fill=\"#000000\">value = [2, 90]</text>\n</g>\n<!-- 436&#45;&gt;437 -->\n<g id=\"edge437\" class=\"edge\">\n<title>436&#45;&gt;437</title>\n<path fill=\"none\" stroke=\"#000000\" d=\"M23472.6989,-88.9777C23458.9189,-79.2713 23443.9411,-68.7213 23430.2845,-59.1018\"/>\n<polygon fill=\"#000000\" stroke=\"#000000\" points=\"23432.1655,-56.1457 23421.9745,-53.2485 23428.1345,-61.8686 23432.1655,-56.1457\"/>\n</g>\n<!-- 438 -->\n<g id=\"node439\" class=\"node\">\n<title>438</title>\n<polygon fill=\"#399de5\" stroke=\"#000000\" points=\"23585,-53 23461,-53 23461,0 23585,0 23585,-53\"/>\n<text text-anchor=\"middle\" x=\"23523\" y=\"-37.8\" font-family=\"Helvetica,sans-Serif\" font-size=\"14.00\" fill=\"#000000\">entropy = 0.0</text>\n<text text-anchor=\"middle\" x=\"23523\" y=\"-22.8\" font-family=\"Helvetica,sans-Serif\" font-size=\"14.00\" fill=\"#000000\">samples = 1583</text>\n<text text-anchor=\"middle\" x=\"23523\" y=\"-7.8\" font-family=\"Helvetica,sans-Serif\" font-size=\"14.00\" fill=\"#000000\">value = [0, 1583]</text>\n</g>\n<!-- 436&#45;&gt;438 -->\n<g id=\"edge438\" class=\"edge\">\n<title>436&#45;&gt;438</title>\n<path fill=\"none\" stroke=\"#000000\" d=\"M23521.7051,-88.9777C23521.8759,-80.7364 23522.0593,-71.887 23522.2328,-63.5153\"/>\n<polygon fill=\"#000000\" stroke=\"#000000\" points=\"23525.7376,-63.3189 23522.4456,-53.2485 23518.7391,-63.1738 23525.7376,-63.3189\"/>\n</g>\n<!-- 440 -->\n<g id=\"node441\" class=\"node\">\n<title>440</title>\n<polygon fill=\"#43a2e6\" stroke=\"#000000\" points=\"23727,-53 23603,-53 23603,0 23727,0 23727,-53\"/>\n<text text-anchor=\"middle\" x=\"23665\" y=\"-37.8\" font-family=\"Helvetica,sans-Serif\" font-size=\"14.00\" fill=\"#000000\">entropy = 0.278</text>\n<text text-anchor=\"middle\" x=\"23665\" y=\"-22.8\" font-family=\"Helvetica,sans-Serif\" font-size=\"14.00\" fill=\"#000000\">samples = 478</text>\n<text text-anchor=\"middle\" x=\"23665\" y=\"-7.8\" font-family=\"Helvetica,sans-Serif\" font-size=\"14.00\" fill=\"#000000\">value = [23, 455]</text>\n</g>\n<!-- 439&#45;&gt;440 -->\n<g id=\"edge440\" class=\"edge\">\n<title>439&#45;&gt;440</title>\n<path fill=\"none\" stroke=\"#000000\" d=\"M23666.2949,-88.9777C23666.1241,-80.7364 23665.9407,-71.887 23665.7672,-63.5153\"/>\n<polygon fill=\"#000000\" stroke=\"#000000\" points=\"23669.2609,-63.1738 23665.5544,-53.2485 23662.2624,-63.3189 23669.2609,-63.1738\"/>\n</g>\n<!-- 441 -->\n<g id=\"node442\" class=\"node\">\n<title>441</title>\n<polygon fill=\"#399de5\" stroke=\"#000000\" points=\"23869,-53 23745,-53 23745,0 23869,0 23869,-53\"/>\n<text text-anchor=\"middle\" x=\"23807\" y=\"-37.8\" font-family=\"Helvetica,sans-Serif\" font-size=\"14.00\" fill=\"#000000\">entropy = 0.022</text>\n<text text-anchor=\"middle\" x=\"23807\" y=\"-22.8\" font-family=\"Helvetica,sans-Serif\" font-size=\"14.00\" fill=\"#000000\">samples = 1403</text>\n<text text-anchor=\"middle\" x=\"23807\" y=\"-7.8\" font-family=\"Helvetica,sans-Serif\" font-size=\"14.00\" fill=\"#000000\">value = [3, 1400]</text>\n</g>\n<!-- 439&#45;&gt;441 -->\n<g id=\"edge441\" class=\"edge\">\n<title>439&#45;&gt;441</title>\n<path fill=\"none\" stroke=\"#000000\" d=\"M23716.3588,-88.9777C23730.4406,-79.2713 23745.7463,-68.7213 23759.702,-59.1018\"/>\n<polygon fill=\"#000000\" stroke=\"#000000\" points=\"23761.9467,-61.8055 23768.1939,-53.2485 23757.974,-56.042 23761.9467,-61.8055\"/>\n</g>\n<!-- 443 -->\n<g id=\"node444\" class=\"node\">\n<title>443</title>\n<polygon fill=\"#45a3e7\" stroke=\"#000000\" points=\"24088,-157 23948,-157 23948,-89 24088,-89 24088,-157\"/>\n<text text-anchor=\"middle\" x=\"24018\" y=\"-141.8\" font-family=\"Helvetica,sans-Serif\" font-size=\"14.00\" fill=\"#000000\">X[13] &lt;= &#45;0.503</text>\n<text text-anchor=\"middle\" x=\"24018\" y=\"-126.8\" font-family=\"Helvetica,sans-Serif\" font-size=\"14.00\" fill=\"#000000\">entropy = 0.314</text>\n<text text-anchor=\"middle\" x=\"24018\" y=\"-111.8\" font-family=\"Helvetica,sans-Serif\" font-size=\"14.00\" fill=\"#000000\">samples = 5737</text>\n<text text-anchor=\"middle\" x=\"24018\" y=\"-96.8\" font-family=\"Helvetica,sans-Serif\" font-size=\"14.00\" fill=\"#000000\">value = [325, 5412]</text>\n</g>\n<!-- 442&#45;&gt;443 -->\n<g id=\"edge443\" class=\"edge\">\n<title>442&#45;&gt;443</title>\n<path fill=\"none\" stroke=\"#000000\" d=\"M24018,-192.9465C24018,-184.776 24018,-175.9318 24018,-167.3697\"/>\n<polygon fill=\"#000000\" stroke=\"#000000\" points=\"24021.5001,-167.13 24018,-157.13 24014.5001,-167.13 24021.5001,-167.13\"/>\n</g>\n<!-- 446 -->\n<g id=\"node447\" class=\"node\">\n<title>446</title>\n<polygon fill=\"#3d9fe6\" stroke=\"#000000\" points=\"24317,-157 24177,-157 24177,-89 24317,-89 24317,-157\"/>\n<text text-anchor=\"middle\" x=\"24247\" y=\"-141.8\" font-family=\"Helvetica,sans-Serif\" font-size=\"14.00\" fill=\"#000000\">X[0] &lt;= 1.651</text>\n<text text-anchor=\"middle\" x=\"24247\" y=\"-126.8\" font-family=\"Helvetica,sans-Serif\" font-size=\"14.00\" fill=\"#000000\">entropy = 0.148</text>\n<text text-anchor=\"middle\" x=\"24247\" y=\"-111.8\" font-family=\"Helvetica,sans-Serif\" font-size=\"14.00\" fill=\"#000000\">samples = 8160</text>\n<text text-anchor=\"middle\" x=\"24247\" y=\"-96.8\" font-family=\"Helvetica,sans-Serif\" font-size=\"14.00\" fill=\"#000000\">value = [173, 7987]</text>\n</g>\n<!-- 442&#45;&gt;446 -->\n<g id=\"edge446\" class=\"edge\">\n<title>442&#45;&gt;446</title>\n<path fill=\"none\" stroke=\"#000000\" d=\"M24092.6663,-193.0904C24116.6235,-182.2103 24143.2385,-170.1231 24167.5268,-159.0926\"/>\n<polygon fill=\"#000000\" stroke=\"#000000\" points=\"24169.0534,-162.2434 24176.7112,-154.9216 24166.1589,-155.8699 24169.0534,-162.2434\"/>\n</g>\n<!-- 444 -->\n<g id=\"node445\" class=\"node\">\n<title>444</title>\n<polygon fill=\"#fcf2ea\" stroke=\"#000000\" points=\"24005,-53 23887,-53 23887,0 24005,0 24005,-53\"/>\n<text text-anchor=\"middle\" x=\"23946\" y=\"-37.8\" font-family=\"Helvetica,sans-Serif\" font-size=\"14.00\" fill=\"#000000\">entropy = 0.998</text>\n<text text-anchor=\"middle\" x=\"23946\" y=\"-22.8\" font-family=\"Helvetica,sans-Serif\" font-size=\"14.00\" fill=\"#000000\">samples = 36</text>\n<text text-anchor=\"middle\" x=\"23946\" y=\"-7.8\" font-family=\"Helvetica,sans-Serif\" font-size=\"14.00\" fill=\"#000000\">value = [19, 17]</text>\n</g>\n<!-- 443&#45;&gt;444 -->\n<g id=\"edge444\" class=\"edge\">\n<title>443&#45;&gt;444</title>\n<path fill=\"none\" stroke=\"#000000\" d=\"M23992.6155,-88.9777C23985.92,-80.0039 23978.6865,-70.3089 23971.961,-61.295\"/>\n<polygon fill=\"#000000\" stroke=\"#000000\" points=\"23974.7427,-59.1704 23965.9574,-53.2485 23969.1323,-63.3565 23974.7427,-59.1704\"/>\n</g>\n<!-- 445 -->\n<g id=\"node446\" class=\"node\">\n<title>445</title>\n<polygon fill=\"#44a3e6\" stroke=\"#000000\" points=\"24163,-53 24023,-53 24023,0 24163,0 24163,-53\"/>\n<text text-anchor=\"middle\" x=\"24093\" y=\"-37.8\" font-family=\"Helvetica,sans-Serif\" font-size=\"14.00\" fill=\"#000000\">entropy = 0.302</text>\n<text text-anchor=\"middle\" x=\"24093\" y=\"-22.8\" font-family=\"Helvetica,sans-Serif\" font-size=\"14.00\" fill=\"#000000\">samples = 5701</text>\n<text text-anchor=\"middle\" x=\"24093\" y=\"-7.8\" font-family=\"Helvetica,sans-Serif\" font-size=\"14.00\" fill=\"#000000\">value = [306, 5395]</text>\n</g>\n<!-- 443&#45;&gt;445 -->\n<g id=\"edge445\" class=\"edge\">\n<title>443&#45;&gt;445</title>\n<path fill=\"none\" stroke=\"#000000\" d=\"M24044.4422,-88.9777C24051.4167,-80.0039 24058.9516,-70.3089 24065.9573,-61.295\"/>\n<polygon fill=\"#000000\" stroke=\"#000000\" points=\"24068.8379,-63.292 24072.211,-53.2485 24063.3109,-58.9964 24068.8379,-63.292\"/>\n</g>\n<!-- 447 -->\n<g id=\"node448\" class=\"node\">\n<title>447</title>\n<polygon fill=\"#3b9ee5\" stroke=\"#000000\" points=\"24313,-53 24181,-53 24181,0 24313,0 24313,-53\"/>\n<text text-anchor=\"middle\" x=\"24247\" y=\"-37.8\" font-family=\"Helvetica,sans-Serif\" font-size=\"14.00\" fill=\"#000000\">entropy = 0.092</text>\n<text text-anchor=\"middle\" x=\"24247\" y=\"-22.8\" font-family=\"Helvetica,sans-Serif\" font-size=\"14.00\" fill=\"#000000\">samples = 4776</text>\n<text text-anchor=\"middle\" x=\"24247\" y=\"-7.8\" font-family=\"Helvetica,sans-Serif\" font-size=\"14.00\" fill=\"#000000\">value = [56, 4720]</text>\n</g>\n<!-- 446&#45;&gt;447 -->\n<g id=\"edge447\" class=\"edge\">\n<title>446&#45;&gt;447</title>\n<path fill=\"none\" stroke=\"#000000\" d=\"M24247,-88.9777C24247,-80.7364 24247,-71.887 24247,-63.5153\"/>\n<polygon fill=\"#000000\" stroke=\"#000000\" points=\"24250.5001,-63.2484 24247,-53.2485 24243.5001,-63.2485 24250.5001,-63.2484\"/>\n</g>\n<!-- 448 -->\n<g id=\"node449\" class=\"node\">\n<title>448</title>\n<polygon fill=\"#40a1e6\" stroke=\"#000000\" points=\"24471,-53 24331,-53 24331,0 24471,0 24471,-53\"/>\n<text text-anchor=\"middle\" x=\"24401\" y=\"-37.8\" font-family=\"Helvetica,sans-Serif\" font-size=\"14.00\" fill=\"#000000\">entropy = 0.217</text>\n<text text-anchor=\"middle\" x=\"24401\" y=\"-22.8\" font-family=\"Helvetica,sans-Serif\" font-size=\"14.00\" fill=\"#000000\">samples = 3384</text>\n<text text-anchor=\"middle\" x=\"24401\" y=\"-7.8\" font-family=\"Helvetica,sans-Serif\" font-size=\"14.00\" fill=\"#000000\">value = [117, 3267]</text>\n</g>\n<!-- 446&#45;&gt;448 -->\n<g id=\"edge448\" class=\"edge\">\n<title>446&#45;&gt;448</title>\n<path fill=\"none\" stroke=\"#000000\" d=\"M24301.2946,-88.9777C24316.9308,-79.1798 24333.9387,-68.5222 24349.4063,-58.8298\"/>\n<polygon fill=\"#000000\" stroke=\"#000000\" points=\"24351.698,-61.5242 24358.3133,-53.2485 24347.981,-55.5926 24351.698,-61.5242\"/>\n</g>\n<!-- 450 -->\n<g id=\"node451\" class=\"node\">\n<title>450</title>\n<polygon fill=\"#399de5\" stroke=\"#000000\" points=\"25025,-677 24885,-677 24885,-609 25025,-609 25025,-677\"/>\n<text text-anchor=\"middle\" x=\"24955\" y=\"-661.8\" font-family=\"Helvetica,sans-Serif\" font-size=\"14.00\" fill=\"#000000\">X[2] &lt;= &#45;0.736</text>\n<text text-anchor=\"middle\" x=\"24955\" y=\"-646.8\" font-family=\"Helvetica,sans-Serif\" font-size=\"14.00\" fill=\"#000000\">entropy = 0.009</text>\n<text text-anchor=\"middle\" x=\"24955\" y=\"-631.8\" font-family=\"Helvetica,sans-Serif\" font-size=\"14.00\" fill=\"#000000\">samples = 80586</text>\n<text text-anchor=\"middle\" x=\"24955\" y=\"-616.8\" font-family=\"Helvetica,sans-Serif\" font-size=\"14.00\" fill=\"#000000\">value = [59, 80527]</text>\n</g>\n<!-- 449&#45;&gt;450 -->\n<g id=\"edge450\" class=\"edge\">\n<title>449&#45;&gt;450</title>\n<path fill=\"none\" stroke=\"#000000\" d=\"M24955,-712.9465C24955,-704.776 24955,-695.9318 24955,-687.3697\"/>\n<polygon fill=\"#000000\" stroke=\"#000000\" points=\"24958.5001,-687.13 24955,-677.13 24951.5001,-687.13 24958.5001,-687.13\"/>\n</g>\n<!-- 501 -->\n<g id=\"node502\" class=\"node\">\n<title>501</title>\n<polygon fill=\"#3b9ee5\" stroke=\"#000000\" points=\"26717,-677 26585,-677 26585,-609 26717,-609 26717,-677\"/>\n<text text-anchor=\"middle\" x=\"26651\" y=\"-661.8\" font-family=\"Helvetica,sans-Serif\" font-size=\"14.00\" fill=\"#000000\">X[11] &lt;= 2.33</text>\n<text text-anchor=\"middle\" x=\"26651\" y=\"-646.8\" font-family=\"Helvetica,sans-Serif\" font-size=\"14.00\" fill=\"#000000\">entropy = 0.078</text>\n<text text-anchor=\"middle\" x=\"26651\" y=\"-631.8\" font-family=\"Helvetica,sans-Serif\" font-size=\"14.00\" fill=\"#000000\">samples = 1451</text>\n<text text-anchor=\"middle\" x=\"26651\" y=\"-616.8\" font-family=\"Helvetica,sans-Serif\" font-size=\"14.00\" fill=\"#000000\">value = [14, 1437]</text>\n</g>\n<!-- 449&#45;&gt;501 -->\n<g id=\"edge501\" class=\"edge\">\n<title>449&#45;&gt;501</title>\n<path fill=\"none\" stroke=\"#000000\" d=\"M25025.1805,-742.6965C25298.421,-725.9412 26290.0513,-665.1336 26574.3391,-647.7009\"/>\n<polygon fill=\"#000000\" stroke=\"#000000\" points=\"26574.785,-651.1802 26584.552,-647.0746 26574.3565,-644.1934 26574.785,-651.1802\"/>\n</g>\n<!-- 451 -->\n<g id=\"node452\" class=\"node\">\n<title>451</title>\n<polygon fill=\"#399de5\" stroke=\"#000000\" points=\"24944,-573 24812,-573 24812,-505 24944,-505 24944,-573\"/>\n<text text-anchor=\"middle\" x=\"24878\" y=\"-557.8\" font-family=\"Helvetica,sans-Serif\" font-size=\"14.00\" fill=\"#000000\">X[13] &lt;= &#45;0.136</text>\n<text text-anchor=\"middle\" x=\"24878\" y=\"-542.8\" font-family=\"Helvetica,sans-Serif\" font-size=\"14.00\" fill=\"#000000\">entropy = 0.001</text>\n<text text-anchor=\"middle\" x=\"24878\" y=\"-527.8\" font-family=\"Helvetica,sans-Serif\" font-size=\"14.00\" fill=\"#000000\">samples = 19845</text>\n<text text-anchor=\"middle\" x=\"24878\" y=\"-512.8\" font-family=\"Helvetica,sans-Serif\" font-size=\"14.00\" fill=\"#000000\">value = [1, 19844]</text>\n</g>\n<!-- 450&#45;&gt;451 -->\n<g id=\"edge451\" class=\"edge\">\n<title>450&#45;&gt;451</title>\n<path fill=\"none\" stroke=\"#000000\" d=\"M24929.7873,-608.9465C24923.2727,-600.1475 24916.1795,-590.5672 24909.3918,-581.3993\"/>\n<polygon fill=\"#000000\" stroke=\"#000000\" points=\"24912.0327,-579.0843 24903.2693,-573.13 24906.4069,-583.2496 24912.0327,-579.0843\"/>\n</g>\n<!-- 456 -->\n<g id=\"node457\" class=\"node\">\n<title>456</title>\n<polygon fill=\"#399de5\" stroke=\"#000000\" points=\"25102,-573 24962,-573 24962,-505 25102,-505 25102,-573\"/>\n<text text-anchor=\"middle\" x=\"25032\" y=\"-557.8\" font-family=\"Helvetica,sans-Serif\" font-size=\"14.00\" fill=\"#000000\">X[13] &lt;= 0.247</text>\n<text text-anchor=\"middle\" x=\"25032\" y=\"-542.8\" font-family=\"Helvetica,sans-Serif\" font-size=\"14.00\" fill=\"#000000\">entropy = 0.011</text>\n<text text-anchor=\"middle\" x=\"25032\" y=\"-527.8\" font-family=\"Helvetica,sans-Serif\" font-size=\"14.00\" fill=\"#000000\">samples = 60741</text>\n<text text-anchor=\"middle\" x=\"25032\" y=\"-512.8\" font-family=\"Helvetica,sans-Serif\" font-size=\"14.00\" fill=\"#000000\">value = [58, 60683]</text>\n</g>\n<!-- 450&#45;&gt;456 -->\n<g id=\"edge456\" class=\"edge\">\n<title>450&#45;&gt;456</title>\n<path fill=\"none\" stroke=\"#000000\" d=\"M24980.2127,-608.9465C24986.7273,-600.1475 24993.8205,-590.5672 25000.6082,-581.3993\"/>\n<polygon fill=\"#000000\" stroke=\"#000000\" points=\"25003.5931,-583.2496 25006.7307,-573.13 24997.9673,-579.0843 25003.5931,-583.2496\"/>\n</g>\n<!-- 452 -->\n<g id=\"node453\" class=\"node\">\n<title>452</title>\n<polygon fill=\"#399de5\" stroke=\"#000000\" points=\"24794,-469 24678,-469 24678,-401 24794,-401 24794,-469\"/>\n<text text-anchor=\"middle\" x=\"24736\" y=\"-453.8\" font-family=\"Helvetica,sans-Serif\" font-size=\"14.00\" fill=\"#000000\">X[13] &lt;= &#45;0.136</text>\n<text text-anchor=\"middle\" x=\"24736\" y=\"-438.8\" font-family=\"Helvetica,sans-Serif\" font-size=\"14.00\" fill=\"#000000\">entropy = 0.02</text>\n<text text-anchor=\"middle\" x=\"24736\" y=\"-423.8\" font-family=\"Helvetica,sans-Serif\" font-size=\"14.00\" fill=\"#000000\">samples = 533</text>\n<text text-anchor=\"middle\" x=\"24736\" y=\"-408.8\" font-family=\"Helvetica,sans-Serif\" font-size=\"14.00\" fill=\"#000000\">value = [1, 532]</text>\n</g>\n<!-- 451&#45;&gt;452 -->\n<g id=\"edge452\" class=\"edge\">\n<title>451&#45;&gt;452</title>\n<path fill=\"none\" stroke=\"#000000\" d=\"M24831.5039,-504.9465C24818.5092,-495.4293 24804.2663,-484.9978 24790.8379,-475.163\"/>\n<polygon fill=\"#000000\" stroke=\"#000000\" points=\"24792.7363,-472.2151 24782.6006,-469.13 24788.6002,-477.8624 24792.7363,-472.2151\"/>\n</g>\n<!-- 455 -->\n<g id=\"node456\" class=\"node\">\n<title>455</title>\n<polygon fill=\"#399de5\" stroke=\"#000000\" points=\"24944,-461.5 24812,-461.5 24812,-408.5 24944,-408.5 24944,-461.5\"/>\n<text text-anchor=\"middle\" x=\"24878\" y=\"-446.3\" font-family=\"Helvetica,sans-Serif\" font-size=\"14.00\" fill=\"#000000\">entropy = 0.0</text>\n<text text-anchor=\"middle\" x=\"24878\" y=\"-431.3\" font-family=\"Helvetica,sans-Serif\" font-size=\"14.00\" fill=\"#000000\">samples = 19312</text>\n<text text-anchor=\"middle\" x=\"24878\" y=\"-416.3\" font-family=\"Helvetica,sans-Serif\" font-size=\"14.00\" fill=\"#000000\">value = [0, 19312]</text>\n</g>\n<!-- 451&#45;&gt;455 -->\n<g id=\"edge455\" class=\"edge\">\n<title>451&#45;&gt;455</title>\n<path fill=\"none\" stroke=\"#000000\" d=\"M24878,-504.9465C24878,-494.2621 24878,-482.4254 24878,-471.5742\"/>\n<polygon fill=\"#000000\" stroke=\"#000000\" points=\"24881.5001,-471.5421 24878,-461.5422 24874.5001,-471.5422 24881.5001,-471.5421\"/>\n</g>\n<!-- 453 -->\n<g id=\"node454\" class=\"node\">\n<title>453</title>\n<polygon fill=\"#399de5\" stroke=\"#000000\" points=\"24669,-357.5 24553,-357.5 24553,-304.5 24669,-304.5 24669,-357.5\"/>\n<text text-anchor=\"middle\" x=\"24611\" y=\"-342.3\" font-family=\"Helvetica,sans-Serif\" font-size=\"14.00\" fill=\"#000000\">entropy = 0.0</text>\n<text text-anchor=\"middle\" x=\"24611\" y=\"-327.3\" font-family=\"Helvetica,sans-Serif\" font-size=\"14.00\" fill=\"#000000\">samples = 532</text>\n<text text-anchor=\"middle\" x=\"24611\" y=\"-312.3\" font-family=\"Helvetica,sans-Serif\" font-size=\"14.00\" fill=\"#000000\">value = [0, 532]</text>\n</g>\n<!-- 452&#45;&gt;453 -->\n<g id=\"edge453\" class=\"edge\">\n<title>452&#45;&gt;453</title>\n<path fill=\"none\" stroke=\"#000000\" d=\"M24695.0703,-400.9465C24680.9045,-389.1606 24665.0537,-375.9726 24650.9662,-364.2519\"/>\n<polygon fill=\"#000000\" stroke=\"#000000\" points=\"24652.8275,-361.2474 24642.9016,-357.5422 24648.3504,-366.6285 24652.8275,-361.2474\"/>\n</g>\n<!-- 454 -->\n<g id=\"node455\" class=\"node\">\n<title>454</title>\n<polygon fill=\"#e58139\" stroke=\"#000000\" points=\"24788.5,-357.5 24687.5,-357.5 24687.5,-304.5 24788.5,-304.5 24788.5,-357.5\"/>\n<text text-anchor=\"middle\" x=\"24738\" y=\"-342.3\" font-family=\"Helvetica,sans-Serif\" font-size=\"14.00\" fill=\"#000000\">entropy = 0.0</text>\n<text text-anchor=\"middle\" x=\"24738\" y=\"-327.3\" font-family=\"Helvetica,sans-Serif\" font-size=\"14.00\" fill=\"#000000\">samples = 1</text>\n<text text-anchor=\"middle\" x=\"24738\" y=\"-312.3\" font-family=\"Helvetica,sans-Serif\" font-size=\"14.00\" fill=\"#000000\">value = [1, 0]</text>\n</g>\n<!-- 452&#45;&gt;454 -->\n<g id=\"edge454\" class=\"edge\">\n<title>452&#45;&gt;454</title>\n<path fill=\"none\" stroke=\"#000000\" d=\"M24736.6549,-400.9465C24736.8603,-390.2621 24737.088,-378.4254 24737.2966,-367.5742\"/>\n<polygon fill=\"#000000\" stroke=\"#000000\" points=\"24740.7966,-367.6076 24737.4896,-357.5422 24733.7979,-367.473 24740.7966,-367.6076\"/>\n</g>\n<!-- 457 -->\n<g id=\"node458\" class=\"node\">\n<title>457</title>\n<polygon fill=\"#399de5\" stroke=\"#000000\" points=\"25102,-469 24962,-469 24962,-401 25102,-401 25102,-469\"/>\n<text text-anchor=\"middle\" x=\"25032\" y=\"-453.8\" font-family=\"Helvetica,sans-Serif\" font-size=\"14.00\" fill=\"#000000\">X[0] &lt;= 0.446</text>\n<text text-anchor=\"middle\" x=\"25032\" y=\"-438.8\" font-family=\"Helvetica,sans-Serif\" font-size=\"14.00\" fill=\"#000000\">entropy = 0.022</text>\n<text text-anchor=\"middle\" x=\"25032\" y=\"-423.8\" font-family=\"Helvetica,sans-Serif\" font-size=\"14.00\" fill=\"#000000\">samples = 12443</text>\n<text text-anchor=\"middle\" x=\"25032\" y=\"-408.8\" font-family=\"Helvetica,sans-Serif\" font-size=\"14.00\" fill=\"#000000\">value = [27, 12416]</text>\n</g>\n<!-- 456&#45;&gt;457 -->\n<g id=\"edge457\" class=\"edge\">\n<title>456&#45;&gt;457</title>\n<path fill=\"none\" stroke=\"#000000\" d=\"M25032,-504.9465C25032,-496.776 25032,-487.9318 25032,-479.3697\"/>\n<polygon fill=\"#000000\" stroke=\"#000000\" points=\"25035.5001,-479.13 25032,-469.13 25028.5001,-479.13 25035.5001,-479.13\"/>\n</g>\n<!-- 474 -->\n<g id=\"node475\" class=\"node\">\n<title>474</title>\n<polygon fill=\"#399de5\" stroke=\"#000000\" points=\"25745,-469 25605,-469 25605,-401 25745,-401 25745,-469\"/>\n<text text-anchor=\"middle\" x=\"25675\" y=\"-453.8\" font-family=\"Helvetica,sans-Serif\" font-size=\"14.00\" fill=\"#000000\">X[2] &lt;= 1.3</text>\n<text text-anchor=\"middle\" x=\"25675\" y=\"-438.8\" font-family=\"Helvetica,sans-Serif\" font-size=\"14.00\" fill=\"#000000\">entropy = 0.008</text>\n<text text-anchor=\"middle\" x=\"25675\" y=\"-423.8\" font-family=\"Helvetica,sans-Serif\" font-size=\"14.00\" fill=\"#000000\">samples = 48298</text>\n<text text-anchor=\"middle\" x=\"25675\" y=\"-408.8\" font-family=\"Helvetica,sans-Serif\" font-size=\"14.00\" fill=\"#000000\">value = [31, 48267]</text>\n</g>\n<!-- 456&#45;&gt;474 -->\n<g id=\"edge474\" class=\"edge\">\n<title>456&#45;&gt;474</title>\n<path fill=\"none\" stroke=\"#000000\" d=\"M25102.0363,-527.6722C25222.3032,-508.22 25467.3863,-468.5798 25594.4987,-448.0204\"/>\n<polygon fill=\"#000000\" stroke=\"#000000\" points=\"25595.2485,-451.4447 25604.5614,-446.3929 25594.1308,-444.5345 25595.2485,-451.4447\"/>\n</g>\n<!-- 458 -->\n<g id=\"node459\" class=\"node\">\n<title>458</title>\n<polygon fill=\"#399de5\" stroke=\"#000000\" points=\"24949,-365 24809,-365 24809,-297 24949,-297 24949,-365\"/>\n<text text-anchor=\"middle\" x=\"24879\" y=\"-349.8\" font-family=\"Helvetica,sans-Serif\" font-size=\"14.00\" fill=\"#000000\">X[0] &lt;= &#45;0.943</text>\n<text text-anchor=\"middle\" x=\"24879\" y=\"-334.8\" font-family=\"Helvetica,sans-Serif\" font-size=\"14.00\" fill=\"#000000\">entropy = 0.012</text>\n<text text-anchor=\"middle\" x=\"24879\" y=\"-319.8\" font-family=\"Helvetica,sans-Serif\" font-size=\"14.00\" fill=\"#000000\">samples = 11740</text>\n<text text-anchor=\"middle\" x=\"24879\" y=\"-304.8\" font-family=\"Helvetica,sans-Serif\" font-size=\"14.00\" fill=\"#000000\">value = [12, 11728]</text>\n</g>\n<!-- 457&#45;&gt;458 -->\n<g id=\"edge458\" class=\"edge\">\n<title>457&#45;&gt;458</title>\n<path fill=\"none\" stroke=\"#000000\" d=\"M24981.9021,-400.9465C24967.7687,-391.3395 24952.2648,-380.8009 24937.6767,-370.8848\"/>\n<polygon fill=\"#000000\" stroke=\"#000000\" points=\"24939.4483,-367.8571 24929.2105,-365.13 24935.5132,-373.6463 24939.4483,-367.8571\"/>\n</g>\n<!-- 467 -->\n<g id=\"node468\" class=\"node\">\n<title>467</title>\n<polygon fill=\"#3d9fe6\" stroke=\"#000000\" points=\"25094,-365 24970,-365 24970,-297 25094,-297 25094,-365\"/>\n<text text-anchor=\"middle\" x=\"25032\" y=\"-349.8\" font-family=\"Helvetica,sans-Serif\" font-size=\"14.00\" fill=\"#000000\">X[11] &lt;= 1.137</text>\n<text text-anchor=\"middle\" x=\"25032\" y=\"-334.8\" font-family=\"Helvetica,sans-Serif\" font-size=\"14.00\" fill=\"#000000\">entropy = 0.149</text>\n<text text-anchor=\"middle\" x=\"25032\" y=\"-319.8\" font-family=\"Helvetica,sans-Serif\" font-size=\"14.00\" fill=\"#000000\">samples = 703</text>\n<text text-anchor=\"middle\" x=\"25032\" y=\"-304.8\" font-family=\"Helvetica,sans-Serif\" font-size=\"14.00\" fill=\"#000000\">value = [15, 688]</text>\n</g>\n<!-- 457&#45;&gt;467 -->\n<g id=\"edge467\" class=\"edge\">\n<title>457&#45;&gt;467</title>\n<path fill=\"none\" stroke=\"#000000\" d=\"M25032,-400.9465C25032,-392.776 25032,-383.9318 25032,-375.3697\"/>\n<polygon fill=\"#000000\" stroke=\"#000000\" points=\"25035.5001,-375.13 25032,-365.13 25028.5001,-375.13 25035.5001,-375.13\"/>\n</g>\n<!-- 459 -->\n<g id=\"node460\" class=\"node\">\n<title>459</title>\n<polygon fill=\"#399de5\" stroke=\"#000000\" points=\"24795,-253.5 24671,-253.5 24671,-200.5 24795,-200.5 24795,-253.5\"/>\n<text text-anchor=\"middle\" x=\"24733\" y=\"-238.3\" font-family=\"Helvetica,sans-Serif\" font-size=\"14.00\" fill=\"#000000\">entropy = 0.0</text>\n<text text-anchor=\"middle\" x=\"24733\" y=\"-223.3\" font-family=\"Helvetica,sans-Serif\" font-size=\"14.00\" fill=\"#000000\">samples = 6131</text>\n<text text-anchor=\"middle\" x=\"24733\" y=\"-208.3\" font-family=\"Helvetica,sans-Serif\" font-size=\"14.00\" fill=\"#000000\">value = [0, 6131]</text>\n</g>\n<!-- 458&#45;&gt;459 -->\n<g id=\"edge459\" class=\"edge\">\n<title>458&#45;&gt;459</title>\n<path fill=\"none\" stroke=\"#000000\" d=\"M24831.1941,-296.9465C24814.3392,-284.9403 24795.4419,-271.4791 24778.7601,-259.5962\"/>\n<polygon fill=\"#000000\" stroke=\"#000000\" points=\"24780.4367,-256.4933 24770.2611,-253.5422 24776.3753,-262.1947 24780.4367,-256.4933\"/>\n</g>\n<!-- 460 -->\n<g id=\"node461\" class=\"node\">\n<title>460</title>\n<polygon fill=\"#399de5\" stroke=\"#000000\" points=\"24945,-261 24813,-261 24813,-193 24945,-193 24945,-261\"/>\n<text text-anchor=\"middle\" x=\"24879\" y=\"-245.8\" font-family=\"Helvetica,sans-Serif\" font-size=\"14.00\" fill=\"#000000\">X[11] &lt;= &#45;0.269</text>\n<text text-anchor=\"middle\" x=\"24879\" y=\"-230.8\" font-family=\"Helvetica,sans-Serif\" font-size=\"14.00\" fill=\"#000000\">entropy = 0.022</text>\n<text text-anchor=\"middle\" x=\"24879\" y=\"-215.8\" font-family=\"Helvetica,sans-Serif\" font-size=\"14.00\" fill=\"#000000\">samples = 5609</text>\n<text text-anchor=\"middle\" x=\"24879\" y=\"-200.8\" font-family=\"Helvetica,sans-Serif\" font-size=\"14.00\" fill=\"#000000\">value = [12, 5597]</text>\n</g>\n<!-- 458&#45;&gt;460 -->\n<g id=\"edge460\" class=\"edge\">\n<title>458&#45;&gt;460</title>\n<path fill=\"none\" stroke=\"#000000\" d=\"M24879,-296.9465C24879,-288.776 24879,-279.9318 24879,-271.3697\"/>\n<polygon fill=\"#000000\" stroke=\"#000000\" points=\"24882.5001,-271.13 24879,-261.13 24875.5001,-271.13 24882.5001,-271.13\"/>\n</g>\n<!-- 461 -->\n<g id=\"node462\" class=\"node\">\n<title>461</title>\n<polygon fill=\"#3ea0e6\" stroke=\"#000000\" points=\"24743,-157 24625,-157 24625,-89 24743,-89 24743,-157\"/>\n<text text-anchor=\"middle\" x=\"24684\" y=\"-141.8\" font-family=\"Helvetica,sans-Serif\" font-size=\"14.00\" fill=\"#000000\">X[3] &lt;= &#45;0.596</text>\n<text text-anchor=\"middle\" x=\"24684\" y=\"-126.8\" font-family=\"Helvetica,sans-Serif\" font-size=\"14.00\" fill=\"#000000\">entropy = 0.175</text>\n<text text-anchor=\"middle\" x=\"24684\" y=\"-111.8\" font-family=\"Helvetica,sans-Serif\" font-size=\"14.00\" fill=\"#000000\">samples = 306</text>\n<text text-anchor=\"middle\" x=\"24684\" y=\"-96.8\" font-family=\"Helvetica,sans-Serif\" font-size=\"14.00\" fill=\"#000000\">value = [8, 298]</text>\n</g>\n<!-- 460&#45;&gt;461 -->\n<g id=\"edge461\" class=\"edge\">\n<title>460&#45;&gt;461</title>\n<path fill=\"none\" stroke=\"#000000\" d=\"M24815.1497,-192.9465C24794.9276,-182.1614 24772.5043,-170.2023 24752.0021,-159.2678\"/>\n<polygon fill=\"#000000\" stroke=\"#000000\" points=\"24753.5104,-156.1056 24743.0398,-154.4879 24750.2162,-162.282 24753.5104,-156.1056\"/>\n</g>\n<!-- 464 -->\n<g id=\"node465\" class=\"node\">\n<title>464</title>\n<polygon fill=\"#399de5\" stroke=\"#000000\" points=\"24941,-157 24817,-157 24817,-89 24941,-89 24941,-157\"/>\n<text text-anchor=\"middle\" x=\"24879\" y=\"-141.8\" font-family=\"Helvetica,sans-Serif\" font-size=\"14.00\" fill=\"#000000\">X[6] &lt;= &#45;0.927</text>\n<text text-anchor=\"middle\" x=\"24879\" y=\"-126.8\" font-family=\"Helvetica,sans-Serif\" font-size=\"14.00\" fill=\"#000000\">entropy = 0.009</text>\n<text text-anchor=\"middle\" x=\"24879\" y=\"-111.8\" font-family=\"Helvetica,sans-Serif\" font-size=\"14.00\" fill=\"#000000\">samples = 5303</text>\n<text text-anchor=\"middle\" x=\"24879\" y=\"-96.8\" font-family=\"Helvetica,sans-Serif\" font-size=\"14.00\" fill=\"#000000\">value = [4, 5299]</text>\n</g>\n<!-- 460&#45;&gt;464 -->\n<g id=\"edge464\" class=\"edge\">\n<title>460&#45;&gt;464</title>\n<path fill=\"none\" stroke=\"#000000\" d=\"M24879,-192.9465C24879,-184.776 24879,-175.9318 24879,-167.3697\"/>\n<polygon fill=\"#000000\" stroke=\"#000000\" points=\"24882.5001,-167.13 24879,-157.13 24875.5001,-167.13 24882.5001,-167.13\"/>\n</g>\n<!-- 462 -->\n<g id=\"node463\" class=\"node\">\n<title>462</title>\n<polygon fill=\"#3a9ee5\" stroke=\"#000000\" points=\"24607,-53 24489,-53 24489,0 24607,0 24607,-53\"/>\n<text text-anchor=\"middle\" x=\"24548\" y=\"-37.8\" font-family=\"Helvetica,sans-Serif\" font-size=\"14.00\" fill=\"#000000\">entropy = 0.059</text>\n<text text-anchor=\"middle\" x=\"24548\" y=\"-22.8\" font-family=\"Helvetica,sans-Serif\" font-size=\"14.00\" fill=\"#000000\">samples = 292</text>\n<text text-anchor=\"middle\" x=\"24548\" y=\"-7.8\" font-family=\"Helvetica,sans-Serif\" font-size=\"14.00\" fill=\"#000000\">value = [2, 290]</text>\n</g>\n<!-- 461&#45;&gt;462 -->\n<g id=\"edge462\" class=\"edge\">\n<title>461&#45;&gt;462</title>\n<path fill=\"none\" stroke=\"#000000\" d=\"M24636.0515,-88.9777C24622.372,-79.2713 24607.5036,-68.7213 24593.9466,-59.1018\"/>\n<polygon fill=\"#000000\" stroke=\"#000000\" points=\"24595.8783,-56.1809 24585.6973,-53.2485 24591.8275,-61.8898 24595.8783,-56.1809\"/>\n</g>\n<!-- 463 -->\n<g id=\"node464\" class=\"node\">\n<title>463</title>\n<polygon fill=\"#cee6f8\" stroke=\"#000000\" points=\"24743,-53 24625,-53 24625,0 24743,0 24743,-53\"/>\n<text text-anchor=\"middle\" x=\"24684\" y=\"-37.8\" font-family=\"Helvetica,sans-Serif\" font-size=\"14.00\" fill=\"#000000\">entropy = 0.985</text>\n<text text-anchor=\"middle\" x=\"24684\" y=\"-22.8\" font-family=\"Helvetica,sans-Serif\" font-size=\"14.00\" fill=\"#000000\">samples = 14</text>\n<text text-anchor=\"middle\" x=\"24684\" y=\"-7.8\" font-family=\"Helvetica,sans-Serif\" font-size=\"14.00\" fill=\"#000000\">value = [6, 8]</text>\n</g>\n<!-- 461&#45;&gt;463 -->\n<g id=\"edge463\" class=\"edge\">\n<title>461&#45;&gt;463</title>\n<path fill=\"none\" stroke=\"#000000\" d=\"M24684,-88.9777C24684,-80.7364 24684,-71.887 24684,-63.5153\"/>\n<polygon fill=\"#000000\" stroke=\"#000000\" points=\"24687.5001,-63.2484 24684,-53.2485 24680.5001,-63.2485 24687.5001,-63.2484\"/>\n</g>\n<!-- 465 -->\n<g id=\"node466\" class=\"node\">\n<title>465</title>\n<polygon fill=\"#45a3e7\" stroke=\"#000000\" points=\"24871,-53 24761,-53 24761,0 24871,0 24871,-53\"/>\n<text text-anchor=\"middle\" x=\"24816\" y=\"-37.8\" font-family=\"Helvetica,sans-Serif\" font-size=\"14.00\" fill=\"#000000\">entropy = 0.31</text>\n<text text-anchor=\"middle\" x=\"24816\" y=\"-22.8\" font-family=\"Helvetica,sans-Serif\" font-size=\"14.00\" fill=\"#000000\">samples = 18</text>\n<text text-anchor=\"middle\" x=\"24816\" y=\"-7.8\" font-family=\"Helvetica,sans-Serif\" font-size=\"14.00\" fill=\"#000000\">value = [1, 17]</text>\n</g>\n<!-- 464&#45;&gt;465 -->\n<g id=\"edge465\" class=\"edge\">\n<title>464&#45;&gt;465</title>\n<path fill=\"none\" stroke=\"#000000\" d=\"M24856.7886,-88.9777C24851.0496,-80.187 24844.8588,-70.7044 24839.0767,-61.8477\"/>\n<polygon fill=\"#000000\" stroke=\"#000000\" points=\"24841.8602,-59.7087 24833.4627,-53.2485 24835.9987,-63.5354 24841.8602,-59.7087\"/>\n</g>\n<!-- 466 -->\n<g id=\"node467\" class=\"node\">\n<title>466</title>\n<polygon fill=\"#399de5\" stroke=\"#000000\" points=\"25013,-53 24889,-53 24889,0 25013,0 25013,-53\"/>\n<text text-anchor=\"middle\" x=\"24951\" y=\"-37.8\" font-family=\"Helvetica,sans-Serif\" font-size=\"14.00\" fill=\"#000000\">entropy = 0.007</text>\n<text text-anchor=\"middle\" x=\"24951\" y=\"-22.8\" font-family=\"Helvetica,sans-Serif\" font-size=\"14.00\" fill=\"#000000\">samples = 5285</text>\n<text text-anchor=\"middle\" x=\"24951\" y=\"-7.8\" font-family=\"Helvetica,sans-Serif\" font-size=\"14.00\" fill=\"#000000\">value = [3, 5282]</text>\n</g>\n<!-- 464&#45;&gt;466 -->\n<g id=\"edge466\" class=\"edge\">\n<title>464&#45;&gt;466</title>\n<path fill=\"none\" stroke=\"#000000\" d=\"M24904.3845,-88.9777C24911.08,-80.0039 24918.3135,-70.3089 24925.039,-61.295\"/>\n<polygon fill=\"#000000\" stroke=\"#000000\" points=\"24927.8677,-63.3565 24931.0426,-53.2485 24922.2573,-59.1704 24927.8677,-63.3565\"/>\n</g>\n<!-- 468 -->\n<g id=\"node469\" class=\"node\">\n<title>468</title>\n<polygon fill=\"#f3c4a3\" stroke=\"#000000\" points=\"25086,-261 24968,-261 24968,-193 25086,-193 25086,-261\"/>\n<text text-anchor=\"middle\" x=\"25027\" y=\"-245.8\" font-family=\"Helvetica,sans-Serif\" font-size=\"14.00\" fill=\"#000000\">X[10] &lt;= &#45;0.094</text>\n<text text-anchor=\"middle\" x=\"25027\" y=\"-230.8\" font-family=\"Helvetica,sans-Serif\" font-size=\"14.00\" fill=\"#000000\">entropy = 0.932</text>\n<text text-anchor=\"middle\" x=\"25027\" y=\"-215.8\" font-family=\"Helvetica,sans-Serif\" font-size=\"14.00\" fill=\"#000000\">samples = 23</text>\n<text text-anchor=\"middle\" x=\"25027\" y=\"-200.8\" font-family=\"Helvetica,sans-Serif\" font-size=\"14.00\" fill=\"#000000\">value = [15, 8]</text>\n</g>\n<!-- 467&#45;&gt;468 -->\n<g id=\"edge468\" class=\"edge\">\n<title>467&#45;&gt;468</title>\n<path fill=\"none\" stroke=\"#000000\" d=\"M25030.3628,-296.9465C25029.97,-288.776 25029.5448,-279.9318 25029.1332,-271.3697\"/>\n<polygon fill=\"#000000\" stroke=\"#000000\" points=\"25032.6171,-270.9504 25028.6409,-261.13 25025.6252,-271.2866 25032.6171,-270.9504\"/>\n</g>\n<!-- 473 -->\n<g id=\"node474\" class=\"node\">\n<title>473</title>\n<polygon fill=\"#399de5\" stroke=\"#000000\" points=\"25220,-253.5 25104,-253.5 25104,-200.5 25220,-200.5 25220,-253.5\"/>\n<text text-anchor=\"middle\" x=\"25162\" y=\"-238.3\" font-family=\"Helvetica,sans-Serif\" font-size=\"14.00\" fill=\"#000000\">entropy = 0.0</text>\n<text text-anchor=\"middle\" x=\"25162\" y=\"-223.3\" font-family=\"Helvetica,sans-Serif\" font-size=\"14.00\" fill=\"#000000\">samples = 680</text>\n<text text-anchor=\"middle\" x=\"25162\" y=\"-208.3\" font-family=\"Helvetica,sans-Serif\" font-size=\"14.00\" fill=\"#000000\">value = [0, 680]</text>\n</g>\n<!-- 467&#45;&gt;473 -->\n<g id=\"edge473\" class=\"edge\">\n<title>467&#45;&gt;473</title>\n<path fill=\"none\" stroke=\"#000000\" d=\"M25074.5669,-296.9465C25089.437,-285.0504 25106.0925,-271.726 25120.8454,-259.9237\"/>\n<polygon fill=\"#000000\" stroke=\"#000000\" points=\"25123.2,-262.5222 25128.8223,-253.5422 25118.8271,-257.0561 25123.2,-262.5222\"/>\n</g>\n<!-- 469 -->\n<g id=\"node470\" class=\"node\">\n<title>469</title>\n<polygon fill=\"#e58139\" stroke=\"#000000\" points=\"25069.5,-149.5 24968.5,-149.5 24968.5,-96.5 25069.5,-96.5 25069.5,-149.5\"/>\n<text text-anchor=\"middle\" x=\"25019\" y=\"-134.3\" font-family=\"Helvetica,sans-Serif\" font-size=\"14.00\" fill=\"#000000\">entropy = 0.0</text>\n<text text-anchor=\"middle\" x=\"25019\" y=\"-119.3\" font-family=\"Helvetica,sans-Serif\" font-size=\"14.00\" fill=\"#000000\">samples = 7</text>\n<text text-anchor=\"middle\" x=\"25019\" y=\"-104.3\" font-family=\"Helvetica,sans-Serif\" font-size=\"14.00\" fill=\"#000000\">value = [7, 0]</text>\n</g>\n<!-- 468&#45;&gt;469 -->\n<g id=\"edge469\" class=\"edge\">\n<title>468&#45;&gt;469</title>\n<path fill=\"none\" stroke=\"#000000\" d=\"M25024.3805,-192.9465C25023.5586,-182.2621 25022.6481,-170.4254 25021.8134,-159.5742\"/>\n<polygon fill=\"#000000\" stroke=\"#000000\" points=\"25025.2985,-159.2442 25021.0417,-149.5422 25018.3191,-159.7812 25025.2985,-159.2442\"/>\n</g>\n<!-- 470 -->\n<g id=\"node471\" class=\"node\">\n<title>470</title>\n<polygon fill=\"#ffffff\" stroke=\"#000000\" points=\"25192,-157 25088,-157 25088,-89 25192,-89 25192,-157\"/>\n<text text-anchor=\"middle\" x=\"25140\" y=\"-141.8\" font-family=\"Helvetica,sans-Serif\" font-size=\"14.00\" fill=\"#000000\">X[6] &lt;= 0.19</text>\n<text text-anchor=\"middle\" x=\"25140\" y=\"-126.8\" font-family=\"Helvetica,sans-Serif\" font-size=\"14.00\" fill=\"#000000\">entropy = 1.0</text>\n<text text-anchor=\"middle\" x=\"25140\" y=\"-111.8\" font-family=\"Helvetica,sans-Serif\" font-size=\"14.00\" fill=\"#000000\">samples = 16</text>\n<text text-anchor=\"middle\" x=\"25140\" y=\"-96.8\" font-family=\"Helvetica,sans-Serif\" font-size=\"14.00\" fill=\"#000000\">value = [8, 8]</text>\n</g>\n<!-- 468&#45;&gt;470 -->\n<g id=\"edge470\" class=\"edge\">\n<title>468&#45;&gt;470</title>\n<path fill=\"none\" stroke=\"#000000\" d=\"M25064.0004,-192.9465C25074.0486,-183.6986 25085.0347,-173.5876 25095.4526,-163.9994\"/>\n<polygon fill=\"#000000\" stroke=\"#000000\" points=\"25097.9286,-166.4773 25102.9164,-157.13 25093.1882,-161.3267 25097.9286,-166.4773\"/>\n</g>\n<!-- 471 -->\n<g id=\"node472\" class=\"node\">\n<title>471</title>\n<polygon fill=\"#399de5\" stroke=\"#000000\" points=\"25132.5,-53 25031.5,-53 25031.5,0 25132.5,0 25132.5,-53\"/>\n<text text-anchor=\"middle\" x=\"25082\" y=\"-37.8\" font-family=\"Helvetica,sans-Serif\" font-size=\"14.00\" fill=\"#000000\">entropy = 0.0</text>\n<text text-anchor=\"middle\" x=\"25082\" y=\"-22.8\" font-family=\"Helvetica,sans-Serif\" font-size=\"14.00\" fill=\"#000000\">samples = 6</text>\n<text text-anchor=\"middle\" x=\"25082\" y=\"-7.8\" font-family=\"Helvetica,sans-Serif\" font-size=\"14.00\" fill=\"#000000\">value = [0, 6]</text>\n</g>\n<!-- 470&#45;&gt;471 -->\n<g id=\"edge471\" class=\"edge\">\n<title>470&#45;&gt;471</title>\n<path fill=\"none\" stroke=\"#000000\" d=\"M25119.5514,-88.9777C25114.2678,-80.187 25108.5684,-70.7044 25103.2452,-61.8477\"/>\n<polygon fill=\"#000000\" stroke=\"#000000\" points=\"25106.2282,-60.0165 25098.0768,-53.2485 25100.2285,-63.6225 25106.2282,-60.0165\"/>\n</g>\n<!-- 472 -->\n<g id=\"node473\" class=\"node\">\n<title>472</title>\n<polygon fill=\"#eca06a\" stroke=\"#000000\" points=\"25269,-53 25151,-53 25151,0 25269,0 25269,-53\"/>\n<text text-anchor=\"middle\" x=\"25210\" y=\"-37.8\" font-family=\"Helvetica,sans-Serif\" font-size=\"14.00\" fill=\"#000000\">entropy = 0.722</text>\n<text text-anchor=\"middle\" x=\"25210\" y=\"-22.8\" font-family=\"Helvetica,sans-Serif\" font-size=\"14.00\" fill=\"#000000\">samples = 10</text>\n<text text-anchor=\"middle\" x=\"25210\" y=\"-7.8\" font-family=\"Helvetica,sans-Serif\" font-size=\"14.00\" fill=\"#000000\">value = [8, 2]</text>\n</g>\n<!-- 470&#45;&gt;472 -->\n<g id=\"edge472\" class=\"edge\">\n<title>470&#45;&gt;472</title>\n<path fill=\"none\" stroke=\"#000000\" d=\"M25164.6794,-88.9777C25171.1225,-80.0954 25178.078,-70.5067 25184.5598,-61.5711\"/>\n<polygon fill=\"#000000\" stroke=\"#000000\" points=\"25187.5583,-63.3982 25190.597,-53.2485 25181.8921,-59.288 25187.5583,-63.3982\"/>\n</g>\n<!-- 475 -->\n<g id=\"node476\" class=\"node\">\n<title>475</title>\n<polygon fill=\"#399de5\" stroke=\"#000000\" points=\"25745,-365 25605,-365 25605,-297 25745,-297 25745,-365\"/>\n<text text-anchor=\"middle\" x=\"25675\" y=\"-349.8\" font-family=\"Helvetica,sans-Serif\" font-size=\"14.00\" fill=\"#000000\">X[8] &lt;= &#45;0.837</text>\n<text text-anchor=\"middle\" x=\"25675\" y=\"-334.8\" font-family=\"Helvetica,sans-Serif\" font-size=\"14.00\" fill=\"#000000\">entropy = 0.006</text>\n<text text-anchor=\"middle\" x=\"25675\" y=\"-319.8\" font-family=\"Helvetica,sans-Serif\" font-size=\"14.00\" fill=\"#000000\">samples = 41303</text>\n<text text-anchor=\"middle\" x=\"25675\" y=\"-304.8\" font-family=\"Helvetica,sans-Serif\" font-size=\"14.00\" fill=\"#000000\">value = [19, 41284]</text>\n</g>\n<!-- 474&#45;&gt;475 -->\n<g id=\"edge475\" class=\"edge\">\n<title>474&#45;&gt;475</title>\n<path fill=\"none\" stroke=\"#000000\" d=\"M25675,-400.9465C25675,-392.776 25675,-383.9318 25675,-375.3697\"/>\n<polygon fill=\"#000000\" stroke=\"#000000\" points=\"25678.5001,-375.13 25675,-365.13 25671.5001,-375.13 25678.5001,-375.13\"/>\n</g>\n<!-- 488 -->\n<g id=\"node489\" class=\"node\">\n<title>488</title>\n<polygon fill=\"#399de5\" stroke=\"#000000\" points=\"26349,-365 26217,-365 26217,-297 26349,-297 26349,-365\"/>\n<text text-anchor=\"middle\" x=\"26283\" y=\"-349.8\" font-family=\"Helvetica,sans-Serif\" font-size=\"14.00\" fill=\"#000000\">X[6] &lt;= &#45;0.717</text>\n<text text-anchor=\"middle\" x=\"26283\" y=\"-334.8\" font-family=\"Helvetica,sans-Serif\" font-size=\"14.00\" fill=\"#000000\">entropy = 0.018</text>\n<text text-anchor=\"middle\" x=\"26283\" y=\"-319.8\" font-family=\"Helvetica,sans-Serif\" font-size=\"14.00\" fill=\"#000000\">samples = 6995</text>\n<text text-anchor=\"middle\" x=\"26283\" y=\"-304.8\" font-family=\"Helvetica,sans-Serif\" font-size=\"14.00\" fill=\"#000000\">value = [12, 6983]</text>\n</g>\n<!-- 474&#45;&gt;488 -->\n<g id=\"edge488\" class=\"edge\">\n<title>474&#45;&gt;488</title>\n<path fill=\"none\" stroke=\"#000000\" d=\"M25745.0421,-423.0191C25860.0344,-403.3494 26087.9182,-364.3692 26206.8031,-344.0337\"/>\n<polygon fill=\"#000000\" stroke=\"#000000\" points=\"26207.6481,-347.4401 26216.9148,-342.304 26206.4678,-340.5403 26207.6481,-347.4401\"/>\n</g>\n<!-- 476 -->\n<g id=\"node477\" class=\"node\">\n<title>476</title>\n<polygon fill=\"#3a9de5\" stroke=\"#000000\" points=\"25662,-261 25538,-261 25538,-193 25662,-193 25662,-261\"/>\n<text text-anchor=\"middle\" x=\"25600\" y=\"-245.8\" font-family=\"Helvetica,sans-Serif\" font-size=\"14.00\" fill=\"#000000\">X[6] &lt;= &#45;0.22</text>\n<text text-anchor=\"middle\" x=\"25600\" y=\"-230.8\" font-family=\"Helvetica,sans-Serif\" font-size=\"14.00\" fill=\"#000000\">entropy = 0.029</text>\n<text text-anchor=\"middle\" x=\"25600\" y=\"-215.8\" font-family=\"Helvetica,sans-Serif\" font-size=\"14.00\" fill=\"#000000\">samples = 1372</text>\n<text text-anchor=\"middle\" x=\"25600\" y=\"-200.8\" font-family=\"Helvetica,sans-Serif\" font-size=\"14.00\" fill=\"#000000\">value = [4, 1368]</text>\n</g>\n<!-- 475&#45;&gt;476 -->\n<g id=\"edge476\" class=\"edge\">\n<title>475&#45;&gt;476</title>\n<path fill=\"none\" stroke=\"#000000\" d=\"M25650.4422,-296.9465C25644.0968,-288.1475 25637.1879,-278.5672 25630.5764,-269.3993\"/>\n<polygon fill=\"#000000\" stroke=\"#000000\" points=\"25633.3011,-267.1937 25624.613,-261.13 25627.6234,-271.2882 25633.3011,-267.1937\"/>\n</g>\n<!-- 481 -->\n<g id=\"node482\" class=\"node\">\n<title>481</title>\n<polygon fill=\"#399de5\" stroke=\"#000000\" points=\"25820,-261 25680,-261 25680,-193 25820,-193 25820,-261\"/>\n<text text-anchor=\"middle\" x=\"25750\" y=\"-245.8\" font-family=\"Helvetica,sans-Serif\" font-size=\"14.00\" fill=\"#000000\">X[0] &lt;= &#45;0.133</text>\n<text text-anchor=\"middle\" x=\"25750\" y=\"-230.8\" font-family=\"Helvetica,sans-Serif\" font-size=\"14.00\" fill=\"#000000\">entropy = 0.005</text>\n<text text-anchor=\"middle\" x=\"25750\" y=\"-215.8\" font-family=\"Helvetica,sans-Serif\" font-size=\"14.00\" fill=\"#000000\">samples = 39931</text>\n<text text-anchor=\"middle\" x=\"25750\" y=\"-200.8\" font-family=\"Helvetica,sans-Serif\" font-size=\"14.00\" fill=\"#000000\">value = [15, 39916]</text>\n</g>\n<!-- 475&#45;&gt;481 -->\n<g id=\"edge481\" class=\"edge\">\n<title>475&#45;&gt;481</title>\n<path fill=\"none\" stroke=\"#000000\" d=\"M25699.5578,-296.9465C25705.9032,-288.1475 25712.8121,-278.5672 25719.4236,-269.3993\"/>\n<polygon fill=\"#000000\" stroke=\"#000000\" points=\"25722.3766,-271.2882 25725.387,-261.13 25716.6989,-267.1937 25722.3766,-271.2882\"/>\n</g>\n<!-- 477 -->\n<g id=\"node478\" class=\"node\">\n<title>477</title>\n<polygon fill=\"#3a9ee5\" stroke=\"#000000\" points=\"25528,-157 25410,-157 25410,-89 25528,-89 25528,-157\"/>\n<text text-anchor=\"middle\" x=\"25469\" y=\"-141.8\" font-family=\"Helvetica,sans-Serif\" font-size=\"14.00\" fill=\"#000000\">X[3] &lt;= 1.815</text>\n<text text-anchor=\"middle\" x=\"25469\" y=\"-126.8\" font-family=\"Helvetica,sans-Serif\" font-size=\"14.00\" fill=\"#000000\">entropy = 0.061</text>\n<text text-anchor=\"middle\" x=\"25469\" y=\"-111.8\" font-family=\"Helvetica,sans-Serif\" font-size=\"14.00\" fill=\"#000000\">samples = 561</text>\n<text text-anchor=\"middle\" x=\"25469\" y=\"-96.8\" font-family=\"Helvetica,sans-Serif\" font-size=\"14.00\" fill=\"#000000\">value = [4, 557]</text>\n</g>\n<!-- 476&#45;&gt;477 -->\n<g id=\"edge477\" class=\"edge\">\n<title>476&#45;&gt;477</title>\n<path fill=\"none\" stroke=\"#000000\" d=\"M25557.1057,-192.9465C25545.2307,-183.519 25532.2259,-173.1946 25519.9407,-163.4415\"/>\n<polygon fill=\"#000000\" stroke=\"#000000\" points=\"25521.9989,-160.6066 25511.9907,-157.13 25517.6464,-166.089 25521.9989,-160.6066\"/>\n</g>\n<!-- 480 -->\n<g id=\"node481\" class=\"node\">\n<title>480</title>\n<polygon fill=\"#399de5\" stroke=\"#000000\" points=\"25662,-149.5 25546,-149.5 25546,-96.5 25662,-96.5 25662,-149.5\"/>\n<text text-anchor=\"middle\" x=\"25604\" y=\"-134.3\" font-family=\"Helvetica,sans-Serif\" font-size=\"14.00\" fill=\"#000000\">entropy = 0.0</text>\n<text text-anchor=\"middle\" x=\"25604\" y=\"-119.3\" font-family=\"Helvetica,sans-Serif\" font-size=\"14.00\" fill=\"#000000\">samples = 811</text>\n<text text-anchor=\"middle\" x=\"25604\" y=\"-104.3\" font-family=\"Helvetica,sans-Serif\" font-size=\"14.00\" fill=\"#000000\">value = [0, 811]</text>\n</g>\n<!-- 476&#45;&gt;480 -->\n<g id=\"edge480\" class=\"edge\">\n<title>476&#45;&gt;480</title>\n<path fill=\"none\" stroke=\"#000000\" d=\"M25601.3097,-192.9465C25601.7207,-182.2621 25602.1759,-170.4254 25602.5933,-159.5742\"/>\n<polygon fill=\"#000000\" stroke=\"#000000\" points=\"25606.0921,-159.6693 25602.9791,-149.5422 25599.0973,-159.4002 25606.0921,-159.6693\"/>\n</g>\n<!-- 478 -->\n<g id=\"node479\" class=\"node\">\n<title>478</title>\n<polygon fill=\"#3a9ee5\" stroke=\"#000000\" points=\"25405,-53 25287,-53 25287,0 25405,0 25405,-53\"/>\n<text text-anchor=\"middle\" x=\"25346\" y=\"-37.8\" font-family=\"Helvetica,sans-Serif\" font-size=\"14.00\" fill=\"#000000\">entropy = 0.048</text>\n<text text-anchor=\"middle\" x=\"25346\" y=\"-22.8\" font-family=\"Helvetica,sans-Serif\" font-size=\"14.00\" fill=\"#000000\">samples = 560</text>\n<text text-anchor=\"middle\" x=\"25346\" y=\"-7.8\" font-family=\"Helvetica,sans-Serif\" font-size=\"14.00\" fill=\"#000000\">value = [3, 557]</text>\n</g>\n<!-- 477&#45;&gt;478 -->\n<g id=\"edge478\" class=\"edge\">\n<title>477&#45;&gt;478</title>\n<path fill=\"none\" stroke=\"#000000\" d=\"M25425.6348,-88.9777C25413.4964,-79.4545 25400.3228,-69.1191 25388.2499,-59.6473\"/>\n<polygon fill=\"#000000\" stroke=\"#000000\" points=\"25390.122,-56.6674 25380.0939,-53.2485 25385.8011,-62.1748 25390.122,-56.6674\"/>\n</g>\n<!-- 479 -->\n<g id=\"node480\" class=\"node\">\n<title>479</title>\n<polygon fill=\"#e58139\" stroke=\"#000000\" points=\"25524.5,-53 25423.5,-53 25423.5,0 25524.5,0 25524.5,-53\"/>\n<text text-anchor=\"middle\" x=\"25474\" y=\"-37.8\" font-family=\"Helvetica,sans-Serif\" font-size=\"14.00\" fill=\"#000000\">entropy = 0.0</text>\n<text text-anchor=\"middle\" x=\"25474\" y=\"-22.8\" font-family=\"Helvetica,sans-Serif\" font-size=\"14.00\" fill=\"#000000\">samples = 1</text>\n<text text-anchor=\"middle\" x=\"25474\" y=\"-7.8\" font-family=\"Helvetica,sans-Serif\" font-size=\"14.00\" fill=\"#000000\">value = [1, 0]</text>\n</g>\n<!-- 477&#45;&gt;479 -->\n<g id=\"edge479\" class=\"edge\">\n<title>477&#45;&gt;479</title>\n<path fill=\"none\" stroke=\"#000000\" d=\"M25470.7628,-88.9777C25471.1946,-80.6449 25471.6585,-71.6903 25472.0966,-63.2364\"/>\n<polygon fill=\"#000000\" stroke=\"#000000\" points=\"25475.5918,-63.4162 25472.6141,-53.2485 25468.6012,-63.0539 25475.5918,-63.4162\"/>\n</g>\n<!-- 482 -->\n<g id=\"node483\" class=\"node\">\n<title>482</title>\n<polygon fill=\"#399de5\" stroke=\"#000000\" points=\"25812,-157 25680,-157 25680,-89 25812,-89 25812,-157\"/>\n<text text-anchor=\"middle\" x=\"25746\" y=\"-141.8\" font-family=\"Helvetica,sans-Serif\" font-size=\"14.00\" fill=\"#000000\">X[3] &lt;= &#45;0.657</text>\n<text text-anchor=\"middle\" x=\"25746\" y=\"-126.8\" font-family=\"Helvetica,sans-Serif\" font-size=\"14.00\" fill=\"#000000\">entropy = 0.002</text>\n<text text-anchor=\"middle\" x=\"25746\" y=\"-111.8\" font-family=\"Helvetica,sans-Serif\" font-size=\"14.00\" fill=\"#000000\">samples = 17675</text>\n<text text-anchor=\"middle\" x=\"25746\" y=\"-96.8\" font-family=\"Helvetica,sans-Serif\" font-size=\"14.00\" fill=\"#000000\">value = [2, 17673]</text>\n</g>\n<!-- 481&#45;&gt;482 -->\n<g id=\"edge482\" class=\"edge\">\n<title>481&#45;&gt;482</title>\n<path fill=\"none\" stroke=\"#000000\" d=\"M25748.6903,-192.9465C25748.376,-184.776 25748.0358,-175.9318 25747.7065,-167.3697\"/>\n<polygon fill=\"#000000\" stroke=\"#000000\" points=\"25751.1945,-166.9881 25747.3127,-157.13 25744.1997,-167.2572 25751.1945,-166.9881\"/>\n</g>\n<!-- 485 -->\n<g id=\"node486\" class=\"node\">\n<title>485</title>\n<polygon fill=\"#399de5\" stroke=\"#000000\" points=\"25970,-157 25830,-157 25830,-89 25970,-89 25970,-157\"/>\n<text text-anchor=\"middle\" x=\"25900\" y=\"-141.8\" font-family=\"Helvetica,sans-Serif\" font-size=\"14.00\" fill=\"#000000\">X[11] &lt;= 0.568</text>\n<text text-anchor=\"middle\" x=\"25900\" y=\"-126.8\" font-family=\"Helvetica,sans-Serif\" font-size=\"14.00\" fill=\"#000000\">entropy = 0.007</text>\n<text text-anchor=\"middle\" x=\"25900\" y=\"-111.8\" font-family=\"Helvetica,sans-Serif\" font-size=\"14.00\" fill=\"#000000\">samples = 22256</text>\n<text text-anchor=\"middle\" x=\"25900\" y=\"-96.8\" font-family=\"Helvetica,sans-Serif\" font-size=\"14.00\" fill=\"#000000\">value = [13, 22243]</text>\n</g>\n<!-- 481&#45;&gt;485 -->\n<g id=\"edge485\" class=\"edge\">\n<title>481&#45;&gt;485</title>\n<path fill=\"none\" stroke=\"#000000\" d=\"M25799.1156,-192.9465C25812.9719,-183.3395 25828.1717,-172.8009 25842.4739,-162.8848\"/>\n<polygon fill=\"#000000\" stroke=\"#000000\" points=\"25844.5503,-165.7041 25850.774,-157.13 25840.5618,-159.9515 25844.5503,-165.7041\"/>\n</g>\n<!-- 483 -->\n<g id=\"node484\" class=\"node\">\n<title>483</title>\n<polygon fill=\"#399de5\" stroke=\"#000000\" points=\"25667,-53 25543,-53 25543,0 25667,0 25667,-53\"/>\n<text text-anchor=\"middle\" x=\"25605\" y=\"-37.8\" font-family=\"Helvetica,sans-Serif\" font-size=\"14.00\" fill=\"#000000\">entropy = 0.005</text>\n<text text-anchor=\"middle\" x=\"25605\" y=\"-22.8\" font-family=\"Helvetica,sans-Serif\" font-size=\"14.00\" fill=\"#000000\">samples = 5271</text>\n<text text-anchor=\"middle\" x=\"25605\" y=\"-7.8\" font-family=\"Helvetica,sans-Serif\" font-size=\"14.00\" fill=\"#000000\">value = [2, 5269]</text>\n</g>\n<!-- 482&#45;&gt;483 -->\n<g id=\"edge483\" class=\"edge\">\n<title>482&#45;&gt;483</title>\n<path fill=\"none\" stroke=\"#000000\" d=\"M25696.2887,-88.9777C25682.1063,-79.2713 25666.6912,-68.7213 25652.6358,-59.1018\"/>\n<polygon fill=\"#000000\" stroke=\"#000000\" points=\"25654.3124,-56.0081 25644.0833,-53.2485 25650.3589,-61.7847 25654.3124,-56.0081\"/>\n</g>\n<!-- 484 -->\n<g id=\"node485\" class=\"node\">\n<title>484</title>\n<polygon fill=\"#399de5\" stroke=\"#000000\" points=\"25817,-53 25685,-53 25685,0 25817,0 25817,-53\"/>\n<text text-anchor=\"middle\" x=\"25751\" y=\"-37.8\" font-family=\"Helvetica,sans-Serif\" font-size=\"14.00\" fill=\"#000000\">entropy = 0.0</text>\n<text text-anchor=\"middle\" x=\"25751\" y=\"-22.8\" font-family=\"Helvetica,sans-Serif\" font-size=\"14.00\" fill=\"#000000\">samples = 12404</text>\n<text text-anchor=\"middle\" x=\"25751\" y=\"-7.8\" font-family=\"Helvetica,sans-Serif\" font-size=\"14.00\" fill=\"#000000\">value = [0, 12404]</text>\n</g>\n<!-- 482&#45;&gt;484 -->\n<g id=\"edge484\" class=\"edge\">\n<title>482&#45;&gt;484</title>\n<path fill=\"none\" stroke=\"#000000\" d=\"M25747.7628,-88.9777C25748.1946,-80.6449 25748.6585,-71.6903 25749.0966,-63.2364\"/>\n<polygon fill=\"#000000\" stroke=\"#000000\" points=\"25752.5918,-63.4162 25749.6141,-53.2485 25745.6012,-63.0539 25752.5918,-63.4162\"/>\n</g>\n<!-- 486 -->\n<g id=\"node487\" class=\"node\">\n<title>486</title>\n<polygon fill=\"#4fa8e8\" stroke=\"#000000\" points=\"25953,-53 25835,-53 25835,0 25953,0 25953,-53\"/>\n<text text-anchor=\"middle\" x=\"25894\" y=\"-37.8\" font-family=\"Helvetica,sans-Serif\" font-size=\"14.00\" fill=\"#000000\">entropy = 0.469</text>\n<text text-anchor=\"middle\" x=\"25894\" y=\"-22.8\" font-family=\"Helvetica,sans-Serif\" font-size=\"14.00\" fill=\"#000000\">samples = 50</text>\n<text text-anchor=\"middle\" x=\"25894\" y=\"-7.8\" font-family=\"Helvetica,sans-Serif\" font-size=\"14.00\" fill=\"#000000\">value = [5, 45]</text>\n</g>\n<!-- 485&#45;&gt;486 -->\n<g id=\"edge486\" class=\"edge\">\n<title>485&#45;&gt;486</title>\n<path fill=\"none\" stroke=\"#000000\" d=\"M25897.8846,-88.9777C25897.3665,-80.6449 25896.8098,-71.6903 25896.2841,-63.2364\"/>\n<polygon fill=\"#000000\" stroke=\"#000000\" points=\"25899.777,-63.012 25895.6631,-53.2485 25892.7905,-63.4464 25899.777,-63.012\"/>\n</g>\n<!-- 487 -->\n<g id=\"node488\" class=\"node\">\n<title>487</title>\n<polygon fill=\"#399de5\" stroke=\"#000000\" points=\"26103,-53 25971,-53 25971,0 26103,0 26103,-53\"/>\n<text text-anchor=\"middle\" x=\"26037\" y=\"-37.8\" font-family=\"Helvetica,sans-Serif\" font-size=\"14.00\" fill=\"#000000\">entropy = 0.005</text>\n<text text-anchor=\"middle\" x=\"26037\" y=\"-22.8\" font-family=\"Helvetica,sans-Serif\" font-size=\"14.00\" fill=\"#000000\">samples = 22206</text>\n<text text-anchor=\"middle\" x=\"26037\" y=\"-7.8\" font-family=\"Helvetica,sans-Serif\" font-size=\"14.00\" fill=\"#000000\">value = [8, 22198]</text>\n</g>\n<!-- 485&#45;&gt;487 -->\n<g id=\"edge487\" class=\"edge\">\n<title>485&#45;&gt;487</title>\n<path fill=\"none\" stroke=\"#000000\" d=\"M25948.3011,-88.9777C25962.0811,-79.2713 25977.0589,-68.7213 25990.7155,-59.1018\"/>\n<polygon fill=\"#000000\" stroke=\"#000000\" points=\"25992.8655,-61.8686 25999.0255,-53.2485 25988.8345,-56.1457 25992.8655,-61.8686\"/>\n</g>\n<!-- 489 -->\n<g id=\"node490\" class=\"node\">\n<title>489</title>\n<polygon fill=\"#3c9ee5\" stroke=\"#000000\" points=\"26342,-261 26224,-261 26224,-193 26342,-193 26342,-261\"/>\n<text text-anchor=\"middle\" x=\"26283\" y=\"-245.8\" font-family=\"Helvetica,sans-Serif\" font-size=\"14.00\" fill=\"#000000\">X[11] &lt;= &#45;0.204</text>\n<text text-anchor=\"middle\" x=\"26283\" y=\"-230.8\" font-family=\"Helvetica,sans-Serif\" font-size=\"14.00\" fill=\"#000000\">entropy = 0.108</text>\n<text text-anchor=\"middle\" x=\"26283\" y=\"-215.8\" font-family=\"Helvetica,sans-Serif\" font-size=\"14.00\" fill=\"#000000\">samples = 211</text>\n<text text-anchor=\"middle\" x=\"26283\" y=\"-200.8\" font-family=\"Helvetica,sans-Serif\" font-size=\"14.00\" fill=\"#000000\">value = [3, 208]</text>\n</g>\n<!-- 488&#45;&gt;489 -->\n<g id=\"edge489\" class=\"edge\">\n<title>488&#45;&gt;489</title>\n<path fill=\"none\" stroke=\"#000000\" d=\"M26283,-296.9465C26283,-288.776 26283,-279.9318 26283,-271.3697\"/>\n<polygon fill=\"#000000\" stroke=\"#000000\" points=\"26286.5001,-271.13 26283,-261.13 26279.5001,-271.13 26286.5001,-271.13\"/>\n</g>\n<!-- 494 -->\n<g id=\"node495\" class=\"node\">\n<title>494</title>\n<polygon fill=\"#399de5\" stroke=\"#000000\" points=\"26551,-261 26427,-261 26427,-193 26551,-193 26551,-261\"/>\n<text text-anchor=\"middle\" x=\"26489\" y=\"-245.8\" font-family=\"Helvetica,sans-Serif\" font-size=\"14.00\" fill=\"#000000\">X[6] &lt;= 7.957</text>\n<text text-anchor=\"middle\" x=\"26489\" y=\"-230.8\" font-family=\"Helvetica,sans-Serif\" font-size=\"14.00\" fill=\"#000000\">entropy = 0.015</text>\n<text text-anchor=\"middle\" x=\"26489\" y=\"-215.8\" font-family=\"Helvetica,sans-Serif\" font-size=\"14.00\" fill=\"#000000\">samples = 6784</text>\n<text text-anchor=\"middle\" x=\"26489\" y=\"-200.8\" font-family=\"Helvetica,sans-Serif\" font-size=\"14.00\" fill=\"#000000\">value = [9, 6775]</text>\n</g>\n<!-- 488&#45;&gt;494 -->\n<g id=\"edge494\" class=\"edge\">\n<title>488&#45;&gt;494</title>\n<path fill=\"none\" stroke=\"#000000\" d=\"M26349.0297,-297.6646C26370.9575,-286.5943 26395.4629,-274.2226 26417.7656,-262.963\"/>\n<polygon fill=\"#000000\" stroke=\"#000000\" points=\"26419.4967,-266.0099 26426.8461,-258.3786 26416.3419,-259.7611 26419.4967,-266.0099\"/>\n</g>\n<!-- 490 -->\n<g id=\"node491\" class=\"node\">\n<title>490</title>\n<polygon fill=\"#42a1e6\" stroke=\"#000000\" points=\"26275,-157 26157,-157 26157,-89 26275,-89 26275,-157\"/>\n<text text-anchor=\"middle\" x=\"26216\" y=\"-141.8\" font-family=\"Helvetica,sans-Serif\" font-size=\"14.00\" fill=\"#000000\">X[6] &lt;= &#45;0.729</text>\n<text text-anchor=\"middle\" x=\"26216\" y=\"-126.8\" font-family=\"Helvetica,sans-Serif\" font-size=\"14.00\" fill=\"#000000\">entropy = 0.255</text>\n<text text-anchor=\"middle\" x=\"26216\" y=\"-111.8\" font-family=\"Helvetica,sans-Serif\" font-size=\"14.00\" fill=\"#000000\">samples = 70</text>\n<text text-anchor=\"middle\" x=\"26216\" y=\"-96.8\" font-family=\"Helvetica,sans-Serif\" font-size=\"14.00\" fill=\"#000000\">value = [3, 67]</text>\n</g>\n<!-- 489&#45;&gt;490 -->\n<g id=\"edge490\" class=\"edge\">\n<title>489&#45;&gt;490</title>\n<path fill=\"none\" stroke=\"#000000\" d=\"M26261.0617,-192.9465C26255.451,-184.2373 26249.3471,-174.7626 26243.4958,-165.6801\"/>\n<polygon fill=\"#000000\" stroke=\"#000000\" points=\"26246.3457,-163.641 26237.9876,-157.13 26240.4611,-167.4321 26246.3457,-163.641\"/>\n</g>\n<!-- 493 -->\n<g id=\"node494\" class=\"node\">\n<title>493</title>\n<polygon fill=\"#399de5\" stroke=\"#000000\" points=\"26409,-149.5 26293,-149.5 26293,-96.5 26409,-96.5 26409,-149.5\"/>\n<text text-anchor=\"middle\" x=\"26351\" y=\"-134.3\" font-family=\"Helvetica,sans-Serif\" font-size=\"14.00\" fill=\"#000000\">entropy = 0.0</text>\n<text text-anchor=\"middle\" x=\"26351\" y=\"-119.3\" font-family=\"Helvetica,sans-Serif\" font-size=\"14.00\" fill=\"#000000\">samples = 141</text>\n<text text-anchor=\"middle\" x=\"26351\" y=\"-104.3\" font-family=\"Helvetica,sans-Serif\" font-size=\"14.00\" fill=\"#000000\">value = [0, 141]</text>\n</g>\n<!-- 489&#45;&gt;493 -->\n<g id=\"edge493\" class=\"edge\">\n<title>489&#45;&gt;493</title>\n<path fill=\"none\" stroke=\"#000000\" d=\"M26305.2657,-192.9465C26312.5398,-181.8215 26320.6306,-169.4473 26327.9604,-158.237\"/>\n<polygon fill=\"#000000\" stroke=\"#000000\" points=\"26331.1024,-159.8273 26333.6455,-149.5422 26325.2436,-155.9965 26331.1024,-159.8273\"/>\n</g>\n<!-- 491 -->\n<g id=\"node492\" class=\"node\">\n<title>491</title>\n<polygon fill=\"#3c9ee5\" stroke=\"#000000\" points=\"26239,-53 26121,-53 26121,0 26239,0 26239,-53\"/>\n<text text-anchor=\"middle\" x=\"26180\" y=\"-37.8\" font-family=\"Helvetica,sans-Serif\" font-size=\"14.00\" fill=\"#000000\">entropy = 0.112</text>\n<text text-anchor=\"middle\" x=\"26180\" y=\"-22.8\" font-family=\"Helvetica,sans-Serif\" font-size=\"14.00\" fill=\"#000000\">samples = 67</text>\n<text text-anchor=\"middle\" x=\"26180\" y=\"-7.8\" font-family=\"Helvetica,sans-Serif\" font-size=\"14.00\" fill=\"#000000\">value = [1, 66]</text>\n</g>\n<!-- 490&#45;&gt;491 -->\n<g id=\"edge491\" class=\"edge\">\n<title>490&#45;&gt;491</title>\n<path fill=\"none\" stroke=\"#000000\" d=\"M26203.3077,-88.9777C26200.1308,-80.4617 26196.7116,-71.2963 26193.4971,-62.6798\"/>\n<polygon fill=\"#000000\" stroke=\"#000000\" points=\"26196.7533,-61.3944 26189.9787,-53.2485 26190.1948,-63.8411 26196.7533,-61.3944\"/>\n</g>\n<!-- 492 -->\n<g id=\"node493\" class=\"node\">\n<title>492</title>\n<polygon fill=\"#f2c09c\" stroke=\"#000000\" points=\"26375,-53 26257,-53 26257,0 26375,0 26375,-53\"/>\n<text text-anchor=\"middle\" x=\"26316\" y=\"-37.8\" font-family=\"Helvetica,sans-Serif\" font-size=\"14.00\" fill=\"#000000\">entropy = 0.918</text>\n<text text-anchor=\"middle\" x=\"26316\" y=\"-22.8\" font-family=\"Helvetica,sans-Serif\" font-size=\"14.00\" fill=\"#000000\">samples = 3</text>\n<text text-anchor=\"middle\" x=\"26316\" y=\"-7.8\" font-family=\"Helvetica,sans-Serif\" font-size=\"14.00\" fill=\"#000000\">value = [2, 1]</text>\n</g>\n<!-- 490&#45;&gt;492 -->\n<g id=\"edge492\" class=\"edge\">\n<title>490&#45;&gt;492</title>\n<path fill=\"none\" stroke=\"#000000\" d=\"M26251.2563,-88.9777C26260.9351,-79.6376 26271.4235,-69.5163 26281.0832,-60.1947\"/>\n<polygon fill=\"#000000\" stroke=\"#000000\" points=\"26283.5159,-62.7111 26288.2814,-53.2485 26278.6551,-57.674 26283.5159,-62.7111\"/>\n</g>\n<!-- 495 -->\n<g id=\"node496\" class=\"node\">\n<title>495</title>\n<polygon fill=\"#399de5\" stroke=\"#000000\" points=\"26551,-157 26427,-157 26427,-89 26551,-89 26551,-157\"/>\n<text text-anchor=\"middle\" x=\"26489\" y=\"-141.8\" font-family=\"Helvetica,sans-Serif\" font-size=\"14.00\" fill=\"#000000\">X[11] &lt;= 1.741</text>\n<text text-anchor=\"middle\" x=\"26489\" y=\"-126.8\" font-family=\"Helvetica,sans-Serif\" font-size=\"14.00\" fill=\"#000000\">entropy = 0.013</text>\n<text text-anchor=\"middle\" x=\"26489\" y=\"-111.8\" font-family=\"Helvetica,sans-Serif\" font-size=\"14.00\" fill=\"#000000\">samples = 6771</text>\n<text text-anchor=\"middle\" x=\"26489\" y=\"-96.8\" font-family=\"Helvetica,sans-Serif\" font-size=\"14.00\" fill=\"#000000\">value = [8, 6763]</text>\n</g>\n<!-- 494&#45;&gt;495 -->\n<g id=\"edge495\" class=\"edge\">\n<title>494&#45;&gt;495</title>\n<path fill=\"none\" stroke=\"#000000\" d=\"M26489,-192.9465C26489,-184.776 26489,-175.9318 26489,-167.3697\"/>\n<polygon fill=\"#000000\" stroke=\"#000000\" points=\"26492.5001,-167.13 26489,-157.13 26485.5001,-167.13 26492.5001,-167.13\"/>\n</g>\n<!-- 498 -->\n<g id=\"node499\" class=\"node\">\n<title>498</title>\n<polygon fill=\"#49a5e7\" stroke=\"#000000\" points=\"26755,-157 26637,-157 26637,-89 26755,-89 26755,-157\"/>\n<text text-anchor=\"middle\" x=\"26696\" y=\"-141.8\" font-family=\"Helvetica,sans-Serif\" font-size=\"14.00\" fill=\"#000000\">X[3] &lt;= 2.171</text>\n<text text-anchor=\"middle\" x=\"26696\" y=\"-126.8\" font-family=\"Helvetica,sans-Serif\" font-size=\"14.00\" fill=\"#000000\">entropy = 0.391</text>\n<text text-anchor=\"middle\" x=\"26696\" y=\"-111.8\" font-family=\"Helvetica,sans-Serif\" font-size=\"14.00\" fill=\"#000000\">samples = 13</text>\n<text text-anchor=\"middle\" x=\"26696\" y=\"-96.8\" font-family=\"Helvetica,sans-Serif\" font-size=\"14.00\" fill=\"#000000\">value = [1, 12]</text>\n</g>\n<!-- 494&#45;&gt;498 -->\n<g id=\"edge498\" class=\"edge\">\n<title>494&#45;&gt;498</title>\n<path fill=\"none\" stroke=\"#000000\" d=\"M26551.1068,-195.7966C26575.2892,-183.647 26603.081,-169.684 26627.8154,-157.257\"/>\n<polygon fill=\"#000000\" stroke=\"#000000\" points=\"26629.413,-160.3713 26636.7774,-152.7544 26626.2704,-154.1163 26629.413,-160.3713\"/>\n</g>\n<!-- 496 -->\n<g id=\"node497\" class=\"node\">\n<title>496</title>\n<polygon fill=\"#399de5\" stroke=\"#000000\" points=\"26517,-53 26393,-53 26393,0 26517,0 26517,-53\"/>\n<text text-anchor=\"middle\" x=\"26455\" y=\"-37.8\" font-family=\"Helvetica,sans-Serif\" font-size=\"14.00\" fill=\"#000000\">entropy = 0.021</text>\n<text text-anchor=\"middle\" x=\"26455\" y=\"-22.8\" font-family=\"Helvetica,sans-Serif\" font-size=\"14.00\" fill=\"#000000\">samples = 4024</text>\n<text text-anchor=\"middle\" x=\"26455\" y=\"-7.8\" font-family=\"Helvetica,sans-Serif\" font-size=\"14.00\" fill=\"#000000\">value = [8, 4016]</text>\n</g>\n<!-- 495&#45;&gt;496 -->\n<g id=\"edge496\" class=\"edge\">\n<title>495&#45;&gt;496</title>\n<path fill=\"none\" stroke=\"#000000\" d=\"M26477.0129,-88.9777C26474.0447,-80.5533 26470.8526,-71.4934 26467.8453,-62.9579\"/>\n<polygon fill=\"#000000\" stroke=\"#000000\" points=\"26471.0486,-61.5171 26464.4243,-53.2485 26464.4464,-63.8433 26471.0486,-61.5171\"/>\n</g>\n<!-- 497 -->\n<g id=\"node498\" class=\"node\">\n<title>497</title>\n<polygon fill=\"#399de5\" stroke=\"#000000\" points=\"26659,-53 26535,-53 26535,0 26659,0 26659,-53\"/>\n<text text-anchor=\"middle\" x=\"26597\" y=\"-37.8\" font-family=\"Helvetica,sans-Serif\" font-size=\"14.00\" fill=\"#000000\">entropy = 0.0</text>\n<text text-anchor=\"middle\" x=\"26597\" y=\"-22.8\" font-family=\"Helvetica,sans-Serif\" font-size=\"14.00\" fill=\"#000000\">samples = 2747</text>\n<text text-anchor=\"middle\" x=\"26597\" y=\"-7.8\" font-family=\"Helvetica,sans-Serif\" font-size=\"14.00\" fill=\"#000000\">value = [0, 2747]</text>\n</g>\n<!-- 495&#45;&gt;497 -->\n<g id=\"edge497\" class=\"edge\">\n<title>495&#45;&gt;497</title>\n<path fill=\"none\" stroke=\"#000000\" d=\"M26527.0768,-88.9777C26537.6324,-79.546 26549.0796,-69.3178 26559.5964,-59.9208\"/>\n<polygon fill=\"#000000\" stroke=\"#000000\" points=\"26561.939,-62.5213 26567.0639,-53.2485 26557.2749,-57.3015 26561.939,-62.5213\"/>\n</g>\n<!-- 499 -->\n<g id=\"node500\" class=\"node\">\n<title>499</title>\n<polygon fill=\"#399de5\" stroke=\"#000000\" points=\"26784.5,-53 26677.5,-53 26677.5,0 26784.5,0 26784.5,-53\"/>\n<text text-anchor=\"middle\" x=\"26731\" y=\"-37.8\" font-family=\"Helvetica,sans-Serif\" font-size=\"14.00\" fill=\"#000000\">entropy = 0.0</text>\n<text text-anchor=\"middle\" x=\"26731\" y=\"-22.8\" font-family=\"Helvetica,sans-Serif\" font-size=\"14.00\" fill=\"#000000\">samples = 12</text>\n<text text-anchor=\"middle\" x=\"26731\" y=\"-7.8\" font-family=\"Helvetica,sans-Serif\" font-size=\"14.00\" fill=\"#000000\">value = [0, 12]</text>\n</g>\n<!-- 498&#45;&gt;499 -->\n<g id=\"edge499\" class=\"edge\">\n<title>498&#45;&gt;499</title>\n<path fill=\"none\" stroke=\"#000000\" d=\"M26708.3397,-88.9777C26711.4284,-80.4617 26714.7526,-71.2963 26717.8778,-62.6798\"/>\n<polygon fill=\"#000000\" stroke=\"#000000\" points=\"26721.1791,-63.8426 26721.2985,-53.2485 26714.5985,-61.4559 26721.1791,-63.8426\"/>\n</g>\n<!-- 500 -->\n<g id=\"node501\" class=\"node\">\n<title>500</title>\n<polygon fill=\"#e58139\" stroke=\"#000000\" points=\"26903.5,-53 26802.5,-53 26802.5,0 26903.5,0 26903.5,-53\"/>\n<text text-anchor=\"middle\" x=\"26853\" y=\"-37.8\" font-family=\"Helvetica,sans-Serif\" font-size=\"14.00\" fill=\"#000000\">entropy = 0.0</text>\n<text text-anchor=\"middle\" x=\"26853\" y=\"-22.8\" font-family=\"Helvetica,sans-Serif\" font-size=\"14.00\" fill=\"#000000\">samples = 1</text>\n<text text-anchor=\"middle\" x=\"26853\" y=\"-7.8\" font-family=\"Helvetica,sans-Serif\" font-size=\"14.00\" fill=\"#000000\">value = [1, 0]</text>\n</g>\n<!-- 498&#45;&gt;500 -->\n<g id=\"edge500\" class=\"edge\">\n<title>498&#45;&gt;500</title>\n<path fill=\"none\" stroke=\"#000000\" d=\"M26751.3523,-88.9777C26767.442,-79.0882 26784.9566,-68.3229 26800.8429,-58.5583\"/>\n<polygon fill=\"#000000\" stroke=\"#000000\" points=\"26802.7951,-61.4667 26809.4818,-53.2485 26799.1296,-55.5032 26802.7951,-61.4667\"/>\n</g>\n<!-- 502 -->\n<g id=\"node503\" class=\"node\">\n<title>502</title>\n<polygon fill=\"#fdf5f0\" stroke=\"#000000\" points=\"26710,-573 26592,-573 26592,-505 26710,-505 26710,-573\"/>\n<text text-anchor=\"middle\" x=\"26651\" y=\"-557.8\" font-family=\"Helvetica,sans-Serif\" font-size=\"14.00\" fill=\"#000000\">X[11] &lt;= 0.416</text>\n<text text-anchor=\"middle\" x=\"26651\" y=\"-542.8\" font-family=\"Helvetica,sans-Serif\" font-size=\"14.00\" fill=\"#000000\">entropy = 0.999</text>\n<text text-anchor=\"middle\" x=\"26651\" y=\"-527.8\" font-family=\"Helvetica,sans-Serif\" font-size=\"14.00\" fill=\"#000000\">samples = 25</text>\n<text text-anchor=\"middle\" x=\"26651\" y=\"-512.8\" font-family=\"Helvetica,sans-Serif\" font-size=\"14.00\" fill=\"#000000\">value = [13, 12]</text>\n</g>\n<!-- 501&#45;&gt;502 -->\n<g id=\"edge502\" class=\"edge\">\n<title>501&#45;&gt;502</title>\n<path fill=\"none\" stroke=\"#000000\" d=\"M26651,-608.9465C26651,-600.776 26651,-591.9318 26651,-583.3697\"/>\n<polygon fill=\"#000000\" stroke=\"#000000\" points=\"26654.5001,-583.13 26651,-573.13 26647.5001,-583.13 26654.5001,-583.13\"/>\n</g>\n<!-- 511 -->\n<g id=\"node512\" class=\"node\">\n<title>511</title>\n<polygon fill=\"#399de5\" stroke=\"#000000\" points=\"26970,-573 26846,-573 26846,-505 26970,-505 26970,-573\"/>\n<text text-anchor=\"middle\" x=\"26908\" y=\"-557.8\" font-family=\"Helvetica,sans-Serif\" font-size=\"14.00\" fill=\"#000000\">X[11] &lt;= 3.181</text>\n<text text-anchor=\"middle\" x=\"26908\" y=\"-542.8\" font-family=\"Helvetica,sans-Serif\" font-size=\"14.00\" fill=\"#000000\">entropy = 0.008</text>\n<text text-anchor=\"middle\" x=\"26908\" y=\"-527.8\" font-family=\"Helvetica,sans-Serif\" font-size=\"14.00\" fill=\"#000000\">samples = 1426</text>\n<text text-anchor=\"middle\" x=\"26908\" y=\"-512.8\" font-family=\"Helvetica,sans-Serif\" font-size=\"14.00\" fill=\"#000000\">value = [1, 1425]</text>\n</g>\n<!-- 501&#45;&gt;511 -->\n<g id=\"edge511\" class=\"edge\">\n<title>501&#45;&gt;511</title>\n<path fill=\"none\" stroke=\"#000000\" d=\"M26717.1839,-616.2174C26753.6541,-601.459 26798.9606,-583.1249 26836.2735,-568.0255\"/>\n<polygon fill=\"#000000\" stroke=\"#000000\" points=\"26837.6205,-571.2562 26845.5773,-564.2605 26834.9946,-564.7674 26837.6205,-571.2562\"/>\n</g>\n<!-- 503 -->\n<g id=\"node504\" class=\"node\">\n<title>503</title>\n<polygon fill=\"#e58139\" stroke=\"#000000\" points=\"26637.5,-461.5 26536.5,-461.5 26536.5,-408.5 26637.5,-408.5 26637.5,-461.5\"/>\n<text text-anchor=\"middle\" x=\"26587\" y=\"-446.3\" font-family=\"Helvetica,sans-Serif\" font-size=\"14.00\" fill=\"#000000\">entropy = 0.0</text>\n<text text-anchor=\"middle\" x=\"26587\" y=\"-431.3\" font-family=\"Helvetica,sans-Serif\" font-size=\"14.00\" fill=\"#000000\">samples = 9</text>\n<text text-anchor=\"middle\" x=\"26587\" y=\"-416.3\" font-family=\"Helvetica,sans-Serif\" font-size=\"14.00\" fill=\"#000000\">value = [9, 0]</text>\n</g>\n<!-- 502&#45;&gt;503 -->\n<g id=\"edge503\" class=\"edge\">\n<title>502&#45;&gt;503</title>\n<path fill=\"none\" stroke=\"#000000\" d=\"M26630.044,-504.9465C26623.1978,-493.8215 26615.5829,-481.4473 26608.6843,-470.237\"/>\n<polygon fill=\"#000000\" stroke=\"#000000\" points=\"26611.5555,-468.2244 26603.3336,-461.5422 26605.5939,-471.8931 26611.5555,-468.2244\"/>\n</g>\n<!-- 504 -->\n<g id=\"node505\" class=\"node\">\n<title>504</title>\n<polygon fill=\"#7bbeee\" stroke=\"#000000\" points=\"26774,-469 26656,-469 26656,-401 26774,-401 26774,-469\"/>\n<text text-anchor=\"middle\" x=\"26715\" y=\"-453.8\" font-family=\"Helvetica,sans-Serif\" font-size=\"14.00\" fill=\"#000000\">X[18] &lt;= 1.591</text>\n<text text-anchor=\"middle\" x=\"26715\" y=\"-438.8\" font-family=\"Helvetica,sans-Serif\" font-size=\"14.00\" fill=\"#000000\">entropy = 0.811</text>\n<text text-anchor=\"middle\" x=\"26715\" y=\"-423.8\" font-family=\"Helvetica,sans-Serif\" font-size=\"14.00\" fill=\"#000000\">samples = 16</text>\n<text text-anchor=\"middle\" x=\"26715\" y=\"-408.8\" font-family=\"Helvetica,sans-Serif\" font-size=\"14.00\" fill=\"#000000\">value = [4, 12]</text>\n</g>\n<!-- 502&#45;&gt;504 -->\n<g id=\"edge504\" class=\"edge\">\n<title>502&#45;&gt;504</title>\n<path fill=\"none\" stroke=\"#000000\" d=\"M26671.956,-504.9465C26677.3155,-496.2373 26683.1461,-486.7626 26688.7353,-477.6801\"/>\n<polygon fill=\"#000000\" stroke=\"#000000\" points=\"26691.7367,-479.481 26693.9969,-469.13 26685.7751,-475.8122 26691.7367,-479.481\"/>\n</g>\n<!-- 505 -->\n<g id=\"node506\" class=\"node\">\n<title>505</title>\n<polygon fill=\"#5aade9\" stroke=\"#000000\" points=\"26717,-365 26599,-365 26599,-297 26717,-297 26717,-365\"/>\n<text text-anchor=\"middle\" x=\"26658\" y=\"-349.8\" font-family=\"Helvetica,sans-Serif\" font-size=\"14.00\" fill=\"#000000\">X[3] &lt;= 3.346</text>\n<text text-anchor=\"middle\" x=\"26658\" y=\"-334.8\" font-family=\"Helvetica,sans-Serif\" font-size=\"14.00\" fill=\"#000000\">entropy = 0.592</text>\n<text text-anchor=\"middle\" x=\"26658\" y=\"-319.8\" font-family=\"Helvetica,sans-Serif\" font-size=\"14.00\" fill=\"#000000\">samples = 14</text>\n<text text-anchor=\"middle\" x=\"26658\" y=\"-304.8\" font-family=\"Helvetica,sans-Serif\" font-size=\"14.00\" fill=\"#000000\">value = [2, 12]</text>\n</g>\n<!-- 504&#45;&gt;505 -->\n<g id=\"edge505\" class=\"edge\">\n<title>504&#45;&gt;505</title>\n<path fill=\"none\" stroke=\"#000000\" d=\"M26696.3361,-400.9465C26691.612,-392.3271 26686.4769,-382.9579 26681.546,-373.9611\"/>\n<polygon fill=\"#000000\" stroke=\"#000000\" points=\"26684.5814,-372.2171 26676.7059,-365.13 26678.4429,-375.5815 26684.5814,-372.2171\"/>\n</g>\n<!-- 510 -->\n<g id=\"node511\" class=\"node\">\n<title>510</title>\n<polygon fill=\"#e58139\" stroke=\"#000000\" points=\"26836.5,-357.5 26735.5,-357.5 26735.5,-304.5 26836.5,-304.5 26836.5,-357.5\"/>\n<text text-anchor=\"middle\" x=\"26786\" y=\"-342.3\" font-family=\"Helvetica,sans-Serif\" font-size=\"14.00\" fill=\"#000000\">entropy = 0.0</text>\n<text text-anchor=\"middle\" x=\"26786\" y=\"-327.3\" font-family=\"Helvetica,sans-Serif\" font-size=\"14.00\" fill=\"#000000\">samples = 2</text>\n<text text-anchor=\"middle\" x=\"26786\" y=\"-312.3\" font-family=\"Helvetica,sans-Serif\" font-size=\"14.00\" fill=\"#000000\">value = [2, 0]</text>\n</g>\n<!-- 504&#45;&gt;510 -->\n<g id=\"edge510\" class=\"edge\">\n<title>504&#45;&gt;510</title>\n<path fill=\"none\" stroke=\"#000000\" d=\"M26738.2481,-400.9465C26745.9182,-389.7113 26754.4582,-377.2021 26762.1711,-365.9043\"/>\n<polygon fill=\"#000000\" stroke=\"#000000\" points=\"26765.1322,-367.7745 26767.8799,-357.5422 26759.3509,-363.8277 26765.1322,-367.7745\"/>\n</g>\n<!-- 506 -->\n<g id=\"node507\" class=\"node\">\n<title>506</title>\n<polygon fill=\"#399de5\" stroke=\"#000000\" points=\"26708.5,-253.5 26607.5,-253.5 26607.5,-200.5 26708.5,-200.5 26708.5,-253.5\"/>\n<text text-anchor=\"middle\" x=\"26658\" y=\"-238.3\" font-family=\"Helvetica,sans-Serif\" font-size=\"14.00\" fill=\"#000000\">entropy = 0.0</text>\n<text text-anchor=\"middle\" x=\"26658\" y=\"-223.3\" font-family=\"Helvetica,sans-Serif\" font-size=\"14.00\" fill=\"#000000\">samples = 9</text>\n<text text-anchor=\"middle\" x=\"26658\" y=\"-208.3\" font-family=\"Helvetica,sans-Serif\" font-size=\"14.00\" fill=\"#000000\">value = [0, 9]</text>\n</g>\n<!-- 505&#45;&gt;506 -->\n<g id=\"edge506\" class=\"edge\">\n<title>505&#45;&gt;506</title>\n<path fill=\"none\" stroke=\"#000000\" d=\"M26658,-296.9465C26658,-286.2621 26658,-274.4254 26658,-263.5742\"/>\n<polygon fill=\"#000000\" stroke=\"#000000\" points=\"26661.5001,-263.5421 26658,-253.5422 26654.5001,-263.5422 26661.5001,-263.5421\"/>\n</g>\n<!-- 507 -->\n<g id=\"node508\" class=\"node\">\n<title>507</title>\n<polygon fill=\"#bddef6\" stroke=\"#000000\" points=\"26883,-261 26765,-261 26765,-193 26883,-193 26883,-261\"/>\n<text text-anchor=\"middle\" x=\"26824\" y=\"-245.8\" font-family=\"Helvetica,sans-Serif\" font-size=\"14.00\" fill=\"#000000\">X[6] &lt;= 0.911</text>\n<text text-anchor=\"middle\" x=\"26824\" y=\"-230.8\" font-family=\"Helvetica,sans-Serif\" font-size=\"14.00\" fill=\"#000000\">entropy = 0.971</text>\n<text text-anchor=\"middle\" x=\"26824\" y=\"-215.8\" font-family=\"Helvetica,sans-Serif\" font-size=\"14.00\" fill=\"#000000\">samples = 5</text>\n<text text-anchor=\"middle\" x=\"26824\" y=\"-200.8\" font-family=\"Helvetica,sans-Serif\" font-size=\"14.00\" fill=\"#000000\">value = [2, 3]</text>\n</g>\n<!-- 505&#45;&gt;507 -->\n<g id=\"edge507\" class=\"edge\">\n<title>505&#45;&gt;507</title>\n<path fill=\"none\" stroke=\"#000000\" d=\"M26712.3546,-296.9465C26727.8322,-287.2497 26744.8246,-276.6039 26760.7812,-266.6069\"/>\n<polygon fill=\"#000000\" stroke=\"#000000\" points=\"26762.9072,-269.4052 26769.5233,-261.13 26759.1908,-263.4732 26762.9072,-269.4052\"/>\n</g>\n<!-- 508 -->\n<g id=\"node509\" class=\"node\">\n<title>508</title>\n<polygon fill=\"#e58139\" stroke=\"#000000\" points=\"26874.5,-149.5 26773.5,-149.5 26773.5,-96.5 26874.5,-96.5 26874.5,-149.5\"/>\n<text text-anchor=\"middle\" x=\"26824\" y=\"-134.3\" font-family=\"Helvetica,sans-Serif\" font-size=\"14.00\" fill=\"#000000\">entropy = 0.0</text>\n<text text-anchor=\"middle\" x=\"26824\" y=\"-119.3\" font-family=\"Helvetica,sans-Serif\" font-size=\"14.00\" fill=\"#000000\">samples = 2</text>\n<text text-anchor=\"middle\" x=\"26824\" y=\"-104.3\" font-family=\"Helvetica,sans-Serif\" font-size=\"14.00\" fill=\"#000000\">value = [2, 0]</text>\n</g>\n<!-- 507&#45;&gt;508 -->\n<g id=\"edge508\" class=\"edge\">\n<title>507&#45;&gt;508</title>\n<path fill=\"none\" stroke=\"#000000\" d=\"M26824,-192.9465C26824,-182.2621 26824,-170.4254 26824,-159.5742\"/>\n<polygon fill=\"#000000\" stroke=\"#000000\" points=\"26827.5001,-159.5421 26824,-149.5422 26820.5001,-159.5422 26827.5001,-159.5421\"/>\n</g>\n<!-- 509 -->\n<g id=\"node510\" class=\"node\">\n<title>509</title>\n<polygon fill=\"#399de5\" stroke=\"#000000\" points=\"26993.5,-149.5 26892.5,-149.5 26892.5,-96.5 26993.5,-96.5 26993.5,-149.5\"/>\n<text text-anchor=\"middle\" x=\"26943\" y=\"-134.3\" font-family=\"Helvetica,sans-Serif\" font-size=\"14.00\" fill=\"#000000\">entropy = 0.0</text>\n<text text-anchor=\"middle\" x=\"26943\" y=\"-119.3\" font-family=\"Helvetica,sans-Serif\" font-size=\"14.00\" fill=\"#000000\">samples = 3</text>\n<text text-anchor=\"middle\" x=\"26943\" y=\"-104.3\" font-family=\"Helvetica,sans-Serif\" font-size=\"14.00\" fill=\"#000000\">value = [0, 3]</text>\n</g>\n<!-- 507&#45;&gt;509 -->\n<g id=\"edge509\" class=\"edge\">\n<title>507&#45;&gt;509</title>\n<path fill=\"none\" stroke=\"#000000\" d=\"M26862.9651,-192.9465C26876.4509,-181.1606 26891.5409,-167.9726 26904.9521,-156.2519\"/>\n<polygon fill=\"#000000\" stroke=\"#000000\" points=\"26907.4031,-158.7582 26912.6296,-149.5422 26902.7967,-153.4874 26907.4031,-158.7582\"/>\n</g>\n<!-- 512 -->\n<g id=\"node513\" class=\"node\">\n<title>512</title>\n<polygon fill=\"#3ea0e6\" stroke=\"#000000\" points=\"26967,-469 26849,-469 26849,-401 26967,-401 26967,-469\"/>\n<text text-anchor=\"middle\" x=\"26908\" y=\"-453.8\" font-family=\"Helvetica,sans-Serif\" font-size=\"14.00\" fill=\"#000000\">X[10] &lt;= 3.685</text>\n<text text-anchor=\"middle\" x=\"26908\" y=\"-438.8\" font-family=\"Helvetica,sans-Serif\" font-size=\"14.00\" fill=\"#000000\">entropy = 0.176</text>\n<text text-anchor=\"middle\" x=\"26908\" y=\"-423.8\" font-family=\"Helvetica,sans-Serif\" font-size=\"14.00\" fill=\"#000000\">samples = 38</text>\n<text text-anchor=\"middle\" x=\"26908\" y=\"-408.8\" font-family=\"Helvetica,sans-Serif\" font-size=\"14.00\" fill=\"#000000\">value = [1, 37]</text>\n</g>\n<!-- 511&#45;&gt;512 -->\n<g id=\"edge512\" class=\"edge\">\n<title>511&#45;&gt;512</title>\n<path fill=\"none\" stroke=\"#000000\" d=\"M26908,-504.9465C26908,-496.776 26908,-487.9318 26908,-479.3697\"/>\n<polygon fill=\"#000000\" stroke=\"#000000\" points=\"26911.5001,-479.13 26908,-469.13 26904.5001,-479.13 26911.5001,-479.13\"/>\n</g>\n<!-- 515 -->\n<g id=\"node516\" class=\"node\">\n<title>515</title>\n<polygon fill=\"#399de5\" stroke=\"#000000\" points=\"27109,-461.5 26985,-461.5 26985,-408.5 27109,-408.5 27109,-461.5\"/>\n<text text-anchor=\"middle\" x=\"27047\" y=\"-446.3\" font-family=\"Helvetica,sans-Serif\" font-size=\"14.00\" fill=\"#000000\">entropy = 0.0</text>\n<text text-anchor=\"middle\" x=\"27047\" y=\"-431.3\" font-family=\"Helvetica,sans-Serif\" font-size=\"14.00\" fill=\"#000000\">samples = 1388</text>\n<text text-anchor=\"middle\" x=\"27047\" y=\"-416.3\" font-family=\"Helvetica,sans-Serif\" font-size=\"14.00\" fill=\"#000000\">value = [0, 1388]</text>\n</g>\n<!-- 511&#45;&gt;515 -->\n<g id=\"edge515\" class=\"edge\">\n<title>511&#45;&gt;515</title>\n<path fill=\"none\" stroke=\"#000000\" d=\"M26953.5138,-504.9465C26969.5606,-492.9403 26987.5519,-479.4791 27003.4339,-467.5962\"/>\n<polygon fill=\"#000000\" stroke=\"#000000\" points=\"27005.6152,-470.3354 27011.5254,-461.5422 27001.4217,-464.7306 27005.6152,-470.3354\"/>\n</g>\n<!-- 513 -->\n<g id=\"node514\" class=\"node\">\n<title>513</title>\n<polygon fill=\"#399de5\" stroke=\"#000000\" points=\"26961.5,-357.5 26854.5,-357.5 26854.5,-304.5 26961.5,-304.5 26961.5,-357.5\"/>\n<text text-anchor=\"middle\" x=\"26908\" y=\"-342.3\" font-family=\"Helvetica,sans-Serif\" font-size=\"14.00\" fill=\"#000000\">entropy = 0.0</text>\n<text text-anchor=\"middle\" x=\"26908\" y=\"-327.3\" font-family=\"Helvetica,sans-Serif\" font-size=\"14.00\" fill=\"#000000\">samples = 37</text>\n<text text-anchor=\"middle\" x=\"26908\" y=\"-312.3\" font-family=\"Helvetica,sans-Serif\" font-size=\"14.00\" fill=\"#000000\">value = [0, 37]</text>\n</g>\n<!-- 512&#45;&gt;513 -->\n<g id=\"edge513\" class=\"edge\">\n<title>512&#45;&gt;513</title>\n<path fill=\"none\" stroke=\"#000000\" d=\"M26908,-400.9465C26908,-390.2621 26908,-378.4254 26908,-367.5742\"/>\n<polygon fill=\"#000000\" stroke=\"#000000\" points=\"26911.5001,-367.5421 26908,-357.5422 26904.5001,-367.5422 26911.5001,-367.5421\"/>\n</g>\n<!-- 514 -->\n<g id=\"node515\" class=\"node\">\n<title>514</title>\n<polygon fill=\"#e58139\" stroke=\"#000000\" points=\"27080.5,-357.5 26979.5,-357.5 26979.5,-304.5 27080.5,-304.5 27080.5,-357.5\"/>\n<text text-anchor=\"middle\" x=\"27030\" y=\"-342.3\" font-family=\"Helvetica,sans-Serif\" font-size=\"14.00\" fill=\"#000000\">entropy = 0.0</text>\n<text text-anchor=\"middle\" x=\"27030\" y=\"-327.3\" font-family=\"Helvetica,sans-Serif\" font-size=\"14.00\" fill=\"#000000\">samples = 1</text>\n<text text-anchor=\"middle\" x=\"27030\" y=\"-312.3\" font-family=\"Helvetica,sans-Serif\" font-size=\"14.00\" fill=\"#000000\">value = [1, 0]</text>\n</g>\n<!-- 512&#45;&gt;514 -->\n<g id=\"edge514\" class=\"edge\">\n<title>512&#45;&gt;514</title>\n<path fill=\"none\" stroke=\"#000000\" d=\"M26947.9474,-400.9465C26961.7732,-389.1606 26977.2436,-375.9726 26990.9929,-364.2519\"/>\n<polygon fill=\"#000000\" stroke=\"#000000\" points=\"26993.5244,-366.6931 26998.864,-357.5422 26988.9832,-361.366 26993.5244,-366.6931\"/>\n</g>\n</g>\n</svg>\n"
          },
          "metadata": {},
          "execution_count": 81
        }
      ],
      "source": [
        "iris = datasets.load_iris()\n",
        "\n",
        "dot_data = sklearn.tree.export_graphviz(dt_model, out_file=None, \n",
        "                                filled=True )\n",
        "#graph = pp.graph_from_dot_data(dot_data)\n",
        "graph = graphviz.Source(dot_data, format=\"png\") \n",
        "graph\n",
        "#graph.write_png('decisiontree.png')"
      ]
    },
    {
      "cell_type": "markdown",
      "metadata": {
        "id": "ueIgpMBm0d8U"
      },
      "source": [
        "###Random Forest "
      ]
    },
    {
      "cell_type": "code",
      "execution_count": null,
      "metadata": {
        "colab": {
          "base_uri": "https://localhost:8080/"
        },
        "id": "yIZj-xlw0c9u",
        "outputId": "2f2b11b8-8cf0-4c9d-f9cc-7068eacd53c4"
      },
      "outputs": [
        {
          "output_type": "execute_result",
          "data": {
            "text/plain": [
              "RandomForestClassifier(n_estimators=50)"
            ]
          },
          "metadata": {},
          "execution_count": 172
        }
      ],
      "source": [
        "rf= RandomForestClassifier(n_estimators=50)\n",
        "rf.fit(X_train,y_train)"
      ]
    },
    {
      "cell_type": "code",
      "execution_count": null,
      "metadata": {
        "id": "4nL7KTDG0tRz"
      },
      "outputs": [],
      "source": [
        "rf_pre=rf.predict(X_test)"
      ]
    },
    {
      "cell_type": "code",
      "execution_count": null,
      "metadata": {
        "id": "4TN6pc_f0y_a",
        "colab": {
          "base_uri": "https://localhost:8080/"
        },
        "outputId": "5f6701ae-fd6c-4bf3-8251-38b10a0731fc"
      },
      "outputs": [
        {
          "output_type": "stream",
          "name": "stdout",
          "text": [
            "[[ 5895  2178]\n",
            " [   85 66448]]\n"
          ]
        }
      ],
      "source": [
        "confmatrix_rf = confusion_matrix(y_test,rf_pre)\n",
        "print(confmatrix_rf)"
      ]
    },
    {
      "cell_type": "code",
      "source": [
        "cm_display_rf = met.ConfusionMatrixDisplay(confusion_matrix = confmatrix_rf, display_labels = [False, True])\n",
        "\n",
        "cm_display_rf.plot()\n",
        "plt.title('Confusion Matrix of Random Forest Model')\n",
        "plt.show()"
      ],
      "metadata": {
        "colab": {
          "base_uri": "https://localhost:8080/",
          "height": 295
        },
        "outputId": "3fd79dd9-20a2-4b30-f4ba-49fda1934428",
        "id": "7ec7kA7jRLwE"
      },
      "execution_count": null,
      "outputs": [
        {
          "output_type": "display_data",
          "data": {
            "text/plain": [
              "<Figure size 432x288 with 2 Axes>"
            ],
            "image/png": "[encoded data removed]"
          },
          "metadata": {
            "needs_background": "light"
          }
        }
      ]
    },
    {
      "cell_type": "code",
      "execution_count": null,
      "metadata": {
        "colab": {
          "base_uri": "https://localhost:8080/"
        },
        "id": "XTWuygrG1Oad",
        "outputId": "ccb2512c-8dbb-4546-9032-c54f31a1cd5c"
      },
      "outputs": [
        {
          "output_type": "stream",
          "name": "stdout",
          "text": [
            "              precision    recall  f1-score   support\n",
            "\n",
            "           0       0.99      0.73      0.84      8073\n",
            "           1       0.97      1.00      0.98     66533\n",
            "\n",
            "    accuracy                           0.97     74606\n",
            "   macro avg       0.98      0.86      0.91     74606\n",
            "weighted avg       0.97      0.97      0.97     74606\n",
            "\n"
          ]
        }
      ],
      "source": [
        "print(classification_report(y_test,rf_pre))"
      ]
    },
    {
      "cell_type": "code",
      "source": [
        "y_pred_proba_rf = rf.predict_proba(X_test)[::,1]\n",
        "fp, tp, _ = met.roc_curve(y_test, y_pred_proba_rf)\n",
        "auc_rf = met.roc_auc_score(y_test,y_pred_proba_rf)\n",
        "plt.plot(fp,tp,label='kurva ROC Random Forest, auc='+str(auc_rf))\n",
        "plt.legend()\n",
        "plt.show()"
      ],
      "metadata": {
        "colab": {
          "base_uri": "https://localhost:8080/",
          "height": 265
        },
        "outputId": "af5fc996-3a4d-46be-8637-386f7307578b",
        "id": "cg9dQblqRLwG"
      },
      "execution_count": null,
      "outputs": [
        {
          "output_type": "display_data",
          "data": {
            "text/plain": [
              "<Figure size 432x288 with 1 Axes>"
            ],
            "image/png": "[encoded data removed]"
          },
          "metadata": {
            "needs_background": "light"
          }
        }
      ]
    },
    {
      "cell_type": "code",
      "execution_count": null,
      "metadata": {
        "colab": {
          "base_uri": "https://localhost:8080/"
        },
        "outputId": "5a4eeedc-7e2e-4189-8a89-9b0efa687e8d",
        "id": "eBd9UheIRLwH"
      },
      "outputs": [
        {
          "output_type": "stream",
          "name": "stdout",
          "text": [
            "Accuracy : 0.9696673189823874\n",
            "Precision : 0.9682627575554454\n",
            "Sensitivity : 0.9987224384891707\n"
          ]
        }
      ],
      "source": [
        "print('Accuracy :',met.accuracy_score(y_test,rf_pre))\n",
        "print('Precision :',met.precision_score(y_test,rf_pre))\n",
        "print('Sensitivity :',met.recall_score(y_test,rf_pre))\n",
        "#print(met.roc_auc_score(y_test,y_pred_LDA))"
      ]
    },
    {
      "cell_type": "code",
      "source": [
        "print('Jumlah error tipe 1 adalah',confmatrix_rf[0][1] )\n",
        "print('Jumlah error tipe 2 adalah',confmatrix_rf[1][0] )\n",
        "print('Error rate :', 1-met.accuracy_score(y_test,rf_pre))"
      ],
      "metadata": {
        "colab": {
          "base_uri": "https://localhost:8080/"
        },
        "outputId": "38a55618-b3c0-4a07-b517-52b29de27386",
        "id": "_cVt6hy3RLwI"
      },
      "execution_count": null,
      "outputs": [
        {
          "output_type": "stream",
          "name": "stdout",
          "text": [
            "Jumlah error tipe 1 adalah 2178\n",
            "Jumlah error tipe 2 adalah 85\n",
            "Error rate : 0.03033268101761255\n"
          ]
        }
      ]
    },
    {
      "cell_type": "code",
      "execution_count": null,
      "metadata": {
        "colab": {
          "base_uri": "https://localhost:8080/"
        },
        "id": "kkOslOTnl7zD",
        "outputId": "09df9ce0-2eb0-472a-8587-962b17388ac7"
      },
      "outputs": [
        {
          "output_type": "stream",
          "name": "stdout",
          "text": [
            "[0.06458589 0.00768742 0.04149876 0.08956728 0.01625438 0.0070936\n",
            " 0.03235382 0.00808571 0.01049834 0.02808249 0.09375473 0.15503381\n",
            " 0.35160902 0.07979447 0.00180043 0.00202954 0.00359597 0.00264033\n",
            " 0.00203146 0.0015465  0.00045604]\n"
          ]
        }
      ],
      "source": [
        "print(rf.feature_importances_)"
      ]
    },
    {
      "cell_type": "code",
      "execution_count": null,
      "metadata": {
        "id": "lwNMtA_Sfu81"
      },
      "outputs": [],
      "source": []
    }
  ],
  "metadata": {
    "colab": {
      "collapsed_sections": [
        "v9EKF-7kG5T6",
        "rTtoFmucHB6x",
        "CiKp_sqyHJOF",
        "nzG9S_-8Y0av",
        "2YKNKwPNj325",
        "-NHpZqlFAq1k",
        "ILXssnWVNlWt",
        "nKwRNfMoNtH_",
        "ynuSNI1pJckh",
        "r_HZKWBiBfEf",
        "B7CsTjrVXDL6",
        "RwZjN6f9WH0R",
        "xgBs3DAIvhnO"
      ],
      "provenance": []
    },
    "kernelspec": {
      "display_name": "Python 3",
      "name": "python3"
    },
    "language_info": {
      "name": "python"
    }
  },
  "nbformat": 4,
  "nbformat_minor": 0
}